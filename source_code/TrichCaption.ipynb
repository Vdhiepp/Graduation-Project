{
 "cells": [
  {
   "cell_type": "code",
   "execution_count": 1,
   "id": "c09c5f65",
   "metadata": {},
   "outputs": [],
   "source": [
    "import json\n",
    "import spacy\n",
    "from tqdm import tqdm\n",
    "from collections import defaultdict"
   ]
  },
  {
   "cell_type": "code",
   "execution_count": 2,
   "id": "d381d168",
   "metadata": {},
   "outputs": [
    {
     "name": "stdout",
     "output_type": "stream",
     "text": [
      "Số ảnh có object: 117266\n"
     ]
    }
   ],
   "source": [
    "# Load NLP model\n",
    "nlp = spacy.load(\"en_core_web_sm\")\n",
    "\n",
    "# === STEP 1: Load object instances ===\n",
    "with open(\"E:/Download/annotations/instances_train2017.json\", \"r\") as f:\n",
    "    instances = json.load(f)\n",
    "\n",
    "# Tạo từ điển: {image_id: set(object_names)}\n",
    "image_objects = defaultdict(set)\n",
    "\n",
    "# Map từ category_id -> name\n",
    "category_id2name = {cat[\"id\"]: cat[\"name\"] for cat in instances[\"categories\"]}\n",
    "\n",
    "for anno in instances[\"annotations\"]:\n",
    "    image_id = anno[\"image_id\"]\n",
    "    cat_id = anno[\"category_id\"]\n",
    "    object_name = category_id2name[cat_id]\n",
    "    image_objects[image_id].add(object_name)\n",
    "\n",
    "print(\"Số ảnh có object:\", len(image_objects))"
   ]
  },
  {
   "cell_type": "code",
   "execution_count": 3,
   "id": "0d7463a0",
   "metadata": {},
   "outputs": [],
   "source": [
    "# === STEP 2: Load captions & extract triplets ===\n",
    "with open(\"E:/Download/annotations/captions_train2017.json\", \"r\") as f:\n",
    "    captions_data = json.load(f)\n",
    "\n",
    "# Map: {image_id: [captions]}\n",
    "image_captions = defaultdict(list)\n",
    "for cap in captions_data[\"annotations\"]:\n",
    "    image_captions[cap[\"image_id\"]].append(cap[\"caption\"])\n",
    "\n",
    "# Hàm NLP trích (subject, relation, object) từ caption\n",
    "def extract_triplets(sentence):\n",
    "    doc = nlp(sentence)\n",
    "    triplets = []\n",
    "\n",
    "    for token in doc:\n",
    "        # Tìm các verb có subject và object\n",
    "        if token.pos_ == \"VERB\":\n",
    "            subj = [w.text.lower() for w in token.lefts if w.dep_ in (\"nsubj\", \"nsubjpass\")]\n",
    "            obj = [w.text.lower() for w in token.rights if w.dep_ in (\"dobj\", \"attr\", \"pobj\")]\n",
    "\n",
    "            for s in subj:\n",
    "                for o in obj:\n",
    "                    triplets.append((s, token.lemma_.lower(), o))\n",
    "    return triplets"
   ]
  },
  {
   "cell_type": "code",
   "execution_count": 4,
   "id": "238f42df",
   "metadata": {},
   "outputs": [
    {
     "name": "stderr",
     "output_type": "stream",
     "text": [
      "100%|████████████████████████████████████████████████████████████████████████| 118287/118287 [3:09:59<00:00, 10.38it/s]"
     ]
    },
    {
     "name": "stdout",
     "output_type": "stream",
     "text": [
      "Tổng số triplets hợp lệ: 1649\n"
     ]
    },
    {
     "name": "stderr",
     "output_type": "stream",
     "text": [
      "\n"
     ]
    }
   ],
   "source": [
    "# === STEP 3: Ghép object và relation thành KG triplets ===\n",
    "knowledge_graph = []\n",
    "\n",
    "for image_id in tqdm(image_captions):\n",
    "    captions = image_captions[image_id]\n",
    "    objects = image_objects.get(image_id, set())\n",
    "\n",
    "    for cap in captions:\n",
    "        triplets = extract_triplets(cap)\n",
    "        for subj, rel, obj in triplets:\n",
    "            # Chỉ giữ nếu cả subject và object đều là object thực sự trong ảnh\n",
    "            if subj in objects and obj in objects:\n",
    "                knowledge_graph.append({\n",
    "                    \"image_id\": image_id,\n",
    "                    \"subject\": subj,\n",
    "                    \"relation\": rel,\n",
    "                    \"object\": obj,\n",
    "                    \"caption\": cap\n",
    "                })\n",
    "\n",
    "print(f\"Tổng số triplets hợp lệ: {len(knowledge_graph)}\")"
   ]
  },
  {
   "cell_type": "code",
   "execution_count": 5,
   "id": "7ed4ed25",
   "metadata": {},
   "outputs": [
    {
     "name": "stdout",
     "output_type": "stream",
     "text": [
      "✅ Đã lưu file coco_kg_triplets.json\n"
     ]
    }
   ],
   "source": [
    "import json\n",
    "\n",
    "with open(\"coco_kg_triplets.json\", \"w\", encoding=\"utf-8\") as f:\n",
    "    json.dump(knowledge_graph, f, indent=2, ensure_ascii=False)\n",
    "\n",
    "print(\"✅ Đã lưu file coco_kg_triplets.json\")"
   ]
  },
  {
   "cell_type": "code",
   "execution_count": 6,
   "id": "699b33bd",
   "metadata": {},
   "outputs": [
    {
     "name": "stdout",
     "output_type": "stream",
     "text": [
      "✅ Đã lưu file coco_kg_triplets.csv\n"
     ]
    }
   ],
   "source": [
    "import csv\n",
    "\n",
    "with open(\"coco_kg_triplets.csv\", \"w\", newline='', encoding=\"utf-8\") as f:\n",
    "    writer = csv.DictWriter(f, fieldnames=[\"image_id\", \"subject\", \"relation\", \"object\", \"caption\"])\n",
    "    writer.writeheader()\n",
    "    for row in knowledge_graph:\n",
    "        writer.writerow(row)\n",
    "\n",
    "print(\"✅ Đã lưu file coco_kg_triplets.csv\")"
   ]
  }
 ],
 "metadata": {
  "kernelspec": {
   "display_name": "Python 3 (ipykernel)",
   "language": "python",
   "name": "python3"
  },
  "language_info": {
   "codemirror_mode": {
    "name": "ipython",
    "version": 3
   },
   "file_extension": ".py",
   "mimetype": "text/x-python",
   "name": "python",
   "nbconvert_exporter": "python",
   "pygments_lexer": "ipython3",
   "version": "3.8.20"
  }
 },
 "nbformat": 4,
 "nbformat_minor": 5
}
