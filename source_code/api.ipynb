{
 "cells": [
  {
   "cell_type": "code",
   "execution_count": 7,
   "id": "56fe5d5f",
   "metadata": {},
   "outputs": [],
   "source": [
    "import pickle\n",
    "import nest_asyncio\n",
    "import uvicorn\n",
    "from fastapi import FastAPI\n",
    "from pydantic import BaseModel\n",
    "from typing import List\n",
    "import pickle\n",
    "\n",
    "# Cho phép FastAPI chạy trong Jupyter\n",
    "nest_asyncio.apply()"
   ]
  },
  {
   "cell_type": "code",
   "execution_count": 5,
   "id": "75556549",
   "metadata": {},
   "outputs": [],
   "source": [
    "# Định nghĩa lại sau khi load dữ liệu\n",
    "def find_related_images(query_image_id, top_k=5):\n",
    "    related_entities = set(df[df['image_id'] == query_image_id]['subject_id']) | \\\n",
    "                       set(df[df['image_id'] == query_image_id]['object_id'])\n",
    "    if not related_entities:\n",
    "        return []\n",
    "    query_vec = sum(torch.tensor(node_embeddings[i]) for i in related_entities) / len(related_entities)\n",
    "    scores = cosine_similarity(query_vec.reshape(1, -1), node_embeddings)[0]\n",
    "    top_entity_indices = scores.argsort()[-top_k:][::-1]\n",
    "    related_images = set()\n",
    "    for idx in top_entity_indices:\n",
    "        related_images.update(entity_idx_to_images[idx])\n",
    "    return list(related_images - {query_image_id})[:top_k]"
   ]
  },
  {
   "cell_type": "code",
   "execution_count": 6,
   "id": "03fe6bc5",
   "metadata": {},
   "outputs": [],
   "source": [
    "import pickle\n",
    "with open(\"GAT_api_data.pkl\", \"rb\") as f:\n",
    "    saved = pickle.load(f)\n",
    "\n",
    "df = saved[\"df\"]\n",
    "node_embeddings = saved[\"node_embeddings\"]\n",
    "entity_idx_to_images = saved[\"entity_idx_to_images\"]"
   ]
  },
  {
   "cell_type": "code",
   "execution_count": 8,
   "id": "2f197848",
   "metadata": {},
   "outputs": [],
   "source": [
    "app = FastAPI(title=\"GAT-based Image Search API\")\n",
    "\n",
    "class ImageQuery(BaseModel):\n",
    "    image_id: str\n",
    "    top_k: int = 5\n",
    "\n",
    "@app.post(\"/search\", response_model=List[str])\n",
    "def search_similar_images(query: ImageQuery):\n",
    "    return find_related_images(query.image_id, top_k=query.top_k)\n",
    "\n",
    "@app.get(\"/\")\n",
    "def root():\n",
    "    return {\"message\": \"GAT Image Search API is running!\"}"
   ]
  },
  {
   "cell_type": "code",
   "execution_count": null,
   "id": "a6169bdb",
   "metadata": {},
   "outputs": [
    {
     "name": "stderr",
     "output_type": "stream",
     "text": [
      "INFO:     Started server process [11128]\n",
      "INFO:     Waiting for application startup.\n",
      "INFO:     Application startup complete.\n",
      "INFO:     Uvicorn running on http://127.0.0.1:8000 (Press CTRL+C to quit)\n"
     ]
    },
    {
     "name": "stdout",
     "output_type": "stream",
     "text": [
      "INFO:     127.0.0.1:52446 - \"GET / HTTP/1.1\" 200 OK\n",
      "INFO:     127.0.0.1:52446 - \"GET /favicon.ico HTTP/1.1\" 404 Not Found\n",
      "INFO:     127.0.0.1:52447 - \"GET /docs HTTP/1.1\" 200 OK\n",
      "INFO:     127.0.0.1:52447 - \"GET /openapi.json HTTP/1.1\" 200 OK\n",
      "INFO:     127.0.0.1:52450 - \"POST /search HTTP/1.1\" 200 OK\n",
      "INFO:     127.0.0.1:52450 - \"POST /search HTTP/1.1\" 200 OK\n",
      "INFO:     127.0.0.1:52471 - \"GET / HTTP/1.1\" 200 OK\n"
     ]
    }
   ],
   "source": [
    "uvicorn.run(app, host=\"127.0.0.1\", port=8000)"
   ]
  },
  {
   "cell_type": "code",
   "execution_count": null,
   "id": "2445dfe1",
   "metadata": {},
   "outputs": [],
   "source": []
  }
 ],
 "metadata": {
  "kernelspec": {
   "display_name": "Python 3 (ipykernel)",
   "language": "python",
   "name": "python3"
  },
  "language_info": {
   "codemirror_mode": {
    "name": "ipython",
    "version": 3
   },
   "file_extension": ".py",
   "mimetype": "text/x-python",
   "name": "python",
   "nbconvert_exporter": "python",
   "pygments_lexer": "ipython3",
   "version": "3.8.20"
  }
 },
 "nbformat": 4,
 "nbformat_minor": 5
}
