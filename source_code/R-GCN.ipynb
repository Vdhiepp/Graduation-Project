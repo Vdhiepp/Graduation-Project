{
 "cells": [
  {
   "cell_type": "code",
   "execution_count": 42,
   "id": "90979b92",
   "metadata": {},
   "outputs": [],
   "source": [
    "import torch\n",
    "import torch.nn.functional as F\n",
    "from torch_geometric.nn import RGCNConv\n",
    "import matplotlib.pyplot as plt\n",
    "import pandas as pd\n",
    "from sklearn.preprocessing import LabelEncoder\n",
    "import numpy as np"
   ]
  },
  {
   "cell_type": "code",
   "execution_count": 43,
   "id": "ac04fdee",
   "metadata": {},
   "outputs": [],
   "source": [
    "df = pd.read_csv(\"kg_triples.tsv\", sep=\"\\t\", names=[\"subject\", \"relation\", \"object\"])\n",
    "\n",
    "entity_encoder = LabelEncoder()\n",
    "relation_encoder = LabelEncoder()\n",
    "\n",
    "entities = list(set(df[\"subject\"]).union(set(df[\"object\"])))\n",
    "relations = df[\"relation\"]\n",
    "\n",
    "entity_encoder.fit(entities)\n",
    "relation_encoder.fit(relations)\n",
    "\n",
    "edge_index = []\n",
    "edge_type = []\n",
    "\n",
    "for _, row in df.iterrows():\n",
    "    s = entity_encoder.transform([row[\"subject\"]])[0]\n",
    "    o = entity_encoder.transform([row[\"object\"]])[0]\n",
    "    r = relation_encoder.transform([row[\"relation\"]])[0]\n",
    "    edge_index.append([s, o])\n",
    "    edge_type.append(r)\n",
    "\n",
    "edge_index = torch.tensor(edge_index, dtype=torch.long).t().contiguous()\n",
    "edge_type = torch.tensor(edge_type, dtype=torch.long)\n",
    "x = torch.eye(len(entity_encoder.classes_))  # One-hot node features"
   ]
  },
  {
   "cell_type": "code",
   "execution_count": 44,
   "id": "497e1221",
   "metadata": {},
   "outputs": [],
   "source": [
    "class RGCN(torch.nn.Module):\n",
    "    def __init__(self, in_channels, hidden_channels, out_channels, num_relations):\n",
    "        super().__init__()\n",
    "        self.conv1 = RGCNConv(in_channels, hidden_channels, num_relations)\n",
    "        self.conv2 = RGCNConv(hidden_channels, out_channels, num_relations)\n",
    "\n",
    "    def forward(self, x, edge_index, edge_type):\n",
    "        x = self.conv1(x, edge_index, edge_type).relu()\n",
    "        x = self.conv2(x, edge_index, edge_type)\n",
    "        return x"
   ]
  },
  {
   "cell_type": "code",
   "execution_count": 46,
   "id": "58785e7e",
   "metadata": {},
   "outputs": [
    {
     "name": "stdout",
     "output_type": "stream",
     "text": [
      "Epoch 0, Loss: 7.5050\n",
      "Epoch 1, Loss: 3.6972\n",
      "Epoch 2, Loss: 2.3790\n",
      "Epoch 3, Loss: 1.7572\n",
      "Epoch 4, Loss: 1.3349\n",
      "Epoch 5, Loss: 1.0739\n",
      "Epoch 6, Loss: 0.8764\n",
      "Epoch 7, Loss: 0.6924\n",
      "Epoch 8, Loss: 0.5300\n",
      "Epoch 9, Loss: 0.4153\n",
      "Epoch 10, Loss: 0.3352\n",
      "Epoch 11, Loss: 0.2468\n",
      "Epoch 12, Loss: 0.1728\n",
      "Epoch 13, Loss: 0.1113\n",
      "Epoch 14, Loss: 0.0681\n",
      "Epoch 15, Loss: 0.0387\n",
      "Epoch 16, Loss: 0.0236\n",
      "Epoch 17, Loss: 0.0161\n",
      "Epoch 18, Loss: 0.0105\n",
      "Epoch 19, Loss: 0.0060\n",
      "Epoch 20, Loss: 0.0027\n",
      "Epoch 21, Loss: 0.0013\n",
      "Epoch 22, Loss: 0.0008\n",
      "Epoch 23, Loss: 0.0005\n",
      "Epoch 24, Loss: 0.0004\n",
      "Epoch 25, Loss: 0.0004\n",
      "Epoch 26, Loss: 0.0002\n",
      "Epoch 27, Loss: 0.0000\n",
      "Epoch 28, Loss: 0.0000\n",
      "Epoch 29, Loss: 0.0000\n",
      "Epoch 30, Loss: 0.0000\n",
      "Epoch 31, Loss: 0.0000\n",
      "Epoch 32, Loss: 0.0000\n",
      "Epoch 33, Loss: 0.0000\n",
      "Epoch 34, Loss: 0.0000\n",
      "Epoch 35, Loss: 0.0000\n",
      "Epoch 36, Loss: 0.0000\n",
      "Epoch 37, Loss: 0.0000\n",
      "Epoch 38, Loss: 0.0000\n",
      "Epoch 39, Loss: 0.0000\n",
      "Epoch 40, Loss: 0.0000\n",
      "Epoch 41, Loss: 0.0000\n",
      "Epoch 42, Loss: 0.0000\n",
      "Epoch 43, Loss: 0.0000\n",
      "Epoch 44, Loss: 0.0000\n",
      "Epoch 45, Loss: 0.0000\n",
      "Epoch 46, Loss: 0.0000\n",
      "Epoch 47, Loss: 0.0000\n",
      "Epoch 48, Loss: 0.0000\n",
      "Epoch 49, Loss: 0.0000\n"
     ]
    }
   ],
   "source": [
    "model = RGCN(\n",
    "    in_channels=x.shape[1], \n",
    "    hidden_channels=32, \n",
    "    out_channels=64, \n",
    "    num_relations=len(relation_encoder.classes_)\n",
    ")\n",
    "\n",
    "optimizer = torch.optim.Adam(model.parameters(), lr=0.01)\n",
    "losses = []\n",
    "\n",
    "for epoch in range(50):\n",
    "    model.train()\n",
    "    optimizer.zero_grad()\n",
    "    out = model(x, edge_index, edge_type)\n",
    "    loss = torch.norm(out[edge_index[0]] - out[edge_index[1]], dim=1).mean()\n",
    "    losses.append(loss.item())\n",
    "    loss.backward()\n",
    "    optimizer.step()\n",
    "\n",
    "    print(f\"Epoch {epoch}, Loss: {loss.item():.4f}\")"
   ]
  },
  {
   "cell_type": "code",
   "execution_count": 48,
   "id": "70b9a559",
   "metadata": {},
   "outputs": [
    {
     "data": {
      "image/png": "[encoded data removed]",
      "text/plain": [
       "<Figure size 800x500 with 1 Axes>"
      ]
     },
     "metadata": {},
     "output_type": "display_data"
    }
   ],
   "source": [
    "plt.figure(figsize=(8, 5))\n",
    "plt.plot(range(len(losses)), losses, marker='o')\n",
    "plt.title(\"Biểu đồ Loss theo Epoch RGCN\")\n",
    "plt.xlabel(\"Epoch\")\n",
    "plt.ylabel(\"Loss\")\n",
    "plt.grid(True)\n",
    "plt.tight_layout()\n",
    "plt.show()"
   ]
  },
  {
   "cell_type": "code",
   "execution_count": 49,
   "id": "2598c0b8",
   "metadata": {},
   "outputs": [],
   "source": [
    "def evaluate_rgcn_link_prediction(model, df, entity_encoder, relation_encoder, edge_index, edge_type, x, top_k=[1, 3, 10]):\n",
    "    model.eval()\n",
    "    entity_emb = model(x, edge_index, edge_type)\n",
    "\n",
    "    ranks = []\n",
    "    hits = {k: 0 for k in top_k}\n",
    "\n",
    "    for _, row in df.iterrows():\n",
    "        h, r, t = row[\"subject\"], row[\"relation\"], row[\"object\"]\n",
    "        try:\n",
    "            h_idx = entity_encoder.transform([h])[0]\n",
    "            t_idx = entity_encoder.transform([t])[0]\n",
    "        except:\n",
    "            continue\n",
    "\n",
    "        h_emb = entity_emb[h_idx]\n",
    "        query = h_emb  # đơn giản, có thể cộng với relation nếu cần\n",
    "\n",
    "        similarities = F.cosine_similarity(query.unsqueeze(0), entity_emb)\n",
    "        sorted_indices = torch.argsort(similarities, descending=True)\n",
    "\n",
    "        rank = (sorted_indices == t_idx).nonzero(as_tuple=True)[0].item() + 1\n",
    "        ranks.append(rank)\n",
    "\n",
    "        for k in top_k:\n",
    "            if rank <= k:\n",
    "                hits[k] += 1\n",
    "\n",
    "    mrr = np.mean([1.0 / r for r in ranks])\n",
    "    mean_rank = np.mean(ranks)\n",
    "\n",
    "    metrics = {\n",
    "        \"Hits@1\": hits[1] / len(ranks),\n",
    "        \"Hits@3\": hits[3] / len(ranks),\n",
    "        \"Hits@10\": hits[10] / len(ranks),\n",
    "        \"MRR\": mrr,\n",
    "        \"Mean Rank\": mean_rank\n",
    "    }\n",
    "    return metrics"
   ]
  },
  {
   "cell_type": "code",
   "execution_count": 50,
   "id": "8aeff1bf",
   "metadata": {},
   "outputs": [],
   "source": [
    "metrics = evaluate_rgcn_link_prediction(\n",
    "    model=model,\n",
    "    df=df,\n",
    "    entity_encoder=entity_encoder,\n",
    "    relation_encoder=relation_encoder,\n",
    "    edge_index=edge_index,\n",
    "    edge_type=edge_type,\n",
    "    x=x\n",
    ")"
   ]
  },
  {
   "cell_type": "code",
   "execution_count": 51,
   "id": "56d6c43b",
   "metadata": {},
   "outputs": [
    {
     "name": "stdout",
     "output_type": "stream",
     "text": [
      "🔍 Đánh giá mô hình:\n",
      "MRR: 0.0635\n",
      "Hits@1: 0.0036\n",
      "Hits@3: 0.0304\n",
      "Hits@10: 0.1411\n",
      "Mean Rank: 30.87\n"
     ]
    }
   ],
   "source": [
    "# In kết quả trực tiếp\n",
    "print(\"🔍 Đánh giá mô hình:\")\n",
    "print(f\"MRR: {metrics['MRR']:.4f}\")\n",
    "print(f\"Hits@1: {metrics['Hits@1']:.4f}\")\n",
    "print(f\"Hits@3: {metrics['Hits@3']:.4f}\")\n",
    "print(f\"Hits@10: {metrics['Hits@10']:.4f}\")\n",
    "print(f\"Mean Rank: {metrics['Mean Rank']:.2f}\")"
   ]
  },
  {
   "cell_type": "code",
   "execution_count": 53,
   "id": "62e6ed32",
   "metadata": {},
   "outputs": [
    {
     "data": {
      "image/png": "[encoded data removed]",
      "text/plain": [
       "<Figure size 800x500 with 1 Axes>"
      ]
     },
     "metadata": {},
     "output_type": "display_data"
    }
   ],
   "source": [
    "labels = [k for k in metrics if k != \"Mean Rank\"]\n",
    "values = [metrics[k] for k in labels]\n",
    "\n",
    "plt.figure(figsize=(8, 5))\n",
    "bars = plt.bar(labels, values, color=\"skyblue\")\n",
    "plt.ylim(0, 1)\n",
    "plt.ylabel(\"Giá trị\")\n",
    "plt.title(\"Biểu đồ đánh giá mô hình RGCN từ kg_triples.tsv\")\n",
    "\n",
    "for bar in bars:\n",
    "    yval = bar.get_height()\n",
    "    plt.text(bar.get_x() + bar.get_width() / 2, yval + 0.02, f\"{yval:.2f}\", ha='center', va='bottom')\n",
    "\n",
    "plt.tight_layout()\n",
    "plt.show()"
   ]
  },
  {
   "cell_type": "code",
   "execution_count": null,
   "id": "029b3f3a",
   "metadata": {},
   "outputs": [],
   "source": []
  }
 ],
 "metadata": {
  "kernelspec": {
   "display_name": "Python 3 (ipykernel)",
   "language": "python",
   "name": "python3"
  },
  "language_info": {
   "codemirror_mode": {
    "name": "ipython",
    "version": 3
   },
   "file_extension": ".py",
   "mimetype": "text/x-python",
   "name": "python",
   "nbconvert_exporter": "python",
   "pygments_lexer": "ipython3",
   "version": "3.8.20"
  }
 },
 "nbformat": 4,
 "nbformat_minor": 5
}
