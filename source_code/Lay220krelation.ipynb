{
 "cells": [
  {
   "cell_type": "code",
   "execution_count": 4,
   "id": "05e645cc",
   "metadata": {},
   "outputs": [],
   "source": [
    "import os\n",
    "import json\n",
    "import pickle\n",
    "import networkx as nx\n",
    "from tqdm import tqdm\n",
    "from pycocotools.coco import COCO\n",
    "import cv2\n",
    "from matplotlib import pyplot as plt\n",
    "import matplotlib.pyplot as plt\n",
    "import pandas as pd\n",
    "import math\n",
    "from py2neo import Graph, Node, Relationship"
   ]
  },
  {
   "cell_type": "code",
   "execution_count": null,
   "id": "31f8863f",
   "metadata": {},
   "outputs": [],
   "source": [
    "# === CẤU HÌNH ĐƯỜNG DẪN ==="
   ]
  },
  {
   "cell_type": "code",
   "execution_count": 2,
   "id": "9c4fd486",
   "metadata": {},
   "outputs": [
    {
     "name": "stdout",
     "output_type": "stream",
     "text": [
      "loading annotations into memory...\n",
      "Done (t=0.84s)\n",
      "creating index...\n",
      "index created!\n"
     ]
    }
   ],
   "source": [
    "# Đường dẫn đến file annotation\n",
    "annotation_file = 'E:/Download/annotations/instances_val2017.json'  \n",
    "\n",
    "# Load COCO annotation\n",
    "coco = COCO(annotation_file)"
   ]
  },
  {
   "cell_type": "code",
   "execution_count": null,
   "id": "ceafe276",
   "metadata": {},
   "outputs": [],
   "source": [
    "# === LƯU LẠI NODE VÀO FILE CSV ==="
   ]
  },
  {
   "cell_type": "code",
   "execution_count": 5,
   "id": "c07acd63",
   "metadata": {},
   "outputs": [
    {
     "name": "stdout",
     "output_type": "stream",
     "text": [
      "Đã lưu 36781 nodes vào: coco_nodes.csv\n"
     ]
    }
   ],
   "source": [
    "def save_nodes_to_csv(coco, output_file=\"coco_nodes.csv\"):\n",
    "    all_nodes = []\n",
    "\n",
    "    for image_id in coco.getImgIds():\n",
    "        ann_ids = coco.getAnnIds(imgIds=image_id)\n",
    "        anns = coco.loadAnns(ann_ids)\n",
    "\n",
    "        for ann in anns:\n",
    "            x1, y1, w, h = ann[\"bbox\"]\n",
    "            x2, y2 = x1 + w, y1 + h\n",
    "            label = coco.loadCats(ann[\"category_id\"])[0][\"name\"]\n",
    "            node_id = ann[\"id\"]\n",
    "\n",
    "            all_nodes.append({\n",
    "                \"image_id\": image_id,\n",
    "                \"node_id\": node_id,\n",
    "                \"label\": label,\n",
    "                \"x1\": x1, \"y1\": y1, \"x2\": x2, \"y2\": y2\n",
    "            })\n",
    "\n",
    "    df_nodes = pd.DataFrame(all_nodes)\n",
    "    df_nodes.to_csv(output_file, index=False)\n",
    "    print(f\"Đã lưu {len(df_nodes)} nodes vào: {output_file}\")\n",
    "\n",
    "save_nodes_to_csv(coco)"
   ]
  },
  {
   "cell_type": "code",
   "execution_count": null,
   "id": "b3abc832",
   "metadata": {},
   "outputs": [],
   "source": [
    "# === HÀM XÁC ĐỊNH QUAN HỆ GIỮA CÁC NODE ==="
   ]
  },
  {
   "cell_type": "code",
   "execution_count": 6,
   "id": "dd9f1a9d",
   "metadata": {},
   "outputs": [
    {
     "name": "stdout",
     "output_type": "stream",
     "text": [
      "Đã lưu 220803 quan hệ vào: coco_object_relationships.csv\n"
     ]
    }
   ],
   "source": [
    "# Load dữ liệu từ file nodes\n",
    "df_nodes = pd.read_csv(\"coco_nodes.csv\")\n",
    "\n",
    "# Hàm tính khoảng cách giữa hai đối tượng\n",
    "def calculate_distance(center_A, center_B):\n",
    "    return math.sqrt((center_A[0] - center_B[0])**2 + (center_A[1] - center_B[1])**2)\n",
    "\n",
    "# Hàm xác định quan hệ spatial giữa 2 objects\n",
    "def determine_relationship(obj1, obj2):\n",
    "    center_A = ((obj1[\"x1\"] + obj1[\"x2\"]) / 2, (obj1[\"y1\"] + obj1[\"y2\"]) / 2)\n",
    "    center_B = ((obj2[\"x1\"] + obj2[\"x2\"]) / 2, (obj2[\"y1\"] + obj2[\"y2\"]) / 2)\n",
    "\n",
    "    distance = calculate_distance(center_A, center_B)\n",
    "\n",
    "    if obj1[\"y1\"] < obj2[\"y1\"] and obj1[\"y2\"] > obj2[\"y2\"] and obj1[\"x1\"] < obj2[\"x1\"] and obj1[\"x2\"] > obj2[\"x2\"]:\n",
    "        return \"ON\"\n",
    "    elif abs(center_A[0] - center_B[0]) < 50 and abs(center_A[1] - center_B[1]) < 50:\n",
    "        return \"NEXT_TO\"\n",
    "    elif distance < 100:\n",
    "        return \"NEAR\"\n",
    "    elif obj1[\"x2\"] < obj2[\"x1\"]:\n",
    "        return \"TO_THE_LEFT_OF\"\n",
    "    elif obj1[\"x1\"] > obj2[\"x2\"]:\n",
    "        return \"TO_THE_RIGHT_OF\"\n",
    "    return None\n",
    "\n",
    "# Lưu quan hệ giữa các objects vào CSV\n",
    "relationships = []\n",
    "for image_id in df_nodes[\"image_id\"].unique():\n",
    "    objects = df_nodes[df_nodes[\"image_id\"] == image_id]\n",
    "\n",
    "    for i in range(len(objects)):\n",
    "        for j in range(i + 1, len(objects)):\n",
    "            obj1 = objects.iloc[i]\n",
    "            obj2 = objects.iloc[j]\n",
    "\n",
    "            relation = determine_relationship(obj1, obj2)\n",
    "            if relation:\n",
    "                relationships.append({\n",
    "                    \"image_id\": image_id,\n",
    "                    \"object_1\": obj1[\"node_id\"],\n",
    "                    \"object_2\": obj2[\"node_id\"],\n",
    "                    \"relationship\": relation\n",
    "                })\n",
    "\n",
    "df_relationships = pd.DataFrame(relationships)\n",
    "df_relationships.to_csv(\"coco_object_relationships.csv\", index=False)\n",
    "print(f\"Đã lưu {len(df_relationships)} quan hệ vào: coco_object_relationships.csv\")"
   ]
  },
  {
   "cell_type": "code",
   "execution_count": null,
   "id": "d06d2e2c",
   "metadata": {},
   "outputs": [],
   "source": [
    "# === KẾT NỐI VỚI NEO4J ==="
   ]
  },
  {
   "cell_type": "code",
   "execution_count": 7,
   "id": "fd7af996",
   "metadata": {},
   "outputs": [
    {
     "data": {
      "text/html": [
       "(No data)"
      ],
      "text/plain": [
       "(No data)"
      ]
     },
     "execution_count": 7,
     "metadata": {},
     "output_type": "execute_result"
    }
   ],
   "source": [
    "graph = Graph(\"bolt://localhost:7687\", auth=(\"neo4j\", \"12345678\"))"
   ]
  },
  {
   "cell_type": "code",
   "execution_count": null,
   "id": "404b7745",
   "metadata": {},
   "outputs": [],
   "source": [
    "# === XÓA DỮ LIỆU CŨ NEO4J ==="
   ]
  },
  {
   "cell_type": "code",
   "execution_count": 12,
   "id": "adcb0051",
   "metadata": {},
   "outputs": [
    {
     "data": {
      "text/html": [
       "(No data)"
      ],
      "text/plain": [
       "(No data)"
      ]
     },
     "execution_count": 12,
     "metadata": {},
     "output_type": "execute_result"
    }
   ],
   "source": [
    "graph.run(\"MATCH (n) DETACH DELETE n\")"
   ]
  },
  {
   "cell_type": "code",
   "execution_count": null,
   "id": "491f6ce4",
   "metadata": {},
   "outputs": [],
   "source": [
    "# === ĐƯA TOÀN BỘ NODES VÀ RELATIONSHIPS VÀO NEO4J ==="
   ]
  },
  {
   "cell_type": "code",
   "execution_count": 11,
   "id": "ea346997",
   "metadata": {},
   "outputs": [
    {
     "ename": "KeyboardInterrupt",
     "evalue": "",
     "output_type": "error",
     "traceback": [
      "\u001b[1;31m---------------------------------------------------------------------------\u001b[0m",
      "\u001b[1;31mKeyboardInterrupt\u001b[0m                         Traceback (most recent call last)",
      "Cell \u001b[1;32mIn[11], line 17\u001b[0m\n\u001b[0;32m      8\u001b[0m     object_name \u001b[38;5;241m=\u001b[39m category_dict\u001b[38;5;241m.\u001b[39mget(row[\u001b[38;5;124m\"\u001b[39m\u001b[38;5;124mnode_id\u001b[39m\u001b[38;5;124m\"\u001b[39m], \u001b[38;5;124mf\u001b[39m\u001b[38;5;124m\"\u001b[39m\u001b[38;5;124mUnknown_\u001b[39m\u001b[38;5;132;01m{\u001b[39;00mrow[\u001b[38;5;124m'\u001b[39m\u001b[38;5;124mnode_id\u001b[39m\u001b[38;5;124m'\u001b[39m]\u001b[38;5;132;01m}\u001b[39;00m\u001b[38;5;124m\"\u001b[39m)  \u001b[38;5;66;03m# Ánh xạ từ COCO\u001b[39;00m\n\u001b[0;32m      9\u001b[0m     node \u001b[38;5;241m=\u001b[39m Node(\u001b[38;5;124m\"\u001b[39m\u001b[38;5;124mObject\u001b[39m\u001b[38;5;124m\"\u001b[39m,\n\u001b[0;32m     10\u001b[0m                 node_id\u001b[38;5;241m=\u001b[39m\u001b[38;5;28mint\u001b[39m(row[\u001b[38;5;124m\"\u001b[39m\u001b[38;5;124mnode_id\u001b[39m\u001b[38;5;124m\"\u001b[39m]),\n\u001b[0;32m     11\u001b[0m                 name\u001b[38;5;241m=\u001b[39mobject_name,  \u001b[38;5;66;03m# Lưu tên thực tế của object\u001b[39;00m\n\u001b[1;32m   (...)\u001b[0m\n\u001b[0;32m     14\u001b[0m                 x1\u001b[38;5;241m=\u001b[39mrow[\u001b[38;5;124m\"\u001b[39m\u001b[38;5;124mx1\u001b[39m\u001b[38;5;124m\"\u001b[39m], y1\u001b[38;5;241m=\u001b[39mrow[\u001b[38;5;124m\"\u001b[39m\u001b[38;5;124my1\u001b[39m\u001b[38;5;124m\"\u001b[39m],\n\u001b[0;32m     15\u001b[0m                 x2\u001b[38;5;241m=\u001b[39mrow[\u001b[38;5;124m\"\u001b[39m\u001b[38;5;124mx2\u001b[39m\u001b[38;5;124m\"\u001b[39m], y2\u001b[38;5;241m=\u001b[39mrow[\u001b[38;5;124m\"\u001b[39m\u001b[38;5;124my2\u001b[39m\u001b[38;5;124m\"\u001b[39m])\n\u001b[1;32m---> 17\u001b[0m     \u001b[43mgraph\u001b[49m\u001b[38;5;241;43m.\u001b[39;49m\u001b[43mmerge\u001b[49m\u001b[43m(\u001b[49m\u001b[43mnode\u001b[49m\u001b[43m,\u001b[49m\u001b[43m \u001b[49m\u001b[38;5;124;43m\"\u001b[39;49m\u001b[38;5;124;43mObject\u001b[39;49m\u001b[38;5;124;43m\"\u001b[39;49m\u001b[43m,\u001b[49m\u001b[43m \u001b[49m\u001b[38;5;124;43m\"\u001b[39;49m\u001b[38;5;124;43mnode_id\u001b[39;49m\u001b[38;5;124;43m\"\u001b[39;49m\u001b[43m)\u001b[49m\n\u001b[0;32m     18\u001b[0m     node_dict[row[\u001b[38;5;124m\"\u001b[39m\u001b[38;5;124mnode_id\u001b[39m\u001b[38;5;124m\"\u001b[39m]] \u001b[38;5;241m=\u001b[39m node  \u001b[38;5;66;03m# Lưu vào dict để tạo quan hệ nhanh hơn\u001b[39;00m\n\u001b[0;32m     20\u001b[0m \u001b[38;5;28mprint\u001b[39m(\u001b[38;5;124mf\u001b[39m\u001b[38;5;124m\"\u001b[39m\u001b[38;5;124m[✅] Đã thêm \u001b[39m\u001b[38;5;132;01m{\u001b[39;00m\u001b[38;5;28mlen\u001b[39m(df_objects)\u001b[38;5;132;01m}\u001b[39;00m\u001b[38;5;124m objects vào Neo4j với tên thực tế.\u001b[39m\u001b[38;5;124m\"\u001b[39m)\n",
      "File \u001b[1;32m~\\anaconda3\\envs\\coco_kg\\lib\\site-packages\\py2neo\\database.py:678\u001b[0m, in \u001b[0;36mGraph.merge\u001b[1;34m(self, subgraph, label, *property_keys)\u001b[0m\n\u001b[0;32m    646\u001b[0m \u001b[38;5;28;01mdef\u001b[39;00m \u001b[38;5;21mmerge\u001b[39m(\u001b[38;5;28mself\u001b[39m, subgraph, label\u001b[38;5;241m=\u001b[39m\u001b[38;5;28;01mNone\u001b[39;00m, \u001b[38;5;241m*\u001b[39mproperty_keys):\n\u001b[0;32m    647\u001b[0m \u001b[38;5;250m    \u001b[39m\u001b[38;5;124;03m\"\"\" Run a :meth:`~py2neo.Transaction.merge` operation within an\u001b[39;00m\n\u001b[0;32m    648\u001b[0m \u001b[38;5;124;03m    auto-commit :class:`~py2neo.Transaction`.\u001b[39;00m\n\u001b[0;32m    649\u001b[0m \n\u001b[1;32m   (...)\u001b[0m\n\u001b[0;32m    676\u001b[0m \u001b[38;5;124;03m    :param property_keys: property keys on which to match any existing nodes\u001b[39;00m\n\u001b[0;32m    677\u001b[0m \u001b[38;5;124;03m    \"\"\"\u001b[39;00m\n\u001b[1;32m--> 678\u001b[0m     \u001b[38;5;28;43mself\u001b[39;49m\u001b[38;5;241;43m.\u001b[39;49m\u001b[43mupdate\u001b[49m\u001b[43m(\u001b[49m\u001b[38;5;28;43;01mlambda\u001b[39;49;00m\u001b[43m \u001b[49m\u001b[43mtx\u001b[49m\u001b[43m:\u001b[49m\u001b[43m \u001b[49m\u001b[43mtx\u001b[49m\u001b[38;5;241;43m.\u001b[39;49m\u001b[43mmerge\u001b[49m\u001b[43m(\u001b[49m\u001b[43msubgraph\u001b[49m\u001b[43m,\u001b[49m\u001b[43m \u001b[49m\u001b[43mlabel\u001b[49m\u001b[43m,\u001b[49m\u001b[43m \u001b[49m\u001b[38;5;241;43m*\u001b[39;49m\u001b[43mproperty_keys\u001b[49m\u001b[43m)\u001b[49m\u001b[43m)\u001b[49m\n",
      "File \u001b[1;32m~\\anaconda3\\envs\\coco_kg\\lib\\site-packages\\py2neo\\database.py:445\u001b[0m, in \u001b[0;36mGraph.update\u001b[1;34m(self, cypher, parameters, timeout)\u001b[0m\n\u001b[0;32m    443\u001b[0m \u001b[38;5;28;01mif\u001b[39;00m \u001b[38;5;28mcallable\u001b[39m(cypher):\n\u001b[0;32m    444\u001b[0m     \u001b[38;5;28;01mif\u001b[39;00m parameters \u001b[38;5;129;01mis\u001b[39;00m \u001b[38;5;28;01mNone\u001b[39;00m:\n\u001b[1;32m--> 445\u001b[0m         \u001b[38;5;28;43mself\u001b[39;49m\u001b[38;5;241;43m.\u001b[39;49m\u001b[43m_update\u001b[49m\u001b[43m(\u001b[49m\u001b[43mcypher\u001b[49m\u001b[43m,\u001b[49m\u001b[43m \u001b[49m\u001b[43mtimeout\u001b[49m\u001b[38;5;241;43m=\u001b[39;49m\u001b[43mtimeout\u001b[49m\u001b[43m)\u001b[49m\n\u001b[0;32m    446\u001b[0m     \u001b[38;5;28;01melif\u001b[39;00m (\u001b[38;5;28misinstance\u001b[39m(parameters, \u001b[38;5;28mtuple\u001b[39m) \u001b[38;5;129;01mand\u001b[39;00m \u001b[38;5;28mlen\u001b[39m(parameters) \u001b[38;5;241m==\u001b[39m \u001b[38;5;241m2\u001b[39m \u001b[38;5;129;01mand\u001b[39;00m\n\u001b[0;32m    447\u001b[0m             \u001b[38;5;28misinstance\u001b[39m(parameters[\u001b[38;5;241m0\u001b[39m], Sequence) \u001b[38;5;129;01mand\u001b[39;00m \u001b[38;5;28misinstance\u001b[39m(parameters[\u001b[38;5;241m1\u001b[39m], Mapping)):\n\u001b[0;32m    448\u001b[0m         \u001b[38;5;28mself\u001b[39m\u001b[38;5;241m.\u001b[39m_update(\u001b[38;5;28;01mlambda\u001b[39;00m tx: cypher(tx, \u001b[38;5;241m*\u001b[39mparameters[\u001b[38;5;241m0\u001b[39m], \u001b[38;5;241m*\u001b[39m\u001b[38;5;241m*\u001b[39mparameters[\u001b[38;5;241m1\u001b[39m]),\n\u001b[0;32m    449\u001b[0m                      timeout\u001b[38;5;241m=\u001b[39mtimeout)\n",
      "File \u001b[1;32m~\\anaconda3\\envs\\coco_kg\\lib\\site-packages\\py2neo\\database.py:473\u001b[0m, in \u001b[0;36mGraph._update\u001b[1;34m(self, f, timeout)\u001b[0m\n\u001b[0;32m    471\u001b[0m     \u001b[38;5;28;01mif\u001b[39;00m isgenerator(value):\n\u001b[0;32m    472\u001b[0m         _ \u001b[38;5;241m=\u001b[39m \u001b[38;5;28mlist\u001b[39m(value)     \u001b[38;5;66;03m# exhaust the generator\u001b[39;00m\n\u001b[1;32m--> 473\u001b[0m     \u001b[38;5;28;43mself\u001b[39;49m\u001b[38;5;241;43m.\u001b[39;49m\u001b[43mcommit\u001b[49m\u001b[43m(\u001b[49m\u001b[43mtx\u001b[49m\u001b[43m)\u001b[49m\n\u001b[0;32m    474\u001b[0m \u001b[38;5;28;01mexcept\u001b[39;00m (ConnectionUnavailable, ConnectionBroken, ConnectionLimit):\n\u001b[0;32m    475\u001b[0m     \u001b[38;5;28mself\u001b[39m\u001b[38;5;241m.\u001b[39mrollback(tx)\n",
      "File \u001b[1;32m~\\anaconda3\\envs\\coco_kg\\lib\\site-packages\\py2neo\\database.py:367\u001b[0m, in \u001b[0;36mGraph.commit\u001b[1;34m(self, tx)\u001b[0m\n\u001b[0;32m    365\u001b[0m     \u001b[38;5;28;01mraise\u001b[39;00m \u001b[38;5;167;01mTypeError\u001b[39;00m(\u001b[38;5;124m\"\u001b[39m\u001b[38;5;124mCannot commit closed transaction\u001b[39m\u001b[38;5;124m\"\u001b[39m)\n\u001b[0;32m    366\u001b[0m \u001b[38;5;28;01mtry\u001b[39;00m:\n\u001b[1;32m--> 367\u001b[0m     summary \u001b[38;5;241m=\u001b[39m \u001b[38;5;28;43mself\u001b[39;49m\u001b[38;5;241;43m.\u001b[39;49m\u001b[43mservice\u001b[49m\u001b[38;5;241;43m.\u001b[39;49m\u001b[43mconnector\u001b[49m\u001b[38;5;241;43m.\u001b[39;49m\u001b[43mcommit\u001b[49m\u001b[43m(\u001b[49m\u001b[43mtx\u001b[49m\u001b[38;5;241;43m.\u001b[39;49m\u001b[43mref\u001b[49m\u001b[43m)\u001b[49m\n\u001b[0;32m    368\u001b[0m     tx\u001b[38;5;241m.\u001b[39m_bookmark \u001b[38;5;241m=\u001b[39m summary[\u001b[38;5;124m\"\u001b[39m\u001b[38;5;124mbookmark\u001b[39m\u001b[38;5;124m\"\u001b[39m]\n\u001b[0;32m    369\u001b[0m     tx\u001b[38;5;241m.\u001b[39m_profile \u001b[38;5;241m=\u001b[39m summary[\u001b[38;5;124m\"\u001b[39m\u001b[38;5;124mprofile\u001b[39m\u001b[38;5;124m\"\u001b[39m]\n",
      "File \u001b[1;32m~\\anaconda3\\envs\\coco_kg\\lib\\site-packages\\py2neo\\client\\__init__.py:1378\u001b[0m, in \u001b[0;36mConnector.commit\u001b[1;34m(self, tx)\u001b[0m\n\u001b[0;32m   1376\u001b[0m cx \u001b[38;5;241m=\u001b[39m \u001b[38;5;28mself\u001b[39m\u001b[38;5;241m.\u001b[39m_reacquire(tx)\n\u001b[0;32m   1377\u001b[0m \u001b[38;5;28;01mtry\u001b[39;00m:\n\u001b[1;32m-> 1378\u001b[0m     bookmark \u001b[38;5;241m=\u001b[39m \u001b[43mcx\u001b[49m\u001b[38;5;241;43m.\u001b[39;49m\u001b[43mcommit\u001b[49m\u001b[43m(\u001b[49m\u001b[43mtx\u001b[49m\u001b[43m)\u001b[49m\n\u001b[0;32m   1379\u001b[0m \u001b[38;5;28;01mexcept\u001b[39;00m (ConnectionUnavailable, ConnectionBroken):\n\u001b[0;32m   1380\u001b[0m     \u001b[38;5;28mself\u001b[39m\u001b[38;5;241m.\u001b[39mprune(cx\u001b[38;5;241m.\u001b[39mprofile)\n",
      "File \u001b[1;32m~\\anaconda3\\envs\\coco_kg\\lib\\site-packages\\py2neo\\client\\bolt.py:912\u001b[0m, in \u001b[0;36mBolt3.commit\u001b[1;34m(self, tx)\u001b[0m\n\u001b[0;32m    910\u001b[0m response \u001b[38;5;241m=\u001b[39m \u001b[38;5;28mself\u001b[39m\u001b[38;5;241m.\u001b[39mappend_message(\u001b[38;5;241m0x12\u001b[39m)\n\u001b[0;32m    911\u001b[0m \u001b[38;5;28;01mtry\u001b[39;00m:\n\u001b[1;32m--> 912\u001b[0m     \u001b[38;5;28;43mself\u001b[39;49m\u001b[38;5;241;43m.\u001b[39;49m\u001b[43m_sync\u001b[49m\u001b[43m(\u001b[49m\u001b[43mresponse\u001b[49m\u001b[43m)\u001b[49m\n\u001b[0;32m    913\u001b[0m \u001b[38;5;28;01mexcept\u001b[39;00m BrokenWireError \u001b[38;5;28;01mas\u001b[39;00m error:\n\u001b[0;32m    914\u001b[0m     tx\u001b[38;5;241m.\u001b[39mmark_broken()\n",
      "File \u001b[1;32m~\\anaconda3\\envs\\coco_kg\\lib\\site-packages\\py2neo\\client\\bolt.py:799\u001b[0m, in \u001b[0;36mBolt1._sync\u001b[1;34m(self, *responses)\u001b[0m\n\u001b[0;32m    797\u001b[0m \u001b[38;5;28mself\u001b[39m\u001b[38;5;241m.\u001b[39msend()\n\u001b[0;32m    798\u001b[0m \u001b[38;5;28;01mfor\u001b[39;00m response \u001b[38;5;129;01min\u001b[39;00m responses:\n\u001b[1;32m--> 799\u001b[0m     \u001b[38;5;28;43mself\u001b[39;49m\u001b[38;5;241;43m.\u001b[39;49m\u001b[43m_wait\u001b[49m\u001b[43m(\u001b[49m\u001b[43mresponse\u001b[49m\u001b[43m)\u001b[49m\n",
      "File \u001b[1;32m~\\anaconda3\\envs\\coco_kg\\lib\\site-packages\\py2neo\\client\\bolt.py:794\u001b[0m, in \u001b[0;36mBolt1._wait\u001b[1;34m(self, response)\u001b[0m\n\u001b[0;32m    787\u001b[0m \u001b[38;5;250m\u001b[39m\u001b[38;5;124;03m\"\"\" Read all incoming responses up to and including a\u001b[39;00m\n\u001b[0;32m    788\u001b[0m \u001b[38;5;124;03mparticular response.\u001b[39;00m\n\u001b[0;32m    789\u001b[0m \n\u001b[0;32m    790\u001b[0m \u001b[38;5;124;03mThis method calls fetch, but does not raise an exception on\u001b[39;00m\n\u001b[0;32m    791\u001b[0m \u001b[38;5;124;03mFAILURE.\u001b[39;00m\n\u001b[0;32m    792\u001b[0m \u001b[38;5;124;03m\"\"\"\u001b[39;00m\n\u001b[0;32m    793\u001b[0m \u001b[38;5;28;01mwhile\u001b[39;00m \u001b[38;5;129;01mnot\u001b[39;00m response\u001b[38;5;241m.\u001b[39mfull() \u001b[38;5;129;01mand\u001b[39;00m \u001b[38;5;129;01mnot\u001b[39;00m response\u001b[38;5;241m.\u001b[39mdone():\n\u001b[1;32m--> 794\u001b[0m     \u001b[38;5;28;43mself\u001b[39;49m\u001b[38;5;241;43m.\u001b[39;49m\u001b[43m_fetch\u001b[49m\u001b[43m(\u001b[49m\u001b[43m)\u001b[49m\n",
      "File \u001b[1;32m~\\anaconda3\\envs\\coco_kg\\lib\\site-packages\\py2neo\\client\\bolt.py:769\u001b[0m, in \u001b[0;36mBolt1._fetch\u001b[1;34m(self)\u001b[0m\n\u001b[0;32m    760\u001b[0m \u001b[38;5;28;01mdef\u001b[39;00m \u001b[38;5;21m_fetch\u001b[39m(\u001b[38;5;28mself\u001b[39m):\n\u001b[0;32m    761\u001b[0m \u001b[38;5;250m    \u001b[39m\u001b[38;5;124;03m\"\"\" Fetch and process the next incoming message.\u001b[39;00m\n\u001b[0;32m    762\u001b[0m \n\u001b[0;32m    763\u001b[0m \u001b[38;5;124;03m    This method does not raise an exception on receipt of a\u001b[39;00m\n\u001b[1;32m   (...)\u001b[0m\n\u001b[0;32m    767\u001b[0m \u001b[38;5;124;03m    failed state into an exception.\u001b[39;00m\n\u001b[0;32m    768\u001b[0m \u001b[38;5;124;03m    \"\"\"\u001b[39;00m\n\u001b[1;32m--> 769\u001b[0m     tag, fields \u001b[38;5;241m=\u001b[39m \u001b[38;5;28;43mself\u001b[39;49m\u001b[38;5;241;43m.\u001b[39;49m\u001b[43mread_message\u001b[49m\u001b[43m(\u001b[49m\u001b[43m)\u001b[49m\n\u001b[0;32m    770\u001b[0m     \u001b[38;5;28;01mif\u001b[39;00m tag \u001b[38;5;241m==\u001b[39m \u001b[38;5;241m0x70\u001b[39m:\n\u001b[0;32m    771\u001b[0m         \u001b[38;5;28mself\u001b[39m\u001b[38;5;241m.\u001b[39m_responses\u001b[38;5;241m.\u001b[39mpopleft()\u001b[38;5;241m.\u001b[39mset_success(\u001b[38;5;241m*\u001b[39m\u001b[38;5;241m*\u001b[39mfields[\u001b[38;5;241m0\u001b[39m])\n",
      "File \u001b[1;32m~\\anaconda3\\envs\\coco_kg\\lib\\site-packages\\py2neo\\client\\bolt.py:696\u001b[0m, in \u001b[0;36mBolt1.read_message\u001b[1;34m(self)\u001b[0m\n\u001b[0;32m    695\u001b[0m \u001b[38;5;28;01mdef\u001b[39;00m \u001b[38;5;21mread_message\u001b[39m(\u001b[38;5;28mself\u001b[39m):\n\u001b[1;32m--> 696\u001b[0m     tag, fields \u001b[38;5;241m=\u001b[39m \u001b[38;5;28;43mself\u001b[39;49m\u001b[38;5;241;43m.\u001b[39;49m\u001b[43m_reader\u001b[49m\u001b[38;5;241;43m.\u001b[39;49m\u001b[43mread_message\u001b[49m\u001b[43m(\u001b[49m\u001b[43m)\u001b[49m\n\u001b[0;32m    697\u001b[0m     \u001b[38;5;28;01mif\u001b[39;00m tag \u001b[38;5;241m==\u001b[39m \u001b[38;5;241m0x71\u001b[39m:\n\u001b[0;32m    698\u001b[0m         \u001b[38;5;66;03m# If a RECORD is received, check for more records\u001b[39;00m\n\u001b[0;32m    699\u001b[0m         \u001b[38;5;66;03m# in the buffer immediately following, and log and\u001b[39;00m\n\u001b[0;32m    700\u001b[0m         \u001b[38;5;66;03m# add them all at the same time\u001b[39;00m\n\u001b[0;32m    701\u001b[0m         \u001b[38;5;28;01mwhile\u001b[39;00m \u001b[38;5;28mself\u001b[39m\u001b[38;5;241m.\u001b[39m_reader\u001b[38;5;241m.\u001b[39mpeek_message() \u001b[38;5;241m==\u001b[39m \u001b[38;5;241m0x71\u001b[39m:\n",
      "File \u001b[1;32m~\\anaconda3\\envs\\coco_kg\\lib\\site-packages\\py2neo\\client\\bolt.py:156\u001b[0m, in \u001b[0;36mBoltMessageReader.read_message\u001b[1;34m(self)\u001b[0m\n\u001b[0;32m    154\u001b[0m \u001b[38;5;28;01mwhile\u001b[39;00m \u001b[38;5;28;01mTrue\u001b[39;00m:\n\u001b[0;32m    155\u001b[0m     \u001b[38;5;28;01mtry\u001b[39;00m:\n\u001b[1;32m--> 156\u001b[0m         hi, lo \u001b[38;5;241m=\u001b[39m \u001b[38;5;28;43mself\u001b[39;49m\u001b[38;5;241;43m.\u001b[39;49m\u001b[43mwire\u001b[49m\u001b[38;5;241;43m.\u001b[39;49m\u001b[43mread\u001b[49m\u001b[43m(\u001b[49m\u001b[38;5;241;43m2\u001b[39;49m\u001b[43m)\u001b[49m\n\u001b[0;32m    157\u001b[0m     \u001b[38;5;28;01mexcept\u001b[39;00m WireError \u001b[38;5;28;01mas\u001b[39;00m error:\n\u001b[0;32m    158\u001b[0m         raise_from(ConnectionBroken(\u001b[38;5;124m\"\u001b[39m\u001b[38;5;124mFailed to read message\u001b[39m\u001b[38;5;124m\"\u001b[39m), error)\n",
      "File \u001b[1;32m~\\anaconda3\\envs\\coco_kg\\lib\\site-packages\\py2neo\\wiring.py:117\u001b[0m, in \u001b[0;36mWire.read\u001b[1;34m(self, n)\u001b[0m\n\u001b[0;32m    115\u001b[0m requested \u001b[38;5;241m=\u001b[39m \u001b[38;5;28mmax\u001b[39m(required, \u001b[38;5;241m16384\u001b[39m)\n\u001b[0;32m    116\u001b[0m \u001b[38;5;28;01mtry\u001b[39;00m:\n\u001b[1;32m--> 117\u001b[0m     received \u001b[38;5;241m=\u001b[39m \u001b[38;5;28;43mself\u001b[39;49m\u001b[38;5;241;43m.\u001b[39;49m\u001b[43m__socket\u001b[49m\u001b[38;5;241;43m.\u001b[39;49m\u001b[43mrecv\u001b[49m\u001b[43m(\u001b[49m\u001b[43mrequested\u001b[49m\u001b[43m)\u001b[49m\n\u001b[0;32m    118\u001b[0m \u001b[38;5;28;01mexcept\u001b[39;00m (\u001b[38;5;167;01mIOError\u001b[39;00m, \u001b[38;5;167;01mOSError\u001b[39;00m):\n\u001b[0;32m    119\u001b[0m     \u001b[38;5;28mself\u001b[39m\u001b[38;5;241m.\u001b[39m__mark_broken(\u001b[38;5;124m\"\u001b[39m\u001b[38;5;124mWire broken\u001b[39m\u001b[38;5;124m\"\u001b[39m)\n",
      "\u001b[1;31mKeyboardInterrupt\u001b[0m: "
     ]
    }
   ],
   "source": [
    "# Load dữ liệu từ CSV\n",
    "df_objects = pd.read_csv(\"coco_nodes.csv\")\n",
    "df_relationships = pd.read_csv(\"coco_object_relationships.csv\")\n",
    "\n",
    "# Dictionary ánh xạ object ID -> Node\n",
    "node_dict = {}\n",
    "\n",
    "# Thêm object vào Neo4j với tên thực tế lấy từ label trong CSV\n",
    "for _, row in df_objects.iterrows():\n",
    "    object_name = row[\"label\"]  # Sử dụng trực tiếp label làm tên thực tế\n",
    "    node = Node(\"Object\",\n",
    "                node_id=int(row[\"node_id\"]),\n",
    "                name=object_name,  # Dùng label làm tên thực tế\n",
    "                label=row[\"label\"],\n",
    "                image_id=int(row[\"image_id\"]),\n",
    "                x1=row[\"x1\"], y1=row[\"y1\"],\n",
    "                x2=row[\"x2\"], y2=row[\"y2\"])\n",
    "    \n",
    "    graph.merge(node, \"Object\", \"node_id\")\n",
    "    node_dict[row[\"node_id\"]] = node  # Lưu vào dict để tạo quan hệ nhanh hơn\n",
    "\n",
    "print(f\"[✅] Đã thêm {len(df_objects)} objects vào Neo4j với tên thực tế từ label.\")"
   ]
  },
  {
   "cell_type": "code",
   "execution_count": null,
   "id": "147ee188",
   "metadata": {},
   "outputs": [],
   "source": [
    "# Thêm quan hệ giữa các object\n",
    "for _, row in df_relationships.iterrows():\n",
    "    obj1_id = int(row[\"object_1\"])\n",
    "    obj2_id = int(row[\"object_2\"])\n",
    "    relationship_type = row[\"relationship\"]\n",
    "\n",
    "    if obj1_id in node_dict and obj2_id in node_dict:\n",
    "        rel = Relationship(node_dict[obj1_id], relationship_type, node_dict[obj2_id])\n",
    "        graph.merge(rel)\n",
    "\n",
    "print(f\"[✅] Đã thêm {len(df_relationships)} quan hệ vào Neo4j.\")"
   ]
  }
 ],
 "metadata": {
  "kernelspec": {
   "display_name": "Python 3 (ipykernel)",
   "language": "python",
   "name": "python3"
  },
  "language_info": {
   "codemirror_mode": {
    "name": "ipython",
    "version": 3
   },
   "file_extension": ".py",
   "mimetype": "text/x-python",
   "name": "python",
   "nbconvert_exporter": "python",
   "pygments_lexer": "ipython3",
   "version": "3.8.20"
  }
 },
 "nbformat": 4,
 "nbformat_minor": 5
}
