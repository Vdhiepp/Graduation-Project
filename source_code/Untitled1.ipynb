{
 "cells": [
  {
   "cell_type": "code",
   "execution_count": 2,
   "id": "45ca8d2a",
   "metadata": {},
   "outputs": [
    {
     "name": "stdout",
     "output_type": "stream",
     "text": [
      "🔄 Đang tải đồ thị từ coco_kg.graphml...\n",
      "🔧 Đang mã hóa node labels...\n",
      "🔧 Đang mã hóa edge attributes...\n",
      "🔁 Đang chuyển sang DGLGraph...\n",
      "✅ Hoàn tất! Đã lưu DGLGraph và các bộ mã hóa.\n"
     ]
    }
   ],
   "source": [
    "import networkx as nx\n",
    "import dgl\n",
    "import torch\n",
    "from sklearn.preprocessing import LabelEncoder\n",
    "import os\n",
    "\n",
    "# --- Load graph từ GraphML ---\n",
    "print(\"🔄 Đang tải đồ thị từ coco_kg.graphml...\")\n",
    "G_nx = nx.read_graphml(\"coco_kg.graphml\")\n",
    "\n",
    "# --- Encode label của node ---\n",
    "print(\"🔧 Đang mã hóa node labels...\")\n",
    "node_labels = []\n",
    "for _, data in G_nx.nodes(data=True):\n",
    "    node_labels.append(data.get(\"label\", \"unknown\"))\n",
    "\n",
    "node_encoder = LabelEncoder()\n",
    "encoded_node_labels = node_encoder.fit_transform(node_labels)\n",
    "\n",
    "# Gán thành thuộc tính 'feature' cho node\n",
    "for i, (_, data) in enumerate(G_nx.nodes(data=True)):\n",
    "    data[\"feature\"] = int(encoded_node_labels[i])\n",
    "\n",
    "# --- Encode edge relation và source ---\n",
    "print(\"🔧 Đang mã hóa edge attributes...\")\n",
    "rel_list, src_list = [], []\n",
    "for _, _, data in G_nx.edges(data=True):\n",
    "    rel_list.append(data.get(\"relation\", \"unknown\"))\n",
    "    src_list.append(data.get(\"source\", \"unknown\"))\n",
    "\n",
    "rel_encoder = LabelEncoder()\n",
    "src_encoder = LabelEncoder()\n",
    "rel_encoded = rel_encoder.fit_transform(rel_list)\n",
    "src_encoded = src_encoder.fit_transform(src_list)\n",
    "\n",
    "# Gán giá trị số lại vào cạnh\n",
    "for i, (u, v, data) in enumerate(G_nx.edges(data=True)):\n",
    "    data[\"relation\"] = int(rel_encoded[i])\n",
    "    data[\"source\"] = int(src_encoded[i])\n",
    "\n",
    "# --- Chuyển sang DGLGraph ---\n",
    "print(\"🔁 Đang chuyển sang DGLGraph...\")\n",
    "G_dgl = dgl.from_networkx(G_nx, node_attrs=[\"feature\"], edge_attrs=[\"relation\", \"source\"])\n",
    "\n",
    "# --- Lưu lại DGLGraph và encoders ---\n",
    "torch.save(G_dgl, \"coco_kg_dgl.pt\")\n",
    "torch.save(node_encoder.classes_, \"label_classes.pt\")\n",
    "torch.save(rel_encoder.classes_, \"relation_classes.pt\")\n",
    "torch.save(src_encoder.classes_, \"source_classes.pt\")\n",
    "\n",
    "print(\"✅ Hoàn tất! Đã lưu DGLGraph và các bộ mã hóa.\")"
   ]
  },
  {
   "cell_type": "code",
   "execution_count": null,
   "id": "fb39d020",
   "metadata": {},
   "outputs": [],
   "source": []
  }
 ],
 "metadata": {
  "kernelspec": {
   "display_name": "Python 3 (ipykernel)",
   "language": "python",
   "name": "python3"
  },
  "language_info": {
   "codemirror_mode": {
    "name": "ipython",
    "version": 3
   },
   "file_extension": ".py",
   "mimetype": "text/x-python",
   "name": "python",
   "nbconvert_exporter": "python",
   "pygments_lexer": "ipython3",
   "version": "3.8.20"
  }
 },
 "nbformat": 4,
 "nbformat_minor": 5
}
