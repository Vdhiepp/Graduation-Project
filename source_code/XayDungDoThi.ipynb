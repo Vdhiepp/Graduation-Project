{
 "cells": [
  {
   "cell_type": "code",
   "execution_count": 3,
   "id": "fa266eb7",
   "metadata": {},
   "outputs": [],
   "source": [
    "import pandas as pd\n",
    "# Đường dẫn tới file CSV đã được trích xuất từ COCO2017\n",
    "file_path = \"f_coco_triplets.csv\"\n",
    "\n",
    "# Đọc dữ liệu\n",
    "df = pd.read_csv(file_path)"
   ]
  },
  {
   "cell_type": "code",
   "execution_count": 4,
   "id": "6f13689a",
   "metadata": {},
   "outputs": [],
   "source": [
    "import networkx as nx\n",
    "\n",
    "# Tạo đồ thị có hướng\n",
    "G = nx.DiGraph()\n",
    "\n",
    "# Thêm node và edge từ DataFrame\n",
    "for _, row in df.iterrows():\n",
    "    subj = row['subject']\n",
    "    obj = row['object']\n",
    "    rel = row['predicate']\n",
    "    img_id = row['image_id']\n",
    "\n",
    "    # Thêm các nút (node)\n",
    "    G.add_node(subj, type='entity')\n",
    "    G.add_node(obj, type='entity')\n",
    "    G.add_node(f\"img_{img_id}\", type='image')\n",
    "\n",
    "    # Thêm quan hệ: subject --predicate--> object\n",
    "    G.add_edge(subj, obj, label=rel)\n",
    "    \n",
    "    # Thêm quan hệ: subject và object thuộc về ảnh nào\n",
    "    G.add_edge(f\"img_{img_id}\", subj, label='has_object')\n",
    "    G.add_edge(f\"img_{img_id}\", obj, label='has_object')"
   ]
  },
  {
   "cell_type": "code",
   "execution_count": 5,
   "id": "6425f07d",
   "metadata": {},
   "outputs": [
    {
     "name": "stdout",
     "output_type": "stream",
     "text": [
      "Tổng số nút: 3458\n",
      "Tổng số cạnh: 8106\n",
      "man --[wear]--> hat\n",
      "man --[enjoy]--> nap\n",
      "man --[hold]--> banana\n",
      "man --[take]--> bite\n",
      "man --[herd]--> goats\n"
     ]
    }
   ],
   "source": [
    "print(\"Tổng số nút:\", G.number_of_nodes())\n",
    "print(\"Tổng số cạnh:\", G.number_of_edges())\n",
    "\n",
    "# Ví dụ in 5 cạnh đầu\n",
    "for u, v, data in list(G.edges(data=True))[:5]:\n",
    "    print(f\"{u} --[{data['label']}]--> {v}\")"
   ]
  },
  {
   "cell_type": "code",
   "execution_count": 7,
   "id": "14f41819",
   "metadata": {},
   "outputs": [],
   "source": [
    "from py2neo import Graph, Node, Relationship\n",
    "\n",
    "# Kết nối đến Neo4j\n",
    "graph = Graph(\"bolt://localhost:7687\", auth=(\"neo4j\", \"12345678\"))"
   ]
  },
  {
   "cell_type": "code",
   "execution_count": 10,
   "id": "3be22ca3",
   "metadata": {},
   "outputs": [
    {
     "data": {
      "text/html": [
       "(No data)"
      ],
      "text/plain": [
       "(No data)"
      ]
     },
     "execution_count": 10,
     "metadata": {},
     "output_type": "execute_result"
    }
   ],
   "source": [
    "# Optional: xóa toàn bộ dữ liệu cũ\n",
    "graph.run(\"MATCH (n) DETACH DELETE n\")"
   ]
  },
  {
   "cell_type": "code",
   "execution_count": 8,
   "id": "0c67ee02",
   "metadata": {},
   "outputs": [],
   "source": [
    "def create_kg(tx, subj, pred, obj, img_id):\n",
    "    query = \"\"\"\n",
    "    MERGE (s:Entity {name: $subj})\n",
    "    MERGE (o:Entity {name: $obj})\n",
    "    MERGE (i:Image {id: $img_id})\n",
    "    MERGE (i)-[:HAS_OBJECT]->(s)\n",
    "    MERGE (i)-[:HAS_OBJECT]->(o)\n",
    "    MERGE (s)-[r:RELATION {name: $pred}]->(o)\n",
    "    \"\"\"\n",
    "    tx.run(query, subj=subj, pred=pred, obj=obj, img_id=str(img_id))"
   ]
  },
  {
   "cell_type": "code",
   "execution_count": 11,
   "id": "ff5439d2",
   "metadata": {},
   "outputs": [],
   "source": [
    "from py2neo import Node, Relationship, NodeMatcher\n",
    "\n",
    "# Lọc bỏ các dòng chứa NaN trong các cột quan trọng\n",
    "df_clean = df.dropna(subset=['subject', 'predicate', 'object', 'image_id'])\n",
    "\n",
    "matcher = NodeMatcher(graph)\n",
    "\n",
    "for _, row in df_clean.iterrows():\n",
    "    subj_name = str(row['subject']).strip()\n",
    "    pred_name = str(row['predicate']).strip()\n",
    "    obj_name = str(row['object']).strip()\n",
    "    img_id = str(row['image_id']).strip()\n",
    "\n",
    "    # Skip nếu còn bất kỳ giá trị nào rỗng sau khi strip\n",
    "    if not subj_name or not pred_name or not obj_name or not img_id:\n",
    "        continue\n",
    "\n",
    "    # Tạo node\n",
    "    subj_node = matcher.match(\"Entity\", name=subj_name).first() or Node(\"Entity\", name=subj_name)\n",
    "    obj_node = matcher.match(\"Entity\", name=obj_name).first() or Node(\"Entity\", name=obj_name)\n",
    "    img_node = matcher.match(\"Image\", id=img_id).first() or Node(\"Image\", id=img_id)\n",
    "\n",
    "    # Merge node\n",
    "    graph.merge(subj_node, \"Entity\", \"name\")\n",
    "    graph.merge(obj_node, \"Entity\", \"name\")\n",
    "    graph.merge(img_node, \"Image\", \"id\")\n",
    "\n",
    "    # Tạo & merge quan hệ\n",
    "    rel1 = Relationship(subj_node, pred_name.upper(), obj_node)\n",
    "    rel2 = Relationship(img_node, \"HAS_OBJECT\", subj_node)\n",
    "    rel3 = Relationship(img_node, \"HAS_OBJECT\", obj_node)\n",
    "\n",
    "    graph.merge(rel1)\n",
    "    graph.merge(rel2)\n",
    "    graph.merge(rel3)"
   ]
  },
  {
   "cell_type": "code",
   "execution_count": null,
   "id": "c056e1b9",
   "metadata": {},
   "outputs": [],
   "source": []
  }
 ],
 "metadata": {
  "kernelspec": {
   "display_name": "Python 3 (ipykernel)",
   "language": "python",
   "name": "python3"
  },
  "language_info": {
   "codemirror_mode": {
    "name": "ipython",
    "version": 3
   },
   "file_extension": ".py",
   "mimetype": "text/x-python",
   "name": "python",
   "nbconvert_exporter": "python",
   "pygments_lexer": "ipython3",
   "version": "3.8.20"
  }
 },
 "nbformat": 4,
 "nbformat_minor": 5
}
