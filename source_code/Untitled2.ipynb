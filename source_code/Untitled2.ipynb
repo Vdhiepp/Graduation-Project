{
 "cells": [
  {
   "cell_type": "code",
   "execution_count": 2,
   "id": "798f2fd1",
   "metadata": {},
   "outputs": [],
   "source": [
    "import pickle\n",
    "import numpy as np\n",
    "from sklearn.preprocessing import LabelEncoder\n",
    "\n",
    "# Load entity2id\n",
    "with open(\"saved_model_TransE/entity2id.pkl\", \"rb\") as f:\n",
    "    entity2id = pickle.load(f)\n",
    "\n",
    "# Tạo LabelEncoder tương đương\n",
    "encoder = LabelEncoder()\n",
    "encoder.classes_ = np.array(sorted(entity2id, key=entity2id.get))\n",
    "\n",
    "# Lưu lại thành entity_encoder.pkl\n",
    "with open(\"saved_model_TransE/entity_encoder.pkl\", \"wb\") as f:\n",
    "    pickle.dump(encoder, f)"
   ]
  },
  {
   "cell_type": "code",
   "execution_count": 5,
   "id": "dd32c53f",
   "metadata": {},
   "outputs": [
    {
     "name": "stderr",
     "output_type": "stream",
     "text": [
      "2025-06-08 12:29:39.070 WARNING streamlit.runtime.scriptrunner_utils.script_run_context: Thread 'MainThread': missing ScriptRunContext! This warning can be ignored when running in bare mode.\n"
     ]
    }
   ],
   "source": [
    "import streamlit as st\n",
    "import os\n",
    "from PIL import Image\n",
    "import pickle\n",
    "import numpy as np\n",
    "from collections import Counter\n",
    "import spacy\n",
    "\n",
    "st.set_page_config(page_title=\"Image Search from Caption\", layout=\"wide\")\n",
    "nlp = spacy.load(\"en_core_web_sm\")\n",
    "\n",
    "# === Load models ===\n",
    "MODELS = {\n",
    "    \"TransE\": \"saved_model_TransE\",\n",
    "    \"GCN\": \"saved_model_GCN\",\n",
    "    \"GAT\": \"saved_model_GAT\",\n",
    "    \"R-GCN\": \"saved_model_R_GCN\"\n",
    "}\n",
    "\n",
    "model_data = {}\n",
    "for name, path in MODELS.items():\n",
    "    with open(f\"{path}/entity_encoder.pkl\", \"rb\") as f:\n",
    "        entity_encoder = pickle.load(f)\n",
    "    with open(f\"{path}/entity_idx_to_images.pkl\", \"rb\") as f:\n",
    "        entity_idx_to_images = pickle.load(f)\n",
    "    with open(f\"{path}/synonym_map.pkl\", \"rb\") as f:\n",
    "        synonym_map = pickle.load(f)\n",
    "    model_data[name] = {\n",
    "        \"encoder\": entity_encoder,\n",
    "        \"idx_to_images\": entity_idx_to_images,\n",
    "        \"syn_map\": synonym_map\n",
    "    }"
   ]
  },
  {
   "cell_type": "code",
   "execution_count": null,
   "id": "c7dc1b0d",
   "metadata": {},
   "outputs": [],
   "source": []
  }
 ],
 "metadata": {
  "kernelspec": {
   "display_name": "Python 3 (ipykernel)",
   "language": "python",
   "name": "python3"
  },
  "language_info": {
   "codemirror_mode": {
    "name": "ipython",
    "version": 3
   },
   "file_extension": ".py",
   "mimetype": "text/x-python",
   "name": "python",
   "nbconvert_exporter": "python",
   "pygments_lexer": "ipython3",
   "version": "3.8.20"
  }
 },
 "nbformat": 4,
 "nbformat_minor": 5
}
