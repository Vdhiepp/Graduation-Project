{
 "cells": [
  {
   "cell_type": "code",
   "execution_count": 2,
   "id": "533df406",
   "metadata": {},
   "outputs": [],
   "source": [
    "import pandas as pd\n",
    "import matplotlib.pyplot as plt"
   ]
  },
  {
   "cell_type": "code",
   "execution_count": 3,
   "id": "2d5f0706",
   "metadata": {},
   "outputs": [
    {
     "data": {
      "text/html": [
       "<div>\n",
       "<style scoped>\n",
       "    .dataframe tbody tr th:only-of-type {\n",
       "        vertical-align: middle;\n",
       "    }\n",
       "\n",
       "    .dataframe tbody tr th {\n",
       "        vertical-align: top;\n",
       "    }\n",
       "\n",
       "    .dataframe thead th {\n",
       "        text-align: right;\n",
       "    }\n",
       "</style>\n",
       "<table border=\"1\" class=\"dataframe\">\n",
       "  <thead>\n",
       "    <tr style=\"text-align: right;\">\n",
       "      <th></th>\n",
       "      <th>subject</th>\n",
       "      <th>predicate</th>\n",
       "      <th>object</th>\n",
       "      <th>image_id</th>\n",
       "    </tr>\n",
       "  </thead>\n",
       "  <tbody>\n",
       "    <tr>\n",
       "      <th>0</th>\n",
       "      <td>man</td>\n",
       "      <td>wear</td>\n",
       "      <td>hat</td>\n",
       "      <td>93437</td>\n",
       "    </tr>\n",
       "    <tr>\n",
       "      <th>1</th>\n",
       "      <td>telephone</td>\n",
       "      <td>have</td>\n",
       "      <td>banana</td>\n",
       "      <td>12667</td>\n",
       "    </tr>\n",
       "    <tr>\n",
       "      <th>2</th>\n",
       "      <td>group</td>\n",
       "      <td>drive</td>\n",
       "      <td>tree</td>\n",
       "      <td>314251</td>\n",
       "    </tr>\n",
       "    <tr>\n",
       "      <th>3</th>\n",
       "      <td>man</td>\n",
       "      <td>enjoy</td>\n",
       "      <td>nap</td>\n",
       "      <td>223747</td>\n",
       "    </tr>\n",
       "    <tr>\n",
       "      <th>4</th>\n",
       "      <td>man</td>\n",
       "      <td>wear</td>\n",
       "      <td>hat</td>\n",
       "      <td>93437</td>\n",
       "    </tr>\n",
       "  </tbody>\n",
       "</table>\n",
       "</div>"
      ],
      "text/plain": [
       "     subject predicate  object  image_id\n",
       "0        man      wear     hat     93437\n",
       "1  telephone      have  banana     12667\n",
       "2      group     drive    tree    314251\n",
       "3        man     enjoy     nap    223747\n",
       "4        man      wear     hat     93437"
      ]
     },
     "execution_count": 3,
     "metadata": {},
     "output_type": "execute_result"
    }
   ],
   "source": [
    "# Đường dẫn tới file CSV đã được trích xuất từ COCO2017\n",
    "file_path = \"f_coco_triplets.csv\"\n",
    "\n",
    "# Đọc dữ liệu\n",
    "df = pd.read_csv(file_path)\n",
    "df.columns = ['subject', 'predicate', 'object', 'image_id']  # Đảm bảo đặt tên cột đúng\n",
    "df.head()"
   ]
  },
  {
   "cell_type": "code",
   "execution_count": 4,
   "id": "05c18717",
   "metadata": {},
   "outputs": [
    {
     "name": "stdout",
     "output_type": "stream",
     "text": [
      "Tổng số dòng dữ liệu: 3316\n",
      "Số ảnh duy nhất: 2250\n",
      "Số triplet duy nhất: 2613\n",
      "Một số giá trị thiếu:\n",
      "subject      1\n",
      "predicate    0\n",
      "object       0\n",
      "image_id     0\n",
      "dtype: int64\n"
     ]
    }
   ],
   "source": [
    "print(\"Tổng số dòng dữ liệu:\", len(df))\n",
    "print(\"Số ảnh duy nhất:\", df['image_id'].nunique())\n",
    "print(\"Số triplet duy nhất:\", df.drop_duplicates(['subject', 'predicate', 'object']).shape[0])\n",
    "print(\"Một số giá trị thiếu:\")\n",
    "print(df.isnull().sum())"
   ]
  },
  {
   "cell_type": "code",
   "execution_count": 6,
   "id": "cb51c8c6",
   "metadata": {},
   "outputs": [
    {
     "data": {
      "image/png": "[encoded data removed]",
      "text/plain": [
       "<Figure size 1000x500 with 1 Axes>"
      ]
     },
     "metadata": {},
     "output_type": "display_data"
    }
   ],
   "source": [
    "# Top 10 đối tượng (subject hoặc object) phổ biến nhất\n",
    "object_freq = pd.concat([df['subject'], df['object']]).value_counts().head(10)\n",
    "\n",
    "# Vẽ biểu đồ bằng matplotlib\n",
    "plt.figure(figsize=(10, 5))\n",
    "plt.barh(object_freq.index[::-1], object_freq.values[::-1], color='skyblue')  # Đảo ngược để item phổ biến nhất nằm trên\n",
    "plt.title(\"Top 10 đối tượng (subject/object) xuất hiện nhiều nhất\")\n",
    "plt.xlabel(\"Tần suất\")\n",
    "plt.ylabel(\"Đối tượng\")\n",
    "plt.tight_layout()\n",
    "plt.show()"
   ]
  },
  {
   "cell_type": "code",
   "execution_count": 7,
   "id": "fa28b896",
   "metadata": {},
   "outputs": [],
   "source": [
    "# Hàm làm sạch chuỗi\n",
    "def normalize_text(text):\n",
    "    return str(text).strip().lower().replace(\"_\", \" \")\n",
    "\n",
    "# Áp dụng cho 3 cột văn bản chính\n",
    "df['subject'] = df['subject'].apply(normalize_text)\n",
    "df['predicate'] = df['predicate'].apply(normalize_text)\n",
    "df['object'] = df['object'].apply(normalize_text)"
   ]
  },
  {
   "cell_type": "code",
   "execution_count": 8,
   "id": "1ad20931",
   "metadata": {},
   "outputs": [
    {
     "name": "stdout",
     "output_type": "stream",
     "text": [
      "Đã lưu dữ liệu đã tiền xử lý.\n"
     ]
    }
   ],
   "source": [
    "df.to_csv(\"triplets_preprocessed.csv\", index=False)\n",
    "print(\"Đã lưu dữ liệu đã tiền xử lý.\")"
   ]
  },
  {
   "cell_type": "code",
   "execution_count": null,
   "id": "a950e580",
   "metadata": {},
   "outputs": [],
   "source": []
  }
 ],
 "metadata": {
  "kernelspec": {
   "display_name": "Python 3 (ipykernel)",
   "language": "python",
   "name": "python3"
  },
  "language_info": {
   "codemirror_mode": {
    "name": "ipython",
    "version": 3
   },
   "file_extension": ".py",
   "mimetype": "text/x-python",
   "name": "python",
   "nbconvert_exporter": "python",
   "pygments_lexer": "ipython3",
   "version": "3.8.20"
  }
 },
 "nbformat": 4,
 "nbformat_minor": 5
}
