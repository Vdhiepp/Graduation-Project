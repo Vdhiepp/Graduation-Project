{
 "cells": [
  {
   "cell_type": "code",
   "execution_count": 1,
   "id": "918a650c",
   "metadata": {},
   "outputs": [
    {
     "name": "stderr",
     "output_type": "stream",
     "text": [
      "100%|███████████████████████████████████████████████████████████████████████████| 25014/25014 [03:10<00:00, 131.15it/s]"
     ]
    },
    {
     "name": "stdout",
     "output_type": "stream",
     "text": [
      "✅ Đã ghi 3316 triplet vào f_coco_triplets.csv\n"
     ]
    },
    {
     "name": "stderr",
     "output_type": "stream",
     "text": [
      "\n"
     ]
    }
   ],
   "source": [
    "import json\n",
    "import csv\n",
    "import spacy\n",
    "from tqdm import tqdm\n",
    "\n",
    "# Load spaCy English model\n",
    "nlp = spacy.load(\"en_core_web_sm\")\n",
    "\n",
    "# Đường dẫn đến file caption COCO\n",
    "caption_file = \"E:/Download/annotations/captions_val2017.json\"\n",
    "\n",
    "# Đọc file JSON\n",
    "with open(caption_file, \"r\") as f:\n",
    "    coco_data = json.load(f)\n",
    "\n",
    "annotations = coco_data[\"annotations\"]\n",
    "\n",
    "# Danh sách triplet thu được\n",
    "triplets = []\n",
    "\n",
    "# Hàm đơn giản hoá tách triplet từ câu \n",
    "def extract_triplet(text):\n",
    "    doc = nlp(text)\n",
    "    for sent in doc.sents:\n",
    "        for token in sent:\n",
    "            if token.pos_ == \"VERB\":\n",
    "                subj = [w for w in token.lefts if w.dep_ in [\"nsubj\", \"nsubjpass\"]]\n",
    "                obj = [w for w in token.rights if w.dep_ in [\"dobj\", \"pobj\"]]\n",
    "                if subj and obj:\n",
    "                    return (subj[0].text.lower(), token.lemma_.lower(), obj[0].text.lower())\n",
    "    return None\n",
    "\n",
    "# Lặp qua caption\n",
    "for ann in tqdm(annotations):\n",
    "    caption = ann[\"caption\"]\n",
    "    image_id = ann[\"image_id\"]\n",
    "    triplet = extract_triplet(caption)\n",
    "    if triplet:\n",
    "        subject, predicate, obj = triplet\n",
    "        triplets.append((subject, predicate, obj, image_id))\n",
    "\n",
    "# Ghi ra file CSV\n",
    "with open(\"f_coco_triplets.csv\", \"w\", newline='', encoding=\"utf-8\") as f:\n",
    "    writer = csv.writer(f)\n",
    "    writer.writerow([\"subject\", \"predicate\", \"object\", \"image_id\"])\n",
    "    writer.writerows(triplets)\n",
    "\n",
    "print(f\"✅ Đã ghi {len(triplets)} triplet vào f_coco_triplets.csv\")\n"
   ]
  },
  {
   "cell_type": "code",
   "execution_count": null,
   "id": "0d00807a",
   "metadata": {},
   "outputs": [],
   "source": []
  }
 ],
 "metadata": {
  "kernelspec": {
   "display_name": "Python 3 (ipykernel)",
   "language": "python",
   "name": "python3"
  },
  "language_info": {
   "codemirror_mode": {
    "name": "ipython",
    "version": 3
   },
   "file_extension": ".py",
   "mimetype": "text/x-python",
   "name": "python",
   "nbconvert_exporter": "python",
   "pygments_lexer": "ipython3",
   "version": "3.8.20"
  }
 },
 "nbformat": 4,
 "nbformat_minor": 5
}
