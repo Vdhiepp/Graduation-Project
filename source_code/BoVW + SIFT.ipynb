{
 "cells": [
  {
   "cell_type": "code",
   "execution_count": 1,
   "id": "863f851a",
   "metadata": {},
   "outputs": [],
   "source": [
    "import cv2\n",
    "import numpy as np\n",
    "import matplotlib.pyplot as plt\n",
    "from sklearn.cluster import KMeans\n",
    "from sklearn.metrics.pairwise import cosine_similarity\n",
    "import os\n",
    "from tqdm import tqdm"
   ]
  },
  {
   "cell_type": "code",
   "execution_count": null,
   "id": "a5077aaa",
   "metadata": {},
   "outputs": [],
   "source": []
  },
  {
   "cell_type": "code",
   "execution_count": 2,
   "id": "960ff3a0",
   "metadata": {},
   "outputs": [],
   "source": [
    "image_dir = \"E:/Download/val2017\"\n",
    "image_paths = [os.path.join(image_dir, fname) for fname in os.listdir(image_dir) if fname.endswith(\".jpg\")]"
   ]
  },
  {
   "cell_type": "code",
   "execution_count": 3,
   "id": "1fb751f8",
   "metadata": {},
   "outputs": [
    {
     "name": "stdout",
     "output_type": "stream",
     "text": [
      "🔍 Đang trích xuất SIFT...\n"
     ]
    },
    {
     "name": "stderr",
     "output_type": "stream",
     "text": [
      "100%|██████████████████████████████████████████████████████████████████████████████| 5000/5000 [08:25<00:00,  9.89it/s]\n"
     ]
    }
   ],
   "source": [
    "sift = cv2.SIFT_create()\n",
    "descriptor_list = []\n",
    "image_descriptors = []\n",
    "\n",
    "print(\"🔍 Đang trích xuất SIFT...\")\n",
    "for path in tqdm(image_paths):\n",
    "    img = cv2.imread(path)\n",
    "    if img is None:\n",
    "        continue\n",
    "    gray = cv2.cvtColor(img, cv2.COLOR_BGR2GRAY)\n",
    "    keypoints, descriptors = sift.detectAndCompute(gray, None)\n",
    "    if descriptors is not None:\n",
    "        descriptor_list.extend(descriptors)\n",
    "        image_descriptors.append((path, descriptors))"
   ]
  },
  {
   "cell_type": "code",
   "execution_count": null,
   "id": "fa1918c4",
   "metadata": {},
   "outputs": [
    {
     "name": "stdout",
     "output_type": "stream",
     "text": [
      "🧠 Đang huấn luyện KMeans...\n"
     ]
    },
    {
     "name": "stderr",
     "output_type": "stream",
     "text": [
      "C:\\Users\\admin\\anaconda3\\envs\\coco_kg\\lib\\site-packages\\sklearn\\cluster\\_kmeans.py:1416: FutureWarning: The default value of `n_init` will change from 10 to 'auto' in 1.4. Set the value of `n_init` explicitly to suppress the warning\n",
      "  super()._check_params_vs_input(X, default_n_init=10)\n"
     ]
    }
   ],
   "source": [
    "K = 100  # số cluster (visual words)\n",
    "kmeans = KMeans(n_clusters=K, random_state=42)\n",
    "print(\" Đang huấn luyện KMeans...\")\n",
    "kmeans.fit(descriptor_list)"
   ]
  },
  {
   "cell_type": "code",
   "execution_count": null,
   "id": "be3310eb",
   "metadata": {},
   "outputs": [],
   "source": [
    "image_bovw = {}\n",
    "\n",
    "print(\"Đang tạo histogram BoVW cho từng ảnh...\")\n",
    "for path, descriptors in image_descriptors:\n",
    "    labels = kmeans.predict(descriptors)\n",
    "    hist, _ = np.histogram(labels, bins=np.arange(K+1))\n",
    "    hist = hist.astype(float)\n",
    "    hist /= (hist.sum() + 1e-6)  # chuẩn hoá\n",
    "    image_bovw[path] = hist"
   ]
  }
 ],
 "metadata": {
  "kernelspec": {
   "display_name": "Python 3 (ipykernel)",
   "language": "python",
   "name": "python3"
  },
  "language_info": {
   "codemirror_mode": {
    "name": "ipython",
    "version": 3
   },
   "file_extension": ".py",
   "mimetype": "text/x-python",
   "name": "python",
   "nbconvert_exporter": "python",
   "pygments_lexer": "ipython3",
   "version": "3.8.20"
  }
 },
 "nbformat": 4,
 "nbformat_minor": 5
}
