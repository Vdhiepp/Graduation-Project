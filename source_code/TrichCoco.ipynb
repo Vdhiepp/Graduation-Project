{
 "cells": [
  {
   "cell_type": "code",
   "execution_count": 1,
   "id": "3125a355",
   "metadata": {},
   "outputs": [
    {
     "name": "stdout",
     "output_type": "stream",
     "text": [
      "Building KG from COCO...\n"
     ]
    },
    {
     "name": "stderr",
     "output_type": "stream",
     "text": [
      "100%|████████████████████████████████████████████████████████████████████████| 117266/117266 [1:07:36<00:00, 28.91it/s]\n"
     ]
    },
    {
     "name": "stdout",
     "output_type": "stream",
     "text": [
      "KG saved to coco_kg.graphml\n"
     ]
    }
   ],
   "source": [
    "import json\n",
    "import os\n",
    "import networkx as nx\n",
    "import spacy\n",
    "from tqdm import tqdm\n",
    "\n",
    "# Load COCO annotations\n",
    "with open(\"E:/Download/annotations/instances_train2017.json\") as f:\n",
    "    instance_data = json.load(f)\n",
    "\n",
    "with open(\"E:/Download/annotations/captions_train2017.json\") as f:\n",
    "    caption_data = json.load(f)\n",
    "\n",
    "# Build dict for image_id -> caption\n",
    "caption_dict = {}\n",
    "for ann in caption_data[\"annotations\"]:\n",
    "    image_id = ann[\"image_id\"]\n",
    "    caption = ann[\"caption\"]\n",
    "    if image_id not in caption_dict:\n",
    "        caption_dict[image_id] = []\n",
    "    caption_dict[image_id].append(caption)\n",
    "\n",
    "# Build dict for image_id -> list of objects\n",
    "image_objects = {}\n",
    "categories = {cat[\"id\"]: cat[\"name\"] for cat in instance_data[\"categories\"]}\n",
    "for ann in instance_data[\"annotations\"]:\n",
    "    image_id = ann[\"image_id\"]\n",
    "    cat_id = ann[\"category_id\"]\n",
    "    bbox = ann[\"bbox\"]\n",
    "    label = categories[cat_id]\n",
    "    if image_id not in image_objects:\n",
    "        image_objects[image_id] = []\n",
    "    image_objects[image_id].append({\"label\": label, \"bbox\": bbox})\n",
    "\n",
    "# Load spaCy NLP model\n",
    "nlp = spacy.load(\"en_core_web_sm\")\n",
    "\n",
    "# Create full graph\n",
    "G = nx.DiGraph()\n",
    "\n",
    "print(\"Building KG from COCO...\")\n",
    "for image_id in tqdm(image_objects):\n",
    "    objects = image_objects[image_id]\n",
    "    labels = [obj[\"label\"] for obj in objects]\n",
    "\n",
    "    # Add object nodes\n",
    "    for obj in objects:\n",
    "        G.add_node(f\"{image_id}_{obj['label']}\", label=obj[\"label\"], image_id=image_id, type=\"object\")\n",
    "\n",
    "    # Add spatial edges\n",
    "    for i in range(len(objects)):\n",
    "        for j in range(i + 1, len(objects)):\n",
    "            obj1, obj2 = objects[i], objects[j]\n",
    "            x1, y1 = obj1[\"bbox\"][0], obj1[\"bbox\"][1]\n",
    "            x2, y2 = obj2[\"bbox\"][0], obj2[\"bbox\"][1]\n",
    "            dist = ((x1 - x2)**2 + (y1 - y2)**2) ** 0.5\n",
    "            if dist < 75:  # Distance threshold\n",
    "                G.add_edge(f\"{image_id}_{obj1['label']}\", f\"{image_id}_{obj2['label']}\",\n",
    "                           relation=\"near\", source=\"bbox\")\n",
    "\n",
    "    # Add caption relations\n",
    "    if image_id in caption_dict:\n",
    "        for caption in caption_dict[image_id]:\n",
    "            doc = nlp(caption)\n",
    "            for token in doc:\n",
    "                if token.dep_ == \"ROOT\" and token.pos_ == \"VERB\":\n",
    "                    subj = next((w for w in token.lefts if w.dep_ in [\"nsubj\", \"nsubjpass\"]), None)\n",
    "                    obj = next((w for w in token.rights if w.dep_ in [\"dobj\", \"pobj\"]), None)\n",
    "                    if subj and obj:\n",
    "                        subj_label = subj.text.lower()\n",
    "                        obj_label = obj.text.lower()\n",
    "                        node1 = f\"{image_id}_{subj_label}\"\n",
    "                        node2 = f\"{image_id}_{obj_label}\"\n",
    "                        G.add_node(node1, label=subj_label, image_id=image_id, type=\"caption\")\n",
    "                        G.add_node(node2, label=obj_label, image_id=image_id, type=\"caption\")\n",
    "                        G.add_edge(node1, node2, relation=token.lemma_, source=\"caption\")\n",
    "\n",
    "# Save graph\n",
    "nx.write_graphml(G, \"coco_kg.graphml\")\n",
    "print(\"KG saved to coco_kg.graphml\")"
   ]
  },
  {
   "cell_type": "code",
   "execution_count": null,
   "id": "23d51cf4",
   "metadata": {},
   "outputs": [],
   "source": []
  }
 ],
 "metadata": {
  "kernelspec": {
   "display_name": "Python 3 (ipykernel)",
   "language": "python",
   "name": "python3"
  },
  "language_info": {
   "codemirror_mode": {
    "name": "ipython",
    "version": 3
   },
   "file_extension": ".py",
   "mimetype": "text/x-python",
   "name": "python",
   "nbconvert_exporter": "python",
   "pygments_lexer": "ipython3",
   "version": "3.8.20"
  }
 },
 "nbformat": 4,
 "nbformat_minor": 5
}
