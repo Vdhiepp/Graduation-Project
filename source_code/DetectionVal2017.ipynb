{
 "cells": [
  {
   "cell_type": "code",
   "execution_count": 2,
   "id": "1828c295",
   "metadata": {},
   "outputs": [
    {
     "name": "stderr",
     "output_type": "stream",
     "text": [
      "Extracting features:   0%|                                                            | 7/5000 [00:00<02:24, 34.51it/s]"
     ]
    },
    {
     "name": "stdout",
     "output_type": "stream",
     "text": [
      "Failed 000000000139.jpg: short_edge_length must be two values using 'range' sample style. Got [640, 672, 704, 736, 768, 800]!\n",
      "Failed 000000000285.jpg: short_edge_length must be two values using 'range' sample style. Got [640, 672, 704, 736, 768, 800]!\n",
      "Failed 000000000632.jpg: short_edge_length must be two values using 'range' sample style. Got [640, 672, 704, 736, 768, 800]!\n",
      "Failed 000000000724.jpg: short_edge_length must be two values using 'range' sample style. Got [640, 672, 704, 736, 768, 800]!\n",
      "Failed 000000000776.jpg: short_edge_length must be two values using 'range' sample style. Got [640, 672, 704, 736, 768, 800]!\n",
      "Failed 000000000785.jpg: short_edge_length must be two values using 'range' sample style. Got [640, 672, 704, 736, 768, 800]!\n",
      "Failed 000000000802.jpg: short_edge_length must be two values using 'range' sample style. Got [640, 672, 704, 736, 768, 800]!\n",
      "Failed 000000000872.jpg: short_edge_length must be two values using 'range' sample style. Got [640, 672, 704, 736, 768, 800]!\n",
      "Failed 000000000885.jpg: short_edge_length must be two values using 'range' sample style. Got [640, 672, 704, 736, 768, 800]!\n"
     ]
    },
    {
     "name": "stderr",
     "output_type": "stream",
     "text": [
      "Extracting features:   0%|▏                                                          | 18/5000 [00:00<01:55, 42.99it/s]"
     ]
    },
    {
     "name": "stdout",
     "output_type": "stream",
     "text": [
      "Failed 000000001000.jpg: short_edge_length must be two values using 'range' sample style. Got [640, 672, 704, 736, 768, 800]!\n",
      "Failed 000000001268.jpg: short_edge_length must be two values using 'range' sample style. Got [640, 672, 704, 736, 768, 800]!\n",
      "Failed 000000001296.jpg: short_edge_length must be two values using 'range' sample style. Got [640, 672, 704, 736, 768, 800]!\n",
      "Failed 000000001353.jpg: short_edge_length must be two values using 'range' sample style. Got [640, 672, 704, 736, 768, 800]!\n",
      "Failed 000000001425.jpg: short_edge_length must be two values using 'range' sample style. Got [640, 672, 704, 736, 768, 800]!\n",
      "Failed 000000001490.jpg: short_edge_length must be two values using 'range' sample style. Got [640, 672, 704, 736, 768, 800]!\n",
      "Failed 000000001503.jpg: short_edge_length must be two values using 'range' sample style. Got [640, 672, 704, 736, 768, 800]!\n",
      "Failed 000000001532.jpg: short_edge_length must be two values using 'range' sample style. Got [640, 672, 704, 736, 768, 800]!\n",
      "Failed 000000001584.jpg: short_edge_length must be two values using 'range' sample style. Got [640, 672, 704, 736, 768, 800]!\n",
      "Failed 000000001675.jpg: short_edge_length must be two values using 'range' sample style. Got [640, 672, 704, 736, 768, 800]!\n",
      "Failed 000000001761.jpg: short_edge_length must be two values using 'range' sample style. Got [640, 672, 704, 736, 768, 800]!\n"
     ]
    },
    {
     "name": "stderr",
     "output_type": "stream",
     "text": [
      "Extracting features:   1%|▎                                                          | 29/5000 [00:00<01:49, 45.56it/s]"
     ]
    },
    {
     "name": "stdout",
     "output_type": "stream",
     "text": [
      "Failed 000000001818.jpg: short_edge_length must be two values using 'range' sample style. Got [640, 672, 704, 736, 768, 800]!\n",
      "Failed 000000001993.jpg: short_edge_length must be two values using 'range' sample style. Got [640, 672, 704, 736, 768, 800]!\n",
      "Failed 000000002006.jpg: short_edge_length must be two values using 'range' sample style. Got [640, 672, 704, 736, 768, 800]!\n",
      "Failed 000000002149.jpg: short_edge_length must be two values using 'range' sample style. Got [640, 672, 704, 736, 768, 800]!\n",
      "Failed 000000002153.jpg: short_edge_length must be two values using 'range' sample style. Got [640, 672, 704, 736, 768, 800]!\n",
      "Failed 000000002157.jpg: short_edge_length must be two values using 'range' sample style. Got [640, 672, 704, 736, 768, 800]!\n",
      "Failed 000000002261.jpg: short_edge_length must be two values using 'range' sample style. Got [640, 672, 704, 736, 768, 800]!\n",
      "Failed 000000002299.jpg: short_edge_length must be two values using 'range' sample style. Got [640, 672, 704, 736, 768, 800]!\n",
      "Failed 000000002431.jpg: short_edge_length must be two values using 'range' sample style. Got [640, 672, 704, 736, 768, 800]!\n",
      "Failed 000000002473.jpg: short_edge_length must be two values using 'range' sample style. Got [640, 672, 704, 736, 768, 800]!\n"
     ]
    },
    {
     "name": "stderr",
     "output_type": "stream",
     "text": [
      "Extracting features:   1%|▍                                                          | 39/5000 [00:00<01:52, 44.23it/s]"
     ]
    },
    {
     "name": "stdout",
     "output_type": "stream",
     "text": [
      "Failed 000000002532.jpg: short_edge_length must be two values using 'range' sample style. Got [640, 672, 704, 736, 768, 800]!\n",
      "Failed 000000002587.jpg: short_edge_length must be two values using 'range' sample style. Got [640, 672, 704, 736, 768, 800]!\n",
      "Failed 000000002592.jpg: short_edge_length must be two values using 'range' sample style. Got [640, 672, 704, 736, 768, 800]!\n",
      "Failed 000000002685.jpg: short_edge_length must be two values using 'range' sample style. Got [640, 672, 704, 736, 768, 800]!\n",
      "Failed 000000002923.jpg: short_edge_length must be two values using 'range' sample style. Got [640, 672, 704, 736, 768, 800]!\n",
      "Failed 000000003156.jpg: short_edge_length must be two values using 'range' sample style. Got [640, 672, 704, 736, 768, 800]!\n",
      "Failed 000000003255.jpg: short_edge_length must be two values using 'range' sample style. Got [640, 672, 704, 736, 768, 800]!\n",
      "Failed 000000003501.jpg: short_edge_length must be two values using 'range' sample style. Got [640, 672, 704, 736, 768, 800]!\n",
      "Failed 000000003553.jpg: short_edge_length must be two values using 'range' sample style. Got [640, 672, 704, 736, 768, 800]!\n"
     ]
    },
    {
     "name": "stderr",
     "output_type": "stream",
     "text": [
      "\r",
      "Extracting features:   1%|▌                                                          | 44/5000 [00:01<01:51, 44.35it/s]"
     ]
    },
    {
     "name": "stdout",
     "output_type": "stream",
     "text": [
      "Failed 000000003661.jpg: short_edge_length must be two values using 'range' sample style. Got [640, 672, 704, 736, 768, 800]!\n",
      "Failed 000000003845.jpg: short_edge_length must be two values using 'range' sample style. Got [640, 672, 704, 736, 768, 800]!\n",
      "Failed 000000003934.jpg: short_edge_length must be two values using 'range' sample style. Got [640, 672, 704, 736, 768, 800]!\n",
      "Failed 000000004134.jpg: short_edge_length must be two values using 'range' sample style. Got [640, 672, 704, 736, 768, 800]!\n",
      "Failed 000000004395.jpg: short_edge_length must be two values using 'range' sample style. Got [640, 672, 704, 736, 768, 800]!\n",
      "Failed 000000004495.jpg: short_edge_length must be two values using 'range' sample style. Got [640, 672, 704, 736, 768, 800]!\n",
      "Failed 000000004765.jpg: short_edge_length must be two values using 'range' sample style. Got [640, 672, 704, 736, 768, 800]!\n",
      "Failed 000000004795.jpg: short_edge_length must be two values using 'range' sample style. Got [640, 672, 704, 736, 768, 800]!\n",
      "Failed 000000005001.jpg: short_edge_length must be two values using 'range' sample style. Got [640, 672, 704, 736, 768, 800]!\n"
     ]
    },
    {
     "name": "stderr",
     "output_type": "stream",
     "text": [
      "Extracting features:   1%|▋                                                          | 55/5000 [00:01<01:49, 45.19it/s]"
     ]
    },
    {
     "name": "stdout",
     "output_type": "stream",
     "text": [
      "Failed 000000005037.jpg: short_edge_length must be two values using 'range' sample style. Got [640, 672, 704, 736, 768, 800]!\n",
      "Failed 000000005060.jpg: short_edge_length must be two values using 'range' sample style. Got [640, 672, 704, 736, 768, 800]!\n",
      "Failed 000000005193.jpg: short_edge_length must be two values using 'range' sample style. Got [640, 672, 704, 736, 768, 800]!\n",
      "Failed 000000005477.jpg: short_edge_length must be two values using 'range' sample style. Got [640, 672, 704, 736, 768, 800]!\n",
      "Failed 000000005503.jpg: short_edge_length must be two values using 'range' sample style. Got [640, 672, 704, 736, 768, 800]!\n",
      "Failed 000000005529.jpg: short_edge_length must be two values using 'range' sample style. Got [640, 672, 704, 736, 768, 800]!\n",
      "Failed 000000005586.jpg: short_edge_length must be two values using 'range' sample style. Got [640, 672, 704, 736, 768, 800]!\n",
      "Failed 000000005600.jpg: short_edge_length must be two values using 'range' sample style. Got [640, 672, 704, 736, 768, 800]!\n",
      "Failed 000000005992.jpg: short_edge_length must be two values using 'range' sample style. Got [640, 672, 704, 736, 768, 800]!\n",
      "Failed 000000006012.jpg: short_edge_length must be two values using 'range' sample style. Got [640, 672, 704, 736, 768, 800]!\n"
     ]
    },
    {
     "name": "stderr",
     "output_type": "stream",
     "text": [
      "Extracting features:   1%|▊                                                          | 65/5000 [00:01<01:48, 45.28it/s]"
     ]
    },
    {
     "name": "stdout",
     "output_type": "stream",
     "text": [
      "Failed 000000006040.jpg: short_edge_length must be two values using 'range' sample style. Got [640, 672, 704, 736, 768, 800]!\n",
      "Failed 000000006213.jpg: short_edge_length must be two values using 'range' sample style. Got [640, 672, 704, 736, 768, 800]!\n",
      "Failed 000000006460.jpg: short_edge_length must be two values using 'range' sample style. Got [640, 672, 704, 736, 768, 800]!\n",
      "Failed 000000006471.jpg: short_edge_length must be two values using 'range' sample style. Got [640, 672, 704, 736, 768, 800]!\n",
      "Failed 000000006614.jpg: short_edge_length must be two values using 'range' sample style. Got [640, 672, 704, 736, 768, 800]!\n",
      "Failed 000000006723.jpg: short_edge_length must be two values using 'range' sample style. Got [640, 672, 704, 736, 768, 800]!\n",
      "Failed 000000006763.jpg: short_edge_length must be two values using 'range' sample style. Got [640, 672, 704, 736, 768, 800]!\n",
      "Failed 000000006771.jpg: short_edge_length must be two values using 'range' sample style. Got [640, 672, 704, 736, 768, 800]!\n",
      "Failed 000000006818.jpg: short_edge_length must be two values using 'range' sample style. Got [640, 672, 704, 736, 768, 800]!\n"
     ]
    },
    {
     "name": "stderr",
     "output_type": "stream",
     "text": [
      "Extracting features:   2%|▉                                                          | 75/5000 [00:01<01:53, 43.41it/s]"
     ]
    },
    {
     "name": "stdout",
     "output_type": "stream",
     "text": [
      "Failed 000000006894.jpg: short_edge_length must be two values using 'range' sample style. Got [640, 672, 704, 736, 768, 800]!\n",
      "Failed 000000006954.jpg: short_edge_length must be two values using 'range' sample style. Got [640, 672, 704, 736, 768, 800]!\n",
      "Failed 000000007088.jpg: short_edge_length must be two values using 'range' sample style. Got [640, 672, 704, 736, 768, 800]!\n",
      "Failed 000000007108.jpg: short_edge_length must be two values using 'range' sample style. Got [640, 672, 704, 736, 768, 800]!\n",
      "Failed 000000007278.jpg: short_edge_length must be two values using 'range' sample style. Got [640, 672, 704, 736, 768, 800]!\n",
      "Failed 000000007281.jpg: short_edge_length must be two values using 'range' sample style. Got [640, 672, 704, 736, 768, 800]!\n",
      "Failed 000000007386.jpg: short_edge_length must be two values using 'range' sample style. Got [640, 672, 704, 736, 768, 800]!\n",
      "Failed 000000007511.jpg: short_edge_length must be two values using 'range' sample style. Got [640, 672, 704, 736, 768, 800]!\n"
     ]
    },
    {
     "name": "stderr",
     "output_type": "stream",
     "text": [
      "Extracting features:   2%|█                                                          | 85/5000 [00:01<01:55, 42.56it/s]"
     ]
    },
    {
     "name": "stdout",
     "output_type": "stream",
     "text": [
      "Failed 000000007574.jpg: short_edge_length must be two values using 'range' sample style. Got [640, 672, 704, 736, 768, 800]!\n",
      "Failed 000000007784.jpg: short_edge_length must be two values using 'range' sample style. Got [640, 672, 704, 736, 768, 800]!\n",
      "Failed 000000007795.jpg: short_edge_length must be two values using 'range' sample style. Got [640, 672, 704, 736, 768, 800]!\n",
      "Failed 000000007816.jpg: short_edge_length must be two values using 'range' sample style. Got [640, 672, 704, 736, 768, 800]!\n",
      "Failed 000000007818.jpg: short_edge_length must be two values using 'range' sample style. Got [640, 672, 704, 736, 768, 800]!\n",
      "Failed 000000007888.jpg: short_edge_length must be two values using 'range' sample style. Got [640, 672, 704, 736, 768, 800]!\n",
      "Failed 000000007977.jpg: short_edge_length must be two values using 'range' sample style. Got [640, 672, 704, 736, 768, 800]!\n",
      "Failed 000000007991.jpg: short_edge_length must be two values using 'range' sample style. Got [640, 672, 704, 736, 768, 800]!\n",
      "Failed 000000008021.jpg: short_edge_length must be two values using 'range' sample style. Got [640, 672, 704, 736, 768, 800]!\n",
      "Failed 000000008211.jpg: short_edge_length must be two values using 'range' sample style. Got [640, 672, 704, 736, 768, 800]!\n"
     ]
    },
    {
     "name": "stderr",
     "output_type": "stream",
     "text": [
      "\r",
      "Extracting features:   2%|█                                                          | 90/5000 [00:02<02:02, 40.00it/s]"
     ]
    },
    {
     "name": "stdout",
     "output_type": "stream",
     "text": [
      "Failed 000000008277.jpg: short_edge_length must be two values using 'range' sample style. Got [640, 672, 704, 736, 768, 800]!\n",
      "Failed 000000008532.jpg: short_edge_length must be two values using 'range' sample style. Got [640, 672, 704, 736, 768, 800]!\n",
      "Failed 000000008629.jpg: short_edge_length must be two values using 'range' sample style. Got [640, 672, 704, 736, 768, 800]!\n",
      "Failed 000000008690.jpg: short_edge_length must be two values using 'range' sample style. Got [640, 672, 704, 736, 768, 800]!\n",
      "Failed 000000008762.jpg: short_edge_length must be two values using 'range' sample style. Got [640, 672, 704, 736, 768, 800]!\n",
      "Failed 000000008844.jpg: short_edge_length must be two values using 'range' sample style. Got [640, 672, 704, 736, 768, 800]!\n",
      "Failed 000000008899.jpg: short_edge_length must be two values using 'range' sample style. Got [640, 672, 704, 736, 768, 800]!\n",
      "Failed 000000009378.jpg: short_edge_length must be two values using 'range' sample style. Got [640, 672, 704, 736, 768, 800]!\n",
      "Failed 000000009400.jpg: short_edge_length must be two values using 'range' sample style. Got [640, 672, 704, 736, 768, 800]!\n"
     ]
    },
    {
     "name": "stderr",
     "output_type": "stream",
     "text": [
      "Extracting features:   2%|█▏                                                         | 99/5000 [00:02<02:11, 37.17it/s]"
     ]
    },
    {
     "name": "stdout",
     "output_type": "stream",
     "text": [
      "Failed 000000009448.jpg: short_edge_length must be two values using 'range' sample style. Got [640, 672, 704, 736, 768, 800]!\n",
      "Failed 000000009483.jpg: short_edge_length must be two values using 'range' sample style. Got [640, 672, 704, 736, 768, 800]!\n",
      "Failed 000000009590.jpg: short_edge_length must be two values using 'range' sample style. Got [640, 672, 704, 736, 768, 800]!\n",
      "Failed 000000009769.jpg: short_edge_length must be two values using 'range' sample style. Got [640, 672, 704, 736, 768, 800]!\n",
      "Failed 000000009772.jpg: short_edge_length must be two values using 'range' sample style. Got [640, 672, 704, 736, 768, 800]!\n",
      "Failed 000000009891.jpg: short_edge_length must be two values using 'range' sample style. Got [640, 672, 704, 736, 768, 800]!\n",
      "Failed 000000009914.jpg: short_edge_length must be two values using 'range' sample style. Got [640, 672, 704, 736, 768, 800]!\n",
      "Failed 000000010092.jpg: short_edge_length must be two values using 'range' sample style. Got [640, 672, 704, 736, 768, 800]!\n"
     ]
    },
    {
     "name": "stderr",
     "output_type": "stream",
     "text": [
      "Extracting features:   2%|█▎                                                        | 108/5000 [00:02<02:11, 37.11it/s]"
     ]
    },
    {
     "name": "stdout",
     "output_type": "stream",
     "text": [
      "Failed 000000010363.jpg: short_edge_length must be two values using 'range' sample style. Got [640, 672, 704, 736, 768, 800]!\n",
      "Failed 000000010583.jpg: short_edge_length must be two values using 'range' sample style. Got [640, 672, 704, 736, 768, 800]!\n",
      "Failed 000000010707.jpg: short_edge_length must be two values using 'range' sample style. Got [640, 672, 704, 736, 768, 800]!\n",
      "Failed 000000010764.jpg: short_edge_length must be two values using 'range' sample style. Got [640, 672, 704, 736, 768, 800]!\n",
      "Failed 000000010977.jpg: short_edge_length must be two values using 'range' sample style. Got [640, 672, 704, 736, 768, 800]!\n",
      "Failed 000000010995.jpg: short_edge_length must be two values using 'range' sample style. Got [640, 672, 704, 736, 768, 800]!\n",
      "Failed 000000011051.jpg: short_edge_length must be two values using 'range' sample style. Got [640, 672, 704, 736, 768, 800]!\n",
      "Failed 000000011122.jpg: short_edge_length must be two values using 'range' sample style. Got [640, 672, 704, 736, 768, 800]!\n"
     ]
    },
    {
     "name": "stderr",
     "output_type": "stream",
     "text": [
      "Extracting features:   2%|█▎                                                        | 116/5000 [00:02<02:16, 35.70it/s]"
     ]
    },
    {
     "name": "stdout",
     "output_type": "stream",
     "text": [
      "Failed 000000011149.jpg: short_edge_length must be two values using 'range' sample style. Got [640, 672, 704, 736, 768, 800]!\n",
      "Failed 000000011197.jpg: short_edge_length must be two values using 'range' sample style. Got [640, 672, 704, 736, 768, 800]!\n",
      "Failed 000000011511.jpg: short_edge_length must be two values using 'range' sample style. Got [640, 672, 704, 736, 768, 800]!\n",
      "Failed 000000011615.jpg: short_edge_length must be two values using 'range' sample style. Got [640, 672, 704, 736, 768, 800]!\n",
      "Failed 000000011699.jpg: short_edge_length must be two values using 'range' sample style. Got [640, 672, 704, 736, 768, 800]!\n",
      "Failed 000000011760.jpg: short_edge_length must be two values using 'range' sample style. Got [640, 672, 704, 736, 768, 800]!\n",
      "Failed 000000011813.jpg: short_edge_length must be two values using 'range' sample style. Got [640, 672, 704, 736, 768, 800]!\n",
      "Failed 000000012062.jpg: short_edge_length must be two values using 'range' sample style. Got [640, 672, 704, 736, 768, 800]!\n"
     ]
    },
    {
     "name": "stderr",
     "output_type": "stream",
     "text": [
      "Extracting features:   3%|█▍                                                        | 126/5000 [00:03<02:03, 39.32it/s]"
     ]
    },
    {
     "name": "stdout",
     "output_type": "stream",
     "text": [
      "Failed 000000012120.jpg: short_edge_length must be two values using 'range' sample style. Got [640, 672, 704, 736, 768, 800]!\n",
      "Failed 000000012280.jpg: short_edge_length must be two values using 'range' sample style. Got [640, 672, 704, 736, 768, 800]!\n",
      "Failed 000000012576.jpg: short_edge_length must be two values using 'range' sample style. Got [640, 672, 704, 736, 768, 800]!\n",
      "Failed 000000012639.jpg: short_edge_length must be two values using 'range' sample style. Got [640, 672, 704, 736, 768, 800]!\n",
      "Failed 000000012667.jpg: short_edge_length must be two values using 'range' sample style. Got [640, 672, 704, 736, 768, 800]!\n",
      "Failed 000000012670.jpg: short_edge_length must be two values using 'range' sample style. Got [640, 672, 704, 736, 768, 800]!\n",
      "Failed 000000012748.jpg: short_edge_length must be two values using 'range' sample style. Got [640, 672, 704, 736, 768, 800]!\n",
      "Failed 000000013004.jpg: short_edge_length must be two values using 'range' sample style. Got [640, 672, 704, 736, 768, 800]!\n",
      "Failed 000000013177.jpg: short_edge_length must be two values using 'range' sample style. Got [640, 672, 704, 736, 768, 800]!\n"
     ]
    },
    {
     "name": "stderr",
     "output_type": "stream",
     "text": [
      "\r",
      "Extracting features:   3%|█▌                                                        | 131/5000 [00:03<01:59, 40.81it/s]"
     ]
    },
    {
     "name": "stdout",
     "output_type": "stream",
     "text": [
      "Failed 000000013201.jpg: short_edge_length must be two values using 'range' sample style. Got [640, 672, 704, 736, 768, 800]!\n",
      "Failed 000000013291.jpg: short_edge_length must be two values using 'range' sample style. Got [640, 672, 704, 736, 768, 800]!\n",
      "Failed 000000013348.jpg: short_edge_length must be two values using 'range' sample style. Got [640, 672, 704, 736, 768, 800]!\n",
      "Failed 000000013546.jpg: short_edge_length must be two values using 'range' sample style. Got [640, 672, 704, 736, 768, 800]!\n",
      "Failed 000000013597.jpg: short_edge_length must be two values using 'range' sample style. Got [640, 672, 704, 736, 768, 800]!\n",
      "Failed 000000013659.jpg: short_edge_length must be two values using 'range' sample style. Got [640, 672, 704, 736, 768, 800]!\n",
      "Failed 000000013729.jpg: short_edge_length must be two values using 'range' sample style. Got [640, 672, 704, 736, 768, 800]!\n",
      "Failed 000000013774.jpg: short_edge_length must be two values using 'range' sample style. Got [640, 672, 704, 736, 768, 800]!\n"
     ]
    },
    {
     "name": "stderr",
     "output_type": "stream",
     "text": [
      "Extracting features:   3%|█▋                                                        | 141/5000 [00:03<02:05, 38.82it/s]"
     ]
    },
    {
     "name": "stdout",
     "output_type": "stream",
     "text": [
      "Failed 000000013923.jpg: short_edge_length must be two values using 'range' sample style. Got [640, 672, 704, 736, 768, 800]!\n",
      "Failed 000000014007.jpg: short_edge_length must be two values using 'range' sample style. Got [640, 672, 704, 736, 768, 800]!\n",
      "Failed 000000014038.jpg: short_edge_length must be two values using 'range' sample style. Got [640, 672, 704, 736, 768, 800]!\n",
      "Failed 000000014226.jpg: short_edge_length must be two values using 'range' sample style. Got [640, 672, 704, 736, 768, 800]!\n",
      "Failed 000000014380.jpg: short_edge_length must be two values using 'range' sample style. Got [640, 672, 704, 736, 768, 800]!\n",
      "Failed 000000014439.jpg: short_edge_length must be two values using 'range' sample style. Got [640, 672, 704, 736, 768, 800]!\n",
      "Failed 000000014473.jpg: short_edge_length must be two values using 'range' sample style. Got [640, 672, 704, 736, 768, 800]!\n",
      "Failed 000000014831.jpg: short_edge_length must be two values using 'range' sample style. Got [640, 672, 704, 736, 768, 800]!\n"
     ]
    },
    {
     "name": "stderr",
     "output_type": "stream",
     "text": [
      "Extracting features:   3%|█▊                                                        | 151/5000 [00:03<01:59, 40.70it/s]"
     ]
    },
    {
     "name": "stdout",
     "output_type": "stream",
     "text": [
      "Failed 000000014888.jpg: short_edge_length must be two values using 'range' sample style. Got [640, 672, 704, 736, 768, 800]!\n",
      "Failed 000000015079.jpg: short_edge_length must be two values using 'range' sample style. Got [640, 672, 704, 736, 768, 800]!\n",
      "Failed 000000015254.jpg: short_edge_length must be two values using 'range' sample style. Got [640, 672, 704, 736, 768, 800]!\n",
      "Failed 000000015272.jpg: short_edge_length must be two values using 'range' sample style. Got [640, 672, 704, 736, 768, 800]!\n",
      "Failed 000000015278.jpg: short_edge_length must be two values using 'range' sample style. Got [640, 672, 704, 736, 768, 800]!\n",
      "Failed 000000015335.jpg: short_edge_length must be two values using 'range' sample style. Got [640, 672, 704, 736, 768, 800]!\n",
      "Failed 000000015338.jpg: short_edge_length must be two values using 'range' sample style. Got [640, 672, 704, 736, 768, 800]!\n",
      "Failed 000000015440.jpg: short_edge_length must be two values using 'range' sample style. Got [640, 672, 704, 736, 768, 800]!\n",
      "Failed 000000015497.jpg: short_edge_length must be two values using 'range' sample style. Got [640, 672, 704, 736, 768, 800]!\n",
      "Failed 000000015517.jpg: short_edge_length must be two values using 'range' sample style. Got [640, 672, 704, 736, 768, 800]!\n"
     ]
    },
    {
     "name": "stderr",
     "output_type": "stream",
     "text": [
      "Extracting features:   3%|█▊                                                        | 161/5000 [00:03<01:51, 43.25it/s]"
     ]
    },
    {
     "name": "stdout",
     "output_type": "stream",
     "text": [
      "Failed 000000015597.jpg: short_edge_length must be two values using 'range' sample style. Got [640, 672, 704, 736, 768, 800]!\n",
      "Failed 000000015660.jpg: short_edge_length must be two values using 'range' sample style. Got [640, 672, 704, 736, 768, 800]!\n",
      "Failed 000000015746.jpg: short_edge_length must be two values using 'range' sample style. Got [640, 672, 704, 736, 768, 800]!\n",
      "Failed 000000015751.jpg: short_edge_length must be two values using 'range' sample style. Got [640, 672, 704, 736, 768, 800]!\n",
      "Failed 000000015956.jpg: short_edge_length must be two values using 'range' sample style. Got [640, 672, 704, 736, 768, 800]!\n",
      "Failed 000000016010.jpg: short_edge_length must be two values using 'range' sample style. Got [640, 672, 704, 736, 768, 800]!\n",
      "Failed 000000016228.jpg: short_edge_length must be two values using 'range' sample style. Got [640, 672, 704, 736, 768, 800]!\n",
      "Failed 000000016249.jpg: short_edge_length must be two values using 'range' sample style. Got [640, 672, 704, 736, 768, 800]!\n",
      "Failed 000000016439.jpg: short_edge_length must be two values using 'range' sample style. Got [640, 672, 704, 736, 768, 800]!\n"
     ]
    },
    {
     "name": "stderr",
     "output_type": "stream",
     "text": [
      "Extracting features:   3%|█▉                                                        | 171/5000 [00:04<01:57, 40.95it/s]"
     ]
    },
    {
     "name": "stdout",
     "output_type": "stream",
     "text": [
      "Failed 000000016451.jpg: short_edge_length must be two values using 'range' sample style. Got [640, 672, 704, 736, 768, 800]!\n",
      "Failed 000000016502.jpg: short_edge_length must be two values using 'range' sample style. Got [640, 672, 704, 736, 768, 800]!\n",
      "Failed 000000016598.jpg: short_edge_length must be two values using 'range' sample style. Got [640, 672, 704, 736, 768, 800]!\n",
      "Failed 000000016958.jpg: short_edge_length must be two values using 'range' sample style. Got [640, 672, 704, 736, 768, 800]!\n",
      "Failed 000000017029.jpg: short_edge_length must be two values using 'range' sample style. Got [640, 672, 704, 736, 768, 800]!\n",
      "Failed 000000017031.jpg: short_edge_length must be two values using 'range' sample style. Got [640, 672, 704, 736, 768, 800]!\n",
      "Failed 000000017115.jpg: short_edge_length must be two values using 'range' sample style. Got [640, 672, 704, 736, 768, 800]!\n",
      "Failed 000000017178.jpg: short_edge_length must be two values using 'range' sample style. Got [640, 672, 704, 736, 768, 800]!\n",
      "Failed 000000017182.jpg: short_edge_length must be two values using 'range' sample style. Got [640, 672, 704, 736, 768, 800]!\n"
     ]
    },
    {
     "name": "stderr",
     "output_type": "stream",
     "text": [
      "\r",
      "Extracting features:   4%|██                                                        | 176/5000 [00:04<01:59, 40.40it/s]"
     ]
    },
    {
     "name": "stdout",
     "output_type": "stream",
     "text": [
      "Failed 000000017207.jpg: short_edge_length must be two values using 'range' sample style. Got [640, 672, 704, 736, 768, 800]!\n",
      "Failed 000000017379.jpg: short_edge_length must be two values using 'range' sample style. Got [640, 672, 704, 736, 768, 800]!\n",
      "Failed 000000017436.jpg: short_edge_length must be two values using 'range' sample style. Got [640, 672, 704, 736, 768, 800]!\n",
      "Failed 000000017627.jpg: short_edge_length must be two values using 'range' sample style. Got [640, 672, 704, 736, 768, 800]!\n",
      "Failed 000000017714.jpg: short_edge_length must be two values using 'range' sample style. Got [640, 672, 704, 736, 768, 800]!\n",
      "Failed 000000017899.jpg: short_edge_length must be two values using 'range' sample style. Got [640, 672, 704, 736, 768, 800]!\n",
      "Failed 000000017905.jpg: short_edge_length must be two values using 'range' sample style. Got [640, 672, 704, 736, 768, 800]!\n",
      "Failed 000000017959.jpg: short_edge_length must be two values using 'range' sample style. Got [640, 672, 704, 736, 768, 800]!\n"
     ]
    },
    {
     "name": "stderr",
     "output_type": "stream",
     "text": [
      "Extracting features:   4%|██▏                                                       | 185/5000 [00:04<02:06, 38.18it/s]"
     ]
    },
    {
     "name": "stdout",
     "output_type": "stream",
     "text": [
      "Failed 000000018150.jpg: short_edge_length must be two values using 'range' sample style. Got [640, 672, 704, 736, 768, 800]!\n",
      "Failed 000000018193.jpg: short_edge_length must be two values using 'range' sample style. Got [640, 672, 704, 736, 768, 800]!\n",
      "Failed 000000018380.jpg: short_edge_length must be two values using 'range' sample style. Got [640, 672, 704, 736, 768, 800]!\n",
      "Failed 000000018491.jpg: short_edge_length must be two values using 'range' sample style. Got [640, 672, 704, 736, 768, 800]!\n",
      "Failed 000000018519.jpg: short_edge_length must be two values using 'range' sample style. Got [640, 672, 704, 736, 768, 800]!\n",
      "Failed 000000018575.jpg: short_edge_length must be two values using 'range' sample style. Got [640, 672, 704, 736, 768, 800]!\n",
      "Failed 000000018737.jpg: short_edge_length must be two values using 'range' sample style. Got [640, 672, 704, 736, 768, 800]!\n",
      "Failed 000000018770.jpg: short_edge_length must be two values using 'range' sample style. Got [640, 672, 704, 736, 768, 800]!\n"
     ]
    },
    {
     "name": "stderr",
     "output_type": "stream",
     "text": [
      "Extracting features:   4%|██▎                                                       | 194/5000 [00:04<02:05, 38.17it/s]"
     ]
    },
    {
     "name": "stdout",
     "output_type": "stream",
     "text": [
      "Failed 000000018833.jpg: short_edge_length must be two values using 'range' sample style. Got [640, 672, 704, 736, 768, 800]!\n",
      "Failed 000000018837.jpg: short_edge_length must be two values using 'range' sample style. Got [640, 672, 704, 736, 768, 800]!\n",
      "Failed 000000019042.jpg: short_edge_length must be two values using 'range' sample style. Got [640, 672, 704, 736, 768, 800]!\n",
      "Failed 000000019109.jpg: short_edge_length must be two values using 'range' sample style. Got [640, 672, 704, 736, 768, 800]!\n",
      "Failed 000000019221.jpg: short_edge_length must be two values using 'range' sample style. Got [640, 672, 704, 736, 768, 800]!\n",
      "Failed 000000019402.jpg: short_edge_length must be two values using 'range' sample style. Got [640, 672, 704, 736, 768, 800]!\n",
      "Failed 000000019432.jpg: short_edge_length must be two values using 'range' sample style. Got [640, 672, 704, 736, 768, 800]!\n",
      "Failed 000000019742.jpg: short_edge_length must be two values using 'range' sample style. Got [640, 672, 704, 736, 768, 800]!\n",
      "Failed 000000019786.jpg: short_edge_length must be two values using 'range' sample style. Got [640, 672, 704, 736, 768, 800]!\n"
     ]
    },
    {
     "name": "stderr",
     "output_type": "stream",
     "text": [
      "Extracting features:   4%|██▍                                                       | 206/5000 [00:05<01:46, 44.96it/s]"
     ]
    },
    {
     "name": "stdout",
     "output_type": "stream",
     "text": [
      "Failed 000000019924.jpg: short_edge_length must be two values using 'range' sample style. Got [640, 672, 704, 736, 768, 800]!\n",
      "Failed 000000020059.jpg: short_edge_length must be two values using 'range' sample style. Got [640, 672, 704, 736, 768, 800]!\n",
      "Failed 000000020107.jpg: short_edge_length must be two values using 'range' sample style. Got [640, 672, 704, 736, 768, 800]!\n",
      "Failed 000000020247.jpg: short_edge_length must be two values using 'range' sample style. Got [640, 672, 704, 736, 768, 800]!\n",
      "Failed 000000020333.jpg: short_edge_length must be two values using 'range' sample style. Got [640, 672, 704, 736, 768, 800]!\n",
      "Failed 000000020553.jpg: short_edge_length must be two values using 'range' sample style. Got [640, 672, 704, 736, 768, 800]!\n",
      "Failed 000000020571.jpg: short_edge_length must be two values using 'range' sample style. Got [640, 672, 704, 736, 768, 800]!\n",
      "Failed 000000020992.jpg: short_edge_length must be two values using 'range' sample style. Got [640, 672, 704, 736, 768, 800]!\n",
      "Failed 000000021167.jpg: short_edge_length must be two values using 'range' sample style. Got [640, 672, 704, 736, 768, 800]!\n",
      "Failed 000000021465.jpg: short_edge_length must be two values using 'range' sample style. Got [640, 672, 704, 736, 768, 800]!\n"
     ]
    },
    {
     "name": "stderr",
     "output_type": "stream",
     "text": [
      "\r",
      "Extracting features:   4%|██▍                                                       | 211/5000 [00:05<01:50, 43.35it/s]"
     ]
    },
    {
     "name": "stdout",
     "output_type": "stream",
     "text": [
      "Failed 000000021503.jpg: short_edge_length must be two values using 'range' sample style. Got [640, 672, 704, 736, 768, 800]!\n",
      "Failed 000000021604.jpg: short_edge_length must be two values using 'range' sample style. Got [640, 672, 704, 736, 768, 800]!\n",
      "Failed 000000021839.jpg: short_edge_length must be two values using 'range' sample style. Got [640, 672, 704, 736, 768, 800]!\n",
      "Failed 000000021879.jpg: short_edge_length must be two values using 'range' sample style. Got [640, 672, 704, 736, 768, 800]!\n",
      "Failed 000000021903.jpg: short_edge_length must be two values using 'range' sample style. Got [640, 672, 704, 736, 768, 800]!\n",
      "Failed 000000022192.jpg: short_edge_length must be two values using 'range' sample style. Got [640, 672, 704, 736, 768, 800]!\n",
      "Failed 000000022371.jpg: short_edge_length must be two values using 'range' sample style. Got [640, 672, 704, 736, 768, 800]!\n",
      "Failed 000000022396.jpg: short_edge_length must be two values using 'range' sample style. Got [640, 672, 704, 736, 768, 800]!\n"
     ]
    },
    {
     "name": "stderr",
     "output_type": "stream",
     "text": [
      "Extracting features:   4%|██▌                                                       | 221/5000 [00:05<01:49, 43.79it/s]"
     ]
    },
    {
     "name": "stdout",
     "output_type": "stream",
     "text": [
      "Failed 000000022479.jpg: short_edge_length must be two values using 'range' sample style. Got [640, 672, 704, 736, 768, 800]!\n",
      "Failed 000000022589.jpg: short_edge_length must be two values using 'range' sample style. Got [640, 672, 704, 736, 768, 800]!\n",
      "Failed 000000022623.jpg: short_edge_length must be two values using 'range' sample style. Got [640, 672, 704, 736, 768, 800]!\n",
      "Failed 000000022705.jpg: short_edge_length must be two values using 'range' sample style. Got [640, 672, 704, 736, 768, 800]!\n",
      "Failed 000000022755.jpg: short_edge_length must be two values using 'range' sample style. Got [640, 672, 704, 736, 768, 800]!\n",
      "Failed 000000022892.jpg: short_edge_length must be two values using 'range' sample style. Got [640, 672, 704, 736, 768, 800]!\n",
      "Failed 000000022935.jpg: short_edge_length must be two values using 'range' sample style. Got [640, 672, 704, 736, 768, 800]!\n",
      "Failed 000000022969.jpg: short_edge_length must be two values using 'range' sample style. Got [640, 672, 704, 736, 768, 800]!\n",
      "Failed 000000023023.jpg: short_edge_length must be two values using 'range' sample style. Got [640, 672, 704, 736, 768, 800]!\n"
     ]
    },
    {
     "name": "stderr",
     "output_type": "stream",
     "text": [
      "Extracting features:   5%|██▋                                                       | 231/5000 [00:05<01:46, 44.65it/s]"
     ]
    },
    {
     "name": "stdout",
     "output_type": "stream",
     "text": [
      "Failed 000000023034.jpg: short_edge_length must be two values using 'range' sample style. Got [640, 672, 704, 736, 768, 800]!\n",
      "Failed 000000023126.jpg: short_edge_length must be two values using 'range' sample style. Got [640, 672, 704, 736, 768, 800]!\n",
      "Failed 000000023230.jpg: short_edge_length must be two values using 'range' sample style. Got [640, 672, 704, 736, 768, 800]!\n",
      "Failed 000000023272.jpg: short_edge_length must be two values using 'range' sample style. Got [640, 672, 704, 736, 768, 800]!\n",
      "Failed 000000023359.jpg: short_edge_length must be two values using 'range' sample style. Got [640, 672, 704, 736, 768, 800]!\n",
      "Failed 000000023666.jpg: short_edge_length must be two values using 'range' sample style. Got [640, 672, 704, 736, 768, 800]!\n",
      "Failed 000000023751.jpg: short_edge_length must be two values using 'range' sample style. Got [640, 672, 704, 736, 768, 800]!\n",
      "Failed 000000023781.jpg: short_edge_length must be two values using 'range' sample style. Got [640, 672, 704, 736, 768, 800]!\n",
      "Failed 000000023899.jpg: short_edge_length must be two values using 'range' sample style. Got [640, 672, 704, 736, 768, 800]!\n"
     ]
    },
    {
     "name": "stderr",
     "output_type": "stream",
     "text": [
      "Extracting features:   5%|██▊                                                       | 241/5000 [00:05<01:56, 40.95it/s]"
     ]
    },
    {
     "name": "stdout",
     "output_type": "stream",
     "text": [
      "Failed 000000023937.jpg: short_edge_length must be two values using 'range' sample style. Got [640, 672, 704, 736, 768, 800]!\n",
      "Failed 000000024021.jpg: short_edge_length must be two values using 'range' sample style. Got [640, 672, 704, 736, 768, 800]!\n",
      "Failed 000000024027.jpg: short_edge_length must be two values using 'range' sample style. Got [640, 672, 704, 736, 768, 800]!\n",
      "Failed 000000024144.jpg: short_edge_length must be two values using 'range' sample style. Got [640, 672, 704, 736, 768, 800]!\n",
      "Failed 000000024243.jpg: short_edge_length must be two values using 'range' sample style. Got [640, 672, 704, 736, 768, 800]!\n",
      "Failed 000000024567.jpg: short_edge_length must be two values using 'range' sample style. Got [640, 672, 704, 736, 768, 800]!\n",
      "Failed 000000024610.jpg: short_edge_length must be two values using 'range' sample style. Got [640, 672, 704, 736, 768, 800]!\n",
      "Failed 000000024919.jpg: short_edge_length must be two values using 'range' sample style. Got [640, 672, 704, 736, 768, 800]!\n",
      "Failed 000000025057.jpg: short_edge_length must be two values using 'range' sample style. Got [640, 672, 704, 736, 768, 800]!\n"
     ]
    },
    {
     "name": "stderr",
     "output_type": "stream",
     "text": [
      "\r",
      "Extracting features:   5%|██▊                                                       | 246/5000 [00:05<01:51, 42.52it/s]"
     ]
    },
    {
     "name": "stdout",
     "output_type": "stream",
     "text": [
      "Failed 000000025096.jpg: short_edge_length must be two values using 'range' sample style. Got [640, 672, 704, 736, 768, 800]!\n",
      "Failed 000000025139.jpg: short_edge_length must be two values using 'range' sample style. Got [640, 672, 704, 736, 768, 800]!\n",
      "Failed 000000025181.jpg: short_edge_length must be two values using 'range' sample style. Got [640, 672, 704, 736, 768, 800]!\n",
      "Failed 000000025228.jpg: short_edge_length must be two values using 'range' sample style. Got [640, 672, 704, 736, 768, 800]!\n",
      "Failed 000000025386.jpg: short_edge_length must be two values using 'range' sample style. Got [640, 672, 704, 736, 768, 800]!\n",
      "Failed 000000025393.jpg: short_edge_length must be two values using 'range' sample style. Got [640, 672, 704, 736, 768, 800]!\n",
      "Failed 000000025394.jpg: short_edge_length must be two values using 'range' sample style. Got [640, 672, 704, 736, 768, 800]!\n",
      "Failed 000000025424.jpg: short_edge_length must be two values using 'range' sample style. Got [640, 672, 704, 736, 768, 800]!\n"
     ]
    },
    {
     "name": "stderr",
     "output_type": "stream",
     "text": [
      "Extracting features:   5%|██▉                                                       | 255/5000 [00:06<02:03, 38.30it/s]"
     ]
    },
    {
     "name": "stdout",
     "output_type": "stream",
     "text": [
      "Failed 000000025560.jpg: short_edge_length must be two values using 'range' sample style. Got [640, 672, 704, 736, 768, 800]!\n",
      "Failed 000000025593.jpg: short_edge_length must be two values using 'range' sample style. Got [640, 672, 704, 736, 768, 800]!\n",
      "Failed 000000025603.jpg: short_edge_length must be two values using 'range' sample style. Got [640, 672, 704, 736, 768, 800]!\n",
      "Failed 000000025986.jpg: short_edge_length must be two values using 'range' sample style. Got [640, 672, 704, 736, 768, 800]!\n",
      "Failed 000000026204.jpg: short_edge_length must be two values using 'range' sample style. Got [640, 672, 704, 736, 768, 800]!\n",
      "Failed 000000026465.jpg: short_edge_length must be two values using 'range' sample style. Got [640, 672, 704, 736, 768, 800]!\n",
      "Failed 000000026564.jpg: short_edge_length must be two values using 'range' sample style. Got [640, 672, 704, 736, 768, 800]!\n"
     ]
    },
    {
     "name": "stderr",
     "output_type": "stream",
     "text": [
      "Extracting features:   5%|███                                                       | 265/5000 [00:06<01:54, 41.45it/s]"
     ]
    },
    {
     "name": "stdout",
     "output_type": "stream",
     "text": [
      "Failed 000000026690.jpg: short_edge_length must be two values using 'range' sample style. Got [640, 672, 704, 736, 768, 800]!\n",
      "Failed 000000026926.jpg: short_edge_length must be two values using 'range' sample style. Got [640, 672, 704, 736, 768, 800]!\n",
      "Failed 000000026941.jpg: short_edge_length must be two values using 'range' sample style. Got [640, 672, 704, 736, 768, 800]!\n",
      "Failed 000000027186.jpg: short_edge_length must be two values using 'range' sample style. Got [640, 672, 704, 736, 768, 800]!\n",
      "Failed 000000027620.jpg: short_edge_length must be two values using 'range' sample style. Got [640, 672, 704, 736, 768, 800]!\n",
      "Failed 000000027696.jpg: short_edge_length must be two values using 'range' sample style. Got [640, 672, 704, 736, 768, 800]!\n",
      "Failed 000000027768.jpg: short_edge_length must be two values using 'range' sample style. Got [640, 672, 704, 736, 768, 800]!\n",
      "Failed 000000027932.jpg: short_edge_length must be two values using 'range' sample style. Got [640, 672, 704, 736, 768, 800]!\n",
      "Failed 000000027972.jpg: short_edge_length must be two values using 'range' sample style. Got [640, 672, 704, 736, 768, 800]!\n",
      "Failed 000000027982.jpg: short_edge_length must be two values using 'range' sample style. Got [640, 672, 704, 736, 768, 800]!\n"
     ]
    },
    {
     "name": "stderr",
     "output_type": "stream",
     "text": [
      "\r",
      "Extracting features:   5%|███▏                                                      | 270/5000 [00:06<01:54, 41.34it/s]"
     ]
    },
    {
     "name": "stdout",
     "output_type": "stream",
     "text": [
      "Failed 000000028285.jpg: short_edge_length must be two values using 'range' sample style. Got [640, 672, 704, 736, 768, 800]!\n",
      "Failed 000000028449.jpg: short_edge_length must be two values using 'range' sample style. Got [640, 672, 704, 736, 768, 800]!\n",
      "Failed 000000028452.jpg: short_edge_length must be two values using 'range' sample style. Got [640, 672, 704, 736, 768, 800]!\n",
      "Failed 000000028809.jpg: short_edge_length must be two values using 'range' sample style. Got [640, 672, 704, 736, 768, 800]!\n",
      "Failed 000000028993.jpg: short_edge_length must be two values using 'range' sample style. Got [640, 672, 704, 736, 768, 800]!\n",
      "Failed 000000029187.jpg: short_edge_length must be two values using 'range' sample style. Got [640, 672, 704, 736, 768, 800]!\n",
      "Failed 000000029393.jpg: short_edge_length must be two values using 'range' sample style. Got [640, 672, 704, 736, 768, 800]!\n",
      "Failed 000000029397.jpg: short_edge_length must be two values using 'range' sample style. Got [640, 672, 704, 736, 768, 800]!\n"
     ]
    },
    {
     "name": "stderr",
     "output_type": "stream",
     "text": [
      "Extracting features:   6%|███▏                                                      | 279/5000 [00:06<02:24, 32.67it/s]"
     ]
    },
    {
     "name": "stdout",
     "output_type": "stream",
     "text": [
      "Failed 000000029596.jpg: short_edge_length must be two values using 'range' sample style. Got [640, 672, 704, 736, 768, 800]!\n",
      "Failed 000000029640.jpg: short_edge_length must be two values using 'range' sample style. Got [640, 672, 704, 736, 768, 800]!\n",
      "Failed 000000029675.jpg: short_edge_length must be two values using 'range' sample style. Got [640, 672, 704, 736, 768, 800]!\n",
      "Failed 000000029984.jpg: short_edge_length must be two values using 'range' sample style. Got [640, 672, 704, 736, 768, 800]!\n",
      "Failed 000000030213.jpg: short_edge_length must be two values using 'range' sample style. Got [640, 672, 704, 736, 768, 800]!\n",
      "Failed 000000030494.jpg: short_edge_length must be two values using 'range' sample style. Got [640, 672, 704, 736, 768, 800]!\n",
      "Failed 000000030504.jpg: short_edge_length must be two values using 'range' sample style. Got [640, 672, 704, 736, 768, 800]!\n",
      "Failed 000000030675.jpg: short_edge_length must be two values using 'range' sample style. Got [640, 672, 704, 736, 768, 800]!\n"
     ]
    },
    {
     "name": "stderr",
     "output_type": "stream",
     "text": [
      "Extracting features:   6%|███▎                                                      | 287/5000 [00:07<02:18, 33.91it/s]"
     ]
    },
    {
     "name": "stdout",
     "output_type": "stream",
     "text": [
      "Failed 000000030785.jpg: short_edge_length must be two values using 'range' sample style. Got [640, 672, 704, 736, 768, 800]!\n",
      "Failed 000000030828.jpg: short_edge_length must be two values using 'range' sample style. Got [640, 672, 704, 736, 768, 800]!\n",
      "Failed 000000031050.jpg: short_edge_length must be two values using 'range' sample style. Got [640, 672, 704, 736, 768, 800]!\n",
      "Failed 000000031093.jpg: short_edge_length must be two values using 'range' sample style. Got [640, 672, 704, 736, 768, 800]!\n",
      "Failed 000000031118.jpg: short_edge_length must be two values using 'range' sample style. Got [640, 672, 704, 736, 768, 800]!\n",
      "Failed 000000031217.jpg: short_edge_length must be two values using 'range' sample style. Got [640, 672, 704, 736, 768, 800]!\n",
      "Failed 000000031248.jpg: short_edge_length must be two values using 'range' sample style. Got [640, 672, 704, 736, 768, 800]!\n",
      "Failed 000000031269.jpg: short_edge_length must be two values using 'range' sample style. Got [640, 672, 704, 736, 768, 800]!\n",
      "Failed 000000031296.jpg: short_edge_length must be two values using 'range' sample style. Got [640, 672, 704, 736, 768, 800]!\n"
     ]
    },
    {
     "name": "stderr",
     "output_type": "stream",
     "text": [
      "Extracting features:   6%|███▍                                                      | 296/5000 [00:07<02:11, 35.75it/s]"
     ]
    },
    {
     "name": "stdout",
     "output_type": "stream",
     "text": [
      "Failed 000000031322.jpg: short_edge_length must be two values using 'range' sample style. Got [640, 672, 704, 736, 768, 800]!\n",
      "Failed 000000031620.jpg: short_edge_length must be two values using 'range' sample style. Got [640, 672, 704, 736, 768, 800]!\n",
      "Failed 000000031735.jpg: short_edge_length must be two values using 'range' sample style. Got [640, 672, 704, 736, 768, 800]!\n",
      "Failed 000000031749.jpg: short_edge_length must be two values using 'range' sample style. Got [640, 672, 704, 736, 768, 800]!\n",
      "Failed 000000031817.jpg: short_edge_length must be two values using 'range' sample style. Got [640, 672, 704, 736, 768, 800]!\n",
      "Failed 000000032038.jpg: short_edge_length must be two values using 'range' sample style. Got [640, 672, 704, 736, 768, 800]!\n",
      "Failed 000000032081.jpg: short_edge_length must be two values using 'range' sample style. Got [640, 672, 704, 736, 768, 800]!\n",
      "Failed 000000032285.jpg: short_edge_length must be two values using 'range' sample style. Got [640, 672, 704, 736, 768, 800]!\n"
     ]
    },
    {
     "name": "stderr",
     "output_type": "stream",
     "text": [
      "Extracting features:   6%|███▌                                                      | 307/5000 [00:07<01:53, 41.25it/s]"
     ]
    },
    {
     "name": "stdout",
     "output_type": "stream",
     "text": [
      "Failed 000000032334.jpg: short_edge_length must be two values using 'range' sample style. Got [640, 672, 704, 736, 768, 800]!\n",
      "Failed 000000032570.jpg: short_edge_length must be two values using 'range' sample style. Got [640, 672, 704, 736, 768, 800]!\n",
      "Failed 000000032610.jpg: short_edge_length must be two values using 'range' sample style. Got [640, 672, 704, 736, 768, 800]!\n",
      "Failed 000000032735.jpg: short_edge_length must be two values using 'range' sample style. Got [640, 672, 704, 736, 768, 800]!\n",
      "Failed 000000032811.jpg: short_edge_length must be two values using 'range' sample style. Got [640, 672, 704, 736, 768, 800]!\n",
      "Failed 000000032817.jpg: short_edge_length must be two values using 'range' sample style. Got [640, 672, 704, 736, 768, 800]!\n",
      "Failed 000000032861.jpg: short_edge_length must be two values using 'range' sample style. Got [640, 672, 704, 736, 768, 800]!\n",
      "Failed 000000032887.jpg: short_edge_length must be two values using 'range' sample style. Got [640, 672, 704, 736, 768, 800]!\n",
      "Failed 000000032901.jpg: short_edge_length must be two values using 'range' sample style. Got [640, 672, 704, 736, 768, 800]!\n"
     ]
    },
    {
     "name": "stderr",
     "output_type": "stream",
     "text": [
      "Extracting features:   6%|███▋                                                      | 317/5000 [00:07<01:53, 41.13it/s]"
     ]
    },
    {
     "name": "stdout",
     "output_type": "stream",
     "text": [
      "Failed 000000032941.jpg: short_edge_length must be two values using 'range' sample style. Got [640, 672, 704, 736, 768, 800]!\n",
      "Failed 000000033005.jpg: short_edge_length must be two values using 'range' sample style. Got [640, 672, 704, 736, 768, 800]!\n",
      "Failed 000000033104.jpg: short_edge_length must be two values using 'range' sample style. Got [640, 672, 704, 736, 768, 800]!\n",
      "Failed 000000033109.jpg: short_edge_length must be two values using 'range' sample style. Got [640, 672, 704, 736, 768, 800]!\n",
      "Failed 000000033114.jpg: short_edge_length must be two values using 'range' sample style. Got [640, 672, 704, 736, 768, 800]!\n",
      "Failed 000000033221.jpg: short_edge_length must be two values using 'range' sample style. Got [640, 672, 704, 736, 768, 800]!\n",
      "Failed 000000033368.jpg: short_edge_length must be two values using 'range' sample style. Got [640, 672, 704, 736, 768, 800]!\n",
      "Failed 000000033638.jpg: short_edge_length must be two values using 'range' sample style. Got [640, 672, 704, 736, 768, 800]!\n",
      "Failed 000000033707.jpg: short_edge_length must be two values using 'range' sample style. Got [640, 672, 704, 736, 768, 800]!\n"
     ]
    },
    {
     "name": "stderr",
     "output_type": "stream",
     "text": [
      "\r",
      "Extracting features:   6%|███▋                                                      | 322/5000 [00:08<01:52, 41.43it/s]"
     ]
    },
    {
     "name": "stdout",
     "output_type": "stream",
     "text": [
      "Failed 000000033759.jpg: short_edge_length must be two values using 'range' sample style. Got [640, 672, 704, 736, 768, 800]!\n",
      "Failed 000000033854.jpg: short_edge_length must be two values using 'range' sample style. Got [640, 672, 704, 736, 768, 800]!\n",
      "Failed 000000034071.jpg: short_edge_length must be two values using 'range' sample style. Got [640, 672, 704, 736, 768, 800]!\n",
      "Failed 000000034139.jpg: short_edge_length must be two values using 'range' sample style. Got [640, 672, 704, 736, 768, 800]!\n",
      "Failed 000000034205.jpg: short_edge_length must be two values using 'range' sample style. Got [640, 672, 704, 736, 768, 800]!\n",
      "Failed 000000034257.jpg: short_edge_length must be two values using 'range' sample style. Got [640, 672, 704, 736, 768, 800]!\n",
      "Failed 000000034417.jpg: short_edge_length must be two values using 'range' sample style. Got [640, 672, 704, 736, 768, 800]!\n",
      "Failed 000000034452.jpg: short_edge_length must be two values using 'range' sample style. Got [640, 672, 704, 736, 768, 800]!\n",
      "Failed 000000034760.jpg: short_edge_length must be two values using 'range' sample style. Got [640, 672, 704, 736, 768, 800]!\n",
      "Failed 000000034873.jpg: short_edge_length must be two values using 'range' sample style. Got [640, 672, 704, 736, 768, 800]!\n"
     ]
    },
    {
     "name": "stderr",
     "output_type": "stream",
     "text": [
      "Extracting features:   7%|███▊                                                      | 332/5000 [00:08<01:50, 42.26it/s]"
     ]
    },
    {
     "name": "stdout",
     "output_type": "stream",
     "text": [
      "Failed 000000035062.jpg: short_edge_length must be two values using 'range' sample style. Got [640, 672, 704, 736, 768, 800]!\n",
      "Failed 000000035197.jpg: short_edge_length must be two values using 'range' sample style. Got [640, 672, 704, 736, 768, 800]!\n",
      "Failed 000000035279.jpg: short_edge_length must be two values using 'range' sample style. Got [640, 672, 704, 736, 768, 800]!\n",
      "Failed 000000035326.jpg: short_edge_length must be two values using 'range' sample style. Got [640, 672, 704, 736, 768, 800]!\n",
      "Failed 000000035682.jpg: short_edge_length must be two values using 'range' sample style. Got [640, 672, 704, 736, 768, 800]!\n",
      "Failed 000000035770.jpg: short_edge_length must be two values using 'range' sample style. Got [640, 672, 704, 736, 768, 800]!\n",
      "Failed 000000035963.jpg: short_edge_length must be two values using 'range' sample style. Got [640, 672, 704, 736, 768, 800]!\n"
     ]
    },
    {
     "name": "stderr",
     "output_type": "stream",
     "text": [
      "Extracting features:   7%|███▉                                                      | 343/5000 [00:08<01:45, 44.14it/s]"
     ]
    },
    {
     "name": "stdout",
     "output_type": "stream",
     "text": [
      "Failed 000000036494.jpg: short_edge_length must be two values using 'range' sample style. Got [640, 672, 704, 736, 768, 800]!\n",
      "Failed 000000036539.jpg: short_edge_length must be two values using 'range' sample style. Got [640, 672, 704, 736, 768, 800]!\n",
      "Failed 000000036660.jpg: short_edge_length must be two values using 'range' sample style. Got [640, 672, 704, 736, 768, 800]!\n",
      "Failed 000000036678.jpg: short_edge_length must be two values using 'range' sample style. Got [640, 672, 704, 736, 768, 800]!\n",
      "Failed 000000036844.jpg: short_edge_length must be two values using 'range' sample style. Got [640, 672, 704, 736, 768, 800]!\n",
      "Failed 000000036861.jpg: short_edge_length must be two values using 'range' sample style. Got [640, 672, 704, 736, 768, 800]!\n",
      "Failed 000000036936.jpg: short_edge_length must be two values using 'range' sample style. Got [640, 672, 704, 736, 768, 800]!\n",
      "Failed 000000037670.jpg: short_edge_length must be two values using 'range' sample style. Got [640, 672, 704, 736, 768, 800]!\n",
      "Failed 000000037689.jpg: short_edge_length must be two values using 'range' sample style. Got [640, 672, 704, 736, 768, 800]!\n",
      "Failed 000000037740.jpg: short_edge_length must be two values using 'range' sample style. Got [640, 672, 704, 736, 768, 800]!\n"
     ]
    },
    {
     "name": "stderr",
     "output_type": "stream",
     "text": [
      "Extracting features:   7%|████                                                      | 354/5000 [00:08<01:38, 46.93it/s]"
     ]
    },
    {
     "name": "stdout",
     "output_type": "stream",
     "text": [
      "Failed 000000037751.jpg: short_edge_length must be two values using 'range' sample style. Got [640, 672, 704, 736, 768, 800]!\n",
      "Failed 000000037777.jpg: short_edge_length must be two values using 'range' sample style. Got [640, 672, 704, 736, 768, 800]!\n",
      "Failed 000000037988.jpg: short_edge_length must be two values using 'range' sample style. Got [640, 672, 704, 736, 768, 800]!\n",
      "Failed 000000038048.jpg: short_edge_length must be two values using 'range' sample style. Got [640, 672, 704, 736, 768, 800]!\n",
      "Failed 000000038070.jpg: short_edge_length must be two values using 'range' sample style. Got [640, 672, 704, 736, 768, 800]!\n",
      "Failed 000000038118.jpg: short_edge_length must be two values using 'range' sample style. Got [640, 672, 704, 736, 768, 800]!\n",
      "Failed 000000038210.jpg: short_edge_length must be two values using 'range' sample style. Got [640, 672, 704, 736, 768, 800]!\n",
      "Failed 000000038576.jpg: short_edge_length must be two values using 'range' sample style. Got [640, 672, 704, 736, 768, 800]!\n",
      "Failed 000000038678.jpg: short_edge_length must be two values using 'range' sample style. Got [640, 672, 704, 736, 768, 800]!\n",
      "Failed 000000038825.jpg: short_edge_length must be two values using 'range' sample style. Got [640, 672, 704, 736, 768, 800]!\n",
      "Failed 000000038829.jpg: short_edge_length must be two values using 'range' sample style. Got [640, 672, 704, 736, 768, 800]!\n"
     ]
    },
    {
     "name": "stderr",
     "output_type": "stream",
     "text": [
      "Extracting features:   7%|████▏                                                     | 364/5000 [00:08<01:50, 42.02it/s]"
     ]
    },
    {
     "name": "stdout",
     "output_type": "stream",
     "text": [
      "Failed 000000039405.jpg: short_edge_length must be two values using 'range' sample style. Got [640, 672, 704, 736, 768, 800]!\n",
      "Failed 000000039477.jpg: short_edge_length must be two values using 'range' sample style. Got [640, 672, 704, 736, 768, 800]!\n",
      "Failed 000000039480.jpg: short_edge_length must be two values using 'range' sample style. Got [640, 672, 704, 736, 768, 800]!\n",
      "Failed 000000039484.jpg: short_edge_length must be two values using 'range' sample style. Got [640, 672, 704, 736, 768, 800]!\n",
      "Failed 000000039551.jpg: short_edge_length must be two values using 'range' sample style. Got [640, 672, 704, 736, 768, 800]!\n",
      "Failed 000000039670.jpg: short_edge_length must be two values using 'range' sample style. Got [640, 672, 704, 736, 768, 800]!\n",
      "Failed 000000039769.jpg: short_edge_length must be two values using 'range' sample style. Got [640, 672, 704, 736, 768, 800]!\n",
      "Failed 000000039785.jpg: short_edge_length must be two values using 'range' sample style. Got [640, 672, 704, 736, 768, 800]!\n",
      "Failed 000000039914.jpg: short_edge_length must be two values using 'range' sample style. Got [640, 672, 704, 736, 768, 800]!\n"
     ]
    },
    {
     "name": "stderr",
     "output_type": "stream",
     "text": [
      "\r",
      "Extracting features:   7%|████▎                                                     | 369/5000 [00:09<01:52, 41.01it/s]"
     ]
    },
    {
     "name": "stdout",
     "output_type": "stream",
     "text": [
      "Failed 000000039951.jpg: short_edge_length must be two values using 'range' sample style. Got [640, 672, 704, 736, 768, 800]!\n",
      "Failed 000000039956.jpg: short_edge_length must be two values using 'range' sample style. Got [640, 672, 704, 736, 768, 800]!\n",
      "Failed 000000040036.jpg: short_edge_length must be two values using 'range' sample style. Got [640, 672, 704, 736, 768, 800]!\n",
      "Failed 000000040083.jpg: short_edge_length must be two values using 'range' sample style. Got [640, 672, 704, 736, 768, 800]!\n",
      "Failed 000000040471.jpg: short_edge_length must be two values using 'range' sample style. Got [640, 672, 704, 736, 768, 800]!\n",
      "Failed 000000040757.jpg: short_edge_length must be two values using 'range' sample style. Got [640, 672, 704, 736, 768, 800]!\n",
      "Failed 000000041488.jpg: short_edge_length must be two values using 'range' sample style. Got [640, 672, 704, 736, 768, 800]!\n",
      "Failed 000000041633.jpg: short_edge_length must be two values using 'range' sample style. Got [640, 672, 704, 736, 768, 800]!\n",
      "Failed 000000041635.jpg: short_edge_length must be two values using 'range' sample style. Got [640, 672, 704, 736, 768, 800]!\n"
     ]
    },
    {
     "name": "stderr",
     "output_type": "stream",
     "text": [
      "Extracting features:   8%|████▍                                                     | 380/5000 [00:09<01:49, 42.05it/s]"
     ]
    },
    {
     "name": "stdout",
     "output_type": "stream",
     "text": [
      "Failed 000000041872.jpg: short_edge_length must be two values using 'range' sample style. Got [640, 672, 704, 736, 768, 800]!\n",
      "Failed 000000041888.jpg: short_edge_length must be two values using 'range' sample style. Got [640, 672, 704, 736, 768, 800]!\n",
      "Failed 000000041990.jpg: short_edge_length must be two values using 'range' sample style. Got [640, 672, 704, 736, 768, 800]!\n",
      "Failed 000000042070.jpg: short_edge_length must be two values using 'range' sample style. Got [640, 672, 704, 736, 768, 800]!\n",
      "Failed 000000042102.jpg: short_edge_length must be two values using 'range' sample style. Got [640, 672, 704, 736, 768, 800]!\n",
      "Failed 000000042178.jpg: short_edge_length must be two values using 'range' sample style. Got [640, 672, 704, 736, 768, 800]!\n",
      "Failed 000000042276.jpg: short_edge_length must be two values using 'range' sample style. Got [640, 672, 704, 736, 768, 800]!\n",
      "Failed 000000042296.jpg: short_edge_length must be two values using 'range' sample style. Got [640, 672, 704, 736, 768, 800]!\n"
     ]
    },
    {
     "name": "stderr",
     "output_type": "stream",
     "text": [
      "Extracting features:   8%|████▌                                                     | 390/5000 [00:09<01:48, 42.52it/s]"
     ]
    },
    {
     "name": "stdout",
     "output_type": "stream",
     "text": [
      "Failed 000000042528.jpg: short_edge_length must be two values using 'range' sample style. Got [640, 672, 704, 736, 768, 800]!\n",
      "Failed 000000042563.jpg: short_edge_length must be two values using 'range' sample style. Got [640, 672, 704, 736, 768, 800]!\n",
      "Failed 000000042628.jpg: short_edge_length must be two values using 'range' sample style. Got [640, 672, 704, 736, 768, 800]!\n",
      "Failed 000000042888.jpg: short_edge_length must be two values using 'range' sample style. Got [640, 672, 704, 736, 768, 800]!\n",
      "Failed 000000042889.jpg: short_edge_length must be two values using 'range' sample style. Got [640, 672, 704, 736, 768, 800]!\n",
      "Failed 000000043314.jpg: short_edge_length must be two values using 'range' sample style. Got [640, 672, 704, 736, 768, 800]!\n",
      "Failed 000000043435.jpg: short_edge_length must be two values using 'range' sample style. Got [640, 672, 704, 736, 768, 800]!\n",
      "Failed 000000043581.jpg: short_edge_length must be two values using 'range' sample style. Got [640, 672, 704, 736, 768, 800]!\n",
      "Failed 000000043737.jpg: short_edge_length must be two values using 'range' sample style. Got [640, 672, 704, 736, 768, 800]!\n"
     ]
    },
    {
     "name": "stderr",
     "output_type": "stream",
     "text": [
      "\r",
      "Extracting features:   8%|████▌                                                     | 395/5000 [00:09<01:44, 44.02it/s]"
     ]
    },
    {
     "name": "stdout",
     "output_type": "stream",
     "text": [
      "Failed 000000043816.jpg: short_edge_length must be two values using 'range' sample style. Got [640, 672, 704, 736, 768, 800]!\n",
      "Failed 000000044068.jpg: short_edge_length must be two values using 'range' sample style. Got [640, 672, 704, 736, 768, 800]!\n",
      "Failed 000000044195.jpg: short_edge_length must be two values using 'range' sample style. Got [640, 672, 704, 736, 768, 800]!\n",
      "Failed 000000044260.jpg: short_edge_length must be two values using 'range' sample style. Got [640, 672, 704, 736, 768, 800]!\n",
      "Failed 000000044279.jpg: short_edge_length must be two values using 'range' sample style. Got [640, 672, 704, 736, 768, 800]!\n",
      "Failed 000000044590.jpg: short_edge_length must be two values using 'range' sample style. Got [640, 672, 704, 736, 768, 800]!\n",
      "Failed 000000044652.jpg: short_edge_length must be two values using 'range' sample style. Got [640, 672, 704, 736, 768, 800]!\n",
      "Failed 000000044699.jpg: short_edge_length must be two values using 'range' sample style. Got [640, 672, 704, 736, 768, 800]!\n",
      "Failed 000000044877.jpg: short_edge_length must be two values using 'range' sample style. Got [640, 672, 704, 736, 768, 800]!\n"
     ]
    },
    {
     "name": "stderr",
     "output_type": "stream",
     "text": [
      "Extracting features:   8%|████▋                                                     | 405/5000 [00:09<01:48, 42.21it/s]"
     ]
    },
    {
     "name": "stdout",
     "output_type": "stream",
     "text": [
      "Failed 000000045070.jpg: short_edge_length must be two values using 'range' sample style. Got [640, 672, 704, 736, 768, 800]!\n",
      "Failed 000000045090.jpg: short_edge_length must be two values using 'range' sample style. Got [640, 672, 704, 736, 768, 800]!\n",
      "Failed 000000045229.jpg: short_edge_length must be two values using 'range' sample style. Got [640, 672, 704, 736, 768, 800]!\n",
      "Failed 000000045472.jpg: short_edge_length must be two values using 'range' sample style. Got [640, 672, 704, 736, 768, 800]!\n",
      "Failed 000000045550.jpg: short_edge_length must be two values using 'range' sample style. Got [640, 672, 704, 736, 768, 800]!\n",
      "Failed 000000045596.jpg: short_edge_length must be two values using 'range' sample style. Got [640, 672, 704, 736, 768, 800]!\n",
      "Failed 000000045728.jpg: short_edge_length must be two values using 'range' sample style. Got [640, 672, 704, 736, 768, 800]!\n",
      "Failed 000000046031.jpg: short_edge_length must be two values using 'range' sample style. Got [640, 672, 704, 736, 768, 800]!\n"
     ]
    },
    {
     "name": "stderr",
     "output_type": "stream",
     "text": [
      "Extracting features:   8%|████▊                                                     | 415/5000 [00:10<01:52, 40.75it/s]"
     ]
    },
    {
     "name": "stdout",
     "output_type": "stream",
     "text": [
      "Failed 000000046048.jpg: short_edge_length must be two values using 'range' sample style. Got [640, 672, 704, 736, 768, 800]!\n",
      "Failed 000000046252.jpg: short_edge_length must be two values using 'range' sample style. Got [640, 672, 704, 736, 768, 800]!\n",
      "Failed 000000046378.jpg: short_edge_length must be two values using 'range' sample style. Got [640, 672, 704, 736, 768, 800]!\n",
      "Failed 000000046463.jpg: short_edge_length must be two values using 'range' sample style. Got [640, 672, 704, 736, 768, 800]!\n",
      "Failed 000000046497.jpg: short_edge_length must be two values using 'range' sample style. Got [640, 672, 704, 736, 768, 800]!\n",
      "Failed 000000046804.jpg: short_edge_length must be two values using 'range' sample style. Got [640, 672, 704, 736, 768, 800]!\n",
      "Failed 000000046872.jpg: short_edge_length must be two values using 'range' sample style. Got [640, 672, 704, 736, 768, 800]!\n",
      "Failed 000000047010.jpg: short_edge_length must be two values using 'range' sample style. Got [640, 672, 704, 736, 768, 800]!\n"
     ]
    },
    {
     "name": "stderr",
     "output_type": "stream",
     "text": [
      "\r",
      "Extracting features:   8%|████▊                                                     | 420/5000 [00:10<01:51, 41.10it/s]"
     ]
    },
    {
     "name": "stdout",
     "output_type": "stream",
     "text": [
      "Failed 000000047112.jpg: short_edge_length must be two values using 'range' sample style. Got [640, 672, 704, 736, 768, 800]!\n",
      "Failed 000000047121.jpg: short_edge_length must be two values using 'range' sample style. Got [640, 672, 704, 736, 768, 800]!\n",
      "Failed 000000047571.jpg: short_edge_length must be two values using 'range' sample style. Got [640, 672, 704, 736, 768, 800]!\n",
      "Failed 000000047585.jpg: short_edge_length must be two values using 'range' sample style. Got [640, 672, 704, 736, 768, 800]!\n",
      "Failed 000000047740.jpg: short_edge_length must be two values using 'range' sample style. Got [640, 672, 704, 736, 768, 800]!\n",
      "Failed 000000047769.jpg: short_edge_length must be two values using 'range' sample style. Got [640, 672, 704, 736, 768, 800]!\n",
      "Failed 000000047801.jpg: short_edge_length must be two values using 'range' sample style. Got [640, 672, 704, 736, 768, 800]!\n",
      "Failed 000000047819.jpg: short_edge_length must be two values using 'range' sample style. Got [640, 672, 704, 736, 768, 800]!\n"
     ]
    },
    {
     "name": "stderr",
     "output_type": "stream",
     "text": [
      "Extracting features:   9%|████▉                                                     | 429/5000 [00:10<02:04, 36.71it/s]"
     ]
    },
    {
     "name": "stdout",
     "output_type": "stream",
     "text": [
      "Failed 000000047828.jpg: short_edge_length must be two values using 'range' sample style. Got [640, 672, 704, 736, 768, 800]!\n",
      "Failed 000000048153.jpg: short_edge_length must be two values using 'range' sample style. Got [640, 672, 704, 736, 768, 800]!\n",
      "Failed 000000048396.jpg: short_edge_length must be two values using 'range' sample style. Got [640, 672, 704, 736, 768, 800]!\n",
      "Failed 000000048504.jpg: short_edge_length must be two values using 'range' sample style. Got [640, 672, 704, 736, 768, 800]!\n",
      "Failed 000000048555.jpg: short_edge_length must be two values using 'range' sample style. Got [640, 672, 704, 736, 768, 800]!\n",
      "Failed 000000048564.jpg: short_edge_length must be two values using 'range' sample style. Got [640, 672, 704, 736, 768, 800]!\n",
      "Failed 000000048924.jpg: short_edge_length must be two values using 'range' sample style. Got [640, 672, 704, 736, 768, 800]!\n"
     ]
    },
    {
     "name": "stderr",
     "output_type": "stream",
     "text": [
      "Extracting features:   9%|█████                                                     | 438/5000 [00:10<01:56, 39.21it/s]"
     ]
    },
    {
     "name": "stdout",
     "output_type": "stream",
     "text": [
      "Failed 000000049060.jpg: short_edge_length must be two values using 'range' sample style. Got [640, 672, 704, 736, 768, 800]!\n",
      "Failed 000000049091.jpg: short_edge_length must be two values using 'range' sample style. Got [640, 672, 704, 736, 768, 800]!\n",
      "Failed 000000049259.jpg: short_edge_length must be two values using 'range' sample style. Got [640, 672, 704, 736, 768, 800]!\n",
      "Failed 000000049269.jpg: short_edge_length must be two values using 'range' sample style. Got [640, 672, 704, 736, 768, 800]!\n",
      "Failed 000000049759.jpg: short_edge_length must be two values using 'range' sample style. Got [640, 672, 704, 736, 768, 800]!\n",
      "Failed 000000049761.jpg: short_edge_length must be two values using 'range' sample style. Got [640, 672, 704, 736, 768, 800]!\n",
      "Failed 000000049810.jpg: short_edge_length must be two values using 'range' sample style. Got [640, 672, 704, 736, 768, 800]!\n",
      "Failed 000000050006.jpg: short_edge_length must be two values using 'range' sample style. Got [640, 672, 704, 736, 768, 800]!\n"
     ]
    },
    {
     "name": "stderr",
     "output_type": "stream",
     "text": [
      "\r",
      "Extracting features:   9%|█████▏                                                    | 443/5000 [00:10<01:54, 39.64it/s]"
     ]
    },
    {
     "name": "stdout",
     "output_type": "stream",
     "text": [
      "Failed 000000050145.jpg: short_edge_length must be two values using 'range' sample style. Got [640, 672, 704, 736, 768, 800]!\n",
      "Failed 000000050149.jpg: short_edge_length must be two values using 'range' sample style. Got [640, 672, 704, 736, 768, 800]!\n",
      "Failed 000000050165.jpg: short_edge_length must be two values using 'range' sample style. Got [640, 672, 704, 736, 768, 800]!\n",
      "Failed 000000050326.jpg: short_edge_length must be two values using 'range' sample style. Got [640, 672, 704, 736, 768, 800]!\n",
      "Failed 000000050331.jpg: short_edge_length must be two values using 'range' sample style. Got [640, 672, 704, 736, 768, 800]!\n",
      "Failed 000000050380.jpg: short_edge_length must be two values using 'range' sample style. Got [640, 672, 704, 736, 768, 800]!\n",
      "Failed 000000050638.jpg: short_edge_length must be two values using 'range' sample style. Got [640, 672, 704, 736, 768, 800]!\n",
      "Failed 000000050679.jpg: short_edge_length must be two values using 'range' sample style. Got [640, 672, 704, 736, 768, 800]!\n",
      "Failed 000000050811.jpg: short_edge_length must be two values using 'range' sample style. Got [640, 672, 704, 736, 768, 800]!\n"
     ]
    },
    {
     "name": "stderr",
     "output_type": "stream",
     "text": [
      "Extracting features:   9%|█████▎                                                    | 453/5000 [00:11<01:57, 38.75it/s]"
     ]
    },
    {
     "name": "stdout",
     "output_type": "stream",
     "text": [
      "Failed 000000050828.jpg: short_edge_length must be two values using 'range' sample style. Got [640, 672, 704, 736, 768, 800]!\n",
      "Failed 000000050844.jpg: short_edge_length must be two values using 'range' sample style. Got [640, 672, 704, 736, 768, 800]!\n",
      "Failed 000000050896.jpg: short_edge_length must be two values using 'range' sample style. Got [640, 672, 704, 736, 768, 800]!\n",
      "Failed 000000050943.jpg: short_edge_length must be two values using 'range' sample style. Got [640, 672, 704, 736, 768, 800]!\n",
      "Failed 000000051008.jpg: short_edge_length must be two values using 'range' sample style. Got [640, 672, 704, 736, 768, 800]!\n",
      "Failed 000000051309.jpg: short_edge_length must be two values using 'range' sample style. Got [640, 672, 704, 736, 768, 800]!\n",
      "Failed 000000051314.jpg: short_edge_length must be two values using 'range' sample style. Got [640, 672, 704, 736, 768, 800]!\n",
      "Failed 000000051326.jpg: short_edge_length must be two values using 'range' sample style. Got [640, 672, 704, 736, 768, 800]!\n"
     ]
    },
    {
     "name": "stderr",
     "output_type": "stream",
     "text": [
      "Extracting features:   9%|█████▎                                                    | 463/5000 [00:11<01:54, 39.65it/s]"
     ]
    },
    {
     "name": "stdout",
     "output_type": "stream",
     "text": [
      "Failed 000000051598.jpg: short_edge_length must be two values using 'range' sample style. Got [640, 672, 704, 736, 768, 800]!\n",
      "Failed 000000051610.jpg: short_edge_length must be two values using 'range' sample style. Got [640, 672, 704, 736, 768, 800]!\n",
      "Failed 000000051712.jpg: short_edge_length must be two values using 'range' sample style. Got [640, 672, 704, 736, 768, 800]!\n",
      "Failed 000000051738.jpg: short_edge_length must be two values using 'range' sample style. Got [640, 672, 704, 736, 768, 800]!\n",
      "Failed 000000051938.jpg: short_edge_length must be two values using 'range' sample style. Got [640, 672, 704, 736, 768, 800]!\n",
      "Failed 000000051961.jpg: short_edge_length must be two values using 'range' sample style. Got [640, 672, 704, 736, 768, 800]!\n",
      "Failed 000000051976.jpg: short_edge_length must be two values using 'range' sample style. Got [640, 672, 704, 736, 768, 800]!\n",
      "Failed 000000052007.jpg: short_edge_length must be two values using 'range' sample style. Got [640, 672, 704, 736, 768, 800]!\n"
     ]
    },
    {
     "name": "stderr",
     "output_type": "stream",
     "text": [
      "\r",
      "Extracting features:   9%|█████▍                                                    | 468/5000 [00:11<01:56, 39.01it/s]"
     ]
    },
    {
     "name": "stdout",
     "output_type": "stream",
     "text": [
      "Failed 000000052017.jpg: short_edge_length must be two values using 'range' sample style. Got [640, 672, 704, 736, 768, 800]!\n",
      "Failed 000000052412.jpg: short_edge_length must be two values using 'range' sample style. Got [640, 672, 704, 736, 768, 800]!\n",
      "Failed 000000052413.jpg: short_edge_length must be two values using 'range' sample style. Got [640, 672, 704, 736, 768, 800]!\n",
      "Failed 000000052462.jpg: short_edge_length must be two values using 'range' sample style. Got [640, 672, 704, 736, 768, 800]!\n",
      "Failed 000000052507.jpg: short_edge_length must be two values using 'range' sample style. Got [640, 672, 704, 736, 768, 800]!\n",
      "Failed 000000052565.jpg: short_edge_length must be two values using 'range' sample style. Got [640, 672, 704, 736, 768, 800]!\n",
      "Failed 000000052591.jpg: short_edge_length must be two values using 'range' sample style. Got [640, 672, 704, 736, 768, 800]!\n",
      "Failed 000000052891.jpg: short_edge_length must be two values using 'range' sample style. Got [640, 672, 704, 736, 768, 800]!\n",
      "Failed 000000052996.jpg: short_edge_length must be two values using 'range' sample style. Got [640, 672, 704, 736, 768, 800]!\n"
     ]
    },
    {
     "name": "stderr",
     "output_type": "stream",
     "text": [
      "Extracting features:  10%|█████▌                                                    | 478/5000 [00:11<01:52, 40.25it/s]"
     ]
    },
    {
     "name": "stdout",
     "output_type": "stream",
     "text": [
      "Failed 000000053505.jpg: short_edge_length must be two values using 'range' sample style. Got [640, 672, 704, 736, 768, 800]!\n",
      "Failed 000000053529.jpg: short_edge_length must be two values using 'range' sample style. Got [640, 672, 704, 736, 768, 800]!\n",
      "Failed 000000053624.jpg: short_edge_length must be two values using 'range' sample style. Got [640, 672, 704, 736, 768, 800]!\n",
      "Failed 000000053626.jpg: short_edge_length must be two values using 'range' sample style. Got [640, 672, 704, 736, 768, 800]!\n",
      "Failed 000000053909.jpg: short_edge_length must be two values using 'range' sample style. Got [640, 672, 704, 736, 768, 800]!\n",
      "Failed 000000053994.jpg: short_edge_length must be two values using 'range' sample style. Got [640, 672, 704, 736, 768, 800]!\n",
      "Failed 000000054123.jpg: short_edge_length must be two values using 'range' sample style. Got [640, 672, 704, 736, 768, 800]!\n",
      "Failed 000000054164.jpg: short_edge_length must be two values using 'range' sample style. Got [640, 672, 704, 736, 768, 800]!\n",
      "Failed 000000054592.jpg: short_edge_length must be two values using 'range' sample style. Got [640, 672, 704, 736, 768, 800]!\n"
     ]
    },
    {
     "name": "stderr",
     "output_type": "stream",
     "text": [
      "Extracting features:  10%|█████▋                                                    | 488/5000 [00:12<01:52, 39.94it/s]"
     ]
    },
    {
     "name": "stdout",
     "output_type": "stream",
     "text": [
      "Failed 000000054593.jpg: short_edge_length must be two values using 'range' sample style. Got [640, 672, 704, 736, 768, 800]!\n",
      "Failed 000000054605.jpg: short_edge_length must be two values using 'range' sample style. Got [640, 672, 704, 736, 768, 800]!\n",
      "Failed 000000054628.jpg: short_edge_length must be two values using 'range' sample style. Got [640, 672, 704, 736, 768, 800]!\n",
      "Failed 000000054654.jpg: short_edge_length must be two values using 'range' sample style. Got [640, 672, 704, 736, 768, 800]!\n",
      "Failed 000000054931.jpg: short_edge_length must be two values using 'range' sample style. Got [640, 672, 704, 736, 768, 800]!\n",
      "Failed 000000054967.jpg: short_edge_length must be two values using 'range' sample style. Got [640, 672, 704, 736, 768, 800]!\n",
      "Failed 000000055002.jpg: short_edge_length must be two values using 'range' sample style. Got [640, 672, 704, 736, 768, 800]!\n",
      "Failed 000000055022.jpg: short_edge_length must be two values using 'range' sample style. Got [640, 672, 704, 736, 768, 800]!\n",
      "Failed 000000055072.jpg: short_edge_length must be two values using 'range' sample style. Got [640, 672, 704, 736, 768, 800]!\n"
     ]
    },
    {
     "name": "stderr",
     "output_type": "stream",
     "text": [
      "Extracting features:  10%|█████▊                                                    | 498/5000 [00:12<01:52, 40.18it/s]"
     ]
    },
    {
     "name": "stdout",
     "output_type": "stream",
     "text": [
      "Failed 000000055150.jpg: short_edge_length must be two values using 'range' sample style. Got [640, 672, 704, 736, 768, 800]!\n",
      "Failed 000000055167.jpg: short_edge_length must be two values using 'range' sample style. Got [640, 672, 704, 736, 768, 800]!\n",
      "Failed 000000055299.jpg: short_edge_length must be two values using 'range' sample style. Got [640, 672, 704, 736, 768, 800]!\n",
      "Failed 000000055528.jpg: short_edge_length must be two values using 'range' sample style. Got [640, 672, 704, 736, 768, 800]!\n",
      "Failed 000000055950.jpg: short_edge_length must be two values using 'range' sample style. Got [640, 672, 704, 736, 768, 800]!\n",
      "Failed 000000056127.jpg: short_edge_length must be two values using 'range' sample style. Got [640, 672, 704, 736, 768, 800]!\n",
      "Failed 000000056288.jpg: short_edge_length must be two values using 'range' sample style. Got [640, 672, 704, 736, 768, 800]!\n",
      "Failed 000000056344.jpg: short_edge_length must be two values using 'range' sample style. Got [640, 672, 704, 736, 768, 800]!\n",
      "Failed 000000056350.jpg: short_edge_length must be two values using 'range' sample style. Got [640, 672, 704, 736, 768, 800]!\n"
     ]
    },
    {
     "name": "stderr",
     "output_type": "stream",
     "text": [
      "Extracting features:  10%|█████▉                                                    | 508/5000 [00:12<01:48, 41.26it/s]"
     ]
    },
    {
     "name": "stdout",
     "output_type": "stream",
     "text": [
      "Failed 000000056545.jpg: short_edge_length must be two values using 'range' sample style. Got [640, 672, 704, 736, 768, 800]!\n",
      "Failed 000000057027.jpg: short_edge_length must be two values using 'range' sample style. Got [640, 672, 704, 736, 768, 800]!\n",
      "Failed 000000057149.jpg: short_edge_length must be two values using 'range' sample style. Got [640, 672, 704, 736, 768, 800]!\n",
      "Failed 000000057150.jpg: short_edge_length must be two values using 'range' sample style. Got [640, 672, 704, 736, 768, 800]!\n",
      "Failed 000000057232.jpg: short_edge_length must be two values using 'range' sample style. Got [640, 672, 704, 736, 768, 800]!\n",
      "Failed 000000057238.jpg: short_edge_length must be two values using 'range' sample style. Got [640, 672, 704, 736, 768, 800]!\n",
      "Failed 000000057244.jpg: short_edge_length must be two values using 'range' sample style. Got [640, 672, 704, 736, 768, 800]!\n",
      "Failed 000000057597.jpg: short_edge_length must be two values using 'range' sample style. Got [640, 672, 704, 736, 768, 800]!\n",
      "Failed 000000057672.jpg: short_edge_length must be two values using 'range' sample style. Got [640, 672, 704, 736, 768, 800]!\n"
     ]
    },
    {
     "name": "stderr",
     "output_type": "stream",
     "text": [
      "\r",
      "Extracting features:  10%|█████▉                                                    | 513/5000 [00:12<01:47, 41.72it/s]"
     ]
    },
    {
     "name": "stdout",
     "output_type": "stream",
     "text": [
      "Failed 000000057725.jpg: short_edge_length must be two values using 'range' sample style. Got [640, 672, 704, 736, 768, 800]!\n",
      "Failed 000000057760.jpg: short_edge_length must be two values using 'range' sample style. Got [640, 672, 704, 736, 768, 800]!\n",
      "Failed 000000058029.jpg: short_edge_length must be two values using 'range' sample style. Got [640, 672, 704, 736, 768, 800]!\n",
      "Failed 000000058111.jpg: short_edge_length must be two values using 'range' sample style. Got [640, 672, 704, 736, 768, 800]!\n",
      "Failed 000000058350.jpg: short_edge_length must be two values using 'range' sample style. Got [640, 672, 704, 736, 768, 800]!\n",
      "Failed 000000058384.jpg: short_edge_length must be two values using 'range' sample style. Got [640, 672, 704, 736, 768, 800]!\n",
      "Failed 000000058393.jpg: short_edge_length must be two values using 'range' sample style. Got [640, 672, 704, 736, 768, 800]!\n",
      "Failed 000000058539.jpg: short_edge_length must be two values using 'range' sample style. Got [640, 672, 704, 736, 768, 800]!\n",
      "Failed 000000058636.jpg: short_edge_length must be two values using 'range' sample style. Got [640, 672, 704, 736, 768, 800]!\n"
     ]
    },
    {
     "name": "stderr",
     "output_type": "stream",
     "text": [
      "Extracting features:  10%|██████                                                    | 523/5000 [00:12<01:47, 41.67it/s]"
     ]
    },
    {
     "name": "stdout",
     "output_type": "stream",
     "text": [
      "Failed 000000058655.jpg: short_edge_length must be two values using 'range' sample style. Got [640, 672, 704, 736, 768, 800]!\n",
      "Failed 000000058705.jpg: short_edge_length must be two values using 'range' sample style. Got [640, 672, 704, 736, 768, 800]!\n",
      "Failed 000000059044.jpg: short_edge_length must be two values using 'range' sample style. Got [640, 672, 704, 736, 768, 800]!\n",
      "Failed 000000059386.jpg: short_edge_length must be two values using 'range' sample style. Got [640, 672, 704, 736, 768, 800]!\n",
      "Failed 000000059598.jpg: short_edge_length must be two values using 'range' sample style. Got [640, 672, 704, 736, 768, 800]!\n",
      "Failed 000000059635.jpg: short_edge_length must be two values using 'range' sample style. Got [640, 672, 704, 736, 768, 800]!\n",
      "Failed 000000059920.jpg: short_edge_length must be two values using 'range' sample style. Got [640, 672, 704, 736, 768, 800]!\n",
      "Failed 000000060052.jpg: short_edge_length must be two values using 'range' sample style. Got [640, 672, 704, 736, 768, 800]!\n",
      "Failed 000000060090.jpg: short_edge_length must be two values using 'range' sample style. Got [640, 672, 704, 736, 768, 800]!\n"
     ]
    },
    {
     "name": "stderr",
     "output_type": "stream",
     "text": [
      "Extracting features:  11%|██████▏                                                   | 533/5000 [00:13<01:56, 38.43it/s]"
     ]
    },
    {
     "name": "stdout",
     "output_type": "stream",
     "text": [
      "Failed 000000060102.jpg: short_edge_length must be two values using 'range' sample style. Got [640, 672, 704, 736, 768, 800]!\n",
      "Failed 000000060347.jpg: short_edge_length must be two values using 'range' sample style. Got [640, 672, 704, 736, 768, 800]!\n",
      "Failed 000000060363.jpg: short_edge_length must be two values using 'range' sample style. Got [640, 672, 704, 736, 768, 800]!\n",
      "Failed 000000060449.jpg: short_edge_length must be two values using 'range' sample style. Got [640, 672, 704, 736, 768, 800]!\n",
      "Failed 000000060507.jpg: short_edge_length must be two values using 'range' sample style. Got [640, 672, 704, 736, 768, 800]!\n",
      "Failed 000000060770.jpg: short_edge_length must be two values using 'range' sample style. Got [640, 672, 704, 736, 768, 800]!\n",
      "Failed 000000060823.jpg: short_edge_length must be two values using 'range' sample style. Got [640, 672, 704, 736, 768, 800]!\n"
     ]
    },
    {
     "name": "stderr",
     "output_type": "stream",
     "text": [
      "Extracting features:  11%|██████▎                                                   | 542/5000 [00:13<01:53, 39.12it/s]"
     ]
    },
    {
     "name": "stdout",
     "output_type": "stream",
     "text": [
      "Failed 000000060835.jpg: short_edge_length must be two values using 'range' sample style. Got [640, 672, 704, 736, 768, 800]!\n",
      "Failed 000000060855.jpg: short_edge_length must be two values using 'range' sample style. Got [640, 672, 704, 736, 768, 800]!\n",
      "Failed 000000060886.jpg: short_edge_length must be two values using 'range' sample style. Got [640, 672, 704, 736, 768, 800]!\n",
      "Failed 000000060899.jpg: short_edge_length must be two values using 'range' sample style. Got [640, 672, 704, 736, 768, 800]!\n",
      "Failed 000000060932.jpg: short_edge_length must be two values using 'range' sample style. Got [640, 672, 704, 736, 768, 800]!\n",
      "Failed 000000061108.jpg: short_edge_length must be two values using 'range' sample style. Got [640, 672, 704, 736, 768, 800]!\n",
      "Failed 000000061171.jpg: short_edge_length must be two values using 'range' sample style. Got [640, 672, 704, 736, 768, 800]!\n",
      "Failed 000000061268.jpg: short_edge_length must be two values using 'range' sample style. Got [640, 672, 704, 736, 768, 800]!\n",
      "Failed 000000061333.jpg: short_edge_length must be two values using 'range' sample style. Got [640, 672, 704, 736, 768, 800]!\n"
     ]
    },
    {
     "name": "stderr",
     "output_type": "stream",
     "text": [
      "Extracting features:  11%|██████▍                                                   | 550/5000 [00:13<01:55, 38.52it/s]"
     ]
    },
    {
     "name": "stdout",
     "output_type": "stream",
     "text": [
      "Failed 000000061418.jpg: short_edge_length must be two values using 'range' sample style. Got [640, 672, 704, 736, 768, 800]!\n",
      "Failed 000000061471.jpg: short_edge_length must be two values using 'range' sample style. Got [640, 672, 704, 736, 768, 800]!\n",
      "Failed 000000061584.jpg: short_edge_length must be two values using 'range' sample style. Got [640, 672, 704, 736, 768, 800]!\n",
      "Failed 000000061658.jpg: short_edge_length must be two values using 'range' sample style. Got [640, 672, 704, 736, 768, 800]!\n",
      "Failed 000000061747.jpg: short_edge_length must be two values using 'range' sample style. Got [640, 672, 704, 736, 768, 800]!\n",
      "Failed 000000061960.jpg: short_edge_length must be two values using 'range' sample style. Got [640, 672, 704, 736, 768, 800]!\n",
      "Failed 000000062025.jpg: short_edge_length must be two values using 'range' sample style. Got [640, 672, 704, 736, 768, 800]!\n",
      "Failed 000000062353.jpg: short_edge_length must be two values using 'range' sample style. Got [640, 672, 704, 736, 768, 800]!\n",
      "Failed 000000062355.jpg: short_edge_length must be two values using 'range' sample style. Got [640, 672, 704, 736, 768, 800]!\n"
     ]
    },
    {
     "name": "stderr",
     "output_type": "stream",
     "text": [
      "\r",
      "Extracting features:  11%|██████▍                                                   | 554/5000 [00:13<02:04, 35.58it/s]"
     ]
    },
    {
     "name": "stdout",
     "output_type": "stream",
     "text": [
      "Failed 000000062554.jpg: short_edge_length must be two values using 'range' sample style. Got [640, 672, 704, 736, 768, 800]!\n",
      "Failed 000000062692.jpg: short_edge_length must be two values using 'range' sample style. Got [640, 672, 704, 736, 768, 800]!\n",
      "Failed 000000062808.jpg: short_edge_length must be two values using 'range' sample style. Got [640, 672, 704, 736, 768, 800]!\n",
      "Failed 000000063047.jpg: short_edge_length must be two values using 'range' sample style. Got [640, 672, 704, 736, 768, 800]!\n",
      "Failed 000000063154.jpg: short_edge_length must be two values using 'range' sample style. Got [640, 672, 704, 736, 768, 800]!\n",
      "Failed 000000063552.jpg: short_edge_length must be two values using 'range' sample style. Got [640, 672, 704, 736, 768, 800]!\n",
      "Failed 000000063602.jpg: short_edge_length must be two values using 'range' sample style. Got [640, 672, 704, 736, 768, 800]!\n"
     ]
    },
    {
     "name": "stderr",
     "output_type": "stream",
     "text": [
      "Extracting features:  11%|██████▌                                                   | 563/5000 [00:13<02:00, 36.68it/s]"
     ]
    },
    {
     "name": "stdout",
     "output_type": "stream",
     "text": [
      "Failed 000000063740.jpg: short_edge_length must be two values using 'range' sample style. Got [640, 672, 704, 736, 768, 800]!\n",
      "Failed 000000063965.jpg: short_edge_length must be two values using 'range' sample style. Got [640, 672, 704, 736, 768, 800]!\n",
      "Failed 000000064084.jpg: short_edge_length must be two values using 'range' sample style. Got [640, 672, 704, 736, 768, 800]!\n",
      "Failed 000000064359.jpg: short_edge_length must be two values using 'range' sample style. Got [640, 672, 704, 736, 768, 800]!\n",
      "Failed 000000064462.jpg: short_edge_length must be two values using 'range' sample style. Got [640, 672, 704, 736, 768, 800]!\n",
      "Failed 000000064495.jpg: short_edge_length must be two values using 'range' sample style. Got [640, 672, 704, 736, 768, 800]!\n"
     ]
    },
    {
     "name": "stderr",
     "output_type": "stream",
     "text": [
      "Extracting features:  11%|██████▋                                                   | 572/5000 [00:14<02:05, 35.38it/s]"
     ]
    },
    {
     "name": "stdout",
     "output_type": "stream",
     "text": [
      "Failed 000000064499.jpg: short_edge_length must be two values using 'range' sample style. Got [640, 672, 704, 736, 768, 800]!\n",
      "Failed 000000064523.jpg: short_edge_length must be two values using 'range' sample style. Got [640, 672, 704, 736, 768, 800]!\n",
      "Failed 000000064574.jpg: short_edge_length must be two values using 'range' sample style. Got [640, 672, 704, 736, 768, 800]!\n",
      "Failed 000000064718.jpg: short_edge_length must be two values using 'range' sample style. Got [640, 672, 704, 736, 768, 800]!\n",
      "Failed 000000064868.jpg: short_edge_length must be two values using 'range' sample style. Got [640, 672, 704, 736, 768, 800]!\n",
      "Failed 000000064898.jpg: short_edge_length must be two values using 'range' sample style. Got [640, 672, 704, 736, 768, 800]!\n",
      "Failed 000000065074.jpg: short_edge_length must be two values using 'range' sample style. Got [640, 672, 704, 736, 768, 800]!\n",
      "Failed 000000065288.jpg: short_edge_length must be two values using 'range' sample style. Got [640, 672, 704, 736, 768, 800]!\n",
      "Failed 000000065350.jpg: short_edge_length must be two values using 'range' sample style. Got [640, 672, 704, 736, 768, 800]!\n"
     ]
    },
    {
     "name": "stderr",
     "output_type": "stream",
     "text": [
      "Extracting features:  12%|██████▋                                                   | 580/5000 [00:14<02:04, 35.39it/s]"
     ]
    },
    {
     "name": "stdout",
     "output_type": "stream",
     "text": [
      "Failed 000000065455.jpg: short_edge_length must be two values using 'range' sample style. Got [640, 672, 704, 736, 768, 800]!\n",
      "Failed 000000065485.jpg: short_edge_length must be two values using 'range' sample style. Got [640, 672, 704, 736, 768, 800]!\n",
      "Failed 000000065736.jpg: short_edge_length must be two values using 'range' sample style. Got [640, 672, 704, 736, 768, 800]!\n",
      "Failed 000000065798.jpg: short_edge_length must be two values using 'range' sample style. Got [640, 672, 704, 736, 768, 800]!\n",
      "Failed 000000066038.jpg: short_edge_length must be two values using 'range' sample style. Got [640, 672, 704, 736, 768, 800]!\n",
      "Failed 000000066135.jpg: short_edge_length must be two values using 'range' sample style. Got [640, 672, 704, 736, 768, 800]!\n",
      "Failed 000000066231.jpg: short_edge_length must be two values using 'range' sample style. Got [640, 672, 704, 736, 768, 800]!\n",
      "Failed 000000066523.jpg: short_edge_length must be two values using 'range' sample style. Got [640, 672, 704, 736, 768, 800]!\n"
     ]
    },
    {
     "name": "stderr",
     "output_type": "stream",
     "text": [
      "Extracting features:  12%|██████▊                                                   | 590/5000 [00:14<01:48, 40.63it/s]"
     ]
    },
    {
     "name": "stdout",
     "output_type": "stream",
     "text": [
      "Failed 000000066561.jpg: short_edge_length must be two values using 'range' sample style. Got [640, 672, 704, 736, 768, 800]!\n",
      "Failed 000000066635.jpg: short_edge_length must be two values using 'range' sample style. Got [640, 672, 704, 736, 768, 800]!\n",
      "Failed 000000066706.jpg: short_edge_length must be two values using 'range' sample style. Got [640, 672, 704, 736, 768, 800]!\n",
      "Failed 000000066771.jpg: short_edge_length must be two values using 'range' sample style. Got [640, 672, 704, 736, 768, 800]!\n",
      "Failed 000000066817.jpg: short_edge_length must be two values using 'range' sample style. Got [640, 672, 704, 736, 768, 800]!\n",
      "Failed 000000066841.jpg: short_edge_length must be two values using 'range' sample style. Got [640, 672, 704, 736, 768, 800]!\n",
      "Failed 000000066886.jpg: short_edge_length must be two values using 'range' sample style. Got [640, 672, 704, 736, 768, 800]!\n",
      "Failed 000000066926.jpg: short_edge_length must be two values using 'range' sample style. Got [640, 672, 704, 736, 768, 800]!\n",
      "Failed 000000067180.jpg: short_edge_length must be two values using 'range' sample style. Got [640, 672, 704, 736, 768, 800]!\n"
     ]
    },
    {
     "name": "stderr",
     "output_type": "stream",
     "text": [
      "\r",
      "Extracting features:  12%|██████▉                                                   | 595/5000 [00:14<01:52, 39.30it/s]"
     ]
    },
    {
     "name": "stdout",
     "output_type": "stream",
     "text": [
      "Failed 000000067213.jpg: short_edge_length must be two values using 'range' sample style. Got [640, 672, 704, 736, 768, 800]!\n",
      "Failed 000000067310.jpg: short_edge_length must be two values using 'range' sample style. Got [640, 672, 704, 736, 768, 800]!\n",
      "Failed 000000067315.jpg: short_edge_length must be two values using 'range' sample style. Got [640, 672, 704, 736, 768, 800]!\n",
      "Failed 000000067406.jpg: short_edge_length must be two values using 'range' sample style. Got [640, 672, 704, 736, 768, 800]!\n",
      "Failed 000000067534.jpg: short_edge_length must be two values using 'range' sample style. Got [640, 672, 704, 736, 768, 800]!\n",
      "Failed 000000067616.jpg: short_edge_length must be two values using 'range' sample style. Got [640, 672, 704, 736, 768, 800]!\n",
      "Failed 000000067896.jpg: short_edge_length must be two values using 'range' sample style. Got [640, 672, 704, 736, 768, 800]!\n",
      "Failed 000000068078.jpg: short_edge_length must be two values using 'range' sample style. Got [640, 672, 704, 736, 768, 800]!\n"
     ]
    },
    {
     "name": "stderr",
     "output_type": "stream",
     "text": [
      "Extracting features:  12%|███████                                                   | 609/5000 [00:15<01:45, 41.45it/s]"
     ]
    },
    {
     "name": "stdout",
     "output_type": "stream",
     "text": [
      "Failed 000000068093.jpg: short_edge_length must be two values using 'range' sample style. Got [640, 672, 704, 736, 768, 800]!\n",
      "Failed 000000068286.jpg: short_edge_length must be two values using 'range' sample style. Got [640, 672, 704, 736, 768, 800]!\n",
      "Failed 000000068387.jpg: short_edge_length must be two values using 'range' sample style. Got [640, 672, 704, 736, 768, 800]!\n",
      "Failed 000000068409.jpg: short_edge_length must be two values using 'range' sample style. Got [640, 672, 704, 736, 768, 800]!\n",
      "Failed 000000068628.jpg: short_edge_length must be two values using 'range' sample style. Got [640, 672, 704, 736, 768, 800]!\n",
      "Failed 000000068765.jpg: short_edge_length must be two values using 'range' sample style. Got [640, 672, 704, 736, 768, 800]!\n",
      "Failed 000000068833.jpg: short_edge_length must be two values using 'range' sample style. Got [640, 672, 704, 736, 768, 800]!\n",
      "Failed 000000068933.jpg: short_edge_length must be two values using 'range' sample style. Got [640, 672, 704, 736, 768, 800]!\n",
      "Failed 000000069106.jpg: short_edge_length must be two values using 'range' sample style. Got [640, 672, 704, 736, 768, 800]!\n",
      "Failed 000000069138.jpg: short_edge_length must be two values using 'range' sample style. Got [640, 672, 704, 736, 768, 800]!\n",
      "Failed 000000069213.jpg: short_edge_length must be two values using 'range' sample style. Got [640, 672, 704, 736, 768, 800]!\n"
     ]
    },
    {
     "name": "stderr",
     "output_type": "stream",
     "text": [
      "\r",
      "Extracting features:  12%|███████                                                   | 614/5000 [00:15<01:46, 41.07it/s]"
     ]
    },
    {
     "name": "stdout",
     "output_type": "stream",
     "text": [
      "Failed 000000069224.jpg: short_edge_length must be two values using 'range' sample style. Got [640, 672, 704, 736, 768, 800]!\n",
      "Failed 000000069356.jpg: short_edge_length must be two values using 'range' sample style. Got [640, 672, 704, 736, 768, 800]!\n",
      "Failed 000000069795.jpg: short_edge_length must be two values using 'range' sample style. Got [640, 672, 704, 736, 768, 800]!\n",
      "Failed 000000070048.jpg: short_edge_length must be two values using 'range' sample style. Got [640, 672, 704, 736, 768, 800]!\n",
      "Failed 000000070158.jpg: short_edge_length must be two values using 'range' sample style. Got [640, 672, 704, 736, 768, 800]!\n",
      "Failed 000000070229.jpg: short_edge_length must be two values using 'range' sample style. Got [640, 672, 704, 736, 768, 800]!\n",
      "Failed 000000070254.jpg: short_edge_length must be two values using 'range' sample style. Got [640, 672, 704, 736, 768, 800]!\n",
      "Failed 000000070739.jpg: short_edge_length must be two values using 'range' sample style. Got [640, 672, 704, 736, 768, 800]!\n"
     ]
    },
    {
     "name": "stderr",
     "output_type": "stream",
     "text": [
      "Extracting features:  12%|███████▎                                                  | 625/5000 [00:15<01:39, 43.83it/s]"
     ]
    },
    {
     "name": "stdout",
     "output_type": "stream",
     "text": [
      "Failed 000000070774.jpg: short_edge_length must be two values using 'range' sample style. Got [640, 672, 704, 736, 768, 800]!\n",
      "Failed 000000071226.jpg: short_edge_length must be two values using 'range' sample style. Got [640, 672, 704, 736, 768, 800]!\n",
      "Failed 000000071451.jpg: short_edge_length must be two values using 'range' sample style. Got [640, 672, 704, 736, 768, 800]!\n",
      "Failed 000000071711.jpg: short_edge_length must be two values using 'range' sample style. Got [640, 672, 704, 736, 768, 800]!\n",
      "Failed 000000071756.jpg: short_edge_length must be two values using 'range' sample style. Got [640, 672, 704, 736, 768, 800]!\n",
      "Failed 000000071877.jpg: short_edge_length must be two values using 'range' sample style. Got [640, 672, 704, 736, 768, 800]!\n",
      "Failed 000000071938.jpg: short_edge_length must be two values using 'range' sample style. Got [640, 672, 704, 736, 768, 800]!\n",
      "Failed 000000072281.jpg: short_edge_length must be two values using 'range' sample style. Got [640, 672, 704, 736, 768, 800]!\n",
      "Failed 000000072795.jpg: short_edge_length must be two values using 'range' sample style. Got [640, 672, 704, 736, 768, 800]!\n",
      "Failed 000000072813.jpg: short_edge_length must be two values using 'range' sample style. Got [640, 672, 704, 736, 768, 800]!\n"
     ]
    },
    {
     "name": "stderr",
     "output_type": "stream",
     "text": [
      "Extracting features:  13%|███████▎                                                  | 635/5000 [00:15<01:44, 41.91it/s]"
     ]
    },
    {
     "name": "stdout",
     "output_type": "stream",
     "text": [
      "Failed 000000072852.jpg: short_edge_length must be two values using 'range' sample style. Got [640, 672, 704, 736, 768, 800]!\n",
      "Failed 000000073118.jpg: short_edge_length must be two values using 'range' sample style. Got [640, 672, 704, 736, 768, 800]!\n",
      "Failed 000000073153.jpg: short_edge_length must be two values using 'range' sample style. Got [640, 672, 704, 736, 768, 800]!\n",
      "Failed 000000073326.jpg: short_edge_length must be two values using 'range' sample style. Got [640, 672, 704, 736, 768, 800]!\n",
      "Failed 000000073533.jpg: short_edge_length must be two values using 'range' sample style. Got [640, 672, 704, 736, 768, 800]!\n",
      "Failed 000000073702.jpg: short_edge_length must be two values using 'range' sample style. Got [640, 672, 704, 736, 768, 800]!\n",
      "Failed 000000073946.jpg: short_edge_length must be two values using 'range' sample style. Got [640, 672, 704, 736, 768, 800]!\n",
      "Failed 000000074058.jpg: short_edge_length must be two values using 'range' sample style. Got [640, 672, 704, 736, 768, 800]!\n"
     ]
    },
    {
     "name": "stderr",
     "output_type": "stream",
     "text": [
      "\r",
      "Extracting features:  13%|███████▍                                                  | 640/5000 [00:15<01:46, 40.77it/s]"
     ]
    },
    {
     "name": "stdout",
     "output_type": "stream",
     "text": [
      "Failed 000000074092.jpg: short_edge_length must be two values using 'range' sample style. Got [640, 672, 704, 736, 768, 800]!\n",
      "Failed 000000074200.jpg: short_edge_length must be two values using 'range' sample style. Got [640, 672, 704, 736, 768, 800]!\n",
      "Failed 000000074209.jpg: short_edge_length must be two values using 'range' sample style. Got [640, 672, 704, 736, 768, 800]!\n",
      "Failed 000000074256.jpg: short_edge_length must be two values using 'range' sample style. Got [640, 672, 704, 736, 768, 800]!\n",
      "Failed 000000074457.jpg: short_edge_length must be two values using 'range' sample style. Got [640, 672, 704, 736, 768, 800]!\n",
      "Failed 000000074646.jpg: short_edge_length must be two values using 'range' sample style. Got [640, 672, 704, 736, 768, 800]!\n",
      "Failed 000000074733.jpg: short_edge_length must be two values using 'range' sample style. Got [640, 672, 704, 736, 768, 800]!\n",
      "Failed 000000074860.jpg: short_edge_length must be two values using 'range' sample style. Got [640, 672, 704, 736, 768, 800]!\n",
      "Failed 000000075393.jpg: short_edge_length must be two values using 'range' sample style. Got [640, 672, 704, 736, 768, 800]!\n"
     ]
    },
    {
     "name": "stderr",
     "output_type": "stream",
     "text": [
      "Extracting features:  13%|███████▌                                                  | 650/5000 [00:16<01:42, 42.31it/s]"
     ]
    },
    {
     "name": "stdout",
     "output_type": "stream",
     "text": [
      "Failed 000000075456.jpg: short_edge_length must be two values using 'range' sample style. Got [640, 672, 704, 736, 768, 800]!\n",
      "Failed 000000075612.jpg: short_edge_length must be two values using 'range' sample style. Got [640, 672, 704, 736, 768, 800]!\n",
      "Failed 000000076211.jpg: short_edge_length must be two values using 'range' sample style. Got [640, 672, 704, 736, 768, 800]!\n",
      "Failed 000000076261.jpg: short_edge_length must be two values using 'range' sample style. Got [640, 672, 704, 736, 768, 800]!\n",
      "Failed 000000076416.jpg: short_edge_length must be two values using 'range' sample style. Got [640, 672, 704, 736, 768, 800]!\n",
      "Failed 000000076417.jpg: short_edge_length must be two values using 'range' sample style. Got [640, 672, 704, 736, 768, 800]!\n",
      "Failed 000000076468.jpg: short_edge_length must be two values using 'range' sample style. Got [640, 672, 704, 736, 768, 800]!\n",
      "Failed 000000076547.jpg: short_edge_length must be two values using 'range' sample style. Got [640, 672, 704, 736, 768, 800]!\n",
      "Failed 000000076625.jpg: short_edge_length must be two values using 'range' sample style. Got [640, 672, 704, 736, 768, 800]!\n"
     ]
    },
    {
     "name": "stderr",
     "output_type": "stream",
     "text": [
      "Extracting features:  13%|███████▋                                                  | 660/5000 [00:16<01:46, 40.87it/s]"
     ]
    },
    {
     "name": "stdout",
     "output_type": "stream",
     "text": [
      "Failed 000000076731.jpg: short_edge_length must be two values using 'range' sample style. Got [640, 672, 704, 736, 768, 800]!\n",
      "Failed 000000077396.jpg: short_edge_length must be two values using 'range' sample style. Got [640, 672, 704, 736, 768, 800]!\n",
      "Failed 000000077460.jpg: short_edge_length must be two values using 'range' sample style. Got [640, 672, 704, 736, 768, 800]!\n",
      "Failed 000000077595.jpg: short_edge_length must be two values using 'range' sample style. Got [640, 672, 704, 736, 768, 800]!\n",
      "Failed 000000078032.jpg: short_edge_length must be two values using 'range' sample style. Got [640, 672, 704, 736, 768, 800]!\n",
      "Failed 000000078170.jpg: short_edge_length must be two values using 'range' sample style. Got [640, 672, 704, 736, 768, 800]!\n",
      "Failed 000000078266.jpg: short_edge_length must be two values using 'range' sample style. Got [640, 672, 704, 736, 768, 800]!\n",
      "Failed 000000078404.jpg: short_edge_length must be two values using 'range' sample style. Got [640, 672, 704, 736, 768, 800]!\n",
      "Failed 000000078420.jpg: short_edge_length must be two values using 'range' sample style. Got [640, 672, 704, 736, 768, 800]!\n"
     ]
    },
    {
     "name": "stderr",
     "output_type": "stream",
     "text": [
      "Extracting features:  13%|███████▊                                                  | 671/5000 [00:16<01:36, 44.78it/s]"
     ]
    },
    {
     "name": "stdout",
     "output_type": "stream",
     "text": [
      "Failed 000000078426.jpg: short_edge_length must be two values using 'range' sample style. Got [640, 672, 704, 736, 768, 800]!\n",
      "Failed 000000078565.jpg: short_edge_length must be two values using 'range' sample style. Got [640, 672, 704, 736, 768, 800]!\n",
      "Failed 000000078748.jpg: short_edge_length must be two values using 'range' sample style. Got [640, 672, 704, 736, 768, 800]!\n",
      "Failed 000000078823.jpg: short_edge_length must be two values using 'range' sample style. Got [640, 672, 704, 736, 768, 800]!\n",
      "Failed 000000078843.jpg: short_edge_length must be two values using 'range' sample style. Got [640, 672, 704, 736, 768, 800]!\n",
      "Failed 000000078915.jpg: short_edge_length must be two values using 'range' sample style. Got [640, 672, 704, 736, 768, 800]!\n",
      "Failed 000000078959.jpg: short_edge_length must be two values using 'range' sample style. Got [640, 672, 704, 736, 768, 800]!\n",
      "Failed 000000079014.jpg: short_edge_length must be two values using 'range' sample style. Got [640, 672, 704, 736, 768, 800]!\n",
      "Failed 000000079031.jpg: short_edge_length must be two values using 'range' sample style. Got [640, 672, 704, 736, 768, 800]!\n"
     ]
    },
    {
     "name": "stderr",
     "output_type": "stream",
     "text": [
      "\r",
      "Extracting features:  14%|███████▊                                                  | 676/5000 [00:16<01:46, 40.57it/s]"
     ]
    },
    {
     "name": "stdout",
     "output_type": "stream",
     "text": [
      "Failed 000000079034.jpg: short_edge_length must be two values using 'range' sample style. Got [640, 672, 704, 736, 768, 800]!\n",
      "Failed 000000079144.jpg: short_edge_length must be two values using 'range' sample style. Got [640, 672, 704, 736, 768, 800]!\n",
      "Failed 000000079188.jpg: short_edge_length must be two values using 'range' sample style. Got [640, 672, 704, 736, 768, 800]!\n",
      "Failed 000000079229.jpg: short_edge_length must be two values using 'range' sample style. Got [640, 672, 704, 736, 768, 800]!\n",
      "Failed 000000079408.jpg: short_edge_length must be two values using 'range' sample style. Got [640, 672, 704, 736, 768, 800]!\n",
      "Failed 000000079565.jpg: short_edge_length must be two values using 'range' sample style. Got [640, 672, 704, 736, 768, 800]!\n",
      "Failed 000000079588.jpg: short_edge_length must be two values using 'range' sample style. Got [640, 672, 704, 736, 768, 800]!\n",
      "Failed 000000079651.jpg: short_edge_length must be two values using 'range' sample style. Got [640, 672, 704, 736, 768, 800]!\n",
      "Failed 000000079837.jpg: short_edge_length must be two values using 'range' sample style. Got [640, 672, 704, 736, 768, 800]!\n"
     ]
    },
    {
     "name": "stderr",
     "output_type": "stream",
     "text": [
      "Extracting features:  14%|███████▉                                                  | 686/5000 [00:17<01:42, 42.13it/s]"
     ]
    },
    {
     "name": "stdout",
     "output_type": "stream",
     "text": [
      "Failed 000000079969.jpg: short_edge_length must be two values using 'range' sample style. Got [640, 672, 704, 736, 768, 800]!\n",
      "Failed 000000080022.jpg: short_edge_length must be two values using 'range' sample style. Got [640, 672, 704, 736, 768, 800]!\n",
      "Failed 000000080057.jpg: short_edge_length must be two values using 'range' sample style. Got [640, 672, 704, 736, 768, 800]!\n",
      "Failed 000000080153.jpg: short_edge_length must be two values using 'range' sample style. Got [640, 672, 704, 736, 768, 800]!\n",
      "Failed 000000080273.jpg: short_edge_length must be two values using 'range' sample style. Got [640, 672, 704, 736, 768, 800]!\n",
      "Failed 000000080274.jpg: short_edge_length must be two values using 'range' sample style. Got [640, 672, 704, 736, 768, 800]!\n",
      "Failed 000000080340.jpg: short_edge_length must be two values using 'range' sample style. Got [640, 672, 704, 736, 768, 800]!\n",
      "Failed 000000080413.jpg: short_edge_length must be two values using 'range' sample style. Got [640, 672, 704, 736, 768, 800]!\n",
      "Failed 000000080659.jpg: short_edge_length must be two values using 'range' sample style. Got [640, 672, 704, 736, 768, 800]!\n"
     ]
    },
    {
     "name": "stderr",
     "output_type": "stream",
     "text": [
      "Extracting features:  14%|████████                                                  | 696/5000 [00:17<01:46, 40.36it/s]"
     ]
    },
    {
     "name": "stdout",
     "output_type": "stream",
     "text": [
      "Failed 000000080666.jpg: short_edge_length must be two values using 'range' sample style. Got [640, 672, 704, 736, 768, 800]!\n",
      "Failed 000000080671.jpg: short_edge_length must be two values using 'range' sample style. Got [640, 672, 704, 736, 768, 800]!\n",
      "Failed 000000080932.jpg: short_edge_length must be two values using 'range' sample style. Got [640, 672, 704, 736, 768, 800]!\n",
      "Failed 000000080949.jpg: short_edge_length must be two values using 'range' sample style. Got [640, 672, 704, 736, 768, 800]!\n",
      "Failed 000000081061.jpg: short_edge_length must be two values using 'range' sample style. Got [640, 672, 704, 736, 768, 800]!\n",
      "Failed 000000081394.jpg: short_edge_length must be two values using 'range' sample style. Got [640, 672, 704, 736, 768, 800]!\n",
      "Failed 000000081594.jpg: short_edge_length must be two values using 'range' sample style. Got [640, 672, 704, 736, 768, 800]!\n",
      "Failed 000000081738.jpg: short_edge_length must be two values using 'range' sample style. Got [640, 672, 704, 736, 768, 800]!\n"
     ]
    },
    {
     "name": "stderr",
     "output_type": "stream",
     "text": [
      "Extracting features:  14%|████████▏                                                 | 705/5000 [00:17<01:50, 38.72it/s]"
     ]
    },
    {
     "name": "stdout",
     "output_type": "stream",
     "text": [
      "Failed 000000081766.jpg: short_edge_length must be two values using 'range' sample style. Got [640, 672, 704, 736, 768, 800]!\n",
      "Failed 000000081988.jpg: short_edge_length must be two values using 'range' sample style. Got [640, 672, 704, 736, 768, 800]!\n",
      "Failed 000000082085.jpg: short_edge_length must be two values using 'range' sample style. Got [640, 672, 704, 736, 768, 800]!\n",
      "Failed 000000082180.jpg: short_edge_length must be two values using 'range' sample style. Got [640, 672, 704, 736, 768, 800]!\n",
      "Failed 000000082688.jpg: short_edge_length must be two values using 'range' sample style. Got [640, 672, 704, 736, 768, 800]!\n",
      "Failed 000000082696.jpg: short_edge_length must be two values using 'range' sample style. Got [640, 672, 704, 736, 768, 800]!\n",
      "Failed 000000082715.jpg: short_edge_length must be two values using 'range' sample style. Got [640, 672, 704, 736, 768, 800]!\n",
      "Failed 000000082765.jpg: short_edge_length must be two values using 'range' sample style. Got [640, 672, 704, 736, 768, 800]!\n",
      "Failed 000000082807.jpg: short_edge_length must be two values using 'range' sample style. Got [640, 672, 704, 736, 768, 800]!\n"
     ]
    },
    {
     "name": "stderr",
     "output_type": "stream",
     "text": [
      "Extracting features:  14%|████████▎                                                 | 713/5000 [00:17<01:53, 37.83it/s]"
     ]
    },
    {
     "name": "stdout",
     "output_type": "stream",
     "text": [
      "Failed 000000082812.jpg: short_edge_length must be two values using 'range' sample style. Got [640, 672, 704, 736, 768, 800]!\n",
      "Failed 000000082821.jpg: short_edge_length must be two values using 'range' sample style. Got [640, 672, 704, 736, 768, 800]!\n",
      "Failed 000000082846.jpg: short_edge_length must be two values using 'range' sample style. Got [640, 672, 704, 736, 768, 800]!\n",
      "Failed 000000082986.jpg: short_edge_length must be two values using 'range' sample style. Got [640, 672, 704, 736, 768, 800]!\n",
      "Failed 000000083113.jpg: short_edge_length must be two values using 'range' sample style. Got [640, 672, 704, 736, 768, 800]!\n",
      "Failed 000000083172.jpg: short_edge_length must be two values using 'range' sample style. Got [640, 672, 704, 736, 768, 800]!\n",
      "Failed 000000083531.jpg: short_edge_length must be two values using 'range' sample style. Got [640, 672, 704, 736, 768, 800]!\n",
      "Failed 000000083540.jpg: short_edge_length must be two values using 'range' sample style. Got [640, 672, 704, 736, 768, 800]!\n"
     ]
    },
    {
     "name": "stderr",
     "output_type": "stream",
     "text": [
      "Extracting features:  14%|████████▍                                                 | 722/5000 [00:17<01:55, 36.91it/s]"
     ]
    },
    {
     "name": "stdout",
     "output_type": "stream",
     "text": [
      "Failed 000000084031.jpg: short_edge_length must be two values using 'range' sample style. Got [640, 672, 704, 736, 768, 800]!\n",
      "Failed 000000084170.jpg: short_edge_length must be two values using 'range' sample style. Got [640, 672, 704, 736, 768, 800]!\n",
      "Failed 000000084241.jpg: short_edge_length must be two values using 'range' sample style. Got [640, 672, 704, 736, 768, 800]!\n",
      "Failed 000000084270.jpg: short_edge_length must be two values using 'range' sample style. Got [640, 672, 704, 736, 768, 800]!\n",
      "Failed 000000084362.jpg: short_edge_length must be two values using 'range' sample style. Got [640, 672, 704, 736, 768, 800]!\n",
      "Failed 000000084431.jpg: short_edge_length must be two values using 'range' sample style. Got [640, 672, 704, 736, 768, 800]!\n",
      "Failed 000000084477.jpg: short_edge_length must be two values using 'range' sample style. Got [640, 672, 704, 736, 768, 800]!\n",
      "Failed 000000084492.jpg: short_edge_length must be two values using 'range' sample style. Got [640, 672, 704, 736, 768, 800]!\n"
     ]
    },
    {
     "name": "stderr",
     "output_type": "stream",
     "text": [
      "\r",
      "Extracting features:  15%|████████▍                                                 | 726/5000 [00:18<01:59, 35.69it/s]"
     ]
    },
    {
     "name": "stdout",
     "output_type": "stream",
     "text": [
      "Failed 000000084650.jpg: short_edge_length must be two values using 'range' sample style. Got [640, 672, 704, 736, 768, 800]!\n",
      "Failed 000000084664.jpg: short_edge_length must be two values using 'range' sample style. Got [640, 672, 704, 736, 768, 800]!\n",
      "Failed 000000084674.jpg: short_edge_length must be two values using 'range' sample style. Got [640, 672, 704, 736, 768, 800]!\n",
      "Failed 000000084752.jpg: short_edge_length must be two values using 'range' sample style. Got [640, 672, 704, 736, 768, 800]!\n",
      "Failed 000000085089.jpg: short_edge_length must be two values using 'range' sample style. Got [640, 672, 704, 736, 768, 800]!\n",
      "Failed 000000085157.jpg: short_edge_length must be two values using 'range' sample style. Got [640, 672, 704, 736, 768, 800]!\n"
     ]
    },
    {
     "name": "stderr",
     "output_type": "stream",
     "text": [
      "Extracting features:  15%|████████▌                                                 | 735/5000 [00:18<01:55, 37.07it/s]"
     ]
    },
    {
     "name": "stdout",
     "output_type": "stream",
     "text": [
      "Failed 000000085195.jpg: short_edge_length must be two values using 'range' sample style. Got [640, 672, 704, 736, 768, 800]!\n",
      "Failed 000000085329.jpg: short_edge_length must be two values using 'range' sample style. Got [640, 672, 704, 736, 768, 800]!\n",
      "Failed 000000085376.jpg: short_edge_length must be two values using 'range' sample style. Got [640, 672, 704, 736, 768, 800]!\n",
      "Failed 000000085478.jpg: short_edge_length must be two values using 'range' sample style. Got [640, 672, 704, 736, 768, 800]!\n",
      "Failed 000000085576.jpg: short_edge_length must be two values using 'range' sample style. Got [640, 672, 704, 736, 768, 800]!\n",
      "Failed 000000085665.jpg: short_edge_length must be two values using 'range' sample style. Got [640, 672, 704, 736, 768, 800]!\n",
      "Failed 000000085682.jpg: short_edge_length must be two values using 'range' sample style. Got [640, 672, 704, 736, 768, 800]!\n",
      "Failed 000000085772.jpg: short_edge_length must be two values using 'range' sample style. Got [640, 672, 704, 736, 768, 800]!\n"
     ]
    },
    {
     "name": "stderr",
     "output_type": "stream",
     "text": [
      "Extracting features:  15%|████████▋                                                 | 744/5000 [00:18<01:58, 36.03it/s]"
     ]
    },
    {
     "name": "stdout",
     "output_type": "stream",
     "text": [
      "Failed 000000085823.jpg: short_edge_length must be two values using 'range' sample style. Got [640, 672, 704, 736, 768, 800]!\n",
      "Failed 000000085911.jpg: short_edge_length must be two values using 'range' sample style. Got [640, 672, 704, 736, 768, 800]!\n",
      "Failed 000000086220.jpg: short_edge_length must be two values using 'range' sample style. Got [640, 672, 704, 736, 768, 800]!\n",
      "Failed 000000086483.jpg: short_edge_length must be two values using 'range' sample style. Got [640, 672, 704, 736, 768, 800]!\n",
      "Failed 000000086582.jpg: short_edge_length must be two values using 'range' sample style. Got [640, 672, 704, 736, 768, 800]!\n",
      "Failed 000000086755.jpg: short_edge_length must be two values using 'range' sample style. Got [640, 672, 704, 736, 768, 800]!\n",
      "Failed 000000086956.jpg: short_edge_length must be two values using 'range' sample style. Got [640, 672, 704, 736, 768, 800]!\n",
      "Failed 000000087038.jpg: short_edge_length must be two values using 'range' sample style. Got [640, 672, 704, 736, 768, 800]!\n"
     ]
    },
    {
     "name": "stderr",
     "output_type": "stream",
     "text": [
      "Extracting features:  15%|████████▋                                                 | 752/5000 [00:18<01:58, 35.83it/s]"
     ]
    },
    {
     "name": "stdout",
     "output_type": "stream",
     "text": [
      "Failed 000000087144.jpg: short_edge_length must be two values using 'range' sample style. Got [640, 672, 704, 736, 768, 800]!\n",
      "Failed 000000087244.jpg: short_edge_length must be two values using 'range' sample style. Got [640, 672, 704, 736, 768, 800]!\n",
      "Failed 000000087470.jpg: short_edge_length must be two values using 'range' sample style. Got [640, 672, 704, 736, 768, 800]!\n",
      "Failed 000000087476.jpg: short_edge_length must be two values using 'range' sample style. Got [640, 672, 704, 736, 768, 800]!\n",
      "Failed 000000087742.jpg: short_edge_length must be two values using 'range' sample style. Got [640, 672, 704, 736, 768, 800]!\n",
      "Failed 000000087875.jpg: short_edge_length must be two values using 'range' sample style. Got [640, 672, 704, 736, 768, 800]!\n",
      "Failed 000000088040.jpg: short_edge_length must be two values using 'range' sample style. Got [640, 672, 704, 736, 768, 800]!\n",
      "Failed 000000088218.jpg: short_edge_length must be two values using 'range' sample style. Got [640, 672, 704, 736, 768, 800]!\n"
     ]
    },
    {
     "name": "stderr",
     "output_type": "stream",
     "text": [
      "Extracting features:  15%|████████▊                                                 | 760/5000 [00:19<02:03, 34.35it/s]"
     ]
    },
    {
     "name": "stdout",
     "output_type": "stream",
     "text": [
      "Failed 000000088250.jpg: short_edge_length must be two values using 'range' sample style. Got [640, 672, 704, 736, 768, 800]!\n",
      "Failed 000000088265.jpg: short_edge_length must be two values using 'range' sample style. Got [640, 672, 704, 736, 768, 800]!\n",
      "Failed 000000088269.jpg: short_edge_length must be two values using 'range' sample style. Got [640, 672, 704, 736, 768, 800]!\n",
      "Failed 000000088345.jpg: short_edge_length must be two values using 'range' sample style. Got [640, 672, 704, 736, 768, 800]!\n",
      "Failed 000000088432.jpg: short_edge_length must be two values using 'range' sample style. Got [640, 672, 704, 736, 768, 800]!\n",
      "Failed 000000088462.jpg: short_edge_length must be two values using 'range' sample style. Got [640, 672, 704, 736, 768, 800]!\n",
      "Failed 000000088485.jpg: short_edge_length must be two values using 'range' sample style. Got [640, 672, 704, 736, 768, 800]!\n",
      "Failed 000000088848.jpg: short_edge_length must be two values using 'range' sample style. Got [640, 672, 704, 736, 768, 800]!\n"
     ]
    },
    {
     "name": "stderr",
     "output_type": "stream",
     "text": [
      "\r",
      "Extracting features:  15%|████████▊                                                 | 764/5000 [00:19<02:04, 34.00it/s]"
     ]
    },
    {
     "name": "stdout",
     "output_type": "stream",
     "text": [
      "Failed 000000088951.jpg: short_edge_length must be two values using 'range' sample style. Got [640, 672, 704, 736, 768, 800]!\n",
      "Failed 000000088970.jpg: short_edge_length must be two values using 'range' sample style. Got [640, 672, 704, 736, 768, 800]!\n",
      "Failed 000000089045.jpg: short_edge_length must be two values using 'range' sample style. Got [640, 672, 704, 736, 768, 800]!\n",
      "Failed 000000089078.jpg: short_edge_length must be two values using 'range' sample style. Got [640, 672, 704, 736, 768, 800]!\n",
      "Failed 000000089271.jpg: short_edge_length must be two values using 'range' sample style. Got [640, 672, 704, 736, 768, 800]!\n",
      "Failed 000000089296.jpg: short_edge_length must be two values using 'range' sample style. Got [640, 672, 704, 736, 768, 800]!\n",
      "Failed 000000089556.jpg: short_edge_length must be two values using 'range' sample style. Got [640, 672, 704, 736, 768, 800]!\n"
     ]
    },
    {
     "name": "stderr",
     "output_type": "stream",
     "text": [
      "Extracting features:  15%|████████▉                                                 | 772/5000 [00:19<02:05, 33.78it/s]"
     ]
    },
    {
     "name": "stdout",
     "output_type": "stream",
     "text": [
      "Failed 000000089648.jpg: short_edge_length must be two values using 'range' sample style. Got [640, 672, 704, 736, 768, 800]!\n",
      "Failed 000000089670.jpg: short_edge_length must be two values using 'range' sample style. Got [640, 672, 704, 736, 768, 800]!\n",
      "Failed 000000089697.jpg: short_edge_length must be two values using 'range' sample style. Got [640, 672, 704, 736, 768, 800]!\n",
      "Failed 000000089761.jpg: short_edge_length must be two values using 'range' sample style. Got [640, 672, 704, 736, 768, 800]!\n",
      "Failed 000000089880.jpg: short_edge_length must be two values using 'range' sample style. Got [640, 672, 704, 736, 768, 800]!\n",
      "Failed 000000090003.jpg: short_edge_length must be two values using 'range' sample style. Got [640, 672, 704, 736, 768, 800]!\n",
      "Failed 000000090062.jpg: short_edge_length must be two values using 'range' sample style. Got [640, 672, 704, 736, 768, 800]!\n"
     ]
    },
    {
     "name": "stderr",
     "output_type": "stream",
     "text": [
      "Extracting features:  16%|█████████                                                 | 780/5000 [00:19<02:04, 33.95it/s]"
     ]
    },
    {
     "name": "stdout",
     "output_type": "stream",
     "text": [
      "Failed 000000090108.jpg: short_edge_length must be two values using 'range' sample style. Got [640, 672, 704, 736, 768, 800]!\n",
      "Failed 000000090155.jpg: short_edge_length must be two values using 'range' sample style. Got [640, 672, 704, 736, 768, 800]!\n",
      "Failed 000000090208.jpg: short_edge_length must be two values using 'range' sample style. Got [640, 672, 704, 736, 768, 800]!\n",
      "Failed 000000090284.jpg: short_edge_length must be two values using 'range' sample style. Got [640, 672, 704, 736, 768, 800]!\n",
      "Failed 000000090631.jpg: short_edge_length must be two values using 'range' sample style. Got [640, 672, 704, 736, 768, 800]!\n",
      "Failed 000000090891.jpg: short_edge_length must be two values using 'range' sample style. Got [640, 672, 704, 736, 768, 800]!\n",
      "Failed 000000090956.jpg: short_edge_length must be two values using 'range' sample style. Got [640, 672, 704, 736, 768, 800]!\n"
     ]
    },
    {
     "name": "stderr",
     "output_type": "stream",
     "text": [
      "Extracting features:  16%|█████████▏                                                | 788/5000 [00:19<02:03, 34.10it/s]"
     ]
    },
    {
     "name": "stdout",
     "output_type": "stream",
     "text": [
      "Failed 000000091406.jpg: short_edge_length must be two values using 'range' sample style. Got [640, 672, 704, 736, 768, 800]!\n",
      "Failed 000000091495.jpg: short_edge_length must be two values using 'range' sample style. Got [640, 672, 704, 736, 768, 800]!\n",
      "Failed 000000091500.jpg: short_edge_length must be two values using 'range' sample style. Got [640, 672, 704, 736, 768, 800]!\n",
      "Failed 000000091615.jpg: short_edge_length must be two values using 'range' sample style. Got [640, 672, 704, 736, 768, 800]!\n",
      "Failed 000000091619.jpg: short_edge_length must be two values using 'range' sample style. Got [640, 672, 704, 736, 768, 800]!\n",
      "Failed 000000091654.jpg: short_edge_length must be two values using 'range' sample style. Got [640, 672, 704, 736, 768, 800]!\n",
      "Failed 000000091779.jpg: short_edge_length must be two values using 'range' sample style. Got [640, 672, 704, 736, 768, 800]!\n",
      "Failed 000000091921.jpg: short_edge_length must be two values using 'range' sample style. Got [640, 672, 704, 736, 768, 800]!\n"
     ]
    },
    {
     "name": "stderr",
     "output_type": "stream",
     "text": [
      "Extracting features:  16%|█████████▏                                                | 796/5000 [00:20<02:01, 34.67it/s]"
     ]
    },
    {
     "name": "stdout",
     "output_type": "stream",
     "text": [
      "Failed 000000092053.jpg: short_edge_length must be two values using 'range' sample style. Got [640, 672, 704, 736, 768, 800]!\n",
      "Failed 000000092091.jpg: short_edge_length must be two values using 'range' sample style. Got [640, 672, 704, 736, 768, 800]!\n",
      "Failed 000000092124.jpg: short_edge_length must be two values using 'range' sample style. Got [640, 672, 704, 736, 768, 800]!\n",
      "Failed 000000092177.jpg: short_edge_length must be two values using 'range' sample style. Got [640, 672, 704, 736, 768, 800]!\n",
      "Failed 000000092416.jpg: short_edge_length must be two values using 'range' sample style. Got [640, 672, 704, 736, 768, 800]!\n",
      "Failed 000000092660.jpg: short_edge_length must be two values using 'range' sample style. Got [640, 672, 704, 736, 768, 800]!\n",
      "Failed 000000092839.jpg: short_edge_length must be two values using 'range' sample style. Got [640, 672, 704, 736, 768, 800]!\n",
      "Failed 000000092939.jpg: short_edge_length must be two values using 'range' sample style. Got [640, 672, 704, 736, 768, 800]!\n"
     ]
    },
    {
     "name": "stderr",
     "output_type": "stream",
     "text": [
      "Extracting features:  16%|█████████▎                                                | 805/5000 [00:20<02:00, 34.73it/s]"
     ]
    },
    {
     "name": "stdout",
     "output_type": "stream",
     "text": [
      "Failed 000000093154.jpg: short_edge_length must be two values using 'range' sample style. Got [640, 672, 704, 736, 768, 800]!\n",
      "Failed 000000093261.jpg: short_edge_length must be two values using 'range' sample style. Got [640, 672, 704, 736, 768, 800]!\n",
      "Failed 000000093353.jpg: short_edge_length must be two values using 'range' sample style. Got [640, 672, 704, 736, 768, 800]!\n",
      "Failed 000000093437.jpg: short_edge_length must be two values using 'range' sample style. Got [640, 672, 704, 736, 768, 800]!\n",
      "Failed 000000093717.jpg: short_edge_length must be two values using 'range' sample style. Got [640, 672, 704, 736, 768, 800]!\n",
      "Failed 000000093965.jpg: short_edge_length must be two values using 'range' sample style. Got [640, 672, 704, 736, 768, 800]!\n",
      "Failed 000000094157.jpg: short_edge_length must be two values using 'range' sample style. Got [640, 672, 704, 736, 768, 800]!\n",
      "Failed 000000094185.jpg: short_edge_length must be two values using 'range' sample style. Got [640, 672, 704, 736, 768, 800]!\n"
     ]
    },
    {
     "name": "stderr",
     "output_type": "stream",
     "text": [
      "\r",
      "Extracting features:  16%|█████████▍                                                | 810/5000 [00:20<01:50, 37.81it/s]"
     ]
    },
    {
     "name": "stdout",
     "output_type": "stream",
     "text": [
      "Failed 000000094326.jpg: short_edge_length must be two values using 'range' sample style. Got [640, 672, 704, 736, 768, 800]!\n",
      "Failed 000000094336.jpg: short_edge_length must be two values using 'range' sample style. Got [640, 672, 704, 736, 768, 800]!\n",
      "Failed 000000094614.jpg: short_edge_length must be two values using 'range' sample style. Got [640, 672, 704, 736, 768, 800]!\n",
      "Failed 000000094751.jpg: short_edge_length must be two values using 'range' sample style. Got [640, 672, 704, 736, 768, 800]!\n",
      "Failed 000000094852.jpg: short_edge_length must be two values using 'range' sample style. Got [640, 672, 704, 736, 768, 800]!\n",
      "Failed 000000094871.jpg: short_edge_length must be two values using 'range' sample style. Got [640, 672, 704, 736, 768, 800]!\n",
      "Failed 000000094944.jpg: short_edge_length must be two values using 'range' sample style. Got [640, 672, 704, 736, 768, 800]!\n",
      "Failed 000000095069.jpg: short_edge_length must be two values using 'range' sample style. Got [640, 672, 704, 736, 768, 800]!\n"
     ]
    },
    {
     "name": "stderr",
     "output_type": "stream",
     "text": [
      "Extracting features:  16%|█████████▌                                                | 819/5000 [00:20<01:48, 38.61it/s]"
     ]
    },
    {
     "name": "stdout",
     "output_type": "stream",
     "text": [
      "Failed 000000095155.jpg: short_edge_length must be two values using 'range' sample style. Got [640, 672, 704, 736, 768, 800]!\n",
      "Failed 000000095707.jpg: short_edge_length must be two values using 'range' sample style. Got [640, 672, 704, 736, 768, 800]!\n",
      "Failed 000000095786.jpg: short_edge_length must be two values using 'range' sample style. Got [640, 672, 704, 736, 768, 800]!\n",
      "Failed 000000095843.jpg: short_edge_length must be two values using 'range' sample style. Got [640, 672, 704, 736, 768, 800]!\n",
      "Failed 000000095862.jpg: short_edge_length must be two values using 'range' sample style. Got [640, 672, 704, 736, 768, 800]!\n",
      "Failed 000000095899.jpg: short_edge_length must be two values using 'range' sample style. Got [640, 672, 704, 736, 768, 800]!\n",
      "Failed 000000096001.jpg: short_edge_length must be two values using 'range' sample style. Got [640, 672, 704, 736, 768, 800]!\n",
      "Failed 000000096427.jpg: short_edge_length must be two values using 'range' sample style. Got [640, 672, 704, 736, 768, 800]!\n"
     ]
    },
    {
     "name": "stderr",
     "output_type": "stream",
     "text": [
      "Extracting features:  17%|█████████▌                                                | 827/5000 [00:20<01:55, 35.99it/s]"
     ]
    },
    {
     "name": "stdout",
     "output_type": "stream",
     "text": [
      "Failed 000000096493.jpg: short_edge_length must be two values using 'range' sample style. Got [640, 672, 704, 736, 768, 800]!\n",
      "Failed 000000096549.jpg: short_edge_length must be two values using 'range' sample style. Got [640, 672, 704, 736, 768, 800]!\n",
      "Failed 000000096825.jpg: short_edge_length must be two values using 'range' sample style. Got [640, 672, 704, 736, 768, 800]!\n",
      "Failed 000000096960.jpg: short_edge_length must be two values using 'range' sample style. Got [640, 672, 704, 736, 768, 800]!\n",
      "Failed 000000097022.jpg: short_edge_length must be two values using 'range' sample style. Got [640, 672, 704, 736, 768, 800]!\n",
      "Failed 000000097230.jpg: short_edge_length must be two values using 'range' sample style. Got [640, 672, 704, 736, 768, 800]!\n",
      "Failed 000000097278.jpg: short_edge_length must be two values using 'range' sample style. Got [640, 672, 704, 736, 768, 800]!\n",
      "Failed 000000097337.jpg: short_edge_length must be two values using 'range' sample style. Got [640, 672, 704, 736, 768, 800]!\n"
     ]
    },
    {
     "name": "stderr",
     "output_type": "stream",
     "text": [
      "Extracting features:  17%|█████████▋                                                | 836/5000 [00:21<01:55, 36.18it/s]"
     ]
    },
    {
     "name": "stdout",
     "output_type": "stream",
     "text": [
      "Failed 000000097585.jpg: short_edge_length must be two values using 'range' sample style. Got [640, 672, 704, 736, 768, 800]!\n",
      "Failed 000000097679.jpg: short_edge_length must be two values using 'range' sample style. Got [640, 672, 704, 736, 768, 800]!\n",
      "Failed 000000097924.jpg: short_edge_length must be two values using 'range' sample style. Got [640, 672, 704, 736, 768, 800]!\n",
      "Failed 000000097988.jpg: short_edge_length must be two values using 'range' sample style. Got [640, 672, 704, 736, 768, 800]!\n",
      "Failed 000000097994.jpg: short_edge_length must be two values using 'range' sample style. Got [640, 672, 704, 736, 768, 800]!\n",
      "Failed 000000098018.jpg: short_edge_length must be two values using 'range' sample style. Got [640, 672, 704, 736, 768, 800]!\n",
      "Failed 000000098261.jpg: short_edge_length must be two values using 'range' sample style. Got [640, 672, 704, 736, 768, 800]!\n",
      "Failed 000000098287.jpg: short_edge_length must be two values using 'range' sample style. Got [640, 672, 704, 736, 768, 800]!\n"
     ]
    },
    {
     "name": "stderr",
     "output_type": "stream",
     "text": [
      "Extracting features:  17%|█████████▊                                                | 846/5000 [00:21<01:43, 40.12it/s]"
     ]
    },
    {
     "name": "stdout",
     "output_type": "stream",
     "text": [
      "Failed 000000098392.jpg: short_edge_length must be two values using 'range' sample style. Got [640, 672, 704, 736, 768, 800]!\n",
      "Failed 000000098497.jpg: short_edge_length must be two values using 'range' sample style. Got [640, 672, 704, 736, 768, 800]!\n",
      "Failed 000000098520.jpg: short_edge_length must be two values using 'range' sample style. Got [640, 672, 704, 736, 768, 800]!\n",
      "Failed 000000098633.jpg: short_edge_length must be two values using 'range' sample style. Got [640, 672, 704, 736, 768, 800]!\n",
      "Failed 000000098716.jpg: short_edge_length must be two values using 'range' sample style. Got [640, 672, 704, 736, 768, 800]!\n",
      "Failed 000000098839.jpg: short_edge_length must be two values using 'range' sample style. Got [640, 672, 704, 736, 768, 800]!\n",
      "Failed 000000098853.jpg: short_edge_length must be two values using 'range' sample style. Got [640, 672, 704, 736, 768, 800]!\n",
      "Failed 000000099024.jpg: short_edge_length must be two values using 'range' sample style. Got [640, 672, 704, 736, 768, 800]!\n",
      "Failed 000000099039.jpg: short_edge_length must be two values using 'range' sample style. Got [640, 672, 704, 736, 768, 800]!\n"
     ]
    },
    {
     "name": "stderr",
     "output_type": "stream",
     "text": [
      "\r",
      "Extracting features:  17%|█████████▊                                                | 851/5000 [00:21<01:42, 40.30it/s]"
     ]
    },
    {
     "name": "stdout",
     "output_type": "stream",
     "text": [
      "Failed 000000099053.jpg: short_edge_length must be two values using 'range' sample style. Got [640, 672, 704, 736, 768, 800]!\n",
      "Failed 000000099054.jpg: short_edge_length must be two values using 'range' sample style. Got [640, 672, 704, 736, 768, 800]!\n",
      "Failed 000000099114.jpg: short_edge_length must be two values using 'range' sample style. Got [640, 672, 704, 736, 768, 800]!\n",
      "Failed 000000099182.jpg: short_edge_length must be two values using 'range' sample style. Got [640, 672, 704, 736, 768, 800]!\n",
      "Failed 000000099242.jpg: short_edge_length must be two values using 'range' sample style. Got [640, 672, 704, 736, 768, 800]!\n",
      "Failed 000000099428.jpg: short_edge_length must be two values using 'range' sample style. Got [640, 672, 704, 736, 768, 800]!\n",
      "Failed 000000099810.jpg: short_edge_length must be two values using 'range' sample style. Got [640, 672, 704, 736, 768, 800]!\n",
      "Failed 000000100238.jpg: short_edge_length must be two values using 'range' sample style. Got [640, 672, 704, 736, 768, 800]!\n"
     ]
    },
    {
     "name": "stderr",
     "output_type": "stream",
     "text": [
      "Extracting features:  17%|█████████▉                                                | 860/5000 [00:21<02:00, 34.42it/s]"
     ]
    },
    {
     "name": "stdout",
     "output_type": "stream",
     "text": [
      "Failed 000000100274.jpg: short_edge_length must be two values using 'range' sample style. Got [640, 672, 704, 736, 768, 800]!\n",
      "Failed 000000100283.jpg: short_edge_length must be two values using 'range' sample style. Got [640, 672, 704, 736, 768, 800]!\n",
      "Failed 000000100428.jpg: short_edge_length must be two values using 'range' sample style. Got [640, 672, 704, 736, 768, 800]!\n",
      "Failed 000000100489.jpg: short_edge_length must be two values using 'range' sample style. Got [640, 672, 704, 736, 768, 800]!\n",
      "Failed 000000100510.jpg: short_edge_length must be two values using 'range' sample style. Got [640, 672, 704, 736, 768, 800]!\n",
      "Failed 000000100582.jpg: short_edge_length must be two values using 'range' sample style. Got [640, 672, 704, 736, 768, 800]!\n",
      "Failed 000000100624.jpg: short_edge_length must be two values using 'range' sample style. Got [640, 672, 704, 736, 768, 800]!\n"
     ]
    },
    {
     "name": "stderr",
     "output_type": "stream",
     "text": [
      "Extracting features:  17%|██████████                                                | 869/5000 [00:22<01:51, 37.16it/s]"
     ]
    },
    {
     "name": "stdout",
     "output_type": "stream",
     "text": [
      "Failed 000000100723.jpg: short_edge_length must be two values using 'range' sample style. Got [640, 672, 704, 736, 768, 800]!\n",
      "Failed 000000101022.jpg: short_edge_length must be two values using 'range' sample style. Got [640, 672, 704, 736, 768, 800]!\n",
      "Failed 000000101068.jpg: short_edge_length must be two values using 'range' sample style. Got [640, 672, 704, 736, 768, 800]!\n",
      "Failed 000000101420.jpg: short_edge_length must be two values using 'range' sample style. Got [640, 672, 704, 736, 768, 800]!\n",
      "Failed 000000101762.jpg: short_edge_length must be two values using 'range' sample style. Got [640, 672, 704, 736, 768, 800]!\n",
      "Failed 000000101780.jpg: short_edge_length must be two values using 'range' sample style. Got [640, 672, 704, 736, 768, 800]!\n",
      "Failed 000000101787.jpg: short_edge_length must be two values using 'range' sample style. Got [640, 672, 704, 736, 768, 800]!\n",
      "Failed 000000101884.jpg: short_edge_length must be two values using 'range' sample style. Got [640, 672, 704, 736, 768, 800]!\n"
     ]
    },
    {
     "name": "stderr",
     "output_type": "stream",
     "text": [
      "\r",
      "Extracting features:  17%|██████████▏                                               | 874/5000 [00:22<01:47, 38.55it/s]"
     ]
    },
    {
     "name": "stdout",
     "output_type": "stream",
     "text": [
      "Failed 000000102331.jpg: short_edge_length must be two values using 'range' sample style. Got [640, 672, 704, 736, 768, 800]!\n",
      "Failed 000000102356.jpg: short_edge_length must be two values using 'range' sample style. Got [640, 672, 704, 736, 768, 800]!\n",
      "Failed 000000102411.jpg: short_edge_length must be two values using 'range' sample style. Got [640, 672, 704, 736, 768, 800]!\n",
      "Failed 000000102644.jpg: short_edge_length must be two values using 'range' sample style. Got [640, 672, 704, 736, 768, 800]!\n",
      "Failed 000000102707.jpg: short_edge_length must be two values using 'range' sample style. Got [640, 672, 704, 736, 768, 800]!\n",
      "Failed 000000102805.jpg: short_edge_length must be two values using 'range' sample style. Got [640, 672, 704, 736, 768, 800]!\n",
      "Failed 000000102820.jpg: short_edge_length must be two values using 'range' sample style. Got [640, 672, 704, 736, 768, 800]!\n",
      "Failed 000000103548.jpg: short_edge_length must be two values using 'range' sample style. Got [640, 672, 704, 736, 768, 800]!\n"
     ]
    },
    {
     "name": "stderr",
     "output_type": "stream",
     "text": [
      "Extracting features:  18%|██████████▏                                               | 882/5000 [00:22<01:54, 36.02it/s]"
     ]
    },
    {
     "name": "stdout",
     "output_type": "stream",
     "text": [
      "Failed 000000103585.jpg: short_edge_length must be two values using 'range' sample style. Got [640, 672, 704, 736, 768, 800]!\n",
      "Failed 000000103723.jpg: short_edge_length must be two values using 'range' sample style. Got [640, 672, 704, 736, 768, 800]!\n",
      "Failed 000000104119.jpg: short_edge_length must be two values using 'range' sample style. Got [640, 672, 704, 736, 768, 800]!\n",
      "Failed 000000104198.jpg: short_edge_length must be two values using 'range' sample style. Got [640, 672, 704, 736, 768, 800]!\n",
      "Failed 000000104424.jpg: short_edge_length must be two values using 'range' sample style. Got [640, 672, 704, 736, 768, 800]!\n",
      "Failed 000000104455.jpg: short_edge_length must be two values using 'range' sample style. Got [640, 672, 704, 736, 768, 800]!\n"
     ]
    },
    {
     "name": "stderr",
     "output_type": "stream",
     "text": [
      "Extracting features:  18%|██████████▎                                               | 890/5000 [00:22<01:56, 35.27it/s]"
     ]
    },
    {
     "name": "stdout",
     "output_type": "stream",
     "text": [
      "Failed 000000104572.jpg: short_edge_length must be two values using 'range' sample style. Got [640, 672, 704, 736, 768, 800]!\n",
      "Failed 000000104603.jpg: short_edge_length must be two values using 'range' sample style. Got [640, 672, 704, 736, 768, 800]!\n",
      "Failed 000000104612.jpg: short_edge_length must be two values using 'range' sample style. Got [640, 672, 704, 736, 768, 800]!\n",
      "Failed 000000104619.jpg: short_edge_length must be two values using 'range' sample style. Got [640, 672, 704, 736, 768, 800]!\n",
      "Failed 000000104666.jpg: short_edge_length must be two values using 'range' sample style. Got [640, 672, 704, 736, 768, 800]!\n",
      "Failed 000000104669.jpg: short_edge_length must be two values using 'range' sample style. Got [640, 672, 704, 736, 768, 800]!\n",
      "Failed 000000104782.jpg: short_edge_length must be two values using 'range' sample style. Got [640, 672, 704, 736, 768, 800]!\n",
      "Failed 000000104803.jpg: short_edge_length must be two values using 'range' sample style. Got [640, 672, 704, 736, 768, 800]!\n"
     ]
    },
    {
     "name": "stderr",
     "output_type": "stream",
     "text": [
      "Extracting features:  18%|██████████▍                                               | 900/5000 [00:22<01:41, 40.52it/s]"
     ]
    },
    {
     "name": "stdout",
     "output_type": "stream",
     "text": [
      "Failed 000000105014.jpg: short_edge_length must be two values using 'range' sample style. Got [640, 672, 704, 736, 768, 800]!\n",
      "Failed 000000105249.jpg: short_edge_length must be two values using 'range' sample style. Got [640, 672, 704, 736, 768, 800]!\n",
      "Failed 000000105264.jpg: short_edge_length must be two values using 'range' sample style. Got [640, 672, 704, 736, 768, 800]!\n",
      "Failed 000000105335.jpg: short_edge_length must be two values using 'range' sample style. Got [640, 672, 704, 736, 768, 800]!\n",
      "Failed 000000105455.jpg: short_edge_length must be two values using 'range' sample style. Got [640, 672, 704, 736, 768, 800]!\n",
      "Failed 000000105912.jpg: short_edge_length must be two values using 'range' sample style. Got [640, 672, 704, 736, 768, 800]!\n",
      "Failed 000000105923.jpg: short_edge_length must be two values using 'range' sample style. Got [640, 672, 704, 736, 768, 800]!\n",
      "Failed 000000106048.jpg: short_edge_length must be two values using 'range' sample style. Got [640, 672, 704, 736, 768, 800]!\n",
      "Failed 000000106235.jpg: short_edge_length must be two values using 'range' sample style. Got [640, 672, 704, 736, 768, 800]!\n",
      "Failed 000000106266.jpg: short_edge_length must be two values using 'range' sample style. Got [640, 672, 704, 736, 768, 800]!\n"
     ]
    },
    {
     "name": "stderr",
     "output_type": "stream",
     "text": [
      "\r",
      "Extracting features:  18%|██████████▍                                               | 905/5000 [00:23<01:49, 37.25it/s]"
     ]
    },
    {
     "name": "stdout",
     "output_type": "stream",
     "text": [
      "Failed 000000106281.jpg: short_edge_length must be two values using 'range' sample style. Got [640, 672, 704, 736, 768, 800]!\n",
      "Failed 000000106330.jpg: short_edge_length must be two values using 'range' sample style. Got [640, 672, 704, 736, 768, 800]!\n",
      "Failed 000000106389.jpg: short_edge_length must be two values using 'range' sample style. Got [640, 672, 704, 736, 768, 800]!\n",
      "Failed 000000106563.jpg: short_edge_length must be two values using 'range' sample style. Got [640, 672, 704, 736, 768, 800]!\n",
      "Failed 000000106757.jpg: short_edge_length must be two values using 'range' sample style. Got [640, 672, 704, 736, 768, 800]!\n",
      "Failed 000000106881.jpg: short_edge_length must be two values using 'range' sample style. Got [640, 672, 704, 736, 768, 800]!\n",
      "Failed 000000106912.jpg: short_edge_length must be two values using 'range' sample style. Got [640, 672, 704, 736, 768, 800]!\n"
     ]
    },
    {
     "name": "stderr",
     "output_type": "stream",
     "text": [
      "Extracting features:  18%|██████████▌                                               | 913/5000 [00:23<01:52, 36.23it/s]"
     ]
    },
    {
     "name": "stdout",
     "output_type": "stream",
     "text": [
      "Failed 000000107087.jpg: short_edge_length must be two values using 'range' sample style. Got [640, 672, 704, 736, 768, 800]!\n",
      "Failed 000000107094.jpg: short_edge_length must be two values using 'range' sample style. Got [640, 672, 704, 736, 768, 800]!\n",
      "Failed 000000107226.jpg: short_edge_length must be two values using 'range' sample style. Got [640, 672, 704, 736, 768, 800]!\n",
      "Failed 000000107339.jpg: short_edge_length must be two values using 'range' sample style. Got [640, 672, 704, 736, 768, 800]!\n",
      "Failed 000000107554.jpg: short_edge_length must be two values using 'range' sample style. Got [640, 672, 704, 736, 768, 800]!\n",
      "Failed 000000107851.jpg: short_edge_length must be two values using 'range' sample style. Got [640, 672, 704, 736, 768, 800]!\n",
      "Failed 000000108026.jpg: short_edge_length must be two values using 'range' sample style. Got [640, 672, 704, 736, 768, 800]!\n",
      "Failed 000000108244.jpg: short_edge_length must be two values using 'range' sample style. Got [640, 672, 704, 736, 768, 800]!\n"
     ]
    },
    {
     "name": "stderr",
     "output_type": "stream",
     "text": [
      "Extracting features:  18%|██████████▋                                               | 921/5000 [00:23<01:52, 36.29it/s]"
     ]
    },
    {
     "name": "stdout",
     "output_type": "stream",
     "text": [
      "Failed 000000108253.jpg: short_edge_length must be two values using 'range' sample style. Got [640, 672, 704, 736, 768, 800]!\n",
      "Failed 000000108440.jpg: short_edge_length must be two values using 'range' sample style. Got [640, 672, 704, 736, 768, 800]!\n",
      "Failed 000000108495.jpg: short_edge_length must be two values using 'range' sample style. Got [640, 672, 704, 736, 768, 800]!\n",
      "Failed 000000108503.jpg: short_edge_length must be two values using 'range' sample style. Got [640, 672, 704, 736, 768, 800]!\n",
      "Failed 000000108864.jpg: short_edge_length must be two values using 'range' sample style. Got [640, 672, 704, 736, 768, 800]!\n",
      "Failed 000000109055.jpg: short_edge_length must be two values using 'range' sample style. Got [640, 672, 704, 736, 768, 800]!\n",
      "Failed 000000109118.jpg: short_edge_length must be two values using 'range' sample style. Got [640, 672, 704, 736, 768, 800]!\n",
      "Failed 000000109313.jpg: short_edge_length must be two values using 'range' sample style. Got [640, 672, 704, 736, 768, 800]!\n"
     ]
    },
    {
     "name": "stderr",
     "output_type": "stream",
     "text": [
      "Extracting features:  19%|██████████▊                                               | 929/5000 [00:23<01:57, 34.63it/s]"
     ]
    },
    {
     "name": "stdout",
     "output_type": "stream",
     "text": [
      "Failed 000000109441.jpg: short_edge_length must be two values using 'range' sample style. Got [640, 672, 704, 736, 768, 800]!\n",
      "Failed 000000109798.jpg: short_edge_length must be two values using 'range' sample style. Got [640, 672, 704, 736, 768, 800]!\n",
      "Failed 000000109827.jpg: short_edge_length must be two values using 'range' sample style. Got [640, 672, 704, 736, 768, 800]!\n",
      "Failed 000000109900.jpg: short_edge_length must be two values using 'range' sample style. Got [640, 672, 704, 736, 768, 800]!\n",
      "Failed 000000109916.jpg: short_edge_length must be two values using 'range' sample style. Got [640, 672, 704, 736, 768, 800]!\n",
      "Failed 000000109976.jpg: short_edge_length must be two values using 'range' sample style. Got [640, 672, 704, 736, 768, 800]!\n",
      "Failed 000000109992.jpg: short_edge_length must be two values using 'range' sample style. Got [640, 672, 704, 736, 768, 800]!\n"
     ]
    },
    {
     "name": "stderr",
     "output_type": "stream",
     "text": [
      "Extracting features:  19%|██████████▉                                               | 939/5000 [00:23<01:43, 39.19it/s]"
     ]
    },
    {
     "name": "stdout",
     "output_type": "stream",
     "text": [
      "Failed 000000110042.jpg: short_edge_length must be two values using 'range' sample style. Got [640, 672, 704, 736, 768, 800]!\n",
      "Failed 000000110211.jpg: short_edge_length must be two values using 'range' sample style. Got [640, 672, 704, 736, 768, 800]!\n",
      "Failed 000000110282.jpg: short_edge_length must be two values using 'range' sample style. Got [640, 672, 704, 736, 768, 800]!\n",
      "Failed 000000110359.jpg: short_edge_length must be two values using 'range' sample style. Got [640, 672, 704, 736, 768, 800]!\n",
      "Failed 000000110449.jpg: short_edge_length must be two values using 'range' sample style. Got [640, 672, 704, 736, 768, 800]!\n",
      "Failed 000000110638.jpg: short_edge_length must be two values using 'range' sample style. Got [640, 672, 704, 736, 768, 800]!\n",
      "Failed 000000110721.jpg: short_edge_length must be two values using 'range' sample style. Got [640, 672, 704, 736, 768, 800]!\n",
      "Failed 000000110784.jpg: short_edge_length must be two values using 'range' sample style. Got [640, 672, 704, 736, 768, 800]!\n",
      "Failed 000000110884.jpg: short_edge_length must be two values using 'range' sample style. Got [640, 672, 704, 736, 768, 800]!\n"
     ]
    },
    {
     "name": "stderr",
     "output_type": "stream",
     "text": [
      "Extracting features:  19%|███████████                                               | 949/5000 [00:24<01:38, 41.03it/s]"
     ]
    },
    {
     "name": "stdout",
     "output_type": "stream",
     "text": [
      "Failed 000000110972.jpg: short_edge_length must be two values using 'range' sample style. Got [640, 672, 704, 736, 768, 800]!\n",
      "Failed 000000110999.jpg: short_edge_length must be two values using 'range' sample style. Got [640, 672, 704, 736, 768, 800]!\n",
      "Failed 000000111036.jpg: short_edge_length must be two values using 'range' sample style. Got [640, 672, 704, 736, 768, 800]!\n",
      "Failed 000000111086.jpg: short_edge_length must be two values using 'range' sample style. Got [640, 672, 704, 736, 768, 800]!\n",
      "Failed 000000111179.jpg: short_edge_length must be two values using 'range' sample style. Got [640, 672, 704, 736, 768, 800]!\n",
      "Failed 000000111207.jpg: short_edge_length must be two values using 'range' sample style. Got [640, 672, 704, 736, 768, 800]!\n",
      "Failed 000000111609.jpg: short_edge_length must be two values using 'range' sample style. Got [640, 672, 704, 736, 768, 800]!\n",
      "Failed 000000111951.jpg: short_edge_length must be two values using 'range' sample style. Got [640, 672, 704, 736, 768, 800]!\n",
      "Failed 000000112110.jpg: short_edge_length must be two values using 'range' sample style. Got [640, 672, 704, 736, 768, 800]!\n",
      "Failed 000000112298.jpg: short_edge_length must be two values using 'range' sample style. Got [640, 672, 704, 736, 768, 800]!\n"
     ]
    },
    {
     "name": "stderr",
     "output_type": "stream",
     "text": [
      "\r",
      "Extracting features:  19%|███████████                                               | 954/5000 [00:24<01:50, 36.63it/s]"
     ]
    },
    {
     "name": "stdout",
     "output_type": "stream",
     "text": [
      "Failed 000000112378.jpg: short_edge_length must be two values using 'range' sample style. Got [640, 672, 704, 736, 768, 800]!\n",
      "Failed 000000112626.jpg: short_edge_length must be two values using 'range' sample style. Got [640, 672, 704, 736, 768, 800]!\n",
      "Failed 000000112634.jpg: short_edge_length must be two values using 'range' sample style. Got [640, 672, 704, 736, 768, 800]!\n",
      "Failed 000000112798.jpg: short_edge_length must be two values using 'range' sample style. Got [640, 672, 704, 736, 768, 800]!\n",
      "Failed 000000112997.jpg: short_edge_length must be two values using 'range' sample style. Got [640, 672, 704, 736, 768, 800]!\n",
      "Failed 000000113051.jpg: short_edge_length must be two values using 'range' sample style. Got [640, 672, 704, 736, 768, 800]!\n",
      "Failed 000000113235.jpg: short_edge_length must be two values using 'range' sample style. Got [640, 672, 704, 736, 768, 800]!\n"
     ]
    },
    {
     "name": "stderr",
     "output_type": "stream",
     "text": [
      "Extracting features:  19%|███████████▏                                              | 962/5000 [00:24<02:00, 33.54it/s]"
     ]
    },
    {
     "name": "stdout",
     "output_type": "stream",
     "text": [
      "Failed 000000113354.jpg: short_edge_length must be two values using 'range' sample style. Got [640, 672, 704, 736, 768, 800]!\n",
      "Failed 000000113403.jpg: short_edge_length must be two values using 'range' sample style. Got [640, 672, 704, 736, 768, 800]!\n",
      "Failed 000000113589.jpg: short_edge_length must be two values using 'range' sample style. Got [640, 672, 704, 736, 768, 800]!\n",
      "Failed 000000113720.jpg: short_edge_length must be two values using 'range' sample style. Got [640, 672, 704, 736, 768, 800]!\n",
      "Failed 000000113867.jpg: short_edge_length must be two values using 'range' sample style. Got [640, 672, 704, 736, 768, 800]!\n",
      "Failed 000000114049.jpg: short_edge_length must be two values using 'range' sample style. Got [640, 672, 704, 736, 768, 800]!\n",
      "Failed 000000114770.jpg: short_edge_length must be two values using 'range' sample style. Got [640, 672, 704, 736, 768, 800]!\n"
     ]
    },
    {
     "name": "stderr",
     "output_type": "stream",
     "text": [
      "Extracting features:  19%|███████████▎                                              | 970/5000 [00:24<01:57, 34.25it/s]"
     ]
    },
    {
     "name": "stdout",
     "output_type": "stream",
     "text": [
      "Failed 000000114871.jpg: short_edge_length must be two values using 'range' sample style. Got [640, 672, 704, 736, 768, 800]!\n",
      "Failed 000000114884.jpg: short_edge_length must be two values using 'range' sample style. Got [640, 672, 704, 736, 768, 800]!\n",
      "Failed 000000114907.jpg: short_edge_length must be two values using 'range' sample style. Got [640, 672, 704, 736, 768, 800]!\n",
      "Failed 000000115118.jpg: short_edge_length must be two values using 'range' sample style. Got [640, 672, 704, 736, 768, 800]!\n",
      "Failed 000000115245.jpg: short_edge_length must be two values using 'range' sample style. Got [640, 672, 704, 736, 768, 800]!\n",
      "Failed 000000115870.jpg: short_edge_length must be two values using 'range' sample style. Got [640, 672, 704, 736, 768, 800]!\n",
      "Failed 000000115885.jpg: short_edge_length must be two values using 'range' sample style. Got [640, 672, 704, 736, 768, 800]!\n"
     ]
    },
    {
     "name": "stderr",
     "output_type": "stream",
     "text": [
      "Extracting features:  20%|███████████▎                                              | 978/5000 [00:25<01:55, 34.97it/s]"
     ]
    },
    {
     "name": "stdout",
     "output_type": "stream",
     "text": [
      "Failed 000000115898.jpg: short_edge_length must be two values using 'range' sample style. Got [640, 672, 704, 736, 768, 800]!\n",
      "Failed 000000115946.jpg: short_edge_length must be two values using 'range' sample style. Got [640, 672, 704, 736, 768, 800]!\n",
      "Failed 000000116068.jpg: short_edge_length must be two values using 'range' sample style. Got [640, 672, 704, 736, 768, 800]!\n",
      "Failed 000000116206.jpg: short_edge_length must be two values using 'range' sample style. Got [640, 672, 704, 736, 768, 800]!\n",
      "Failed 000000116208.jpg: short_edge_length must be two values using 'range' sample style. Got [640, 672, 704, 736, 768, 800]!\n",
      "Failed 000000116362.jpg: short_edge_length must be two values using 'range' sample style. Got [640, 672, 704, 736, 768, 800]!\n",
      "Failed 000000116439.jpg: short_edge_length must be two values using 'range' sample style. Got [640, 672, 704, 736, 768, 800]!\n"
     ]
    },
    {
     "name": "stderr",
     "output_type": "stream",
     "text": [
      "\r",
      "Extracting features:  20%|███████████▍                                              | 982/5000 [00:25<02:00, 33.31it/s]"
     ]
    },
    {
     "name": "stdout",
     "output_type": "stream",
     "text": [
      "Failed 000000116479.jpg: short_edge_length must be two values using 'range' sample style. Got [640, 672, 704, 736, 768, 800]!\n",
      "Failed 000000116589.jpg: short_edge_length must be two values using 'range' sample style. Got [640, 672, 704, 736, 768, 800]!\n",
      "Failed 000000116825.jpg: short_edge_length must be two values using 'range' sample style. Got [640, 672, 704, 736, 768, 800]!\n",
      "Failed 000000117197.jpg: short_edge_length must be two values using 'range' sample style. Got [640, 672, 704, 736, 768, 800]!\n",
      "Failed 000000117374.jpg: short_edge_length must be two values using 'range' sample style. Got [640, 672, 704, 736, 768, 800]!\n",
      "Failed 000000117425.jpg: short_edge_length must be two values using 'range' sample style. Got [640, 672, 704, 736, 768, 800]!\n",
      "Failed 000000117492.jpg: short_edge_length must be two values using 'range' sample style. Got [640, 672, 704, 736, 768, 800]!\n"
     ]
    },
    {
     "name": "stderr",
     "output_type": "stream",
     "text": [
      "Extracting features:  20%|███████████▍                                              | 991/5000 [00:25<01:49, 36.62it/s]"
     ]
    },
    {
     "name": "stdout",
     "output_type": "stream",
     "text": [
      "Failed 000000117525.jpg: short_edge_length must be two values using 'range' sample style. Got [640, 672, 704, 736, 768, 800]!\n",
      "Failed 000000117645.jpg: short_edge_length must be two values using 'range' sample style. Got [640, 672, 704, 736, 768, 800]!\n",
      "Failed 000000117719.jpg: short_edge_length must be two values using 'range' sample style. Got [640, 672, 704, 736, 768, 800]!\n",
      "Failed 000000117744.jpg: short_edge_length must be two values using 'range' sample style. Got [640, 672, 704, 736, 768, 800]!\n",
      "Failed 000000117908.jpg: short_edge_length must be two values using 'range' sample style. Got [640, 672, 704, 736, 768, 800]!\n",
      "Failed 000000117914.jpg: short_edge_length must be two values using 'range' sample style. Got [640, 672, 704, 736, 768, 800]!\n",
      "Failed 000000118209.jpg: short_edge_length must be two values using 'range' sample style. Got [640, 672, 704, 736, 768, 800]!\n",
      "Failed 000000118367.jpg: short_edge_length must be two values using 'range' sample style. Got [640, 672, 704, 736, 768, 800]!\n",
      "Failed 000000118405.jpg: short_edge_length must be two values using 'range' sample style. Got [640, 672, 704, 736, 768, 800]!\n"
     ]
    },
    {
     "name": "stderr",
     "output_type": "stream",
     "text": [
      "Extracting features:  20%|███████████▍                                             | 1001/5000 [00:25<01:45, 37.92it/s]"
     ]
    },
    {
     "name": "stdout",
     "output_type": "stream",
     "text": [
      "Failed 000000118515.jpg: short_edge_length must be two values using 'range' sample style. Got [640, 672, 704, 736, 768, 800]!\n",
      "Failed 000000118594.jpg: short_edge_length must be two values using 'range' sample style. Got [640, 672, 704, 736, 768, 800]!\n",
      "Failed 000000118921.jpg: short_edge_length must be two values using 'range' sample style. Got [640, 672, 704, 736, 768, 800]!\n",
      "Failed 000000119038.jpg: short_edge_length must be two values using 'range' sample style. Got [640, 672, 704, 736, 768, 800]!\n",
      "Failed 000000119088.jpg: short_edge_length must be two values using 'range' sample style. Got [640, 672, 704, 736, 768, 800]!\n",
      "Failed 000000119233.jpg: short_edge_length must be two values using 'range' sample style. Got [640, 672, 704, 736, 768, 800]!\n",
      "Failed 000000119365.jpg: short_edge_length must be two values using 'range' sample style. Got [640, 672, 704, 736, 768, 800]!\n",
      "Failed 000000119445.jpg: short_edge_length must be two values using 'range' sample style. Got [640, 672, 704, 736, 768, 800]!\n"
     ]
    },
    {
     "name": "stderr",
     "output_type": "stream",
     "text": [
      "Extracting features:  20%|███████████▌                                             | 1009/5000 [00:25<01:52, 35.61it/s]"
     ]
    },
    {
     "name": "stdout",
     "output_type": "stream",
     "text": [
      "Failed 000000119452.jpg: short_edge_length must be two values using 'range' sample style. Got [640, 672, 704, 736, 768, 800]!\n",
      "Failed 000000119516.jpg: short_edge_length must be two values using 'range' sample style. Got [640, 672, 704, 736, 768, 800]!\n",
      "Failed 000000119641.jpg: short_edge_length must be two values using 'range' sample style. Got [640, 672, 704, 736, 768, 800]!\n",
      "Failed 000000119677.jpg: short_edge_length must be two values using 'range' sample style. Got [640, 672, 704, 736, 768, 800]!\n",
      "Failed 000000119828.jpg: short_edge_length must be two values using 'range' sample style. Got [640, 672, 704, 736, 768, 800]!\n",
      "Failed 000000119911.jpg: short_edge_length must be two values using 'range' sample style. Got [640, 672, 704, 736, 768, 800]!\n",
      "Failed 000000119995.jpg: short_edge_length must be two values using 'range' sample style. Got [640, 672, 704, 736, 768, 800]!\n"
     ]
    },
    {
     "name": "stderr",
     "output_type": "stream",
     "text": [
      "\r",
      "Extracting features:  20%|███████████▌                                             | 1013/5000 [00:26<01:55, 34.66it/s]"
     ]
    },
    {
     "name": "stdout",
     "output_type": "stream",
     "text": [
      "Failed 000000120420.jpg: short_edge_length must be two values using 'range' sample style. Got [640, 672, 704, 736, 768, 800]!\n",
      "Failed 000000120572.jpg: short_edge_length must be two values using 'range' sample style. Got [640, 672, 704, 736, 768, 800]!\n",
      "Failed 000000120584.jpg: short_edge_length must be two values using 'range' sample style. Got [640, 672, 704, 736, 768, 800]!\n",
      "Failed 000000120777.jpg: short_edge_length must be two values using 'range' sample style. Got [640, 672, 704, 736, 768, 800]!\n",
      "Failed 000000120853.jpg: short_edge_length must be two values using 'range' sample style. Got [640, 672, 704, 736, 768, 800]!\n",
      "Failed 000000121031.jpg: short_edge_length must be two values using 'range' sample style. Got [640, 672, 704, 736, 768, 800]!\n"
     ]
    },
    {
     "name": "stderr",
     "output_type": "stream",
     "text": [
      "Extracting features:  20%|███████████▋                                             | 1021/5000 [00:26<01:56, 34.14it/s]"
     ]
    },
    {
     "name": "stdout",
     "output_type": "stream",
     "text": [
      "Failed 000000121153.jpg: short_edge_length must be two values using 'range' sample style. Got [640, 672, 704, 736, 768, 800]!\n",
      "Failed 000000121242.jpg: short_edge_length must be two values using 'range' sample style. Got [640, 672, 704, 736, 768, 800]!\n",
      "Failed 000000121417.jpg: short_edge_length must be two values using 'range' sample style. Got [640, 672, 704, 736, 768, 800]!\n",
      "Failed 000000121497.jpg: short_edge_length must be two values using 'range' sample style. Got [640, 672, 704, 736, 768, 800]!\n",
      "Failed 000000121506.jpg: short_edge_length must be two values using 'range' sample style. Got [640, 672, 704, 736, 768, 800]!\n",
      "Failed 000000121586.jpg: short_edge_length must be two values using 'range' sample style. Got [640, 672, 704, 736, 768, 800]!\n",
      "Failed 000000121591.jpg: short_edge_length must be two values using 'range' sample style. Got [640, 672, 704, 736, 768, 800]!\n"
     ]
    },
    {
     "name": "stderr",
     "output_type": "stream",
     "text": [
      "Extracting features:  21%|███████████▋                                             | 1029/5000 [00:26<01:55, 34.33it/s]"
     ]
    },
    {
     "name": "stdout",
     "output_type": "stream",
     "text": [
      "Failed 000000121673.jpg: short_edge_length must be two values using 'range' sample style. Got [640, 672, 704, 736, 768, 800]!\n",
      "Failed 000000121744.jpg: short_edge_length must be two values using 'range' sample style. Got [640, 672, 704, 736, 768, 800]!\n",
      "Failed 000000122046.jpg: short_edge_length must be two values using 'range' sample style. Got [640, 672, 704, 736, 768, 800]!\n",
      "Failed 000000122166.jpg: short_edge_length must be two values using 'range' sample style. Got [640, 672, 704, 736, 768, 800]!\n",
      "Failed 000000122217.jpg: short_edge_length must be two values using 'range' sample style. Got [640, 672, 704, 736, 768, 800]!\n",
      "Failed 000000122606.jpg: short_edge_length must be two values using 'range' sample style. Got [640, 672, 704, 736, 768, 800]!\n",
      "Failed 000000122672.jpg: short_edge_length must be two values using 'range' sample style. Got [640, 672, 704, 736, 768, 800]!\n",
      "Failed 000000122745.jpg: short_edge_length must be two values using 'range' sample style. Got [640, 672, 704, 736, 768, 800]!\n",
      "Failed 000000122927.jpg: short_edge_length must be two values using 'range' sample style. Got [640, 672, 704, 736, 768, 800]!\n"
     ]
    },
    {
     "name": "stderr",
     "output_type": "stream",
     "text": [
      "Extracting features:  21%|███████████▊                                             | 1038/5000 [00:26<01:49, 36.10it/s]"
     ]
    },
    {
     "name": "stdout",
     "output_type": "stream",
     "text": [
      "Failed 000000122962.jpg: short_edge_length must be two values using 'range' sample style. Got [640, 672, 704, 736, 768, 800]!\n",
      "Failed 000000122969.jpg: short_edge_length must be two values using 'range' sample style. Got [640, 672, 704, 736, 768, 800]!\n",
      "Failed 000000123131.jpg: short_edge_length must be two values using 'range' sample style. Got [640, 672, 704, 736, 768, 800]!\n",
      "Failed 000000123213.jpg: short_edge_length must be two values using 'range' sample style. Got [640, 672, 704, 736, 768, 800]!\n",
      "Failed 000000123321.jpg: short_edge_length must be two values using 'range' sample style. Got [640, 672, 704, 736, 768, 800]!\n",
      "Failed 000000123480.jpg: short_edge_length must be two values using 'range' sample style. Got [640, 672, 704, 736, 768, 800]!\n",
      "Failed 000000123585.jpg: short_edge_length must be two values using 'range' sample style. Got [640, 672, 704, 736, 768, 800]!\n",
      "Failed 000000123633.jpg: short_edge_length must be two values using 'range' sample style. Got [640, 672, 704, 736, 768, 800]!\n"
     ]
    },
    {
     "name": "stderr",
     "output_type": "stream",
     "text": [
      "Extracting features:  21%|███████████▉                                             | 1046/5000 [00:27<01:54, 34.54it/s]"
     ]
    },
    {
     "name": "stdout",
     "output_type": "stream",
     "text": [
      "Failed 000000124277.jpg: short_edge_length must be two values using 'range' sample style. Got [640, 672, 704, 736, 768, 800]!\n",
      "Failed 000000124442.jpg: short_edge_length must be two values using 'range' sample style. Got [640, 672, 704, 736, 768, 800]!\n",
      "Failed 000000124636.jpg: short_edge_length must be two values using 'range' sample style. Got [640, 672, 704, 736, 768, 800]!\n",
      "Failed 000000124659.jpg: short_edge_length must be two values using 'range' sample style. Got [640, 672, 704, 736, 768, 800]!\n",
      "Failed 000000124798.jpg: short_edge_length must be two values using 'range' sample style. Got [640, 672, 704, 736, 768, 800]!\n",
      "Failed 000000124975.jpg: short_edge_length must be two values using 'range' sample style. Got [640, 672, 704, 736, 768, 800]!\n",
      "Failed 000000125062.jpg: short_edge_length must be two values using 'range' sample style. Got [640, 672, 704, 736, 768, 800]!\n"
     ]
    },
    {
     "name": "stderr",
     "output_type": "stream",
     "text": [
      "\r",
      "Extracting features:  21%|███████████▉                                             | 1051/5000 [00:27<01:48, 36.23it/s]"
     ]
    },
    {
     "name": "stdout",
     "output_type": "stream",
     "text": [
      "Failed 000000125072.jpg: short_edge_length must be two values using 'range' sample style. Got [640, 672, 704, 736, 768, 800]!\n",
      "Failed 000000125129.jpg: short_edge_length must be two values using 'range' sample style. Got [640, 672, 704, 736, 768, 800]!\n",
      "Failed 000000125211.jpg: short_edge_length must be two values using 'range' sample style. Got [640, 672, 704, 736, 768, 800]!\n",
      "Failed 000000125245.jpg: short_edge_length must be two values using 'range' sample style. Got [640, 672, 704, 736, 768, 800]!\n",
      "Failed 000000125257.jpg: short_edge_length must be two values using 'range' sample style. Got [640, 672, 704, 736, 768, 800]!\n",
      "Failed 000000125405.jpg: short_edge_length must be two values using 'range' sample style. Got [640, 672, 704, 736, 768, 800]!\n",
      "Failed 000000125472.jpg: short_edge_length must be two values using 'range' sample style. Got [640, 672, 704, 736, 768, 800]!\n",
      "Failed 000000125572.jpg: short_edge_length must be two values using 'range' sample style. Got [640, 672, 704, 736, 768, 800]!\n"
     ]
    },
    {
     "name": "stderr",
     "output_type": "stream",
     "text": [
      "Extracting features:  21%|████████████                                             | 1060/5000 [00:27<01:47, 36.65it/s]"
     ]
    },
    {
     "name": "stdout",
     "output_type": "stream",
     "text": [
      "Failed 000000125778.jpg: short_edge_length must be two values using 'range' sample style. Got [640, 672, 704, 736, 768, 800]!\n",
      "Failed 000000125806.jpg: short_edge_length must be two values using 'range' sample style. Got [640, 672, 704, 736, 768, 800]!\n",
      "Failed 000000125850.jpg: short_edge_length must be two values using 'range' sample style. Got [640, 672, 704, 736, 768, 800]!\n",
      "Failed 000000125936.jpg: short_edge_length must be two values using 'range' sample style. Got [640, 672, 704, 736, 768, 800]!\n",
      "Failed 000000125952.jpg: short_edge_length must be two values using 'range' sample style. Got [640, 672, 704, 736, 768, 800]!\n",
      "Failed 000000126107.jpg: short_edge_length must be two values using 'range' sample style. Got [640, 672, 704, 736, 768, 800]!\n",
      "Failed 000000126110.jpg: short_edge_length must be two values using 'range' sample style. Got [640, 672, 704, 736, 768, 800]!\n",
      "Failed 000000126137.jpg: short_edge_length must be two values using 'range' sample style. Got [640, 672, 704, 736, 768, 800]!\n"
     ]
    },
    {
     "name": "stderr",
     "output_type": "stream",
     "text": [
      "Extracting features:  21%|████████████▏                                            | 1069/5000 [00:27<01:42, 38.41it/s]"
     ]
    },
    {
     "name": "stdout",
     "output_type": "stream",
     "text": [
      "Failed 000000126216.jpg: short_edge_length must be two values using 'range' sample style. Got [640, 672, 704, 736, 768, 800]!\n",
      "Failed 000000126226.jpg: short_edge_length must be two values using 'range' sample style. Got [640, 672, 704, 736, 768, 800]!\n",
      "Failed 000000126592.jpg: short_edge_length must be two values using 'range' sample style. Got [640, 672, 704, 736, 768, 800]!\n",
      "Failed 000000127092.jpg: short_edge_length must be two values using 'range' sample style. Got [640, 672, 704, 736, 768, 800]!\n",
      "Failed 000000127135.jpg: short_edge_length must be two values using 'range' sample style. Got [640, 672, 704, 736, 768, 800]!\n",
      "Failed 000000127182.jpg: short_edge_length must be two values using 'range' sample style. Got [640, 672, 704, 736, 768, 800]!\n",
      "Failed 000000127263.jpg: short_edge_length must be two values using 'range' sample style. Got [640, 672, 704, 736, 768, 800]!\n",
      "Failed 000000127270.jpg: short_edge_length must be two values using 'range' sample style. Got [640, 672, 704, 736, 768, 800]!\n",
      "Failed 000000127394.jpg: short_edge_length must be two values using 'range' sample style. Got [640, 672, 704, 736, 768, 800]!\n"
     ]
    },
    {
     "name": "stderr",
     "output_type": "stream",
     "text": [
      "Extracting features:  22%|████████████▎                                            | 1077/5000 [00:27<01:42, 38.13it/s]"
     ]
    },
    {
     "name": "stdout",
     "output_type": "stream",
     "text": [
      "Failed 000000127476.jpg: short_edge_length must be two values using 'range' sample style. Got [640, 672, 704, 736, 768, 800]!\n",
      "Failed 000000127494.jpg: short_edge_length must be two values using 'range' sample style. Got [640, 672, 704, 736, 768, 800]!\n",
      "Failed 000000127517.jpg: short_edge_length must be two values using 'range' sample style. Got [640, 672, 704, 736, 768, 800]!\n",
      "Failed 000000127530.jpg: short_edge_length must be two values using 'range' sample style. Got [640, 672, 704, 736, 768, 800]!\n",
      "Failed 000000127624.jpg: short_edge_length must be two values using 'range' sample style. Got [640, 672, 704, 736, 768, 800]!\n",
      "Failed 000000127660.jpg: short_edge_length must be two values using 'range' sample style. Got [640, 672, 704, 736, 768, 800]!\n",
      "Failed 000000127955.jpg: short_edge_length must be two values using 'range' sample style. Got [640, 672, 704, 736, 768, 800]!\n",
      "Failed 000000127987.jpg: short_edge_length must be two values using 'range' sample style. Got [640, 672, 704, 736, 768, 800]!\n"
     ]
    },
    {
     "name": "stderr",
     "output_type": "stream",
     "text": [
      "Extracting features:  22%|████████████▍                                            | 1086/5000 [00:28<01:40, 39.06it/s]"
     ]
    },
    {
     "name": "stdout",
     "output_type": "stream",
     "text": [
      "Failed 000000128051.jpg: short_edge_length must be two values using 'range' sample style. Got [640, 672, 704, 736, 768, 800]!\n",
      "Failed 000000128112.jpg: short_edge_length must be two values using 'range' sample style. Got [640, 672, 704, 736, 768, 800]!\n",
      "Failed 000000128148.jpg: short_edge_length must be two values using 'range' sample style. Got [640, 672, 704, 736, 768, 800]!\n",
      "Failed 000000128372.jpg: short_edge_length must be two values using 'range' sample style. Got [640, 672, 704, 736, 768, 800]!\n",
      "Failed 000000128476.jpg: short_edge_length must be two values using 'range' sample style. Got [640, 672, 704, 736, 768, 800]!\n",
      "Failed 000000128598.jpg: short_edge_length must be two values using 'range' sample style. Got [640, 672, 704, 736, 768, 800]!\n",
      "Failed 000000128654.jpg: short_edge_length must be two values using 'range' sample style. Got [640, 672, 704, 736, 768, 800]!\n",
      "Failed 000000128658.jpg: short_edge_length must be two values using 'range' sample style. Got [640, 672, 704, 736, 768, 800]!\n",
      "Failed 000000128675.jpg: short_edge_length must be two values using 'range' sample style. Got [640, 672, 704, 736, 768, 800]!\n"
     ]
    },
    {
     "name": "stderr",
     "output_type": "stream",
     "text": [
      "Extracting features:  22%|████████████▍                                            | 1094/5000 [00:28<01:42, 38.19it/s]"
     ]
    },
    {
     "name": "stdout",
     "output_type": "stream",
     "text": [
      "Failed 000000128699.jpg: short_edge_length must be two values using 'range' sample style. Got [640, 672, 704, 736, 768, 800]!\n",
      "Failed 000000128748.jpg: short_edge_length must be two values using 'range' sample style. Got [640, 672, 704, 736, 768, 800]!\n",
      "Failed 000000129054.jpg: short_edge_length must be two values using 'range' sample style. Got [640, 672, 704, 736, 768, 800]!\n",
      "Failed 000000129062.jpg: short_edge_length must be two values using 'range' sample style. Got [640, 672, 704, 736, 768, 800]!\n",
      "Failed 000000129113.jpg: short_edge_length must be two values using 'range' sample style. Got [640, 672, 704, 736, 768, 800]!\n",
      "Failed 000000129135.jpg: short_edge_length must be two values using 'range' sample style. Got [640, 672, 704, 736, 768, 800]!\n",
      "Failed 000000129322.jpg: short_edge_length must be two values using 'range' sample style. Got [640, 672, 704, 736, 768, 800]!\n",
      "Failed 000000129416.jpg: short_edge_length must be two values using 'range' sample style. Got [640, 672, 704, 736, 768, 800]!\n"
     ]
    },
    {
     "name": "stderr",
     "output_type": "stream",
     "text": [
      "Extracting features:  22%|████████████▌                                            | 1103/5000 [00:28<01:43, 37.65it/s]"
     ]
    },
    {
     "name": "stdout",
     "output_type": "stream",
     "text": [
      "Failed 000000129492.jpg: short_edge_length must be two values using 'range' sample style. Got [640, 672, 704, 736, 768, 800]!\n",
      "Failed 000000129756.jpg: short_edge_length must be two values using 'range' sample style. Got [640, 672, 704, 736, 768, 800]!\n",
      "Failed 000000129812.jpg: short_edge_length must be two values using 'range' sample style. Got [640, 672, 704, 736, 768, 800]!\n",
      "Failed 000000129945.jpg: short_edge_length must be two values using 'range' sample style. Got [640, 672, 704, 736, 768, 800]!\n",
      "Failed 000000130386.jpg: short_edge_length must be two values using 'range' sample style. Got [640, 672, 704, 736, 768, 800]!\n",
      "Failed 000000130465.jpg: short_edge_length must be two values using 'range' sample style. Got [640, 672, 704, 736, 768, 800]!\n",
      "Failed 000000130566.jpg: short_edge_length must be two values using 'range' sample style. Got [640, 672, 704, 736, 768, 800]!\n",
      "Failed 000000130579.jpg: short_edge_length must be two values using 'range' sample style. Got [640, 672, 704, 736, 768, 800]!\n"
     ]
    },
    {
     "name": "stderr",
     "output_type": "stream",
     "text": [
      "\r",
      "Extracting features:  22%|████████████▋                                            | 1108/5000 [00:28<01:40, 38.71it/s]"
     ]
    },
    {
     "name": "stdout",
     "output_type": "stream",
     "text": [
      "Failed 000000130586.jpg: short_edge_length must be two values using 'range' sample style. Got [640, 672, 704, 736, 768, 800]!\n",
      "Failed 000000130599.jpg: short_edge_length must be two values using 'range' sample style. Got [640, 672, 704, 736, 768, 800]!\n",
      "Failed 000000130613.jpg: short_edge_length must be two values using 'range' sample style. Got [640, 672, 704, 736, 768, 800]!\n",
      "Failed 000000130699.jpg: short_edge_length must be two values using 'range' sample style. Got [640, 672, 704, 736, 768, 800]!\n",
      "Failed 000000130826.jpg: short_edge_length must be two values using 'range' sample style. Got [640, 672, 704, 736, 768, 800]!\n",
      "Failed 000000131131.jpg: short_edge_length must be two values using 'range' sample style. Got [640, 672, 704, 736, 768, 800]!\n",
      "Failed 000000131138.jpg: short_edge_length must be two values using 'range' sample style. Got [640, 672, 704, 736, 768, 800]!\n"
     ]
    },
    {
     "name": "stderr",
     "output_type": "stream",
     "text": [
      "Extracting features:  22%|████████████▋                                            | 1116/5000 [00:28<01:40, 38.79it/s]"
     ]
    },
    {
     "name": "stdout",
     "output_type": "stream",
     "text": [
      "Failed 000000131273.jpg: short_edge_length must be two values using 'range' sample style. Got [640, 672, 704, 736, 768, 800]!\n",
      "Failed 000000131379.jpg: short_edge_length must be two values using 'range' sample style. Got [640, 672, 704, 736, 768, 800]!\n",
      "Failed 000000131386.jpg: short_edge_length must be two values using 'range' sample style. Got [640, 672, 704, 736, 768, 800]!\n",
      "Failed 000000131431.jpg: short_edge_length must be two values using 'range' sample style. Got [640, 672, 704, 736, 768, 800]!\n",
      "Failed 000000131444.jpg: short_edge_length must be two values using 'range' sample style. Got [640, 672, 704, 736, 768, 800]!\n",
      "Failed 000000131556.jpg: short_edge_length must be two values using 'range' sample style. Got [640, 672, 704, 736, 768, 800]!\n",
      "Failed 000000131938.jpg: short_edge_length must be two values using 'range' sample style. Got [640, 672, 704, 736, 768, 800]!\n",
      "Failed 000000132116.jpg: short_edge_length must be two values using 'range' sample style. Got [640, 672, 704, 736, 768, 800]!\n",
      "Failed 000000132329.jpg: short_edge_length must be two values using 'range' sample style. Got [640, 672, 704, 736, 768, 800]!\n"
     ]
    },
    {
     "name": "stderr",
     "output_type": "stream",
     "text": [
      "Extracting features:  23%|████████████▊                                            | 1126/5000 [00:29<01:35, 40.68it/s]"
     ]
    },
    {
     "name": "stdout",
     "output_type": "stream",
     "text": [
      "Failed 000000132375.jpg: short_edge_length must be two values using 'range' sample style. Got [640, 672, 704, 736, 768, 800]!\n",
      "Failed 000000132408.jpg: short_edge_length must be two values using 'range' sample style. Got [640, 672, 704, 736, 768, 800]!\n",
      "Failed 000000132544.jpg: short_edge_length must be two values using 'range' sample style. Got [640, 672, 704, 736, 768, 800]!\n",
      "Failed 000000132587.jpg: short_edge_length must be two values using 'range' sample style. Got [640, 672, 704, 736, 768, 800]!\n",
      "Failed 000000132622.jpg: short_edge_length must be two values using 'range' sample style. Got [640, 672, 704, 736, 768, 800]!\n",
      "Failed 000000132703.jpg: short_edge_length must be two values using 'range' sample style. Got [640, 672, 704, 736, 768, 800]!\n",
      "Failed 000000132796.jpg: short_edge_length must be two values using 'range' sample style. Got [640, 672, 704, 736, 768, 800]!\n",
      "Failed 000000132931.jpg: short_edge_length must be two values using 'range' sample style. Got [640, 672, 704, 736, 768, 800]!\n",
      "Failed 000000133000.jpg: short_edge_length must be two values using 'range' sample style. Got [640, 672, 704, 736, 768, 800]!\n"
     ]
    },
    {
     "name": "stderr",
     "output_type": "stream",
     "text": [
      "Extracting features:  23%|████████████▉                                            | 1136/5000 [00:29<01:40, 38.29it/s]"
     ]
    },
    {
     "name": "stdout",
     "output_type": "stream",
     "text": [
      "Failed 000000133087.jpg: short_edge_length must be two values using 'range' sample style. Got [640, 672, 704, 736, 768, 800]!\n",
      "Failed 000000133233.jpg: short_edge_length must be two values using 'range' sample style. Got [640, 672, 704, 736, 768, 800]!\n",
      "Failed 000000133244.jpg: short_edge_length must be two values using 'range' sample style. Got [640, 672, 704, 736, 768, 800]!\n",
      "Failed 000000133343.jpg: short_edge_length must be two values using 'range' sample style. Got [640, 672, 704, 736, 768, 800]!\n",
      "Failed 000000133418.jpg: short_edge_length must be two values using 'range' sample style. Got [640, 672, 704, 736, 768, 800]!\n",
      "Failed 000000133567.jpg: short_edge_length must be two values using 'range' sample style. Got [640, 672, 704, 736, 768, 800]!\n",
      "Failed 000000133631.jpg: short_edge_length must be two values using 'range' sample style. Got [640, 672, 704, 736, 768, 800]!\n",
      "Failed 000000133645.jpg: short_edge_length must be two values using 'range' sample style. Got [640, 672, 704, 736, 768, 800]!\n",
      "Failed 000000133778.jpg: short_edge_length must be two values using 'range' sample style. Got [640, 672, 704, 736, 768, 800]!\n"
     ]
    },
    {
     "name": "stderr",
     "output_type": "stream",
     "text": [
      "Extracting features:  23%|█████████████                                            | 1144/5000 [00:29<01:54, 33.69it/s]"
     ]
    },
    {
     "name": "stdout",
     "output_type": "stream",
     "text": [
      "Failed 000000133819.jpg: short_edge_length must be two values using 'range' sample style. Got [640, 672, 704, 736, 768, 800]!\n",
      "Failed 000000133969.jpg: short_edge_length must be two values using 'range' sample style. Got [640, 672, 704, 736, 768, 800]!\n",
      "Failed 000000134034.jpg: short_edge_length must be two values using 'range' sample style. Got [640, 672, 704, 736, 768, 800]!\n",
      "Failed 000000134096.jpg: short_edge_length must be two values using 'range' sample style. Got [640, 672, 704, 736, 768, 800]!\n",
      "Failed 000000134112.jpg: short_edge_length must be two values using 'range' sample style. Got [640, 672, 704, 736, 768, 800]!\n",
      "Failed 000000134322.jpg: short_edge_length must be two values using 'range' sample style. Got [640, 672, 704, 736, 768, 800]!\n",
      "Failed 000000134689.jpg: short_edge_length must be two values using 'range' sample style. Got [640, 672, 704, 736, 768, 800]!\n"
     ]
    },
    {
     "name": "stderr",
     "output_type": "stream",
     "text": [
      "\r",
      "Extracting features:  23%|█████████████                                            | 1148/5000 [00:29<01:57, 32.86it/s]"
     ]
    },
    {
     "name": "stdout",
     "output_type": "stream",
     "text": [
      "Failed 000000134722.jpg: short_edge_length must be two values using 'range' sample style. Got [640, 672, 704, 736, 768, 800]!\n",
      "Failed 000000134856.jpg: short_edge_length must be two values using 'range' sample style. Got [640, 672, 704, 736, 768, 800]!\n",
      "Failed 000000134882.jpg: short_edge_length must be two values using 'range' sample style. Got [640, 672, 704, 736, 768, 800]!\n",
      "Failed 000000134886.jpg: short_edge_length must be two values using 'range' sample style. Got [640, 672, 704, 736, 768, 800]!\n",
      "Failed 000000135410.jpg: short_edge_length must be two values using 'range' sample style. Got [640, 672, 704, 736, 768, 800]!\n",
      "Failed 000000135561.jpg: short_edge_length must be two values using 'range' sample style. Got [640, 672, 704, 736, 768, 800]!\n"
     ]
    },
    {
     "name": "stderr",
     "output_type": "stream",
     "text": [
      "Extracting features:  23%|█████████████▏                                           | 1157/5000 [00:29<01:50, 34.69it/s]"
     ]
    },
    {
     "name": "stdout",
     "output_type": "stream",
     "text": [
      "Failed 000000135604.jpg: short_edge_length must be two values using 'range' sample style. Got [640, 672, 704, 736, 768, 800]!\n",
      "Failed 000000135670.jpg: short_edge_length must be two values using 'range' sample style. Got [640, 672, 704, 736, 768, 800]!\n",
      "Failed 000000135673.jpg: short_edge_length must be two values using 'range' sample style. Got [640, 672, 704, 736, 768, 800]!\n",
      "Failed 000000135872.jpg: short_edge_length must be two values using 'range' sample style. Got [640, 672, 704, 736, 768, 800]!\n",
      "Failed 000000135890.jpg: short_edge_length must be two values using 'range' sample style. Got [640, 672, 704, 736, 768, 800]!\n",
      "Failed 000000135902.jpg: short_edge_length must be two values using 'range' sample style. Got [640, 672, 704, 736, 768, 800]!\n",
      "Failed 000000136033.jpg: short_edge_length must be two values using 'range' sample style. Got [640, 672, 704, 736, 768, 800]!\n",
      "Failed 000000136334.jpg: short_edge_length must be two values using 'range' sample style. Got [640, 672, 704, 736, 768, 800]!\n",
      "Failed 000000136355.jpg: short_edge_length must be two values using 'range' sample style. Got [640, 672, 704, 736, 768, 800]!\n"
     ]
    },
    {
     "name": "stderr",
     "output_type": "stream",
     "text": [
      "Extracting features:  23%|█████████████▎                                           | 1166/5000 [00:30<01:44, 36.77it/s]"
     ]
    },
    {
     "name": "stdout",
     "output_type": "stream",
     "text": [
      "Failed 000000136466.jpg: short_edge_length must be two values using 'range' sample style. Got [640, 672, 704, 736, 768, 800]!\n",
      "Failed 000000136600.jpg: short_edge_length must be two values using 'range' sample style. Got [640, 672, 704, 736, 768, 800]!\n",
      "Failed 000000136633.jpg: short_edge_length must be two values using 'range' sample style. Got [640, 672, 704, 736, 768, 800]!\n",
      "Failed 000000136715.jpg: short_edge_length must be two values using 'range' sample style. Got [640, 672, 704, 736, 768, 800]!\n",
      "Failed 000000136772.jpg: short_edge_length must be two values using 'range' sample style. Got [640, 672, 704, 736, 768, 800]!\n",
      "Failed 000000136915.jpg: short_edge_length must be two values using 'range' sample style. Got [640, 672, 704, 736, 768, 800]!\n",
      "Failed 000000137106.jpg: short_edge_length must be two values using 'range' sample style. Got [640, 672, 704, 736, 768, 800]!\n",
      "Failed 000000137246.jpg: short_edge_length must be two values using 'range' sample style. Got [640, 672, 704, 736, 768, 800]!\n"
     ]
    },
    {
     "name": "stderr",
     "output_type": "stream",
     "text": [
      "Extracting features:  24%|█████████████▍                                           | 1175/5000 [00:30<01:43, 36.84it/s]"
     ]
    },
    {
     "name": "stdout",
     "output_type": "stream",
     "text": [
      "Failed 000000137294.jpg: short_edge_length must be two values using 'range' sample style. Got [640, 672, 704, 736, 768, 800]!\n",
      "Failed 000000137576.jpg: short_edge_length must be two values using 'range' sample style. Got [640, 672, 704, 736, 768, 800]!\n",
      "Failed 000000137727.jpg: short_edge_length must be two values using 'range' sample style. Got [640, 672, 704, 736, 768, 800]!\n",
      "Failed 000000137950.jpg: short_edge_length must be two values using 'range' sample style. Got [640, 672, 704, 736, 768, 800]!\n",
      "Failed 000000138115.jpg: short_edge_length must be two values using 'range' sample style. Got [640, 672, 704, 736, 768, 800]!\n",
      "Failed 000000138241.jpg: short_edge_length must be two values using 'range' sample style. Got [640, 672, 704, 736, 768, 800]!\n",
      "Failed 000000138492.jpg: short_edge_length must be two values using 'range' sample style. Got [640, 672, 704, 736, 768, 800]!\n",
      "Failed 000000138550.jpg: short_edge_length must be two values using 'range' sample style. Got [640, 672, 704, 736, 768, 800]!\n"
     ]
    },
    {
     "name": "stderr",
     "output_type": "stream",
     "text": [
      "Extracting features:  24%|█████████████▍                                           | 1183/5000 [00:30<01:47, 35.54it/s]"
     ]
    },
    {
     "name": "stdout",
     "output_type": "stream",
     "text": [
      "Failed 000000138639.jpg: short_edge_length must be two values using 'range' sample style. Got [640, 672, 704, 736, 768, 800]!\n",
      "Failed 000000138819.jpg: short_edge_length must be two values using 'range' sample style. Got [640, 672, 704, 736, 768, 800]!\n",
      "Failed 000000138856.jpg: short_edge_length must be two values using 'range' sample style. Got [640, 672, 704, 736, 768, 800]!\n",
      "Failed 000000138954.jpg: short_edge_length must be two values using 'range' sample style. Got [640, 672, 704, 736, 768, 800]!\n",
      "Failed 000000138979.jpg: short_edge_length must be two values using 'range' sample style. Got [640, 672, 704, 736, 768, 800]!\n",
      "Failed 000000139077.jpg: short_edge_length must be two values using 'range' sample style. Got [640, 672, 704, 736, 768, 800]!\n",
      "Failed 000000139099.jpg: short_edge_length must be two values using 'range' sample style. Got [640, 672, 704, 736, 768, 800]!\n",
      "Failed 000000139260.jpg: short_edge_length must be two values using 'range' sample style. Got [640, 672, 704, 736, 768, 800]!\n"
     ]
    },
    {
     "name": "stderr",
     "output_type": "stream",
     "text": [
      "Extracting features:  24%|█████████████▌                                           | 1191/5000 [00:30<01:46, 35.90it/s]"
     ]
    },
    {
     "name": "stdout",
     "output_type": "stream",
     "text": [
      "Failed 000000139684.jpg: short_edge_length must be two values using 'range' sample style. Got [640, 672, 704, 736, 768, 800]!\n",
      "Failed 000000139871.jpg: short_edge_length must be two values using 'range' sample style. Got [640, 672, 704, 736, 768, 800]!\n",
      "Failed 000000139872.jpg: short_edge_length must be two values using 'range' sample style. Got [640, 672, 704, 736, 768, 800]!\n",
      "Failed 000000139883.jpg: short_edge_length must be two values using 'range' sample style. Got [640, 672, 704, 736, 768, 800]!\n",
      "Failed 000000140076.jpg: short_edge_length must be two values using 'range' sample style. Got [640, 672, 704, 736, 768, 800]!\n",
      "Failed 000000140203.jpg: short_edge_length must be two values using 'range' sample style. Got [640, 672, 704, 736, 768, 800]!\n",
      "Failed 000000140270.jpg: short_edge_length must be two values using 'range' sample style. Got [640, 672, 704, 736, 768, 800]!\n",
      "Failed 000000140286.jpg: short_edge_length must be two values using 'range' sample style. Got [640, 672, 704, 736, 768, 800]!\n"
     ]
    },
    {
     "name": "stderr",
     "output_type": "stream",
     "text": [
      "Extracting features:  24%|█████████████▋                                           | 1199/5000 [00:31<01:49, 34.80it/s]"
     ]
    },
    {
     "name": "stdout",
     "output_type": "stream",
     "text": [
      "Failed 000000140420.jpg: short_edge_length must be two values using 'range' sample style. Got [640, 672, 704, 736, 768, 800]!\n",
      "Failed 000000140439.jpg: short_edge_length must be two values using 'range' sample style. Got [640, 672, 704, 736, 768, 800]!\n",
      "Failed 000000140556.jpg: short_edge_length must be two values using 'range' sample style. Got [640, 672, 704, 736, 768, 800]!\n",
      "Failed 000000140583.jpg: short_edge_length must be two values using 'range' sample style. Got [640, 672, 704, 736, 768, 800]!\n",
      "Failed 000000140640.jpg: short_edge_length must be two values using 'range' sample style. Got [640, 672, 704, 736, 768, 800]!\n",
      "Failed 000000140658.jpg: short_edge_length must be two values using 'range' sample style. Got [640, 672, 704, 736, 768, 800]!\n",
      "Failed 000000140840.jpg: short_edge_length must be two values using 'range' sample style. Got [640, 672, 704, 736, 768, 800]!\n",
      "Failed 000000140929.jpg: short_edge_length must be two values using 'range' sample style. Got [640, 672, 704, 736, 768, 800]!\n"
     ]
    },
    {
     "name": "stderr",
     "output_type": "stream",
     "text": [
      "Extracting features:  24%|█████████████▊                                           | 1207/5000 [00:31<01:46, 35.61it/s]"
     ]
    },
    {
     "name": "stdout",
     "output_type": "stream",
     "text": [
      "Failed 000000140987.jpg: short_edge_length must be two values using 'range' sample style. Got [640, 672, 704, 736, 768, 800]!\n",
      "Failed 000000141328.jpg: short_edge_length must be two values using 'range' sample style. Got [640, 672, 704, 736, 768, 800]!\n",
      "Failed 000000141597.jpg: short_edge_length must be two values using 'range' sample style. Got [640, 672, 704, 736, 768, 800]!\n",
      "Failed 000000141671.jpg: short_edge_length must be two values using 'range' sample style. Got [640, 672, 704, 736, 768, 800]!\n",
      "Failed 000000141821.jpg: short_edge_length must be two values using 'range' sample style. Got [640, 672, 704, 736, 768, 800]!\n",
      "Failed 000000142092.jpg: short_edge_length must be two values using 'range' sample style. Got [640, 672, 704, 736, 768, 800]!\n",
      "Failed 000000142238.jpg: short_edge_length must be two values using 'range' sample style. Got [640, 672, 704, 736, 768, 800]!\n"
     ]
    },
    {
     "name": "stderr",
     "output_type": "stream",
     "text": [
      "Extracting features:  24%|█████████████▊                                           | 1215/5000 [00:31<01:46, 35.56it/s]"
     ]
    },
    {
     "name": "stdout",
     "output_type": "stream",
     "text": [
      "Failed 000000142324.jpg: short_edge_length must be two values using 'range' sample style. Got [640, 672, 704, 736, 768, 800]!\n",
      "Failed 000000142472.jpg: short_edge_length must be two values using 'range' sample style. Got [640, 672, 704, 736, 768, 800]!\n",
      "Failed 000000142585.jpg: short_edge_length must be two values using 'range' sample style. Got [640, 672, 704, 736, 768, 800]!\n",
      "Failed 000000142620.jpg: short_edge_length must be two values using 'range' sample style. Got [640, 672, 704, 736, 768, 800]!\n",
      "Failed 000000142790.jpg: short_edge_length must be two values using 'range' sample style. Got [640, 672, 704, 736, 768, 800]!\n",
      "Failed 000000142971.jpg: short_edge_length must be two values using 'range' sample style. Got [640, 672, 704, 736, 768, 800]!\n",
      "Failed 000000143068.jpg: short_edge_length must be two values using 'range' sample style. Got [640, 672, 704, 736, 768, 800]!\n",
      "Failed 000000143556.jpg: short_edge_length must be two values using 'range' sample style. Got [640, 672, 704, 736, 768, 800]!\n"
     ]
    },
    {
     "name": "stderr",
     "output_type": "stream",
     "text": [
      "Extracting features:  24%|█████████████▉                                           | 1223/5000 [00:31<01:47, 35.13it/s]"
     ]
    },
    {
     "name": "stdout",
     "output_type": "stream",
     "text": [
      "Failed 000000143572.jpg: short_edge_length must be two values using 'range' sample style. Got [640, 672, 704, 736, 768, 800]!\n",
      "Failed 000000143931.jpg: short_edge_length must be two values using 'range' sample style. Got [640, 672, 704, 736, 768, 800]!\n",
      "Failed 000000143961.jpg: short_edge_length must be two values using 'range' sample style. Got [640, 672, 704, 736, 768, 800]!\n",
      "Failed 000000143998.jpg: short_edge_length must be two values using 'range' sample style. Got [640, 672, 704, 736, 768, 800]!\n",
      "Failed 000000144003.jpg: short_edge_length must be two values using 'range' sample style. Got [640, 672, 704, 736, 768, 800]!\n",
      "Failed 000000144114.jpg: short_edge_length must be two values using 'range' sample style. Got [640, 672, 704, 736, 768, 800]!\n",
      "Failed 000000144300.jpg: short_edge_length must be two values using 'range' sample style. Got [640, 672, 704, 736, 768, 800]!\n",
      "Failed 000000144333.jpg: short_edge_length must be two values using 'range' sample style. Got [640, 672, 704, 736, 768, 800]!\n"
     ]
    },
    {
     "name": "stderr",
     "output_type": "stream",
     "text": [
      "\r",
      "Extracting features:  25%|██████████████                                           | 1229/5000 [00:31<01:36, 38.99it/s]"
     ]
    },
    {
     "name": "stdout",
     "output_type": "stream",
     "text": [
      "Failed 000000144706.jpg: short_edge_length must be two values using 'range' sample style. Got [640, 672, 704, 736, 768, 800]!\n",
      "Failed 000000144784.jpg: short_edge_length must be two values using 'range' sample style. Got [640, 672, 704, 736, 768, 800]!\n",
      "Failed 000000144798.jpg: short_edge_length must be two values using 'range' sample style. Got [640, 672, 704, 736, 768, 800]!\n",
      "Failed 000000144932.jpg: short_edge_length must be two values using 'range' sample style. Got [640, 672, 704, 736, 768, 800]!\n",
      "Failed 000000144984.jpg: short_edge_length must be two values using 'range' sample style. Got [640, 672, 704, 736, 768, 800]!\n",
      "Failed 000000145020.jpg: short_edge_length must be two values using 'range' sample style. Got [640, 672, 704, 736, 768, 800]!\n",
      "Failed 000000145591.jpg: short_edge_length must be two values using 'range' sample style. Got [640, 672, 704, 736, 768, 800]!\n",
      "Failed 000000145597.jpg: short_edge_length must be two values using 'range' sample style. Got [640, 672, 704, 736, 768, 800]!\n"
     ]
    },
    {
     "name": "stderr",
     "output_type": "stream",
     "text": [
      "Extracting features:  25%|██████████████                                           | 1238/5000 [00:32<01:39, 37.85it/s]"
     ]
    },
    {
     "name": "stdout",
     "output_type": "stream",
     "text": [
      "Failed 000000145620.jpg: short_edge_length must be two values using 'range' sample style. Got [640, 672, 704, 736, 768, 800]!\n",
      "Failed 000000145665.jpg: short_edge_length must be two values using 'range' sample style. Got [640, 672, 704, 736, 768, 800]!\n",
      "Failed 000000145781.jpg: short_edge_length must be two values using 'range' sample style. Got [640, 672, 704, 736, 768, 800]!\n",
      "Failed 000000146155.jpg: short_edge_length must be two values using 'range' sample style. Got [640, 672, 704, 736, 768, 800]!\n",
      "Failed 000000146358.jpg: short_edge_length must be two values using 'range' sample style. Got [640, 672, 704, 736, 768, 800]!\n",
      "Failed 000000146363.jpg: short_edge_length must be two values using 'range' sample style. Got [640, 672, 704, 736, 768, 800]!\n",
      "Failed 000000146457.jpg: short_edge_length must be two values using 'range' sample style. Got [640, 672, 704, 736, 768, 800]!\n",
      "Failed 000000146489.jpg: short_edge_length must be two values using 'range' sample style. Got [640, 672, 704, 736, 768, 800]!\n"
     ]
    },
    {
     "name": "stderr",
     "output_type": "stream",
     "text": [
      "Extracting features:  25%|██████████████▏                                          | 1246/5000 [00:32<01:42, 36.71it/s]"
     ]
    },
    {
     "name": "stdout",
     "output_type": "stream",
     "text": [
      "Failed 000000146498.jpg: short_edge_length must be two values using 'range' sample style. Got [640, 672, 704, 736, 768, 800]!\n",
      "Failed 000000146667.jpg: short_edge_length must be two values using 'range' sample style. Got [640, 672, 704, 736, 768, 800]!\n",
      "Failed 000000146825.jpg: short_edge_length must be two values using 'range' sample style. Got [640, 672, 704, 736, 768, 800]!\n",
      "Failed 000000146831.jpg: short_edge_length must be two values using 'range' sample style. Got [640, 672, 704, 736, 768, 800]!\n",
      "Failed 000000147205.jpg: short_edge_length must be two values using 'range' sample style. Got [640, 672, 704, 736, 768, 800]!\n",
      "Failed 000000147223.jpg: short_edge_length must be two values using 'range' sample style. Got [640, 672, 704, 736, 768, 800]!\n",
      "Failed 000000147338.jpg: short_edge_length must be two values using 'range' sample style. Got [640, 672, 704, 736, 768, 800]!\n",
      "Failed 000000147415.jpg: short_edge_length must be two values using 'range' sample style. Got [640, 672, 704, 736, 768, 800]!\n"
     ]
    },
    {
     "name": "stderr",
     "output_type": "stream",
     "text": [
      "Extracting features:  25%|██████████████▎                                          | 1254/5000 [00:32<01:40, 37.36it/s]"
     ]
    },
    {
     "name": "stdout",
     "output_type": "stream",
     "text": [
      "Failed 000000147498.jpg: short_edge_length must be two values using 'range' sample style. Got [640, 672, 704, 736, 768, 800]!\n",
      "Failed 000000147518.jpg: short_edge_length must be two values using 'range' sample style. Got [640, 672, 704, 736, 768, 800]!\n",
      "Failed 000000147725.jpg: short_edge_length must be two values using 'range' sample style. Got [640, 672, 704, 736, 768, 800]!\n",
      "Failed 000000147729.jpg: short_edge_length must be two values using 'range' sample style. Got [640, 672, 704, 736, 768, 800]!\n",
      "Failed 000000147740.jpg: short_edge_length must be two values using 'range' sample style. Got [640, 672, 704, 736, 768, 800]!\n",
      "Failed 000000147745.jpg: short_edge_length must be two values using 'range' sample style. Got [640, 672, 704, 736, 768, 800]!\n",
      "Failed 000000148508.jpg: short_edge_length must be two values using 'range' sample style. Got [640, 672, 704, 736, 768, 800]!\n"
     ]
    },
    {
     "name": "stderr",
     "output_type": "stream",
     "text": [
      "\r",
      "Extracting features:  25%|██████████████▎                                          | 1258/5000 [00:32<01:45, 35.48it/s]"
     ]
    },
    {
     "name": "stdout",
     "output_type": "stream",
     "text": [
      "Failed 000000148620.jpg: short_edge_length must be two values using 'range' sample style. Got [640, 672, 704, 736, 768, 800]!\n",
      "Failed 000000148662.jpg: short_edge_length must be two values using 'range' sample style. Got [640, 672, 704, 736, 768, 800]!\n",
      "Failed 000000148707.jpg: short_edge_length must be two values using 'range' sample style. Got [640, 672, 704, 736, 768, 800]!\n",
      "Failed 000000148719.jpg: short_edge_length must be two values using 'range' sample style. Got [640, 672, 704, 736, 768, 800]!\n",
      "Failed 000000148730.jpg: short_edge_length must be two values using 'range' sample style. Got [640, 672, 704, 736, 768, 800]!\n",
      "Failed 000000148739.jpg: short_edge_length must be two values using 'range' sample style. Got [640, 672, 704, 736, 768, 800]!\n",
      "Failed 000000148783.jpg: short_edge_length must be two values using 'range' sample style. Got [640, 672, 704, 736, 768, 800]!\n",
      "Failed 000000148957.jpg: short_edge_length must be two values using 'range' sample style. Got [640, 672, 704, 736, 768, 800]!\n"
     ]
    },
    {
     "name": "stderr",
     "output_type": "stream",
     "text": [
      "Extracting features:  25%|██████████████▍                                          | 1267/5000 [00:33<01:44, 35.77it/s]"
     ]
    },
    {
     "name": "stdout",
     "output_type": "stream",
     "text": [
      "Failed 000000148999.jpg: short_edge_length must be two values using 'range' sample style. Got [640, 672, 704, 736, 768, 800]!\n",
      "Failed 000000149222.jpg: short_edge_length must be two values using 'range' sample style. Got [640, 672, 704, 736, 768, 800]!\n",
      "Failed 000000149375.jpg: short_edge_length must be two values using 'range' sample style. Got [640, 672, 704, 736, 768, 800]!\n",
      "Failed 000000149406.jpg: short_edge_length must be two values using 'range' sample style. Got [640, 672, 704, 736, 768, 800]!\n",
      "Failed 000000149568.jpg: short_edge_length must be two values using 'range' sample style. Got [640, 672, 704, 736, 768, 800]!\n",
      "Failed 000000149622.jpg: short_edge_length must be two values using 'range' sample style. Got [640, 672, 704, 736, 768, 800]!\n",
      "Failed 000000149770.jpg: short_edge_length must be two values using 'range' sample style. Got [640, 672, 704, 736, 768, 800]!\n",
      "Failed 000000150224.jpg: short_edge_length must be two values using 'range' sample style. Got [640, 672, 704, 736, 768, 800]!\n"
     ]
    },
    {
     "name": "stderr",
     "output_type": "stream",
     "text": [
      "Extracting features:  26%|██████████████▌                                          | 1275/5000 [00:33<01:45, 35.40it/s]"
     ]
    },
    {
     "name": "stdout",
     "output_type": "stream",
     "text": [
      "Failed 000000150265.jpg: short_edge_length must be two values using 'range' sample style. Got [640, 672, 704, 736, 768, 800]!\n",
      "Failed 000000150417.jpg: short_edge_length must be two values using 'range' sample style. Got [640, 672, 704, 736, 768, 800]!\n",
      "Failed 000000150638.jpg: short_edge_length must be two values using 'range' sample style. Got [640, 672, 704, 736, 768, 800]!\n",
      "Failed 000000150649.jpg: short_edge_length must be two values using 'range' sample style. Got [640, 672, 704, 736, 768, 800]!\n",
      "Failed 000000150726.jpg: short_edge_length must be two values using 'range' sample style. Got [640, 672, 704, 736, 768, 800]!\n",
      "Failed 000000150930.jpg: short_edge_length must be two values using 'range' sample style. Got [640, 672, 704, 736, 768, 800]!\n",
      "Failed 000000151000.jpg: short_edge_length must be two values using 'range' sample style. Got [640, 672, 704, 736, 768, 800]!\n"
     ]
    },
    {
     "name": "stderr",
     "output_type": "stream",
     "text": [
      "Extracting features:  26%|██████████████▋                                          | 1283/5000 [00:33<01:44, 35.41it/s]"
     ]
    },
    {
     "name": "stdout",
     "output_type": "stream",
     "text": [
      "Failed 000000151051.jpg: short_edge_length must be two values using 'range' sample style. Got [640, 672, 704, 736, 768, 800]!\n",
      "Failed 000000151480.jpg: short_edge_length must be two values using 'range' sample style. Got [640, 672, 704, 736, 768, 800]!\n",
      "Failed 000000151516.jpg: short_edge_length must be two values using 'range' sample style. Got [640, 672, 704, 736, 768, 800]!\n",
      "Failed 000000151629.jpg: short_edge_length must be two values using 'range' sample style. Got [640, 672, 704, 736, 768, 800]!\n",
      "Failed 000000151657.jpg: short_edge_length must be two values using 'range' sample style. Got [640, 672, 704, 736, 768, 800]!\n",
      "Failed 000000151662.jpg: short_edge_length must be two values using 'range' sample style. Got [640, 672, 704, 736, 768, 800]!\n",
      "Failed 000000151820.jpg: short_edge_length must be two values using 'range' sample style. Got [640, 672, 704, 736, 768, 800]!\n",
      "Failed 000000151857.jpg: short_edge_length must be two values using 'range' sample style. Got [640, 672, 704, 736, 768, 800]!\n"
     ]
    },
    {
     "name": "stderr",
     "output_type": "stream",
     "text": [
      "Extracting features:  26%|██████████████▋                                          | 1291/5000 [00:33<01:48, 34.06it/s]"
     ]
    },
    {
     "name": "stdout",
     "output_type": "stream",
     "text": [
      "Failed 000000151938.jpg: short_edge_length must be two values using 'range' sample style. Got [640, 672, 704, 736, 768, 800]!\n",
      "Failed 000000151962.jpg: short_edge_length must be two values using 'range' sample style. Got [640, 672, 704, 736, 768, 800]!\n",
      "Failed 000000152120.jpg: short_edge_length must be two values using 'range' sample style. Got [640, 672, 704, 736, 768, 800]!\n",
      "Failed 000000152214.jpg: short_edge_length must be two values using 'range' sample style. Got [640, 672, 704, 736, 768, 800]!\n",
      "Failed 000000152465.jpg: short_edge_length must be two values using 'range' sample style. Got [640, 672, 704, 736, 768, 800]!\n",
      "Failed 000000152686.jpg: short_edge_length must be two values using 'range' sample style. Got [640, 672, 704, 736, 768, 800]!\n",
      "Failed 000000152740.jpg: short_edge_length must be two values using 'range' sample style. Got [640, 672, 704, 736, 768, 800]!\n"
     ]
    },
    {
     "name": "stderr",
     "output_type": "stream",
     "text": [
      "\r",
      "Extracting features:  26%|██████████████▊                                          | 1295/5000 [00:33<01:54, 32.49it/s]"
     ]
    },
    {
     "name": "stdout",
     "output_type": "stream",
     "text": [
      "Failed 000000152771.jpg: short_edge_length must be two values using 'range' sample style. Got [640, 672, 704, 736, 768, 800]!\n",
      "Failed 000000152870.jpg: short_edge_length must be two values using 'range' sample style. Got [640, 672, 704, 736, 768, 800]!\n",
      "Failed 000000153011.jpg: short_edge_length must be two values using 'range' sample style. Got [640, 672, 704, 736, 768, 800]!\n",
      "Failed 000000153217.jpg: short_edge_length must be two values using 'range' sample style. Got [640, 672, 704, 736, 768, 800]!\n",
      "Failed 000000153229.jpg: short_edge_length must be two values using 'range' sample style. Got [640, 672, 704, 736, 768, 800]!\n",
      "Failed 000000153299.jpg: short_edge_length must be two values using 'range' sample style. Got [640, 672, 704, 736, 768, 800]!\n"
     ]
    },
    {
     "name": "stderr",
     "output_type": "stream",
     "text": [
      "Extracting features:  26%|██████████████▊                                          | 1303/5000 [00:34<01:58, 31.27it/s]"
     ]
    },
    {
     "name": "stdout",
     "output_type": "stream",
     "text": [
      "Failed 000000153343.jpg: short_edge_length must be two values using 'range' sample style. Got [640, 672, 704, 736, 768, 800]!\n",
      "Failed 000000153510.jpg: short_edge_length must be two values using 'range' sample style. Got [640, 672, 704, 736, 768, 800]!\n",
      "Failed 000000153527.jpg: short_edge_length must be two values using 'range' sample style. Got [640, 672, 704, 736, 768, 800]!\n",
      "Failed 000000153529.jpg: short_edge_length must be two values using 'range' sample style. Got [640, 672, 704, 736, 768, 800]!\n",
      "Failed 000000153568.jpg: short_edge_length must be two values using 'range' sample style. Got [640, 672, 704, 736, 768, 800]!\n",
      "Failed 000000153632.jpg: short_edge_length must be two values using 'range' sample style. Got [640, 672, 704, 736, 768, 800]!\n",
      "Failed 000000153669.jpg: short_edge_length must be two values using 'range' sample style. Got [640, 672, 704, 736, 768, 800]!\n"
     ]
    },
    {
     "name": "stderr",
     "output_type": "stream",
     "text": [
      "Extracting features:  26%|██████████████▉                                          | 1311/5000 [00:34<01:48, 34.12it/s]"
     ]
    },
    {
     "name": "stdout",
     "output_type": "stream",
     "text": [
      "Failed 000000153782.jpg: short_edge_length must be two values using 'range' sample style. Got [640, 672, 704, 736, 768, 800]!\n",
      "Failed 000000153797.jpg: short_edge_length must be two values using 'range' sample style. Got [640, 672, 704, 736, 768, 800]!\n",
      "Failed 000000154000.jpg: short_edge_length must be two values using 'range' sample style. Got [640, 672, 704, 736, 768, 800]!\n",
      "Failed 000000154004.jpg: short_edge_length must be two values using 'range' sample style. Got [640, 672, 704, 736, 768, 800]!\n",
      "Failed 000000154087.jpg: short_edge_length must be two values using 'range' sample style. Got [640, 672, 704, 736, 768, 800]!\n",
      "Failed 000000154213.jpg: short_edge_length must be two values using 'range' sample style. Got [640, 672, 704, 736, 768, 800]!\n",
      "Failed 000000154339.jpg: short_edge_length must be two values using 'range' sample style. Got [640, 672, 704, 736, 768, 800]!\n",
      "Failed 000000154358.jpg: short_edge_length must be two values using 'range' sample style. Got [640, 672, 704, 736, 768, 800]!\n"
     ]
    },
    {
     "name": "stderr",
     "output_type": "stream",
     "text": [
      "Extracting features:  26%|███████████████                                          | 1319/5000 [00:34<01:46, 34.71it/s]"
     ]
    },
    {
     "name": "stdout",
     "output_type": "stream",
     "text": [
      "Failed 000000154425.jpg: short_edge_length must be two values using 'range' sample style. Got [640, 672, 704, 736, 768, 800]!\n",
      "Failed 000000154431.jpg: short_edge_length must be two values using 'range' sample style. Got [640, 672, 704, 736, 768, 800]!\n",
      "Failed 000000154644.jpg: short_edge_length must be two values using 'range' sample style. Got [640, 672, 704, 736, 768, 800]!\n",
      "Failed 000000154705.jpg: short_edge_length must be two values using 'range' sample style. Got [640, 672, 704, 736, 768, 800]!\n",
      "Failed 000000154718.jpg: short_edge_length must be two values using 'range' sample style. Got [640, 672, 704, 736, 768, 800]!\n",
      "Failed 000000154947.jpg: short_edge_length must be two values using 'range' sample style. Got [640, 672, 704, 736, 768, 800]!\n",
      "Failed 000000155051.jpg: short_edge_length must be two values using 'range' sample style. Got [640, 672, 704, 736, 768, 800]!\n",
      "Failed 000000155145.jpg: short_edge_length must be two values using 'range' sample style. Got [640, 672, 704, 736, 768, 800]!\n",
      "Failed 000000155154.jpg: short_edge_length must be two values using 'range' sample style. Got [640, 672, 704, 736, 768, 800]!\n"
     ]
    },
    {
     "name": "stderr",
     "output_type": "stream",
     "text": [
      "Extracting features:  27%|███████████████▏                                         | 1329/5000 [00:34<01:42, 35.89it/s]"
     ]
    },
    {
     "name": "stdout",
     "output_type": "stream",
     "text": [
      "Failed 000000155179.jpg: short_edge_length must be two values using 'range' sample style. Got [640, 672, 704, 736, 768, 800]!\n",
      "Failed 000000155291.jpg: short_edge_length must be two values using 'range' sample style. Got [640, 672, 704, 736, 768, 800]!\n",
      "Failed 000000155341.jpg: short_edge_length must be two values using 'range' sample style. Got [640, 672, 704, 736, 768, 800]!\n",
      "Failed 000000155443.jpg: short_edge_length must be two values using 'range' sample style. Got [640, 672, 704, 736, 768, 800]!\n",
      "Failed 000000155451.jpg: short_edge_length must be two values using 'range' sample style. Got [640, 672, 704, 736, 768, 800]!\n",
      "Failed 000000155571.jpg: short_edge_length must be two values using 'range' sample style. Got [640, 672, 704, 736, 768, 800]!\n",
      "Failed 000000156071.jpg: short_edge_length must be two values using 'range' sample style. Got [640, 672, 704, 736, 768, 800]!\n"
     ]
    },
    {
     "name": "stderr",
     "output_type": "stream",
     "text": [
      "\r",
      "Extracting features:  27%|███████████████▏                                         | 1334/5000 [00:34<01:40, 36.60it/s]"
     ]
    },
    {
     "name": "stdout",
     "output_type": "stream",
     "text": [
      "Failed 000000156076.jpg: short_edge_length must be two values using 'range' sample style. Got [640, 672, 704, 736, 768, 800]!\n",
      "Failed 000000156278.jpg: short_edge_length must be two values using 'range' sample style. Got [640, 672, 704, 736, 768, 800]!\n",
      "Failed 000000156292.jpg: short_edge_length must be two values using 'range' sample style. Got [640, 672, 704, 736, 768, 800]!\n",
      "Failed 000000156372.jpg: short_edge_length must be two values using 'range' sample style. Got [640, 672, 704, 736, 768, 800]!\n",
      "Failed 000000156643.jpg: short_edge_length must be two values using 'range' sample style. Got [640, 672, 704, 736, 768, 800]!\n",
      "Failed 000000156924.jpg: short_edge_length must be two values using 'range' sample style. Got [640, 672, 704, 736, 768, 800]!\n",
      "Failed 000000157046.jpg: short_edge_length must be two values using 'range' sample style. Got [640, 672, 704, 736, 768, 800]!\n",
      "Failed 000000157098.jpg: short_edge_length must be two values using 'range' sample style. Got [640, 672, 704, 736, 768, 800]!\n"
     ]
    },
    {
     "name": "stderr",
     "output_type": "stream",
     "text": [
      "Extracting features:  27%|███████████████▎                                         | 1342/5000 [00:35<01:41, 36.18it/s]"
     ]
    },
    {
     "name": "stdout",
     "output_type": "stream",
     "text": [
      "Failed 000000157124.jpg: short_edge_length must be two values using 'range' sample style. Got [640, 672, 704, 736, 768, 800]!\n",
      "Failed 000000157138.jpg: short_edge_length must be two values using 'range' sample style. Got [640, 672, 704, 736, 768, 800]!\n",
      "Failed 000000157213.jpg: short_edge_length must be two values using 'range' sample style. Got [640, 672, 704, 736, 768, 800]!\n",
      "Failed 000000157365.jpg: short_edge_length must be two values using 'range' sample style. Got [640, 672, 704, 736, 768, 800]!\n",
      "Failed 000000157390.jpg: short_edge_length must be two values using 'range' sample style. Got [640, 672, 704, 736, 768, 800]!\n",
      "Failed 000000157418.jpg: short_edge_length must be two values using 'range' sample style. Got [640, 672, 704, 736, 768, 800]!\n",
      "Failed 000000157601.jpg: short_edge_length must be two values using 'range' sample style. Got [640, 672, 704, 736, 768, 800]!\n",
      "Failed 000000157756.jpg: short_edge_length must be two values using 'range' sample style. Got [640, 672, 704, 736, 768, 800]!\n"
     ]
    },
    {
     "name": "stderr",
     "output_type": "stream",
     "text": [
      "Extracting features:  27%|███████████████▍                                         | 1351/5000 [00:35<01:38, 37.06it/s]"
     ]
    },
    {
     "name": "stdout",
     "output_type": "stream",
     "text": [
      "Failed 000000157767.jpg: short_edge_length must be two values using 'range' sample style. Got [640, 672, 704, 736, 768, 800]!\n",
      "Failed 000000157807.jpg: short_edge_length must be two values using 'range' sample style. Got [640, 672, 704, 736, 768, 800]!\n",
      "Failed 000000157847.jpg: short_edge_length must be two values using 'range' sample style. Got [640, 672, 704, 736, 768, 800]!\n",
      "Failed 000000157928.jpg: short_edge_length must be two values using 'range' sample style. Got [640, 672, 704, 736, 768, 800]!\n",
      "Failed 000000158227.jpg: short_edge_length must be two values using 'range' sample style. Got [640, 672, 704, 736, 768, 800]!\n",
      "Failed 000000158548.jpg: short_edge_length must be two values using 'range' sample style. Got [640, 672, 704, 736, 768, 800]!\n",
      "Failed 000000158660.jpg: short_edge_length must be two values using 'range' sample style. Got [640, 672, 704, 736, 768, 800]!\n",
      "Failed 000000158744.jpg: short_edge_length must be two values using 'range' sample style. Got [640, 672, 704, 736, 768, 800]!\n"
     ]
    },
    {
     "name": "stderr",
     "output_type": "stream",
     "text": [
      "Extracting features:  27%|███████████████▌                                         | 1360/5000 [00:35<01:40, 36.04it/s]"
     ]
    },
    {
     "name": "stdout",
     "output_type": "stream",
     "text": [
      "Failed 000000158945.jpg: short_edge_length must be two values using 'range' sample style. Got [640, 672, 704, 736, 768, 800]!\n",
      "Failed 000000158956.jpg: short_edge_length must be two values using 'range' sample style. Got [640, 672, 704, 736, 768, 800]!\n",
      "Failed 000000159112.jpg: short_edge_length must be two values using 'range' sample style. Got [640, 672, 704, 736, 768, 800]!\n",
      "Failed 000000159282.jpg: short_edge_length must be two values using 'range' sample style. Got [640, 672, 704, 736, 768, 800]!\n",
      "Failed 000000159311.jpg: short_edge_length must be two values using 'range' sample style. Got [640, 672, 704, 736, 768, 800]!\n",
      "Failed 000000159399.jpg: short_edge_length must be two values using 'range' sample style. Got [640, 672, 704, 736, 768, 800]!\n",
      "Failed 000000159458.jpg: short_edge_length must be two values using 'range' sample style. Got [640, 672, 704, 736, 768, 800]!\n",
      "Failed 000000159684.jpg: short_edge_length must be two values using 'range' sample style. Got [640, 672, 704, 736, 768, 800]!\n",
      "Failed 000000159791.jpg: short_edge_length must be two values using 'range' sample style. Got [640, 672, 704, 736, 768, 800]!\n"
     ]
    },
    {
     "name": "stderr",
     "output_type": "stream",
     "text": [
      "Extracting features:  27%|███████████████▌                                         | 1369/5000 [00:35<01:34, 38.23it/s]"
     ]
    },
    {
     "name": "stdout",
     "output_type": "stream",
     "text": [
      "Failed 000000159977.jpg: short_edge_length must be two values using 'range' sample style. Got [640, 672, 704, 736, 768, 800]!\n",
      "Failed 000000160012.jpg: short_edge_length must be two values using 'range' sample style. Got [640, 672, 704, 736, 768, 800]!\n",
      "Failed 000000160556.jpg: short_edge_length must be two values using 'range' sample style. Got [640, 672, 704, 736, 768, 800]!\n",
      "Failed 000000160666.jpg: short_edge_length must be two values using 'range' sample style. Got [640, 672, 704, 736, 768, 800]!\n",
      "Failed 000000160728.jpg: short_edge_length must be two values using 'range' sample style. Got [640, 672, 704, 736, 768, 800]!\n",
      "Failed 000000160772.jpg: short_edge_length must be two values using 'range' sample style. Got [640, 672, 704, 736, 768, 800]!\n",
      "Failed 000000160864.jpg: short_edge_length must be two values using 'range' sample style. Got [640, 672, 704, 736, 768, 800]!\n",
      "Failed 000000161008.jpg: short_edge_length must be two values using 'range' sample style. Got [640, 672, 704, 736, 768, 800]!\n"
     ]
    },
    {
     "name": "stderr",
     "output_type": "stream",
     "text": [
      "Extracting features:  28%|███████████████▋                                         | 1378/5000 [00:36<01:34, 38.53it/s]"
     ]
    },
    {
     "name": "stdout",
     "output_type": "stream",
     "text": [
      "Failed 000000161032.jpg: short_edge_length must be two values using 'range' sample style. Got [640, 672, 704, 736, 768, 800]!\n",
      "Failed 000000161044.jpg: short_edge_length must be two values using 'range' sample style. Got [640, 672, 704, 736, 768, 800]!\n",
      "Failed 000000161128.jpg: short_edge_length must be two values using 'range' sample style. Got [640, 672, 704, 736, 768, 800]!\n",
      "Failed 000000161397.jpg: short_edge_length must be two values using 'range' sample style. Got [640, 672, 704, 736, 768, 800]!\n",
      "Failed 000000161609.jpg: short_edge_length must be two values using 'range' sample style. Got [640, 672, 704, 736, 768, 800]!\n",
      "Failed 000000161642.jpg: short_edge_length must be two values using 'range' sample style. Got [640, 672, 704, 736, 768, 800]!\n",
      "Failed 000000161781.jpg: short_edge_length must be two values using 'range' sample style. Got [640, 672, 704, 736, 768, 800]!\n",
      "Failed 000000161799.jpg: short_edge_length must be two values using 'range' sample style. Got [640, 672, 704, 736, 768, 800]!\n"
     ]
    },
    {
     "name": "stderr",
     "output_type": "stream",
     "text": [
      "Extracting features:  28%|███████████████▊                                         | 1386/5000 [00:36<01:37, 37.02it/s]"
     ]
    },
    {
     "name": "stdout",
     "output_type": "stream",
     "text": [
      "Failed 000000161820.jpg: short_edge_length must be two values using 'range' sample style. Got [640, 672, 704, 736, 768, 800]!\n",
      "Failed 000000161861.jpg: short_edge_length must be two values using 'range' sample style. Got [640, 672, 704, 736, 768, 800]!\n",
      "Failed 000000161875.jpg: short_edge_length must be two values using 'range' sample style. Got [640, 672, 704, 736, 768, 800]!\n",
      "Failed 000000161879.jpg: short_edge_length must be two values using 'range' sample style. Got [640, 672, 704, 736, 768, 800]!\n",
      "Failed 000000161925.jpg: short_edge_length must be two values using 'range' sample style. Got [640, 672, 704, 736, 768, 800]!\n",
      "Failed 000000161978.jpg: short_edge_length must be two values using 'range' sample style. Got [640, 672, 704, 736, 768, 800]!\n",
      "Failed 000000162035.jpg: short_edge_length must be two values using 'range' sample style. Got [640, 672, 704, 736, 768, 800]!\n",
      "Failed 000000162092.jpg: short_edge_length must be two values using 'range' sample style. Got [640, 672, 704, 736, 768, 800]!\n"
     ]
    },
    {
     "name": "stderr",
     "output_type": "stream",
     "text": [
      "\r",
      "Extracting features:  28%|███████████████▊                                         | 1391/5000 [00:36<01:34, 38.01it/s]"
     ]
    },
    {
     "name": "stdout",
     "output_type": "stream",
     "text": [
      "Failed 000000162130.jpg: short_edge_length must be two values using 'range' sample style. Got [640, 672, 704, 736, 768, 800]!\n",
      "Failed 000000162366.jpg: short_edge_length must be two values using 'range' sample style. Got [640, 672, 704, 736, 768, 800]!\n",
      "Failed 000000162415.jpg: short_edge_length must be two values using 'range' sample style. Got [640, 672, 704, 736, 768, 800]!\n",
      "Failed 000000162543.jpg: short_edge_length must be two values using 'range' sample style. Got [640, 672, 704, 736, 768, 800]!\n",
      "Failed 000000162581.jpg: short_edge_length must be two values using 'range' sample style. Got [640, 672, 704, 736, 768, 800]!\n",
      "Failed 000000162732.jpg: short_edge_length must be two values using 'range' sample style. Got [640, 672, 704, 736, 768, 800]!\n",
      "Failed 000000162858.jpg: short_edge_length must be two values using 'range' sample style. Got [640, 672, 704, 736, 768, 800]!\n",
      "Failed 000000163057.jpg: short_edge_length must be two values using 'range' sample style. Got [640, 672, 704, 736, 768, 800]!\n"
     ]
    },
    {
     "name": "stderr",
     "output_type": "stream",
     "text": [
      "Extracting features:  28%|███████████████▉                                         | 1399/5000 [00:36<01:37, 36.79it/s]"
     ]
    },
    {
     "name": "stdout",
     "output_type": "stream",
     "text": [
      "Failed 000000163117.jpg: short_edge_length must be two values using 'range' sample style. Got [640, 672, 704, 736, 768, 800]!\n",
      "Failed 000000163118.jpg: short_edge_length must be two values using 'range' sample style. Got [640, 672, 704, 736, 768, 800]!\n",
      "Failed 000000163155.jpg: short_edge_length must be two values using 'range' sample style. Got [640, 672, 704, 736, 768, 800]!\n",
      "Failed 000000163257.jpg: short_edge_length must be two values using 'range' sample style. Got [640, 672, 704, 736, 768, 800]!\n",
      "Failed 000000163258.jpg: short_edge_length must be two values using 'range' sample style. Got [640, 672, 704, 736, 768, 800]!\n",
      "Failed 000000163290.jpg: short_edge_length must be two values using 'range' sample style. Got [640, 672, 704, 736, 768, 800]!\n",
      "Failed 000000163314.jpg: short_edge_length must be two values using 'range' sample style. Got [640, 672, 704, 736, 768, 800]!\n",
      "Failed 000000163562.jpg: short_edge_length must be two values using 'range' sample style. Got [640, 672, 704, 736, 768, 800]!\n"
     ]
    },
    {
     "name": "stderr",
     "output_type": "stream",
     "text": [
      "Extracting features:  28%|████████████████                                         | 1408/5000 [00:36<01:37, 37.00it/s]"
     ]
    },
    {
     "name": "stdout",
     "output_type": "stream",
     "text": [
      "Failed 000000163611.jpg: short_edge_length must be two values using 'range' sample style. Got [640, 672, 704, 736, 768, 800]!\n",
      "Failed 000000163640.jpg: short_edge_length must be two values using 'range' sample style. Got [640, 672, 704, 736, 768, 800]!\n",
      "Failed 000000163682.jpg: short_edge_length must be two values using 'range' sample style. Got [640, 672, 704, 736, 768, 800]!\n",
      "Failed 000000163746.jpg: short_edge_length must be two values using 'range' sample style. Got [640, 672, 704, 736, 768, 800]!\n",
      "Failed 000000163951.jpg: short_edge_length must be two values using 'range' sample style. Got [640, 672, 704, 736, 768, 800]!\n",
      "Failed 000000164115.jpg: short_edge_length must be two values using 'range' sample style. Got [640, 672, 704, 736, 768, 800]!\n",
      "Failed 000000164363.jpg: short_edge_length must be two values using 'range' sample style. Got [640, 672, 704, 736, 768, 800]!\n"
     ]
    },
    {
     "name": "stderr",
     "output_type": "stream",
     "text": [
      "Extracting features:  28%|████████████████▏                                        | 1417/5000 [00:37<01:42, 34.89it/s]"
     ]
    },
    {
     "name": "stdout",
     "output_type": "stream",
     "text": [
      "Failed 000000164602.jpg: short_edge_length must be two values using 'range' sample style. Got [640, 672, 704, 736, 768, 800]!\n",
      "Failed 000000164637.jpg: short_edge_length must be two values using 'range' sample style. Got [640, 672, 704, 736, 768, 800]!\n",
      "Failed 000000164883.jpg: short_edge_length must be two values using 'range' sample style. Got [640, 672, 704, 736, 768, 800]!\n",
      "Failed 000000164885.jpg: short_edge_length must be two values using 'range' sample style. Got [640, 672, 704, 736, 768, 800]!\n",
      "Failed 000000164969.jpg: short_edge_length must be two values using 'range' sample style. Got [640, 672, 704, 736, 768, 800]!\n",
      "Failed 000000165039.jpg: short_edge_length must be two values using 'range' sample style. Got [640, 672, 704, 736, 768, 800]!\n",
      "Failed 000000165257.jpg: short_edge_length must be two values using 'range' sample style. Got [640, 672, 704, 736, 768, 800]!\n",
      "Failed 000000165336.jpg: short_edge_length must be two values using 'range' sample style. Got [640, 672, 704, 736, 768, 800]!\n"
     ]
    },
    {
     "name": "stderr",
     "output_type": "stream",
     "text": [
      "\r",
      "Extracting features:  28%|████████████████▏                                        | 1421/5000 [00:37<01:49, 32.83it/s]"
     ]
    },
    {
     "name": "stdout",
     "output_type": "stream",
     "text": [
      "Failed 000000165351.jpg: short_edge_length must be two values using 'range' sample style. Got [640, 672, 704, 736, 768, 800]!\n",
      "Failed 000000165500.jpg: short_edge_length must be two values using 'range' sample style. Got [640, 672, 704, 736, 768, 800]!\n",
      "Failed 000000165518.jpg: short_edge_length must be two values using 'range' sample style. Got [640, 672, 704, 736, 768, 800]!\n",
      "Failed 000000165681.jpg: short_edge_length must be two values using 'range' sample style. Got [640, 672, 704, 736, 768, 800]!\n",
      "Failed 000000165713.jpg: short_edge_length must be two values using 'range' sample style. Got [640, 672, 704, 736, 768, 800]!\n",
      "Failed 000000165831.jpg: short_edge_length must be two values using 'range' sample style. Got [640, 672, 704, 736, 768, 800]!\n"
     ]
    },
    {
     "name": "stderr",
     "output_type": "stream",
     "text": [
      "Extracting features:  29%|████████████████▎                                        | 1429/5000 [00:37<01:48, 32.90it/s]"
     ]
    },
    {
     "name": "stdout",
     "output_type": "stream",
     "text": [
      "Failed 000000166165.jpg: short_edge_length must be two values using 'range' sample style. Got [640, 672, 704, 736, 768, 800]!\n",
      "Failed 000000166166.jpg: short_edge_length must be two values using 'range' sample style. Got [640, 672, 704, 736, 768, 800]!\n",
      "Failed 000000166259.jpg: short_edge_length must be two values using 'range' sample style. Got [640, 672, 704, 736, 768, 800]!\n",
      "Failed 000000166277.jpg: short_edge_length must be two values using 'range' sample style. Got [640, 672, 704, 736, 768, 800]!\n",
      "Failed 000000166287.jpg: short_edge_length must be two values using 'range' sample style. Got [640, 672, 704, 736, 768, 800]!\n",
      "Failed 000000166391.jpg: short_edge_length must be two values using 'range' sample style. Got [640, 672, 704, 736, 768, 800]!\n",
      "Failed 000000166426.jpg: short_edge_length must be two values using 'range' sample style. Got [640, 672, 704, 736, 768, 800]!\n",
      "Failed 000000166478.jpg: short_edge_length must be two values using 'range' sample style. Got [640, 672, 704, 736, 768, 800]!\n"
     ]
    },
    {
     "name": "stderr",
     "output_type": "stream",
     "text": [
      "Extracting features:  29%|████████████████▍                                        | 1437/5000 [00:37<01:51, 32.05it/s]"
     ]
    },
    {
     "name": "stdout",
     "output_type": "stream",
     "text": [
      "Failed 000000166509.jpg: short_edge_length must be two values using 'range' sample style. Got [640, 672, 704, 736, 768, 800]!\n",
      "Failed 000000166521.jpg: short_edge_length must be two values using 'range' sample style. Got [640, 672, 704, 736, 768, 800]!\n",
      "Failed 000000166563.jpg: short_edge_length must be two values using 'range' sample style. Got [640, 672, 704, 736, 768, 800]!\n",
      "Failed 000000166642.jpg: short_edge_length must be two values using 'range' sample style. Got [640, 672, 704, 736, 768, 800]!\n",
      "Failed 000000166664.jpg: short_edge_length must be two values using 'range' sample style. Got [640, 672, 704, 736, 768, 800]!\n",
      "Failed 000000166747.jpg: short_edge_length must be two values using 'range' sample style. Got [640, 672, 704, 736, 768, 800]!\n",
      "Failed 000000166768.jpg: short_edge_length must be two values using 'range' sample style. Got [640, 672, 704, 736, 768, 800]!\n"
     ]
    },
    {
     "name": "stderr",
     "output_type": "stream",
     "text": [
      "Extracting features:  29%|████████████████▍                                        | 1446/5000 [00:38<01:42, 34.80it/s]"
     ]
    },
    {
     "name": "stdout",
     "output_type": "stream",
     "text": [
      "Failed 000000166918.jpg: short_edge_length must be two values using 'range' sample style. Got [640, 672, 704, 736, 768, 800]!\n",
      "Failed 000000167067.jpg: short_edge_length must be two values using 'range' sample style. Got [640, 672, 704, 736, 768, 800]!\n",
      "Failed 000000167122.jpg: short_edge_length must be two values using 'range' sample style. Got [640, 672, 704, 736, 768, 800]!\n",
      "Failed 000000167128.jpg: short_edge_length must be two values using 'range' sample style. Got [640, 672, 704, 736, 768, 800]!\n",
      "Failed 000000167159.jpg: short_edge_length must be two values using 'range' sample style. Got [640, 672, 704, 736, 768, 800]!\n",
      "Failed 000000167240.jpg: short_edge_length must be two values using 'range' sample style. Got [640, 672, 704, 736, 768, 800]!\n",
      "Failed 000000167353.jpg: short_edge_length must be two values using 'range' sample style. Got [640, 672, 704, 736, 768, 800]!\n",
      "Failed 000000167486.jpg: short_edge_length must be two values using 'range' sample style. Got [640, 672, 704, 736, 768, 800]!\n"
     ]
    },
    {
     "name": "stderr",
     "output_type": "stream",
     "text": [
      "Extracting features:  29%|████████████████▌                                        | 1454/5000 [00:38<01:39, 35.71it/s]"
     ]
    },
    {
     "name": "stdout",
     "output_type": "stream",
     "text": [
      "Failed 000000167540.jpg: short_edge_length must be two values using 'range' sample style. Got [640, 672, 704, 736, 768, 800]!\n",
      "Failed 000000167572.jpg: short_edge_length must be two values using 'range' sample style. Got [640, 672, 704, 736, 768, 800]!\n",
      "Failed 000000167898.jpg: short_edge_length must be two values using 'range' sample style. Got [640, 672, 704, 736, 768, 800]!\n",
      "Failed 000000167902.jpg: short_edge_length must be two values using 'range' sample style. Got [640, 672, 704, 736, 768, 800]!\n",
      "Failed 000000168330.jpg: short_edge_length must be two values using 'range' sample style. Got [640, 672, 704, 736, 768, 800]!\n",
      "Failed 000000168337.jpg: short_edge_length must be two values using 'range' sample style. Got [640, 672, 704, 736, 768, 800]!\n",
      "Failed 000000168458.jpg: short_edge_length must be two values using 'range' sample style. Got [640, 672, 704, 736, 768, 800]!\n",
      "Failed 000000168593.jpg: short_edge_length must be two values using 'range' sample style. Got [640, 672, 704, 736, 768, 800]!\n"
     ]
    },
    {
     "name": "stderr",
     "output_type": "stream",
     "text": [
      "\r",
      "Extracting features:  29%|████████████████▌                                        | 1458/5000 [00:38<01:40, 35.39it/s]"
     ]
    },
    {
     "name": "stdout",
     "output_type": "stream",
     "text": [
      "Failed 000000168619.jpg: short_edge_length must be two values using 'range' sample style. Got [640, 672, 704, 736, 768, 800]!\n",
      "Failed 000000168883.jpg: short_edge_length must be two values using 'range' sample style. Got [640, 672, 704, 736, 768, 800]!\n",
      "Failed 000000168974.jpg: short_edge_length must be two values using 'range' sample style. Got [640, 672, 704, 736, 768, 800]!\n",
      "Failed 000000169076.jpg: short_edge_length must be two values using 'range' sample style. Got [640, 672, 704, 736, 768, 800]!\n",
      "Failed 000000169169.jpg: short_edge_length must be two values using 'range' sample style. Got [640, 672, 704, 736, 768, 800]!\n",
      "Failed 000000169356.jpg: short_edge_length must be two values using 'range' sample style. Got [640, 672, 704, 736, 768, 800]!\n",
      "Failed 000000169996.jpg: short_edge_length must be two values using 'range' sample style. Got [640, 672, 704, 736, 768, 800]!\n"
     ]
    },
    {
     "name": "stderr",
     "output_type": "stream",
     "text": [
      "Extracting features:  29%|████████████████▋                                        | 1466/5000 [00:38<01:38, 35.87it/s]"
     ]
    },
    {
     "name": "stdout",
     "output_type": "stream",
     "text": [
      "Failed 000000170099.jpg: short_edge_length must be two values using 'range' sample style. Got [640, 672, 704, 736, 768, 800]!\n",
      "Failed 000000170116.jpg: short_edge_length must be two values using 'range' sample style. Got [640, 672, 704, 736, 768, 800]!\n",
      "Failed 000000170191.jpg: short_edge_length must be two values using 'range' sample style. Got [640, 672, 704, 736, 768, 800]!\n",
      "Failed 000000170278.jpg: short_edge_length must be two values using 'range' sample style. Got [640, 672, 704, 736, 768, 800]!\n",
      "Failed 000000170474.jpg: short_edge_length must be two values using 'range' sample style. Got [640, 672, 704, 736, 768, 800]!\n",
      "Failed 000000170545.jpg: short_edge_length must be two values using 'range' sample style. Got [640, 672, 704, 736, 768, 800]!\n",
      "Failed 000000170595.jpg: short_edge_length must be two values using 'range' sample style. Got [640, 672, 704, 736, 768, 800]!\n"
     ]
    },
    {
     "name": "stderr",
     "output_type": "stream",
     "text": [
      "Extracting features:  29%|████████████████▊                                        | 1474/5000 [00:38<01:38, 35.75it/s]"
     ]
    },
    {
     "name": "stdout",
     "output_type": "stream",
     "text": [
      "Failed 000000170613.jpg: short_edge_length must be two values using 'range' sample style. Got [640, 672, 704, 736, 768, 800]!\n",
      "Failed 000000170670.jpg: short_edge_length must be two values using 'range' sample style. Got [640, 672, 704, 736, 768, 800]!\n",
      "Failed 000000170739.jpg: short_edge_length must be two values using 'range' sample style. Got [640, 672, 704, 736, 768, 800]!\n",
      "Failed 000000170893.jpg: short_edge_length must be two values using 'range' sample style. Got [640, 672, 704, 736, 768, 800]!\n",
      "Failed 000000170955.jpg: short_edge_length must be two values using 'range' sample style. Got [640, 672, 704, 736, 768, 800]!\n",
      "Failed 000000171050.jpg: short_edge_length must be two values using 'range' sample style. Got [640, 672, 704, 736, 768, 800]!\n",
      "Failed 000000171190.jpg: short_edge_length must be two values using 'range' sample style. Got [640, 672, 704, 736, 768, 800]!\n",
      "Failed 000000171298.jpg: short_edge_length must be two values using 'range' sample style. Got [640, 672, 704, 736, 768, 800]!\n"
     ]
    },
    {
     "name": "stderr",
     "output_type": "stream",
     "text": [
      "Extracting features:  30%|████████████████▉                                        | 1482/5000 [00:39<01:44, 33.55it/s]"
     ]
    },
    {
     "name": "stdout",
     "output_type": "stream",
     "text": [
      "Failed 000000171382.jpg: short_edge_length must be two values using 'range' sample style. Got [640, 672, 704, 736, 768, 800]!\n",
      "Failed 000000171611.jpg: short_edge_length must be two values using 'range' sample style. Got [640, 672, 704, 736, 768, 800]!\n",
      "Failed 000000171740.jpg: short_edge_length must be two values using 'range' sample style. Got [640, 672, 704, 736, 768, 800]!\n",
      "Failed 000000171757.jpg: short_edge_length must be two values using 'range' sample style. Got [640, 672, 704, 736, 768, 800]!\n",
      "Failed 000000171788.jpg: short_edge_length must be two values using 'range' sample style. Got [640, 672, 704, 736, 768, 800]!\n",
      "Failed 000000172083.jpg: short_edge_length must be two values using 'range' sample style. Got [640, 672, 704, 736, 768, 800]!\n",
      "Failed 000000172330.jpg: short_edge_length must be two values using 'range' sample style. Got [640, 672, 704, 736, 768, 800]!\n",
      "Failed 000000172396.jpg: short_edge_length must be two values using 'range' sample style. Got [640, 672, 704, 736, 768, 800]!\n"
     ]
    },
    {
     "name": "stderr",
     "output_type": "stream",
     "text": [
      "Extracting features:  30%|████████████████▉                                        | 1491/5000 [00:39<01:36, 36.27it/s]"
     ]
    },
    {
     "name": "stdout",
     "output_type": "stream",
     "text": [
      "Failed 000000172547.jpg: short_edge_length must be two values using 'range' sample style. Got [640, 672, 704, 736, 768, 800]!\n",
      "Failed 000000172571.jpg: short_edge_length must be two values using 'range' sample style. Got [640, 672, 704, 736, 768, 800]!\n",
      "Failed 000000172595.jpg: short_edge_length must be two values using 'range' sample style. Got [640, 672, 704, 736, 768, 800]!\n",
      "Failed 000000172617.jpg: short_edge_length must be two values using 'range' sample style. Got [640, 672, 704, 736, 768, 800]!\n",
      "Failed 000000172648.jpg: short_edge_length must be two values using 'range' sample style. Got [640, 672, 704, 736, 768, 800]!\n",
      "Failed 000000172649.jpg: short_edge_length must be two values using 'range' sample style. Got [640, 672, 704, 736, 768, 800]!\n",
      "Failed 000000172856.jpg: short_edge_length must be two values using 'range' sample style. Got [640, 672, 704, 736, 768, 800]!\n",
      "Failed 000000172877.jpg: short_edge_length must be two values using 'range' sample style. Got [640, 672, 704, 736, 768, 800]!\n",
      "Failed 000000172935.jpg: short_edge_length must be two values using 'range' sample style. Got [640, 672, 704, 736, 768, 800]!\n"
     ]
    },
    {
     "name": "stderr",
     "output_type": "stream",
     "text": [
      "Extracting features:  30%|█████████████████                                        | 1499/5000 [00:39<01:40, 34.68it/s]"
     ]
    },
    {
     "name": "stdout",
     "output_type": "stream",
     "text": [
      "Failed 000000172946.jpg: short_edge_length must be two values using 'range' sample style. Got [640, 672, 704, 736, 768, 800]!\n",
      "Failed 000000172977.jpg: short_edge_length must be two values using 'range' sample style. Got [640, 672, 704, 736, 768, 800]!\n",
      "Failed 000000173004.jpg: short_edge_length must be two values using 'range' sample style. Got [640, 672, 704, 736, 768, 800]!\n",
      "Failed 000000173008.jpg: short_edge_length must be two values using 'range' sample style. Got [640, 672, 704, 736, 768, 800]!\n",
      "Failed 000000173033.jpg: short_edge_length must be two values using 'range' sample style. Got [640, 672, 704, 736, 768, 800]!\n",
      "Failed 000000173044.jpg: short_edge_length must be two values using 'range' sample style. Got [640, 672, 704, 736, 768, 800]!\n",
      "Failed 000000173057.jpg: short_edge_length must be two values using 'range' sample style. Got [640, 672, 704, 736, 768, 800]!\n"
     ]
    },
    {
     "name": "stderr",
     "output_type": "stream",
     "text": [
      "Extracting features:  30%|█████████████████▏                                       | 1507/5000 [00:39<01:44, 33.55it/s]"
     ]
    },
    {
     "name": "stdout",
     "output_type": "stream",
     "text": [
      "Failed 000000173091.jpg: short_edge_length must be two values using 'range' sample style. Got [640, 672, 704, 736, 768, 800]!\n",
      "Failed 000000173183.jpg: short_edge_length must be two values using 'range' sample style. Got [640, 672, 704, 736, 768, 800]!\n",
      "Failed 000000173302.jpg: short_edge_length must be two values using 'range' sample style. Got [640, 672, 704, 736, 768, 800]!\n",
      "Failed 000000173371.jpg: short_edge_length must be two values using 'range' sample style. Got [640, 672, 704, 736, 768, 800]!\n",
      "Failed 000000173383.jpg: short_edge_length must be two values using 'range' sample style. Got [640, 672, 704, 736, 768, 800]!\n",
      "Failed 000000173799.jpg: short_edge_length must be two values using 'range' sample style. Got [640, 672, 704, 736, 768, 800]!\n",
      "Failed 000000173830.jpg: short_edge_length must be two values using 'range' sample style. Got [640, 672, 704, 736, 768, 800]!\n"
     ]
    },
    {
     "name": "stderr",
     "output_type": "stream",
     "text": [
      "\r",
      "Extracting features:  30%|█████████████████▏                                       | 1511/5000 [00:39<01:45, 33.10it/s]"
     ]
    },
    {
     "name": "stdout",
     "output_type": "stream",
     "text": [
      "Failed 000000174004.jpg: short_edge_length must be two values using 'range' sample style. Got [640, 672, 704, 736, 768, 800]!\n",
      "Failed 000000174018.jpg: short_edge_length must be two values using 'range' sample style. Got [640, 672, 704, 736, 768, 800]!\n",
      "Failed 000000174123.jpg: short_edge_length must be two values using 'range' sample style. Got [640, 672, 704, 736, 768, 800]!\n",
      "Failed 000000174231.jpg: short_edge_length must be two values using 'range' sample style. Got [640, 672, 704, 736, 768, 800]!\n",
      "Failed 000000174371.jpg: short_edge_length must be two values using 'range' sample style. Got [640, 672, 704, 736, 768, 800]!\n",
      "Failed 000000174482.jpg: short_edge_length must be two values using 'range' sample style. Got [640, 672, 704, 736, 768, 800]!\n",
      "Failed 000000175251.jpg: short_edge_length must be two values using 'range' sample style. Got [640, 672, 704, 736, 768, 800]!\n"
     ]
    },
    {
     "name": "stderr",
     "output_type": "stream",
     "text": [
      "Extracting features:  30%|█████████████████▎                                       | 1519/5000 [00:40<01:45, 33.04it/s]"
     ]
    },
    {
     "name": "stdout",
     "output_type": "stream",
     "text": [
      "Failed 000000175364.jpg: short_edge_length must be two values using 'range' sample style. Got [640, 672, 704, 736, 768, 800]!\n",
      "Failed 000000175387.jpg: short_edge_length must be two values using 'range' sample style. Got [640, 672, 704, 736, 768, 800]!\n",
      "Failed 000000175438.jpg: short_edge_length must be two values using 'range' sample style. Got [640, 672, 704, 736, 768, 800]!\n",
      "Failed 000000175443.jpg: short_edge_length must be two values using 'range' sample style. Got [640, 672, 704, 736, 768, 800]!\n",
      "Failed 000000175535.jpg: short_edge_length must be two values using 'range' sample style. Got [640, 672, 704, 736, 768, 800]!\n",
      "Failed 000000176037.jpg: short_edge_length must be two values using 'range' sample style. Got [640, 672, 704, 736, 768, 800]!\n",
      "Failed 000000176232.jpg: short_edge_length must be two values using 'range' sample style. Got [640, 672, 704, 736, 768, 800]!\n"
     ]
    },
    {
     "name": "stderr",
     "output_type": "stream",
     "text": [
      "Extracting features:  31%|█████████████████▍                                       | 1527/5000 [00:40<01:50, 31.32it/s]"
     ]
    },
    {
     "name": "stdout",
     "output_type": "stream",
     "text": [
      "Failed 000000176446.jpg: short_edge_length must be two values using 'range' sample style. Got [640, 672, 704, 736, 768, 800]!\n",
      "Failed 000000176606.jpg: short_edge_length must be two values using 'range' sample style. Got [640, 672, 704, 736, 768, 800]!\n",
      "Failed 000000176634.jpg: short_edge_length must be two values using 'range' sample style. Got [640, 672, 704, 736, 768, 800]!\n",
      "Failed 000000176701.jpg: short_edge_length must be two values using 'range' sample style. Got [640, 672, 704, 736, 768, 800]!\n",
      "Failed 000000176778.jpg: short_edge_length must be two values using 'range' sample style. Got [640, 672, 704, 736, 768, 800]!\n",
      "Failed 000000176799.jpg: short_edge_length must be two values using 'range' sample style. Got [640, 672, 704, 736, 768, 800]!\n"
     ]
    },
    {
     "name": "stderr",
     "output_type": "stream",
     "text": [
      "Extracting features:  31%|█████████████████▍                                       | 1535/5000 [00:40<01:43, 33.55it/s]"
     ]
    },
    {
     "name": "stdout",
     "output_type": "stream",
     "text": [
      "Failed 000000176847.jpg: short_edge_length must be two values using 'range' sample style. Got [640, 672, 704, 736, 768, 800]!\n",
      "Failed 000000176857.jpg: short_edge_length must be two values using 'range' sample style. Got [640, 672, 704, 736, 768, 800]!\n",
      "Failed 000000176901.jpg: short_edge_length must be two values using 'range' sample style. Got [640, 672, 704, 736, 768, 800]!\n",
      "Failed 000000177015.jpg: short_edge_length must be two values using 'range' sample style. Got [640, 672, 704, 736, 768, 800]!\n",
      "Failed 000000177065.jpg: short_edge_length must be two values using 'range' sample style. Got [640, 672, 704, 736, 768, 800]!\n",
      "Failed 000000177213.jpg: short_edge_length must be two values using 'range' sample style. Got [640, 672, 704, 736, 768, 800]!\n",
      "Failed 000000177357.jpg: short_edge_length must be two values using 'range' sample style. Got [640, 672, 704, 736, 768, 800]!\n",
      "Failed 000000177383.jpg: short_edge_length must be two values using 'range' sample style. Got [640, 672, 704, 736, 768, 800]!\n"
     ]
    },
    {
     "name": "stderr",
     "output_type": "stream",
     "text": [
      "\r",
      "Extracting features:  31%|█████████████████▌                                       | 1539/5000 [00:40<01:58, 29.20it/s]"
     ]
    },
    {
     "name": "stdout",
     "output_type": "stream",
     "text": [
      "Failed 000000177489.jpg: short_edge_length must be two values using 'range' sample style. Got [640, 672, 704, 736, 768, 800]!\n",
      "Failed 000000177539.jpg: short_edge_length must be two values using 'range' sample style. Got [640, 672, 704, 736, 768, 800]!\n",
      "Failed 000000177714.jpg: short_edge_length must be two values using 'range' sample style. Got [640, 672, 704, 736, 768, 800]!\n",
      "Failed 000000177861.jpg: short_edge_length must be two values using 'range' sample style. Got [640, 672, 704, 736, 768, 800]!\n",
      "Failed 000000177893.jpg: short_edge_length must be two values using 'range' sample style. Got [640, 672, 704, 736, 768, 800]!\n"
     ]
    },
    {
     "name": "stderr",
     "output_type": "stream",
     "text": [
      "Extracting features:  31%|█████████████████▋                                       | 1547/5000 [00:41<01:49, 31.59it/s]"
     ]
    },
    {
     "name": "stdout",
     "output_type": "stream",
     "text": [
      "Failed 000000177934.jpg: short_edge_length must be two values using 'range' sample style. Got [640, 672, 704, 736, 768, 800]!\n",
      "Failed 000000177935.jpg: short_edge_length must be two values using 'range' sample style. Got [640, 672, 704, 736, 768, 800]!\n",
      "Failed 000000178028.jpg: short_edge_length must be two values using 'range' sample style. Got [640, 672, 704, 736, 768, 800]!\n",
      "Failed 000000178469.jpg: short_edge_length must be two values using 'range' sample style. Got [640, 672, 704, 736, 768, 800]!\n",
      "Failed 000000178618.jpg: short_edge_length must be two values using 'range' sample style. Got [640, 672, 704, 736, 768, 800]!\n",
      "Failed 000000178744.jpg: short_edge_length must be two values using 'range' sample style. Got [640, 672, 704, 736, 768, 800]!\n",
      "Failed 000000178982.jpg: short_edge_length must be two values using 'range' sample style. Got [640, 672, 704, 736, 768, 800]!\n",
      "Failed 000000179112.jpg: short_edge_length must be two values using 'range' sample style. Got [640, 672, 704, 736, 768, 800]!\n",
      "Failed 000000179141.jpg: short_edge_length must be two values using 'range' sample style. Got [640, 672, 704, 736, 768, 800]!\n"
     ]
    },
    {
     "name": "stderr",
     "output_type": "stream",
     "text": [
      "Extracting features:  31%|█████████████████▋                                       | 1555/5000 [00:41<01:44, 32.82it/s]"
     ]
    },
    {
     "name": "stdout",
     "output_type": "stream",
     "text": [
      "Failed 000000179174.jpg: short_edge_length must be two values using 'range' sample style. Got [640, 672, 704, 736, 768, 800]!\n",
      "Failed 000000179214.jpg: short_edge_length must be two values using 'range' sample style. Got [640, 672, 704, 736, 768, 800]!\n",
      "Failed 000000179265.jpg: short_edge_length must be two values using 'range' sample style. Got [640, 672, 704, 736, 768, 800]!\n",
      "Failed 000000179285.jpg: short_edge_length must be two values using 'range' sample style. Got [640, 672, 704, 736, 768, 800]!\n",
      "Failed 000000179392.jpg: short_edge_length must be two values using 'range' sample style. Got [640, 672, 704, 736, 768, 800]!\n",
      "Failed 000000179487.jpg: short_edge_length must be two values using 'range' sample style. Got [640, 672, 704, 736, 768, 800]!\n",
      "Failed 000000179642.jpg: short_edge_length must be two values using 'range' sample style. Got [640, 672, 704, 736, 768, 800]!\n"
     ]
    },
    {
     "name": "stderr",
     "output_type": "stream",
     "text": [
      "Extracting features:  31%|█████████████████▊                                       | 1563/5000 [00:41<01:39, 34.48it/s]"
     ]
    },
    {
     "name": "stdout",
     "output_type": "stream",
     "text": [
      "Failed 000000179653.jpg: short_edge_length must be two values using 'range' sample style. Got [640, 672, 704, 736, 768, 800]!\n",
      "Failed 000000179765.jpg: short_edge_length must be two values using 'range' sample style. Got [640, 672, 704, 736, 768, 800]!\n",
      "Failed 000000179898.jpg: short_edge_length must be two values using 'range' sample style. Got [640, 672, 704, 736, 768, 800]!\n",
      "Failed 000000180011.jpg: short_edge_length must be two values using 'range' sample style. Got [640, 672, 704, 736, 768, 800]!\n",
      "Failed 000000180101.jpg: short_edge_length must be two values using 'range' sample style. Got [640, 672, 704, 736, 768, 800]!\n",
      "Failed 000000180135.jpg: short_edge_length must be two values using 'range' sample style. Got [640, 672, 704, 736, 768, 800]!\n",
      "Failed 000000180188.jpg: short_edge_length must be two values using 'range' sample style. Got [640, 672, 704, 736, 768, 800]!\n",
      "Failed 000000180296.jpg: short_edge_length must be two values using 'range' sample style. Got [640, 672, 704, 736, 768, 800]!\n",
      "Failed 000000180383.jpg: short_edge_length must be two values using 'range' sample style. Got [640, 672, 704, 736, 768, 800]!\n"
     ]
    },
    {
     "name": "stderr",
     "output_type": "stream",
     "text": [
      "Extracting features:  31%|█████████████████▉                                       | 1572/5000 [00:41<01:37, 35.03it/s]"
     ]
    },
    {
     "name": "stdout",
     "output_type": "stream",
     "text": [
      "Failed 000000180487.jpg: short_edge_length must be two values using 'range' sample style. Got [640, 672, 704, 736, 768, 800]!\n",
      "Failed 000000180560.jpg: short_edge_length must be two values using 'range' sample style. Got [640, 672, 704, 736, 768, 800]!\n",
      "Failed 000000180751.jpg: short_edge_length must be two values using 'range' sample style. Got [640, 672, 704, 736, 768, 800]!\n",
      "Failed 000000180792.jpg: short_edge_length must be two values using 'range' sample style. Got [640, 672, 704, 736, 768, 800]!\n",
      "Failed 000000180798.jpg: short_edge_length must be two values using 'range' sample style. Got [640, 672, 704, 736, 768, 800]!\n",
      "Failed 000000180878.jpg: short_edge_length must be two values using 'range' sample style. Got [640, 672, 704, 736, 768, 800]!\n",
      "Failed 000000181303.jpg: short_edge_length must be two values using 'range' sample style. Got [640, 672, 704, 736, 768, 800]!\n"
     ]
    },
    {
     "name": "stderr",
     "output_type": "stream",
     "text": [
      "\r",
      "Extracting features:  32%|█████████████████▉                                       | 1576/5000 [00:41<01:45, 32.60it/s]"
     ]
    },
    {
     "name": "stdout",
     "output_type": "stream",
     "text": [
      "Failed 000000181421.jpg: short_edge_length must be two values using 'range' sample style. Got [640, 672, 704, 736, 768, 800]!\n",
      "Failed 000000181499.jpg: short_edge_length must be two values using 'range' sample style. Got [640, 672, 704, 736, 768, 800]!\n",
      "Failed 000000181542.jpg: short_edge_length must be two values using 'range' sample style. Got [640, 672, 704, 736, 768, 800]!\n",
      "Failed 000000181666.jpg: short_edge_length must be two values using 'range' sample style. Got [640, 672, 704, 736, 768, 800]!\n",
      "Failed 000000181753.jpg: short_edge_length must be two values using 'range' sample style. Got [640, 672, 704, 736, 768, 800]!\n",
      "Failed 000000181796.jpg: short_edge_length must be two values using 'range' sample style. Got [640, 672, 704, 736, 768, 800]!\n"
     ]
    },
    {
     "name": "stderr",
     "output_type": "stream",
     "text": [
      "Extracting features:  32%|██████████████████                                       | 1584/5000 [00:42<01:48, 31.44it/s]"
     ]
    },
    {
     "name": "stdout",
     "output_type": "stream",
     "text": [
      "Failed 000000181816.jpg: short_edge_length must be two values using 'range' sample style. Got [640, 672, 704, 736, 768, 800]!\n",
      "Failed 000000181859.jpg: short_edge_length must be two values using 'range' sample style. Got [640, 672, 704, 736, 768, 800]!\n",
      "Failed 000000181969.jpg: short_edge_length must be two values using 'range' sample style. Got [640, 672, 704, 736, 768, 800]!\n",
      "Failed 000000182021.jpg: short_edge_length must be two values using 'range' sample style. Got [640, 672, 704, 736, 768, 800]!\n",
      "Failed 000000182155.jpg: short_edge_length must be two values using 'range' sample style. Got [640, 672, 704, 736, 768, 800]!\n",
      "Failed 000000182162.jpg: short_edge_length must be two values using 'range' sample style. Got [640, 672, 704, 736, 768, 800]!\n",
      "Failed 000000182202.jpg: short_edge_length must be two values using 'range' sample style. Got [640, 672, 704, 736, 768, 800]!\n",
      "Failed 000000182417.jpg: short_edge_length must be two values using 'range' sample style. Got [640, 672, 704, 736, 768, 800]!\n"
     ]
    },
    {
     "name": "stderr",
     "output_type": "stream",
     "text": [
      "Extracting features:  32%|██████████████████▏                                      | 1592/5000 [00:42<01:41, 33.57it/s]"
     ]
    },
    {
     "name": "stdout",
     "output_type": "stream",
     "text": [
      "Failed 000000182441.jpg: short_edge_length must be two values using 'range' sample style. Got [640, 672, 704, 736, 768, 800]!\n",
      "Failed 000000182611.jpg: short_edge_length must be two values using 'range' sample style. Got [640, 672, 704, 736, 768, 800]!\n",
      "Failed 000000182805.jpg: short_edge_length must be two values using 'range' sample style. Got [640, 672, 704, 736, 768, 800]!\n",
      "Failed 000000182923.jpg: short_edge_length must be two values using 'range' sample style. Got [640, 672, 704, 736, 768, 800]!\n",
      "Failed 000000183049.jpg: short_edge_length must be two values using 'range' sample style. Got [640, 672, 704, 736, 768, 800]!\n",
      "Failed 000000183104.jpg: short_edge_length must be two values using 'range' sample style. Got [640, 672, 704, 736, 768, 800]!\n",
      "Failed 000000183127.jpg: short_edge_length must be two values using 'range' sample style. Got [640, 672, 704, 736, 768, 800]!\n",
      "Failed 000000183246.jpg: short_edge_length must be two values using 'range' sample style. Got [640, 672, 704, 736, 768, 800]!\n"
     ]
    },
    {
     "name": "stderr",
     "output_type": "stream",
     "text": [
      "Extracting features:  32%|██████████████████▏                                      | 1600/5000 [00:42<01:50, 30.91it/s]"
     ]
    },
    {
     "name": "stdout",
     "output_type": "stream",
     "text": [
      "Failed 000000183391.jpg: short_edge_length must be two values using 'range' sample style. Got [640, 672, 704, 736, 768, 800]!\n",
      "Failed 000000183437.jpg: short_edge_length must be two values using 'range' sample style. Got [640, 672, 704, 736, 768, 800]!\n",
      "Failed 000000183500.jpg: short_edge_length must be two values using 'range' sample style. Got [640, 672, 704, 736, 768, 800]!\n",
      "Failed 000000183648.jpg: short_edge_length must be two values using 'range' sample style. Got [640, 672, 704, 736, 768, 800]!\n",
      "Failed 000000183675.jpg: short_edge_length must be two values using 'range' sample style. Got [640, 672, 704, 736, 768, 800]!\n",
      "Failed 000000183709.jpg: short_edge_length must be two values using 'range' sample style. Got [640, 672, 704, 736, 768, 800]!\n",
      "Failed 000000183716.jpg: short_edge_length must be two values using 'range' sample style. Got [640, 672, 704, 736, 768, 800]!\n"
     ]
    },
    {
     "name": "stderr",
     "output_type": "stream",
     "text": [
      "Extracting features:  32%|██████████████████▎                                      | 1608/5000 [00:42<01:42, 33.05it/s]"
     ]
    },
    {
     "name": "stdout",
     "output_type": "stream",
     "text": [
      "Failed 000000183965.jpg: short_edge_length must be two values using 'range' sample style. Got [640, 672, 704, 736, 768, 800]!\n",
      "Failed 000000184321.jpg: short_edge_length must be two values using 'range' sample style. Got [640, 672, 704, 736, 768, 800]!\n",
      "Failed 000000184324.jpg: short_edge_length must be two values using 'range' sample style. Got [640, 672, 704, 736, 768, 800]!\n",
      "Failed 000000184338.jpg: short_edge_length must be two values using 'range' sample style. Got [640, 672, 704, 736, 768, 800]!\n",
      "Failed 000000184384.jpg: short_edge_length must be two values using 'range' sample style. Got [640, 672, 704, 736, 768, 800]!\n",
      "Failed 000000184400.jpg: short_edge_length must be two values using 'range' sample style. Got [640, 672, 704, 736, 768, 800]!\n",
      "Failed 000000184611.jpg: short_edge_length must be two values using 'range' sample style. Got [640, 672, 704, 736, 768, 800]!\n",
      "Failed 000000184762.jpg: short_edge_length must be two values using 'range' sample style. Got [640, 672, 704, 736, 768, 800]!\n"
     ]
    },
    {
     "name": "stderr",
     "output_type": "stream",
     "text": [
      "Extracting features:  32%|██████████████████▍                                      | 1616/5000 [00:43<01:39, 33.90it/s]"
     ]
    },
    {
     "name": "stdout",
     "output_type": "stream",
     "text": [
      "Failed 000000184791.jpg: short_edge_length must be two values using 'range' sample style. Got [640, 672, 704, 736, 768, 800]!\n",
      "Failed 000000184978.jpg: short_edge_length must be two values using 'range' sample style. Got [640, 672, 704, 736, 768, 800]!\n",
      "Failed 000000185157.jpg: short_edge_length must be two values using 'range' sample style. Got [640, 672, 704, 736, 768, 800]!\n",
      "Failed 000000185250.jpg: short_edge_length must be two values using 'range' sample style. Got [640, 672, 704, 736, 768, 800]!\n",
      "Failed 000000185292.jpg: short_edge_length must be two values using 'range' sample style. Got [640, 672, 704, 736, 768, 800]!\n",
      "Failed 000000185409.jpg: short_edge_length must be two values using 'range' sample style. Got [640, 672, 704, 736, 768, 800]!\n",
      "Failed 000000185472.jpg: short_edge_length must be two values using 'range' sample style. Got [640, 672, 704, 736, 768, 800]!\n"
     ]
    },
    {
     "name": "stderr",
     "output_type": "stream",
     "text": [
      "\r",
      "Extracting features:  32%|██████████████████▍                                      | 1620/5000 [00:43<01:43, 32.61it/s]"
     ]
    },
    {
     "name": "stdout",
     "output_type": "stream",
     "text": [
      "Failed 000000185473.jpg: short_edge_length must be two values using 'range' sample style. Got [640, 672, 704, 736, 768, 800]!\n",
      "Failed 000000185599.jpg: short_edge_length must be two values using 'range' sample style. Got [640, 672, 704, 736, 768, 800]!\n",
      "Failed 000000185802.jpg: short_edge_length must be two values using 'range' sample style. Got [640, 672, 704, 736, 768, 800]!\n",
      "Failed 000000185890.jpg: short_edge_length must be two values using 'range' sample style. Got [640, 672, 704, 736, 768, 800]!\n",
      "Failed 000000185950.jpg: short_edge_length must be two values using 'range' sample style. Got [640, 672, 704, 736, 768, 800]!\n",
      "Failed 000000186042.jpg: short_edge_length must be two values using 'range' sample style. Got [640, 672, 704, 736, 768, 800]!\n",
      "Failed 000000186282.jpg: short_edge_length must be two values using 'range' sample style. Got [640, 672, 704, 736, 768, 800]!\n",
      "Failed 000000186296.jpg: short_edge_length must be two values using 'range' sample style. Got [640, 672, 704, 736, 768, 800]!\n"
     ]
    },
    {
     "name": "stderr",
     "output_type": "stream",
     "text": [
      "Extracting features:  33%|██████████████████▌                                      | 1629/5000 [00:43<01:38, 34.23it/s]"
     ]
    },
    {
     "name": "stdout",
     "output_type": "stream",
     "text": [
      "Failed 000000186345.jpg: short_edge_length must be two values using 'range' sample style. Got [640, 672, 704, 736, 768, 800]!\n",
      "Failed 000000186422.jpg: short_edge_length must be two values using 'range' sample style. Got [640, 672, 704, 736, 768, 800]!\n",
      "Failed 000000186449.jpg: short_edge_length must be two values using 'range' sample style. Got [640, 672, 704, 736, 768, 800]!\n",
      "Failed 000000186624.jpg: short_edge_length must be two values using 'range' sample style. Got [640, 672, 704, 736, 768, 800]!\n",
      "Failed 000000186632.jpg: short_edge_length must be two values using 'range' sample style. Got [640, 672, 704, 736, 768, 800]!\n",
      "Failed 000000186637.jpg: short_edge_length must be two values using 'range' sample style. Got [640, 672, 704, 736, 768, 800]!\n",
      "Failed 000000186873.jpg: short_edge_length must be two values using 'range' sample style. Got [640, 672, 704, 736, 768, 800]!\n",
      "Failed 000000186929.jpg: short_edge_length must be two values using 'range' sample style. Got [640, 672, 704, 736, 768, 800]!\n"
     ]
    },
    {
     "name": "stderr",
     "output_type": "stream",
     "text": [
      "Extracting features:  33%|██████████████████▋                                      | 1637/5000 [00:43<01:37, 34.48it/s]"
     ]
    },
    {
     "name": "stdout",
     "output_type": "stream",
     "text": [
      "Failed 000000186938.jpg: short_edge_length must be two values using 'range' sample style. Got [640, 672, 704, 736, 768, 800]!\n",
      "Failed 000000186980.jpg: short_edge_length must be two values using 'range' sample style. Got [640, 672, 704, 736, 768, 800]!\n",
      "Failed 000000187055.jpg: short_edge_length must be two values using 'range' sample style. Got [640, 672, 704, 736, 768, 800]!\n",
      "Failed 000000187144.jpg: short_edge_length must be two values using 'range' sample style. Got [640, 672, 704, 736, 768, 800]!\n",
      "Failed 000000187236.jpg: short_edge_length must be two values using 'range' sample style. Got [640, 672, 704, 736, 768, 800]!\n",
      "Failed 000000187243.jpg: short_edge_length must be two values using 'range' sample style. Got [640, 672, 704, 736, 768, 800]!\n",
      "Failed 000000187249.jpg: short_edge_length must be two values using 'range' sample style. Got [640, 672, 704, 736, 768, 800]!\n",
      "Failed 000000187271.jpg: short_edge_length must be two values using 'range' sample style. Got [640, 672, 704, 736, 768, 800]!\n"
     ]
    },
    {
     "name": "stderr",
     "output_type": "stream",
     "text": [
      "Extracting features:  33%|██████████████████▊                                      | 1646/5000 [00:44<01:26, 38.68it/s]"
     ]
    },
    {
     "name": "stdout",
     "output_type": "stream",
     "text": [
      "Failed 000000187362.jpg: short_edge_length must be two values using 'range' sample style. Got [640, 672, 704, 736, 768, 800]!\n",
      "Failed 000000187513.jpg: short_edge_length must be two values using 'range' sample style. Got [640, 672, 704, 736, 768, 800]!\n",
      "Failed 000000187585.jpg: short_edge_length must be two values using 'range' sample style. Got [640, 672, 704, 736, 768, 800]!\n",
      "Failed 000000187734.jpg: short_edge_length must be two values using 'range' sample style. Got [640, 672, 704, 736, 768, 800]!\n",
      "Failed 000000187745.jpg: short_edge_length must be two values using 'range' sample style. Got [640, 672, 704, 736, 768, 800]!\n",
      "Failed 000000187990.jpg: short_edge_length must be two values using 'range' sample style. Got [640, 672, 704, 736, 768, 800]!\n",
      "Failed 000000188296.jpg: short_edge_length must be two values using 'range' sample style. Got [640, 672, 704, 736, 768, 800]!\n",
      "Failed 000000188439.jpg: short_edge_length must be two values using 'range' sample style. Got [640, 672, 704, 736, 768, 800]!\n",
      "Failed 000000188465.jpg: short_edge_length must be two values using 'range' sample style. Got [640, 672, 704, 736, 768, 800]!\n"
     ]
    },
    {
     "name": "stderr",
     "output_type": "stream",
     "text": [
      "Extracting features:  33%|██████████████████▊                                      | 1654/5000 [00:44<01:30, 36.89it/s]"
     ]
    },
    {
     "name": "stdout",
     "output_type": "stream",
     "text": [
      "Failed 000000188592.jpg: short_edge_length must be two values using 'range' sample style. Got [640, 672, 704, 736, 768, 800]!\n",
      "Failed 000000188689.jpg: short_edge_length must be two values using 'range' sample style. Got [640, 672, 704, 736, 768, 800]!\n",
      "Failed 000000188906.jpg: short_edge_length must be two values using 'range' sample style. Got [640, 672, 704, 736, 768, 800]!\n",
      "Failed 000000189078.jpg: short_edge_length must be two values using 'range' sample style. Got [640, 672, 704, 736, 768, 800]!\n",
      "Failed 000000189213.jpg: short_edge_length must be two values using 'range' sample style. Got [640, 672, 704, 736, 768, 800]!\n",
      "Failed 000000189226.jpg: short_edge_length must be two values using 'range' sample style. Got [640, 672, 704, 736, 768, 800]!\n",
      "Failed 000000189310.jpg: short_edge_length must be two values using 'range' sample style. Got [640, 672, 704, 736, 768, 800]!\n",
      "Failed 000000189436.jpg: short_edge_length must be two values using 'range' sample style. Got [640, 672, 704, 736, 768, 800]!\n"
     ]
    },
    {
     "name": "stderr",
     "output_type": "stream",
     "text": [
      "Extracting features:  33%|██████████████████▉                                      | 1662/5000 [00:44<01:32, 36.12it/s]"
     ]
    },
    {
     "name": "stdout",
     "output_type": "stream",
     "text": [
      "Failed 000000189451.jpg: short_edge_length must be two values using 'range' sample style. Got [640, 672, 704, 736, 768, 800]!\n",
      "Failed 000000189475.jpg: short_edge_length must be two values using 'range' sample style. Got [640, 672, 704, 736, 768, 800]!\n",
      "Failed 000000189698.jpg: short_edge_length must be two values using 'range' sample style. Got [640, 672, 704, 736, 768, 800]!\n",
      "Failed 000000189752.jpg: short_edge_length must be two values using 'range' sample style. Got [640, 672, 704, 736, 768, 800]!\n",
      "Failed 000000189775.jpg: short_edge_length must be two values using 'range' sample style. Got [640, 672, 704, 736, 768, 800]!\n",
      "Failed 000000189806.jpg: short_edge_length must be two values using 'range' sample style. Got [640, 672, 704, 736, 768, 800]!\n",
      "Failed 000000189820.jpg: short_edge_length must be two values using 'range' sample style. Got [640, 672, 704, 736, 768, 800]!\n"
     ]
    },
    {
     "name": "stderr",
     "output_type": "stream",
     "text": [
      "Extracting features:  33%|███████████████████                                      | 1670/5000 [00:44<01:36, 34.45it/s]"
     ]
    },
    {
     "name": "stdout",
     "output_type": "stream",
     "text": [
      "Failed 000000189828.jpg: short_edge_length must be two values using 'range' sample style. Got [640, 672, 704, 736, 768, 800]!\n",
      "Failed 000000190007.jpg: short_edge_length must be two values using 'range' sample style. Got [640, 672, 704, 736, 768, 800]!\n",
      "Failed 000000190140.jpg: short_edge_length must be two values using 'range' sample style. Got [640, 672, 704, 736, 768, 800]!\n",
      "Failed 000000190236.jpg: short_edge_length must be two values using 'range' sample style. Got [640, 672, 704, 736, 768, 800]!\n",
      "Failed 000000190307.jpg: short_edge_length must be two values using 'range' sample style. Got [640, 672, 704, 736, 768, 800]!\n",
      "Failed 000000190637.jpg: short_edge_length must be two values using 'range' sample style. Got [640, 672, 704, 736, 768, 800]!\n",
      "Failed 000000190648.jpg: short_edge_length must be two values using 'range' sample style. Got [640, 672, 704, 736, 768, 800]!\n",
      "Failed 000000190676.jpg: short_edge_length must be two values using 'range' sample style. Got [640, 672, 704, 736, 768, 800]!\n"
     ]
    },
    {
     "name": "stderr",
     "output_type": "stream",
     "text": [
      "Extracting features:  34%|███████████████████▏                                     | 1678/5000 [00:44<01:31, 36.14it/s]"
     ]
    },
    {
     "name": "stdout",
     "output_type": "stream",
     "text": [
      "Failed 000000190753.jpg: short_edge_length must be two values using 'range' sample style. Got [640, 672, 704, 736, 768, 800]!\n",
      "Failed 000000190756.jpg: short_edge_length must be two values using 'range' sample style. Got [640, 672, 704, 736, 768, 800]!\n",
      "Failed 000000190841.jpg: short_edge_length must be two values using 'range' sample style. Got [640, 672, 704, 736, 768, 800]!\n",
      "Failed 000000190853.jpg: short_edge_length must be two values using 'range' sample style. Got [640, 672, 704, 736, 768, 800]!\n",
      "Failed 000000190923.jpg: short_edge_length must be two values using 'range' sample style. Got [640, 672, 704, 736, 768, 800]!\n",
      "Failed 000000191013.jpg: short_edge_length must be two values using 'range' sample style. Got [640, 672, 704, 736, 768, 800]!\n",
      "Failed 000000191288.jpg: short_edge_length must be two values using 'range' sample style. Got [640, 672, 704, 736, 768, 800]!\n",
      "Failed 000000191471.jpg: short_edge_length must be two values using 'range' sample style. Got [640, 672, 704, 736, 768, 800]!\n"
     ]
    },
    {
     "name": "stderr",
     "output_type": "stream",
     "text": [
      "Extracting features:  34%|███████████████████▏                                     | 1686/5000 [00:45<01:35, 34.68it/s]"
     ]
    },
    {
     "name": "stdout",
     "output_type": "stream",
     "text": [
      "Failed 000000191580.jpg: short_edge_length must be two values using 'range' sample style. Got [640, 672, 704, 736, 768, 800]!\n",
      "Failed 000000191614.jpg: short_edge_length must be two values using 'range' sample style. Got [640, 672, 704, 736, 768, 800]!\n",
      "Failed 000000191672.jpg: short_edge_length must be two values using 'range' sample style. Got [640, 672, 704, 736, 768, 800]!\n",
      "Failed 000000191761.jpg: short_edge_length must be two values using 'range' sample style. Got [640, 672, 704, 736, 768, 800]!\n",
      "Failed 000000191845.jpg: short_edge_length must be two values using 'range' sample style. Got [640, 672, 704, 736, 768, 800]!\n",
      "Failed 000000192047.jpg: short_edge_length must be two values using 'range' sample style. Got [640, 672, 704, 736, 768, 800]!\n",
      "Failed 000000192191.jpg: short_edge_length must be two values using 'range' sample style. Got [640, 672, 704, 736, 768, 800]!\n",
      "Failed 000000192607.jpg: short_edge_length must be two values using 'range' sample style. Got [640, 672, 704, 736, 768, 800]!\n"
     ]
    },
    {
     "name": "stderr",
     "output_type": "stream",
     "text": [
      "Extracting features:  34%|███████████████████▎                                     | 1694/5000 [00:45<01:39, 33.23it/s]"
     ]
    },
    {
     "name": "stdout",
     "output_type": "stream",
     "text": [
      "Failed 000000192670.jpg: short_edge_length must be two values using 'range' sample style. Got [640, 672, 704, 736, 768, 800]!\n",
      "Failed 000000192699.jpg: short_edge_length must be two values using 'range' sample style. Got [640, 672, 704, 736, 768, 800]!\n",
      "Failed 000000192716.jpg: short_edge_length must be two values using 'range' sample style. Got [640, 672, 704, 736, 768, 800]!\n",
      "Failed 000000192871.jpg: short_edge_length must be two values using 'range' sample style. Got [640, 672, 704, 736, 768, 800]!\n",
      "Failed 000000192904.jpg: short_edge_length must be two values using 'range' sample style. Got [640, 672, 704, 736, 768, 800]!\n",
      "Failed 000000192964.jpg: short_edge_length must be two values using 'range' sample style. Got [640, 672, 704, 736, 768, 800]!\n",
      "Failed 000000193162.jpg: short_edge_length must be two values using 'range' sample style. Got [640, 672, 704, 736, 768, 800]!\n"
     ]
    },
    {
     "name": "stderr",
     "output_type": "stream",
     "text": [
      "Extracting features:  34%|███████████████████▍                                     | 1703/5000 [00:45<01:33, 35.19it/s]"
     ]
    },
    {
     "name": "stdout",
     "output_type": "stream",
     "text": [
      "Failed 000000193181.jpg: short_edge_length must be two values using 'range' sample style. Got [640, 672, 704, 736, 768, 800]!\n",
      "Failed 000000193245.jpg: short_edge_length must be two values using 'range' sample style. Got [640, 672, 704, 736, 768, 800]!\n",
      "Failed 000000193348.jpg: short_edge_length must be two values using 'range' sample style. Got [640, 672, 704, 736, 768, 800]!\n",
      "Failed 000000193429.jpg: short_edge_length must be two values using 'range' sample style. Got [640, 672, 704, 736, 768, 800]!\n",
      "Failed 000000193494.jpg: short_edge_length must be two values using 'range' sample style. Got [640, 672, 704, 736, 768, 800]!\n",
      "Failed 000000193674.jpg: short_edge_length must be two values using 'range' sample style. Got [640, 672, 704, 736, 768, 800]!\n",
      "Failed 000000193717.jpg: short_edge_length must be two values using 'range' sample style. Got [640, 672, 704, 736, 768, 800]!\n",
      "Failed 000000193743.jpg: short_edge_length must be two values using 'range' sample style. Got [640, 672, 704, 736, 768, 800]!\n"
     ]
    },
    {
     "name": "stderr",
     "output_type": "stream",
     "text": [
      "\r",
      "Extracting features:  34%|███████████████████▍                                     | 1707/5000 [00:45<01:35, 34.46it/s]"
     ]
    },
    {
     "name": "stdout",
     "output_type": "stream",
     "text": [
      "Failed 000000193884.jpg: short_edge_length must be two values using 'range' sample style. Got [640, 672, 704, 736, 768, 800]!\n",
      "Failed 000000193926.jpg: short_edge_length must be two values using 'range' sample style. Got [640, 672, 704, 736, 768, 800]!\n",
      "Failed 000000194216.jpg: short_edge_length must be two values using 'range' sample style. Got [640, 672, 704, 736, 768, 800]!\n",
      "Failed 000000194471.jpg: short_edge_length must be two values using 'range' sample style. Got [640, 672, 704, 736, 768, 800]!\n",
      "Failed 000000194506.jpg: short_edge_length must be two values using 'range' sample style. Got [640, 672, 704, 736, 768, 800]!\n",
      "Failed 000000194716.jpg: short_edge_length must be two values using 'range' sample style. Got [640, 672, 704, 736, 768, 800]!\n",
      "Failed 000000194724.jpg: short_edge_length must be two values using 'range' sample style. Got [640, 672, 704, 736, 768, 800]!\n"
     ]
    },
    {
     "name": "stderr",
     "output_type": "stream",
     "text": [
      "Extracting features:  34%|███████████████████▌                                     | 1715/5000 [00:45<01:34, 34.71it/s]"
     ]
    },
    {
     "name": "stdout",
     "output_type": "stream",
     "text": [
      "Failed 000000194746.jpg: short_edge_length must be two values using 'range' sample style. Got [640, 672, 704, 736, 768, 800]!\n",
      "Failed 000000194832.jpg: short_edge_length must be two values using 'range' sample style. Got [640, 672, 704, 736, 768, 800]!\n",
      "Failed 000000194875.jpg: short_edge_length must be two values using 'range' sample style. Got [640, 672, 704, 736, 768, 800]!\n",
      "Failed 000000194940.jpg: short_edge_length must be two values using 'range' sample style. Got [640, 672, 704, 736, 768, 800]!\n",
      "Failed 000000195045.jpg: short_edge_length must be two values using 'range' sample style. Got [640, 672, 704, 736, 768, 800]!\n",
      "Failed 000000195165.jpg: short_edge_length must be two values using 'range' sample style. Got [640, 672, 704, 736, 768, 800]!\n",
      "Failed 000000195754.jpg: short_edge_length must be two values using 'range' sample style. Got [640, 672, 704, 736, 768, 800]!\n",
      "Failed 000000195842.jpg: short_edge_length must be two values using 'range' sample style. Got [640, 672, 704, 736, 768, 800]!\n"
     ]
    },
    {
     "name": "stderr",
     "output_type": "stream",
     "text": [
      "Extracting features:  34%|███████████████████▋                                     | 1724/5000 [00:46<01:27, 37.44it/s]"
     ]
    },
    {
     "name": "stdout",
     "output_type": "stream",
     "text": [
      "Failed 000000195918.jpg: short_edge_length must be two values using 'range' sample style. Got [640, 672, 704, 736, 768, 800]!\n",
      "Failed 000000196009.jpg: short_edge_length must be two values using 'range' sample style. Got [640, 672, 704, 736, 768, 800]!\n",
      "Failed 000000196141.jpg: short_edge_length must be two values using 'range' sample style. Got [640, 672, 704, 736, 768, 800]!\n",
      "Failed 000000196185.jpg: short_edge_length must be two values using 'range' sample style. Got [640, 672, 704, 736, 768, 800]!\n",
      "Failed 000000196442.jpg: short_edge_length must be two values using 'range' sample style. Got [640, 672, 704, 736, 768, 800]!\n",
      "Failed 000000196754.jpg: short_edge_length must be two values using 'range' sample style. Got [640, 672, 704, 736, 768, 800]!\n",
      "Failed 000000196759.jpg: short_edge_length must be two values using 'range' sample style. Got [640, 672, 704, 736, 768, 800]!\n",
      "Failed 000000196843.jpg: short_edge_length must be two values using 'range' sample style. Got [640, 672, 704, 736, 768, 800]!\n",
      "Failed 000000197004.jpg: short_edge_length must be two values using 'range' sample style. Got [640, 672, 704, 736, 768, 800]!\n"
     ]
    },
    {
     "name": "stderr",
     "output_type": "stream",
     "text": [
      "Extracting features:  35%|███████████████████▋                                     | 1732/5000 [00:46<01:30, 36.10it/s]"
     ]
    },
    {
     "name": "stdout",
     "output_type": "stream",
     "text": [
      "Failed 000000197022.jpg: short_edge_length must be two values using 'range' sample style. Got [640, 672, 704, 736, 768, 800]!\n",
      "Failed 000000197388.jpg: short_edge_length must be two values using 'range' sample style. Got [640, 672, 704, 736, 768, 800]!\n",
      "Failed 000000197528.jpg: short_edge_length must be two values using 'range' sample style. Got [640, 672, 704, 736, 768, 800]!\n",
      "Failed 000000197658.jpg: short_edge_length must be two values using 'range' sample style. Got [640, 672, 704, 736, 768, 800]!\n",
      "Failed 000000197796.jpg: short_edge_length must be two values using 'range' sample style. Got [640, 672, 704, 736, 768, 800]!\n",
      "Failed 000000197870.jpg: short_edge_length must be two values using 'range' sample style. Got [640, 672, 704, 736, 768, 800]!\n",
      "Failed 000000198489.jpg: short_edge_length must be two values using 'range' sample style. Got [640, 672, 704, 736, 768, 800]!\n"
     ]
    },
    {
     "name": "stderr",
     "output_type": "stream",
     "text": [
      "Extracting features:  35%|███████████████████▊                                     | 1740/5000 [00:46<01:32, 35.33it/s]"
     ]
    },
    {
     "name": "stdout",
     "output_type": "stream",
     "text": [
      "Failed 000000198510.jpg: short_edge_length must be two values using 'range' sample style. Got [640, 672, 704, 736, 768, 800]!\n",
      "Failed 000000198641.jpg: short_edge_length must be two values using 'range' sample style. Got [640, 672, 704, 736, 768, 800]!\n",
      "Failed 000000198805.jpg: short_edge_length must be two values using 'range' sample style. Got [640, 672, 704, 736, 768, 800]!\n",
      "Failed 000000198915.jpg: short_edge_length must be two values using 'range' sample style. Got [640, 672, 704, 736, 768, 800]!\n",
      "Failed 000000198928.jpg: short_edge_length must be two values using 'range' sample style. Got [640, 672, 704, 736, 768, 800]!\n",
      "Failed 000000198960.jpg: short_edge_length must be two values using 'range' sample style. Got [640, 672, 704, 736, 768, 800]!\n",
      "Failed 000000199055.jpg: short_edge_length must be two values using 'range' sample style. Got [640, 672, 704, 736, 768, 800]!\n"
     ]
    },
    {
     "name": "stderr",
     "output_type": "stream",
     "text": [
      "Extracting features:  35%|███████████████████▉                                     | 1748/5000 [00:46<01:33, 34.71it/s]"
     ]
    },
    {
     "name": "stdout",
     "output_type": "stream",
     "text": [
      "Failed 000000199236.jpg: short_edge_length must be two values using 'range' sample style. Got [640, 672, 704, 736, 768, 800]!\n",
      "Failed 000000199310.jpg: short_edge_length must be two values using 'range' sample style. Got [640, 672, 704, 736, 768, 800]!\n",
      "Failed 000000199395.jpg: short_edge_length must be two values using 'range' sample style. Got [640, 672, 704, 736, 768, 800]!\n",
      "Failed 000000199442.jpg: short_edge_length must be two values using 'range' sample style. Got [640, 672, 704, 736, 768, 800]!\n",
      "Failed 000000199551.jpg: short_edge_length must be two values using 'range' sample style. Got [640, 672, 704, 736, 768, 800]!\n",
      "Failed 000000199681.jpg: short_edge_length must be two values using 'range' sample style. Got [640, 672, 704, 736, 768, 800]!\n",
      "Failed 000000199771.jpg: short_edge_length must be two values using 'range' sample style. Got [640, 672, 704, 736, 768, 800]!\n",
      "Failed 000000199977.jpg: short_edge_length must be two values using 'range' sample style. Got [640, 672, 704, 736, 768, 800]!\n"
     ]
    },
    {
     "name": "stderr",
     "output_type": "stream",
     "text": [
      "Extracting features:  35%|████████████████████                                     | 1756/5000 [00:47<01:29, 36.34it/s]"
     ]
    },
    {
     "name": "stdout",
     "output_type": "stream",
     "text": [
      "Failed 000000200152.jpg: short_edge_length must be two values using 'range' sample style. Got [640, 672, 704, 736, 768, 800]!\n",
      "Failed 000000200162.jpg: short_edge_length must be two values using 'range' sample style. Got [640, 672, 704, 736, 768, 800]!\n",
      "Failed 000000200252.jpg: short_edge_length must be two values using 'range' sample style. Got [640, 672, 704, 736, 768, 800]!\n",
      "Failed 000000200421.jpg: short_edge_length must be two values using 'range' sample style. Got [640, 672, 704, 736, 768, 800]!\n",
      "Failed 000000200667.jpg: short_edge_length must be two values using 'range' sample style. Got [640, 672, 704, 736, 768, 800]!\n",
      "Failed 000000200839.jpg: short_edge_length must be two values using 'range' sample style. Got [640, 672, 704, 736, 768, 800]!\n",
      "Failed 000000200961.jpg: short_edge_length must be two values using 'range' sample style. Got [640, 672, 704, 736, 768, 800]!\n",
      "Failed 000000201025.jpg: short_edge_length must be two values using 'range' sample style. Got [640, 672, 704, 736, 768, 800]!\n"
     ]
    },
    {
     "name": "stderr",
     "output_type": "stream",
     "text": [
      "Extracting features:  35%|████████████████████                                     | 1764/5000 [00:47<01:32, 35.15it/s]"
     ]
    },
    {
     "name": "stdout",
     "output_type": "stream",
     "text": [
      "Failed 000000201072.jpg: short_edge_length must be two values using 'range' sample style. Got [640, 672, 704, 736, 768, 800]!\n",
      "Failed 000000201148.jpg: short_edge_length must be two values using 'range' sample style. Got [640, 672, 704, 736, 768, 800]!\n",
      "Failed 000000201418.jpg: short_edge_length must be two values using 'range' sample style. Got [640, 672, 704, 736, 768, 800]!\n",
      "Failed 000000201426.jpg: short_edge_length must be two values using 'range' sample style. Got [640, 672, 704, 736, 768, 800]!\n",
      "Failed 000000201646.jpg: short_edge_length must be two values using 'range' sample style. Got [640, 672, 704, 736, 768, 800]!\n",
      "Failed 000000201676.jpg: short_edge_length must be two values using 'range' sample style. Got [640, 672, 704, 736, 768, 800]!\n",
      "Failed 000000201775.jpg: short_edge_length must be two values using 'range' sample style. Got [640, 672, 704, 736, 768, 800]!\n",
      "Failed 000000201934.jpg: short_edge_length must be two values using 'range' sample style. Got [640, 672, 704, 736, 768, 800]!\n"
     ]
    },
    {
     "name": "stderr",
     "output_type": "stream",
     "text": [
      "Extracting features:  35%|████████████████████▏                                    | 1772/5000 [00:47<01:33, 34.70it/s]"
     ]
    },
    {
     "name": "stdout",
     "output_type": "stream",
     "text": [
      "Failed 000000202001.jpg: short_edge_length must be two values using 'range' sample style. Got [640, 672, 704, 736, 768, 800]!\n",
      "Failed 000000202228.jpg: short_edge_length must be two values using 'range' sample style. Got [640, 672, 704, 736, 768, 800]!\n",
      "Failed 000000202339.jpg: short_edge_length must be two values using 'range' sample style. Got [640, 672, 704, 736, 768, 800]!\n",
      "Failed 000000202445.jpg: short_edge_length must be two values using 'range' sample style. Got [640, 672, 704, 736, 768, 800]!\n",
      "Failed 000000203095.jpg: short_edge_length must be two values using 'range' sample style. Got [640, 672, 704, 736, 768, 800]!\n",
      "Failed 000000203294.jpg: short_edge_length must be two values using 'range' sample style. Got [640, 672, 704, 736, 768, 800]!\n",
      "Failed 000000203317.jpg: short_edge_length must be two values using 'range' sample style. Got [640, 672, 704, 736, 768, 800]!\n"
     ]
    },
    {
     "name": "stderr",
     "output_type": "stream",
     "text": [
      "\r",
      "Extracting features:  36%|████████████████████▏                                    | 1776/5000 [00:47<01:37, 33.08it/s]"
     ]
    },
    {
     "name": "stdout",
     "output_type": "stream",
     "text": [
      "Failed 000000203389.jpg: short_edge_length must be two values using 'range' sample style. Got [640, 672, 704, 736, 768, 800]!\n",
      "Failed 000000203488.jpg: short_edge_length must be two values using 'range' sample style. Got [640, 672, 704, 736, 768, 800]!\n",
      "Failed 000000203546.jpg: short_edge_length must be two values using 'range' sample style. Got [640, 672, 704, 736, 768, 800]!\n",
      "Failed 000000203580.jpg: short_edge_length must be two values using 'range' sample style. Got [640, 672, 704, 736, 768, 800]!\n",
      "Failed 000000203629.jpg: short_edge_length must be two values using 'range' sample style. Got [640, 672, 704, 736, 768, 800]!\n",
      "Failed 000000203639.jpg: short_edge_length must be two values using 'range' sample style. Got [640, 672, 704, 736, 768, 800]!\n",
      "Failed 000000203864.jpg: short_edge_length must be two values using 'range' sample style. Got [640, 672, 704, 736, 768, 800]!\n"
     ]
    },
    {
     "name": "stderr",
     "output_type": "stream",
     "text": [
      "Extracting features:  36%|████████████████████▎                                    | 1784/5000 [00:47<01:39, 32.20it/s]"
     ]
    },
    {
     "name": "stdout",
     "output_type": "stream",
     "text": [
      "Failed 000000203931.jpg: short_edge_length must be two values using 'range' sample style. Got [640, 672, 704, 736, 768, 800]!\n",
      "Failed 000000204186.jpg: short_edge_length must be two values using 'range' sample style. Got [640, 672, 704, 736, 768, 800]!\n",
      "Failed 000000204329.jpg: short_edge_length must be two values using 'range' sample style. Got [640, 672, 704, 736, 768, 800]!\n",
      "Failed 000000204871.jpg: short_edge_length must be two values using 'range' sample style. Got [640, 672, 704, 736, 768, 800]!\n",
      "Failed 000000205105.jpg: short_edge_length must be two values using 'range' sample style. Got [640, 672, 704, 736, 768, 800]!\n",
      "Failed 000000205282.jpg: short_edge_length must be two values using 'range' sample style. Got [640, 672, 704, 736, 768, 800]!\n",
      "Failed 000000205289.jpg: short_edge_length must be two values using 'range' sample style. Got [640, 672, 704, 736, 768, 800]!\n"
     ]
    },
    {
     "name": "stderr",
     "output_type": "stream",
     "text": [
      "Extracting features:  36%|████████████████████▍                                    | 1793/5000 [00:48<01:27, 36.66it/s]"
     ]
    },
    {
     "name": "stdout",
     "output_type": "stream",
     "text": [
      "Failed 000000205324.jpg: short_edge_length must be two values using 'range' sample style. Got [640, 672, 704, 736, 768, 800]!\n",
      "Failed 000000205333.jpg: short_edge_length must be two values using 'range' sample style. Got [640, 672, 704, 736, 768, 800]!\n",
      "Failed 000000205401.jpg: short_edge_length must be two values using 'range' sample style. Got [640, 672, 704, 736, 768, 800]!\n",
      "Failed 000000205514.jpg: short_edge_length must be two values using 'range' sample style. Got [640, 672, 704, 736, 768, 800]!\n",
      "Failed 000000205542.jpg: short_edge_length must be two values using 'range' sample style. Got [640, 672, 704, 736, 768, 800]!\n",
      "Failed 000000205647.jpg: short_edge_length must be two values using 'range' sample style. Got [640, 672, 704, 736, 768, 800]!\n",
      "Failed 000000205776.jpg: short_edge_length must be two values using 'range' sample style. Got [640, 672, 704, 736, 768, 800]!\n",
      "Failed 000000205834.jpg: short_edge_length must be two values using 'range' sample style. Got [640, 672, 704, 736, 768, 800]!\n",
      "Failed 000000206025.jpg: short_edge_length must be two values using 'range' sample style. Got [640, 672, 704, 736, 768, 800]!\n"
     ]
    },
    {
     "name": "stderr",
     "output_type": "stream",
     "text": [
      "Extracting features:  36%|████████████████████▌                                    | 1802/5000 [00:48<01:26, 36.83it/s]"
     ]
    },
    {
     "name": "stdout",
     "output_type": "stream",
     "text": [
      "Failed 000000206027.jpg: short_edge_length must be two values using 'range' sample style. Got [640, 672, 704, 736, 768, 800]!\n",
      "Failed 000000206135.jpg: short_edge_length must be two values using 'range' sample style. Got [640, 672, 704, 736, 768, 800]!\n",
      "Failed 000000206218.jpg: short_edge_length must be two values using 'range' sample style. Got [640, 672, 704, 736, 768, 800]!\n",
      "Failed 000000206271.jpg: short_edge_length must be two values using 'range' sample style. Got [640, 672, 704, 736, 768, 800]!\n",
      "Failed 000000206411.jpg: short_edge_length must be two values using 'range' sample style. Got [640, 672, 704, 736, 768, 800]!\n",
      "Failed 000000206487.jpg: short_edge_length must be two values using 'range' sample style. Got [640, 672, 704, 736, 768, 800]!\n",
      "Failed 000000206579.jpg: short_edge_length must be two values using 'range' sample style. Got [640, 672, 704, 736, 768, 800]!\n",
      "Failed 000000206831.jpg: short_edge_length must be two values using 'range' sample style. Got [640, 672, 704, 736, 768, 800]!\n"
     ]
    },
    {
     "name": "stderr",
     "output_type": "stream",
     "text": [
      "Extracting features:  36%|████████████████████▋                                    | 1810/5000 [00:48<01:27, 36.30it/s]"
     ]
    },
    {
     "name": "stdout",
     "output_type": "stream",
     "text": [
      "Failed 000000206838.jpg: short_edge_length must be two values using 'range' sample style. Got [640, 672, 704, 736, 768, 800]!\n",
      "Failed 000000206994.jpg: short_edge_length must be two values using 'range' sample style. Got [640, 672, 704, 736, 768, 800]!\n",
      "Failed 000000207306.jpg: short_edge_length must be two values using 'range' sample style. Got [640, 672, 704, 736, 768, 800]!\n",
      "Failed 000000207538.jpg: short_edge_length must be two values using 'range' sample style. Got [640, 672, 704, 736, 768, 800]!\n",
      "Failed 000000207585.jpg: short_edge_length must be two values using 'range' sample style. Got [640, 672, 704, 736, 768, 800]!\n",
      "Failed 000000207728.jpg: short_edge_length must be two values using 'range' sample style. Got [640, 672, 704, 736, 768, 800]!\n",
      "Failed 000000207844.jpg: short_edge_length must be two values using 'range' sample style. Got [640, 672, 704, 736, 768, 800]!\n",
      "Failed 000000208208.jpg: short_edge_length must be two values using 'range' sample style. Got [640, 672, 704, 736, 768, 800]!\n"
     ]
    },
    {
     "name": "stderr",
     "output_type": "stream",
     "text": [
      "\r",
      "Extracting features:  36%|████████████████████▋                                    | 1815/5000 [00:48<01:26, 36.89it/s]"
     ]
    },
    {
     "name": "stdout",
     "output_type": "stream",
     "text": [
      "Failed 000000208363.jpg: short_edge_length must be two values using 'range' sample style. Got [640, 672, 704, 736, 768, 800]!\n",
      "Failed 000000208423.jpg: short_edge_length must be two values using 'range' sample style. Got [640, 672, 704, 736, 768, 800]!\n",
      "Failed 000000208901.jpg: short_edge_length must be two values using 'range' sample style. Got [640, 672, 704, 736, 768, 800]!\n",
      "Failed 000000209142.jpg: short_edge_length must be two values using 'range' sample style. Got [640, 672, 704, 736, 768, 800]!\n",
      "Failed 000000209222.jpg: short_edge_length must be two values using 'range' sample style. Got [640, 672, 704, 736, 768, 800]!\n",
      "Failed 000000209530.jpg: short_edge_length must be two values using 'range' sample style. Got [640, 672, 704, 736, 768, 800]!\n",
      "Failed 000000209613.jpg: short_edge_length must be two values using 'range' sample style. Got [640, 672, 704, 736, 768, 800]!\n"
     ]
    },
    {
     "name": "stderr",
     "output_type": "stream",
     "text": [
      "Extracting features:  36%|████████████████████▊                                    | 1824/5000 [00:49<01:27, 36.45it/s]"
     ]
    },
    {
     "name": "stdout",
     "output_type": "stream",
     "text": [
      "Failed 000000209747.jpg: short_edge_length must be two values using 'range' sample style. Got [640, 672, 704, 736, 768, 800]!\n",
      "Failed 000000209753.jpg: short_edge_length must be two values using 'range' sample style. Got [640, 672, 704, 736, 768, 800]!\n",
      "Failed 000000209757.jpg: short_edge_length must be two values using 'range' sample style. Got [640, 672, 704, 736, 768, 800]!\n",
      "Failed 000000209829.jpg: short_edge_length must be two values using 'range' sample style. Got [640, 672, 704, 736, 768, 800]!\n",
      "Failed 000000209972.jpg: short_edge_length must be two values using 'range' sample style. Got [640, 672, 704, 736, 768, 800]!\n",
      "Failed 000000210030.jpg: short_edge_length must be two values using 'range' sample style. Got [640, 672, 704, 736, 768, 800]!\n",
      "Failed 000000210032.jpg: short_edge_length must be two values using 'range' sample style. Got [640, 672, 704, 736, 768, 800]!\n",
      "Failed 000000210099.jpg: short_edge_length must be two values using 'range' sample style. Got [640, 672, 704, 736, 768, 800]!\n"
     ]
    },
    {
     "name": "stderr",
     "output_type": "stream",
     "text": [
      "Extracting features:  37%|████████████████████▉                                    | 1832/5000 [00:49<01:32, 34.37it/s]"
     ]
    },
    {
     "name": "stdout",
     "output_type": "stream",
     "text": [
      "Failed 000000210230.jpg: short_edge_length must be two values using 'range' sample style. Got [640, 672, 704, 736, 768, 800]!\n",
      "Failed 000000210273.jpg: short_edge_length must be two values using 'range' sample style. Got [640, 672, 704, 736, 768, 800]!\n",
      "Failed 000000210299.jpg: short_edge_length must be two values using 'range' sample style. Got [640, 672, 704, 736, 768, 800]!\n",
      "Failed 000000210388.jpg: short_edge_length must be two values using 'range' sample style. Got [640, 672, 704, 736, 768, 800]!\n",
      "Failed 000000210394.jpg: short_edge_length must be two values using 'range' sample style. Got [640, 672, 704, 736, 768, 800]!\n",
      "Failed 000000210502.jpg: short_edge_length must be two values using 'range' sample style. Got [640, 672, 704, 736, 768, 800]!\n",
      "Failed 000000210520.jpg: short_edge_length must be two values using 'range' sample style. Got [640, 672, 704, 736, 768, 800]!\n"
     ]
    },
    {
     "name": "stderr",
     "output_type": "stream",
     "text": [
      "Extracting features:  37%|████████████████████▉                                    | 1841/5000 [00:49<01:25, 36.96it/s]"
     ]
    },
    {
     "name": "stdout",
     "output_type": "stream",
     "text": [
      "Failed 000000210708.jpg: short_edge_length must be two values using 'range' sample style. Got [640, 672, 704, 736, 768, 800]!\n",
      "Failed 000000210789.jpg: short_edge_length must be two values using 'range' sample style. Got [640, 672, 704, 736, 768, 800]!\n",
      "Failed 000000210855.jpg: short_edge_length must be two values using 'range' sample style. Got [640, 672, 704, 736, 768, 800]!\n",
      "Failed 000000210915.jpg: short_edge_length must be two values using 'range' sample style. Got [640, 672, 704, 736, 768, 800]!\n",
      "Failed 000000211042.jpg: short_edge_length must be two values using 'range' sample style. Got [640, 672, 704, 736, 768, 800]!\n",
      "Failed 000000211069.jpg: short_edge_length must be two values using 'range' sample style. Got [640, 672, 704, 736, 768, 800]!\n",
      "Failed 000000211120.jpg: short_edge_length must be two values using 'range' sample style. Got [640, 672, 704, 736, 768, 800]!\n",
      "Failed 000000211674.jpg: short_edge_length must be two values using 'range' sample style. Got [640, 672, 704, 736, 768, 800]!\n",
      "Failed 000000211825.jpg: short_edge_length must be two values using 'range' sample style. Got [640, 672, 704, 736, 768, 800]!\n"
     ]
    },
    {
     "name": "stderr",
     "output_type": "stream",
     "text": [
      "\r",
      "Extracting features:  37%|█████████████████████                                    | 1845/5000 [00:49<01:23, 37.68it/s]"
     ]
    },
    {
     "name": "stdout",
     "output_type": "stream",
     "text": [
      "Failed 000000212072.jpg: short_edge_length must be two values using 'range' sample style. Got [640, 672, 704, 736, 768, 800]!\n",
      "Failed 000000212166.jpg: short_edge_length must be two values using 'range' sample style. Got [640, 672, 704, 736, 768, 800]!\n",
      "Failed 000000212226.jpg: short_edge_length must be two values using 'range' sample style. Got [640, 672, 704, 736, 768, 800]!\n",
      "Failed 000000212453.jpg: short_edge_length must be two values using 'range' sample style. Got [640, 672, 704, 736, 768, 800]!\n",
      "Failed 000000212559.jpg: short_edge_length must be two values using 'range' sample style. Got [640, 672, 704, 736, 768, 800]!\n",
      "Failed 000000212573.jpg: short_edge_length must be two values using 'range' sample style. Got [640, 672, 704, 736, 768, 800]!\n"
     ]
    },
    {
     "name": "stderr",
     "output_type": "stream",
     "text": [
      "Extracting features:  37%|█████████████████████                                    | 1853/5000 [00:49<01:34, 33.31it/s]"
     ]
    },
    {
     "name": "stdout",
     "output_type": "stream",
     "text": [
      "Failed 000000212800.jpg: short_edge_length must be two values using 'range' sample style. Got [640, 672, 704, 736, 768, 800]!\n",
      "Failed 000000212895.jpg: short_edge_length must be two values using 'range' sample style. Got [640, 672, 704, 736, 768, 800]!\n",
      "Failed 000000213033.jpg: short_edge_length must be two values using 'range' sample style. Got [640, 672, 704, 736, 768, 800]!\n",
      "Failed 000000213035.jpg: short_edge_length must be two values using 'range' sample style. Got [640, 672, 704, 736, 768, 800]!\n",
      "Failed 000000213086.jpg: short_edge_length must be two values using 'range' sample style. Got [640, 672, 704, 736, 768, 800]!\n",
      "Failed 000000213171.jpg: short_edge_length must be two values using 'range' sample style. Got [640, 672, 704, 736, 768, 800]!\n",
      "Failed 000000213224.jpg: short_edge_length must be two values using 'range' sample style. Got [640, 672, 704, 736, 768, 800]!\n"
     ]
    },
    {
     "name": "stderr",
     "output_type": "stream",
     "text": [
      "Extracting features:  37%|█████████████████████▏                                   | 1861/5000 [00:50<01:32, 33.78it/s]"
     ]
    },
    {
     "name": "stdout",
     "output_type": "stream",
     "text": [
      "Failed 000000213255.jpg: short_edge_length must be two values using 'range' sample style. Got [640, 672, 704, 736, 768, 800]!\n",
      "Failed 000000213422.jpg: short_edge_length must be two values using 'range' sample style. Got [640, 672, 704, 736, 768, 800]!\n",
      "Failed 000000213445.jpg: short_edge_length must be two values using 'range' sample style. Got [640, 672, 704, 736, 768, 800]!\n",
      "Failed 000000213547.jpg: short_edge_length must be two values using 'range' sample style. Got [640, 672, 704, 736, 768, 800]!\n",
      "Failed 000000213593.jpg: short_edge_length must be two values using 'range' sample style. Got [640, 672, 704, 736, 768, 800]!\n",
      "Failed 000000213605.jpg: short_edge_length must be two values using 'range' sample style. Got [640, 672, 704, 736, 768, 800]!\n",
      "Failed 000000213816.jpg: short_edge_length must be two values using 'range' sample style. Got [640, 672, 704, 736, 768, 800]!\n",
      "Failed 000000213830.jpg: short_edge_length must be two values using 'range' sample style. Got [640, 672, 704, 736, 768, 800]!\n"
     ]
    },
    {
     "name": "stderr",
     "output_type": "stream",
     "text": [
      "Extracting features:  37%|█████████████████████▎                                   | 1869/5000 [00:50<01:27, 35.92it/s]"
     ]
    },
    {
     "name": "stdout",
     "output_type": "stream",
     "text": [
      "Failed 000000213935.jpg: short_edge_length must be two values using 'range' sample style. Got [640, 672, 704, 736, 768, 800]!\n",
      "Failed 000000214192.jpg: short_edge_length must be two values using 'range' sample style. Got [640, 672, 704, 736, 768, 800]!\n",
      "Failed 000000214200.jpg: short_edge_length must be two values using 'range' sample style. Got [640, 672, 704, 736, 768, 800]!\n",
      "Failed 000000214205.jpg: short_edge_length must be two values using 'range' sample style. Got [640, 672, 704, 736, 768, 800]!\n",
      "Failed 000000214224.jpg: short_edge_length must be two values using 'range' sample style. Got [640, 672, 704, 736, 768, 800]!\n",
      "Failed 000000214539.jpg: short_edge_length must be two values using 'range' sample style. Got [640, 672, 704, 736, 768, 800]!\n",
      "Failed 000000214703.jpg: short_edge_length must be two values using 'range' sample style. Got [640, 672, 704, 736, 768, 800]!\n",
      "Failed 000000214720.jpg: short_edge_length must be two values using 'range' sample style. Got [640, 672, 704, 736, 768, 800]!\n",
      "Failed 000000214753.jpg: short_edge_length must be two values using 'range' sample style. Got [640, 672, 704, 736, 768, 800]!\n"
     ]
    },
    {
     "name": "stderr",
     "output_type": "stream",
     "text": [
      "Extracting features:  38%|█████████████████████▍                                   | 1878/5000 [00:50<01:21, 38.39it/s]"
     ]
    },
    {
     "name": "stdout",
     "output_type": "stream",
     "text": [
      "Failed 000000214869.jpg: short_edge_length must be two values using 'range' sample style. Got [640, 672, 704, 736, 768, 800]!\n",
      "Failed 000000215072.jpg: short_edge_length must be two values using 'range' sample style. Got [640, 672, 704, 736, 768, 800]!\n",
      "Failed 000000215114.jpg: short_edge_length must be two values using 'range' sample style. Got [640, 672, 704, 736, 768, 800]!\n",
      "Failed 000000215245.jpg: short_edge_length must be two values using 'range' sample style. Got [640, 672, 704, 736, 768, 800]!\n",
      "Failed 000000215259.jpg: short_edge_length must be two values using 'range' sample style. Got [640, 672, 704, 736, 768, 800]!\n",
      "Failed 000000215644.jpg: short_edge_length must be two values using 'range' sample style. Got [640, 672, 704, 736, 768, 800]!\n",
      "Failed 000000215723.jpg: short_edge_length must be two values using 'range' sample style. Got [640, 672, 704, 736, 768, 800]!\n",
      "Failed 000000215778.jpg: short_edge_length must be two values using 'range' sample style. Got [640, 672, 704, 736, 768, 800]!\n"
     ]
    },
    {
     "name": "stderr",
     "output_type": "stream",
     "text": [
      "Extracting features:  38%|█████████████████████▌                                   | 1886/5000 [00:50<01:21, 38.28it/s]"
     ]
    },
    {
     "name": "stdout",
     "output_type": "stream",
     "text": [
      "Failed 000000216277.jpg: short_edge_length must be two values using 'range' sample style. Got [640, 672, 704, 736, 768, 800]!\n",
      "Failed 000000216296.jpg: short_edge_length must be two values using 'range' sample style. Got [640, 672, 704, 736, 768, 800]!\n",
      "Failed 000000216419.jpg: short_edge_length must be two values using 'range' sample style. Got [640, 672, 704, 736, 768, 800]!\n",
      "Failed 000000216497.jpg: short_edge_length must be two values using 'range' sample style. Got [640, 672, 704, 736, 768, 800]!\n",
      "Failed 000000216516.jpg: short_edge_length must be two values using 'range' sample style. Got [640, 672, 704, 736, 768, 800]!\n",
      "Failed 000000216636.jpg: short_edge_length must be two values using 'range' sample style. Got [640, 672, 704, 736, 768, 800]!\n",
      "Failed 000000216739.jpg: short_edge_length must be two values using 'range' sample style. Got [640, 672, 704, 736, 768, 800]!\n",
      "Failed 000000217060.jpg: short_edge_length must be two values using 'range' sample style. Got [640, 672, 704, 736, 768, 800]!\n"
     ]
    },
    {
     "name": "stderr",
     "output_type": "stream",
     "text": [
      "Extracting features:  38%|█████████████████████▌                                   | 1894/5000 [00:51<01:23, 37.14it/s]"
     ]
    },
    {
     "name": "stdout",
     "output_type": "stream",
     "text": [
      "Failed 000000217219.jpg: short_edge_length must be two values using 'range' sample style. Got [640, 672, 704, 736, 768, 800]!\n",
      "Failed 000000217285.jpg: short_edge_length must be two values using 'range' sample style. Got [640, 672, 704, 736, 768, 800]!\n",
      "Failed 000000217400.jpg: short_edge_length must be two values using 'range' sample style. Got [640, 672, 704, 736, 768, 800]!\n",
      "Failed 000000217425.jpg: short_edge_length must be two values using 'range' sample style. Got [640, 672, 704, 736, 768, 800]!\n",
      "Failed 000000217614.jpg: short_edge_length must be two values using 'range' sample style. Got [640, 672, 704, 736, 768, 800]!\n",
      "Failed 000000217753.jpg: short_edge_length must be two values using 'range' sample style. Got [640, 672, 704, 736, 768, 800]!\n",
      "Failed 000000217872.jpg: short_edge_length must be two values using 'range' sample style. Got [640, 672, 704, 736, 768, 800]!\n"
     ]
    },
    {
     "name": "stderr",
     "output_type": "stream",
     "text": [
      "Extracting features:  38%|█████████████████████▋                                   | 1902/5000 [00:51<01:26, 35.90it/s]"
     ]
    },
    {
     "name": "stdout",
     "output_type": "stream",
     "text": [
      "Failed 000000217948.jpg: short_edge_length must be two values using 'range' sample style. Got [640, 672, 704, 736, 768, 800]!\n",
      "Failed 000000217957.jpg: short_edge_length must be two values using 'range' sample style. Got [640, 672, 704, 736, 768, 800]!\n",
      "Failed 000000218091.jpg: short_edge_length must be two values using 'range' sample style. Got [640, 672, 704, 736, 768, 800]!\n",
      "Failed 000000218249.jpg: short_edge_length must be two values using 'range' sample style. Got [640, 672, 704, 736, 768, 800]!\n",
      "Failed 000000218362.jpg: short_edge_length must be two values using 'range' sample style. Got [640, 672, 704, 736, 768, 800]!\n",
      "Failed 000000218424.jpg: short_edge_length must be two values using 'range' sample style. Got [640, 672, 704, 736, 768, 800]!\n",
      "Failed 000000218439.jpg: short_edge_length must be two values using 'range' sample style. Got [640, 672, 704, 736, 768, 800]!\n",
      "Failed 000000218997.jpg: short_edge_length must be two values using 'range' sample style. Got [640, 672, 704, 736, 768, 800]!\n"
     ]
    },
    {
     "name": "stderr",
     "output_type": "stream",
     "text": [
      "Extracting features:  38%|█████████████████████▊                                   | 1911/5000 [00:51<01:20, 38.51it/s]"
     ]
    },
    {
     "name": "stdout",
     "output_type": "stream",
     "text": [
      "Failed 000000219271.jpg: short_edge_length must be two values using 'range' sample style. Got [640, 672, 704, 736, 768, 800]!\n",
      "Failed 000000219283.jpg: short_edge_length must be two values using 'range' sample style. Got [640, 672, 704, 736, 768, 800]!\n",
      "Failed 000000219440.jpg: short_edge_length must be two values using 'range' sample style. Got [640, 672, 704, 736, 768, 800]!\n",
      "Failed 000000219485.jpg: short_edge_length must be two values using 'range' sample style. Got [640, 672, 704, 736, 768, 800]!\n",
      "Failed 000000219578.jpg: short_edge_length must be two values using 'range' sample style. Got [640, 672, 704, 736, 768, 800]!\n",
      "Failed 000000220310.jpg: short_edge_length must be two values using 'range' sample style. Got [640, 672, 704, 736, 768, 800]!\n",
      "Failed 000000220584.jpg: short_edge_length must be two values using 'range' sample style. Got [640, 672, 704, 736, 768, 800]!\n",
      "Failed 000000220732.jpg: short_edge_length must be two values using 'range' sample style. Got [640, 672, 704, 736, 768, 800]!\n"
     ]
    },
    {
     "name": "stderr",
     "output_type": "stream",
     "text": [
      "Extracting features:  38%|█████████████████████▉                                   | 1919/5000 [00:51<01:26, 35.52it/s]"
     ]
    },
    {
     "name": "stdout",
     "output_type": "stream",
     "text": [
      "Failed 000000220764.jpg: short_edge_length must be two values using 'range' sample style. Got [640, 672, 704, 736, 768, 800]!\n",
      "Failed 000000220858.jpg: short_edge_length must be two values using 'range' sample style. Got [640, 672, 704, 736, 768, 800]!\n",
      "Failed 000000221017.jpg: short_edge_length must be two values using 'range' sample style. Got [640, 672, 704, 736, 768, 800]!\n",
      "Failed 000000221155.jpg: short_edge_length must be two values using 'range' sample style. Got [640, 672, 704, 736, 768, 800]!\n",
      "Failed 000000221213.jpg: short_edge_length must be two values using 'range' sample style. Got [640, 672, 704, 736, 768, 800]!\n",
      "Failed 000000221281.jpg: short_edge_length must be two values using 'range' sample style. Got [640, 672, 704, 736, 768, 800]!\n",
      "Failed 000000221291.jpg: short_edge_length must be two values using 'range' sample style. Got [640, 672, 704, 736, 768, 800]!\n",
      "Failed 000000221502.jpg: short_edge_length must be two values using 'range' sample style. Got [640, 672, 704, 736, 768, 800]!\n"
     ]
    },
    {
     "name": "stderr",
     "output_type": "stream",
     "text": [
      "\r",
      "Extracting features:  38%|█████████████████████▉                                   | 1924/5000 [00:51<01:21, 37.56it/s]"
     ]
    },
    {
     "name": "stdout",
     "output_type": "stream",
     "text": [
      "Failed 000000221693.jpg: short_edge_length must be two values using 'range' sample style. Got [640, 672, 704, 736, 768, 800]!\n",
      "Failed 000000221708.jpg: short_edge_length must be two values using 'range' sample style. Got [640, 672, 704, 736, 768, 800]!\n",
      "Failed 000000221754.jpg: short_edge_length must be two values using 'range' sample style. Got [640, 672, 704, 736, 768, 800]!\n",
      "Failed 000000221872.jpg: short_edge_length must be two values using 'range' sample style. Got [640, 672, 704, 736, 768, 800]!\n",
      "Failed 000000222094.jpg: short_edge_length must be two values using 'range' sample style. Got [640, 672, 704, 736, 768, 800]!\n",
      "Failed 000000222118.jpg: short_edge_length must be two values using 'range' sample style. Got [640, 672, 704, 736, 768, 800]!\n",
      "Failed 000000222235.jpg: short_edge_length must be two values using 'range' sample style. Got [640, 672, 704, 736, 768, 800]!\n",
      "Failed 000000222299.jpg: short_edge_length must be two values using 'range' sample style. Got [640, 672, 704, 736, 768, 800]!\n"
     ]
    },
    {
     "name": "stderr",
     "output_type": "stream",
     "text": [
      "Extracting features:  39%|██████████████████████                                   | 1932/5000 [00:52<01:25, 35.74it/s]"
     ]
    },
    {
     "name": "stdout",
     "output_type": "stream",
     "text": [
      "Failed 000000222317.jpg: short_edge_length must be two values using 'range' sample style. Got [640, 672, 704, 736, 768, 800]!\n",
      "Failed 000000222455.jpg: short_edge_length must be two values using 'range' sample style. Got [640, 672, 704, 736, 768, 800]!\n",
      "Failed 000000222458.jpg: short_edge_length must be two values using 'range' sample style. Got [640, 672, 704, 736, 768, 800]!\n",
      "Failed 000000222559.jpg: short_edge_length must be two values using 'range' sample style. Got [640, 672, 704, 736, 768, 800]!\n",
      "Failed 000000222735.jpg: short_edge_length must be two values using 'range' sample style. Got [640, 672, 704, 736, 768, 800]!\n",
      "Failed 000000222825.jpg: short_edge_length must be two values using 'range' sample style. Got [640, 672, 704, 736, 768, 800]!\n",
      "Failed 000000222863.jpg: short_edge_length must be two values using 'range' sample style. Got [640, 672, 704, 736, 768, 800]!\n"
     ]
    },
    {
     "name": "stderr",
     "output_type": "stream",
     "text": [
      "Extracting features:  39%|██████████████████████                                   | 1940/5000 [00:52<01:30, 33.70it/s]"
     ]
    },
    {
     "name": "stdout",
     "output_type": "stream",
     "text": [
      "Failed 000000222991.jpg: short_edge_length must be two values using 'range' sample style. Got [640, 672, 704, 736, 768, 800]!\n",
      "Failed 000000223090.jpg: short_edge_length must be two values using 'range' sample style. Got [640, 672, 704, 736, 768, 800]!\n",
      "Failed 000000223130.jpg: short_edge_length must be two values using 'range' sample style. Got [640, 672, 704, 736, 768, 800]!\n",
      "Failed 000000223182.jpg: short_edge_length must be two values using 'range' sample style. Got [640, 672, 704, 736, 768, 800]!\n",
      "Failed 000000223188.jpg: short_edge_length must be two values using 'range' sample style. Got [640, 672, 704, 736, 768, 800]!\n",
      "Failed 000000223738.jpg: short_edge_length must be two values using 'range' sample style. Got [640, 672, 704, 736, 768, 800]!\n",
      "Failed 000000223747.jpg: short_edge_length must be two values using 'range' sample style. Got [640, 672, 704, 736, 768, 800]!\n",
      "Failed 000000223789.jpg: short_edge_length must be two values using 'range' sample style. Got [640, 672, 704, 736, 768, 800]!\n"
     ]
    },
    {
     "name": "stderr",
     "output_type": "stream",
     "text": [
      "Extracting features:  39%|██████████████████████▏                                  | 1948/5000 [00:52<01:29, 34.23it/s]"
     ]
    },
    {
     "name": "stdout",
     "output_type": "stream",
     "text": [
      "Failed 000000223955.jpg: short_edge_length must be two values using 'range' sample style. Got [640, 672, 704, 736, 768, 800]!\n",
      "Failed 000000223959.jpg: short_edge_length must be two values using 'range' sample style. Got [640, 672, 704, 736, 768, 800]!\n",
      "Failed 000000224051.jpg: short_edge_length must be two values using 'range' sample style. Got [640, 672, 704, 736, 768, 800]!\n",
      "Failed 000000224093.jpg: short_edge_length must be two values using 'range' sample style. Got [640, 672, 704, 736, 768, 800]!\n",
      "Failed 000000224119.jpg: short_edge_length must be two values using 'range' sample style. Got [640, 672, 704, 736, 768, 800]!\n",
      "Failed 000000224200.jpg: short_edge_length must be two values using 'range' sample style. Got [640, 672, 704, 736, 768, 800]!\n",
      "Failed 000000224222.jpg: short_edge_length must be two values using 'range' sample style. Got [640, 672, 704, 736, 768, 800]!\n",
      "Failed 000000224337.jpg: short_edge_length must be two values using 'range' sample style. Got [640, 672, 704, 736, 768, 800]!\n"
     ]
    },
    {
     "name": "stderr",
     "output_type": "stream",
     "text": [
      "Extracting features:  39%|██████████████████████▎                                  | 1958/5000 [00:52<01:20, 37.57it/s]"
     ]
    },
    {
     "name": "stdout",
     "output_type": "stream",
     "text": [
      "Failed 000000224664.jpg: short_edge_length must be two values using 'range' sample style. Got [640, 672, 704, 736, 768, 800]!\n",
      "Failed 000000224675.jpg: short_edge_length must be two values using 'range' sample style. Got [640, 672, 704, 736, 768, 800]!\n",
      "Failed 000000224724.jpg: short_edge_length must be two values using 'range' sample style. Got [640, 672, 704, 736, 768, 800]!\n",
      "Failed 000000224807.jpg: short_edge_length must be two values using 'range' sample style. Got [640, 672, 704, 736, 768, 800]!\n",
      "Failed 000000225184.jpg: short_edge_length must be two values using 'range' sample style. Got [640, 672, 704, 736, 768, 800]!\n",
      "Failed 000000225405.jpg: short_edge_length must be two values using 'range' sample style. Got [640, 672, 704, 736, 768, 800]!\n",
      "Failed 000000225532.jpg: short_edge_length must be two values using 'range' sample style. Got [640, 672, 704, 736, 768, 800]!\n",
      "Failed 000000225670.jpg: short_edge_length must be two values using 'range' sample style. Got [640, 672, 704, 736, 768, 800]!\n",
      "Failed 000000225757.jpg: short_edge_length must be two values using 'range' sample style. Got [640, 672, 704, 736, 768, 800]!\n"
     ]
    },
    {
     "name": "stderr",
     "output_type": "stream",
     "text": [
      "Extracting features:  39%|██████████████████████▍                                  | 1966/5000 [00:52<01:21, 37.25it/s]"
     ]
    },
    {
     "name": "stdout",
     "output_type": "stream",
     "text": [
      "Failed 000000225946.jpg: short_edge_length must be two values using 'range' sample style. Got [640, 672, 704, 736, 768, 800]!\n",
      "Failed 000000226058.jpg: short_edge_length must be two values using 'range' sample style. Got [640, 672, 704, 736, 768, 800]!\n",
      "Failed 000000226111.jpg: short_edge_length must be two values using 'range' sample style. Got [640, 672, 704, 736, 768, 800]!\n",
      "Failed 000000226130.jpg: short_edge_length must be two values using 'range' sample style. Got [640, 672, 704, 736, 768, 800]!\n",
      "Failed 000000226147.jpg: short_edge_length must be two values using 'range' sample style. Got [640, 672, 704, 736, 768, 800]!\n",
      "Failed 000000226154.jpg: short_edge_length must be two values using 'range' sample style. Got [640, 672, 704, 736, 768, 800]!\n",
      "Failed 000000226171.jpg: short_edge_length must be two values using 'range' sample style. Got [640, 672, 704, 736, 768, 800]!\n",
      "Failed 000000226408.jpg: short_edge_length must be two values using 'range' sample style. Got [640, 672, 704, 736, 768, 800]!\n"
     ]
    },
    {
     "name": "stderr",
     "output_type": "stream",
     "text": [
      "\r",
      "Extracting features:  39%|██████████████████████▍                                  | 1970/5000 [00:53<01:23, 36.47it/s]"
     ]
    },
    {
     "name": "stdout",
     "output_type": "stream",
     "text": [
      "Failed 000000226417.jpg: short_edge_length must be two values using 'range' sample style. Got [640, 672, 704, 736, 768, 800]!\n",
      "Failed 000000226592.jpg: short_edge_length must be two values using 'range' sample style. Got [640, 672, 704, 736, 768, 800]!\n",
      "Failed 000000226662.jpg: short_edge_length must be two values using 'range' sample style. Got [640, 672, 704, 736, 768, 800]!\n",
      "Failed 000000226802.jpg: short_edge_length must be two values using 'range' sample style. Got [640, 672, 704, 736, 768, 800]!\n",
      "Failed 000000226883.jpg: short_edge_length must be two values using 'range' sample style. Got [640, 672, 704, 736, 768, 800]!\n",
      "Failed 000000226903.jpg: short_edge_length must be two values using 'range' sample style. Got [640, 672, 704, 736, 768, 800]!\n",
      "Failed 000000226984.jpg: short_edge_length must be two values using 'range' sample style. Got [640, 672, 704, 736, 768, 800]!\n"
     ]
    },
    {
     "name": "stderr",
     "output_type": "stream",
     "text": [
      "Extracting features:  40%|██████████████████████▌                                  | 1978/5000 [00:53<01:30, 33.34it/s]"
     ]
    },
    {
     "name": "stdout",
     "output_type": "stream",
     "text": [
      "Failed 000000227044.jpg: short_edge_length must be two values using 'range' sample style. Got [640, 672, 704, 736, 768, 800]!\n",
      "Failed 000000227187.jpg: short_edge_length must be two values using 'range' sample style. Got [640, 672, 704, 736, 768, 800]!\n",
      "Failed 000000227399.jpg: short_edge_length must be two values using 'range' sample style. Got [640, 672, 704, 736, 768, 800]!\n",
      "Failed 000000227478.jpg: short_edge_length must be two values using 'range' sample style. Got [640, 672, 704, 736, 768, 800]!\n",
      "Failed 000000227482.jpg: short_edge_length must be two values using 'range' sample style. Got [640, 672, 704, 736, 768, 800]!\n",
      "Failed 000000227491.jpg: short_edge_length must be two values using 'range' sample style. Got [640, 672, 704, 736, 768, 800]!\n"
     ]
    },
    {
     "name": "stderr",
     "output_type": "stream",
     "text": [
      "Extracting features:  40%|██████████████████████▋                                  | 1986/5000 [00:53<01:31, 32.87it/s]"
     ]
    },
    {
     "name": "stdout",
     "output_type": "stream",
     "text": [
      "Failed 000000227511.jpg: short_edge_length must be two values using 'range' sample style. Got [640, 672, 704, 736, 768, 800]!\n",
      "Failed 000000227686.jpg: short_edge_length must be two values using 'range' sample style. Got [640, 672, 704, 736, 768, 800]!\n",
      "Failed 000000227765.jpg: short_edge_length must be two values using 'range' sample style. Got [640, 672, 704, 736, 768, 800]!\n",
      "Failed 000000227898.jpg: short_edge_length must be two values using 'range' sample style. Got [640, 672, 704, 736, 768, 800]!\n",
      "Failed 000000227985.jpg: short_edge_length must be two values using 'range' sample style. Got [640, 672, 704, 736, 768, 800]!\n",
      "Failed 000000228144.jpg: short_edge_length must be two values using 'range' sample style. Got [640, 672, 704, 736, 768, 800]!\n",
      "Failed 000000228214.jpg: short_edge_length must be two values using 'range' sample style. Got [640, 672, 704, 736, 768, 800]!\n"
     ]
    },
    {
     "name": "stderr",
     "output_type": "stream",
     "text": [
      "Extracting features:  40%|██████████████████████▋                                  | 1995/5000 [00:53<01:22, 36.36it/s]"
     ]
    },
    {
     "name": "stdout",
     "output_type": "stream",
     "text": [
      "Failed 000000228436.jpg: short_edge_length must be two values using 'range' sample style. Got [640, 672, 704, 736, 768, 800]!\n",
      "Failed 000000228771.jpg: short_edge_length must be two values using 'range' sample style. Got [640, 672, 704, 736, 768, 800]!\n",
      "Failed 000000228942.jpg: short_edge_length must be two values using 'range' sample style. Got [640, 672, 704, 736, 768, 800]!\n",
      "Failed 000000228981.jpg: short_edge_length must be two values using 'range' sample style. Got [640, 672, 704, 736, 768, 800]!\n",
      "Failed 000000229111.jpg: short_edge_length must be two values using 'range' sample style. Got [640, 672, 704, 736, 768, 800]!\n",
      "Failed 000000229216.jpg: short_edge_length must be two values using 'range' sample style. Got [640, 672, 704, 736, 768, 800]!\n",
      "Failed 000000229221.jpg: short_edge_length must be two values using 'range' sample style. Got [640, 672, 704, 736, 768, 800]!\n",
      "Failed 000000229311.jpg: short_edge_length must be two values using 'range' sample style. Got [640, 672, 704, 736, 768, 800]!\n",
      "Failed 000000229358.jpg: short_edge_length must be two values using 'range' sample style. Got [640, 672, 704, 736, 768, 800]!\n"
     ]
    },
    {
     "name": "stderr",
     "output_type": "stream",
     "text": [
      "\r",
      "Extracting features:  40%|██████████████████████▊                                  | 1999/5000 [00:53<01:21, 36.89it/s]"
     ]
    },
    {
     "name": "stdout",
     "output_type": "stream",
     "text": [
      "Failed 000000229553.jpg: short_edge_length must be two values using 'range' sample style. Got [640, 672, 704, 736, 768, 800]!\n",
      "Failed 000000229601.jpg: short_edge_length must be two values using 'range' sample style. Got [640, 672, 704, 736, 768, 800]!\n",
      "Failed 000000229659.jpg: short_edge_length must be two values using 'range' sample style. Got [640, 672, 704, 736, 768, 800]!\n",
      "Failed 000000229747.jpg: short_edge_length must be two values using 'range' sample style. Got [640, 672, 704, 736, 768, 800]!\n",
      "Failed 000000229753.jpg: short_edge_length must be two values using 'range' sample style. Got [640, 672, 704, 736, 768, 800]!\n",
      "Failed 000000229849.jpg: short_edge_length must be two values using 'range' sample style. Got [640, 672, 704, 736, 768, 800]!\n",
      "Failed 000000229858.jpg: short_edge_length must be two values using 'range' sample style. Got [640, 672, 704, 736, 768, 800]!\n"
     ]
    },
    {
     "name": "stderr",
     "output_type": "stream",
     "text": [
      "Extracting features:  40%|██████████████████████▉                                  | 2007/5000 [00:54<01:24, 35.29it/s]"
     ]
    },
    {
     "name": "stdout",
     "output_type": "stream",
     "text": [
      "Failed 000000229948.jpg: short_edge_length must be two values using 'range' sample style. Got [640, 672, 704, 736, 768, 800]!\n",
      "Failed 000000229997.jpg: short_edge_length must be two values using 'range' sample style. Got [640, 672, 704, 736, 768, 800]!\n",
      "Failed 000000230008.jpg: short_edge_length must be two values using 'range' sample style. Got [640, 672, 704, 736, 768, 800]!\n",
      "Failed 000000230166.jpg: short_edge_length must be two values using 'range' sample style. Got [640, 672, 704, 736, 768, 800]!\n",
      "Failed 000000230362.jpg: short_edge_length must be two values using 'range' sample style. Got [640, 672, 704, 736, 768, 800]!\n",
      "Failed 000000230450.jpg: short_edge_length must be two values using 'range' sample style. Got [640, 672, 704, 736, 768, 800]!\n",
      "Failed 000000230819.jpg: short_edge_length must be two values using 'range' sample style. Got [640, 672, 704, 736, 768, 800]!\n"
     ]
    },
    {
     "name": "stderr",
     "output_type": "stream",
     "text": [
      "Extracting features:  40%|██████████████████████▉                                  | 2016/5000 [00:54<01:21, 36.55it/s]"
     ]
    },
    {
     "name": "stdout",
     "output_type": "stream",
     "text": [
      "Failed 000000230983.jpg: short_edge_length must be two values using 'range' sample style. Got [640, 672, 704, 736, 768, 800]!\n",
      "Failed 000000230993.jpg: short_edge_length must be two values using 'range' sample style. Got [640, 672, 704, 736, 768, 800]!\n",
      "Failed 000000231088.jpg: short_edge_length must be two values using 'range' sample style. Got [640, 672, 704, 736, 768, 800]!\n",
      "Failed 000000231097.jpg: short_edge_length must be two values using 'range' sample style. Got [640, 672, 704, 736, 768, 800]!\n",
      "Failed 000000231125.jpg: short_edge_length must be two values using 'range' sample style. Got [640, 672, 704, 736, 768, 800]!\n",
      "Failed 000000231169.jpg: short_edge_length must be two values using 'range' sample style. Got [640, 672, 704, 736, 768, 800]!\n",
      "Failed 000000231237.jpg: short_edge_length must be two values using 'range' sample style. Got [640, 672, 704, 736, 768, 800]!\n",
      "Failed 000000231339.jpg: short_edge_length must be two values using 'range' sample style. Got [640, 672, 704, 736, 768, 800]!\n"
     ]
    },
    {
     "name": "stderr",
     "output_type": "stream",
     "text": [
      "Extracting features:  40%|███████████████████████                                  | 2024/5000 [00:54<01:22, 36.23it/s]"
     ]
    },
    {
     "name": "stdout",
     "output_type": "stream",
     "text": [
      "Failed 000000231508.jpg: short_edge_length must be two values using 'range' sample style. Got [640, 672, 704, 736, 768, 800]!\n",
      "Failed 000000231527.jpg: short_edge_length must be two values using 'range' sample style. Got [640, 672, 704, 736, 768, 800]!\n",
      "Failed 000000231549.jpg: short_edge_length must be two values using 'range' sample style. Got [640, 672, 704, 736, 768, 800]!\n",
      "Failed 000000231580.jpg: short_edge_length must be two values using 'range' sample style. Got [640, 672, 704, 736, 768, 800]!\n",
      "Failed 000000231747.jpg: short_edge_length must be two values using 'range' sample style. Got [640, 672, 704, 736, 768, 800]!\n",
      "Failed 000000231822.jpg: short_edge_length must be two values using 'range' sample style. Got [640, 672, 704, 736, 768, 800]!\n",
      "Failed 000000231831.jpg: short_edge_length must be two values using 'range' sample style. Got [640, 672, 704, 736, 768, 800]!\n",
      "Failed 000000231879.jpg: short_edge_length must be two values using 'range' sample style. Got [640, 672, 704, 736, 768, 800]!\n"
     ]
    },
    {
     "name": "stderr",
     "output_type": "stream",
     "text": [
      "Extracting features:  41%|███████████████████████▏                                 | 2033/5000 [00:54<01:25, 34.75it/s]"
     ]
    },
    {
     "name": "stdout",
     "output_type": "stream",
     "text": [
      "Failed 000000232088.jpg: short_edge_length must be two values using 'range' sample style. Got [640, 672, 704, 736, 768, 800]!\n",
      "Failed 000000232244.jpg: short_edge_length must be two values using 'range' sample style. Got [640, 672, 704, 736, 768, 800]!\n",
      "Failed 000000232348.jpg: short_edge_length must be two values using 'range' sample style. Got [640, 672, 704, 736, 768, 800]!\n",
      "Failed 000000232489.jpg: short_edge_length must be two values using 'range' sample style. Got [640, 672, 704, 736, 768, 800]!\n",
      "Failed 000000232538.jpg: short_edge_length must be two values using 'range' sample style. Got [640, 672, 704, 736, 768, 800]!\n",
      "Failed 000000232563.jpg: short_edge_length must be two values using 'range' sample style. Got [640, 672, 704, 736, 768, 800]!\n",
      "Failed 000000232646.jpg: short_edge_length must be two values using 'range' sample style. Got [640, 672, 704, 736, 768, 800]!\n",
      "Failed 000000232649.jpg: short_edge_length must be two values using 'range' sample style. Got [640, 672, 704, 736, 768, 800]!\n",
      "Failed 000000232684.jpg: short_edge_length must be two values using 'range' sample style. Got [640, 672, 704, 736, 768, 800]!\n"
     ]
    },
    {
     "name": "stderr",
     "output_type": "stream",
     "text": [
      "Extracting features:  41%|███████████████████████▎                                 | 2041/5000 [00:55<01:24, 35.13it/s]"
     ]
    },
    {
     "name": "stdout",
     "output_type": "stream",
     "text": [
      "Failed 000000232692.jpg: short_edge_length must be two values using 'range' sample style. Got [640, 672, 704, 736, 768, 800]!\n",
      "Failed 000000233033.jpg: short_edge_length must be two values using 'range' sample style. Got [640, 672, 704, 736, 768, 800]!\n",
      "Failed 000000233139.jpg: short_edge_length must be two values using 'range' sample style. Got [640, 672, 704, 736, 768, 800]!\n",
      "Failed 000000233238.jpg: short_edge_length must be two values using 'range' sample style. Got [640, 672, 704, 736, 768, 800]!\n",
      "Failed 000000233370.jpg: short_edge_length must be two values using 'range' sample style. Got [640, 672, 704, 736, 768, 800]!\n",
      "Failed 000000233567.jpg: short_edge_length must be two values using 'range' sample style. Got [640, 672, 704, 736, 768, 800]!\n",
      "Failed 000000233727.jpg: short_edge_length must be two values using 'range' sample style. Got [640, 672, 704, 736, 768, 800]!\n"
     ]
    },
    {
     "name": "stderr",
     "output_type": "stream",
     "text": [
      "Extracting features:  41%|███████████████████████▎                                 | 2049/5000 [00:55<01:25, 34.43it/s]"
     ]
    },
    {
     "name": "stdout",
     "output_type": "stream",
     "text": [
      "Failed 000000233771.jpg: short_edge_length must be two values using 'range' sample style. Got [640, 672, 704, 736, 768, 800]!\n",
      "Failed 000000233825.jpg: short_edge_length must be two values using 'range' sample style. Got [640, 672, 704, 736, 768, 800]!\n",
      "Failed 000000234366.jpg: short_edge_length must be two values using 'range' sample style. Got [640, 672, 704, 736, 768, 800]!\n",
      "Failed 000000234413.jpg: short_edge_length must be two values using 'range' sample style. Got [640, 672, 704, 736, 768, 800]!\n",
      "Failed 000000234526.jpg: short_edge_length must be two values using 'range' sample style. Got [640, 672, 704, 736, 768, 800]!\n",
      "Failed 000000234607.jpg: short_edge_length must be two values using 'range' sample style. Got [640, 672, 704, 736, 768, 800]!\n",
      "Failed 000000234660.jpg: short_edge_length must be two values using 'range' sample style. Got [640, 672, 704, 736, 768, 800]!\n",
      "Failed 000000234757.jpg: short_edge_length must be two values using 'range' sample style. Got [640, 672, 704, 736, 768, 800]!\n"
     ]
    },
    {
     "name": "stderr",
     "output_type": "stream",
     "text": [
      "\r",
      "Extracting features:  41%|███████████████████████▍                                 | 2053/5000 [00:55<01:24, 35.07it/s]"
     ]
    },
    {
     "name": "stdout",
     "output_type": "stream",
     "text": [
      "Failed 000000234779.jpg: short_edge_length must be two values using 'range' sample style. Got [640, 672, 704, 736, 768, 800]!\n",
      "Failed 000000234807.jpg: short_edge_length must be two values using 'range' sample style. Got [640, 672, 704, 736, 768, 800]!\n",
      "Failed 000000235057.jpg: short_edge_length must be two values using 'range' sample style. Got [640, 672, 704, 736, 768, 800]!\n",
      "Failed 000000235064.jpg: short_edge_length must be two values using 'range' sample style. Got [640, 672, 704, 736, 768, 800]!\n",
      "Failed 000000235241.jpg: short_edge_length must be two values using 'range' sample style. Got [640, 672, 704, 736, 768, 800]!\n",
      "Failed 000000235252.jpg: short_edge_length must be two values using 'range' sample style. Got [640, 672, 704, 736, 768, 800]!\n",
      "Failed 000000235399.jpg: short_edge_length must be two values using 'range' sample style. Got [640, 672, 704, 736, 768, 800]!\n",
      "Failed 000000235778.jpg: short_edge_length must be two values using 'range' sample style. Got [640, 672, 704, 736, 768, 800]!\n"
     ]
    },
    {
     "name": "stderr",
     "output_type": "stream",
     "text": [
      "Extracting features:  41%|███████████████████████▌                                 | 2062/5000 [00:55<01:23, 35.28it/s]"
     ]
    },
    {
     "name": "stdout",
     "output_type": "stream",
     "text": [
      "Failed 000000235784.jpg: short_edge_length must be two values using 'range' sample style. Got [640, 672, 704, 736, 768, 800]!\n",
      "Failed 000000235836.jpg: short_edge_length must be two values using 'range' sample style. Got [640, 672, 704, 736, 768, 800]!\n",
      "Failed 000000235857.jpg: short_edge_length must be two values using 'range' sample style. Got [640, 672, 704, 736, 768, 800]!\n",
      "Failed 000000236166.jpg: short_edge_length must be two values using 'range' sample style. Got [640, 672, 704, 736, 768, 800]!\n",
      "Failed 000000236308.jpg: short_edge_length must be two values using 'range' sample style. Got [640, 672, 704, 736, 768, 800]!\n",
      "Failed 000000236412.jpg: short_edge_length must be two values using 'range' sample style. Got [640, 672, 704, 736, 768, 800]!\n",
      "Failed 000000236426.jpg: short_edge_length must be two values using 'range' sample style. Got [640, 672, 704, 736, 768, 800]!\n"
     ]
    },
    {
     "name": "stderr",
     "output_type": "stream",
     "text": [
      "Extracting features:  41%|███████████████████████▌                                 | 2071/5000 [00:55<01:19, 36.95it/s]"
     ]
    },
    {
     "name": "stdout",
     "output_type": "stream",
     "text": [
      "Failed 000000236592.jpg: short_edge_length must be two values using 'range' sample style. Got [640, 672, 704, 736, 768, 800]!\n",
      "Failed 000000236599.jpg: short_edge_length must be two values using 'range' sample style. Got [640, 672, 704, 736, 768, 800]!\n",
      "Failed 000000236690.jpg: short_edge_length must be two values using 'range' sample style. Got [640, 672, 704, 736, 768, 800]!\n",
      "Failed 000000236721.jpg: short_edge_length must be two values using 'range' sample style. Got [640, 672, 704, 736, 768, 800]!\n",
      "Failed 000000236730.jpg: short_edge_length must be two values using 'range' sample style. Got [640, 672, 704, 736, 768, 800]!\n",
      "Failed 000000236784.jpg: short_edge_length must be two values using 'range' sample style. Got [640, 672, 704, 736, 768, 800]!\n",
      "Failed 000000236845.jpg: short_edge_length must be two values using 'range' sample style. Got [640, 672, 704, 736, 768, 800]!\n",
      "Failed 000000236914.jpg: short_edge_length must be two values using 'range' sample style. Got [640, 672, 704, 736, 768, 800]!\n"
     ]
    },
    {
     "name": "stderr",
     "output_type": "stream",
     "text": [
      "Extracting features:  42%|███████████████████████▋                                 | 2079/5000 [00:56<01:21, 35.87it/s]"
     ]
    },
    {
     "name": "stdout",
     "output_type": "stream",
     "text": [
      "Failed 000000237071.jpg: short_edge_length must be two values using 'range' sample style. Got [640, 672, 704, 736, 768, 800]!\n",
      "Failed 000000237118.jpg: short_edge_length must be two values using 'range' sample style. Got [640, 672, 704, 736, 768, 800]!\n",
      "Failed 000000237316.jpg: short_edge_length must be two values using 'range' sample style. Got [640, 672, 704, 736, 768, 800]!\n",
      "Failed 000000237517.jpg: short_edge_length must be two values using 'range' sample style. Got [640, 672, 704, 736, 768, 800]!\n",
      "Failed 000000237864.jpg: short_edge_length must be two values using 'range' sample style. Got [640, 672, 704, 736, 768, 800]!\n",
      "Failed 000000237928.jpg: short_edge_length must be two values using 'range' sample style. Got [640, 672, 704, 736, 768, 800]!\n",
      "Failed 000000237984.jpg: short_edge_length must be two values using 'range' sample style. Got [640, 672, 704, 736, 768, 800]!\n",
      "Failed 000000238013.jpg: short_edge_length must be two values using 'range' sample style. Got [640, 672, 704, 736, 768, 800]!\n"
     ]
    },
    {
     "name": "stderr",
     "output_type": "stream",
     "text": [
      "Extracting features:  42%|███████████████████████▊                                 | 2088/5000 [00:56<01:16, 38.26it/s]"
     ]
    },
    {
     "name": "stdout",
     "output_type": "stream",
     "text": [
      "Failed 000000238039.jpg: short_edge_length must be two values using 'range' sample style. Got [640, 672, 704, 736, 768, 800]!\n",
      "Failed 000000238410.jpg: short_edge_length must be two values using 'range' sample style. Got [640, 672, 704, 736, 768, 800]!\n",
      "Failed 000000238866.jpg: short_edge_length must be two values using 'range' sample style. Got [640, 672, 704, 736, 768, 800]!\n",
      "Failed 000000239041.jpg: short_edge_length must be two values using 'range' sample style. Got [640, 672, 704, 736, 768, 800]!\n",
      "Failed 000000239274.jpg: short_edge_length must be two values using 'range' sample style. Got [640, 672, 704, 736, 768, 800]!\n",
      "Failed 000000239318.jpg: short_edge_length must be two values using 'range' sample style. Got [640, 672, 704, 736, 768, 800]!\n",
      "Failed 000000239347.jpg: short_edge_length must be two values using 'range' sample style. Got [640, 672, 704, 736, 768, 800]!\n",
      "Failed 000000239537.jpg: short_edge_length must be two values using 'range' sample style. Got [640, 672, 704, 736, 768, 800]!\n",
      "Failed 000000239627.jpg: short_edge_length must be two values using 'range' sample style. Got [640, 672, 704, 736, 768, 800]!\n"
     ]
    },
    {
     "name": "stderr",
     "output_type": "stream",
     "text": [
      "Extracting features:  42%|███████████████████████▉                                 | 2098/5000 [00:56<01:14, 38.92it/s]"
     ]
    },
    {
     "name": "stdout",
     "output_type": "stream",
     "text": [
      "Failed 000000239717.jpg: short_edge_length must be two values using 'range' sample style. Got [640, 672, 704, 736, 768, 800]!\n",
      "Failed 000000239773.jpg: short_edge_length must be two values using 'range' sample style. Got [640, 672, 704, 736, 768, 800]!\n",
      "Failed 000000239843.jpg: short_edge_length must be two values using 'range' sample style. Got [640, 672, 704, 736, 768, 800]!\n",
      "Failed 000000239857.jpg: short_edge_length must be two values using 'range' sample style. Got [640, 672, 704, 736, 768, 800]!\n",
      "Failed 000000240023.jpg: short_edge_length must be two values using 'range' sample style. Got [640, 672, 704, 736, 768, 800]!\n",
      "Failed 000000240049.jpg: short_edge_length must be two values using 'range' sample style. Got [640, 672, 704, 736, 768, 800]!\n",
      "Failed 000000240250.jpg: short_edge_length must be two values using 'range' sample style. Got [640, 672, 704, 736, 768, 800]!\n",
      "Failed 000000240754.jpg: short_edge_length must be two values using 'range' sample style. Got [640, 672, 704, 736, 768, 800]!\n",
      "Failed 000000240767.jpg: short_edge_length must be two values using 'range' sample style. Got [640, 672, 704, 736, 768, 800]!\n"
     ]
    },
    {
     "name": "stderr",
     "output_type": "stream",
     "text": [
      "Extracting features:  42%|████████████████████████                                 | 2106/5000 [00:56<01:19, 36.31it/s]"
     ]
    },
    {
     "name": "stdout",
     "output_type": "stream",
     "text": [
      "Failed 000000240940.jpg: short_edge_length must be two values using 'range' sample style. Got [640, 672, 704, 736, 768, 800]!\n",
      "Failed 000000241297.jpg: short_edge_length must be two values using 'range' sample style. Got [640, 672, 704, 736, 768, 800]!\n",
      "Failed 000000241319.jpg: short_edge_length must be two values using 'range' sample style. Got [640, 672, 704, 736, 768, 800]!\n",
      "Failed 000000241326.jpg: short_edge_length must be two values using 'range' sample style. Got [640, 672, 704, 736, 768, 800]!\n",
      "Failed 000000241602.jpg: short_edge_length must be two values using 'range' sample style. Got [640, 672, 704, 736, 768, 800]!\n",
      "Failed 000000241668.jpg: short_edge_length must be two values using 'range' sample style. Got [640, 672, 704, 736, 768, 800]!\n",
      "Failed 000000241677.jpg: short_edge_length must be two values using 'range' sample style. Got [640, 672, 704, 736, 768, 800]!\n"
     ]
    },
    {
     "name": "stderr",
     "output_type": "stream",
     "text": [
      "\r",
      "Extracting features:  42%|████████████████████████                                 | 2110/5000 [00:57<01:20, 35.92it/s]"
     ]
    },
    {
     "name": "stdout",
     "output_type": "stream",
     "text": [
      "Failed 000000242060.jpg: short_edge_length must be two values using 'range' sample style. Got [640, 672, 704, 736, 768, 800]!\n",
      "Failed 000000242287.jpg: short_edge_length must be two values using 'range' sample style. Got [640, 672, 704, 736, 768, 800]!\n",
      "Failed 000000242411.jpg: short_edge_length must be two values using 'range' sample style. Got [640, 672, 704, 736, 768, 800]!\n",
      "Failed 000000242678.jpg: short_edge_length must be two values using 'range' sample style. Got [640, 672, 704, 736, 768, 800]!\n",
      "Failed 000000242724.jpg: short_edge_length must be two values using 'range' sample style. Got [640, 672, 704, 736, 768, 800]!\n",
      "Failed 000000242934.jpg: short_edge_length must be two values using 'range' sample style. Got [640, 672, 704, 736, 768, 800]!\n",
      "Failed 000000242946.jpg: short_edge_length must be two values using 'range' sample style. Got [640, 672, 704, 736, 768, 800]!\n"
     ]
    },
    {
     "name": "stderr",
     "output_type": "stream",
     "text": [
      "Extracting features:  42%|████████████████████████▏                                | 2118/5000 [00:57<01:17, 37.15it/s]"
     ]
    },
    {
     "name": "stdout",
     "output_type": "stream",
     "text": [
      "Failed 000000243034.jpg: short_edge_length must be two values using 'range' sample style. Got [640, 672, 704, 736, 768, 800]!\n",
      "Failed 000000243075.jpg: short_edge_length must be two values using 'range' sample style. Got [640, 672, 704, 736, 768, 800]!\n",
      "Failed 000000243148.jpg: short_edge_length must be two values using 'range' sample style. Got [640, 672, 704, 736, 768, 800]!\n",
      "Failed 000000243199.jpg: short_edge_length must be two values using 'range' sample style. Got [640, 672, 704, 736, 768, 800]!\n",
      "Failed 000000243204.jpg: short_edge_length must be two values using 'range' sample style. Got [640, 672, 704, 736, 768, 800]!\n",
      "Failed 000000243344.jpg: short_edge_length must be two values using 'range' sample style. Got [640, 672, 704, 736, 768, 800]!\n",
      "Failed 000000243495.jpg: short_edge_length must be two values using 'range' sample style. Got [640, 672, 704, 736, 768, 800]!\n",
      "Failed 000000243626.jpg: short_edge_length must be two values using 'range' sample style. Got [640, 672, 704, 736, 768, 800]!\n"
     ]
    },
    {
     "name": "stderr",
     "output_type": "stream",
     "text": [
      "Extracting features:  43%|████████████████████████▏                                | 2127/5000 [00:57<01:14, 38.39it/s]"
     ]
    },
    {
     "name": "stdout",
     "output_type": "stream",
     "text": [
      "Failed 000000243867.jpg: short_edge_length must be two values using 'range' sample style. Got [640, 672, 704, 736, 768, 800]!\n",
      "Failed 000000243989.jpg: short_edge_length must be two values using 'range' sample style. Got [640, 672, 704, 736, 768, 800]!\n",
      "Failed 000000244019.jpg: short_edge_length must be two values using 'range' sample style. Got [640, 672, 704, 736, 768, 800]!\n",
      "Failed 000000244099.jpg: short_edge_length must be two values using 'range' sample style. Got [640, 672, 704, 736, 768, 800]!\n",
      "Failed 000000244181.jpg: short_edge_length must be two values using 'range' sample style. Got [640, 672, 704, 736, 768, 800]!\n",
      "Failed 000000244379.jpg: short_edge_length must be two values using 'range' sample style. Got [640, 672, 704, 736, 768, 800]!\n",
      "Failed 000000244411.jpg: short_edge_length must be two values using 'range' sample style. Got [640, 672, 704, 736, 768, 800]!\n",
      "Failed 000000244496.jpg: short_edge_length must be two values using 'range' sample style. Got [640, 672, 704, 736, 768, 800]!\n",
      "Failed 000000244592.jpg: short_edge_length must be two values using 'range' sample style. Got [640, 672, 704, 736, 768, 800]!\n"
     ]
    },
    {
     "name": "stderr",
     "output_type": "stream",
     "text": [
      "Extracting features:  43%|████████████████████████▎                                | 2136/5000 [00:57<01:15, 37.84it/s]"
     ]
    },
    {
     "name": "stdout",
     "output_type": "stream",
     "text": [
      "Failed 000000244750.jpg: short_edge_length must be two values using 'range' sample style. Got [640, 672, 704, 736, 768, 800]!\n",
      "Failed 000000244833.jpg: short_edge_length must be two values using 'range' sample style. Got [640, 672, 704, 736, 768, 800]!\n",
      "Failed 000000245026.jpg: short_edge_length must be two values using 'range' sample style. Got [640, 672, 704, 736, 768, 800]!\n",
      "Failed 000000245102.jpg: short_edge_length must be two values using 'range' sample style. Got [640, 672, 704, 736, 768, 800]!\n",
      "Failed 000000245173.jpg: short_edge_length must be two values using 'range' sample style. Got [640, 672, 704, 736, 768, 800]!\n",
      "Failed 000000245311.jpg: short_edge_length must be two values using 'range' sample style. Got [640, 672, 704, 736, 768, 800]!\n",
      "Failed 000000245320.jpg: short_edge_length must be two values using 'range' sample style. Got [640, 672, 704, 736, 768, 800]!\n",
      "Failed 000000245448.jpg: short_edge_length must be two values using 'range' sample style. Got [640, 672, 704, 736, 768, 800]!\n"
     ]
    },
    {
     "name": "stderr",
     "output_type": "stream",
     "text": [
      "Extracting features:  43%|████████████████████████▍                                | 2144/5000 [00:57<01:18, 36.30it/s]"
     ]
    },
    {
     "name": "stdout",
     "output_type": "stream",
     "text": [
      "Failed 000000245513.jpg: short_edge_length must be two values using 'range' sample style. Got [640, 672, 704, 736, 768, 800]!\n",
      "Failed 000000245576.jpg: short_edge_length must be two values using 'range' sample style. Got [640, 672, 704, 736, 768, 800]!\n",
      "Failed 000000245651.jpg: short_edge_length must be two values using 'range' sample style. Got [640, 672, 704, 736, 768, 800]!\n",
      "Failed 000000245764.jpg: short_edge_length must be two values using 'range' sample style. Got [640, 672, 704, 736, 768, 800]!\n",
      "Failed 000000245915.jpg: short_edge_length must be two values using 'range' sample style. Got [640, 672, 704, 736, 768, 800]!\n",
      "Failed 000000246308.jpg: short_edge_length must be two values using 'range' sample style. Got [640, 672, 704, 736, 768, 800]!\n",
      "Failed 000000246436.jpg: short_edge_length must be two values using 'range' sample style. Got [640, 672, 704, 736, 768, 800]!\n"
     ]
    },
    {
     "name": "stderr",
     "output_type": "stream",
     "text": [
      "Extracting features:  43%|████████████████████████▌                                | 2152/5000 [00:58<01:20, 35.16it/s]"
     ]
    },
    {
     "name": "stdout",
     "output_type": "stream",
     "text": [
      "Failed 000000246454.jpg: short_edge_length must be two values using 'range' sample style. Got [640, 672, 704, 736, 768, 800]!\n",
      "Failed 000000246522.jpg: short_edge_length must be two values using 'range' sample style. Got [640, 672, 704, 736, 768, 800]!\n",
      "Failed 000000246883.jpg: short_edge_length must be two values using 'range' sample style. Got [640, 672, 704, 736, 768, 800]!\n",
      "Failed 000000246963.jpg: short_edge_length must be two values using 'range' sample style. Got [640, 672, 704, 736, 768, 800]!\n",
      "Failed 000000246968.jpg: short_edge_length must be two values using 'range' sample style. Got [640, 672, 704, 736, 768, 800]!\n",
      "Failed 000000247806.jpg: short_edge_length must be two values using 'range' sample style. Got [640, 672, 704, 736, 768, 800]!\n",
      "Failed 000000247838.jpg: short_edge_length must be two values using 'range' sample style. Got [640, 672, 704, 736, 768, 800]!\n",
      "Failed 000000247917.jpg: short_edge_length must be two values using 'range' sample style. Got [640, 672, 704, 736, 768, 800]!\n"
     ]
    },
    {
     "name": "stderr",
     "output_type": "stream",
     "text": [
      "Extracting features:  43%|████████████████████████▌                                | 2160/5000 [00:58<01:18, 36.34it/s]"
     ]
    },
    {
     "name": "stdout",
     "output_type": "stream",
     "text": [
      "Failed 000000248111.jpg: short_edge_length must be two values using 'range' sample style. Got [640, 672, 704, 736, 768, 800]!\n",
      "Failed 000000248112.jpg: short_edge_length must be two values using 'range' sample style. Got [640, 672, 704, 736, 768, 800]!\n",
      "Failed 000000248284.jpg: short_edge_length must be two values using 'range' sample style. Got [640, 672, 704, 736, 768, 800]!\n",
      "Failed 000000248314.jpg: short_edge_length must be two values using 'range' sample style. Got [640, 672, 704, 736, 768, 800]!\n",
      "Failed 000000248334.jpg: short_edge_length must be two values using 'range' sample style. Got [640, 672, 704, 736, 768, 800]!\n",
      "Failed 000000248400.jpg: short_edge_length must be two values using 'range' sample style. Got [640, 672, 704, 736, 768, 800]!\n",
      "Failed 000000248616.jpg: short_edge_length must be two values using 'range' sample style. Got [640, 672, 704, 736, 768, 800]!\n",
      "Failed 000000248631.jpg: short_edge_length must be two values using 'range' sample style. Got [640, 672, 704, 736, 768, 800]!\n"
     ]
    },
    {
     "name": "stderr",
     "output_type": "stream",
     "text": [
      "\r",
      "Extracting features:  43%|████████████████████████▋                                | 2164/5000 [00:58<01:17, 36.47it/s]"
     ]
    },
    {
     "name": "stdout",
     "output_type": "stream",
     "text": [
      "Failed 000000248752.jpg: short_edge_length must be two values using 'range' sample style. Got [640, 672, 704, 736, 768, 800]!\n",
      "Failed 000000248810.jpg: short_edge_length must be two values using 'range' sample style. Got [640, 672, 704, 736, 768, 800]!\n",
      "Failed 000000248980.jpg: short_edge_length must be two values using 'range' sample style. Got [640, 672, 704, 736, 768, 800]!\n",
      "Failed 000000249025.jpg: short_edge_length must be two values using 'range' sample style. Got [640, 672, 704, 736, 768, 800]!\n",
      "Failed 000000249129.jpg: short_edge_length must be two values using 'range' sample style. Got [640, 672, 704, 736, 768, 800]!\n",
      "Failed 000000249180.jpg: short_edge_length must be two values using 'range' sample style. Got [640, 672, 704, 736, 768, 800]!\n",
      "Failed 000000249219.jpg: short_edge_length must be two values using 'range' sample style. Got [640, 672, 704, 736, 768, 800]!\n"
     ]
    },
    {
     "name": "stderr",
     "output_type": "stream",
     "text": [
      "Extracting features:  43%|████████████████████████▊                                | 2172/5000 [00:58<01:22, 34.22it/s]"
     ]
    },
    {
     "name": "stdout",
     "output_type": "stream",
     "text": [
      "Failed 000000249550.jpg: short_edge_length must be two values using 'range' sample style. Got [640, 672, 704, 736, 768, 800]!\n",
      "Failed 000000249643.jpg: short_edge_length must be two values using 'range' sample style. Got [640, 672, 704, 736, 768, 800]!\n",
      "Failed 000000249786.jpg: short_edge_length must be two values using 'range' sample style. Got [640, 672, 704, 736, 768, 800]!\n",
      "Failed 000000250127.jpg: short_edge_length must be two values using 'range' sample style. Got [640, 672, 704, 736, 768, 800]!\n",
      "Failed 000000250137.jpg: short_edge_length must be two values using 'range' sample style. Got [640, 672, 704, 736, 768, 800]!\n",
      "Failed 000000250205.jpg: short_edge_length must be two values using 'range' sample style. Got [640, 672, 704, 736, 768, 800]!\n",
      "Failed 000000250282.jpg: short_edge_length must be two values using 'range' sample style. Got [640, 672, 704, 736, 768, 800]!\n"
     ]
    },
    {
     "name": "stderr",
     "output_type": "stream",
     "text": [
      "Extracting features:  44%|████████████████████████▊                                | 2180/5000 [00:58<01:21, 34.68it/s]"
     ]
    },
    {
     "name": "stdout",
     "output_type": "stream",
     "text": [
      "Failed 000000250619.jpg: short_edge_length must be two values using 'range' sample style. Got [640, 672, 704, 736, 768, 800]!\n",
      "Failed 000000250758.jpg: short_edge_length must be two values using 'range' sample style. Got [640, 672, 704, 736, 768, 800]!\n",
      "Failed 000000250766.jpg: short_edge_length must be two values using 'range' sample style. Got [640, 672, 704, 736, 768, 800]!\n",
      "Failed 000000250901.jpg: short_edge_length must be two values using 'range' sample style. Got [640, 672, 704, 736, 768, 800]!\n",
      "Failed 000000251065.jpg: short_edge_length must be two values using 'range' sample style. Got [640, 672, 704, 736, 768, 800]!\n",
      "Failed 000000251119.jpg: short_edge_length must be two values using 'range' sample style. Got [640, 672, 704, 736, 768, 800]!\n",
      "Failed 000000251140.jpg: short_edge_length must be two values using 'range' sample style. Got [640, 672, 704, 736, 768, 800]!\n",
      "Failed 000000251537.jpg: short_edge_length must be two values using 'range' sample style. Got [640, 672, 704, 736, 768, 800]!\n"
     ]
    },
    {
     "name": "stderr",
     "output_type": "stream",
     "text": [
      "Extracting features:  44%|████████████████████████▉                                | 2189/5000 [00:59<01:17, 36.44it/s]"
     ]
    },
    {
     "name": "stdout",
     "output_type": "stream",
     "text": [
      "Failed 000000251572.jpg: short_edge_length must be two values using 'range' sample style. Got [640, 672, 704, 736, 768, 800]!\n",
      "Failed 000000251824.jpg: short_edge_length must be two values using 'range' sample style. Got [640, 672, 704, 736, 768, 800]!\n",
      "Failed 000000252216.jpg: short_edge_length must be two values using 'range' sample style. Got [640, 672, 704, 736, 768, 800]!\n",
      "Failed 000000252219.jpg: short_edge_length must be two values using 'range' sample style. Got [640, 672, 704, 736, 768, 800]!\n",
      "Failed 000000252294.jpg: short_edge_length must be two values using 'range' sample style. Got [640, 672, 704, 736, 768, 800]!\n",
      "Failed 000000252332.jpg: short_edge_length must be two values using 'range' sample style. Got [640, 672, 704, 736, 768, 800]!\n",
      "Failed 000000252507.jpg: short_edge_length must be two values using 'range' sample style. Got [640, 672, 704, 736, 768, 800]!\n",
      "Failed 000000252559.jpg: short_edge_length must be two values using 'range' sample style. Got [640, 672, 704, 736, 768, 800]!\n"
     ]
    },
    {
     "name": "stderr",
     "output_type": "stream",
     "text": [
      "Extracting features:  44%|█████████████████████████                                | 2199/5000 [00:59<01:12, 38.43it/s]"
     ]
    },
    {
     "name": "stdout",
     "output_type": "stream",
     "text": [
      "Failed 000000252701.jpg: short_edge_length must be two values using 'range' sample style. Got [640, 672, 704, 736, 768, 800]!\n",
      "Failed 000000252716.jpg: short_edge_length must be two values using 'range' sample style. Got [640, 672, 704, 736, 768, 800]!\n",
      "Failed 000000252776.jpg: short_edge_length must be two values using 'range' sample style. Got [640, 672, 704, 736, 768, 800]!\n",
      "Failed 000000253002.jpg: short_edge_length must be two values using 'range' sample style. Got [640, 672, 704, 736, 768, 800]!\n",
      "Failed 000000253386.jpg: short_edge_length must be two values using 'range' sample style. Got [640, 672, 704, 736, 768, 800]!\n",
      "Failed 000000253433.jpg: short_edge_length must be two values using 'range' sample style. Got [640, 672, 704, 736, 768, 800]!\n",
      "Failed 000000253452.jpg: short_edge_length must be two values using 'range' sample style. Got [640, 672, 704, 736, 768, 800]!\n",
      "Failed 000000253695.jpg: short_edge_length must be two values using 'range' sample style. Got [640, 672, 704, 736, 768, 800]!\n",
      "Failed 000000253742.jpg: short_edge_length must be two values using 'range' sample style. Got [640, 672, 704, 736, 768, 800]!\n"
     ]
    },
    {
     "name": "stderr",
     "output_type": "stream",
     "text": [
      "Extracting features:  44%|█████████████████████████▏                               | 2207/5000 [00:59<01:14, 37.68it/s]"
     ]
    },
    {
     "name": "stdout",
     "output_type": "stream",
     "text": [
      "Failed 000000253819.jpg: short_edge_length must be two values using 'range' sample style. Got [640, 672, 704, 736, 768, 800]!\n",
      "Failed 000000253835.jpg: short_edge_length must be two values using 'range' sample style. Got [640, 672, 704, 736, 768, 800]!\n",
      "Failed 000000254016.jpg: short_edge_length must be two values using 'range' sample style. Got [640, 672, 704, 736, 768, 800]!\n",
      "Failed 000000254368.jpg: short_edge_length must be two values using 'range' sample style. Got [640, 672, 704, 736, 768, 800]!\n",
      "Failed 000000254516.jpg: short_edge_length must be two values using 'range' sample style. Got [640, 672, 704, 736, 768, 800]!\n",
      "Failed 000000254814.jpg: short_edge_length must be two values using 'range' sample style. Got [640, 672, 704, 736, 768, 800]!\n",
      "Failed 000000255165.jpg: short_edge_length must be two values using 'range' sample style. Got [640, 672, 704, 736, 768, 800]!\n",
      "Failed 000000255401.jpg: short_edge_length must be two values using 'range' sample style. Got [640, 672, 704, 736, 768, 800]!\n",
      "Failed 000000255483.jpg: short_edge_length must be two values using 'range' sample style. Got [640, 672, 704, 736, 768, 800]!\n"
     ]
    },
    {
     "name": "stderr",
     "output_type": "stream",
     "text": [
      "Extracting features:  44%|█████████████████████████▎                               | 2216/5000 [00:59<01:14, 37.60it/s]"
     ]
    },
    {
     "name": "stdout",
     "output_type": "stream",
     "text": [
      "Failed 000000255536.jpg: short_edge_length must be two values using 'range' sample style. Got [640, 672, 704, 736, 768, 800]!\n",
      "Failed 000000255664.jpg: short_edge_length must be two values using 'range' sample style. Got [640, 672, 704, 736, 768, 800]!\n",
      "Failed 000000255718.jpg: short_edge_length must be two values using 'range' sample style. Got [640, 672, 704, 736, 768, 800]!\n",
      "Failed 000000255747.jpg: short_edge_length must be two values using 'range' sample style. Got [640, 672, 704, 736, 768, 800]!\n",
      "Failed 000000255749.jpg: short_edge_length must be two values using 'range' sample style. Got [640, 672, 704, 736, 768, 800]!\n",
      "Failed 000000255824.jpg: short_edge_length must be two values using 'range' sample style. Got [640, 672, 704, 736, 768, 800]!\n",
      "Failed 000000255912.jpg: short_edge_length must be two values using 'range' sample style. Got [640, 672, 704, 736, 768, 800]!\n",
      "Failed 000000255917.jpg: short_edge_length must be two values using 'range' sample style. Got [640, 672, 704, 736, 768, 800]!\n"
     ]
    },
    {
     "name": "stderr",
     "output_type": "stream",
     "text": [
      "Extracting features:  44%|█████████████████████████▎                               | 2224/5000 [01:00<01:14, 37.28it/s]"
     ]
    },
    {
     "name": "stdout",
     "output_type": "stream",
     "text": [
      "Failed 000000255965.jpg: short_edge_length must be two values using 'range' sample style. Got [640, 672, 704, 736, 768, 800]!\n",
      "Failed 000000256192.jpg: short_edge_length must be two values using 'range' sample style. Got [640, 672, 704, 736, 768, 800]!\n",
      "Failed 000000256195.jpg: short_edge_length must be two values using 'range' sample style. Got [640, 672, 704, 736, 768, 800]!\n",
      "Failed 000000256407.jpg: short_edge_length must be two values using 'range' sample style. Got [640, 672, 704, 736, 768, 800]!\n",
      "Failed 000000256518.jpg: short_edge_length must be two values using 'range' sample style. Got [640, 672, 704, 736, 768, 800]!\n",
      "Failed 000000256775.jpg: short_edge_length must be two values using 'range' sample style. Got [640, 672, 704, 736, 768, 800]!\n",
      "Failed 000000256868.jpg: short_edge_length must be two values using 'range' sample style. Got [640, 672, 704, 736, 768, 800]!\n",
      "Failed 000000256916.jpg: short_edge_length must be two values using 'range' sample style. Got [640, 672, 704, 736, 768, 800]!\n"
     ]
    },
    {
     "name": "stderr",
     "output_type": "stream",
     "text": [
      "\r",
      "Extracting features:  45%|█████████████████████████▍                               | 2229/5000 [01:00<01:08, 40.26it/s]"
     ]
    },
    {
     "name": "stdout",
     "output_type": "stream",
     "text": [
      "Failed 000000256941.jpg: short_edge_length must be two values using 'range' sample style. Got [640, 672, 704, 736, 768, 800]!\n",
      "Failed 000000257084.jpg: short_edge_length must be two values using 'range' sample style. Got [640, 672, 704, 736, 768, 800]!\n",
      "Failed 000000257169.jpg: short_edge_length must be two values using 'range' sample style. Got [640, 672, 704, 736, 768, 800]!\n",
      "Failed 000000257370.jpg: short_edge_length must be two values using 'range' sample style. Got [640, 672, 704, 736, 768, 800]!\n",
      "Failed 000000257478.jpg: short_edge_length must be two values using 'range' sample style. Got [640, 672, 704, 736, 768, 800]!\n",
      "Failed 000000257566.jpg: short_edge_length must be two values using 'range' sample style. Got [640, 672, 704, 736, 768, 800]!\n",
      "Failed 000000257624.jpg: short_edge_length must be two values using 'range' sample style. Got [640, 672, 704, 736, 768, 800]!\n",
      "Failed 000000257865.jpg: short_edge_length must be two values using 'range' sample style. Got [640, 672, 704, 736, 768, 800]!\n"
     ]
    },
    {
     "name": "stderr",
     "output_type": "stream",
     "text": [
      "Extracting features:  45%|█████████████████████████▌                               | 2238/5000 [01:00<01:14, 36.90it/s]"
     ]
    },
    {
     "name": "stdout",
     "output_type": "stream",
     "text": [
      "Failed 000000257896.jpg: short_edge_length must be two values using 'range' sample style. Got [640, 672, 704, 736, 768, 800]!\n",
      "Failed 000000258388.jpg: short_edge_length must be two values using 'range' sample style. Got [640, 672, 704, 736, 768, 800]!\n",
      "Failed 000000258541.jpg: short_edge_length must be two values using 'range' sample style. Got [640, 672, 704, 736, 768, 800]!\n",
      "Failed 000000258793.jpg: short_edge_length must be two values using 'range' sample style. Got [640, 672, 704, 736, 768, 800]!\n",
      "Failed 000000258883.jpg: short_edge_length must be two values using 'range' sample style. Got [640, 672, 704, 736, 768, 800]!\n",
      "Failed 000000258911.jpg: short_edge_length must be two values using 'range' sample style. Got [640, 672, 704, 736, 768, 800]!\n",
      "Failed 000000259097.jpg: short_edge_length must be two values using 'range' sample style. Got [640, 672, 704, 736, 768, 800]!\n",
      "Failed 000000259382.jpg: short_edge_length must be two values using 'range' sample style. Got [640, 672, 704, 736, 768, 800]!\n"
     ]
    },
    {
     "name": "stderr",
     "output_type": "stream",
     "text": [
      "Extracting features:  45%|█████████████████████████▌                               | 2246/5000 [01:00<01:14, 36.89it/s]"
     ]
    },
    {
     "name": "stdout",
     "output_type": "stream",
     "text": [
      "Failed 000000259571.jpg: short_edge_length must be two values using 'range' sample style. Got [640, 672, 704, 736, 768, 800]!\n",
      "Failed 000000259597.jpg: short_edge_length must be two values using 'range' sample style. Got [640, 672, 704, 736, 768, 800]!\n",
      "Failed 000000259625.jpg: short_edge_length must be two values using 'range' sample style. Got [640, 672, 704, 736, 768, 800]!\n",
      "Failed 000000259640.jpg: short_edge_length must be two values using 'range' sample style. Got [640, 672, 704, 736, 768, 800]!\n",
      "Failed 000000259690.jpg: short_edge_length must be two values using 'range' sample style. Got [640, 672, 704, 736, 768, 800]!\n",
      "Failed 000000259830.jpg: short_edge_length must be two values using 'range' sample style. Got [640, 672, 704, 736, 768, 800]!\n",
      "Failed 000000259854.jpg: short_edge_length must be two values using 'range' sample style. Got [640, 672, 704, 736, 768, 800]!\n"
     ]
    },
    {
     "name": "stderr",
     "output_type": "stream",
     "text": [
      "Extracting features:  45%|█████████████████████████▋                               | 2255/5000 [01:00<01:15, 36.29it/s]"
     ]
    },
    {
     "name": "stdout",
     "output_type": "stream",
     "text": [
      "Failed 000000260105.jpg: short_edge_length must be two values using 'range' sample style. Got [640, 672, 704, 736, 768, 800]!\n",
      "Failed 000000260106.jpg: short_edge_length must be two values using 'range' sample style. Got [640, 672, 704, 736, 768, 800]!\n",
      "Failed 000000260261.jpg: short_edge_length must be two values using 'range' sample style. Got [640, 672, 704, 736, 768, 800]!\n",
      "Failed 000000260266.jpg: short_edge_length must be two values using 'range' sample style. Got [640, 672, 704, 736, 768, 800]!\n",
      "Failed 000000260470.jpg: short_edge_length must be two values using 'range' sample style. Got [640, 672, 704, 736, 768, 800]!\n",
      "Failed 000000260657.jpg: short_edge_length must be two values using 'range' sample style. Got [640, 672, 704, 736, 768, 800]!\n",
      "Failed 000000260925.jpg: short_edge_length must be two values using 'range' sample style. Got [640, 672, 704, 736, 768, 800]!\n",
      "Failed 000000261036.jpg: short_edge_length must be two values using 'range' sample style. Got [640, 672, 704, 736, 768, 800]!\n"
     ]
    },
    {
     "name": "stderr",
     "output_type": "stream",
     "text": [
      "Extracting features:  45%|█████████████████████████▊                               | 2264/5000 [01:01<01:12, 37.77it/s]"
     ]
    },
    {
     "name": "stdout",
     "output_type": "stream",
     "text": [
      "Failed 000000261061.jpg: short_edge_length must be two values using 'range' sample style. Got [640, 672, 704, 736, 768, 800]!\n",
      "Failed 000000261097.jpg: short_edge_length must be two values using 'range' sample style. Got [640, 672, 704, 736, 768, 800]!\n",
      "Failed 000000261116.jpg: short_edge_length must be two values using 'range' sample style. Got [640, 672, 704, 736, 768, 800]!\n",
      "Failed 000000261161.jpg: short_edge_length must be two values using 'range' sample style. Got [640, 672, 704, 736, 768, 800]!\n",
      "Failed 000000261318.jpg: short_edge_length must be two values using 'range' sample style. Got [640, 672, 704, 736, 768, 800]!\n",
      "Failed 000000261535.jpg: short_edge_length must be two values using 'range' sample style. Got [640, 672, 704, 736, 768, 800]!\n",
      "Failed 000000261706.jpg: short_edge_length must be two values using 'range' sample style. Got [640, 672, 704, 736, 768, 800]!\n",
      "Failed 000000261712.jpg: short_edge_length must be two values using 'range' sample style. Got [640, 672, 704, 736, 768, 800]!\n"
     ]
    },
    {
     "name": "stderr",
     "output_type": "stream",
     "text": [
      "\r",
      "Extracting features:  45%|█████████████████████████▊                               | 2268/5000 [01:01<01:18, 34.88it/s]"
     ]
    },
    {
     "name": "stdout",
     "output_type": "stream",
     "text": [
      "Failed 000000261732.jpg: short_edge_length must be two values using 'range' sample style. Got [640, 672, 704, 736, 768, 800]!\n",
      "Failed 000000261796.jpg: short_edge_length must be two values using 'range' sample style. Got [640, 672, 704, 736, 768, 800]!\n",
      "Failed 000000261888.jpg: short_edge_length must be two values using 'range' sample style. Got [640, 672, 704, 736, 768, 800]!\n",
      "Failed 000000261982.jpg: short_edge_length must be two values using 'range' sample style. Got [640, 672, 704, 736, 768, 800]!\n",
      "Failed 000000262048.jpg: short_edge_length must be two values using 'range' sample style. Got [640, 672, 704, 736, 768, 800]!\n",
      "Failed 000000262227.jpg: short_edge_length must be two values using 'range' sample style. Got [640, 672, 704, 736, 768, 800]!\n",
      "Failed 000000262440.jpg: short_edge_length must be two values using 'range' sample style. Got [640, 672, 704, 736, 768, 800]!\n"
     ]
    },
    {
     "name": "stderr",
     "output_type": "stream",
     "text": [
      "Extracting features:  46%|█████████████████████████▉                               | 2276/5000 [01:01<01:22, 32.87it/s]"
     ]
    },
    {
     "name": "stdout",
     "output_type": "stream",
     "text": [
      "Failed 000000262487.jpg: short_edge_length must be two values using 'range' sample style. Got [640, 672, 704, 736, 768, 800]!\n",
      "Failed 000000262587.jpg: short_edge_length must be two values using 'range' sample style. Got [640, 672, 704, 736, 768, 800]!\n",
      "Failed 000000262631.jpg: short_edge_length must be two values using 'range' sample style. Got [640, 672, 704, 736, 768, 800]!\n",
      "Failed 000000262682.jpg: short_edge_length must be two values using 'range' sample style. Got [640, 672, 704, 736, 768, 800]!\n",
      "Failed 000000262895.jpg: short_edge_length must be two values using 'range' sample style. Got [640, 672, 704, 736, 768, 800]!\n",
      "Failed 000000262938.jpg: short_edge_length must be two values using 'range' sample style. Got [640, 672, 704, 736, 768, 800]!\n",
      "Failed 000000263068.jpg: short_edge_length must be two values using 'range' sample style. Got [640, 672, 704, 736, 768, 800]!\n",
      "Failed 000000263299.jpg: short_edge_length must be two values using 'range' sample style. Got [640, 672, 704, 736, 768, 800]!\n"
     ]
    },
    {
     "name": "stderr",
     "output_type": "stream",
     "text": [
      "Extracting features:  46%|██████████████████████████                               | 2285/5000 [01:01<01:14, 36.27it/s]"
     ]
    },
    {
     "name": "stdout",
     "output_type": "stream",
     "text": [
      "Failed 000000263403.jpg: short_edge_length must be two values using 'range' sample style. Got [640, 672, 704, 736, 768, 800]!\n",
      "Failed 000000263425.jpg: short_edge_length must be two values using 'range' sample style. Got [640, 672, 704, 736, 768, 800]!\n",
      "Failed 000000263463.jpg: short_edge_length must be two values using 'range' sample style. Got [640, 672, 704, 736, 768, 800]!\n",
      "Failed 000000263474.jpg: short_edge_length must be two values using 'range' sample style. Got [640, 672, 704, 736, 768, 800]!\n",
      "Failed 000000263594.jpg: short_edge_length must be two values using 'range' sample style. Got [640, 672, 704, 736, 768, 800]!\n",
      "Failed 000000263644.jpg: short_edge_length must be two values using 'range' sample style. Got [640, 672, 704, 736, 768, 800]!\n",
      "Failed 000000263679.jpg: short_edge_length must be two values using 'range' sample style. Got [640, 672, 704, 736, 768, 800]!\n",
      "Failed 000000263796.jpg: short_edge_length must be two values using 'range' sample style. Got [640, 672, 704, 736, 768, 800]!\n"
     ]
    },
    {
     "name": "stderr",
     "output_type": "stream",
     "text": [
      "Extracting features:  46%|██████████████████████████▏                              | 2293/5000 [01:02<01:16, 35.56it/s]"
     ]
    },
    {
     "name": "stdout",
     "output_type": "stream",
     "text": [
      "Failed 000000263860.jpg: short_edge_length must be two values using 'range' sample style. Got [640, 672, 704, 736, 768, 800]!\n",
      "Failed 000000263966.jpg: short_edge_length must be two values using 'range' sample style. Got [640, 672, 704, 736, 768, 800]!\n",
      "Failed 000000263969.jpg: short_edge_length must be two values using 'range' sample style. Got [640, 672, 704, 736, 768, 800]!\n",
      "Failed 000000264335.jpg: short_edge_length must be two values using 'range' sample style. Got [640, 672, 704, 736, 768, 800]!\n",
      "Failed 000000264441.jpg: short_edge_length must be two values using 'range' sample style. Got [640, 672, 704, 736, 768, 800]!\n",
      "Failed 000000264535.jpg: short_edge_length must be two values using 'range' sample style. Got [640, 672, 704, 736, 768, 800]!\n",
      "Failed 000000264968.jpg: short_edge_length must be two values using 'range' sample style. Got [640, 672, 704, 736, 768, 800]!\n"
     ]
    },
    {
     "name": "stderr",
     "output_type": "stream",
     "text": [
      "Extracting features:  46%|██████████████████████████▏                              | 2301/5000 [01:02<01:15, 35.58it/s]"
     ]
    },
    {
     "name": "stdout",
     "output_type": "stream",
     "text": [
      "Failed 000000265108.jpg: short_edge_length must be two values using 'range' sample style. Got [640, 672, 704, 736, 768, 800]!\n",
      "Failed 000000265518.jpg: short_edge_length must be two values using 'range' sample style. Got [640, 672, 704, 736, 768, 800]!\n",
      "Failed 000000265777.jpg: short_edge_length must be two values using 'range' sample style. Got [640, 672, 704, 736, 768, 800]!\n",
      "Failed 000000265816.jpg: short_edge_length must be two values using 'range' sample style. Got [640, 672, 704, 736, 768, 800]!\n",
      "Failed 000000266082.jpg: short_edge_length must be two values using 'range' sample style. Got [640, 672, 704, 736, 768, 800]!\n",
      "Failed 000000266206.jpg: short_edge_length must be two values using 'range' sample style. Got [640, 672, 704, 736, 768, 800]!\n",
      "Failed 000000266400.jpg: short_edge_length must be two values using 'range' sample style. Got [640, 672, 704, 736, 768, 800]!\n",
      "Failed 000000266409.jpg: short_edge_length must be two values using 'range' sample style. Got [640, 672, 704, 736, 768, 800]!\n"
     ]
    },
    {
     "name": "stderr",
     "output_type": "stream",
     "text": [
      "Extracting features:  46%|██████████████████████████▎                              | 2309/5000 [01:02<01:19, 34.04it/s]"
     ]
    },
    {
     "name": "stdout",
     "output_type": "stream",
     "text": [
      "Failed 000000266768.jpg: short_edge_length must be two values using 'range' sample style. Got [640, 672, 704, 736, 768, 800]!\n",
      "Failed 000000266892.jpg: short_edge_length must be two values using 'range' sample style. Got [640, 672, 704, 736, 768, 800]!\n",
      "Failed 000000266981.jpg: short_edge_length must be two values using 'range' sample style. Got [640, 672, 704, 736, 768, 800]!\n",
      "Failed 000000267169.jpg: short_edge_length must be two values using 'range' sample style. Got [640, 672, 704, 736, 768, 800]!\n",
      "Failed 000000267191.jpg: short_edge_length must be two values using 'range' sample style. Got [640, 672, 704, 736, 768, 800]!\n",
      "Failed 000000267300.jpg: short_edge_length must be two values using 'range' sample style. Got [640, 672, 704, 736, 768, 800]!\n",
      "Failed 000000267351.jpg: short_edge_length must be two values using 'range' sample style. Got [640, 672, 704, 736, 768, 800]!\n"
     ]
    },
    {
     "name": "stderr",
     "output_type": "stream",
     "text": [
      "\r",
      "Extracting features:  46%|██████████████████████████▎                              | 2313/5000 [01:02<01:19, 34.00it/s]"
     ]
    },
    {
     "name": "stdout",
     "output_type": "stream",
     "text": [
      "Failed 000000267434.jpg: short_edge_length must be two values using 'range' sample style. Got [640, 672, 704, 736, 768, 800]!\n",
      "Failed 000000267537.jpg: short_edge_length must be two values using 'range' sample style. Got [640, 672, 704, 736, 768, 800]!\n",
      "Failed 000000267670.jpg: short_edge_length must be two values using 'range' sample style. Got [640, 672, 704, 736, 768, 800]!\n",
      "Failed 000000267903.jpg: short_edge_length must be two values using 'range' sample style. Got [640, 672, 704, 736, 768, 800]!\n",
      "Failed 000000267933.jpg: short_edge_length must be two values using 'range' sample style. Got [640, 672, 704, 736, 768, 800]!\n",
      "Failed 000000267940.jpg: short_edge_length must be two values using 'range' sample style. Got [640, 672, 704, 736, 768, 800]!\n",
      "Failed 000000267946.jpg: short_edge_length must be two values using 'range' sample style. Got [640, 672, 704, 736, 768, 800]!\n",
      "Failed 000000268000.jpg: short_edge_length must be two values using 'range' sample style. Got [640, 672, 704, 736, 768, 800]!\n"
     ]
    },
    {
     "name": "stderr",
     "output_type": "stream",
     "text": [
      "Extracting features:  46%|██████████████████████████▍                              | 2323/5000 [01:02<01:14, 35.74it/s]"
     ]
    },
    {
     "name": "stdout",
     "output_type": "stream",
     "text": [
      "Failed 000000268375.jpg: short_edge_length must be two values using 'range' sample style. Got [640, 672, 704, 736, 768, 800]!\n",
      "Failed 000000268378.jpg: short_edge_length must be two values using 'range' sample style. Got [640, 672, 704, 736, 768, 800]!\n",
      "Failed 000000268729.jpg: short_edge_length must be two values using 'range' sample style. Got [640, 672, 704, 736, 768, 800]!\n",
      "Failed 000000268831.jpg: short_edge_length must be two values using 'range' sample style. Got [640, 672, 704, 736, 768, 800]!\n",
      "Failed 000000268996.jpg: short_edge_length must be two values using 'range' sample style. Got [640, 672, 704, 736, 768, 800]!\n",
      "Failed 000000269113.jpg: short_edge_length must be two values using 'range' sample style. Got [640, 672, 704, 736, 768, 800]!\n",
      "Failed 000000269121.jpg: short_edge_length must be two values using 'range' sample style. Got [640, 672, 704, 736, 768, 800]!\n",
      "Failed 000000269196.jpg: short_edge_length must be two values using 'range' sample style. Got [640, 672, 704, 736, 768, 800]!\n"
     ]
    },
    {
     "name": "stderr",
     "output_type": "stream",
     "text": [
      "Extracting features:  47%|██████████████████████████▌                              | 2332/5000 [01:03<01:10, 37.83it/s]"
     ]
    },
    {
     "name": "stdout",
     "output_type": "stream",
     "text": [
      "Failed 000000269314.jpg: short_edge_length must be two values using 'range' sample style. Got [640, 672, 704, 736, 768, 800]!\n",
      "Failed 000000269316.jpg: short_edge_length must be two values using 'range' sample style. Got [640, 672, 704, 736, 768, 800]!\n",
      "Failed 000000269632.jpg: short_edge_length must be two values using 'range' sample style. Got [640, 672, 704, 736, 768, 800]!\n",
      "Failed 000000269682.jpg: short_edge_length must be two values using 'range' sample style. Got [640, 672, 704, 736, 768, 800]!\n",
      "Failed 000000269866.jpg: short_edge_length must be two values using 'range' sample style. Got [640, 672, 704, 736, 768, 800]!\n",
      "Failed 000000269932.jpg: short_edge_length must be two values using 'range' sample style. Got [640, 672, 704, 736, 768, 800]!\n",
      "Failed 000000269942.jpg: short_edge_length must be two values using 'range' sample style. Got [640, 672, 704, 736, 768, 800]!\n",
      "Failed 000000270066.jpg: short_edge_length must be two values using 'range' sample style. Got [640, 672, 704, 736, 768, 800]!\n"
     ]
    },
    {
     "name": "stderr",
     "output_type": "stream",
     "text": [
      "\r",
      "Extracting features:  47%|██████████████████████████▋                              | 2336/5000 [01:03<01:13, 36.15it/s]"
     ]
    },
    {
     "name": "stdout",
     "output_type": "stream",
     "text": [
      "Failed 000000270122.jpg: short_edge_length must be two values using 'range' sample style. Got [640, 672, 704, 736, 768, 800]!\n",
      "Failed 000000270244.jpg: short_edge_length must be two values using 'range' sample style. Got [640, 672, 704, 736, 768, 800]!\n",
      "Failed 000000270297.jpg: short_edge_length must be two values using 'range' sample style. Got [640, 672, 704, 736, 768, 800]!\n",
      "Failed 000000270386.jpg: short_edge_length must be two values using 'range' sample style. Got [640, 672, 704, 736, 768, 800]!\n",
      "Failed 000000270402.jpg: short_edge_length must be two values using 'range' sample style. Got [640, 672, 704, 736, 768, 800]!\n",
      "Failed 000000270474.jpg: short_edge_length must be two values using 'range' sample style. Got [640, 672, 704, 736, 768, 800]!\n",
      "Failed 000000270677.jpg: short_edge_length must be two values using 'range' sample style. Got [640, 672, 704, 736, 768, 800]!\n"
     ]
    },
    {
     "name": "stderr",
     "output_type": "stream",
     "text": [
      "Extracting features:  47%|██████████████████████████▋                              | 2345/5000 [01:03<01:12, 36.72it/s]"
     ]
    },
    {
     "name": "stdout",
     "output_type": "stream",
     "text": [
      "Failed 000000270705.jpg: short_edge_length must be two values using 'range' sample style. Got [640, 672, 704, 736, 768, 800]!\n",
      "Failed 000000270883.jpg: short_edge_length must be two values using 'range' sample style. Got [640, 672, 704, 736, 768, 800]!\n",
      "Failed 000000270908.jpg: short_edge_length must be two values using 'range' sample style. Got [640, 672, 704, 736, 768, 800]!\n",
      "Failed 000000271116.jpg: short_edge_length must be two values using 'range' sample style. Got [640, 672, 704, 736, 768, 800]!\n",
      "Failed 000000271402.jpg: short_edge_length must be two values using 'range' sample style. Got [640, 672, 704, 736, 768, 800]!\n",
      "Failed 000000271457.jpg: short_edge_length must be two values using 'range' sample style. Got [640, 672, 704, 736, 768, 800]!\n",
      "Failed 000000271471.jpg: short_edge_length must be two values using 'range' sample style. Got [640, 672, 704, 736, 768, 800]!\n",
      "Failed 000000271728.jpg: short_edge_length must be two values using 'range' sample style. Got [640, 672, 704, 736, 768, 800]!\n"
     ]
    },
    {
     "name": "stderr",
     "output_type": "stream",
     "text": [
      "Extracting features:  47%|██████████████████████████▊                              | 2353/5000 [01:03<01:15, 35.28it/s]"
     ]
    },
    {
     "name": "stdout",
     "output_type": "stream",
     "text": [
      "Failed 000000271997.jpg: short_edge_length must be two values using 'range' sample style. Got [640, 672, 704, 736, 768, 800]!\n",
      "Failed 000000272049.jpg: short_edge_length must be two values using 'range' sample style. Got [640, 672, 704, 736, 768, 800]!\n",
      "Failed 000000272136.jpg: short_edge_length must be two values using 'range' sample style. Got [640, 672, 704, 736, 768, 800]!\n",
      "Failed 000000272148.jpg: short_edge_length must be two values using 'range' sample style. Got [640, 672, 704, 736, 768, 800]!\n",
      "Failed 000000272212.jpg: short_edge_length must be two values using 'range' sample style. Got [640, 672, 704, 736, 768, 800]!\n",
      "Failed 000000272364.jpg: short_edge_length must be two values using 'range' sample style. Got [640, 672, 704, 736, 768, 800]!\n",
      "Failed 000000272416.jpg: short_edge_length must be two values using 'range' sample style. Got [640, 672, 704, 736, 768, 800]!\n",
      "Failed 000000272566.jpg: short_edge_length must be two values using 'range' sample style. Got [640, 672, 704, 736, 768, 800]!\n"
     ]
    },
    {
     "name": "stderr",
     "output_type": "stream",
     "text": [
      "Extracting features:  47%|██████████████████████████▉                              | 2361/5000 [01:03<01:14, 35.47it/s]"
     ]
    },
    {
     "name": "stdout",
     "output_type": "stream",
     "text": [
      "Failed 000000273132.jpg: short_edge_length must be two values using 'range' sample style. Got [640, 672, 704, 736, 768, 800]!\n",
      "Failed 000000273198.jpg: short_edge_length must be two values using 'range' sample style. Got [640, 672, 704, 736, 768, 800]!\n",
      "Failed 000000273232.jpg: short_edge_length must be two values using 'range' sample style. Got [640, 672, 704, 736, 768, 800]!\n",
      "Failed 000000273420.jpg: short_edge_length must be two values using 'range' sample style. Got [640, 672, 704, 736, 768, 800]!\n",
      "Failed 000000273493.jpg: short_edge_length must be two values using 'range' sample style. Got [640, 672, 704, 736, 768, 800]!\n",
      "Failed 000000273551.jpg: short_edge_length must be two values using 'range' sample style. Got [640, 672, 704, 736, 768, 800]!\n",
      "Failed 000000273617.jpg: short_edge_length must be two values using 'range' sample style. Got [640, 672, 704, 736, 768, 800]!\n"
     ]
    },
    {
     "name": "stderr",
     "output_type": "stream",
     "text": [
      "Extracting features:  47%|███████████████████████████                              | 2370/5000 [01:04<01:15, 34.63it/s]"
     ]
    },
    {
     "name": "stdout",
     "output_type": "stream",
     "text": [
      "Failed 000000273642.jpg: short_edge_length must be two values using 'range' sample style. Got [640, 672, 704, 736, 768, 800]!\n",
      "Failed 000000273711.jpg: short_edge_length must be two values using 'range' sample style. Got [640, 672, 704, 736, 768, 800]!\n",
      "Failed 000000273712.jpg: short_edge_length must be two values using 'range' sample style. Got [640, 672, 704, 736, 768, 800]!\n",
      "Failed 000000273715.jpg: short_edge_length must be two values using 'range' sample style. Got [640, 672, 704, 736, 768, 800]!\n",
      "Failed 000000273760.jpg: short_edge_length must be two values using 'range' sample style. Got [640, 672, 704, 736, 768, 800]!\n",
      "Failed 000000274066.jpg: short_edge_length must be two values using 'range' sample style. Got [640, 672, 704, 736, 768, 800]!\n",
      "Failed 000000274219.jpg: short_edge_length must be two values using 'range' sample style. Got [640, 672, 704, 736, 768, 800]!\n",
      "Failed 000000274272.jpg: short_edge_length must be two values using 'range' sample style. Got [640, 672, 704, 736, 768, 800]!\n"
     ]
    },
    {
     "name": "stderr",
     "output_type": "stream",
     "text": [
      "\r",
      "Extracting features:  47%|███████████████████████████                              | 2374/5000 [01:04<01:18, 33.48it/s]"
     ]
    },
    {
     "name": "stdout",
     "output_type": "stream",
     "text": [
      "Failed 000000274411.jpg: short_edge_length must be two values using 'range' sample style. Got [640, 672, 704, 736, 768, 800]!\n",
      "Failed 000000274460.jpg: short_edge_length must be two values using 'range' sample style. Got [640, 672, 704, 736, 768, 800]!\n",
      "Failed 000000274687.jpg: short_edge_length must be two values using 'range' sample style. Got [640, 672, 704, 736, 768, 800]!\n",
      "Failed 000000274708.jpg: short_edge_length must be two values using 'range' sample style. Got [640, 672, 704, 736, 768, 800]!\n",
      "Failed 000000275058.jpg: short_edge_length must be two values using 'range' sample style. Got [640, 672, 704, 736, 768, 800]!\n",
      "Failed 000000275198.jpg: short_edge_length must be two values using 'range' sample style. Got [640, 672, 704, 736, 768, 800]!\n"
     ]
    },
    {
     "name": "stderr",
     "output_type": "stream",
     "text": [
      "Extracting features:  48%|███████████████████████████▏                             | 2382/5000 [01:04<01:18, 33.27it/s]"
     ]
    },
    {
     "name": "stdout",
     "output_type": "stream",
     "text": [
      "Failed 000000275392.jpg: short_edge_length must be two values using 'range' sample style. Got [640, 672, 704, 736, 768, 800]!\n",
      "Failed 000000275727.jpg: short_edge_length must be two values using 'range' sample style. Got [640, 672, 704, 736, 768, 800]!\n",
      "Failed 000000275749.jpg: short_edge_length must be two values using 'range' sample style. Got [640, 672, 704, 736, 768, 800]!\n",
      "Failed 000000275791.jpg: short_edge_length must be two values using 'range' sample style. Got [640, 672, 704, 736, 768, 800]!\n",
      "Failed 000000276018.jpg: short_edge_length must be two values using 'range' sample style. Got [640, 672, 704, 736, 768, 800]!\n",
      "Failed 000000276024.jpg: short_edge_length must be two values using 'range' sample style. Got [640, 672, 704, 736, 768, 800]!\n",
      "Failed 000000276055.jpg: short_edge_length must be two values using 'range' sample style. Got [640, 672, 704, 736, 768, 800]!\n",
      "Failed 000000276284.jpg: short_edge_length must be two values using 'range' sample style. Got [640, 672, 704, 736, 768, 800]!\n"
     ]
    },
    {
     "name": "stderr",
     "output_type": "stream",
     "text": [
      "Extracting features:  48%|███████████████████████████▏                             | 2390/5000 [01:04<01:19, 32.80it/s]"
     ]
    },
    {
     "name": "stdout",
     "output_type": "stream",
     "text": [
      "Failed 000000276285.jpg: short_edge_length must be two values using 'range' sample style. Got [640, 672, 704, 736, 768, 800]!\n",
      "Failed 000000276434.jpg: short_edge_length must be two values using 'range' sample style. Got [640, 672, 704, 736, 768, 800]!\n",
      "Failed 000000276707.jpg: short_edge_length must be two values using 'range' sample style. Got [640, 672, 704, 736, 768, 800]!\n",
      "Failed 000000276720.jpg: short_edge_length must be two values using 'range' sample style. Got [640, 672, 704, 736, 768, 800]!\n",
      "Failed 000000276804.jpg: short_edge_length must be two values using 'range' sample style. Got [640, 672, 704, 736, 768, 800]!\n",
      "Failed 000000276921.jpg: short_edge_length must be two values using 'range' sample style. Got [640, 672, 704, 736, 768, 800]!\n",
      "Failed 000000277005.jpg: short_edge_length must be two values using 'range' sample style. Got [640, 672, 704, 736, 768, 800]!\n",
      "Failed 000000277020.jpg: short_edge_length must be two values using 'range' sample style. Got [640, 672, 704, 736, 768, 800]!\n"
     ]
    },
    {
     "name": "stderr",
     "output_type": "stream",
     "text": [
      "Extracting features:  48%|███████████████████████████▎                             | 2398/5000 [01:05<01:16, 34.19it/s]"
     ]
    },
    {
     "name": "stdout",
     "output_type": "stream",
     "text": [
      "Failed 000000277051.jpg: short_edge_length must be two values using 'range' sample style. Got [640, 672, 704, 736, 768, 800]!\n",
      "Failed 000000277197.jpg: short_edge_length must be two values using 'range' sample style. Got [640, 672, 704, 736, 768, 800]!\n",
      "Failed 000000277584.jpg: short_edge_length must be two values using 'range' sample style. Got [640, 672, 704, 736, 768, 800]!\n",
      "Failed 000000277689.jpg: short_edge_length must be two values using 'range' sample style. Got [640, 672, 704, 736, 768, 800]!\n",
      "Failed 000000278006.jpg: short_edge_length must be two values using 'range' sample style. Got [640, 672, 704, 736, 768, 800]!\n",
      "Failed 000000278353.jpg: short_edge_length must be two values using 'range' sample style. Got [640, 672, 704, 736, 768, 800]!\n",
      "Failed 000000278463.jpg: short_edge_length must be two values using 'range' sample style. Got [640, 672, 704, 736, 768, 800]!\n",
      "Failed 000000278705.jpg: short_edge_length must be two values using 'range' sample style. Got [640, 672, 704, 736, 768, 800]!\n"
     ]
    },
    {
     "name": "stderr",
     "output_type": "stream",
     "text": [
      "Extracting features:  48%|███████████████████████████▍                             | 2407/5000 [01:05<01:16, 33.78it/s]"
     ]
    },
    {
     "name": "stdout",
     "output_type": "stream",
     "text": [
      "Failed 000000278749.jpg: short_edge_length must be two values using 'range' sample style. Got [640, 672, 704, 736, 768, 800]!\n",
      "Failed 000000278848.jpg: short_edge_length must be two values using 'range' sample style. Got [640, 672, 704, 736, 768, 800]!\n",
      "Failed 000000278973.jpg: short_edge_length must be two values using 'range' sample style. Got [640, 672, 704, 736, 768, 800]!\n",
      "Failed 000000279145.jpg: short_edge_length must be two values using 'range' sample style. Got [640, 672, 704, 736, 768, 800]!\n",
      "Failed 000000279278.jpg: short_edge_length must be two values using 'range' sample style. Got [640, 672, 704, 736, 768, 800]!\n",
      "Failed 000000279541.jpg: short_edge_length must be two values using 'range' sample style. Got [640, 672, 704, 736, 768, 800]!\n",
      "Failed 000000279714.jpg: short_edge_length must be two values using 'range' sample style. Got [640, 672, 704, 736, 768, 800]!\n",
      "Failed 000000279730.jpg: short_edge_length must be two values using 'range' sample style. Got [640, 672, 704, 736, 768, 800]!\n"
     ]
    },
    {
     "name": "stderr",
     "output_type": "stream",
     "text": [
      "Extracting features:  48%|███████████████████████████▌                             | 2415/5000 [01:05<01:21, 31.87it/s]"
     ]
    },
    {
     "name": "stdout",
     "output_type": "stream",
     "text": [
      "Failed 000000279769.jpg: short_edge_length must be two values using 'range' sample style. Got [640, 672, 704, 736, 768, 800]!\n",
      "Failed 000000279774.jpg: short_edge_length must be two values using 'range' sample style. Got [640, 672, 704, 736, 768, 800]!\n",
      "Failed 000000279887.jpg: short_edge_length must be two values using 'range' sample style. Got [640, 672, 704, 736, 768, 800]!\n",
      "Failed 000000279927.jpg: short_edge_length must be two values using 'range' sample style. Got [640, 672, 704, 736, 768, 800]!\n",
      "Failed 000000280325.jpg: short_edge_length must be two values using 'range' sample style. Got [640, 672, 704, 736, 768, 800]!\n",
      "Failed 000000280710.jpg: short_edge_length must be two values using 'range' sample style. Got [640, 672, 704, 736, 768, 800]!\n"
     ]
    },
    {
     "name": "stderr",
     "output_type": "stream",
     "text": [
      "\r",
      "Extracting features:  48%|███████████████████████████▌                             | 2419/5000 [01:05<01:22, 31.44it/s]"
     ]
    },
    {
     "name": "stdout",
     "output_type": "stream",
     "text": [
      "Failed 000000280779.jpg: short_edge_length must be two values using 'range' sample style. Got [640, 672, 704, 736, 768, 800]!\n",
      "Failed 000000280891.jpg: short_edge_length must be two values using 'range' sample style. Got [640, 672, 704, 736, 768, 800]!\n",
      "Failed 000000280918.jpg: short_edge_length must be two values using 'range' sample style. Got [640, 672, 704, 736, 768, 800]!\n",
      "Failed 000000280930.jpg: short_edge_length must be two values using 'range' sample style. Got [640, 672, 704, 736, 768, 800]!\n",
      "Failed 000000281032.jpg: short_edge_length must be two values using 'range' sample style. Got [640, 672, 704, 736, 768, 800]!\n",
      "Failed 000000281179.jpg: short_edge_length must be two values using 'range' sample style. Got [640, 672, 704, 736, 768, 800]!\n"
     ]
    },
    {
     "name": "stderr",
     "output_type": "stream",
     "text": [
      "Extracting features:  49%|███████████████████████████▋                             | 2427/5000 [01:05<01:23, 30.88it/s]"
     ]
    },
    {
     "name": "stdout",
     "output_type": "stream",
     "text": [
      "Failed 000000281409.jpg: short_edge_length must be two values using 'range' sample style. Got [640, 672, 704, 736, 768, 800]!\n",
      "Failed 000000281414.jpg: short_edge_length must be two values using 'range' sample style. Got [640, 672, 704, 736, 768, 800]!\n",
      "Failed 000000281447.jpg: short_edge_length must be two values using 'range' sample style. Got [640, 672, 704, 736, 768, 800]!\n",
      "Failed 000000281687.jpg: short_edge_length must be two values using 'range' sample style. Got [640, 672, 704, 736, 768, 800]!\n",
      "Failed 000000281693.jpg: short_edge_length must be two values using 'range' sample style. Got [640, 672, 704, 736, 768, 800]!\n",
      "Failed 000000281754.jpg: short_edge_length must be two values using 'range' sample style. Got [640, 672, 704, 736, 768, 800]!\n",
      "Failed 000000281759.jpg: short_edge_length must be two values using 'range' sample style. Got [640, 672, 704, 736, 768, 800]!\n"
     ]
    },
    {
     "name": "stderr",
     "output_type": "stream",
     "text": [
      "Extracting features:  49%|███████████████████████████▊                             | 2435/5000 [01:06<01:20, 31.77it/s]"
     ]
    },
    {
     "name": "stdout",
     "output_type": "stream",
     "text": [
      "Failed 000000281929.jpg: short_edge_length must be two values using 'range' sample style. Got [640, 672, 704, 736, 768, 800]!\n",
      "Failed 000000282037.jpg: short_edge_length must be two values using 'range' sample style. Got [640, 672, 704, 736, 768, 800]!\n",
      "Failed 000000282046.jpg: short_edge_length must be two values using 'range' sample style. Got [640, 672, 704, 736, 768, 800]!\n",
      "Failed 000000282296.jpg: short_edge_length must be two values using 'range' sample style. Got [640, 672, 704, 736, 768, 800]!\n",
      "Failed 000000282298.jpg: short_edge_length must be two values using 'range' sample style. Got [640, 672, 704, 736, 768, 800]!\n",
      "Failed 000000282912.jpg: short_edge_length must be two values using 'range' sample style. Got [640, 672, 704, 736, 768, 800]!\n",
      "Failed 000000283037.jpg: short_edge_length must be two values using 'range' sample style. Got [640, 672, 704, 736, 768, 800]!\n",
      "Failed 000000283038.jpg: short_edge_length must be two values using 'range' sample style. Got [640, 672, 704, 736, 768, 800]!\n"
     ]
    },
    {
     "name": "stderr",
     "output_type": "stream",
     "text": [
      "Extracting features:  49%|███████████████████████████▊                             | 2443/5000 [01:06<01:14, 34.21it/s]"
     ]
    },
    {
     "name": "stdout",
     "output_type": "stream",
     "text": [
      "Failed 000000283070.jpg: short_edge_length must be two values using 'range' sample style. Got [640, 672, 704, 736, 768, 800]!\n",
      "Failed 000000283113.jpg: short_edge_length must be two values using 'range' sample style. Got [640, 672, 704, 736, 768, 800]!\n",
      "Failed 000000283268.jpg: short_edge_length must be two values using 'range' sample style. Got [640, 672, 704, 736, 768, 800]!\n",
      "Failed 000000283318.jpg: short_edge_length must be two values using 'range' sample style. Got [640, 672, 704, 736, 768, 800]!\n",
      "Failed 000000283412.jpg: short_edge_length must be two values using 'range' sample style. Got [640, 672, 704, 736, 768, 800]!\n",
      "Failed 000000283520.jpg: short_edge_length must be two values using 'range' sample style. Got [640, 672, 704, 736, 768, 800]!\n",
      "Failed 000000283717.jpg: short_edge_length must be two values using 'range' sample style. Got [640, 672, 704, 736, 768, 800]!\n",
      "Failed 000000283785.jpg: short_edge_length must be two values using 'range' sample style. Got [640, 672, 704, 736, 768, 800]!\n"
     ]
    },
    {
     "name": "stderr",
     "output_type": "stream",
     "text": [
      "Extracting features:  49%|███████████████████████████▉                             | 2451/5000 [01:06<01:11, 35.43it/s]"
     ]
    },
    {
     "name": "stdout",
     "output_type": "stream",
     "text": [
      "Failed 000000284106.jpg: short_edge_length must be two values using 'range' sample style. Got [640, 672, 704, 736, 768, 800]!\n",
      "Failed 000000284279.jpg: short_edge_length must be two values using 'range' sample style. Got [640, 672, 704, 736, 768, 800]!\n",
      "Failed 000000284282.jpg: short_edge_length must be two values using 'range' sample style. Got [640, 672, 704, 736, 768, 800]!\n",
      "Failed 000000284296.jpg: short_edge_length must be two values using 'range' sample style. Got [640, 672, 704, 736, 768, 800]!\n",
      "Failed 000000284445.jpg: short_edge_length must be two values using 'range' sample style. Got [640, 672, 704, 736, 768, 800]!\n",
      "Failed 000000284623.jpg: short_edge_length must be two values using 'range' sample style. Got [640, 672, 704, 736, 768, 800]!\n",
      "Failed 000000284698.jpg: short_edge_length must be two values using 'range' sample style. Got [640, 672, 704, 736, 768, 800]!\n",
      "Failed 000000284725.jpg: short_edge_length must be two values using 'range' sample style. Got [640, 672, 704, 736, 768, 800]!\n"
     ]
    },
    {
     "name": "stderr",
     "output_type": "stream",
     "text": [
      "Extracting features:  49%|████████████████████████████                             | 2459/5000 [01:06<01:12, 34.86it/s]"
     ]
    },
    {
     "name": "stdout",
     "output_type": "stream",
     "text": [
      "Failed 000000284743.jpg: short_edge_length must be two values using 'range' sample style. Got [640, 672, 704, 736, 768, 800]!\n",
      "Failed 000000284762.jpg: short_edge_length must be two values using 'range' sample style. Got [640, 672, 704, 736, 768, 800]!\n",
      "Failed 000000284764.jpg: short_edge_length must be two values using 'range' sample style. Got [640, 672, 704, 736, 768, 800]!\n",
      "Failed 000000284991.jpg: short_edge_length must be two values using 'range' sample style. Got [640, 672, 704, 736, 768, 800]!\n",
      "Failed 000000285047.jpg: short_edge_length must be two values using 'range' sample style. Got [640, 672, 704, 736, 768, 800]!\n",
      "Failed 000000285349.jpg: short_edge_length must be two values using 'range' sample style. Got [640, 672, 704, 736, 768, 800]!\n",
      "Failed 000000285788.jpg: short_edge_length must be two values using 'range' sample style. Got [640, 672, 704, 736, 768, 800]!\n",
      "Failed 000000285894.jpg: short_edge_length must be two values using 'range' sample style. Got [640, 672, 704, 736, 768, 800]!\n"
     ]
    },
    {
     "name": "stderr",
     "output_type": "stream",
     "text": [
      "Extracting features:  49%|████████████████████████████                             | 2467/5000 [01:07<01:12, 34.84it/s]"
     ]
    },
    {
     "name": "stdout",
     "output_type": "stream",
     "text": [
      "Failed 000000286182.jpg: short_edge_length must be two values using 'range' sample style. Got [640, 672, 704, 736, 768, 800]!\n",
      "Failed 000000286422.jpg: short_edge_length must be two values using 'range' sample style. Got [640, 672, 704, 736, 768, 800]!\n",
      "Failed 000000286458.jpg: short_edge_length must be two values using 'range' sample style. Got [640, 672, 704, 736, 768, 800]!\n",
      "Failed 000000286503.jpg: short_edge_length must be two values using 'range' sample style. Got [640, 672, 704, 736, 768, 800]!\n",
      "Failed 000000286507.jpg: short_edge_length must be two values using 'range' sample style. Got [640, 672, 704, 736, 768, 800]!\n",
      "Failed 000000286523.jpg: short_edge_length must be two values using 'range' sample style. Got [640, 672, 704, 736, 768, 800]!\n",
      "Failed 000000286553.jpg: short_edge_length must be two values using 'range' sample style. Got [640, 672, 704, 736, 768, 800]!\n",
      "Failed 000000286660.jpg: short_edge_length must be two values using 'range' sample style. Got [640, 672, 704, 736, 768, 800]!\n"
     ]
    },
    {
     "name": "stderr",
     "output_type": "stream",
     "text": [
      "Extracting features:  50%|████████████████████████████▏                            | 2475/5000 [01:07<01:13, 34.56it/s]"
     ]
    },
    {
     "name": "stdout",
     "output_type": "stream",
     "text": [
      "Failed 000000286708.jpg: short_edge_length must be two values using 'range' sample style. Got [640, 672, 704, 736, 768, 800]!\n",
      "Failed 000000286849.jpg: short_edge_length must be two values using 'range' sample style. Got [640, 672, 704, 736, 768, 800]!\n",
      "Failed 000000286907.jpg: short_edge_length must be two values using 'range' sample style. Got [640, 672, 704, 736, 768, 800]!\n",
      "Failed 000000286908.jpg: short_edge_length must be two values using 'range' sample style. Got [640, 672, 704, 736, 768, 800]!\n",
      "Failed 000000286994.jpg: short_edge_length must be two values using 'range' sample style. Got [640, 672, 704, 736, 768, 800]!\n",
      "Failed 000000287291.jpg: short_edge_length must be two values using 'range' sample style. Got [640, 672, 704, 736, 768, 800]!\n",
      "Failed 000000287347.jpg: short_edge_length must be two values using 'range' sample style. Got [640, 672, 704, 736, 768, 800]!\n"
     ]
    },
    {
     "name": "stderr",
     "output_type": "stream",
     "text": [
      "\r",
      "Extracting features:  50%|████████████████████████████▎                            | 2479/5000 [01:07<01:14, 33.85it/s]"
     ]
    },
    {
     "name": "stdout",
     "output_type": "stream",
     "text": [
      "Failed 000000287527.jpg: short_edge_length must be two values using 'range' sample style. Got [640, 672, 704, 736, 768, 800]!\n",
      "Failed 000000287545.jpg: short_edge_length must be two values using 'range' sample style. Got [640, 672, 704, 736, 768, 800]!\n",
      "Failed 000000287649.jpg: short_edge_length must be two values using 'range' sample style. Got [640, 672, 704, 736, 768, 800]!\n",
      "Failed 000000287667.jpg: short_edge_length must be two values using 'range' sample style. Got [640, 672, 704, 736, 768, 800]!\n",
      "Failed 000000287714.jpg: short_edge_length must be two values using 'range' sample style. Got [640, 672, 704, 736, 768, 800]!\n",
      "Failed 000000287874.jpg: short_edge_length must be two values using 'range' sample style. Got [640, 672, 704, 736, 768, 800]!\n",
      "Failed 000000287959.jpg: short_edge_length must be two values using 'range' sample style. Got [640, 672, 704, 736, 768, 800]!\n",
      "Failed 000000288042.jpg: short_edge_length must be two values using 'range' sample style. Got [640, 672, 704, 736, 768, 800]!\n"
     ]
    },
    {
     "name": "stderr",
     "output_type": "stream",
     "text": [
      "Extracting features:  50%|████████████████████████████▎                            | 2487/5000 [01:07<01:11, 35.37it/s]"
     ]
    },
    {
     "name": "stdout",
     "output_type": "stream",
     "text": [
      "Failed 000000288062.jpg: short_edge_length must be two values using 'range' sample style. Got [640, 672, 704, 736, 768, 800]!\n",
      "Failed 000000288391.jpg: short_edge_length must be two values using 'range' sample style. Got [640, 672, 704, 736, 768, 800]!\n",
      "Failed 000000288430.jpg: short_edge_length must be two values using 'range' sample style. Got [640, 672, 704, 736, 768, 800]!\n",
      "Failed 000000288584.jpg: short_edge_length must be two values using 'range' sample style. Got [640, 672, 704, 736, 768, 800]!\n",
      "Failed 000000288685.jpg: short_edge_length must be two values using 'range' sample style. Got [640, 672, 704, 736, 768, 800]!\n",
      "Failed 000000288762.jpg: short_edge_length must be two values using 'range' sample style. Got [640, 672, 704, 736, 768, 800]!\n",
      "Failed 000000288862.jpg: short_edge_length must be two values using 'range' sample style. Got [640, 672, 704, 736, 768, 800]!\n"
     ]
    },
    {
     "name": "stderr",
     "output_type": "stream",
     "text": [
      "Extracting features:  50%|████████████████████████████▍                            | 2496/5000 [01:07<01:08, 36.37it/s]"
     ]
    },
    {
     "name": "stdout",
     "output_type": "stream",
     "text": [
      "Failed 000000288882.jpg: short_edge_length must be two values using 'range' sample style. Got [640, 672, 704, 736, 768, 800]!\n",
      "Failed 000000289059.jpg: short_edge_length must be two values using 'range' sample style. Got [640, 672, 704, 736, 768, 800]!\n",
      "Failed 000000289222.jpg: short_edge_length must be two values using 'range' sample style. Got [640, 672, 704, 736, 768, 800]!\n",
      "Failed 000000289229.jpg: short_edge_length must be two values using 'range' sample style. Got [640, 672, 704, 736, 768, 800]!\n",
      "Failed 000000289343.jpg: short_edge_length must be two values using 'range' sample style. Got [640, 672, 704, 736, 768, 800]!\n",
      "Failed 000000289393.jpg: short_edge_length must be two values using 'range' sample style. Got [640, 672, 704, 736, 768, 800]!\n",
      "Failed 000000289415.jpg: short_edge_length must be two values using 'range' sample style. Got [640, 672, 704, 736, 768, 800]!\n",
      "Failed 000000289417.jpg: short_edge_length must be two values using 'range' sample style. Got [640, 672, 704, 736, 768, 800]!\n"
     ]
    },
    {
     "name": "stderr",
     "output_type": "stream",
     "text": [
      "Extracting features:  50%|████████████████████████████▌                            | 2504/5000 [01:08<01:10, 35.47it/s]"
     ]
    },
    {
     "name": "stdout",
     "output_type": "stream",
     "text": [
      "Failed 000000289516.jpg: short_edge_length must be two values using 'range' sample style. Got [640, 672, 704, 736, 768, 800]!\n",
      "Failed 000000289586.jpg: short_edge_length must be two values using 'range' sample style. Got [640, 672, 704, 736, 768, 800]!\n",
      "Failed 000000289594.jpg: short_edge_length must be two values using 'range' sample style. Got [640, 672, 704, 736, 768, 800]!\n",
      "Failed 000000289659.jpg: short_edge_length must be two values using 'range' sample style. Got [640, 672, 704, 736, 768, 800]!\n",
      "Failed 000000289702.jpg: short_edge_length must be two values using 'range' sample style. Got [640, 672, 704, 736, 768, 800]!\n",
      "Failed 000000289741.jpg: short_edge_length must be two values using 'range' sample style. Got [640, 672, 704, 736, 768, 800]!\n",
      "Failed 000000289938.jpg: short_edge_length must be two values using 'range' sample style. Got [640, 672, 704, 736, 768, 800]!\n",
      "Failed 000000289960.jpg: short_edge_length must be two values using 'range' sample style. Got [640, 672, 704, 736, 768, 800]!\n"
     ]
    },
    {
     "name": "stderr",
     "output_type": "stream",
     "text": [
      "Extracting features:  50%|████████████████████████████▋                            | 2512/5000 [01:08<01:11, 34.84it/s]"
     ]
    },
    {
     "name": "stdout",
     "output_type": "stream",
     "text": [
      "Failed 000000289992.jpg: short_edge_length must be two values using 'range' sample style. Got [640, 672, 704, 736, 768, 800]!\n",
      "Failed 000000290081.jpg: short_edge_length must be two values using 'range' sample style. Got [640, 672, 704, 736, 768, 800]!\n",
      "Failed 000000290163.jpg: short_edge_length must be two values using 'range' sample style. Got [640, 672, 704, 736, 768, 800]!\n",
      "Failed 000000290179.jpg: short_edge_length must be two values using 'range' sample style. Got [640, 672, 704, 736, 768, 800]!\n",
      "Failed 000000290248.jpg: short_edge_length must be two values using 'range' sample style. Got [640, 672, 704, 736, 768, 800]!\n",
      "Failed 000000290293.jpg: short_edge_length must be two values using 'range' sample style. Got [640, 672, 704, 736, 768, 800]!\n",
      "Failed 000000290592.jpg: short_edge_length must be two values using 'range' sample style. Got [640, 672, 704, 736, 768, 800]!\n"
     ]
    },
    {
     "name": "stderr",
     "output_type": "stream",
     "text": [
      "Extracting features:  50%|████████████████████████████▋                            | 2520/5000 [01:08<01:13, 33.60it/s]"
     ]
    },
    {
     "name": "stdout",
     "output_type": "stream",
     "text": [
      "Failed 000000290619.jpg: short_edge_length must be two values using 'range' sample style. Got [640, 672, 704, 736, 768, 800]!\n",
      "Failed 000000290768.jpg: short_edge_length must be two values using 'range' sample style. Got [640, 672, 704, 736, 768, 800]!\n",
      "Failed 000000290771.jpg: short_edge_length must be two values using 'range' sample style. Got [640, 672, 704, 736, 768, 800]!\n",
      "Failed 000000290833.jpg: short_edge_length must be two values using 'range' sample style. Got [640, 672, 704, 736, 768, 800]!\n",
      "Failed 000000290843.jpg: short_edge_length must be two values using 'range' sample style. Got [640, 672, 704, 736, 768, 800]!\n",
      "Failed 000000291490.jpg: short_edge_length must be two values using 'range' sample style. Got [640, 672, 704, 736, 768, 800]!\n",
      "Failed 000000291551.jpg: short_edge_length must be two values using 'range' sample style. Got [640, 672, 704, 736, 768, 800]!\n"
     ]
    },
    {
     "name": "stderr",
     "output_type": "stream",
     "text": [
      "\r",
      "Extracting features:  50%|████████████████████████████▊                            | 2524/5000 [01:08<01:17, 31.79it/s]"
     ]
    },
    {
     "name": "stdout",
     "output_type": "stream",
     "text": [
      "Failed 000000291619.jpg: short_edge_length must be two values using 'range' sample style. Got [640, 672, 704, 736, 768, 800]!\n",
      "Failed 000000291634.jpg: short_edge_length must be two values using 'range' sample style. Got [640, 672, 704, 736, 768, 800]!\n",
      "Failed 000000291664.jpg: short_edge_length must be two values using 'range' sample style. Got [640, 672, 704, 736, 768, 800]!\n",
      "Failed 000000291791.jpg: short_edge_length must be two values using 'range' sample style. Got [640, 672, 704, 736, 768, 800]!\n",
      "Failed 000000291861.jpg: short_edge_length must be two values using 'range' sample style. Got [640, 672, 704, 736, 768, 800]!\n",
      "Failed 000000292005.jpg: short_edge_length must be two values using 'range' sample style. Got [640, 672, 704, 736, 768, 800]!\n"
     ]
    },
    {
     "name": "stderr",
     "output_type": "stream",
     "text": [
      "Extracting features:  51%|████████████████████████████▊                            | 2532/5000 [01:09<01:14, 33.00it/s]"
     ]
    },
    {
     "name": "stdout",
     "output_type": "stream",
     "text": [
      "Failed 000000292024.jpg: short_edge_length must be two values using 'range' sample style. Got [640, 672, 704, 736, 768, 800]!\n",
      "Failed 000000292060.jpg: short_edge_length must be two values using 'range' sample style. Got [640, 672, 704, 736, 768, 800]!\n",
      "Failed 000000292082.jpg: short_edge_length must be two values using 'range' sample style. Got [640, 672, 704, 736, 768, 800]!\n",
      "Failed 000000292155.jpg: short_edge_length must be two values using 'range' sample style. Got [640, 672, 704, 736, 768, 800]!\n",
      "Failed 000000292225.jpg: short_edge_length must be two values using 'range' sample style. Got [640, 672, 704, 736, 768, 800]!\n",
      "Failed 000000292236.jpg: short_edge_length must be two values using 'range' sample style. Got [640, 672, 704, 736, 768, 800]!\n",
      "Failed 000000292330.jpg: short_edge_length must be two values using 'range' sample style. Got [640, 672, 704, 736, 768, 800]!\n",
      "Failed 000000292415.jpg: short_edge_length must be two values using 'range' sample style. Got [640, 672, 704, 736, 768, 800]!\n"
     ]
    },
    {
     "name": "stderr",
     "output_type": "stream",
     "text": [
      "Extracting features:  51%|████████████████████████████▉                            | 2540/5000 [01:09<01:10, 34.71it/s]"
     ]
    },
    {
     "name": "stdout",
     "output_type": "stream",
     "text": [
      "Failed 000000292446.jpg: short_edge_length must be two values using 'range' sample style. Got [640, 672, 704, 736, 768, 800]!\n",
      "Failed 000000292456.jpg: short_edge_length must be two values using 'range' sample style. Got [640, 672, 704, 736, 768, 800]!\n",
      "Failed 000000292488.jpg: short_edge_length must be two values using 'range' sample style. Got [640, 672, 704, 736, 768, 800]!\n",
      "Failed 000000292908.jpg: short_edge_length must be two values using 'range' sample style. Got [640, 672, 704, 736, 768, 800]!\n",
      "Failed 000000292997.jpg: short_edge_length must be two values using 'range' sample style. Got [640, 672, 704, 736, 768, 800]!\n",
      "Failed 000000293044.jpg: short_edge_length must be two values using 'range' sample style. Got [640, 672, 704, 736, 768, 800]!\n",
      "Failed 000000293071.jpg: short_edge_length must be two values using 'range' sample style. Got [640, 672, 704, 736, 768, 800]!\n",
      "Failed 000000293200.jpg: short_edge_length must be two values using 'range' sample style. Got [640, 672, 704, 736, 768, 800]!\n"
     ]
    },
    {
     "name": "stderr",
     "output_type": "stream",
     "text": [
      "Extracting features:  51%|█████████████████████████████                            | 2548/5000 [01:09<01:11, 34.13it/s]"
     ]
    },
    {
     "name": "stdout",
     "output_type": "stream",
     "text": [
      "Failed 000000293245.jpg: short_edge_length must be two values using 'range' sample style. Got [640, 672, 704, 736, 768, 800]!\n",
      "Failed 000000293300.jpg: short_edge_length must be two values using 'range' sample style. Got [640, 672, 704, 736, 768, 800]!\n",
      "Failed 000000293324.jpg: short_edge_length must be two values using 'range' sample style. Got [640, 672, 704, 736, 768, 800]!\n",
      "Failed 000000293390.jpg: short_edge_length must be two values using 'range' sample style. Got [640, 672, 704, 736, 768, 800]!\n",
      "Failed 000000293474.jpg: short_edge_length must be two values using 'range' sample style. Got [640, 672, 704, 736, 768, 800]!\n",
      "Failed 000000293625.jpg: short_edge_length must be two values using 'range' sample style. Got [640, 672, 704, 736, 768, 800]!\n",
      "Failed 000000293794.jpg: short_edge_length must be two values using 'range' sample style. Got [640, 672, 704, 736, 768, 800]!\n",
      "Failed 000000293804.jpg: short_edge_length must be two values using 'range' sample style. Got [640, 672, 704, 736, 768, 800]!\n"
     ]
    },
    {
     "name": "stderr",
     "output_type": "stream",
     "text": [
      "Extracting features:  51%|█████████████████████████████▏                           | 2557/5000 [01:09<01:07, 36.06it/s]"
     ]
    },
    {
     "name": "stdout",
     "output_type": "stream",
     "text": [
      "Failed 000000293858.jpg: short_edge_length must be two values using 'range' sample style. Got [640, 672, 704, 736, 768, 800]!\n",
      "Failed 000000294162.jpg: short_edge_length must be two values using 'range' sample style. Got [640, 672, 704, 736, 768, 800]!\n",
      "Failed 000000294163.jpg: short_edge_length must be two values using 'range' sample style. Got [640, 672, 704, 736, 768, 800]!\n",
      "Failed 000000294350.jpg: short_edge_length must be two values using 'range' sample style. Got [640, 672, 704, 736, 768, 800]!\n",
      "Failed 000000294695.jpg: short_edge_length must be two values using 'range' sample style. Got [640, 672, 704, 736, 768, 800]!\n",
      "Failed 000000294783.jpg: short_edge_length must be two values using 'range' sample style. Got [640, 672, 704, 736, 768, 800]!\n",
      "Failed 000000294831.jpg: short_edge_length must be two values using 'range' sample style. Got [640, 672, 704, 736, 768, 800]!\n",
      "Failed 000000294855.jpg: short_edge_length must be two values using 'range' sample style. Got [640, 672, 704, 736, 768, 800]!\n",
      "Failed 000000295138.jpg: short_edge_length must be two values using 'range' sample style. Got [640, 672, 704, 736, 768, 800]!\n"
     ]
    },
    {
     "name": "stderr",
     "output_type": "stream",
     "text": [
      "Extracting features:  51%|█████████████████████████████▏                           | 2565/5000 [01:09<01:08, 35.72it/s]"
     ]
    },
    {
     "name": "stdout",
     "output_type": "stream",
     "text": [
      "Failed 000000295231.jpg: short_edge_length must be two values using 'range' sample style. Got [640, 672, 704, 736, 768, 800]!\n",
      "Failed 000000295316.jpg: short_edge_length must be two values using 'range' sample style. Got [640, 672, 704, 736, 768, 800]!\n",
      "Failed 000000295420.jpg: short_edge_length must be two values using 'range' sample style. Got [640, 672, 704, 736, 768, 800]!\n",
      "Failed 000000295478.jpg: short_edge_length must be two values using 'range' sample style. Got [640, 672, 704, 736, 768, 800]!\n",
      "Failed 000000295713.jpg: short_edge_length must be two values using 'range' sample style. Got [640, 672, 704, 736, 768, 800]!\n",
      "Failed 000000295797.jpg: short_edge_length must be two values using 'range' sample style. Got [640, 672, 704, 736, 768, 800]!\n",
      "Failed 000000295809.jpg: short_edge_length must be two values using 'range' sample style. Got [640, 672, 704, 736, 768, 800]!\n"
     ]
    },
    {
     "name": "stderr",
     "output_type": "stream",
     "text": [
      "Extracting features:  51%|█████████████████████████████▎                           | 2573/5000 [01:10<01:09, 35.13it/s]"
     ]
    },
    {
     "name": "stdout",
     "output_type": "stream",
     "text": [
      "Failed 000000296222.jpg: short_edge_length must be two values using 'range' sample style. Got [640, 672, 704, 736, 768, 800]!\n",
      "Failed 000000296224.jpg: short_edge_length must be two values using 'range' sample style. Got [640, 672, 704, 736, 768, 800]!\n",
      "Failed 000000296231.jpg: short_edge_length must be two values using 'range' sample style. Got [640, 672, 704, 736, 768, 800]!\n",
      "Failed 000000296284.jpg: short_edge_length must be two values using 'range' sample style. Got [640, 672, 704, 736, 768, 800]!\n",
      "Failed 000000296317.jpg: short_edge_length must be two values using 'range' sample style. Got [640, 672, 704, 736, 768, 800]!\n",
      "Failed 000000296634.jpg: short_edge_length must be two values using 'range' sample style. Got [640, 672, 704, 736, 768, 800]!\n",
      "Failed 000000296649.jpg: short_edge_length must be two values using 'range' sample style. Got [640, 672, 704, 736, 768, 800]!\n",
      "Failed 000000296657.jpg: short_edge_length must be two values using 'range' sample style. Got [640, 672, 704, 736, 768, 800]!\n"
     ]
    },
    {
     "name": "stderr",
     "output_type": "stream",
     "text": [
      "Extracting features:  52%|█████████████████████████████▍                           | 2581/5000 [01:10<01:08, 35.27it/s]"
     ]
    },
    {
     "name": "stdout",
     "output_type": "stream",
     "text": [
      "Failed 000000296969.jpg: short_edge_length must be two values using 'range' sample style. Got [640, 672, 704, 736, 768, 800]!\n",
      "Failed 000000297022.jpg: short_edge_length must be two values using 'range' sample style. Got [640, 672, 704, 736, 768, 800]!\n",
      "Failed 000000297084.jpg: short_edge_length must be two values using 'range' sample style. Got [640, 672, 704, 736, 768, 800]!\n",
      "Failed 000000297085.jpg: short_edge_length must be two values using 'range' sample style. Got [640, 672, 704, 736, 768, 800]!\n",
      "Failed 000000297147.jpg: short_edge_length must be two values using 'range' sample style. Got [640, 672, 704, 736, 768, 800]!\n",
      "Failed 000000297343.jpg: short_edge_length must be two values using 'range' sample style. Got [640, 672, 704, 736, 768, 800]!\n",
      "Failed 000000297353.jpg: short_edge_length must be two values using 'range' sample style. Got [640, 672, 704, 736, 768, 800]!\n",
      "Failed 000000297396.jpg: short_edge_length must be two values using 'range' sample style. Got [640, 672, 704, 736, 768, 800]!\n"
     ]
    },
    {
     "name": "stderr",
     "output_type": "stream",
     "text": [
      "Extracting features:  52%|█████████████████████████████▌                           | 2589/5000 [01:10<01:09, 34.64it/s]"
     ]
    },
    {
     "name": "stdout",
     "output_type": "stream",
     "text": [
      "Failed 000000297427.jpg: short_edge_length must be two values using 'range' sample style. Got [640, 672, 704, 736, 768, 800]!\n",
      "Failed 000000297562.jpg: short_edge_length must be two values using 'range' sample style. Got [640, 672, 704, 736, 768, 800]!\n",
      "Failed 000000297578.jpg: short_edge_length must be two values using 'range' sample style. Got [640, 672, 704, 736, 768, 800]!\n",
      "Failed 000000297595.jpg: short_edge_length must be two values using 'range' sample style. Got [640, 672, 704, 736, 768, 800]!\n",
      "Failed 000000297681.jpg: short_edge_length must be two values using 'range' sample style. Got [640, 672, 704, 736, 768, 800]!\n",
      "Failed 000000297698.jpg: short_edge_length must be two values using 'range' sample style. Got [640, 672, 704, 736, 768, 800]!\n",
      "Failed 000000297830.jpg: short_edge_length must be two values using 'range' sample style. Got [640, 672, 704, 736, 768, 800]!\n",
      "Failed 000000298251.jpg: short_edge_length must be two values using 'range' sample style. Got [640, 672, 704, 736, 768, 800]!\n"
     ]
    },
    {
     "name": "stderr",
     "output_type": "stream",
     "text": [
      "Extracting features:  52%|█████████████████████████████▌                           | 2597/5000 [01:10<01:07, 35.75it/s]"
     ]
    },
    {
     "name": "stdout",
     "output_type": "stream",
     "text": [
      "Failed 000000298396.jpg: short_edge_length must be two values using 'range' sample style. Got [640, 672, 704, 736, 768, 800]!\n",
      "Failed 000000298697.jpg: short_edge_length must be two values using 'range' sample style. Got [640, 672, 704, 736, 768, 800]!\n",
      "Failed 000000298738.jpg: short_edge_length must be two values using 'range' sample style. Got [640, 672, 704, 736, 768, 800]!\n",
      "Failed 000000298904.jpg: short_edge_length must be two values using 'range' sample style. Got [640, 672, 704, 736, 768, 800]!\n",
      "Failed 000000298994.jpg: short_edge_length must be two values using 'range' sample style. Got [640, 672, 704, 736, 768, 800]!\n",
      "Failed 000000299355.jpg: short_edge_length must be two values using 'range' sample style. Got [640, 672, 704, 736, 768, 800]!\n",
      "Failed 000000299553.jpg: short_edge_length must be two values using 'range' sample style. Got [640, 672, 704, 736, 768, 800]!\n",
      "Failed 000000299609.jpg: short_edge_length must be two values using 'range' sample style. Got [640, 672, 704, 736, 768, 800]!\n"
     ]
    },
    {
     "name": "stderr",
     "output_type": "stream",
     "text": [
      "Extracting features:  52%|█████████████████████████████▋                           | 2607/5000 [01:11<01:01, 39.16it/s]"
     ]
    },
    {
     "name": "stdout",
     "output_type": "stream",
     "text": [
      "Failed 000000299720.jpg: short_edge_length must be two values using 'range' sample style. Got [640, 672, 704, 736, 768, 800]!\n",
      "Failed 000000299887.jpg: short_edge_length must be two values using 'range' sample style. Got [640, 672, 704, 736, 768, 800]!\n",
      "Failed 000000300039.jpg: short_edge_length must be two values using 'range' sample style. Got [640, 672, 704, 736, 768, 800]!\n",
      "Failed 000000300155.jpg: short_edge_length must be two values using 'range' sample style. Got [640, 672, 704, 736, 768, 800]!\n",
      "Failed 000000300233.jpg: short_edge_length must be two values using 'range' sample style. Got [640, 672, 704, 736, 768, 800]!\n",
      "Failed 000000300276.jpg: short_edge_length must be two values using 'range' sample style. Got [640, 672, 704, 736, 768, 800]!\n",
      "Failed 000000300341.jpg: short_edge_length must be two values using 'range' sample style. Got [640, 672, 704, 736, 768, 800]!\n",
      "Failed 000000300659.jpg: short_edge_length must be two values using 'range' sample style. Got [640, 672, 704, 736, 768, 800]!\n",
      "Failed 000000300842.jpg: short_edge_length must be two values using 'range' sample style. Got [640, 672, 704, 736, 768, 800]!\n"
     ]
    },
    {
     "name": "stderr",
     "output_type": "stream",
     "text": [
      "Extracting features:  52%|█████████████████████████████▊                           | 2615/5000 [01:11<01:03, 37.33it/s]"
     ]
    },
    {
     "name": "stdout",
     "output_type": "stream",
     "text": [
      "Failed 000000300913.jpg: short_edge_length must be two values using 'range' sample style. Got [640, 672, 704, 736, 768, 800]!\n",
      "Failed 000000301061.jpg: short_edge_length must be two values using 'range' sample style. Got [640, 672, 704, 736, 768, 800]!\n",
      "Failed 000000301135.jpg: short_edge_length must be two values using 'range' sample style. Got [640, 672, 704, 736, 768, 800]!\n",
      "Failed 000000301376.jpg: short_edge_length must be two values using 'range' sample style. Got [640, 672, 704, 736, 768, 800]!\n",
      "Failed 000000301421.jpg: short_edge_length must be two values using 'range' sample style. Got [640, 672, 704, 736, 768, 800]!\n",
      "Failed 000000301563.jpg: short_edge_length must be two values using 'range' sample style. Got [640, 672, 704, 736, 768, 800]!\n",
      "Failed 000000301718.jpg: short_edge_length must be two values using 'range' sample style. Got [640, 672, 704, 736, 768, 800]!\n",
      "Failed 000000301867.jpg: short_edge_length must be two values using 'range' sample style. Got [640, 672, 704, 736, 768, 800]!\n"
     ]
    },
    {
     "name": "stderr",
     "output_type": "stream",
     "text": [
      "Extracting features:  52%|█████████████████████████████▉                           | 2624/5000 [01:11<01:03, 37.32it/s]"
     ]
    },
    {
     "name": "stdout",
     "output_type": "stream",
     "text": [
      "Failed 000000301981.jpg: short_edge_length must be two values using 'range' sample style. Got [640, 672, 704, 736, 768, 800]!\n",
      "Failed 000000302030.jpg: short_edge_length must be two values using 'range' sample style. Got [640, 672, 704, 736, 768, 800]!\n",
      "Failed 000000302107.jpg: short_edge_length must be two values using 'range' sample style. Got [640, 672, 704, 736, 768, 800]!\n",
      "Failed 000000302165.jpg: short_edge_length must be two values using 'range' sample style. Got [640, 672, 704, 736, 768, 800]!\n",
      "Failed 000000302452.jpg: short_edge_length must be two values using 'range' sample style. Got [640, 672, 704, 736, 768, 800]!\n",
      "Failed 000000302536.jpg: short_edge_length must be two values using 'range' sample style. Got [640, 672, 704, 736, 768, 800]!\n",
      "Failed 000000302760.jpg: short_edge_length must be two values using 'range' sample style. Got [640, 672, 704, 736, 768, 800]!\n",
      "Failed 000000302882.jpg: short_edge_length must be two values using 'range' sample style. Got [640, 672, 704, 736, 768, 800]!\n",
      "Failed 000000302990.jpg: short_edge_length must be two values using 'range' sample style. Got [640, 672, 704, 736, 768, 800]!\n"
     ]
    },
    {
     "name": "stderr",
     "output_type": "stream",
     "text": [
      "\r",
      "Extracting features:  53%|█████████████████████████████▉                           | 2628/5000 [01:11<01:04, 36.63it/s]"
     ]
    },
    {
     "name": "stdout",
     "output_type": "stream",
     "text": [
      "Failed 000000303305.jpg: short_edge_length must be two values using 'range' sample style. Got [640, 672, 704, 736, 768, 800]!\n",
      "Failed 000000303499.jpg: short_edge_length must be two values using 'range' sample style. Got [640, 672, 704, 736, 768, 800]!\n",
      "Failed 000000303566.jpg: short_edge_length must be two values using 'range' sample style. Got [640, 672, 704, 736, 768, 800]!\n",
      "Failed 000000303653.jpg: short_edge_length must be two values using 'range' sample style. Got [640, 672, 704, 736, 768, 800]!\n",
      "Failed 000000303713.jpg: short_edge_length must be two values using 'range' sample style. Got [640, 672, 704, 736, 768, 800]!\n",
      "Failed 000000303818.jpg: short_edge_length must be two values using 'range' sample style. Got [640, 672, 704, 736, 768, 800]!\n",
      "Failed 000000303863.jpg: short_edge_length must be two values using 'range' sample style. Got [640, 672, 704, 736, 768, 800]!\n"
     ]
    },
    {
     "name": "stderr",
     "output_type": "stream",
     "text": [
      "Extracting features:  53%|██████████████████████████████                           | 2636/5000 [01:11<01:07, 34.91it/s]"
     ]
    },
    {
     "name": "stdout",
     "output_type": "stream",
     "text": [
      "Failed 000000303893.jpg: short_edge_length must be two values using 'range' sample style. Got [640, 672, 704, 736, 768, 800]!\n",
      "Failed 000000303908.jpg: short_edge_length must be two values using 'range' sample style. Got [640, 672, 704, 736, 768, 800]!\n",
      "Failed 000000304180.jpg: short_edge_length must be two values using 'range' sample style. Got [640, 672, 704, 736, 768, 800]!\n",
      "Failed 000000304291.jpg: short_edge_length must be two values using 'range' sample style. Got [640, 672, 704, 736, 768, 800]!\n",
      "Failed 000000304365.jpg: short_edge_length must be two values using 'range' sample style. Got [640, 672, 704, 736, 768, 800]!\n",
      "Failed 000000304396.jpg: short_edge_length must be two values using 'range' sample style. Got [640, 672, 704, 736, 768, 800]!\n",
      "Failed 000000304404.jpg: short_edge_length must be two values using 'range' sample style. Got [640, 672, 704, 736, 768, 800]!\n"
     ]
    },
    {
     "name": "stderr",
     "output_type": "stream",
     "text": [
      "Extracting features:  53%|██████████████████████████████▏                          | 2644/5000 [01:12<01:04, 36.35it/s]"
     ]
    },
    {
     "name": "stdout",
     "output_type": "stream",
     "text": [
      "Failed 000000304545.jpg: short_edge_length must be two values using 'range' sample style. Got [640, 672, 704, 736, 768, 800]!\n",
      "Failed 000000304560.jpg: short_edge_length must be two values using 'range' sample style. Got [640, 672, 704, 736, 768, 800]!\n",
      "Failed 000000304812.jpg: short_edge_length must be two values using 'range' sample style. Got [640, 672, 704, 736, 768, 800]!\n",
      "Failed 000000304817.jpg: short_edge_length must be two values using 'range' sample style. Got [640, 672, 704, 736, 768, 800]!\n",
      "Failed 000000304984.jpg: short_edge_length must be two values using 'range' sample style. Got [640, 672, 704, 736, 768, 800]!\n",
      "Failed 000000305309.jpg: short_edge_length must be two values using 'range' sample style. Got [640, 672, 704, 736, 768, 800]!\n",
      "Failed 000000305317.jpg: short_edge_length must be two values using 'range' sample style. Got [640, 672, 704, 736, 768, 800]!\n",
      "Failed 000000305343.jpg: short_edge_length must be two values using 'range' sample style. Got [640, 672, 704, 736, 768, 800]!\n",
      "Failed 000000305609.jpg: short_edge_length must be two values using 'range' sample style. Got [640, 672, 704, 736, 768, 800]!\n"
     ]
    },
    {
     "name": "stderr",
     "output_type": "stream",
     "text": [
      "Extracting features:  53%|██████████████████████████████▏                          | 2652/5000 [01:12<01:03, 36.87it/s]"
     ]
    },
    {
     "name": "stdout",
     "output_type": "stream",
     "text": [
      "Failed 000000305695.jpg: short_edge_length must be two values using 'range' sample style. Got [640, 672, 704, 736, 768, 800]!\n",
      "Failed 000000306136.jpg: short_edge_length must be two values using 'range' sample style. Got [640, 672, 704, 736, 768, 800]!\n",
      "Failed 000000306139.jpg: short_edge_length must be two values using 'range' sample style. Got [640, 672, 704, 736, 768, 800]!\n",
      "Failed 000000306437.jpg: short_edge_length must be two values using 'range' sample style. Got [640, 672, 704, 736, 768, 800]!\n",
      "Failed 000000306582.jpg: short_edge_length must be two values using 'range' sample style. Got [640, 672, 704, 736, 768, 800]!\n",
      "Failed 000000306700.jpg: short_edge_length must be two values using 'range' sample style. Got [640, 672, 704, 736, 768, 800]!\n",
      "Failed 000000306733.jpg: short_edge_length must be two values using 'range' sample style. Got [640, 672, 704, 736, 768, 800]!\n",
      "Failed 000000306893.jpg: short_edge_length must be two values using 'range' sample style. Got [640, 672, 704, 736, 768, 800]!\n"
     ]
    },
    {
     "name": "stderr",
     "output_type": "stream",
     "text": [
      "Extracting features:  53%|██████████████████████████████▎                          | 2661/5000 [01:12<01:04, 36.00it/s]"
     ]
    },
    {
     "name": "stdout",
     "output_type": "stream",
     "text": [
      "Failed 000000307074.jpg: short_edge_length must be two values using 'range' sample style. Got [640, 672, 704, 736, 768, 800]!\n",
      "Failed 000000307145.jpg: short_edge_length must be two values using 'range' sample style. Got [640, 672, 704, 736, 768, 800]!\n",
      "Failed 000000307172.jpg: short_edge_length must be two values using 'range' sample style. Got [640, 672, 704, 736, 768, 800]!\n",
      "Failed 000000307598.jpg: short_edge_length must be two values using 'range' sample style. Got [640, 672, 704, 736, 768, 800]!\n",
      "Failed 000000307658.jpg: short_edge_length must be two values using 'range' sample style. Got [640, 672, 704, 736, 768, 800]!\n",
      "Failed 000000308165.jpg: short_edge_length must be two values using 'range' sample style. Got [640, 672, 704, 736, 768, 800]!\n",
      "Failed 000000308193.jpg: short_edge_length must be two values using 'range' sample style. Got [640, 672, 704, 736, 768, 800]!\n"
     ]
    },
    {
     "name": "stderr",
     "output_type": "stream",
     "text": [
      "Extracting features:  53%|██████████████████████████████▍                          | 2669/5000 [01:12<01:07, 34.63it/s]"
     ]
    },
    {
     "name": "stdout",
     "output_type": "stream",
     "text": [
      "Failed 000000308328.jpg: short_edge_length must be two values using 'range' sample style. Got [640, 672, 704, 736, 768, 800]!\n",
      "Failed 000000308391.jpg: short_edge_length must be two values using 'range' sample style. Got [640, 672, 704, 736, 768, 800]!\n",
      "Failed 000000308394.jpg: short_edge_length must be two values using 'range' sample style. Got [640, 672, 704, 736, 768, 800]!\n",
      "Failed 000000308430.jpg: short_edge_length must be two values using 'range' sample style. Got [640, 672, 704, 736, 768, 800]!\n",
      "Failed 000000308466.jpg: short_edge_length must be two values using 'range' sample style. Got [640, 672, 704, 736, 768, 800]!\n",
      "Failed 000000308476.jpg: short_edge_length must be two values using 'range' sample style. Got [640, 672, 704, 736, 768, 800]!\n",
      "Failed 000000308531.jpg: short_edge_length must be two values using 'range' sample style. Got [640, 672, 704, 736, 768, 800]!\n"
     ]
    },
    {
     "name": "stderr",
     "output_type": "stream",
     "text": [
      "\r",
      "Extracting features:  53%|██████████████████████████████▍                          | 2673/5000 [01:12<01:08, 34.15it/s]"
     ]
    },
    {
     "name": "stdout",
     "output_type": "stream",
     "text": [
      "Failed 000000308545.jpg: short_edge_length must be two values using 'range' sample style. Got [640, 672, 704, 736, 768, 800]!\n",
      "Failed 000000308587.jpg: short_edge_length must be two values using 'range' sample style. Got [640, 672, 704, 736, 768, 800]!\n",
      "Failed 000000308631.jpg: short_edge_length must be two values using 'range' sample style. Got [640, 672, 704, 736, 768, 800]!\n",
      "Failed 000000308753.jpg: short_edge_length must be two values using 'range' sample style. Got [640, 672, 704, 736, 768, 800]!\n",
      "Failed 000000308793.jpg: short_edge_length must be two values using 'range' sample style. Got [640, 672, 704, 736, 768, 800]!\n",
      "Failed 000000308799.jpg: short_edge_length must be two values using 'range' sample style. Got [640, 672, 704, 736, 768, 800]!\n",
      "Failed 000000309173.jpg: short_edge_length must be two values using 'range' sample style. Got [640, 672, 704, 736, 768, 800]!\n"
     ]
    },
    {
     "name": "stderr",
     "output_type": "stream",
     "text": [
      "Extracting features:  54%|██████████████████████████████▌                          | 2681/5000 [01:13<01:05, 35.25it/s]"
     ]
    },
    {
     "name": "stdout",
     "output_type": "stream",
     "text": [
      "Failed 000000309391.jpg: short_edge_length must be two values using 'range' sample style. Got [640, 672, 704, 736, 768, 800]!\n",
      "Failed 000000309452.jpg: short_edge_length must be two values using 'range' sample style. Got [640, 672, 704, 736, 768, 800]!\n",
      "Failed 000000309467.jpg: short_edge_length must be two values using 'range' sample style. Got [640, 672, 704, 736, 768, 800]!\n",
      "Failed 000000309484.jpg: short_edge_length must be two values using 'range' sample style. Got [640, 672, 704, 736, 768, 800]!\n",
      "Failed 000000309495.jpg: short_edge_length must be two values using 'range' sample style. Got [640, 672, 704, 736, 768, 800]!\n",
      "Failed 000000309655.jpg: short_edge_length must be two values using 'range' sample style. Got [640, 672, 704, 736, 768, 800]!\n",
      "Failed 000000309678.jpg: short_edge_length must be two values using 'range' sample style. Got [640, 672, 704, 736, 768, 800]!\n",
      "Failed 000000309938.jpg: short_edge_length must be two values using 'range' sample style. Got [640, 672, 704, 736, 768, 800]!\n"
     ]
    },
    {
     "name": "stderr",
     "output_type": "stream",
     "text": [
      "Extracting features:  54%|██████████████████████████████▋                          | 2689/5000 [01:13<01:10, 32.80it/s]"
     ]
    },
    {
     "name": "stdout",
     "output_type": "stream",
     "text": [
      "Failed 000000309964.jpg: short_edge_length must be two values using 'range' sample style. Got [640, 672, 704, 736, 768, 800]!\n",
      "Failed 000000310072.jpg: short_edge_length must be two values using 'range' sample style. Got [640, 672, 704, 736, 768, 800]!\n",
      "Failed 000000310200.jpg: short_edge_length must be two values using 'range' sample style. Got [640, 672, 704, 736, 768, 800]!\n",
      "Failed 000000310622.jpg: short_edge_length must be two values using 'range' sample style. Got [640, 672, 704, 736, 768, 800]!\n",
      "Failed 000000310862.jpg: short_edge_length must be two values using 'range' sample style. Got [640, 672, 704, 736, 768, 800]!\n",
      "Failed 000000310980.jpg: short_edge_length must be two values using 'range' sample style. Got [640, 672, 704, 736, 768, 800]!\n",
      "Failed 000000311002.jpg: short_edge_length must be two values using 'range' sample style. Got [640, 672, 704, 736, 768, 800]!\n"
     ]
    },
    {
     "name": "stderr",
     "output_type": "stream",
     "text": [
      "\r",
      "Extracting features:  54%|██████████████████████████████▋                          | 2694/5000 [01:13<01:04, 35.77it/s]"
     ]
    },
    {
     "name": "stdout",
     "output_type": "stream",
     "text": [
      "Failed 000000311081.jpg: short_edge_length must be two values using 'range' sample style. Got [640, 672, 704, 736, 768, 800]!\n",
      "Failed 000000311180.jpg: short_edge_length must be two values using 'range' sample style. Got [640, 672, 704, 736, 768, 800]!\n",
      "Failed 000000311190.jpg: short_edge_length must be two values using 'range' sample style. Got [640, 672, 704, 736, 768, 800]!\n",
      "Failed 000000311295.jpg: short_edge_length must be two values using 'range' sample style. Got [640, 672, 704, 736, 768, 800]!\n",
      "Failed 000000311303.jpg: short_edge_length must be two values using 'range' sample style. Got [640, 672, 704, 736, 768, 800]!\n",
      "Failed 000000311392.jpg: short_edge_length must be two values using 'range' sample style. Got [640, 672, 704, 736, 768, 800]!\n",
      "Failed 000000311394.jpg: short_edge_length must be two values using 'range' sample style. Got [640, 672, 704, 736, 768, 800]!\n"
     ]
    },
    {
     "name": "stderr",
     "output_type": "stream",
     "text": [
      "Extracting features:  54%|██████████████████████████████▊                          | 2706/5000 [01:13<01:06, 34.30it/s]"
     ]
    },
    {
     "name": "stdout",
     "output_type": "stream",
     "text": [
      "Failed 000000311518.jpg: short_edge_length must be two values using 'range' sample style. Got [640, 672, 704, 736, 768, 800]!\n",
      "Failed 000000311789.jpg: short_edge_length must be two values using 'range' sample style. Got [640, 672, 704, 736, 768, 800]!\n",
      "Failed 000000311883.jpg: short_edge_length must be two values using 'range' sample style. Got [640, 672, 704, 736, 768, 800]!\n",
      "Failed 000000311909.jpg: short_edge_length must be two values using 'range' sample style. Got [640, 672, 704, 736, 768, 800]!\n",
      "Failed 000000311928.jpg: short_edge_length must be two values using 'range' sample style. Got [640, 672, 704, 736, 768, 800]!\n",
      "Failed 000000311950.jpg: short_edge_length must be two values using 'range' sample style. Got [640, 672, 704, 736, 768, 800]!\n",
      "Failed 000000312192.jpg: short_edge_length must be two values using 'range' sample style. Got [640, 672, 704, 736, 768, 800]!\n",
      "Failed 000000312213.jpg: short_edge_length must be two values using 'range' sample style. Got [640, 672, 704, 736, 768, 800]!\n"
     ]
    },
    {
     "name": "stderr",
     "output_type": "stream",
     "text": [
      "Extracting features:  54%|██████████████████████████████▉                          | 2714/5000 [01:14<01:02, 36.65it/s]"
     ]
    },
    {
     "name": "stdout",
     "output_type": "stream",
     "text": [
      "Failed 000000312237.jpg: short_edge_length must be two values using 'range' sample style. Got [640, 672, 704, 736, 768, 800]!\n",
      "Failed 000000312263.jpg: short_edge_length must be two values using 'range' sample style. Got [640, 672, 704, 736, 768, 800]!\n",
      "Failed 000000312278.jpg: short_edge_length must be two values using 'range' sample style. Got [640, 672, 704, 736, 768, 800]!\n",
      "Failed 000000312340.jpg: short_edge_length must be two values using 'range' sample style. Got [640, 672, 704, 736, 768, 800]!\n",
      "Failed 000000312406.jpg: short_edge_length must be two values using 'range' sample style. Got [640, 672, 704, 736, 768, 800]!\n",
      "Failed 000000312421.jpg: short_edge_length must be two values using 'range' sample style. Got [640, 672, 704, 736, 768, 800]!\n",
      "Failed 000000312489.jpg: short_edge_length must be two values using 'range' sample style. Got [640, 672, 704, 736, 768, 800]!\n",
      "Failed 000000312549.jpg: short_edge_length must be two values using 'range' sample style. Got [640, 672, 704, 736, 768, 800]!\n"
     ]
    },
    {
     "name": "stderr",
     "output_type": "stream",
     "text": [
      "Extracting features:  54%|███████████████████████████████                          | 2722/5000 [01:14<01:03, 35.65it/s]"
     ]
    },
    {
     "name": "stdout",
     "output_type": "stream",
     "text": [
      "Failed 000000312552.jpg: short_edge_length must be two values using 'range' sample style. Got [640, 672, 704, 736, 768, 800]!\n",
      "Failed 000000312586.jpg: short_edge_length must be two values using 'range' sample style. Got [640, 672, 704, 736, 768, 800]!\n",
      "Failed 000000312720.jpg: short_edge_length must be two values using 'range' sample style. Got [640, 672, 704, 736, 768, 800]!\n",
      "Failed 000000313034.jpg: short_edge_length must be two values using 'range' sample style. Got [640, 672, 704, 736, 768, 800]!\n",
      "Failed 000000313130.jpg: short_edge_length must be two values using 'range' sample style. Got [640, 672, 704, 736, 768, 800]!\n",
      "Failed 000000313182.jpg: short_edge_length must be two values using 'range' sample style. Got [640, 672, 704, 736, 768, 800]!\n",
      "Failed 000000313454.jpg: short_edge_length must be two values using 'range' sample style. Got [640, 672, 704, 736, 768, 800]!\n",
      "Failed 000000313562.jpg: short_edge_length must be two values using 'range' sample style. Got [640, 672, 704, 736, 768, 800]!\n"
     ]
    },
    {
     "name": "stderr",
     "output_type": "stream",
     "text": [
      "\r",
      "Extracting features:  55%|███████████████████████████████                          | 2726/5000 [01:14<01:03, 35.99it/s]"
     ]
    },
    {
     "name": "stdout",
     "output_type": "stream",
     "text": [
      "Failed 000000313588.jpg: short_edge_length must be two values using 'range' sample style. Got [640, 672, 704, 736, 768, 800]!\n",
      "Failed 000000313783.jpg: short_edge_length must be two values using 'range' sample style. Got [640, 672, 704, 736, 768, 800]!\n",
      "Failed 000000314034.jpg: short_edge_length must be two values using 'range' sample style. Got [640, 672, 704, 736, 768, 800]!\n",
      "Failed 000000314177.jpg: short_edge_length must be two values using 'range' sample style. Got [640, 672, 704, 736, 768, 800]!\n",
      "Failed 000000314182.jpg: short_edge_length must be two values using 'range' sample style. Got [640, 672, 704, 736, 768, 800]!\n",
      "Failed 000000314251.jpg: short_edge_length must be two values using 'range' sample style. Got [640, 672, 704, 736, 768, 800]!\n",
      "Failed 000000314264.jpg: short_edge_length must be two values using 'range' sample style. Got [640, 672, 704, 736, 768, 800]!\n",
      "Failed 000000314294.jpg: short_edge_length must be two values using 'range' sample style. Got [640, 672, 704, 736, 768, 800]!\n"
     ]
    },
    {
     "name": "stderr",
     "output_type": "stream",
     "text": [
      "Extracting features:  55%|███████████████████████████████▏                         | 2735/5000 [01:14<01:04, 34.93it/s]"
     ]
    },
    {
     "name": "stdout",
     "output_type": "stream",
     "text": [
      "Failed 000000314541.jpg: short_edge_length must be two values using 'range' sample style. Got [640, 672, 704, 736, 768, 800]!\n",
      "Failed 000000314709.jpg: short_edge_length must be two values using 'range' sample style. Got [640, 672, 704, 736, 768, 800]!\n",
      "Failed 000000314914.jpg: short_edge_length must be two values using 'range' sample style. Got [640, 672, 704, 736, 768, 800]!\n",
      "Failed 000000315001.jpg: short_edge_length must be two values using 'range' sample style. Got [640, 672, 704, 736, 768, 800]!\n",
      "Failed 000000315187.jpg: short_edge_length must be two values using 'range' sample style. Got [640, 672, 704, 736, 768, 800]!\n",
      "Failed 000000315219.jpg: short_edge_length must be two values using 'range' sample style. Got [640, 672, 704, 736, 768, 800]!\n",
      "Failed 000000315257.jpg: short_edge_length must be two values using 'range' sample style. Got [640, 672, 704, 736, 768, 800]!\n",
      "Failed 000000315450.jpg: short_edge_length must be two values using 'range' sample style. Got [640, 672, 704, 736, 768, 800]!\n",
      "Failed 000000315492.jpg: short_edge_length must be two values using 'range' sample style. Got [640, 672, 704, 736, 768, 800]!\n"
     ]
    },
    {
     "name": "stderr",
     "output_type": "stream",
     "text": [
      "Extracting features:  55%|███████████████████████████████▎                         | 2744/5000 [01:14<01:01, 36.84it/s]"
     ]
    },
    {
     "name": "stdout",
     "output_type": "stream",
     "text": [
      "Failed 000000316015.jpg: short_edge_length must be two values using 'range' sample style. Got [640, 672, 704, 736, 768, 800]!\n",
      "Failed 000000316054.jpg: short_edge_length must be two values using 'range' sample style. Got [640, 672, 704, 736, 768, 800]!\n",
      "Failed 000000316404.jpg: short_edge_length must be two values using 'range' sample style. Got [640, 672, 704, 736, 768, 800]!\n",
      "Failed 000000316666.jpg: short_edge_length must be two values using 'range' sample style. Got [640, 672, 704, 736, 768, 800]!\n",
      "Failed 000000317024.jpg: short_edge_length must be two values using 'range' sample style. Got [640, 672, 704, 736, 768, 800]!\n",
      "Failed 000000317433.jpg: short_edge_length must be two values using 'range' sample style. Got [640, 672, 704, 736, 768, 800]!\n",
      "Failed 000000317999.jpg: short_edge_length must be two values using 'range' sample style. Got [640, 672, 704, 736, 768, 800]!\n",
      "Failed 000000318080.jpg: short_edge_length must be two values using 'range' sample style. Got [640, 672, 704, 736, 768, 800]!\n"
     ]
    },
    {
     "name": "stderr",
     "output_type": "stream",
     "text": [
      "Extracting features:  55%|███████████████████████████████▎                         | 2752/5000 [01:15<01:00, 37.03it/s]"
     ]
    },
    {
     "name": "stdout",
     "output_type": "stream",
     "text": [
      "Failed 000000318114.jpg: short_edge_length must be two values using 'range' sample style. Got [640, 672, 704, 736, 768, 800]!\n",
      "Failed 000000318138.jpg: short_edge_length must be two values using 'range' sample style. Got [640, 672, 704, 736, 768, 800]!\n",
      "Failed 000000318238.jpg: short_edge_length must be two values using 'range' sample style. Got [640, 672, 704, 736, 768, 800]!\n",
      "Failed 000000318455.jpg: short_edge_length must be two values using 'range' sample style. Got [640, 672, 704, 736, 768, 800]!\n",
      "Failed 000000318908.jpg: short_edge_length must be two values using 'range' sample style. Got [640, 672, 704, 736, 768, 800]!\n",
      "Failed 000000319100.jpg: short_edge_length must be two values using 'range' sample style. Got [640, 672, 704, 736, 768, 800]!\n",
      "Failed 000000319184.jpg: short_edge_length must be two values using 'range' sample style. Got [640, 672, 704, 736, 768, 800]!\n",
      "Failed 000000319369.jpg: short_edge_length must be two values using 'range' sample style. Got [640, 672, 704, 736, 768, 800]!\n",
      "Failed 000000319534.jpg: short_edge_length must be two values using 'range' sample style. Got [640, 672, 704, 736, 768, 800]!\n"
     ]
    },
    {
     "name": "stderr",
     "output_type": "stream",
     "text": [
      "Extracting features:  55%|███████████████████████████████▍                         | 2762/5000 [01:15<00:55, 40.35it/s]"
     ]
    },
    {
     "name": "stdout",
     "output_type": "stream",
     "text": [
      "Failed 000000319607.jpg: short_edge_length must be two values using 'range' sample style. Got [640, 672, 704, 736, 768, 800]!\n",
      "Failed 000000319617.jpg: short_edge_length must be two values using 'range' sample style. Got [640, 672, 704, 736, 768, 800]!\n",
      "Failed 000000319696.jpg: short_edge_length must be two values using 'range' sample style. Got [640, 672, 704, 736, 768, 800]!\n",
      "Failed 000000319721.jpg: short_edge_length must be two values using 'range' sample style. Got [640, 672, 704, 736, 768, 800]!\n",
      "Failed 000000319935.jpg: short_edge_length must be two values using 'range' sample style. Got [640, 672, 704, 736, 768, 800]!\n",
      "Failed 000000320232.jpg: short_edge_length must be two values using 'range' sample style. Got [640, 672, 704, 736, 768, 800]!\n",
      "Failed 000000320425.jpg: short_edge_length must be two values using 'range' sample style. Got [640, 672, 704, 736, 768, 800]!\n",
      "Failed 000000320490.jpg: short_edge_length must be two values using 'range' sample style. Got [640, 672, 704, 736, 768, 800]!\n",
      "Failed 000000320554.jpg: short_edge_length must be two values using 'range' sample style. Got [640, 672, 704, 736, 768, 800]!\n"
     ]
    },
    {
     "name": "stderr",
     "output_type": "stream",
     "text": [
      "Extracting features:  55%|███████████████████████████████▌                         | 2771/5000 [01:15<00:57, 38.53it/s]"
     ]
    },
    {
     "name": "stdout",
     "output_type": "stream",
     "text": [
      "Failed 000000320632.jpg: short_edge_length must be two values using 'range' sample style. Got [640, 672, 704, 736, 768, 800]!\n",
      "Failed 000000320642.jpg: short_edge_length must be two values using 'range' sample style. Got [640, 672, 704, 736, 768, 800]!\n",
      "Failed 000000320664.jpg: short_edge_length must be two values using 'range' sample style. Got [640, 672, 704, 736, 768, 800]!\n",
      "Failed 000000320696.jpg: short_edge_length must be two values using 'range' sample style. Got [640, 672, 704, 736, 768, 800]!\n",
      "Failed 000000320706.jpg: short_edge_length must be two values using 'range' sample style. Got [640, 672, 704, 736, 768, 800]!\n",
      "Failed 000000320743.jpg: short_edge_length must be two values using 'range' sample style. Got [640, 672, 704, 736, 768, 800]!\n",
      "Failed 000000321118.jpg: short_edge_length must be two values using 'range' sample style. Got [640, 672, 704, 736, 768, 800]!\n",
      "Failed 000000321214.jpg: short_edge_length must be two values using 'range' sample style. Got [640, 672, 704, 736, 768, 800]!\n"
     ]
    },
    {
     "name": "stderr",
     "output_type": "stream",
     "text": [
      "Extracting features:  56%|███████████████████████████████▋                         | 2779/5000 [01:15<01:00, 36.52it/s]"
     ]
    },
    {
     "name": "stdout",
     "output_type": "stream",
     "text": [
      "Failed 000000321333.jpg: short_edge_length must be two values using 'range' sample style. Got [640, 672, 704, 736, 768, 800]!\n",
      "Failed 000000321557.jpg: short_edge_length must be two values using 'range' sample style. Got [640, 672, 704, 736, 768, 800]!\n",
      "Failed 000000321790.jpg: short_edge_length must be two values using 'range' sample style. Got [640, 672, 704, 736, 768, 800]!\n",
      "Failed 000000321887.jpg: short_edge_length must be two values using 'range' sample style. Got [640, 672, 704, 736, 768, 800]!\n",
      "Failed 000000322163.jpg: short_edge_length must be two values using 'range' sample style. Got [640, 672, 704, 736, 768, 800]!\n",
      "Failed 000000322211.jpg: short_edge_length must be two values using 'range' sample style. Got [640, 672, 704, 736, 768, 800]!\n",
      "Failed 000000322352.jpg: short_edge_length must be two values using 'range' sample style. Got [640, 672, 704, 736, 768, 800]!\n"
     ]
    },
    {
     "name": "stderr",
     "output_type": "stream",
     "text": [
      "Extracting features:  56%|███████████████████████████████▊                         | 2787/5000 [01:16<01:02, 35.41it/s]"
     ]
    },
    {
     "name": "stdout",
     "output_type": "stream",
     "text": [
      "Failed 000000322429.jpg: short_edge_length must be two values using 'range' sample style. Got [640, 672, 704, 736, 768, 800]!\n",
      "Failed 000000322574.jpg: short_edge_length must be two values using 'range' sample style. Got [640, 672, 704, 736, 768, 800]!\n",
      "Failed 000000322610.jpg: short_edge_length must be two values using 'range' sample style. Got [640, 672, 704, 736, 768, 800]!\n",
      "Failed 000000322724.jpg: short_edge_length must be two values using 'range' sample style. Got [640, 672, 704, 736, 768, 800]!\n",
      "Failed 000000322829.jpg: short_edge_length must be two values using 'range' sample style. Got [640, 672, 704, 736, 768, 800]!\n",
      "Failed 000000322844.jpg: short_edge_length must be two values using 'range' sample style. Got [640, 672, 704, 736, 768, 800]!\n",
      "Failed 000000322864.jpg: short_edge_length must be two values using 'range' sample style. Got [640, 672, 704, 736, 768, 800]!\n",
      "Failed 000000322895.jpg: short_edge_length must be two values using 'range' sample style. Got [640, 672, 704, 736, 768, 800]!\n"
     ]
    },
    {
     "name": "stderr",
     "output_type": "stream",
     "text": [
      "Extracting features:  56%|███████████████████████████████▊                         | 2795/5000 [01:16<01:04, 33.98it/s]"
     ]
    },
    {
     "name": "stdout",
     "output_type": "stream",
     "text": [
      "Failed 000000322944.jpg: short_edge_length must be two values using 'range' sample style. Got [640, 672, 704, 736, 768, 800]!\n",
      "Failed 000000322959.jpg: short_edge_length must be two values using 'range' sample style. Got [640, 672, 704, 736, 768, 800]!\n",
      "Failed 000000322968.jpg: short_edge_length must be two values using 'range' sample style. Got [640, 672, 704, 736, 768, 800]!\n",
      "Failed 000000323151.jpg: short_edge_length must be two values using 'range' sample style. Got [640, 672, 704, 736, 768, 800]!\n",
      "Failed 000000323202.jpg: short_edge_length must be two values using 'range' sample style. Got [640, 672, 704, 736, 768, 800]!\n",
      "Failed 000000323263.jpg: short_edge_length must be two values using 'range' sample style. Got [640, 672, 704, 736, 768, 800]!\n",
      "Failed 000000323355.jpg: short_edge_length must be two values using 'range' sample style. Got [640, 672, 704, 736, 768, 800]!\n"
     ]
    },
    {
     "name": "stderr",
     "output_type": "stream",
     "text": [
      "Extracting features:  56%|███████████████████████████████▉                         | 2803/5000 [01:16<01:01, 35.79it/s]"
     ]
    },
    {
     "name": "stdout",
     "output_type": "stream",
     "text": [
      "Failed 000000323496.jpg: short_edge_length must be two values using 'range' sample style. Got [640, 672, 704, 736, 768, 800]!\n",
      "Failed 000000323571.jpg: short_edge_length must be two values using 'range' sample style. Got [640, 672, 704, 736, 768, 800]!\n",
      "Failed 000000323709.jpg: short_edge_length must be two values using 'range' sample style. Got [640, 672, 704, 736, 768, 800]!\n",
      "Failed 000000323751.jpg: short_edge_length must be two values using 'range' sample style. Got [640, 672, 704, 736, 768, 800]!\n",
      "Failed 000000323799.jpg: short_edge_length must be two values using 'range' sample style. Got [640, 672, 704, 736, 768, 800]!\n",
      "Failed 000000323828.jpg: short_edge_length must be two values using 'range' sample style. Got [640, 672, 704, 736, 768, 800]!\n",
      "Failed 000000323895.jpg: short_edge_length must be two values using 'range' sample style. Got [640, 672, 704, 736, 768, 800]!\n",
      "Failed 000000324158.jpg: short_edge_length must be two values using 'range' sample style. Got [640, 672, 704, 736, 768, 800]!\n"
     ]
    },
    {
     "name": "stderr",
     "output_type": "stream",
     "text": [
      "\r",
      "Extracting features:  56%|███████████████████████████████▉                         | 2807/5000 [01:16<01:00, 36.03it/s]"
     ]
    },
    {
     "name": "stdout",
     "output_type": "stream",
     "text": [
      "Failed 000000324258.jpg: short_edge_length must be two values using 'range' sample style. Got [640, 672, 704, 736, 768, 800]!\n",
      "Failed 000000324614.jpg: short_edge_length must be two values using 'range' sample style. Got [640, 672, 704, 736, 768, 800]!\n",
      "Failed 000000324715.jpg: short_edge_length must be two values using 'range' sample style. Got [640, 672, 704, 736, 768, 800]!\n",
      "Failed 000000324818.jpg: short_edge_length must be two values using 'range' sample style. Got [640, 672, 704, 736, 768, 800]!\n",
      "Failed 000000324927.jpg: short_edge_length must be two values using 'range' sample style. Got [640, 672, 704, 736, 768, 800]!\n",
      "Failed 000000325031.jpg: short_edge_length must be two values using 'range' sample style. Got [640, 672, 704, 736, 768, 800]!\n"
     ]
    },
    {
     "name": "stderr",
     "output_type": "stream",
     "text": [
      "Extracting features:  56%|████████████████████████████████                         | 2815/5000 [01:16<01:04, 33.99it/s]"
     ]
    },
    {
     "name": "stdout",
     "output_type": "stream",
     "text": [
      "Failed 000000325114.jpg: short_edge_length must be two values using 'range' sample style. Got [640, 672, 704, 736, 768, 800]!\n",
      "Failed 000000325306.jpg: short_edge_length must be two values using 'range' sample style. Got [640, 672, 704, 736, 768, 800]!\n",
      "Failed 000000325347.jpg: short_edge_length must be two values using 'range' sample style. Got [640, 672, 704, 736, 768, 800]!\n",
      "Failed 000000325483.jpg: short_edge_length must be two values using 'range' sample style. Got [640, 672, 704, 736, 768, 800]!\n",
      "Failed 000000325527.jpg: short_edge_length must be two values using 'range' sample style. Got [640, 672, 704, 736, 768, 800]!\n",
      "Failed 000000325838.jpg: short_edge_length must be two values using 'range' sample style. Got [640, 672, 704, 736, 768, 800]!\n",
      "Failed 000000325991.jpg: short_edge_length must be two values using 'range' sample style. Got [640, 672, 704, 736, 768, 800]!\n",
      "Failed 000000326082.jpg: short_edge_length must be two values using 'range' sample style. Got [640, 672, 704, 736, 768, 800]!\n"
     ]
    },
    {
     "name": "stderr",
     "output_type": "stream",
     "text": [
      "Extracting features:  56%|████████████████████████████████▏                        | 2823/5000 [01:17<01:03, 34.44it/s]"
     ]
    },
    {
     "name": "stdout",
     "output_type": "stream",
     "text": [
      "Failed 000000326128.jpg: short_edge_length must be two values using 'range' sample style. Got [640, 672, 704, 736, 768, 800]!\n",
      "Failed 000000326174.jpg: short_edge_length must be two values using 'range' sample style. Got [640, 672, 704, 736, 768, 800]!\n",
      "Failed 000000326248.jpg: short_edge_length must be two values using 'range' sample style. Got [640, 672, 704, 736, 768, 800]!\n",
      "Failed 000000326462.jpg: short_edge_length must be two values using 'range' sample style. Got [640, 672, 704, 736, 768, 800]!\n",
      "Failed 000000326541.jpg: short_edge_length must be two values using 'range' sample style. Got [640, 672, 704, 736, 768, 800]!\n",
      "Failed 000000326542.jpg: short_edge_length must be two values using 'range' sample style. Got [640, 672, 704, 736, 768, 800]!\n",
      "Failed 000000326627.jpg: short_edge_length must be two values using 'range' sample style. Got [640, 672, 704, 736, 768, 800]!\n",
      "Failed 000000326970.jpg: short_edge_length must be two values using 'range' sample style. Got [640, 672, 704, 736, 768, 800]!\n"
     ]
    },
    {
     "name": "stderr",
     "output_type": "stream",
     "text": [
      "Extracting features:  57%|████████████████████████████████▎                        | 2831/5000 [01:17<01:03, 34.28it/s]"
     ]
    },
    {
     "name": "stdout",
     "output_type": "stream",
     "text": [
      "Failed 000000327306.jpg: short_edge_length must be two values using 'range' sample style. Got [640, 672, 704, 736, 768, 800]!\n",
      "Failed 000000327592.jpg: short_edge_length must be two values using 'range' sample style. Got [640, 672, 704, 736, 768, 800]!\n",
      "Failed 000000327601.jpg: short_edge_length must be two values using 'range' sample style. Got [640, 672, 704, 736, 768, 800]!\n",
      "Failed 000000327605.jpg: short_edge_length must be two values using 'range' sample style. Got [640, 672, 704, 736, 768, 800]!\n",
      "Failed 000000327617.jpg: short_edge_length must be two values using 'range' sample style. Got [640, 672, 704, 736, 768, 800]!\n",
      "Failed 000000327701.jpg: short_edge_length must be two values using 'range' sample style. Got [640, 672, 704, 736, 768, 800]!\n",
      "Failed 000000327769.jpg: short_edge_length must be two values using 'range' sample style. Got [640, 672, 704, 736, 768, 800]!\n",
      "Failed 000000327780.jpg: short_edge_length must be two values using 'range' sample style. Got [640, 672, 704, 736, 768, 800]!\n"
     ]
    },
    {
     "name": "stderr",
     "output_type": "stream",
     "text": [
      "Extracting features:  57%|████████████████████████████████▎                        | 2839/5000 [01:17<01:00, 35.73it/s]"
     ]
    },
    {
     "name": "stdout",
     "output_type": "stream",
     "text": [
      "Failed 000000327890.jpg: short_edge_length must be two values using 'range' sample style. Got [640, 672, 704, 736, 768, 800]!\n",
      "Failed 000000328030.jpg: short_edge_length must be two values using 'range' sample style. Got [640, 672, 704, 736, 768, 800]!\n",
      "Failed 000000328117.jpg: short_edge_length must be two values using 'range' sample style. Got [640, 672, 704, 736, 768, 800]!\n",
      "Failed 000000328238.jpg: short_edge_length must be two values using 'range' sample style. Got [640, 672, 704, 736, 768, 800]!\n",
      "Failed 000000328286.jpg: short_edge_length must be two values using 'range' sample style. Got [640, 672, 704, 736, 768, 800]!\n",
      "Failed 000000328337.jpg: short_edge_length must be two values using 'range' sample style. Got [640, 672, 704, 736, 768, 800]!\n",
      "Failed 000000328430.jpg: short_edge_length must be two values using 'range' sample style. Got [640, 672, 704, 736, 768, 800]!\n",
      "Failed 000000328601.jpg: short_edge_length must be two values using 'range' sample style. Got [640, 672, 704, 736, 768, 800]!\n"
     ]
    },
    {
     "name": "stderr",
     "output_type": "stream",
     "text": [
      "Extracting features:  57%|████████████████████████████████▍                        | 2847/5000 [01:17<00:59, 36.03it/s]"
     ]
    },
    {
     "name": "stdout",
     "output_type": "stream",
     "text": [
      "Failed 000000328683.jpg: short_edge_length must be two values using 'range' sample style. Got [640, 672, 704, 736, 768, 800]!\n",
      "Failed 000000328959.jpg: short_edge_length must be two values using 'range' sample style. Got [640, 672, 704, 736, 768, 800]!\n",
      "Failed 000000329041.jpg: short_edge_length must be two values using 'range' sample style. Got [640, 672, 704, 736, 768, 800]!\n",
      "Failed 000000329080.jpg: short_edge_length must be two values using 'range' sample style. Got [640, 672, 704, 736, 768, 800]!\n",
      "Failed 000000329219.jpg: short_edge_length must be two values using 'range' sample style. Got [640, 672, 704, 736, 768, 800]!\n",
      "Failed 000000329319.jpg: short_edge_length must be two values using 'range' sample style. Got [640, 672, 704, 736, 768, 800]!\n",
      "Failed 000000329323.jpg: short_edge_length must be two values using 'range' sample style. Got [640, 672, 704, 736, 768, 800]!\n"
     ]
    },
    {
     "name": "stderr",
     "output_type": "stream",
     "text": [
      "Extracting features:  57%|████████████████████████████████▌                        | 2856/5000 [01:18<00:59, 36.21it/s]"
     ]
    },
    {
     "name": "stdout",
     "output_type": "stream",
     "text": [
      "Failed 000000329447.jpg: short_edge_length must be two values using 'range' sample style. Got [640, 672, 704, 736, 768, 800]!\n",
      "Failed 000000329455.jpg: short_edge_length must be two values using 'range' sample style. Got [640, 672, 704, 736, 768, 800]!\n",
      "Failed 000000329456.jpg: short_edge_length must be two values using 'range' sample style. Got [640, 672, 704, 736, 768, 800]!\n",
      "Failed 000000329542.jpg: short_edge_length must be two values using 'range' sample style. Got [640, 672, 704, 736, 768, 800]!\n",
      "Failed 000000329614.jpg: short_edge_length must be two values using 'range' sample style. Got [640, 672, 704, 736, 768, 800]!\n",
      "Failed 000000329827.jpg: short_edge_length must be two values using 'range' sample style. Got [640, 672, 704, 736, 768, 800]!\n",
      "Failed 000000330369.jpg: short_edge_length must be two values using 'range' sample style. Got [640, 672, 704, 736, 768, 800]!\n",
      "Failed 000000330396.jpg: short_edge_length must be two values using 'range' sample style. Got [640, 672, 704, 736, 768, 800]!\n"
     ]
    },
    {
     "name": "stderr",
     "output_type": "stream",
     "text": [
      "\r",
      "Extracting features:  57%|████████████████████████████████▌                        | 2860/5000 [01:18<01:03, 33.76it/s]"
     ]
    },
    {
     "name": "stdout",
     "output_type": "stream",
     "text": [
      "Failed 000000330554.jpg: short_edge_length must be two values using 'range' sample style. Got [640, 672, 704, 736, 768, 800]!\n",
      "Failed 000000330790.jpg: short_edge_length must be two values using 'range' sample style. Got [640, 672, 704, 736, 768, 800]!\n",
      "Failed 000000330818.jpg: short_edge_length must be two values using 'range' sample style. Got [640, 672, 704, 736, 768, 800]!\n",
      "Failed 000000331075.jpg: short_edge_length must be two values using 'range' sample style. Got [640, 672, 704, 736, 768, 800]!\n",
      "Failed 000000331280.jpg: short_edge_length must be two values using 'range' sample style. Got [640, 672, 704, 736, 768, 800]!\n",
      "Failed 000000331317.jpg: short_edge_length must be two values using 'range' sample style. Got [640, 672, 704, 736, 768, 800]!\n"
     ]
    },
    {
     "name": "stderr",
     "output_type": "stream",
     "text": [
      "Extracting features:  57%|████████████████████████████████▋                        | 2868/5000 [01:18<01:00, 35.09it/s]"
     ]
    },
    {
     "name": "stdout",
     "output_type": "stream",
     "text": [
      "Failed 000000331352.jpg: short_edge_length must be two values using 'range' sample style. Got [640, 672, 704, 736, 768, 800]!\n",
      "Failed 000000331569.jpg: short_edge_length must be two values using 'range' sample style. Got [640, 672, 704, 736, 768, 800]!\n",
      "Failed 000000331604.jpg: short_edge_length must be two values using 'range' sample style. Got [640, 672, 704, 736, 768, 800]!\n",
      "Failed 000000331799.jpg: short_edge_length must be two values using 'range' sample style. Got [640, 672, 704, 736, 768, 800]!\n",
      "Failed 000000331817.jpg: short_edge_length must be two values using 'range' sample style. Got [640, 672, 704, 736, 768, 800]!\n",
      "Failed 000000332318.jpg: short_edge_length must be two values using 'range' sample style. Got [640, 672, 704, 736, 768, 800]!\n",
      "Failed 000000332351.jpg: short_edge_length must be two values using 'range' sample style. Got [640, 672, 704, 736, 768, 800]!\n",
      "Failed 000000332455.jpg: short_edge_length must be two values using 'range' sample style. Got [640, 672, 704, 736, 768, 800]!\n"
     ]
    },
    {
     "name": "stderr",
     "output_type": "stream",
     "text": [
      "Extracting features:  58%|████████████████████████████████▊                        | 2877/5000 [01:18<01:00, 35.35it/s]"
     ]
    },
    {
     "name": "stdout",
     "output_type": "stream",
     "text": [
      "Failed 000000332570.jpg: short_edge_length must be two values using 'range' sample style. Got [640, 672, 704, 736, 768, 800]!\n",
      "Failed 000000332845.jpg: short_edge_length must be two values using 'range' sample style. Got [640, 672, 704, 736, 768, 800]!\n",
      "Failed 000000332901.jpg: short_edge_length must be two values using 'range' sample style. Got [640, 672, 704, 736, 768, 800]!\n",
      "Failed 000000333069.jpg: short_edge_length must be two values using 'range' sample style. Got [640, 672, 704, 736, 768, 800]!\n",
      "Failed 000000333237.jpg: short_edge_length must be two values using 'range' sample style. Got [640, 672, 704, 736, 768, 800]!\n",
      "Failed 000000333402.jpg: short_edge_length must be two values using 'range' sample style. Got [640, 672, 704, 736, 768, 800]!\n",
      "Failed 000000333697.jpg: short_edge_length must be two values using 'range' sample style. Got [640, 672, 704, 736, 768, 800]!\n",
      "Failed 000000333745.jpg: short_edge_length must be two values using 'range' sample style. Got [640, 672, 704, 736, 768, 800]!\n"
     ]
    },
    {
     "name": "stderr",
     "output_type": "stream",
     "text": [
      "\r",
      "Extracting features:  58%|████████████████████████████████▊                        | 2882/5000 [01:18<00:58, 36.25it/s]"
     ]
    },
    {
     "name": "stdout",
     "output_type": "stream",
     "text": [
      "Failed 000000333772.jpg: short_edge_length must be two values using 'range' sample style. Got [640, 672, 704, 736, 768, 800]!\n",
      "Failed 000000333956.jpg: short_edge_length must be two values using 'range' sample style. Got [640, 672, 704, 736, 768, 800]!\n",
      "Failed 000000334006.jpg: short_edge_length must be two values using 'range' sample style. Got [640, 672, 704, 736, 768, 800]!\n",
      "Failed 000000334309.jpg: short_edge_length must be two values using 'range' sample style. Got [640, 672, 704, 736, 768, 800]!\n",
      "Failed 000000334371.jpg: short_edge_length must be two values using 'range' sample style. Got [640, 672, 704, 736, 768, 800]!\n",
      "Failed 000000334399.jpg: short_edge_length must be two values using 'range' sample style. Got [640, 672, 704, 736, 768, 800]!\n",
      "Failed 000000334417.jpg: short_edge_length must be two values using 'range' sample style. Got [640, 672, 704, 736, 768, 800]!\n"
     ]
    },
    {
     "name": "stderr",
     "output_type": "stream",
     "text": [
      "Extracting features:  58%|████████████████████████████████▉                        | 2890/5000 [01:19<00:59, 35.27it/s]"
     ]
    },
    {
     "name": "stdout",
     "output_type": "stream",
     "text": [
      "Failed 000000334483.jpg: short_edge_length must be two values using 'range' sample style. Got [640, 672, 704, 736, 768, 800]!\n",
      "Failed 000000334521.jpg: short_edge_length must be two values using 'range' sample style. Got [640, 672, 704, 736, 768, 800]!\n",
      "Failed 000000334530.jpg: short_edge_length must be two values using 'range' sample style. Got [640, 672, 704, 736, 768, 800]!\n",
      "Failed 000000334555.jpg: short_edge_length must be two values using 'range' sample style. Got [640, 672, 704, 736, 768, 800]!\n",
      "Failed 000000334719.jpg: short_edge_length must be two values using 'range' sample style. Got [640, 672, 704, 736, 768, 800]!\n",
      "Failed 000000334767.jpg: short_edge_length must be two values using 'range' sample style. Got [640, 672, 704, 736, 768, 800]!\n",
      "Failed 000000334977.jpg: short_edge_length must be two values using 'range' sample style. Got [640, 672, 704, 736, 768, 800]!\n"
     ]
    },
    {
     "name": "stderr",
     "output_type": "stream",
     "text": [
      "Extracting features:  58%|█████████████████████████████████                        | 2898/5000 [01:19<01:00, 34.52it/s]"
     ]
    },
    {
     "name": "stdout",
     "output_type": "stream",
     "text": [
      "Failed 000000335081.jpg: short_edge_length must be two values using 'range' sample style. Got [640, 672, 704, 736, 768, 800]!\n",
      "Failed 000000335177.jpg: short_edge_length must be two values using 'range' sample style. Got [640, 672, 704, 736, 768, 800]!\n",
      "Failed 000000335328.jpg: short_edge_length must be two values using 'range' sample style. Got [640, 672, 704, 736, 768, 800]!\n",
      "Failed 000000335427.jpg: short_edge_length must be two values using 'range' sample style. Got [640, 672, 704, 736, 768, 800]!\n",
      "Failed 000000335450.jpg: short_edge_length must be two values using 'range' sample style. Got [640, 672, 704, 736, 768, 800]!\n",
      "Failed 000000335529.jpg: short_edge_length must be two values using 'range' sample style. Got [640, 672, 704, 736, 768, 800]!\n",
      "Failed 000000335658.jpg: short_edge_length must be two values using 'range' sample style. Got [640, 672, 704, 736, 768, 800]!\n"
     ]
    },
    {
     "name": "stderr",
     "output_type": "stream",
     "text": [
      "Extracting features:  58%|█████████████████████████████████▏                       | 2906/5000 [01:19<00:59, 35.14it/s]"
     ]
    },
    {
     "name": "stdout",
     "output_type": "stream",
     "text": [
      "Failed 000000335800.jpg: short_edge_length must be two values using 'range' sample style. Got [640, 672, 704, 736, 768, 800]!\n",
      "Failed 000000335954.jpg: short_edge_length must be two values using 'range' sample style. Got [640, 672, 704, 736, 768, 800]!\n",
      "Failed 000000336053.jpg: short_edge_length must be two values using 'range' sample style. Got [640, 672, 704, 736, 768, 800]!\n",
      "Failed 000000336209.jpg: short_edge_length must be two values using 'range' sample style. Got [640, 672, 704, 736, 768, 800]!\n",
      "Failed 000000336232.jpg: short_edge_length must be two values using 'range' sample style. Got [640, 672, 704, 736, 768, 800]!\n",
      "Failed 000000336265.jpg: short_edge_length must be two values using 'range' sample style. Got [640, 672, 704, 736, 768, 800]!\n",
      "Failed 000000336309.jpg: short_edge_length must be two values using 'range' sample style. Got [640, 672, 704, 736, 768, 800]!\n",
      "Failed 000000336356.jpg: short_edge_length must be two values using 'range' sample style. Got [640, 672, 704, 736, 768, 800]!\n"
     ]
    },
    {
     "name": "stderr",
     "output_type": "stream",
     "text": [
      "Extracting features:  58%|█████████████████████████████████▏                       | 2914/5000 [01:19<01:03, 33.03it/s]"
     ]
    },
    {
     "name": "stdout",
     "output_type": "stream",
     "text": [
      "Failed 000000336587.jpg: short_edge_length must be two values using 'range' sample style. Got [640, 672, 704, 736, 768, 800]!\n",
      "Failed 000000336628.jpg: short_edge_length must be two values using 'range' sample style. Got [640, 672, 704, 736, 768, 800]!\n",
      "Failed 000000336658.jpg: short_edge_length must be two values using 'range' sample style. Got [640, 672, 704, 736, 768, 800]!\n",
      "Failed 000000337055.jpg: short_edge_length must be two values using 'range' sample style. Got [640, 672, 704, 736, 768, 800]!\n",
      "Failed 000000337498.jpg: short_edge_length must be two values using 'range' sample style. Got [640, 672, 704, 736, 768, 800]!\n",
      "Failed 000000337987.jpg: short_edge_length must be two values using 'range' sample style. Got [640, 672, 704, 736, 768, 800]!\n",
      "Failed 000000338191.jpg: short_edge_length must be two values using 'range' sample style. Got [640, 672, 704, 736, 768, 800]!\n"
     ]
    },
    {
     "name": "stderr",
     "output_type": "stream",
     "text": [
      "\r",
      "Extracting features:  58%|█████████████████████████████████▎                       | 2918/5000 [01:19<01:04, 32.23it/s]"
     ]
    },
    {
     "name": "stdout",
     "output_type": "stream",
     "text": [
      "Failed 000000338219.jpg: short_edge_length must be two values using 'range' sample style. Got [640, 672, 704, 736, 768, 800]!\n",
      "Failed 000000338304.jpg: short_edge_length must be two values using 'range' sample style. Got [640, 672, 704, 736, 768, 800]!\n",
      "Failed 000000338325.jpg: short_edge_length must be two values using 'range' sample style. Got [640, 672, 704, 736, 768, 800]!\n",
      "Failed 000000338428.jpg: short_edge_length must be two values using 'range' sample style. Got [640, 672, 704, 736, 768, 800]!\n",
      "Failed 000000338532.jpg: short_edge_length must be two values using 'range' sample style. Got [640, 672, 704, 736, 768, 800]!\n",
      "Failed 000000338560.jpg: short_edge_length must be two values using 'range' sample style. Got [640, 672, 704, 736, 768, 800]!\n",
      "Failed 000000338624.jpg: short_edge_length must be two values using 'range' sample style. Got [640, 672, 704, 736, 768, 800]!\n"
     ]
    },
    {
     "name": "stderr",
     "output_type": "stream",
     "text": [
      "Extracting features:  59%|█████████████████████████████████▍                       | 2928/5000 [01:20<00:56, 36.59it/s]"
     ]
    },
    {
     "name": "stdout",
     "output_type": "stream",
     "text": [
      "Failed 000000338625.jpg: short_edge_length must be two values using 'range' sample style. Got [640, 672, 704, 736, 768, 800]!\n",
      "Failed 000000338718.jpg: short_edge_length must be two values using 'range' sample style. Got [640, 672, 704, 736, 768, 800]!\n",
      "Failed 000000338901.jpg: short_edge_length must be two values using 'range' sample style. Got [640, 672, 704, 736, 768, 800]!\n",
      "Failed 000000338905.jpg: short_edge_length must be two values using 'range' sample style. Got [640, 672, 704, 736, 768, 800]!\n",
      "Failed 000000338986.jpg: short_edge_length must be two values using 'range' sample style. Got [640, 672, 704, 736, 768, 800]!\n",
      "Failed 000000339442.jpg: short_edge_length must be two values using 'range' sample style. Got [640, 672, 704, 736, 768, 800]!\n",
      "Failed 000000339823.jpg: short_edge_length must be two values using 'range' sample style. Got [640, 672, 704, 736, 768, 800]!\n",
      "Failed 000000339870.jpg: short_edge_length must be two values using 'range' sample style. Got [640, 672, 704, 736, 768, 800]!\n",
      "Failed 000000340015.jpg: short_edge_length must be two values using 'range' sample style. Got [640, 672, 704, 736, 768, 800]!\n"
     ]
    },
    {
     "name": "stderr",
     "output_type": "stream",
     "text": [
      "Extracting features:  59%|█████████████████████████████████▍                       | 2936/5000 [01:20<01:01, 33.39it/s]"
     ]
    },
    {
     "name": "stdout",
     "output_type": "stream",
     "text": [
      "Failed 000000340175.jpg: short_edge_length must be two values using 'range' sample style. Got [640, 672, 704, 736, 768, 800]!\n",
      "Failed 000000340272.jpg: short_edge_length must be two values using 'range' sample style. Got [640, 672, 704, 736, 768, 800]!\n",
      "Failed 000000340451.jpg: short_edge_length must be two values using 'range' sample style. Got [640, 672, 704, 736, 768, 800]!\n",
      "Failed 000000340697.jpg: short_edge_length must be two values using 'range' sample style. Got [640, 672, 704, 736, 768, 800]!\n",
      "Failed 000000340894.jpg: short_edge_length must be two values using 'range' sample style. Got [640, 672, 704, 736, 768, 800]!\n",
      "Failed 000000340930.jpg: short_edge_length must be two values using 'range' sample style. Got [640, 672, 704, 736, 768, 800]!\n",
      "Failed 000000341058.jpg: short_edge_length must be two values using 'range' sample style. Got [640, 672, 704, 736, 768, 800]!\n"
     ]
    },
    {
     "name": "stderr",
     "output_type": "stream",
     "text": [
      "Extracting features:  59%|█████████████████████████████████▌                       | 2944/5000 [01:20<01:00, 33.74it/s]"
     ]
    },
    {
     "name": "stdout",
     "output_type": "stream",
     "text": [
      "Failed 000000341094.jpg: short_edge_length must be two values using 'range' sample style. Got [640, 672, 704, 736, 768, 800]!\n",
      "Failed 000000341196.jpg: short_edge_length must be two values using 'range' sample style. Got [640, 672, 704, 736, 768, 800]!\n",
      "Failed 000000341469.jpg: short_edge_length must be two values using 'range' sample style. Got [640, 672, 704, 736, 768, 800]!\n",
      "Failed 000000341681.jpg: short_edge_length must be two values using 'range' sample style. Got [640, 672, 704, 736, 768, 800]!\n",
      "Failed 000000341719.jpg: short_edge_length must be two values using 'range' sample style. Got [640, 672, 704, 736, 768, 800]!\n",
      "Failed 000000341828.jpg: short_edge_length must be two values using 'range' sample style. Got [640, 672, 704, 736, 768, 800]!\n",
      "Failed 000000341921.jpg: short_edge_length must be two values using 'range' sample style. Got [640, 672, 704, 736, 768, 800]!\n"
     ]
    },
    {
     "name": "stderr",
     "output_type": "stream",
     "text": [
      "Extracting features:  59%|█████████████████████████████████▋                       | 2952/5000 [01:20<00:59, 34.69it/s]"
     ]
    },
    {
     "name": "stdout",
     "output_type": "stream",
     "text": [
      "Failed 000000341973.jpg: short_edge_length must be two values using 'range' sample style. Got [640, 672, 704, 736, 768, 800]!\n",
      "Failed 000000342006.jpg: short_edge_length must be two values using 'range' sample style. Got [640, 672, 704, 736, 768, 800]!\n",
      "Failed 000000342128.jpg: short_edge_length must be two values using 'range' sample style. Got [640, 672, 704, 736, 768, 800]!\n",
      "Failed 000000342186.jpg: short_edge_length must be two values using 'range' sample style. Got [640, 672, 704, 736, 768, 800]!\n",
      "Failed 000000342295.jpg: short_edge_length must be two values using 'range' sample style. Got [640, 672, 704, 736, 768, 800]!\n",
      "Failed 000000342367.jpg: short_edge_length must be two values using 'range' sample style. Got [640, 672, 704, 736, 768, 800]!\n",
      "Failed 000000342397.jpg: short_edge_length must be two values using 'range' sample style. Got [640, 672, 704, 736, 768, 800]!\n",
      "Failed 000000342971.jpg: short_edge_length must be two values using 'range' sample style. Got [640, 672, 704, 736, 768, 800]!\n"
     ]
    },
    {
     "name": "stderr",
     "output_type": "stream",
     "text": [
      "\r",
      "Extracting features:  59%|█████████████████████████████████▋                       | 2956/5000 [01:21<01:00, 33.95it/s]"
     ]
    },
    {
     "name": "stdout",
     "output_type": "stream",
     "text": [
      "Failed 000000343076.jpg: short_edge_length must be two values using 'range' sample style. Got [640, 672, 704, 736, 768, 800]!\n",
      "Failed 000000343149.jpg: short_edge_length must be two values using 'range' sample style. Got [640, 672, 704, 736, 768, 800]!\n",
      "Failed 000000343218.jpg: short_edge_length must be two values using 'range' sample style. Got [640, 672, 704, 736, 768, 800]!\n",
      "Failed 000000343315.jpg: short_edge_length must be two values using 'range' sample style. Got [640, 672, 704, 736, 768, 800]!\n",
      "Failed 000000343453.jpg: short_edge_length must be two values using 'range' sample style. Got [640, 672, 704, 736, 768, 800]!\n",
      "Failed 000000343466.jpg: short_edge_length must be two values using 'range' sample style. Got [640, 672, 704, 736, 768, 800]!\n",
      "Failed 000000343496.jpg: short_edge_length must be two values using 'range' sample style. Got [640, 672, 704, 736, 768, 800]!\n"
     ]
    },
    {
     "name": "stderr",
     "output_type": "stream",
     "text": [
      "Extracting features:  59%|█████████████████████████████████▊                       | 2964/5000 [01:21<01:05, 31.31it/s]"
     ]
    },
    {
     "name": "stdout",
     "output_type": "stream",
     "text": [
      "Failed 000000343524.jpg: short_edge_length must be two values using 'range' sample style. Got [640, 672, 704, 736, 768, 800]!\n",
      "Failed 000000343561.jpg: short_edge_length must be two values using 'range' sample style. Got [640, 672, 704, 736, 768, 800]!\n",
      "Failed 000000343706.jpg: short_edge_length must be two values using 'range' sample style. Got [640, 672, 704, 736, 768, 800]!\n",
      "Failed 000000343803.jpg: short_edge_length must be two values using 'range' sample style. Got [640, 672, 704, 736, 768, 800]!\n",
      "Failed 000000343934.jpg: short_edge_length must be two values using 'range' sample style. Got [640, 672, 704, 736, 768, 800]!\n",
      "Failed 000000343937.jpg: short_edge_length must be two values using 'range' sample style. Got [640, 672, 704, 736, 768, 800]!\n"
     ]
    },
    {
     "name": "stderr",
     "output_type": "stream",
     "text": [
      "Extracting features:  59%|█████████████████████████████████▉                       | 2972/5000 [01:21<01:04, 31.41it/s]"
     ]
    },
    {
     "name": "stdout",
     "output_type": "stream",
     "text": [
      "Failed 000000343976.jpg: short_edge_length must be two values using 'range' sample style. Got [640, 672, 704, 736, 768, 800]!\n",
      "Failed 000000344029.jpg: short_edge_length must be two values using 'range' sample style. Got [640, 672, 704, 736, 768, 800]!\n",
      "Failed 000000344059.jpg: short_edge_length must be two values using 'range' sample style. Got [640, 672, 704, 736, 768, 800]!\n",
      "Failed 000000344100.jpg: short_edge_length must be two values using 'range' sample style. Got [640, 672, 704, 736, 768, 800]!\n",
      "Failed 000000344268.jpg: short_edge_length must be two values using 'range' sample style. Got [640, 672, 704, 736, 768, 800]!\n",
      "Failed 000000344611.jpg: short_edge_length must be two values using 'range' sample style. Got [640, 672, 704, 736, 768, 800]!\n",
      "Failed 000000344614.jpg: short_edge_length must be two values using 'range' sample style. Got [640, 672, 704, 736, 768, 800]!\n"
     ]
    },
    {
     "name": "stderr",
     "output_type": "stream",
     "text": [
      "\r",
      "Extracting features:  60%|█████████████████████████████████▉                       | 2976/5000 [01:21<01:02, 32.16it/s]"
     ]
    },
    {
     "name": "stdout",
     "output_type": "stream",
     "text": [
      "Failed 000000344621.jpg: short_edge_length must be two values using 'range' sample style. Got [640, 672, 704, 736, 768, 800]!\n",
      "Failed 000000344795.jpg: short_edge_length must be two values using 'range' sample style. Got [640, 672, 704, 736, 768, 800]!\n",
      "Failed 000000344816.jpg: short_edge_length must be two values using 'range' sample style. Got [640, 672, 704, 736, 768, 800]!\n",
      "Failed 000000344888.jpg: short_edge_length must be two values using 'range' sample style. Got [640, 672, 704, 736, 768, 800]!\n",
      "Failed 000000344909.jpg: short_edge_length must be two values using 'range' sample style. Got [640, 672, 704, 736, 768, 800]!\n",
      "Failed 000000345027.jpg: short_edge_length must be two values using 'range' sample style. Got [640, 672, 704, 736, 768, 800]!\n",
      "Failed 000000345252.jpg: short_edge_length must be two values using 'range' sample style. Got [640, 672, 704, 736, 768, 800]!\n"
     ]
    },
    {
     "name": "stderr",
     "output_type": "stream",
     "text": [
      "Extracting features:  60%|██████████████████████████████████                       | 2984/5000 [01:21<01:00, 33.38it/s]"
     ]
    },
    {
     "name": "stdout",
     "output_type": "stream",
     "text": [
      "Failed 000000345261.jpg: short_edge_length must be two values using 'range' sample style. Got [640, 672, 704, 736, 768, 800]!\n",
      "Failed 000000345356.jpg: short_edge_length must be two values using 'range' sample style. Got [640, 672, 704, 736, 768, 800]!\n",
      "Failed 000000345361.jpg: short_edge_length must be two values using 'range' sample style. Got [640, 672, 704, 736, 768, 800]!\n",
      "Failed 000000345385.jpg: short_edge_length must be two values using 'range' sample style. Got [640, 672, 704, 736, 768, 800]!\n",
      "Failed 000000345397.jpg: short_edge_length must be two values using 'range' sample style. Got [640, 672, 704, 736, 768, 800]!\n",
      "Failed 000000345466.jpg: short_edge_length must be two values using 'range' sample style. Got [640, 672, 704, 736, 768, 800]!\n",
      "Failed 000000345469.jpg: short_edge_length must be two values using 'range' sample style. Got [640, 672, 704, 736, 768, 800]!\n"
     ]
    },
    {
     "name": "stderr",
     "output_type": "stream",
     "text": [
      "Extracting features:  60%|██████████████████████████████████                       | 2992/5000 [01:22<00:59, 33.86it/s]"
     ]
    },
    {
     "name": "stdout",
     "output_type": "stream",
     "text": [
      "Failed 000000345941.jpg: short_edge_length must be two values using 'range' sample style. Got [640, 672, 704, 736, 768, 800]!\n",
      "Failed 000000346232.jpg: short_edge_length must be two values using 'range' sample style. Got [640, 672, 704, 736, 768, 800]!\n",
      "Failed 000000346638.jpg: short_edge_length must be two values using 'range' sample style. Got [640, 672, 704, 736, 768, 800]!\n",
      "Failed 000000346703.jpg: short_edge_length must be two values using 'range' sample style. Got [640, 672, 704, 736, 768, 800]!\n",
      "Failed 000000346707.jpg: short_edge_length must be two values using 'range' sample style. Got [640, 672, 704, 736, 768, 800]!\n",
      "Failed 000000346905.jpg: short_edge_length must be two values using 'range' sample style. Got [640, 672, 704, 736, 768, 800]!\n",
      "Failed 000000346968.jpg: short_edge_length must be two values using 'range' sample style. Got [640, 672, 704, 736, 768, 800]!\n"
     ]
    },
    {
     "name": "stderr",
     "output_type": "stream",
     "text": [
      "\r",
      "Extracting features:  60%|██████████████████████████████████▏                      | 2997/5000 [01:22<00:57, 34.72it/s]"
     ]
    },
    {
     "name": "stdout",
     "output_type": "stream",
     "text": [
      "Failed 000000347163.jpg: short_edge_length must be two values using 'range' sample style. Got [640, 672, 704, 736, 768, 800]!\n",
      "Failed 000000347174.jpg: short_edge_length must be two values using 'range' sample style. Got [640, 672, 704, 736, 768, 800]!\n",
      "Failed 000000347254.jpg: short_edge_length must be two values using 'range' sample style. Got [640, 672, 704, 736, 768, 800]!\n",
      "Failed 000000347265.jpg: short_edge_length must be two values using 'range' sample style. Got [640, 672, 704, 736, 768, 800]!\n",
      "Failed 000000347335.jpg: short_edge_length must be two values using 'range' sample style. Got [640, 672, 704, 736, 768, 800]!\n",
      "Failed 000000347370.jpg: short_edge_length must be two values using 'range' sample style. Got [640, 672, 704, 736, 768, 800]!\n",
      "Failed 000000347456.jpg: short_edge_length must be two values using 'range' sample style. Got [640, 672, 704, 736, 768, 800]!\n",
      "Failed 000000347544.jpg: short_edge_length must be two values using 'range' sample style. Got [640, 672, 704, 736, 768, 800]!\n"
     ]
    },
    {
     "name": "stderr",
     "output_type": "stream",
     "text": [
      "Extracting features:  60%|██████████████████████████████████▎                      | 3005/5000 [01:22<00:55, 36.17it/s]"
     ]
    },
    {
     "name": "stdout",
     "output_type": "stream",
     "text": [
      "Failed 000000347664.jpg: short_edge_length must be two values using 'range' sample style. Got [640, 672, 704, 736, 768, 800]!\n",
      "Failed 000000347693.jpg: short_edge_length must be two values using 'range' sample style. Got [640, 672, 704, 736, 768, 800]!\n",
      "Failed 000000347930.jpg: short_edge_length must be two values using 'range' sample style. Got [640, 672, 704, 736, 768, 800]!\n",
      "Failed 000000348012.jpg: short_edge_length must be two values using 'range' sample style. Got [640, 672, 704, 736, 768, 800]!\n",
      "Failed 000000348045.jpg: short_edge_length must be two values using 'range' sample style. Got [640, 672, 704, 736, 768, 800]!\n",
      "Failed 000000348216.jpg: short_edge_length must be two values using 'range' sample style. Got [640, 672, 704, 736, 768, 800]!\n",
      "Failed 000000348243.jpg: short_edge_length must be two values using 'range' sample style. Got [640, 672, 704, 736, 768, 800]!\n"
     ]
    },
    {
     "name": "stderr",
     "output_type": "stream",
     "text": [
      "Extracting features:  60%|██████████████████████████████████▎                      | 3013/5000 [01:22<00:56, 35.36it/s]"
     ]
    },
    {
     "name": "stdout",
     "output_type": "stream",
     "text": [
      "Failed 000000348481.jpg: short_edge_length must be two values using 'range' sample style. Got [640, 672, 704, 736, 768, 800]!\n",
      "Failed 000000348488.jpg: short_edge_length must be two values using 'range' sample style. Got [640, 672, 704, 736, 768, 800]!\n",
      "Failed 000000348708.jpg: short_edge_length must be two values using 'range' sample style. Got [640, 672, 704, 736, 768, 800]!\n",
      "Failed 000000348881.jpg: short_edge_length must be two values using 'range' sample style. Got [640, 672, 704, 736, 768, 800]!\n",
      "Failed 000000349152.jpg: short_edge_length must be two values using 'range' sample style. Got [640, 672, 704, 736, 768, 800]!\n",
      "Failed 000000349184.jpg: short_edge_length must be two values using 'range' sample style. Got [640, 672, 704, 736, 768, 800]!\n",
      "Failed 000000349302.jpg: short_edge_length must be two values using 'range' sample style. Got [640, 672, 704, 736, 768, 800]!\n"
     ]
    },
    {
     "name": "stderr",
     "output_type": "stream",
     "text": [
      "Extracting features:  60%|██████████████████████████████████▍                      | 3021/5000 [01:22<00:56, 35.06it/s]"
     ]
    },
    {
     "name": "stdout",
     "output_type": "stream",
     "text": [
      "Failed 000000349480.jpg: short_edge_length must be two values using 'range' sample style. Got [640, 672, 704, 736, 768, 800]!\n",
      "Failed 000000349594.jpg: short_edge_length must be two values using 'range' sample style. Got [640, 672, 704, 736, 768, 800]!\n",
      "Failed 000000349678.jpg: short_edge_length must be two values using 'range' sample style. Got [640, 672, 704, 736, 768, 800]!\n",
      "Failed 000000349837.jpg: short_edge_length must be two values using 'range' sample style. Got [640, 672, 704, 736, 768, 800]!\n",
      "Failed 000000349860.jpg: short_edge_length must be two values using 'range' sample style. Got [640, 672, 704, 736, 768, 800]!\n",
      "Failed 000000350002.jpg: short_edge_length must be two values using 'range' sample style. Got [640, 672, 704, 736, 768, 800]!\n",
      "Failed 000000350003.jpg: short_edge_length must be two values using 'range' sample style. Got [640, 672, 704, 736, 768, 800]!\n"
     ]
    },
    {
     "name": "stderr",
     "output_type": "stream",
     "text": [
      "Extracting features:  61%|██████████████████████████████████▌                      | 3029/5000 [01:23<00:54, 35.91it/s]"
     ]
    },
    {
     "name": "stdout",
     "output_type": "stream",
     "text": [
      "Failed 000000350019.jpg: short_edge_length must be two values using 'range' sample style. Got [640, 672, 704, 736, 768, 800]!\n",
      "Failed 000000350023.jpg: short_edge_length must be two values using 'range' sample style. Got [640, 672, 704, 736, 768, 800]!\n",
      "Failed 000000350054.jpg: short_edge_length must be two values using 'range' sample style. Got [640, 672, 704, 736, 768, 800]!\n",
      "Failed 000000350122.jpg: short_edge_length must be two values using 'range' sample style. Got [640, 672, 704, 736, 768, 800]!\n",
      "Failed 000000350148.jpg: short_edge_length must be two values using 'range' sample style. Got [640, 672, 704, 736, 768, 800]!\n",
      "Failed 000000350388.jpg: short_edge_length must be two values using 'range' sample style. Got [640, 672, 704, 736, 768, 800]!\n",
      "Failed 000000350405.jpg: short_edge_length must be two values using 'range' sample style. Got [640, 672, 704, 736, 768, 800]!\n",
      "Failed 000000350488.jpg: short_edge_length must be two values using 'range' sample style. Got [640, 672, 704, 736, 768, 800]!\n"
     ]
    },
    {
     "name": "stderr",
     "output_type": "stream",
     "text": [
      "Extracting features:  61%|██████████████████████████████████▌                      | 3037/5000 [01:23<00:55, 35.35it/s]"
     ]
    },
    {
     "name": "stdout",
     "output_type": "stream",
     "text": [
      "Failed 000000350607.jpg: short_edge_length must be two values using 'range' sample style. Got [640, 672, 704, 736, 768, 800]!\n",
      "Failed 000000350679.jpg: short_edge_length must be two values using 'range' sample style. Got [640, 672, 704, 736, 768, 800]!\n",
      "Failed 000000350833.jpg: short_edge_length must be two values using 'range' sample style. Got [640, 672, 704, 736, 768, 800]!\n",
      "Failed 000000351096.jpg: short_edge_length must be two values using 'range' sample style. Got [640, 672, 704, 736, 768, 800]!\n",
      "Failed 000000351331.jpg: short_edge_length must be two values using 'range' sample style. Got [640, 672, 704, 736, 768, 800]!\n",
      "Failed 000000351362.jpg: short_edge_length must be two values using 'range' sample style. Got [640, 672, 704, 736, 768, 800]!\n",
      "Failed 000000351530.jpg: short_edge_length must be two values using 'range' sample style. Got [640, 672, 704, 736, 768, 800]!\n",
      "Failed 000000351559.jpg: short_edge_length must be two values using 'range' sample style. Got [640, 672, 704, 736, 768, 800]!\n"
     ]
    },
    {
     "name": "stderr",
     "output_type": "stream",
     "text": [
      "Extracting features:  61%|██████████████████████████████████▋                      | 3045/5000 [01:23<00:54, 35.90it/s]"
     ]
    },
    {
     "name": "stdout",
     "output_type": "stream",
     "text": [
      "Failed 000000351589.jpg: short_edge_length must be two values using 'range' sample style. Got [640, 672, 704, 736, 768, 800]!\n",
      "Failed 000000351609.jpg: short_edge_length must be two values using 'range' sample style. Got [640, 672, 704, 736, 768, 800]!\n",
      "Failed 000000351810.jpg: short_edge_length must be two values using 'range' sample style. Got [640, 672, 704, 736, 768, 800]!\n",
      "Failed 000000351823.jpg: short_edge_length must be two values using 'range' sample style. Got [640, 672, 704, 736, 768, 800]!\n",
      "Failed 000000352491.jpg: short_edge_length must be two values using 'range' sample style. Got [640, 672, 704, 736, 768, 800]!\n",
      "Failed 000000352582.jpg: short_edge_length must be two values using 'range' sample style. Got [640, 672, 704, 736, 768, 800]!\n",
      "Failed 000000352584.jpg: short_edge_length must be two values using 'range' sample style. Got [640, 672, 704, 736, 768, 800]!\n",
      "Failed 000000352618.jpg: short_edge_length must be two values using 'range' sample style. Got [640, 672, 704, 736, 768, 800]!\n"
     ]
    },
    {
     "name": "stderr",
     "output_type": "stream",
     "text": [
      "Extracting features:  61%|██████████████████████████████████▊                      | 3053/5000 [01:23<00:53, 36.45it/s]"
     ]
    },
    {
     "name": "stdout",
     "output_type": "stream",
     "text": [
      "Failed 000000352684.jpg: short_edge_length must be two values using 'range' sample style. Got [640, 672, 704, 736, 768, 800]!\n",
      "Failed 000000352760.jpg: short_edge_length must be two values using 'range' sample style. Got [640, 672, 704, 736, 768, 800]!\n",
      "Failed 000000352900.jpg: short_edge_length must be two values using 'range' sample style. Got [640, 672, 704, 736, 768, 800]!\n",
      "Failed 000000353027.jpg: short_edge_length must be two values using 'range' sample style. Got [640, 672, 704, 736, 768, 800]!\n",
      "Failed 000000353051.jpg: short_edge_length must be two values using 'range' sample style. Got [640, 672, 704, 736, 768, 800]!\n",
      "Failed 000000353096.jpg: short_edge_length must be two values using 'range' sample style. Got [640, 672, 704, 736, 768, 800]!\n",
      "Failed 000000353180.jpg: short_edge_length must be two values using 'range' sample style. Got [640, 672, 704, 736, 768, 800]!\n",
      "Failed 000000353518.jpg: short_edge_length must be two values using 'range' sample style. Got [640, 672, 704, 736, 768, 800]!\n"
     ]
    },
    {
     "name": "stderr",
     "output_type": "stream",
     "text": [
      "Extracting features:  61%|██████████████████████████████████▉                      | 3061/5000 [01:24<00:55, 35.18it/s]"
     ]
    },
    {
     "name": "stdout",
     "output_type": "stream",
     "text": [
      "Failed 000000353970.jpg: short_edge_length must be two values using 'range' sample style. Got [640, 672, 704, 736, 768, 800]!\n",
      "Failed 000000354072.jpg: short_edge_length must be two values using 'range' sample style. Got [640, 672, 704, 736, 768, 800]!\n",
      "Failed 000000354307.jpg: short_edge_length must be two values using 'range' sample style. Got [640, 672, 704, 736, 768, 800]!\n",
      "Failed 000000354547.jpg: short_edge_length must be two values using 'range' sample style. Got [640, 672, 704, 736, 768, 800]!\n",
      "Failed 000000354753.jpg: short_edge_length must be two values using 'range' sample style. Got [640, 672, 704, 736, 768, 800]!\n",
      "Failed 000000354829.jpg: short_edge_length must be two values using 'range' sample style. Got [640, 672, 704, 736, 768, 800]!\n",
      "Failed 000000355169.jpg: short_edge_length must be two values using 'range' sample style. Got [640, 672, 704, 736, 768, 800]!\n",
      "Failed 000000355240.jpg: short_edge_length must be two values using 'range' sample style. Got [640, 672, 704, 736, 768, 800]!\n",
      "Failed 000000355257.jpg: short_edge_length must be two values using 'range' sample style. Got [640, 672, 704, 736, 768, 800]!\n"
     ]
    },
    {
     "name": "stderr",
     "output_type": "stream",
     "text": [
      "Extracting features:  61%|███████████████████████████████████                      | 3071/5000 [01:24<00:51, 37.54it/s]"
     ]
    },
    {
     "name": "stdout",
     "output_type": "stream",
     "text": [
      "Failed 000000355325.jpg: short_edge_length must be two values using 'range' sample style. Got [640, 672, 704, 736, 768, 800]!\n",
      "Failed 000000355610.jpg: short_edge_length must be two values using 'range' sample style. Got [640, 672, 704, 736, 768, 800]!\n",
      "Failed 000000355677.jpg: short_edge_length must be two values using 'range' sample style. Got [640, 672, 704, 736, 768, 800]!\n",
      "Failed 000000355817.jpg: short_edge_length must be two values using 'range' sample style. Got [640, 672, 704, 736, 768, 800]!\n",
      "Failed 000000355905.jpg: short_edge_length must be two values using 'range' sample style. Got [640, 672, 704, 736, 768, 800]!\n",
      "Failed 000000356094.jpg: short_edge_length must be two values using 'range' sample style. Got [640, 672, 704, 736, 768, 800]!\n",
      "Failed 000000356125.jpg: short_edge_length must be two values using 'range' sample style. Got [640, 672, 704, 736, 768, 800]!\n",
      "Failed 000000356169.jpg: short_edge_length must be two values using 'range' sample style. Got [640, 672, 704, 736, 768, 800]!\n"
     ]
    },
    {
     "name": "stderr",
     "output_type": "stream",
     "text": [
      "\r",
      "Extracting features:  62%|███████████████████████████████████                      | 3075/5000 [01:24<00:55, 34.67it/s]"
     ]
    },
    {
     "name": "stdout",
     "output_type": "stream",
     "text": [
      "Failed 000000356248.jpg: short_edge_length must be two values using 'range' sample style. Got [640, 672, 704, 736, 768, 800]!\n",
      "Failed 000000356261.jpg: short_edge_length must be two values using 'range' sample style. Got [640, 672, 704, 736, 768, 800]!\n",
      "Failed 000000356347.jpg: short_edge_length must be two values using 'range' sample style. Got [640, 672, 704, 736, 768, 800]!\n",
      "Failed 000000356387.jpg: short_edge_length must be two values using 'range' sample style. Got [640, 672, 704, 736, 768, 800]!\n",
      "Failed 000000356424.jpg: short_edge_length must be two values using 'range' sample style. Got [640, 672, 704, 736, 768, 800]!\n",
      "Failed 000000356427.jpg: short_edge_length must be two values using 'range' sample style. Got [640, 672, 704, 736, 768, 800]!\n"
     ]
    },
    {
     "name": "stderr",
     "output_type": "stream",
     "text": [
      "Extracting features:  62%|███████████████████████████████████▏                     | 3083/5000 [01:24<00:57, 33.45it/s]"
     ]
    },
    {
     "name": "stdout",
     "output_type": "stream",
     "text": [
      "Failed 000000356428.jpg: short_edge_length must be two values using 'range' sample style. Got [640, 672, 704, 736, 768, 800]!\n",
      "Failed 000000356432.jpg: short_edge_length must be two values using 'range' sample style. Got [640, 672, 704, 736, 768, 800]!\n",
      "Failed 000000356498.jpg: short_edge_length must be two values using 'range' sample style. Got [640, 672, 704, 736, 768, 800]!\n",
      "Failed 000000356505.jpg: short_edge_length must be two values using 'range' sample style. Got [640, 672, 704, 736, 768, 800]!\n",
      "Failed 000000356531.jpg: short_edge_length must be two values using 'range' sample style. Got [640, 672, 704, 736, 768, 800]!\n",
      "Failed 000000356612.jpg: short_edge_length must be two values using 'range' sample style. Got [640, 672, 704, 736, 768, 800]!\n",
      "Failed 000000356968.jpg: short_edge_length must be two values using 'range' sample style. Got [640, 672, 704, 736, 768, 800]!\n"
     ]
    },
    {
     "name": "stderr",
     "output_type": "stream",
     "text": [
      "Extracting features:  62%|███████████████████████████████████▏                     | 3091/5000 [01:24<00:59, 32.25it/s]"
     ]
    },
    {
     "name": "stdout",
     "output_type": "stream",
     "text": [
      "Failed 000000357060.jpg: short_edge_length must be two values using 'range' sample style. Got [640, 672, 704, 736, 768, 800]!\n",
      "Failed 000000357081.jpg: short_edge_length must be two values using 'range' sample style. Got [640, 672, 704, 736, 768, 800]!\n",
      "Failed 000000357238.jpg: short_edge_length must be two values using 'range' sample style. Got [640, 672, 704, 736, 768, 800]!\n",
      "Failed 000000357430.jpg: short_edge_length must be two values using 'range' sample style. Got [640, 672, 704, 736, 768, 800]!\n",
      "Failed 000000357459.jpg: short_edge_length must be two values using 'range' sample style. Got [640, 672, 704, 736, 768, 800]!\n",
      "Failed 000000357501.jpg: short_edge_length must be two values using 'range' sample style. Got [640, 672, 704, 736, 768, 800]!\n",
      "Failed 000000357567.jpg: short_edge_length must be two values using 'range' sample style. Got [640, 672, 704, 736, 768, 800]!\n",
      "Failed 000000357737.jpg: short_edge_length must be two values using 'range' sample style. Got [640, 672, 704, 736, 768, 800]!\n"
     ]
    },
    {
     "name": "stderr",
     "output_type": "stream",
     "text": [
      "\r",
      "Extracting features:  62%|███████████████████████████████████▎                     | 3095/5000 [01:25<01:01, 31.20it/s]"
     ]
    },
    {
     "name": "stdout",
     "output_type": "stream",
     "text": [
      "Failed 000000357742.jpg: short_edge_length must be two values using 'range' sample style. Got [640, 672, 704, 736, 768, 800]!\n",
      "Failed 000000357748.jpg: short_edge_length must be two values using 'range' sample style. Got [640, 672, 704, 736, 768, 800]!\n",
      "Failed 000000357816.jpg: short_edge_length must be two values using 'range' sample style. Got [640, 672, 704, 736, 768, 800]!\n",
      "Failed 000000357888.jpg: short_edge_length must be two values using 'range' sample style. Got [640, 672, 704, 736, 768, 800]!\n",
      "Failed 000000357903.jpg: short_edge_length must be two values using 'range' sample style. Got [640, 672, 704, 736, 768, 800]!\n",
      "Failed 000000357941.jpg: short_edge_length must be two values using 'range' sample style. Got [640, 672, 704, 736, 768, 800]!\n"
     ]
    },
    {
     "name": "stderr",
     "output_type": "stream",
     "text": [
      "Extracting features:  62%|███████████████████████████████████▎                     | 3103/5000 [01:25<01:01, 30.96it/s]"
     ]
    },
    {
     "name": "stdout",
     "output_type": "stream",
     "text": [
      "Failed 000000357978.jpg: short_edge_length must be two values using 'range' sample style. Got [640, 672, 704, 736, 768, 800]!\n",
      "Failed 000000358195.jpg: short_edge_length must be two values using 'range' sample style. Got [640, 672, 704, 736, 768, 800]!\n",
      "Failed 000000358427.jpg: short_edge_length must be two values using 'range' sample style. Got [640, 672, 704, 736, 768, 800]!\n",
      "Failed 000000358525.jpg: short_edge_length must be two values using 'range' sample style. Got [640, 672, 704, 736, 768, 800]!\n",
      "Failed 000000358923.jpg: short_edge_length must be two values using 'range' sample style. Got [640, 672, 704, 736, 768, 800]!\n",
      "Failed 000000359135.jpg: short_edge_length must be two values using 'range' sample style. Got [640, 672, 704, 736, 768, 800]!\n",
      "Failed 000000359219.jpg: short_edge_length must be two values using 'range' sample style. Got [640, 672, 704, 736, 768, 800]!\n"
     ]
    },
    {
     "name": "stderr",
     "output_type": "stream",
     "text": [
      "Extracting features:  62%|███████████████████████████████████▍                     | 3111/5000 [01:25<01:01, 30.62it/s]"
     ]
    },
    {
     "name": "stdout",
     "output_type": "stream",
     "text": [
      "Failed 000000359540.jpg: short_edge_length must be two values using 'range' sample style. Got [640, 672, 704, 736, 768, 800]!\n",
      "Failed 000000359677.jpg: short_edge_length must be two values using 'range' sample style. Got [640, 672, 704, 736, 768, 800]!\n",
      "Failed 000000359781.jpg: short_edge_length must be two values using 'range' sample style. Got [640, 672, 704, 736, 768, 800]!\n",
      "Failed 000000359833.jpg: short_edge_length must be two values using 'range' sample style. Got [640, 672, 704, 736, 768, 800]!\n",
      "Failed 000000359855.jpg: short_edge_length must be two values using 'range' sample style. Got [640, 672, 704, 736, 768, 800]!\n",
      "Failed 000000359937.jpg: short_edge_length must be two values using 'range' sample style. Got [640, 672, 704, 736, 768, 800]!\n",
      "Failed 000000360097.jpg: short_edge_length must be two values using 'range' sample style. Got [640, 672, 704, 736, 768, 800]!\n"
     ]
    },
    {
     "name": "stderr",
     "output_type": "stream",
     "text": [
      "Extracting features:  62%|███████████████████████████████████▌                     | 3119/5000 [01:25<00:56, 33.06it/s]"
     ]
    },
    {
     "name": "stdout",
     "output_type": "stream",
     "text": [
      "Failed 000000360137.jpg: short_edge_length must be two values using 'range' sample style. Got [640, 672, 704, 736, 768, 800]!\n",
      "Failed 000000360325.jpg: short_edge_length must be two values using 'range' sample style. Got [640, 672, 704, 736, 768, 800]!\n",
      "Failed 000000360393.jpg: short_edge_length must be two values using 'range' sample style. Got [640, 672, 704, 736, 768, 800]!\n",
      "Failed 000000360564.jpg: short_edge_length must be two values using 'range' sample style. Got [640, 672, 704, 736, 768, 800]!\n",
      "Failed 000000360661.jpg: short_edge_length must be two values using 'range' sample style. Got [640, 672, 704, 736, 768, 800]!\n",
      "Failed 000000360943.jpg: short_edge_length must be two values using 'range' sample style. Got [640, 672, 704, 736, 768, 800]!\n",
      "Failed 000000360951.jpg: short_edge_length must be two values using 'range' sample style. Got [640, 672, 704, 736, 768, 800]!\n",
      "Failed 000000360960.jpg: short_edge_length must be two values using 'range' sample style. Got [640, 672, 704, 736, 768, 800]!\n"
     ]
    },
    {
     "name": "stderr",
     "output_type": "stream",
     "text": [
      "Extracting features:  63%|███████████████████████████████████▋                     | 3127/5000 [01:26<00:57, 32.74it/s]"
     ]
    },
    {
     "name": "stdout",
     "output_type": "stream",
     "text": [
      "Failed 000000361103.jpg: short_edge_length must be two values using 'range' sample style. Got [640, 672, 704, 736, 768, 800]!\n",
      "Failed 000000361142.jpg: short_edge_length must be two values using 'range' sample style. Got [640, 672, 704, 736, 768, 800]!\n",
      "Failed 000000361147.jpg: short_edge_length must be two values using 'range' sample style. Got [640, 672, 704, 736, 768, 800]!\n",
      "Failed 000000361180.jpg: short_edge_length must be two values using 'range' sample style. Got [640, 672, 704, 736, 768, 800]!\n",
      "Failed 000000361238.jpg: short_edge_length must be two values using 'range' sample style. Got [640, 672, 704, 736, 768, 800]!\n",
      "Failed 000000361268.jpg: short_edge_length must be two values using 'range' sample style. Got [640, 672, 704, 736, 768, 800]!\n",
      "Failed 000000361506.jpg: short_edge_length must be two values using 'range' sample style. Got [640, 672, 704, 736, 768, 800]!\n"
     ]
    },
    {
     "name": "stderr",
     "output_type": "stream",
     "text": [
      "\r",
      "Extracting features:  63%|███████████████████████████████████▋                     | 3131/5000 [01:26<00:54, 34.39it/s]"
     ]
    },
    {
     "name": "stdout",
     "output_type": "stream",
     "text": [
      "Failed 000000361551.jpg: short_edge_length must be two values using 'range' sample style. Got [640, 672, 704, 736, 768, 800]!\n",
      "Failed 000000361571.jpg: short_edge_length must be two values using 'range' sample style. Got [640, 672, 704, 736, 768, 800]!\n",
      "Failed 000000361586.jpg: short_edge_length must be two values using 'range' sample style. Got [640, 672, 704, 736, 768, 800]!\n",
      "Failed 000000361621.jpg: short_edge_length must be two values using 'range' sample style. Got [640, 672, 704, 736, 768, 800]!\n",
      "Failed 000000361730.jpg: short_edge_length must be two values using 'range' sample style. Got [640, 672, 704, 736, 768, 800]!\n",
      "Failed 000000361919.jpg: short_edge_length must be two values using 'range' sample style. Got [640, 672, 704, 736, 768, 800]!\n",
      "Failed 000000362434.jpg: short_edge_length must be two values using 'range' sample style. Got [640, 672, 704, 736, 768, 800]!\n"
     ]
    },
    {
     "name": "stderr",
     "output_type": "stream",
     "text": [
      "Extracting features:  63%|███████████████████████████████████▊                     | 3139/5000 [01:26<00:57, 32.20it/s]"
     ]
    },
    {
     "name": "stdout",
     "output_type": "stream",
     "text": [
      "Failed 000000362520.jpg: short_edge_length must be two values using 'range' sample style. Got [640, 672, 704, 736, 768, 800]!\n",
      "Failed 000000362682.jpg: short_edge_length must be two values using 'range' sample style. Got [640, 672, 704, 736, 768, 800]!\n",
      "Failed 000000362716.jpg: short_edge_length must be two values using 'range' sample style. Got [640, 672, 704, 736, 768, 800]!\n",
      "Failed 000000363072.jpg: short_edge_length must be two values using 'range' sample style. Got [640, 672, 704, 736, 768, 800]!\n",
      "Failed 000000363188.jpg: short_edge_length must be two values using 'range' sample style. Got [640, 672, 704, 736, 768, 800]!\n",
      "Failed 000000363207.jpg: short_edge_length must be two values using 'range' sample style. Got [640, 672, 704, 736, 768, 800]!\n",
      "Failed 000000363461.jpg: short_edge_length must be two values using 'range' sample style. Got [640, 672, 704, 736, 768, 800]!\n"
     ]
    },
    {
     "name": "stderr",
     "output_type": "stream",
     "text": [
      "Extracting features:  63%|███████████████████████████████████▉                     | 3147/5000 [01:26<00:58, 31.61it/s]"
     ]
    },
    {
     "name": "stdout",
     "output_type": "stream",
     "text": [
      "Failed 000000363666.jpg: short_edge_length must be two values using 'range' sample style. Got [640, 672, 704, 736, 768, 800]!\n",
      "Failed 000000363784.jpg: short_edge_length must be two values using 'range' sample style. Got [640, 672, 704, 736, 768, 800]!\n",
      "Failed 000000363840.jpg: short_edge_length must be two values using 'range' sample style. Got [640, 672, 704, 736, 768, 800]!\n",
      "Failed 000000363875.jpg: short_edge_length must be two values using 'range' sample style. Got [640, 672, 704, 736, 768, 800]!\n",
      "Failed 000000364102.jpg: short_edge_length must be two values using 'range' sample style. Got [640, 672, 704, 736, 768, 800]!\n",
      "Failed 000000364126.jpg: short_edge_length must be two values using 'range' sample style. Got [640, 672, 704, 736, 768, 800]!\n",
      "Failed 000000364166.jpg: short_edge_length must be two values using 'range' sample style. Got [640, 672, 704, 736, 768, 800]!\n"
     ]
    },
    {
     "name": "stderr",
     "output_type": "stream",
     "text": [
      "Extracting features:  63%|███████████████████████████████████▉                     | 3155/5000 [01:26<00:57, 32.36it/s]"
     ]
    },
    {
     "name": "stdout",
     "output_type": "stream",
     "text": [
      "Failed 000000364297.jpg: short_edge_length must be two values using 'range' sample style. Got [640, 672, 704, 736, 768, 800]!\n",
      "Failed 000000364322.jpg: short_edge_length must be two values using 'range' sample style. Got [640, 672, 704, 736, 768, 800]!\n",
      "Failed 000000364557.jpg: short_edge_length must be two values using 'range' sample style. Got [640, 672, 704, 736, 768, 800]!\n",
      "Failed 000000364587.jpg: short_edge_length must be two values using 'range' sample style. Got [640, 672, 704, 736, 768, 800]!\n",
      "Failed 000000364636.jpg: short_edge_length must be two values using 'range' sample style. Got [640, 672, 704, 736, 768, 800]!\n",
      "Failed 000000364884.jpg: short_edge_length must be two values using 'range' sample style. Got [640, 672, 704, 736, 768, 800]!\n",
      "Failed 000000365095.jpg: short_edge_length must be two values using 'range' sample style. Got [640, 672, 704, 736, 768, 800]!\n"
     ]
    },
    {
     "name": "stderr",
     "output_type": "stream",
     "text": [
      "\r",
      "Extracting features:  63%|████████████████████████████████████                     | 3159/5000 [01:27<00:58, 31.71it/s]"
     ]
    },
    {
     "name": "stdout",
     "output_type": "stream",
     "text": [
      "Failed 000000365098.jpg: short_edge_length must be two values using 'range' sample style. Got [640, 672, 704, 736, 768, 800]!\n",
      "Failed 000000365207.jpg: short_edge_length must be two values using 'range' sample style. Got [640, 672, 704, 736, 768, 800]!\n",
      "Failed 000000365208.jpg: short_edge_length must be two values using 'range' sample style. Got [640, 672, 704, 736, 768, 800]!\n",
      "Failed 000000365385.jpg: short_edge_length must be two values using 'range' sample style. Got [640, 672, 704, 736, 768, 800]!\n",
      "Failed 000000365387.jpg: short_edge_length must be two values using 'range' sample style. Got [640, 672, 704, 736, 768, 800]!\n",
      "Failed 000000365521.jpg: short_edge_length must be two values using 'range' sample style. Got [640, 672, 704, 736, 768, 800]!\n",
      "Failed 000000365642.jpg: short_edge_length must be two values using 'range' sample style. Got [640, 672, 704, 736, 768, 800]!\n"
     ]
    },
    {
     "name": "stderr",
     "output_type": "stream",
     "text": [
      "Extracting features:  63%|████████████████████████████████████                     | 3167/5000 [01:27<00:54, 33.65it/s]"
     ]
    },
    {
     "name": "stdout",
     "output_type": "stream",
     "text": [
      "Failed 000000365655.jpg: short_edge_length must be two values using 'range' sample style. Got [640, 672, 704, 736, 768, 800]!\n",
      "Failed 000000365745.jpg: short_edge_length must be two values using 'range' sample style. Got [640, 672, 704, 736, 768, 800]!\n",
      "Failed 000000365766.jpg: short_edge_length must be two values using 'range' sample style. Got [640, 672, 704, 736, 768, 800]!\n",
      "Failed 000000365886.jpg: short_edge_length must be two values using 'range' sample style. Got [640, 672, 704, 736, 768, 800]!\n",
      "Failed 000000366141.jpg: short_edge_length must be two values using 'range' sample style. Got [640, 672, 704, 736, 768, 800]!\n",
      "Failed 000000366178.jpg: short_edge_length must be two values using 'range' sample style. Got [640, 672, 704, 736, 768, 800]!\n",
      "Failed 000000366199.jpg: short_edge_length must be two values using 'range' sample style. Got [640, 672, 704, 736, 768, 800]!\n",
      "Failed 000000366225.jpg: short_edge_length must be two values using 'range' sample style. Got [640, 672, 704, 736, 768, 800]!\n"
     ]
    },
    {
     "name": "stderr",
     "output_type": "stream",
     "text": [
      "Extracting features:  64%|████████████████████████████████████▏                    | 3175/5000 [01:27<00:56, 32.25it/s]"
     ]
    },
    {
     "name": "stdout",
     "output_type": "stream",
     "text": [
      "Failed 000000366611.jpg: short_edge_length must be two values using 'range' sample style. Got [640, 672, 704, 736, 768, 800]!\n",
      "Failed 000000366711.jpg: short_edge_length must be two values using 'range' sample style. Got [640, 672, 704, 736, 768, 800]!\n",
      "Failed 000000366884.jpg: short_edge_length must be two values using 'range' sample style. Got [640, 672, 704, 736, 768, 800]!\n",
      "Failed 000000367082.jpg: short_edge_length must be two values using 'range' sample style. Got [640, 672, 704, 736, 768, 800]!\n",
      "Failed 000000367095.jpg: short_edge_length must be two values using 'range' sample style. Got [640, 672, 704, 736, 768, 800]!\n",
      "Failed 000000367195.jpg: short_edge_length must be two values using 'range' sample style. Got [640, 672, 704, 736, 768, 800]!\n",
      "Failed 000000367228.jpg: short_edge_length must be two values using 'range' sample style. Got [640, 672, 704, 736, 768, 800]!\n"
     ]
    },
    {
     "name": "stderr",
     "output_type": "stream",
     "text": [
      "Extracting features:  64%|████████████████████████████████████▎                    | 3183/5000 [01:27<00:57, 31.81it/s]"
     ]
    },
    {
     "name": "stdout",
     "output_type": "stream",
     "text": [
      "Failed 000000367386.jpg: short_edge_length must be two values using 'range' sample style. Got [640, 672, 704, 736, 768, 800]!\n",
      "Failed 000000367569.jpg: short_edge_length must be two values using 'range' sample style. Got [640, 672, 704, 736, 768, 800]!\n",
      "Failed 000000367680.jpg: short_edge_length must be two values using 'range' sample style. Got [640, 672, 704, 736, 768, 800]!\n",
      "Failed 000000367818.jpg: short_edge_length must be two values using 'range' sample style. Got [640, 672, 704, 736, 768, 800]!\n",
      "Failed 000000368038.jpg: short_edge_length must be two values using 'range' sample style. Got [640, 672, 704, 736, 768, 800]!\n",
      "Failed 000000368212.jpg: short_edge_length must be two values using 'range' sample style. Got [640, 672, 704, 736, 768, 800]!\n",
      "Failed 000000368294.jpg: short_edge_length must be two values using 'range' sample style. Got [640, 672, 704, 736, 768, 800]!\n"
     ]
    },
    {
     "name": "stderr",
     "output_type": "stream",
     "text": [
      "Extracting features:  64%|████████████████████████████████████▍                    | 3191/5000 [01:28<00:56, 31.77it/s]"
     ]
    },
    {
     "name": "stdout",
     "output_type": "stream",
     "text": [
      "Failed 000000368335.jpg: short_edge_length must be two values using 'range' sample style. Got [640, 672, 704, 736, 768, 800]!\n",
      "Failed 000000368456.jpg: short_edge_length must be two values using 'range' sample style. Got [640, 672, 704, 736, 768, 800]!\n",
      "Failed 000000368684.jpg: short_edge_length must be two values using 'range' sample style. Got [640, 672, 704, 736, 768, 800]!\n",
      "Failed 000000368752.jpg: short_edge_length must be two values using 'range' sample style. Got [640, 672, 704, 736, 768, 800]!\n",
      "Failed 000000368900.jpg: short_edge_length must be two values using 'range' sample style. Got [640, 672, 704, 736, 768, 800]!\n",
      "Failed 000000368940.jpg: short_edge_length must be two values using 'range' sample style. Got [640, 672, 704, 736, 768, 800]!\n",
      "Failed 000000368961.jpg: short_edge_length must be two values using 'range' sample style. Got [640, 672, 704, 736, 768, 800]!\n"
     ]
    },
    {
     "name": "stderr",
     "output_type": "stream",
     "text": [
      "\r",
      "Extracting features:  64%|████████████████████████████████████▍                    | 3195/5000 [01:28<00:54, 33.00it/s]"
     ]
    },
    {
     "name": "stdout",
     "output_type": "stream",
     "text": [
      "Failed 000000368982.jpg: short_edge_length must be two values using 'range' sample style. Got [640, 672, 704, 736, 768, 800]!\n",
      "Failed 000000369037.jpg: short_edge_length must be two values using 'range' sample style. Got [640, 672, 704, 736, 768, 800]!\n",
      "Failed 000000369081.jpg: short_edge_length must be two values using 'range' sample style. Got [640, 672, 704, 736, 768, 800]!\n",
      "Failed 000000369310.jpg: short_edge_length must be two values using 'range' sample style. Got [640, 672, 704, 736, 768, 800]!\n",
      "Failed 000000369323.jpg: short_edge_length must be two values using 'range' sample style. Got [640, 672, 704, 736, 768, 800]!\n",
      "Failed 000000369370.jpg: short_edge_length must be two values using 'range' sample style. Got [640, 672, 704, 736, 768, 800]!\n"
     ]
    },
    {
     "name": "stderr",
     "output_type": "stream",
     "text": [
      "Extracting features:  64%|████████████████████████████████████▌                    | 3203/5000 [01:28<01:00, 29.82it/s]"
     ]
    },
    {
     "name": "stdout",
     "output_type": "stream",
     "text": [
      "Failed 000000369442.jpg: short_edge_length must be two values using 'range' sample style. Got [640, 672, 704, 736, 768, 800]!\n",
      "Failed 000000369503.jpg: short_edge_length must be two values using 'range' sample style. Got [640, 672, 704, 736, 768, 800]!\n",
      "Failed 000000369541.jpg: short_edge_length must be two values using 'range' sample style. Got [640, 672, 704, 736, 768, 800]!\n",
      "Failed 000000369675.jpg: short_edge_length must be two values using 'range' sample style. Got [640, 672, 704, 736, 768, 800]!\n",
      "Failed 000000369751.jpg: short_edge_length must be two values using 'range' sample style. Got [640, 672, 704, 736, 768, 800]!\n",
      "Failed 000000369757.jpg: short_edge_length must be two values using 'range' sample style. Got [640, 672, 704, 736, 768, 800]!\n"
     ]
    },
    {
     "name": "stderr",
     "output_type": "stream",
     "text": [
      "\r",
      "Extracting features:  64%|████████████████████████████████████▌                    | 3207/5000 [01:28<00:56, 31.71it/s]"
     ]
    },
    {
     "name": "stdout",
     "output_type": "stream",
     "text": [
      "Failed 000000369771.jpg: short_edge_length must be two values using 'range' sample style. Got [640, 672, 704, 736, 768, 800]!\n",
      "Failed 000000369812.jpg: short_edge_length must be two values using 'range' sample style. Got [640, 672, 704, 736, 768, 800]!\n",
      "Failed 000000370042.jpg: short_edge_length must be two values using 'range' sample style. Got [640, 672, 704, 736, 768, 800]!\n",
      "Failed 000000370208.jpg: short_edge_length must be two values using 'range' sample style. Got [640, 672, 704, 736, 768, 800]!\n",
      "Failed 000000370270.jpg: short_edge_length must be two values using 'range' sample style. Got [640, 672, 704, 736, 768, 800]!\n",
      "Failed 000000370375.jpg: short_edge_length must be two values using 'range' sample style. Got [640, 672, 704, 736, 768, 800]!\n"
     ]
    },
    {
     "name": "stderr",
     "output_type": "stream",
     "text": [
      "Extracting features:  64%|████████████████████████████████████▋                    | 3215/5000 [01:28<00:57, 31.20it/s]"
     ]
    },
    {
     "name": "stdout",
     "output_type": "stream",
     "text": [
      "Failed 000000370478.jpg: short_edge_length must be two values using 'range' sample style. Got [640, 672, 704, 736, 768, 800]!\n",
      "Failed 000000370486.jpg: short_edge_length must be two values using 'range' sample style. Got [640, 672, 704, 736, 768, 800]!\n",
      "Failed 000000370677.jpg: short_edge_length must be two values using 'range' sample style. Got [640, 672, 704, 736, 768, 800]!\n",
      "Failed 000000370711.jpg: short_edge_length must be two values using 'range' sample style. Got [640, 672, 704, 736, 768, 800]!\n",
      "Failed 000000370813.jpg: short_edge_length must be two values using 'range' sample style. Got [640, 672, 704, 736, 768, 800]!\n",
      "Failed 000000370818.jpg: short_edge_length must be two values using 'range' sample style. Got [640, 672, 704, 736, 768, 800]!\n",
      "Failed 000000370900.jpg: short_edge_length must be two values using 'range' sample style. Got [640, 672, 704, 736, 768, 800]!\n"
     ]
    },
    {
     "name": "stderr",
     "output_type": "stream",
     "text": [
      "Extracting features:  64%|████████████████████████████████████▋                    | 3223/5000 [01:29<00:54, 32.38it/s]"
     ]
    },
    {
     "name": "stdout",
     "output_type": "stream",
     "text": [
      "Failed 000000370999.jpg: short_edge_length must be two values using 'range' sample style. Got [640, 672, 704, 736, 768, 800]!\n",
      "Failed 000000371042.jpg: short_edge_length must be two values using 'range' sample style. Got [640, 672, 704, 736, 768, 800]!\n",
      "Failed 000000371472.jpg: short_edge_length must be two values using 'range' sample style. Got [640, 672, 704, 736, 768, 800]!\n",
      "Failed 000000371529.jpg: short_edge_length must be two values using 'range' sample style. Got [640, 672, 704, 736, 768, 800]!\n",
      "Failed 000000371552.jpg: short_edge_length must be two values using 'range' sample style. Got [640, 672, 704, 736, 768, 800]!\n",
      "Failed 000000371677.jpg: short_edge_length must be two values using 'range' sample style. Got [640, 672, 704, 736, 768, 800]!\n",
      "Failed 000000371699.jpg: short_edge_length must be two values using 'range' sample style. Got [640, 672, 704, 736, 768, 800]!\n"
     ]
    },
    {
     "name": "stderr",
     "output_type": "stream",
     "text": [
      "\r",
      "Extracting features:  65%|████████████████████████████████████▊                    | 3227/5000 [01:29<00:56, 31.28it/s]"
     ]
    },
    {
     "name": "stdout",
     "output_type": "stream",
     "text": [
      "Failed 000000371749.jpg: short_edge_length must be two values using 'range' sample style. Got [640, 672, 704, 736, 768, 800]!\n",
      "Failed 000000372203.jpg: short_edge_length must be two values using 'range' sample style. Got [640, 672, 704, 736, 768, 800]!\n",
      "Failed 000000372260.jpg: short_edge_length must be two values using 'range' sample style. Got [640, 672, 704, 736, 768, 800]!\n",
      "Failed 000000372307.jpg: short_edge_length must be two values using 'range' sample style. Got [640, 672, 704, 736, 768, 800]!\n",
      "Failed 000000372317.jpg: short_edge_length must be two values using 'range' sample style. Got [640, 672, 704, 736, 768, 800]!\n",
      "Failed 000000372349.jpg: short_edge_length must be two values using 'range' sample style. Got [640, 672, 704, 736, 768, 800]!\n",
      "Failed 000000372466.jpg: short_edge_length must be two values using 'range' sample style. Got [640, 672, 704, 736, 768, 800]!\n"
     ]
    },
    {
     "name": "stderr",
     "output_type": "stream",
     "text": [
      "Extracting features:  65%|████████████████████████████████████▉                    | 3235/5000 [01:29<01:01, 28.88it/s]"
     ]
    },
    {
     "name": "stdout",
     "output_type": "stream",
     "text": [
      "Failed 000000372577.jpg: short_edge_length must be two values using 'range' sample style. Got [640, 672, 704, 736, 768, 800]!\n",
      "Failed 000000372718.jpg: short_edge_length must be two values using 'range' sample style. Got [640, 672, 704, 736, 768, 800]!\n",
      "Failed 000000372819.jpg: short_edge_length must be two values using 'range' sample style. Got [640, 672, 704, 736, 768, 800]!\n",
      "Failed 000000373315.jpg: short_edge_length must be two values using 'range' sample style. Got [640, 672, 704, 736, 768, 800]!\n",
      "Failed 000000373353.jpg: short_edge_length must be two values using 'range' sample style. Got [640, 672, 704, 736, 768, 800]!\n",
      "Failed 000000373382.jpg: short_edge_length must be two values using 'range' sample style. Got [640, 672, 704, 736, 768, 800]!\n",
      "Failed 000000373705.jpg: short_edge_length must be two values using 'range' sample style. Got [640, 672, 704, 736, 768, 800]!\n"
     ]
    },
    {
     "name": "stderr",
     "output_type": "stream",
     "text": [
      "Extracting features:  65%|████████████████████████████████████▉                    | 3243/5000 [01:29<00:54, 32.39it/s]"
     ]
    },
    {
     "name": "stdout",
     "output_type": "stream",
     "text": [
      "Failed 000000374052.jpg: short_edge_length must be two values using 'range' sample style. Got [640, 672, 704, 736, 768, 800]!\n",
      "Failed 000000374083.jpg: short_edge_length must be two values using 'range' sample style. Got [640, 672, 704, 736, 768, 800]!\n",
      "Failed 000000374369.jpg: short_edge_length must be two values using 'range' sample style. Got [640, 672, 704, 736, 768, 800]!\n",
      "Failed 000000374545.jpg: short_edge_length must be two values using 'range' sample style. Got [640, 672, 704, 736, 768, 800]!\n",
      "Failed 000000374551.jpg: short_edge_length must be two values using 'range' sample style. Got [640, 672, 704, 736, 768, 800]!\n",
      "Failed 000000374727.jpg: short_edge_length must be two values using 'range' sample style. Got [640, 672, 704, 736, 768, 800]!\n",
      "Failed 000000374982.jpg: short_edge_length must be two values using 'range' sample style. Got [640, 672, 704, 736, 768, 800]!\n",
      "Failed 000000375015.jpg: short_edge_length must be two values using 'range' sample style. Got [640, 672, 704, 736, 768, 800]!\n"
     ]
    },
    {
     "name": "stderr",
     "output_type": "stream",
     "text": [
      "Extracting features:  65%|█████████████████████████████████████                    | 3251/5000 [01:29<00:50, 34.85it/s]"
     ]
    },
    {
     "name": "stdout",
     "output_type": "stream",
     "text": [
      "Failed 000000375078.jpg: short_edge_length must be two values using 'range' sample style. Got [640, 672, 704, 736, 768, 800]!\n",
      "Failed 000000375278.jpg: short_edge_length must be two values using 'range' sample style. Got [640, 672, 704, 736, 768, 800]!\n",
      "Failed 000000375430.jpg: short_edge_length must be two values using 'range' sample style. Got [640, 672, 704, 736, 768, 800]!\n",
      "Failed 000000375469.jpg: short_edge_length must be two values using 'range' sample style. Got [640, 672, 704, 736, 768, 800]!\n",
      "Failed 000000375493.jpg: short_edge_length must be two values using 'range' sample style. Got [640, 672, 704, 736, 768, 800]!\n",
      "Failed 000000375763.jpg: short_edge_length must be two values using 'range' sample style. Got [640, 672, 704, 736, 768, 800]!\n",
      "Failed 000000376093.jpg: short_edge_length must be two values using 'range' sample style. Got [640, 672, 704, 736, 768, 800]!\n",
      "Failed 000000376112.jpg: short_edge_length must be two values using 'range' sample style. Got [640, 672, 704, 736, 768, 800]!\n",
      "Failed 000000376206.jpg: short_edge_length must be two values using 'range' sample style. Got [640, 672, 704, 736, 768, 800]!\n"
     ]
    },
    {
     "name": "stderr",
     "output_type": "stream",
     "text": [
      "Extracting features:  65%|█████████████████████████████████████▏                   | 3259/5000 [01:30<00:50, 34.40it/s]"
     ]
    },
    {
     "name": "stdout",
     "output_type": "stream",
     "text": [
      "Failed 000000376264.jpg: short_edge_length must be two values using 'range' sample style. Got [640, 672, 704, 736, 768, 800]!\n",
      "Failed 000000376278.jpg: short_edge_length must be two values using 'range' sample style. Got [640, 672, 704, 736, 768, 800]!\n",
      "Failed 000000376284.jpg: short_edge_length must be two values using 'range' sample style. Got [640, 672, 704, 736, 768, 800]!\n",
      "Failed 000000376307.jpg: short_edge_length must be two values using 'range' sample style. Got [640, 672, 704, 736, 768, 800]!\n",
      "Failed 000000376310.jpg: short_edge_length must be two values using 'range' sample style. Got [640, 672, 704, 736, 768, 800]!\n",
      "Failed 000000376322.jpg: short_edge_length must be two values using 'range' sample style. Got [640, 672, 704, 736, 768, 800]!\n",
      "Failed 000000376365.jpg: short_edge_length must be two values using 'range' sample style. Got [640, 672, 704, 736, 768, 800]!\n"
     ]
    },
    {
     "name": "stderr",
     "output_type": "stream",
     "text": [
      "Extracting features:  65%|█████████████████████████████████████▏                   | 3267/5000 [01:30<00:51, 33.96it/s]"
     ]
    },
    {
     "name": "stdout",
     "output_type": "stream",
     "text": [
      "Failed 000000376442.jpg: short_edge_length must be two values using 'range' sample style. Got [640, 672, 704, 736, 768, 800]!\n",
      "Failed 000000376478.jpg: short_edge_length must be two values using 'range' sample style. Got [640, 672, 704, 736, 768, 800]!\n",
      "Failed 000000376625.jpg: short_edge_length must be two values using 'range' sample style. Got [640, 672, 704, 736, 768, 800]!\n",
      "Failed 000000376856.jpg: short_edge_length must be two values using 'range' sample style. Got [640, 672, 704, 736, 768, 800]!\n",
      "Failed 000000376900.jpg: short_edge_length must be two values using 'range' sample style. Got [640, 672, 704, 736, 768, 800]!\n",
      "Failed 000000377000.jpg: short_edge_length must be two values using 'range' sample style. Got [640, 672, 704, 736, 768, 800]!\n",
      "Failed 000000377113.jpg: short_edge_length must be two values using 'range' sample style. Got [640, 672, 704, 736, 768, 800]!\n"
     ]
    },
    {
     "name": "stderr",
     "output_type": "stream",
     "text": [
      "Extracting features:  66%|█████████████████████████████████████▎                   | 3275/5000 [01:30<00:51, 33.30it/s]"
     ]
    },
    {
     "name": "stdout",
     "output_type": "stream",
     "text": [
      "Failed 000000377239.jpg: short_edge_length must be two values using 'range' sample style. Got [640, 672, 704, 736, 768, 800]!\n",
      "Failed 000000377368.jpg: short_edge_length must be two values using 'range' sample style. Got [640, 672, 704, 736, 768, 800]!\n",
      "Failed 000000377393.jpg: short_edge_length must be two values using 'range' sample style. Got [640, 672, 704, 736, 768, 800]!\n",
      "Failed 000000377486.jpg: short_edge_length must be two values using 'range' sample style. Got [640, 672, 704, 736, 768, 800]!\n",
      "Failed 000000377497.jpg: short_edge_length must be two values using 'range' sample style. Got [640, 672, 704, 736, 768, 800]!\n",
      "Failed 000000377575.jpg: short_edge_length must be two values using 'range' sample style. Got [640, 672, 704, 736, 768, 800]!\n",
      "Failed 000000377588.jpg: short_edge_length must be two values using 'range' sample style. Got [640, 672, 704, 736, 768, 800]!\n"
     ]
    },
    {
     "name": "stderr",
     "output_type": "stream",
     "text": [
      "\r",
      "Extracting features:  66%|█████████████████████████████████████▍                   | 3279/5000 [01:30<00:52, 32.49it/s]"
     ]
    },
    {
     "name": "stdout",
     "output_type": "stream",
     "text": [
      "Failed 000000377635.jpg: short_edge_length must be two values using 'range' sample style. Got [640, 672, 704, 736, 768, 800]!\n",
      "Failed 000000377670.jpg: short_edge_length must be two values using 'range' sample style. Got [640, 672, 704, 736, 768, 800]!\n",
      "Failed 000000377723.jpg: short_edge_length must be two values using 'range' sample style. Got [640, 672, 704, 736, 768, 800]!\n",
      "Failed 000000377814.jpg: short_edge_length must be two values using 'range' sample style. Got [640, 672, 704, 736, 768, 800]!\n",
      "Failed 000000377882.jpg: short_edge_length must be two values using 'range' sample style. Got [640, 672, 704, 736, 768, 800]!\n",
      "Failed 000000377946.jpg: short_edge_length must be two values using 'range' sample style. Got [640, 672, 704, 736, 768, 800]!\n",
      "Failed 000000378099.jpg: short_edge_length must be two values using 'range' sample style. Got [640, 672, 704, 736, 768, 800]!\n"
     ]
    },
    {
     "name": "stderr",
     "output_type": "stream",
     "text": [
      "Extracting features:  66%|█████████████████████████████████████▍                   | 3287/5000 [01:30<00:50, 34.03it/s]"
     ]
    },
    {
     "name": "stdout",
     "output_type": "stream",
     "text": [
      "Failed 000000378116.jpg: short_edge_length must be two values using 'range' sample style. Got [640, 672, 704, 736, 768, 800]!\n",
      "Failed 000000378139.jpg: short_edge_length must be two values using 'range' sample style. Got [640, 672, 704, 736, 768, 800]!\n",
      "Failed 000000378244.jpg: short_edge_length must be two values using 'range' sample style. Got [640, 672, 704, 736, 768, 800]!\n",
      "Failed 000000378284.jpg: short_edge_length must be two values using 'range' sample style. Got [640, 672, 704, 736, 768, 800]!\n",
      "Failed 000000378453.jpg: short_edge_length must be two values using 'range' sample style. Got [640, 672, 704, 736, 768, 800]!\n",
      "Failed 000000378454.jpg: short_edge_length must be two values using 'range' sample style. Got [640, 672, 704, 736, 768, 800]!\n",
      "Failed 000000378515.jpg: short_edge_length must be two values using 'range' sample style. Got [640, 672, 704, 736, 768, 800]!\n",
      "Failed 000000378605.jpg: short_edge_length must be two values using 'range' sample style. Got [640, 672, 704, 736, 768, 800]!\n"
     ]
    },
    {
     "name": "stderr",
     "output_type": "stream",
     "text": [
      "Extracting features:  66%|█████████████████████████████████████▌                   | 3296/5000 [01:31<00:48, 35.00it/s]"
     ]
    },
    {
     "name": "stdout",
     "output_type": "stream",
     "text": [
      "Failed 000000378673.jpg: short_edge_length must be two values using 'range' sample style. Got [640, 672, 704, 736, 768, 800]!\n",
      "Failed 000000378873.jpg: short_edge_length must be two values using 'range' sample style. Got [640, 672, 704, 736, 768, 800]!\n",
      "Failed 000000379332.jpg: short_edge_length must be two values using 'range' sample style. Got [640, 672, 704, 736, 768, 800]!\n",
      "Failed 000000379441.jpg: short_edge_length must be two values using 'range' sample style. Got [640, 672, 704, 736, 768, 800]!\n",
      "Failed 000000379453.jpg: short_edge_length must be two values using 'range' sample style. Got [640, 672, 704, 736, 768, 800]!\n",
      "Failed 000000379476.jpg: short_edge_length must be two values using 'range' sample style. Got [640, 672, 704, 736, 768, 800]!\n",
      "Failed 000000379533.jpg: short_edge_length must be two values using 'range' sample style. Got [640, 672, 704, 736, 768, 800]!\n",
      "Failed 000000379800.jpg: short_edge_length must be two values using 'range' sample style. Got [640, 672, 704, 736, 768, 800]!\n"
     ]
    },
    {
     "name": "stderr",
     "output_type": "stream",
     "text": [
      "Extracting features:  66%|█████████████████████████████████████▋                   | 3304/5000 [01:31<00:48, 35.32it/s]"
     ]
    },
    {
     "name": "stdout",
     "output_type": "stream",
     "text": [
      "Failed 000000379842.jpg: short_edge_length must be two values using 'range' sample style. Got [640, 672, 704, 736, 768, 800]!\n",
      "Failed 000000380203.jpg: short_edge_length must be two values using 'range' sample style. Got [640, 672, 704, 736, 768, 800]!\n",
      "Failed 000000380706.jpg: short_edge_length must be two values using 'range' sample style. Got [640, 672, 704, 736, 768, 800]!\n",
      "Failed 000000380711.jpg: short_edge_length must be two values using 'range' sample style. Got [640, 672, 704, 736, 768, 800]!\n",
      "Failed 000000380913.jpg: short_edge_length must be two values using 'range' sample style. Got [640, 672, 704, 736, 768, 800]!\n",
      "Failed 000000381360.jpg: short_edge_length must be two values using 'range' sample style. Got [640, 672, 704, 736, 768, 800]!\n",
      "Failed 000000381587.jpg: short_edge_length must be two values using 'range' sample style. Got [640, 672, 704, 736, 768, 800]!\n"
     ]
    },
    {
     "name": "stderr",
     "output_type": "stream",
     "text": [
      "Extracting features:  66%|█████████████████████████████████████▊                   | 3312/5000 [01:31<00:50, 33.17it/s]"
     ]
    },
    {
     "name": "stdout",
     "output_type": "stream",
     "text": [
      "Failed 000000381639.jpg: short_edge_length must be two values using 'range' sample style. Got [640, 672, 704, 736, 768, 800]!\n",
      "Failed 000000381971.jpg: short_edge_length must be two values using 'range' sample style. Got [640, 672, 704, 736, 768, 800]!\n",
      "Failed 000000382009.jpg: short_edge_length must be two values using 'range' sample style. Got [640, 672, 704, 736, 768, 800]!\n",
      "Failed 000000382030.jpg: short_edge_length must be two values using 'range' sample style. Got [640, 672, 704, 736, 768, 800]!\n",
      "Failed 000000382088.jpg: short_edge_length must be two values using 'range' sample style. Got [640, 672, 704, 736, 768, 800]!\n",
      "Failed 000000382111.jpg: short_edge_length must be two values using 'range' sample style. Got [640, 672, 704, 736, 768, 800]!\n",
      "Failed 000000382122.jpg: short_edge_length must be two values using 'range' sample style. Got [640, 672, 704, 736, 768, 800]!\n"
     ]
    },
    {
     "name": "stderr",
     "output_type": "stream",
     "text": [
      "\r",
      "Extracting features:  66%|█████████████████████████████████████▊                   | 3316/5000 [01:31<00:49, 34.11it/s]"
     ]
    },
    {
     "name": "stdout",
     "output_type": "stream",
     "text": [
      "Failed 000000382125.jpg: short_edge_length must be two values using 'range' sample style. Got [640, 672, 704, 736, 768, 800]!\n",
      "Failed 000000382696.jpg: short_edge_length must be two values using 'range' sample style. Got [640, 672, 704, 736, 768, 800]!\n",
      "Failed 000000382734.jpg: short_edge_length must be two values using 'range' sample style. Got [640, 672, 704, 736, 768, 800]!\n",
      "Failed 000000382743.jpg: short_edge_length must be two values using 'range' sample style. Got [640, 672, 704, 736, 768, 800]!\n",
      "Failed 000000383289.jpg: short_edge_length must be two values using 'range' sample style. Got [640, 672, 704, 736, 768, 800]!\n",
      "Failed 000000383337.jpg: short_edge_length must be two values using 'range' sample style. Got [640, 672, 704, 736, 768, 800]!\n",
      "Failed 000000383339.jpg: short_edge_length must be two values using 'range' sample style. Got [640, 672, 704, 736, 768, 800]!\n"
     ]
    },
    {
     "name": "stderr",
     "output_type": "stream",
     "text": [
      "Extracting features:  66%|█████████████████████████████████████▉                   | 3324/5000 [01:32<00:49, 33.66it/s]"
     ]
    },
    {
     "name": "stdout",
     "output_type": "stream",
     "text": [
      "Failed 000000383384.jpg: short_edge_length must be two values using 'range' sample style. Got [640, 672, 704, 736, 768, 800]!\n",
      "Failed 000000383386.jpg: short_edge_length must be two values using 'range' sample style. Got [640, 672, 704, 736, 768, 800]!\n",
      "Failed 000000383443.jpg: short_edge_length must be two values using 'range' sample style. Got [640, 672, 704, 736, 768, 800]!\n",
      "Failed 000000383606.jpg: short_edge_length must be two values using 'range' sample style. Got [640, 672, 704, 736, 768, 800]!\n",
      "Failed 000000383621.jpg: short_edge_length must be two values using 'range' sample style. Got [640, 672, 704, 736, 768, 800]!\n",
      "Failed 000000383676.jpg: short_edge_length must be two values using 'range' sample style. Got [640, 672, 704, 736, 768, 800]!\n",
      "Failed 000000383838.jpg: short_edge_length must be two values using 'range' sample style. Got [640, 672, 704, 736, 768, 800]!\n",
      "Failed 000000383842.jpg: short_edge_length must be two values using 'range' sample style. Got [640, 672, 704, 736, 768, 800]!\n"
     ]
    },
    {
     "name": "stderr",
     "output_type": "stream",
     "text": [
      "Extracting features:  67%|█████████████████████████████████████▉                   | 3332/5000 [01:32<00:49, 33.71it/s]"
     ]
    },
    {
     "name": "stdout",
     "output_type": "stream",
     "text": [
      "Failed 000000383921.jpg: short_edge_length must be two values using 'range' sample style. Got [640, 672, 704, 736, 768, 800]!\n",
      "Failed 000000384136.jpg: short_edge_length must be two values using 'range' sample style. Got [640, 672, 704, 736, 768, 800]!\n",
      "Failed 000000384350.jpg: short_edge_length must be two values using 'range' sample style. Got [640, 672, 704, 736, 768, 800]!\n",
      "Failed 000000384468.jpg: short_edge_length must be two values using 'range' sample style. Got [640, 672, 704, 736, 768, 800]!\n",
      "Failed 000000384513.jpg: short_edge_length must be two values using 'range' sample style. Got [640, 672, 704, 736, 768, 800]!\n",
      "Failed 000000384527.jpg: short_edge_length must be two values using 'range' sample style. Got [640, 672, 704, 736, 768, 800]!\n",
      "Failed 000000384616.jpg: short_edge_length must be two values using 'range' sample style. Got [640, 672, 704, 736, 768, 800]!\n"
     ]
    },
    {
     "name": "stderr",
     "output_type": "stream",
     "text": [
      "Extracting features:  67%|██████████████████████████████████████                   | 3340/5000 [01:32<00:48, 34.48it/s]"
     ]
    },
    {
     "name": "stdout",
     "output_type": "stream",
     "text": [
      "Failed 000000384651.jpg: short_edge_length must be two values using 'range' sample style. Got [640, 672, 704, 736, 768, 800]!\n",
      "Failed 000000384661.jpg: short_edge_length must be two values using 'range' sample style. Got [640, 672, 704, 736, 768, 800]!\n",
      "Failed 000000384666.jpg: short_edge_length must be two values using 'range' sample style. Got [640, 672, 704, 736, 768, 800]!\n",
      "Failed 000000384670.jpg: short_edge_length must be two values using 'range' sample style. Got [640, 672, 704, 736, 768, 800]!\n",
      "Failed 000000384808.jpg: short_edge_length must be two values using 'range' sample style. Got [640, 672, 704, 736, 768, 800]!\n",
      "Failed 000000384850.jpg: short_edge_length must be two values using 'range' sample style. Got [640, 672, 704, 736, 768, 800]!\n",
      "Failed 000000384949.jpg: short_edge_length must be two values using 'range' sample style. Got [640, 672, 704, 736, 768, 800]!\n",
      "Failed 000000385029.jpg: short_edge_length must be two values using 'range' sample style. Got [640, 672, 704, 736, 768, 800]!\n"
     ]
    },
    {
     "name": "stderr",
     "output_type": "stream",
     "text": [
      "Extracting features:  67%|██████████████████████████████████████▏                  | 3348/5000 [01:32<00:52, 31.55it/s]"
     ]
    },
    {
     "name": "stdout",
     "output_type": "stream",
     "text": [
      "Failed 000000385190.jpg: short_edge_length must be two values using 'range' sample style. Got [640, 672, 704, 736, 768, 800]!\n",
      "Failed 000000385205.jpg: short_edge_length must be two values using 'range' sample style. Got [640, 672, 704, 736, 768, 800]!\n",
      "Failed 000000385719.jpg: short_edge_length must be two values using 'range' sample style. Got [640, 672, 704, 736, 768, 800]!\n",
      "Failed 000000385997.jpg: short_edge_length must be two values using 'range' sample style. Got [640, 672, 704, 736, 768, 800]!\n",
      "Failed 000000386134.jpg: short_edge_length must be two values using 'range' sample style. Got [640, 672, 704, 736, 768, 800]!\n",
      "Failed 000000386210.jpg: short_edge_length must be two values using 'range' sample style. Got [640, 672, 704, 736, 768, 800]!\n"
     ]
    },
    {
     "name": "stderr",
     "output_type": "stream",
     "text": [
      "\r",
      "Extracting features:  67%|██████████████████████████████████████▏                  | 3352/5000 [01:32<00:55, 29.94it/s]"
     ]
    },
    {
     "name": "stdout",
     "output_type": "stream",
     "text": [
      "Failed 000000386277.jpg: short_edge_length must be two values using 'range' sample style. Got [640, 672, 704, 736, 768, 800]!\n",
      "Failed 000000386352.jpg: short_edge_length must be two values using 'range' sample style. Got [640, 672, 704, 736, 768, 800]!\n",
      "Failed 000000386457.jpg: short_edge_length must be two values using 'range' sample style. Got [640, 672, 704, 736, 768, 800]!\n",
      "Failed 000000386879.jpg: short_edge_length must be two values using 'range' sample style. Got [640, 672, 704, 736, 768, 800]!\n",
      "Failed 000000386912.jpg: short_edge_length must be two values using 'range' sample style. Got [640, 672, 704, 736, 768, 800]!\n",
      "Failed 000000387098.jpg: short_edge_length must be two values using 'range' sample style. Got [640, 672, 704, 736, 768, 800]!\n"
     ]
    },
    {
     "name": "stderr",
     "output_type": "stream",
     "text": [
      "Extracting features:  67%|██████████████████████████████████████▎                  | 3360/5000 [01:33<00:50, 32.21it/s]"
     ]
    },
    {
     "name": "stdout",
     "output_type": "stream",
     "text": [
      "Failed 000000387148.jpg: short_edge_length must be two values using 'range' sample style. Got [640, 672, 704, 736, 768, 800]!\n",
      "Failed 000000387383.jpg: short_edge_length must be two values using 'range' sample style. Got [640, 672, 704, 736, 768, 800]!\n",
      "Failed 000000387387.jpg: short_edge_length must be two values using 'range' sample style. Got [640, 672, 704, 736, 768, 800]!\n",
      "Failed 000000387916.jpg: short_edge_length must be two values using 'range' sample style. Got [640, 672, 704, 736, 768, 800]!\n",
      "Failed 000000388056.jpg: short_edge_length must be two values using 'range' sample style. Got [640, 672, 704, 736, 768, 800]!\n",
      "Failed 000000388215.jpg: short_edge_length must be two values using 'range' sample style. Got [640, 672, 704, 736, 768, 800]!\n",
      "Failed 000000388258.jpg: short_edge_length must be two values using 'range' sample style. Got [640, 672, 704, 736, 768, 800]!\n"
     ]
    },
    {
     "name": "stderr",
     "output_type": "stream",
     "text": [
      "Extracting features:  67%|██████████████████████████████████████▍                  | 3368/5000 [01:33<00:49, 33.19it/s]"
     ]
    },
    {
     "name": "stdout",
     "output_type": "stream",
     "text": [
      "Failed 000000388846.jpg: short_edge_length must be two values using 'range' sample style. Got [640, 672, 704, 736, 768, 800]!\n",
      "Failed 000000388903.jpg: short_edge_length must be two values using 'range' sample style. Got [640, 672, 704, 736, 768, 800]!\n",
      "Failed 000000388927.jpg: short_edge_length must be two values using 'range' sample style. Got [640, 672, 704, 736, 768, 800]!\n",
      "Failed 000000389109.jpg: short_edge_length must be two values using 'range' sample style. Got [640, 672, 704, 736, 768, 800]!\n",
      "Failed 000000389197.jpg: short_edge_length must be two values using 'range' sample style. Got [640, 672, 704, 736, 768, 800]!\n",
      "Failed 000000389315.jpg: short_edge_length must be two values using 'range' sample style. Got [640, 672, 704, 736, 768, 800]!\n",
      "Failed 000000389316.jpg: short_edge_length must be two values using 'range' sample style. Got [640, 672, 704, 736, 768, 800]!\n"
     ]
    },
    {
     "name": "stderr",
     "output_type": "stream",
     "text": [
      "Extracting features:  68%|██████████████████████████████████████▍                  | 3376/5000 [01:33<00:47, 33.85it/s]"
     ]
    },
    {
     "name": "stdout",
     "output_type": "stream",
     "text": [
      "Failed 000000389381.jpg: short_edge_length must be two values using 'range' sample style. Got [640, 672, 704, 736, 768, 800]!\n",
      "Failed 000000389451.jpg: short_edge_length must be two values using 'range' sample style. Got [640, 672, 704, 736, 768, 800]!\n",
      "Failed 000000389532.jpg: short_edge_length must be two values using 'range' sample style. Got [640, 672, 704, 736, 768, 800]!\n",
      "Failed 000000389566.jpg: short_edge_length must be two values using 'range' sample style. Got [640, 672, 704, 736, 768, 800]!\n",
      "Failed 000000389684.jpg: short_edge_length must be two values using 'range' sample style. Got [640, 672, 704, 736, 768, 800]!\n",
      "Failed 000000389804.jpg: short_edge_length must be two values using 'range' sample style. Got [640, 672, 704, 736, 768, 800]!\n",
      "Failed 000000389812.jpg: short_edge_length must be two values using 'range' sample style. Got [640, 672, 704, 736, 768, 800]!\n",
      "Failed 000000389933.jpg: short_edge_length must be two values using 'range' sample style. Got [640, 672, 704, 736, 768, 800]!\n"
     ]
    },
    {
     "name": "stderr",
     "output_type": "stream",
     "text": [
      "\r",
      "Extracting features:  68%|██████████████████████████████████████▌                  | 3380/5000 [01:33<00:47, 34.09it/s]"
     ]
    },
    {
     "name": "stdout",
     "output_type": "stream",
     "text": [
      "Failed 000000390246.jpg: short_edge_length must be two values using 'range' sample style. Got [640, 672, 704, 736, 768, 800]!\n",
      "Failed 000000390301.jpg: short_edge_length must be two values using 'range' sample style. Got [640, 672, 704, 736, 768, 800]!\n",
      "Failed 000000390555.jpg: short_edge_length must be two values using 'range' sample style. Got [640, 672, 704, 736, 768, 800]!\n",
      "Failed 000000390826.jpg: short_edge_length must be two values using 'range' sample style. Got [640, 672, 704, 736, 768, 800]!\n",
      "Failed 000000390902.jpg: short_edge_length must be two values using 'range' sample style. Got [640, 672, 704, 736, 768, 800]!\n",
      "Failed 000000391140.jpg: short_edge_length must be two values using 'range' sample style. Got [640, 672, 704, 736, 768, 800]!\n",
      "Failed 000000391144.jpg: short_edge_length must be two values using 'range' sample style. Got [640, 672, 704, 736, 768, 800]!\n"
     ]
    },
    {
     "name": "stderr",
     "output_type": "stream",
     "text": [
      "Extracting features:  68%|██████████████████████████████████████▌                  | 3388/5000 [01:34<00:48, 32.96it/s]"
     ]
    },
    {
     "name": "stdout",
     "output_type": "stream",
     "text": [
      "Failed 000000391290.jpg: short_edge_length must be two values using 'range' sample style. Got [640, 672, 704, 736, 768, 800]!\n",
      "Failed 000000391375.jpg: short_edge_length must be two values using 'range' sample style. Got [640, 672, 704, 736, 768, 800]!\n",
      "Failed 000000391648.jpg: short_edge_length must be two values using 'range' sample style. Got [640, 672, 704, 736, 768, 800]!\n",
      "Failed 000000391722.jpg: short_edge_length must be two values using 'range' sample style. Got [640, 672, 704, 736, 768, 800]!\n",
      "Failed 000000392228.jpg: short_edge_length must be two values using 'range' sample style. Got [640, 672, 704, 736, 768, 800]!\n",
      "Failed 000000392481.jpg: short_edge_length must be two values using 'range' sample style. Got [640, 672, 704, 736, 768, 800]!\n",
      "Failed 000000392722.jpg: short_edge_length must be two values using 'range' sample style. Got [640, 672, 704, 736, 768, 800]!\n"
     ]
    },
    {
     "name": "stderr",
     "output_type": "stream",
     "text": [
      "Extracting features:  68%|██████████████████████████████████████▋                  | 3396/5000 [01:34<00:48, 33.22it/s]"
     ]
    },
    {
     "name": "stdout",
     "output_type": "stream",
     "text": [
      "Failed 000000392818.jpg: short_edge_length must be two values using 'range' sample style. Got [640, 672, 704, 736, 768, 800]!\n",
      "Failed 000000392933.jpg: short_edge_length must be two values using 'range' sample style. Got [640, 672, 704, 736, 768, 800]!\n",
      "Failed 000000393014.jpg: short_edge_length must be two values using 'range' sample style. Got [640, 672, 704, 736, 768, 800]!\n",
      "Failed 000000393056.jpg: short_edge_length must be two values using 'range' sample style. Got [640, 672, 704, 736, 768, 800]!\n",
      "Failed 000000393093.jpg: short_edge_length must be two values using 'range' sample style. Got [640, 672, 704, 736, 768, 800]!\n",
      "Failed 000000393115.jpg: short_edge_length must be two values using 'range' sample style. Got [640, 672, 704, 736, 768, 800]!\n",
      "Failed 000000393226.jpg: short_edge_length must be two values using 'range' sample style. Got [640, 672, 704, 736, 768, 800]!\n"
     ]
    },
    {
     "name": "stderr",
     "output_type": "stream",
     "text": [
      "\r",
      "Extracting features:  68%|██████████████████████████████████████▊                  | 3400/5000 [01:34<00:49, 32.24it/s]"
     ]
    },
    {
     "name": "stdout",
     "output_type": "stream",
     "text": [
      "Failed 000000393282.jpg: short_edge_length must be two values using 'range' sample style. Got [640, 672, 704, 736, 768, 800]!\n",
      "Failed 000000393469.jpg: short_edge_length must be two values using 'range' sample style. Got [640, 672, 704, 736, 768, 800]!\n",
      "Failed 000000393569.jpg: short_edge_length must be two values using 'range' sample style. Got [640, 672, 704, 736, 768, 800]!\n",
      "Failed 000000393838.jpg: short_edge_length must be two values using 'range' sample style. Got [640, 672, 704, 736, 768, 800]!\n",
      "Failed 000000394199.jpg: short_edge_length must be two values using 'range' sample style. Got [640, 672, 704, 736, 768, 800]!\n",
      "Failed 000000394206.jpg: short_edge_length must be two values using 'range' sample style. Got [640, 672, 704, 736, 768, 800]!\n",
      "Failed 000000394275.jpg: short_edge_length must be two values using 'range' sample style. Got [640, 672, 704, 736, 768, 800]!\n"
     ]
    },
    {
     "name": "stderr",
     "output_type": "stream",
     "text": [
      "Extracting features:  68%|██████████████████████████████████████▊                  | 3408/5000 [01:34<00:47, 33.40it/s]"
     ]
    },
    {
     "name": "stdout",
     "output_type": "stream",
     "text": [
      "Failed 000000394328.jpg: short_edge_length must be two values using 'range' sample style. Got [640, 672, 704, 736, 768, 800]!\n",
      "Failed 000000394510.jpg: short_edge_length must be two values using 'range' sample style. Got [640, 672, 704, 736, 768, 800]!\n",
      "Failed 000000394559.jpg: short_edge_length must be two values using 'range' sample style. Got [640, 672, 704, 736, 768, 800]!\n",
      "Failed 000000394611.jpg: short_edge_length must be two values using 'range' sample style. Got [640, 672, 704, 736, 768, 800]!\n",
      "Failed 000000394677.jpg: short_edge_length must be two values using 'range' sample style. Got [640, 672, 704, 736, 768, 800]!\n",
      "Failed 000000394940.jpg: short_edge_length must be two values using 'range' sample style. Got [640, 672, 704, 736, 768, 800]!\n",
      "Failed 000000395180.jpg: short_edge_length must be two values using 'range' sample style. Got [640, 672, 704, 736, 768, 800]!\n"
     ]
    },
    {
     "name": "stderr",
     "output_type": "stream",
     "text": [
      "Extracting features:  68%|██████████████████████████████████████▉                  | 3416/5000 [01:34<00:47, 33.53it/s]"
     ]
    },
    {
     "name": "stdout",
     "output_type": "stream",
     "text": [
      "Failed 000000395343.jpg: short_edge_length must be two values using 'range' sample style. Got [640, 672, 704, 736, 768, 800]!\n",
      "Failed 000000395388.jpg: short_edge_length must be two values using 'range' sample style. Got [640, 672, 704, 736, 768, 800]!\n",
      "Failed 000000395575.jpg: short_edge_length must be two values using 'range' sample style. Got [640, 672, 704, 736, 768, 800]!\n",
      "Failed 000000395633.jpg: short_edge_length must be two values using 'range' sample style. Got [640, 672, 704, 736, 768, 800]!\n",
      "Failed 000000395701.jpg: short_edge_length must be two values using 'range' sample style. Got [640, 672, 704, 736, 768, 800]!\n",
      "Failed 000000395801.jpg: short_edge_length must be two values using 'range' sample style. Got [640, 672, 704, 736, 768, 800]!\n",
      "Failed 000000395903.jpg: short_edge_length must be two values using 'range' sample style. Got [640, 672, 704, 736, 768, 800]!\n"
     ]
    },
    {
     "name": "stderr",
     "output_type": "stream",
     "text": [
      "Extracting features:  68%|███████████████████████████████████████                  | 3424/5000 [01:35<00:46, 33.79it/s]"
     ]
    },
    {
     "name": "stdout",
     "output_type": "stream",
     "text": [
      "Failed 000000396200.jpg: short_edge_length must be two values using 'range' sample style. Got [640, 672, 704, 736, 768, 800]!\n",
      "Failed 000000396205.jpg: short_edge_length must be two values using 'range' sample style. Got [640, 672, 704, 736, 768, 800]!\n",
      "Failed 000000396274.jpg: short_edge_length must be two values using 'range' sample style. Got [640, 672, 704, 736, 768, 800]!\n",
      "Failed 000000396338.jpg: short_edge_length must be two values using 'range' sample style. Got [640, 672, 704, 736, 768, 800]!\n",
      "Failed 000000396518.jpg: short_edge_length must be two values using 'range' sample style. Got [640, 672, 704, 736, 768, 800]!\n",
      "Failed 000000396526.jpg: short_edge_length must be two values using 'range' sample style. Got [640, 672, 704, 736, 768, 800]!\n",
      "Failed 000000396568.jpg: short_edge_length must be two values using 'range' sample style. Got [640, 672, 704, 736, 768, 800]!\n"
     ]
    },
    {
     "name": "stderr",
     "output_type": "stream",
     "text": [
      "Extracting features:  69%|███████████████████████████████████████                  | 3432/5000 [01:35<00:48, 32.56it/s]"
     ]
    },
    {
     "name": "stdout",
     "output_type": "stream",
     "text": [
      "Failed 000000396580.jpg: short_edge_length must be two values using 'range' sample style. Got [640, 672, 704, 736, 768, 800]!\n",
      "Failed 000000396729.jpg: short_edge_length must be two values using 'range' sample style. Got [640, 672, 704, 736, 768, 800]!\n",
      "Failed 000000396863.jpg: short_edge_length must be two values using 'range' sample style. Got [640, 672, 704, 736, 768, 800]!\n",
      "Failed 000000396903.jpg: short_edge_length must be two values using 'range' sample style. Got [640, 672, 704, 736, 768, 800]!\n",
      "Failed 000000397133.jpg: short_edge_length must be two values using 'range' sample style. Got [640, 672, 704, 736, 768, 800]!\n",
      "Failed 000000397279.jpg: short_edge_length must be two values using 'range' sample style. Got [640, 672, 704, 736, 768, 800]!\n",
      "Failed 000000397303.jpg: short_edge_length must be two values using 'range' sample style. Got [640, 672, 704, 736, 768, 800]!\n"
     ]
    },
    {
     "name": "stderr",
     "output_type": "stream",
     "text": [
      "\r",
      "Extracting features:  69%|███████████████████████████████████████▏                 | 3436/5000 [01:35<00:46, 33.72it/s]"
     ]
    },
    {
     "name": "stdout",
     "output_type": "stream",
     "text": [
      "Failed 000000397327.jpg: short_edge_length must be two values using 'range' sample style. Got [640, 672, 704, 736, 768, 800]!\n",
      "Failed 000000397351.jpg: short_edge_length must be two values using 'range' sample style. Got [640, 672, 704, 736, 768, 800]!\n",
      "Failed 000000397354.jpg: short_edge_length must be two values using 'range' sample style. Got [640, 672, 704, 736, 768, 800]!\n",
      "Failed 000000397639.jpg: short_edge_length must be two values using 'range' sample style. Got [640, 672, 704, 736, 768, 800]!\n",
      "Failed 000000397681.jpg: short_edge_length must be two values using 'range' sample style. Got [640, 672, 704, 736, 768, 800]!\n",
      "Failed 000000398028.jpg: short_edge_length must be two values using 'range' sample style. Got [640, 672, 704, 736, 768, 800]!\n"
     ]
    },
    {
     "name": "stderr",
     "output_type": "stream",
     "text": [
      "Extracting features:  69%|███████████████████████████████████████▎                 | 3444/5000 [01:35<00:45, 34.10it/s]"
     ]
    },
    {
     "name": "stdout",
     "output_type": "stream",
     "text": [
      "Failed 000000398203.jpg: short_edge_length must be two values using 'range' sample style. Got [640, 672, 704, 736, 768, 800]!\n",
      "Failed 000000398237.jpg: short_edge_length must be two values using 'range' sample style. Got [640, 672, 704, 736, 768, 800]!\n",
      "Failed 000000398377.jpg: short_edge_length must be two values using 'range' sample style. Got [640, 672, 704, 736, 768, 800]!\n",
      "Failed 000000398438.jpg: short_edge_length must be two values using 'range' sample style. Got [640, 672, 704, 736, 768, 800]!\n",
      "Failed 000000398652.jpg: short_edge_length must be two values using 'range' sample style. Got [640, 672, 704, 736, 768, 800]!\n",
      "Failed 000000398742.jpg: short_edge_length must be two values using 'range' sample style. Got [640, 672, 704, 736, 768, 800]!\n",
      "Failed 000000398810.jpg: short_edge_length must be two values using 'range' sample style. Got [640, 672, 704, 736, 768, 800]!\n",
      "Failed 000000398905.jpg: short_edge_length must be two values using 'range' sample style. Got [640, 672, 704, 736, 768, 800]!\n"
     ]
    },
    {
     "name": "stderr",
     "output_type": "stream",
     "text": [
      "Extracting features:  69%|███████████████████████████████████████▎                 | 3453/5000 [01:35<00:44, 34.51it/s]"
     ]
    },
    {
     "name": "stdout",
     "output_type": "stream",
     "text": [
      "Failed 000000399205.jpg: short_edge_length must be two values using 'range' sample style. Got [640, 672, 704, 736, 768, 800]!\n",
      "Failed 000000399296.jpg: short_edge_length must be two values using 'range' sample style. Got [640, 672, 704, 736, 768, 800]!\n",
      "Failed 000000399462.jpg: short_edge_length must be two values using 'range' sample style. Got [640, 672, 704, 736, 768, 800]!\n",
      "Failed 000000399560.jpg: short_edge_length must be two values using 'range' sample style. Got [640, 672, 704, 736, 768, 800]!\n",
      "Failed 000000399655.jpg: short_edge_length must be two values using 'range' sample style. Got [640, 672, 704, 736, 768, 800]!\n",
      "Failed 000000399764.jpg: short_edge_length must be two values using 'range' sample style. Got [640, 672, 704, 736, 768, 800]!\n",
      "Failed 000000400044.jpg: short_edge_length must be two values using 'range' sample style. Got [640, 672, 704, 736, 768, 800]!\n",
      "Failed 000000400082.jpg: short_edge_length must be two values using 'range' sample style. Got [640, 672, 704, 736, 768, 800]!\n"
     ]
    },
    {
     "name": "stderr",
     "output_type": "stream",
     "text": [
      "Extracting features:  69%|███████████████████████████████████████▍                 | 3461/5000 [01:36<00:45, 34.19it/s]"
     ]
    },
    {
     "name": "stdout",
     "output_type": "stream",
     "text": [
      "Failed 000000400161.jpg: short_edge_length must be two values using 'range' sample style. Got [640, 672, 704, 736, 768, 800]!\n",
      "Failed 000000400367.jpg: short_edge_length must be two values using 'range' sample style. Got [640, 672, 704, 736, 768, 800]!\n",
      "Failed 000000400573.jpg: short_edge_length must be two values using 'range' sample style. Got [640, 672, 704, 736, 768, 800]!\n",
      "Failed 000000400794.jpg: short_edge_length must be two values using 'range' sample style. Got [640, 672, 704, 736, 768, 800]!\n",
      "Failed 000000400803.jpg: short_edge_length must be two values using 'range' sample style. Got [640, 672, 704, 736, 768, 800]!\n",
      "Failed 000000400815.jpg: short_edge_length must be two values using 'range' sample style. Got [640, 672, 704, 736, 768, 800]!\n",
      "Failed 000000400922.jpg: short_edge_length must be two values using 'range' sample style. Got [640, 672, 704, 736, 768, 800]!\n",
      "Failed 000000401244.jpg: short_edge_length must be two values using 'range' sample style. Got [640, 672, 704, 736, 768, 800]!\n"
     ]
    },
    {
     "name": "stderr",
     "output_type": "stream",
     "text": [
      "\r",
      "Extracting features:  69%|███████████████████████████████████████▌                 | 3465/5000 [01:36<00:44, 34.49it/s]"
     ]
    },
    {
     "name": "stdout",
     "output_type": "stream",
     "text": [
      "Failed 000000401250.jpg: short_edge_length must be two values using 'range' sample style. Got [640, 672, 704, 736, 768, 800]!\n",
      "Failed 000000401446.jpg: short_edge_length must be two values using 'range' sample style. Got [640, 672, 704, 736, 768, 800]!\n",
      "Failed 000000401862.jpg: short_edge_length must be two values using 'range' sample style. Got [640, 672, 704, 736, 768, 800]!\n",
      "Failed 000000401991.jpg: short_edge_length must be two values using 'range' sample style. Got [640, 672, 704, 736, 768, 800]!\n",
      "Failed 000000402096.jpg: short_edge_length must be two values using 'range' sample style. Got [640, 672, 704, 736, 768, 800]!\n",
      "Failed 000000402118.jpg: short_edge_length must be two values using 'range' sample style. Got [640, 672, 704, 736, 768, 800]!\n",
      "Failed 000000402334.jpg: short_edge_length must be two values using 'range' sample style. Got [640, 672, 704, 736, 768, 800]!\n"
     ]
    },
    {
     "name": "stderr",
     "output_type": "stream",
     "text": [
      "Extracting features:  69%|███████████████████████████████████████▌                 | 3474/5000 [01:36<00:44, 33.96it/s]"
     ]
    },
    {
     "name": "stdout",
     "output_type": "stream",
     "text": [
      "Failed 000000402346.jpg: short_edge_length must be two values using 'range' sample style. Got [640, 672, 704, 736, 768, 800]!\n",
      "Failed 000000402433.jpg: short_edge_length must be two values using 'range' sample style. Got [640, 672, 704, 736, 768, 800]!\n",
      "Failed 000000402473.jpg: short_edge_length must be two values using 'range' sample style. Got [640, 672, 704, 736, 768, 800]!\n",
      "Failed 000000402519.jpg: short_edge_length must be two values using 'range' sample style. Got [640, 672, 704, 736, 768, 800]!\n",
      "Failed 000000402615.jpg: short_edge_length must be two values using 'range' sample style. Got [640, 672, 704, 736, 768, 800]!\n",
      "Failed 000000402720.jpg: short_edge_length must be two values using 'range' sample style. Got [640, 672, 704, 736, 768, 800]!\n",
      "Failed 000000402765.jpg: short_edge_length must be two values using 'range' sample style. Got [640, 672, 704, 736, 768, 800]!\n"
     ]
    },
    {
     "name": "stderr",
     "output_type": "stream",
     "text": [
      "Extracting features:  70%|███████████████████████████████████████▋                 | 3482/5000 [01:36<00:45, 33.55it/s]"
     ]
    },
    {
     "name": "stdout",
     "output_type": "stream",
     "text": [
      "Failed 000000402774.jpg: short_edge_length must be two values using 'range' sample style. Got [640, 672, 704, 736, 768, 800]!\n",
      "Failed 000000402783.jpg: short_edge_length must be two values using 'range' sample style. Got [640, 672, 704, 736, 768, 800]!\n",
      "Failed 000000402992.jpg: short_edge_length must be two values using 'range' sample style. Got [640, 672, 704, 736, 768, 800]!\n",
      "Failed 000000403122.jpg: short_edge_length must be two values using 'range' sample style. Got [640, 672, 704, 736, 768, 800]!\n",
      "Failed 000000403353.jpg: short_edge_length must be two values using 'range' sample style. Got [640, 672, 704, 736, 768, 800]!\n",
      "Failed 000000403385.jpg: short_edge_length must be two values using 'range' sample style. Got [640, 672, 704, 736, 768, 800]!\n",
      "Failed 000000403565.jpg: short_edge_length must be two values using 'range' sample style. Got [640, 672, 704, 736, 768, 800]!\n"
     ]
    },
    {
     "name": "stderr",
     "output_type": "stream",
     "text": [
      "Extracting features:  70%|███████████████████████████████████████▊                 | 3490/5000 [01:37<00:44, 33.64it/s]"
     ]
    },
    {
     "name": "stdout",
     "output_type": "stream",
     "text": [
      "Failed 000000403584.jpg: short_edge_length must be two values using 'range' sample style. Got [640, 672, 704, 736, 768, 800]!\n",
      "Failed 000000403817.jpg: short_edge_length must be two values using 'range' sample style. Got [640, 672, 704, 736, 768, 800]!\n",
      "Failed 000000404128.jpg: short_edge_length must be two values using 'range' sample style. Got [640, 672, 704, 736, 768, 800]!\n",
      "Failed 000000404191.jpg: short_edge_length must be two values using 'range' sample style. Got [640, 672, 704, 736, 768, 800]!\n",
      "Failed 000000404249.jpg: short_edge_length must be two values using 'range' sample style. Got [640, 672, 704, 736, 768, 800]!\n",
      "Failed 000000404479.jpg: short_edge_length must be two values using 'range' sample style. Got [640, 672, 704, 736, 768, 800]!\n",
      "Failed 000000404484.jpg: short_edge_length must be two values using 'range' sample style. Got [640, 672, 704, 736, 768, 800]!\n",
      "Failed 000000404534.jpg: short_edge_length must be two values using 'range' sample style. Got [640, 672, 704, 736, 768, 800]!\n",
      "Failed 000000404568.jpg: short_edge_length must be two values using 'range' sample style. Got [640, 672, 704, 736, 768, 800]!\n"
     ]
    },
    {
     "name": "stderr",
     "output_type": "stream",
     "text": [
      "Extracting features:  70%|███████████████████████████████████████▉                 | 3498/5000 [01:37<00:45, 32.85it/s]"
     ]
    },
    {
     "name": "stdout",
     "output_type": "stream",
     "text": [
      "Failed 000000404601.jpg: short_edge_length must be two values using 'range' sample style. Got [640, 672, 704, 736, 768, 800]!\n",
      "Failed 000000404678.jpg: short_edge_length must be two values using 'range' sample style. Got [640, 672, 704, 736, 768, 800]!\n",
      "Failed 000000404805.jpg: short_edge_length must be two values using 'range' sample style. Got [640, 672, 704, 736, 768, 800]!\n",
      "Failed 000000404839.jpg: short_edge_length must be two values using 'range' sample style. Got [640, 672, 704, 736, 768, 800]!\n",
      "Failed 000000404922.jpg: short_edge_length must be two values using 'range' sample style. Got [640, 672, 704, 736, 768, 800]!\n",
      "Failed 000000404923.jpg: short_edge_length must be two values using 'range' sample style. Got [640, 672, 704, 736, 768, 800]!\n",
      "Failed 000000405195.jpg: short_edge_length must be two values using 'range' sample style. Got [640, 672, 704, 736, 768, 800]!\n"
     ]
    },
    {
     "name": "stderr",
     "output_type": "stream",
     "text": [
      "Extracting features:  70%|███████████████████████████████████████▉                 | 3506/5000 [01:37<00:46, 32.33it/s]"
     ]
    },
    {
     "name": "stdout",
     "output_type": "stream",
     "text": [
      "Failed 000000405205.jpg: short_edge_length must be two values using 'range' sample style. Got [640, 672, 704, 736, 768, 800]!\n",
      "Failed 000000405249.jpg: short_edge_length must be two values using 'range' sample style. Got [640, 672, 704, 736, 768, 800]!\n",
      "Failed 000000405279.jpg: short_edge_length must be two values using 'range' sample style. Got [640, 672, 704, 736, 768, 800]!\n",
      "Failed 000000405306.jpg: short_edge_length must be two values using 'range' sample style. Got [640, 672, 704, 736, 768, 800]!\n",
      "Failed 000000405432.jpg: short_edge_length must be two values using 'range' sample style. Got [640, 672, 704, 736, 768, 800]!\n",
      "Failed 000000405691.jpg: short_edge_length must be two values using 'range' sample style. Got [640, 672, 704, 736, 768, 800]!\n",
      "Failed 000000405970.jpg: short_edge_length must be two values using 'range' sample style. Got [640, 672, 704, 736, 768, 800]!\n"
     ]
    },
    {
     "name": "stderr",
     "output_type": "stream",
     "text": [
      "\r",
      "Extracting features:  70%|████████████████████████████████████████                 | 3510/5000 [01:37<00:44, 33.28it/s]"
     ]
    },
    {
     "name": "stdout",
     "output_type": "stream",
     "text": [
      "Failed 000000405972.jpg: short_edge_length must be two values using 'range' sample style. Got [640, 672, 704, 736, 768, 800]!\n",
      "Failed 000000406129.jpg: short_edge_length must be two values using 'range' sample style. Got [640, 672, 704, 736, 768, 800]!\n",
      "Failed 000000406417.jpg: short_edge_length must be two values using 'range' sample style. Got [640, 672, 704, 736, 768, 800]!\n",
      "Failed 000000406570.jpg: short_edge_length must be two values using 'range' sample style. Got [640, 672, 704, 736, 768, 800]!\n",
      "Failed 000000406611.jpg: short_edge_length must be two values using 'range' sample style. Got [640, 672, 704, 736, 768, 800]!\n",
      "Failed 000000406997.jpg: short_edge_length must be two values using 'range' sample style. Got [640, 672, 704, 736, 768, 800]!\n",
      "Failed 000000407002.jpg: short_edge_length must be two values using 'range' sample style. Got [640, 672, 704, 736, 768, 800]!\n",
      "Failed 000000407083.jpg: short_edge_length must be two values using 'range' sample style. Got [640, 672, 704, 736, 768, 800]!\n"
     ]
    },
    {
     "name": "stderr",
     "output_type": "stream",
     "text": [
      "Extracting features:  70%|████████████████████████████████████████                 | 3518/5000 [01:37<00:43, 34.05it/s]"
     ]
    },
    {
     "name": "stdout",
     "output_type": "stream",
     "text": [
      "Failed 000000407298.jpg: short_edge_length must be two values using 'range' sample style. Got [640, 672, 704, 736, 768, 800]!\n",
      "Failed 000000407403.jpg: short_edge_length must be two values using 'range' sample style. Got [640, 672, 704, 736, 768, 800]!\n",
      "Failed 000000407518.jpg: short_edge_length must be two values using 'range' sample style. Got [640, 672, 704, 736, 768, 800]!\n",
      "Failed 000000407524.jpg: short_edge_length must be two values using 'range' sample style. Got [640, 672, 704, 736, 768, 800]!\n",
      "Failed 000000407574.jpg: short_edge_length must be two values using 'range' sample style. Got [640, 672, 704, 736, 768, 800]!\n",
      "Failed 000000407614.jpg: short_edge_length must be two values using 'range' sample style. Got [640, 672, 704, 736, 768, 800]!\n",
      "Failed 000000407646.jpg: short_edge_length must be two values using 'range' sample style. Got [640, 672, 704, 736, 768, 800]!\n",
      "Failed 000000407650.jpg: short_edge_length must be two values using 'range' sample style. Got [640, 672, 704, 736, 768, 800]!\n"
     ]
    },
    {
     "name": "stderr",
     "output_type": "stream",
     "text": [
      "Extracting features:  71%|████████████████████████████████████████▏                | 3526/5000 [01:38<00:41, 35.55it/s]"
     ]
    },
    {
     "name": "stdout",
     "output_type": "stream",
     "text": [
      "Failed 000000407825.jpg: short_edge_length must be two values using 'range' sample style. Got [640, 672, 704, 736, 768, 800]!\n",
      "Failed 000000407868.jpg: short_edge_length must be two values using 'range' sample style. Got [640, 672, 704, 736, 768, 800]!\n",
      "Failed 000000407943.jpg: short_edge_length must be two values using 'range' sample style. Got [640, 672, 704, 736, 768, 800]!\n",
      "Failed 000000407960.jpg: short_edge_length must be two values using 'range' sample style. Got [640, 672, 704, 736, 768, 800]!\n",
      "Failed 000000408112.jpg: short_edge_length must be two values using 'range' sample style. Got [640, 672, 704, 736, 768, 800]!\n",
      "Failed 000000408120.jpg: short_edge_length must be two values using 'range' sample style. Got [640, 672, 704, 736, 768, 800]!\n",
      "Failed 000000408696.jpg: short_edge_length must be two values using 'range' sample style. Got [640, 672, 704, 736, 768, 800]!\n"
     ]
    },
    {
     "name": "stderr",
     "output_type": "stream",
     "text": [
      "Extracting features:  71%|████████████████████████████████████████▎                | 3534/5000 [01:38<00:41, 34.94it/s]"
     ]
    },
    {
     "name": "stdout",
     "output_type": "stream",
     "text": [
      "Failed 000000408774.jpg: short_edge_length must be two values using 'range' sample style. Got [640, 672, 704, 736, 768, 800]!\n",
      "Failed 000000408830.jpg: short_edge_length must be two values using 'range' sample style. Got [640, 672, 704, 736, 768, 800]!\n",
      "Failed 000000409198.jpg: short_edge_length must be two values using 'range' sample style. Got [640, 672, 704, 736, 768, 800]!\n",
      "Failed 000000409211.jpg: short_edge_length must be two values using 'range' sample style. Got [640, 672, 704, 736, 768, 800]!\n",
      "Failed 000000409268.jpg: short_edge_length must be two values using 'range' sample style. Got [640, 672, 704, 736, 768, 800]!\n",
      "Failed 000000409358.jpg: short_edge_length must be two values using 'range' sample style. Got [640, 672, 704, 736, 768, 800]!\n",
      "Failed 000000409424.jpg: short_edge_length must be two values using 'range' sample style. Got [640, 672, 704, 736, 768, 800]!\n",
      "Failed 000000409475.jpg: short_edge_length must be two values using 'range' sample style. Got [640, 672, 704, 736, 768, 800]!\n"
     ]
    },
    {
     "name": "stderr",
     "output_type": "stream",
     "text": [
      "Extracting features:  71%|████████████████████████████████████████▍                | 3542/5000 [01:38<00:42, 34.46it/s]"
     ]
    },
    {
     "name": "stdout",
     "output_type": "stream",
     "text": [
      "Failed 000000409542.jpg: short_edge_length must be two values using 'range' sample style. Got [640, 672, 704, 736, 768, 800]!\n",
      "Failed 000000409630.jpg: short_edge_length must be two values using 'range' sample style. Got [640, 672, 704, 736, 768, 800]!\n",
      "Failed 000000409867.jpg: short_edge_length must be two values using 'range' sample style. Got [640, 672, 704, 736, 768, 800]!\n",
      "Failed 000000410221.jpg: short_edge_length must be two values using 'range' sample style. Got [640, 672, 704, 736, 768, 800]!\n",
      "Failed 000000410428.jpg: short_edge_length must be two values using 'range' sample style. Got [640, 672, 704, 736, 768, 800]!\n",
      "Failed 000000410456.jpg: short_edge_length must be two values using 'range' sample style. Got [640, 672, 704, 736, 768, 800]!\n",
      "Failed 000000410487.jpg: short_edge_length must be two values using 'range' sample style. Got [640, 672, 704, 736, 768, 800]!\n"
     ]
    },
    {
     "name": "stderr",
     "output_type": "stream",
     "text": [
      "Extracting features:  71%|████████████████████████████████████████▍                | 3550/5000 [01:38<00:41, 34.71it/s]"
     ]
    },
    {
     "name": "stdout",
     "output_type": "stream",
     "text": [
      "Failed 000000410496.jpg: short_edge_length must be two values using 'range' sample style. Got [640, 672, 704, 736, 768, 800]!\n",
      "Failed 000000410510.jpg: short_edge_length must be two values using 'range' sample style. Got [640, 672, 704, 736, 768, 800]!\n",
      "Failed 000000410612.jpg: short_edge_length must be two values using 'range' sample style. Got [640, 672, 704, 736, 768, 800]!\n",
      "Failed 000000410650.jpg: short_edge_length must be two values using 'range' sample style. Got [640, 672, 704, 736, 768, 800]!\n",
      "Failed 000000410712.jpg: short_edge_length must be two values using 'range' sample style. Got [640, 672, 704, 736, 768, 800]!\n",
      "Failed 000000410735.jpg: short_edge_length must be two values using 'range' sample style. Got [640, 672, 704, 736, 768, 800]!\n",
      "Failed 000000410878.jpg: short_edge_length must be two values using 'range' sample style. Got [640, 672, 704, 736, 768, 800]!\n",
      "Failed 000000410880.jpg: short_edge_length must be two values using 'range' sample style. Got [640, 672, 704, 736, 768, 800]!\n"
     ]
    },
    {
     "name": "stderr",
     "output_type": "stream",
     "text": [
      "Extracting features:  71%|████████████████████████████████████████▌                | 3559/5000 [01:39<00:40, 35.63it/s]"
     ]
    },
    {
     "name": "stdout",
     "output_type": "stream",
     "text": [
      "Failed 000000410934.jpg: short_edge_length must be two values using 'range' sample style. Got [640, 672, 704, 736, 768, 800]!\n",
      "Failed 000000411530.jpg: short_edge_length must be two values using 'range' sample style. Got [640, 672, 704, 736, 768, 800]!\n",
      "Failed 000000411665.jpg: short_edge_length must be two values using 'range' sample style. Got [640, 672, 704, 736, 768, 800]!\n",
      "Failed 000000411754.jpg: short_edge_length must be two values using 'range' sample style. Got [640, 672, 704, 736, 768, 800]!\n",
      "Failed 000000411774.jpg: short_edge_length must be two values using 'range' sample style. Got [640, 672, 704, 736, 768, 800]!\n",
      "Failed 000000411817.jpg: short_edge_length must be two values using 'range' sample style. Got [640, 672, 704, 736, 768, 800]!\n",
      "Failed 000000411938.jpg: short_edge_length must be two values using 'range' sample style. Got [640, 672, 704, 736, 768, 800]!\n",
      "Failed 000000411953.jpg: short_edge_length must be two values using 'range' sample style. Got [640, 672, 704, 736, 768, 800]!\n"
     ]
    },
    {
     "name": "stderr",
     "output_type": "stream",
     "text": [
      "Extracting features:  71%|████████████████████████████████████████▋                | 3567/5000 [01:39<00:40, 35.09it/s]"
     ]
    },
    {
     "name": "stdout",
     "output_type": "stream",
     "text": [
      "Failed 000000412240.jpg: short_edge_length must be two values using 'range' sample style. Got [640, 672, 704, 736, 768, 800]!\n",
      "Failed 000000412286.jpg: short_edge_length must be two values using 'range' sample style. Got [640, 672, 704, 736, 768, 800]!\n",
      "Failed 000000412362.jpg: short_edge_length must be two values using 'range' sample style. Got [640, 672, 704, 736, 768, 800]!\n",
      "Failed 000000412531.jpg: short_edge_length must be two values using 'range' sample style. Got [640, 672, 704, 736, 768, 800]!\n",
      "Failed 000000412887.jpg: short_edge_length must be two values using 'range' sample style. Got [640, 672, 704, 736, 768, 800]!\n",
      "Failed 000000412894.jpg: short_edge_length must be two values using 'range' sample style. Got [640, 672, 704, 736, 768, 800]!\n",
      "Failed 000000413247.jpg: short_edge_length must be two values using 'range' sample style. Got [640, 672, 704, 736, 768, 800]!\n"
     ]
    },
    {
     "name": "stderr",
     "output_type": "stream",
     "text": [
      "\r",
      "Extracting features:  71%|████████████████████████████████████████▋                | 3571/5000 [01:39<00:40, 35.42it/s]"
     ]
    },
    {
     "name": "stdout",
     "output_type": "stream",
     "text": [
      "Failed 000000413395.jpg: short_edge_length must be two values using 'range' sample style. Got [640, 672, 704, 736, 768, 800]!\n",
      "Failed 000000413404.jpg: short_edge_length must be two values using 'range' sample style. Got [640, 672, 704, 736, 768, 800]!\n",
      "Failed 000000413552.jpg: short_edge_length must be two values using 'range' sample style. Got [640, 672, 704, 736, 768, 800]!\n",
      "Failed 000000413689.jpg: short_edge_length must be two values using 'range' sample style. Got [640, 672, 704, 736, 768, 800]!\n",
      "Failed 000000414034.jpg: short_edge_length must be two values using 'range' sample style. Got [640, 672, 704, 736, 768, 800]!\n",
      "Failed 000000414133.jpg: short_edge_length must be two values using 'range' sample style. Got [640, 672, 704, 736, 768, 800]!\n",
      "Failed 000000414170.jpg: short_edge_length must be two values using 'range' sample style. Got [640, 672, 704, 736, 768, 800]!\n"
     ]
    },
    {
     "name": "stderr",
     "output_type": "stream",
     "text": [
      "Extracting features:  72%|████████████████████████████████████████▊                | 3579/5000 [01:39<00:41, 34.31it/s]"
     ]
    },
    {
     "name": "stdout",
     "output_type": "stream",
     "text": [
      "Failed 000000414261.jpg: short_edge_length must be two values using 'range' sample style. Got [640, 672, 704, 736, 768, 800]!\n",
      "Failed 000000414340.jpg: short_edge_length must be two values using 'range' sample style. Got [640, 672, 704, 736, 768, 800]!\n",
      "Failed 000000414385.jpg: short_edge_length must be two values using 'range' sample style. Got [640, 672, 704, 736, 768, 800]!\n",
      "Failed 000000414510.jpg: short_edge_length must be two values using 'range' sample style. Got [640, 672, 704, 736, 768, 800]!\n",
      "Failed 000000414638.jpg: short_edge_length must be two values using 'range' sample style. Got [640, 672, 704, 736, 768, 800]!\n",
      "Failed 000000414673.jpg: short_edge_length must be two values using 'range' sample style. Got [640, 672, 704, 736, 768, 800]!\n",
      "Failed 000000414676.jpg: short_edge_length must be two values using 'range' sample style. Got [640, 672, 704, 736, 768, 800]!\n",
      "Failed 000000414795.jpg: short_edge_length must be two values using 'range' sample style. Got [640, 672, 704, 736, 768, 800]!\n"
     ]
    },
    {
     "name": "stderr",
     "output_type": "stream",
     "text": [
      "Extracting features:  72%|████████████████████████████████████████▉                | 3587/5000 [01:39<00:43, 32.82it/s]"
     ]
    },
    {
     "name": "stdout",
     "output_type": "stream",
     "text": [
      "Failed 000000415194.jpg: short_edge_length must be two values using 'range' sample style. Got [640, 672, 704, 736, 768, 800]!\n",
      "Failed 000000415238.jpg: short_edge_length must be two values using 'range' sample style. Got [640, 672, 704, 736, 768, 800]!\n",
      "Failed 000000415536.jpg: short_edge_length must be two values using 'range' sample style. Got [640, 672, 704, 736, 768, 800]!\n",
      "Failed 000000415716.jpg: short_edge_length must be two values using 'range' sample style. Got [640, 672, 704, 736, 768, 800]!\n",
      "Failed 000000415727.jpg: short_edge_length must be two values using 'range' sample style. Got [640, 672, 704, 736, 768, 800]!\n",
      "Failed 000000415741.jpg: short_edge_length must be two values using 'range' sample style. Got [640, 672, 704, 736, 768, 800]!\n",
      "Failed 000000415748.jpg: short_edge_length must be two values using 'range' sample style. Got [640, 672, 704, 736, 768, 800]!\n"
     ]
    },
    {
     "name": "stderr",
     "output_type": "stream",
     "text": [
      "Extracting features:  72%|████████████████████████████████████████▉                | 3595/5000 [01:40<00:42, 33.14it/s]"
     ]
    },
    {
     "name": "stdout",
     "output_type": "stream",
     "text": [
      "Failed 000000415882.jpg: short_edge_length must be two values using 'range' sample style. Got [640, 672, 704, 736, 768, 800]!\n",
      "Failed 000000415990.jpg: short_edge_length must be two values using 'range' sample style. Got [640, 672, 704, 736, 768, 800]!\n",
      "Failed 000000416104.jpg: short_edge_length must be two values using 'range' sample style. Got [640, 672, 704, 736, 768, 800]!\n",
      "Failed 000000416170.jpg: short_edge_length must be two values using 'range' sample style. Got [640, 672, 704, 736, 768, 800]!\n",
      "Failed 000000416256.jpg: short_edge_length must be two values using 'range' sample style. Got [640, 672, 704, 736, 768, 800]!\n",
      "Failed 000000416269.jpg: short_edge_length must be two values using 'range' sample style. Got [640, 672, 704, 736, 768, 800]!\n",
      "Failed 000000416330.jpg: short_edge_length must be two values using 'range' sample style. Got [640, 672, 704, 736, 768, 800]!\n",
      "Failed 000000416343.jpg: short_edge_length must be two values using 'range' sample style. Got [640, 672, 704, 736, 768, 800]!\n"
     ]
    },
    {
     "name": "stderr",
     "output_type": "stream",
     "text": [
      "Extracting features:  72%|█████████████████████████████████████████                | 3603/5000 [01:40<00:42, 33.07it/s]"
     ]
    },
    {
     "name": "stdout",
     "output_type": "stream",
     "text": [
      "Failed 000000416451.jpg: short_edge_length must be two values using 'range' sample style. Got [640, 672, 704, 736, 768, 800]!\n",
      "Failed 000000416534.jpg: short_edge_length must be two values using 'range' sample style. Got [640, 672, 704, 736, 768, 800]!\n",
      "Failed 000000416745.jpg: short_edge_length must be two values using 'range' sample style. Got [640, 672, 704, 736, 768, 800]!\n",
      "Failed 000000416758.jpg: short_edge_length must be two values using 'range' sample style. Got [640, 672, 704, 736, 768, 800]!\n",
      "Failed 000000416837.jpg: short_edge_length must be two values using 'range' sample style. Got [640, 672, 704, 736, 768, 800]!\n",
      "Failed 000000416885.jpg: short_edge_length must be two values using 'range' sample style. Got [640, 672, 704, 736, 768, 800]!\n",
      "Failed 000000416991.jpg: short_edge_length must be two values using 'range' sample style. Got [640, 672, 704, 736, 768, 800]!\n"
     ]
    },
    {
     "name": "stderr",
     "output_type": "stream",
     "text": [
      "Extracting features:  72%|█████████████████████████████████████████▏               | 3612/5000 [01:40<00:39, 34.81it/s]"
     ]
    },
    {
     "name": "stdout",
     "output_type": "stream",
     "text": [
      "Failed 000000417043.jpg: short_edge_length must be two values using 'range' sample style. Got [640, 672, 704, 736, 768, 800]!\n",
      "Failed 000000417085.jpg: short_edge_length must be two values using 'range' sample style. Got [640, 672, 704, 736, 768, 800]!\n",
      "Failed 000000417249.jpg: short_edge_length must be two values using 'range' sample style. Got [640, 672, 704, 736, 768, 800]!\n",
      "Failed 000000417285.jpg: short_edge_length must be two values using 'range' sample style. Got [640, 672, 704, 736, 768, 800]!\n",
      "Failed 000000417465.jpg: short_edge_length must be two values using 'range' sample style. Got [640, 672, 704, 736, 768, 800]!\n",
      "Failed 000000417608.jpg: short_edge_length must be two values using 'range' sample style. Got [640, 672, 704, 736, 768, 800]!\n",
      "Failed 000000417632.jpg: short_edge_length must be two values using 'range' sample style. Got [640, 672, 704, 736, 768, 800]!\n",
      "Failed 000000417779.jpg: short_edge_length must be two values using 'range' sample style. Got [640, 672, 704, 736, 768, 800]!\n"
     ]
    },
    {
     "name": "stderr",
     "output_type": "stream",
     "text": [
      "\r",
      "Extracting features:  72%|█████████████████████████████████████████▏               | 3616/5000 [01:40<00:42, 32.39it/s]"
     ]
    },
    {
     "name": "stdout",
     "output_type": "stream",
     "text": [
      "Failed 000000417876.jpg: short_edge_length must be two values using 'range' sample style. Got [640, 672, 704, 736, 768, 800]!\n",
      "Failed 000000417911.jpg: short_edge_length must be two values using 'range' sample style. Got [640, 672, 704, 736, 768, 800]!\n",
      "Failed 000000418062.jpg: short_edge_length must be two values using 'range' sample style. Got [640, 672, 704, 736, 768, 800]!\n",
      "Failed 000000418281.jpg: short_edge_length must be two values using 'range' sample style. Got [640, 672, 704, 736, 768, 800]!\n",
      "Failed 000000418696.jpg: short_edge_length must be two values using 'range' sample style. Got [640, 672, 704, 736, 768, 800]!\n",
      "Failed 000000418959.jpg: short_edge_length must be two values using 'range' sample style. Got [640, 672, 704, 736, 768, 800]!\n"
     ]
    },
    {
     "name": "stderr",
     "output_type": "stream",
     "text": [
      "Extracting features:  72%|█████████████████████████████████████████▎               | 3624/5000 [01:41<00:44, 31.18it/s]"
     ]
    },
    {
     "name": "stdout",
     "output_type": "stream",
     "text": [
      "Failed 000000418961.jpg: short_edge_length must be two values using 'range' sample style. Got [640, 672, 704, 736, 768, 800]!\n",
      "Failed 000000419096.jpg: short_edge_length must be two values using 'range' sample style. Got [640, 672, 704, 736, 768, 800]!\n",
      "Failed 000000419098.jpg: short_edge_length must be two values using 'range' sample style. Got [640, 672, 704, 736, 768, 800]!\n",
      "Failed 000000419201.jpg: short_edge_length must be two values using 'range' sample style. Got [640, 672, 704, 736, 768, 800]!\n",
      "Failed 000000419312.jpg: short_edge_length must be two values using 'range' sample style. Got [640, 672, 704, 736, 768, 800]!\n",
      "Failed 000000419379.jpg: short_edge_length must be two values using 'range' sample style. Got [640, 672, 704, 736, 768, 800]!\n"
     ]
    },
    {
     "name": "stderr",
     "output_type": "stream",
     "text": [
      "Extracting features:  73%|█████████████████████████████████████████▍               | 3632/5000 [01:41<00:42, 32.47it/s]"
     ]
    },
    {
     "name": "stdout",
     "output_type": "stream",
     "text": [
      "Failed 000000419408.jpg: short_edge_length must be two values using 'range' sample style. Got [640, 672, 704, 736, 768, 800]!\n",
      "Failed 000000419601.jpg: short_edge_length must be two values using 'range' sample style. Got [640, 672, 704, 736, 768, 800]!\n",
      "Failed 000000419653.jpg: short_edge_length must be two values using 'range' sample style. Got [640, 672, 704, 736, 768, 800]!\n",
      "Failed 000000419882.jpg: short_edge_length must be two values using 'range' sample style. Got [640, 672, 704, 736, 768, 800]!\n",
      "Failed 000000419974.jpg: short_edge_length must be two values using 'range' sample style. Got [640, 672, 704, 736, 768, 800]!\n",
      "Failed 000000420069.jpg: short_edge_length must be two values using 'range' sample style. Got [640, 672, 704, 736, 768, 800]!\n",
      "Failed 000000420230.jpg: short_edge_length must be two values using 'range' sample style. Got [640, 672, 704, 736, 768, 800]!\n",
      "Failed 000000420281.jpg: short_edge_length must be two values using 'range' sample style. Got [640, 672, 704, 736, 768, 800]!\n"
     ]
    },
    {
     "name": "stderr",
     "output_type": "stream",
     "text": [
      "\r",
      "Extracting features:  73%|█████████████████████████████████████████▍               | 3636/5000 [01:41<00:41, 33.06it/s]"
     ]
    },
    {
     "name": "stdout",
     "output_type": "stream",
     "text": [
      "Failed 000000420472.jpg: short_edge_length must be two values using 'range' sample style. Got [640, 672, 704, 736, 768, 800]!\n",
      "Failed 000000420840.jpg: short_edge_length must be two values using 'range' sample style. Got [640, 672, 704, 736, 768, 800]!\n",
      "Failed 000000420916.jpg: short_edge_length must be two values using 'range' sample style. Got [640, 672, 704, 736, 768, 800]!\n",
      "Failed 000000421060.jpg: short_edge_length must be two values using 'range' sample style. Got [640, 672, 704, 736, 768, 800]!\n",
      "Failed 000000421455.jpg: short_edge_length must be two values using 'range' sample style. Got [640, 672, 704, 736, 768, 800]!\n",
      "Failed 000000421757.jpg: short_edge_length must be two values using 'range' sample style. Got [640, 672, 704, 736, 768, 800]!\n",
      "Failed 000000421834.jpg: short_edge_length must be two values using 'range' sample style. Got [640, 672, 704, 736, 768, 800]!\n"
     ]
    },
    {
     "name": "stderr",
     "output_type": "stream",
     "text": [
      "Extracting features:  73%|█████████████████████████████████████████▌               | 3644/5000 [01:41<00:40, 33.50it/s]"
     ]
    },
    {
     "name": "stdout",
     "output_type": "stream",
     "text": [
      "Failed 000000421923.jpg: short_edge_length must be two values using 'range' sample style. Got [640, 672, 704, 736, 768, 800]!\n",
      "Failed 000000422670.jpg: short_edge_length must be two values using 'range' sample style. Got [640, 672, 704, 736, 768, 800]!\n",
      "Failed 000000422706.jpg: short_edge_length must be two values using 'range' sample style. Got [640, 672, 704, 736, 768, 800]!\n",
      "Failed 000000422836.jpg: short_edge_length must be two values using 'range' sample style. Got [640, 672, 704, 736, 768, 800]!\n",
      "Failed 000000422886.jpg: short_edge_length must be two values using 'range' sample style. Got [640, 672, 704, 736, 768, 800]!\n",
      "Failed 000000422998.jpg: short_edge_length must be two values using 'range' sample style. Got [640, 672, 704, 736, 768, 800]!\n",
      "Failed 000000423104.jpg: short_edge_length must be two values using 'range' sample style. Got [640, 672, 704, 736, 768, 800]!\n",
      "Failed 000000423123.jpg: short_edge_length must be two values using 'range' sample style. Got [640, 672, 704, 736, 768, 800]!\n"
     ]
    },
    {
     "name": "stderr",
     "output_type": "stream",
     "text": [
      "Extracting features:  73%|█████████████████████████████████████████▋               | 3652/5000 [01:41<00:38, 34.73it/s]"
     ]
    },
    {
     "name": "stdout",
     "output_type": "stream",
     "text": [
      "Failed 000000423229.jpg: short_edge_length must be two values using 'range' sample style. Got [640, 672, 704, 736, 768, 800]!\n",
      "Failed 000000423506.jpg: short_edge_length must be two values using 'range' sample style. Got [640, 672, 704, 736, 768, 800]!\n",
      "Failed 000000423519.jpg: short_edge_length must be two values using 'range' sample style. Got [640, 672, 704, 736, 768, 800]!\n",
      "Failed 000000423617.jpg: short_edge_length must be two values using 'range' sample style. Got [640, 672, 704, 736, 768, 800]!\n",
      "Failed 000000423798.jpg: short_edge_length must be two values using 'range' sample style. Got [640, 672, 704, 736, 768, 800]!\n",
      "Failed 000000423944.jpg: short_edge_length must be two values using 'range' sample style. Got [640, 672, 704, 736, 768, 800]!\n",
      "Failed 000000423971.jpg: short_edge_length must be two values using 'range' sample style. Got [640, 672, 704, 736, 768, 800]!\n",
      "Failed 000000424135.jpg: short_edge_length must be two values using 'range' sample style. Got [640, 672, 704, 736, 768, 800]!\n"
     ]
    },
    {
     "name": "stderr",
     "output_type": "stream",
     "text": [
      "Extracting features:  73%|█████████████████████████████████████████▋               | 3660/5000 [01:42<00:37, 35.84it/s]"
     ]
    },
    {
     "name": "stdout",
     "output_type": "stream",
     "text": [
      "Failed 000000424162.jpg: short_edge_length must be two values using 'range' sample style. Got [640, 672, 704, 736, 768, 800]!\n",
      "Failed 000000424349.jpg: short_edge_length must be two values using 'range' sample style. Got [640, 672, 704, 736, 768, 800]!\n",
      "Failed 000000424521.jpg: short_edge_length must be two values using 'range' sample style. Got [640, 672, 704, 736, 768, 800]!\n",
      "Failed 000000424545.jpg: short_edge_length must be two values using 'range' sample style. Got [640, 672, 704, 736, 768, 800]!\n",
      "Failed 000000424551.jpg: short_edge_length must be two values using 'range' sample style. Got [640, 672, 704, 736, 768, 800]!\n",
      "Failed 000000424642.jpg: short_edge_length must be two values using 'range' sample style. Got [640, 672, 704, 736, 768, 800]!\n",
      "Failed 000000424721.jpg: short_edge_length must be two values using 'range' sample style. Got [640, 672, 704, 736, 768, 800]!\n",
      "Failed 000000424776.jpg: short_edge_length must be two values using 'range' sample style. Got [640, 672, 704, 736, 768, 800]!\n"
     ]
    },
    {
     "name": "stderr",
     "output_type": "stream",
     "text": [
      "Extracting features:  73%|█████████████████████████████████████████▊               | 3668/5000 [01:42<00:36, 36.64it/s]"
     ]
    },
    {
     "name": "stdout",
     "output_type": "stream",
     "text": [
      "Failed 000000424975.jpg: short_edge_length must be two values using 'range' sample style. Got [640, 672, 704, 736, 768, 800]!\n",
      "Failed 000000425221.jpg: short_edge_length must be two values using 'range' sample style. Got [640, 672, 704, 736, 768, 800]!\n",
      "Failed 000000425226.jpg: short_edge_length must be two values using 'range' sample style. Got [640, 672, 704, 736, 768, 800]!\n",
      "Failed 000000425227.jpg: short_edge_length must be two values using 'range' sample style. Got [640, 672, 704, 736, 768, 800]!\n",
      "Failed 000000425361.jpg: short_edge_length must be two values using 'range' sample style. Got [640, 672, 704, 736, 768, 800]!\n",
      "Failed 000000425390.jpg: short_edge_length must be two values using 'range' sample style. Got [640, 672, 704, 736, 768, 800]!\n",
      "Failed 000000425702.jpg: short_edge_length must be two values using 'range' sample style. Got [640, 672, 704, 736, 768, 800]!\n",
      "Failed 000000425906.jpg: short_edge_length must be two values using 'range' sample style. Got [640, 672, 704, 736, 768, 800]!\n"
     ]
    },
    {
     "name": "stderr",
     "output_type": "stream",
     "text": [
      "Extracting features:  74%|█████████████████████████████████████████▉               | 3676/5000 [01:42<00:35, 36.96it/s]"
     ]
    },
    {
     "name": "stdout",
     "output_type": "stream",
     "text": [
      "Failed 000000425925.jpg: short_edge_length must be two values using 'range' sample style. Got [640, 672, 704, 736, 768, 800]!\n",
      "Failed 000000426166.jpg: short_edge_length must be two values using 'range' sample style. Got [640, 672, 704, 736, 768, 800]!\n",
      "Failed 000000426203.jpg: short_edge_length must be two values using 'range' sample style. Got [640, 672, 704, 736, 768, 800]!\n",
      "Failed 000000426241.jpg: short_edge_length must be two values using 'range' sample style. Got [640, 672, 704, 736, 768, 800]!\n",
      "Failed 000000426253.jpg: short_edge_length must be two values using 'range' sample style. Got [640, 672, 704, 736, 768, 800]!\n",
      "Failed 000000426268.jpg: short_edge_length must be two values using 'range' sample style. Got [640, 672, 704, 736, 768, 800]!\n",
      "Failed 000000426297.jpg: short_edge_length must be two values using 'range' sample style. Got [640, 672, 704, 736, 768, 800]!\n",
      "Failed 000000426329.jpg: short_edge_length must be two values using 'range' sample style. Got [640, 672, 704, 736, 768, 800]!\n"
     ]
    },
    {
     "name": "stderr",
     "output_type": "stream",
     "text": [
      "Extracting features:  74%|█████████████████████████████████████████▉               | 3684/5000 [01:42<00:38, 34.17it/s]"
     ]
    },
    {
     "name": "stdout",
     "output_type": "stream",
     "text": [
      "Failed 000000426372.jpg: short_edge_length must be two values using 'range' sample style. Got [640, 672, 704, 736, 768, 800]!\n",
      "Failed 000000426376.jpg: short_edge_length must be two values using 'range' sample style. Got [640, 672, 704, 736, 768, 800]!\n",
      "Failed 000000426795.jpg: short_edge_length must be two values using 'range' sample style. Got [640, 672, 704, 736, 768, 800]!\n",
      "Failed 000000426836.jpg: short_edge_length must be two values using 'range' sample style. Got [640, 672, 704, 736, 768, 800]!\n",
      "Failed 000000427034.jpg: short_edge_length must be two values using 'range' sample style. Got [640, 672, 704, 736, 768, 800]!\n",
      "Failed 000000427055.jpg: short_edge_length must be two values using 'range' sample style. Got [640, 672, 704, 736, 768, 800]!\n",
      "Failed 000000427077.jpg: short_edge_length must be two values using 'range' sample style. Got [640, 672, 704, 736, 768, 800]!\n"
     ]
    },
    {
     "name": "stderr",
     "output_type": "stream",
     "text": [
      "Extracting features:  74%|██████████████████████████████████████████               | 3692/5000 [01:42<00:37, 34.47it/s]"
     ]
    },
    {
     "name": "stdout",
     "output_type": "stream",
     "text": [
      "Failed 000000427160.jpg: short_edge_length must be two values using 'range' sample style. Got [640, 672, 704, 736, 768, 800]!\n",
      "Failed 000000427256.jpg: short_edge_length must be two values using 'range' sample style. Got [640, 672, 704, 736, 768, 800]!\n",
      "Failed 000000427338.jpg: short_edge_length must be two values using 'range' sample style. Got [640, 672, 704, 736, 768, 800]!\n",
      "Failed 000000427500.jpg: short_edge_length must be two values using 'range' sample style. Got [640, 672, 704, 736, 768, 800]!\n",
      "Failed 000000427649.jpg: short_edge_length must be two values using 'range' sample style. Got [640, 672, 704, 736, 768, 800]!\n",
      "Failed 000000427655.jpg: short_edge_length must be two values using 'range' sample style. Got [640, 672, 704, 736, 768, 800]!\n",
      "Failed 000000427997.jpg: short_edge_length must be two values using 'range' sample style. Got [640, 672, 704, 736, 768, 800]!\n",
      "Failed 000000428111.jpg: short_edge_length must be two values using 'range' sample style. Got [640, 672, 704, 736, 768, 800]!\n"
     ]
    },
    {
     "name": "stderr",
     "output_type": "stream",
     "text": [
      "Extracting features:  74%|██████████████████████████████████████████▏              | 3700/5000 [01:43<00:36, 35.97it/s]"
     ]
    },
    {
     "name": "stdout",
     "output_type": "stream",
     "text": [
      "Failed 000000428218.jpg: short_edge_length must be two values using 'range' sample style. Got [640, 672, 704, 736, 768, 800]!\n",
      "Failed 000000428280.jpg: short_edge_length must be two values using 'range' sample style. Got [640, 672, 704, 736, 768, 800]!\n",
      "Failed 000000428454.jpg: short_edge_length must be two values using 'range' sample style. Got [640, 672, 704, 736, 768, 800]!\n",
      "Failed 000000428562.jpg: short_edge_length must be two values using 'range' sample style. Got [640, 672, 704, 736, 768, 800]!\n",
      "Failed 000000428867.jpg: short_edge_length must be two values using 'range' sample style. Got [640, 672, 704, 736, 768, 800]!\n",
      "Failed 000000429011.jpg: short_edge_length must be two values using 'range' sample style. Got [640, 672, 704, 736, 768, 800]!\n",
      "Failed 000000429109.jpg: short_edge_length must be two values using 'range' sample style. Got [640, 672, 704, 736, 768, 800]!\n",
      "Failed 000000429281.jpg: short_edge_length must be two values using 'range' sample style. Got [640, 672, 704, 736, 768, 800]!\n"
     ]
    },
    {
     "name": "stderr",
     "output_type": "stream",
     "text": [
      "Extracting features:  74%|██████████████████████████████████████████▎              | 3708/5000 [01:43<00:40, 31.61it/s]"
     ]
    },
    {
     "name": "stdout",
     "output_type": "stream",
     "text": [
      "Failed 000000429530.jpg: short_edge_length must be two values using 'range' sample style. Got [640, 672, 704, 736, 768, 800]!\n",
      "Failed 000000429598.jpg: short_edge_length must be two values using 'range' sample style. Got [640, 672, 704, 736, 768, 800]!\n",
      "Failed 000000429623.jpg: short_edge_length must be two values using 'range' sample style. Got [640, 672, 704, 736, 768, 800]!\n",
      "Failed 000000429690.jpg: short_edge_length must be two values using 'range' sample style. Got [640, 672, 704, 736, 768, 800]!\n",
      "Failed 000000429718.jpg: short_edge_length must be two values using 'range' sample style. Got [640, 672, 704, 736, 768, 800]!\n",
      "Failed 000000429761.jpg: short_edge_length must be two values using 'range' sample style. Got [640, 672, 704, 736, 768, 800]!\n"
     ]
    },
    {
     "name": "stderr",
     "output_type": "stream",
     "text": [
      "\r",
      "Extracting features:  74%|██████████████████████████████████████████▎              | 3712/5000 [01:43<00:38, 33.47it/s]"
     ]
    },
    {
     "name": "stdout",
     "output_type": "stream",
     "text": [
      "Failed 000000430048.jpg: short_edge_length must be two values using 'range' sample style. Got [640, 672, 704, 736, 768, 800]!\n",
      "Failed 000000430056.jpg: short_edge_length must be two values using 'range' sample style. Got [640, 672, 704, 736, 768, 800]!\n",
      "Failed 000000430073.jpg: short_edge_length must be two values using 'range' sample style. Got [640, 672, 704, 736, 768, 800]!\n",
      "Failed 000000430286.jpg: short_edge_length must be two values using 'range' sample style. Got [640, 672, 704, 736, 768, 800]!\n",
      "Failed 000000430377.jpg: short_edge_length must be two values using 'range' sample style. Got [640, 672, 704, 736, 768, 800]!\n",
      "Failed 000000430871.jpg: short_edge_length must be two values using 'range' sample style. Got [640, 672, 704, 736, 768, 800]!\n",
      "Failed 000000430875.jpg: short_edge_length must be two values using 'range' sample style. Got [640, 672, 704, 736, 768, 800]!\n"
     ]
    },
    {
     "name": "stderr",
     "output_type": "stream",
     "text": [
      "Extracting features:  74%|██████████████████████████████████████████▍              | 3721/5000 [01:43<00:36, 34.93it/s]"
     ]
    },
    {
     "name": "stdout",
     "output_type": "stream",
     "text": [
      "Failed 000000430961.jpg: short_edge_length must be two values using 'range' sample style. Got [640, 672, 704, 736, 768, 800]!\n",
      "Failed 000000430973.jpg: short_edge_length must be two values using 'range' sample style. Got [640, 672, 704, 736, 768, 800]!\n",
      "Failed 000000431140.jpg: short_edge_length must be two values using 'range' sample style. Got [640, 672, 704, 736, 768, 800]!\n",
      "Failed 000000431545.jpg: short_edge_length must be two values using 'range' sample style. Got [640, 672, 704, 736, 768, 800]!\n",
      "Failed 000000431568.jpg: short_edge_length must be two values using 'range' sample style. Got [640, 672, 704, 736, 768, 800]!\n",
      "Failed 000000431693.jpg: short_edge_length must be two values using 'range' sample style. Got [640, 672, 704, 736, 768, 800]!\n",
      "Failed 000000431727.jpg: short_edge_length must be two values using 'range' sample style. Got [640, 672, 704, 736, 768, 800]!\n",
      "Failed 000000431848.jpg: short_edge_length must be two values using 'range' sample style. Got [640, 672, 704, 736, 768, 800]!\n"
     ]
    },
    {
     "name": "stderr",
     "output_type": "stream",
     "text": [
      "Extracting features:  75%|██████████████████████████████████████████▌              | 3729/5000 [01:44<00:36, 35.05it/s]"
     ]
    },
    {
     "name": "stdout",
     "output_type": "stream",
     "text": [
      "Failed 000000431876.jpg: short_edge_length must be two values using 'range' sample style. Got [640, 672, 704, 736, 768, 800]!\n",
      "Failed 000000431896.jpg: short_edge_length must be two values using 'range' sample style. Got [640, 672, 704, 736, 768, 800]!\n",
      "Failed 000000432085.jpg: short_edge_length must be two values using 'range' sample style. Got [640, 672, 704, 736, 768, 800]!\n",
      "Failed 000000432468.jpg: short_edge_length must be two values using 'range' sample style. Got [640, 672, 704, 736, 768, 800]!\n",
      "Failed 000000432553.jpg: short_edge_length must be two values using 'range' sample style. Got [640, 672, 704, 736, 768, 800]!\n",
      "Failed 000000432898.jpg: short_edge_length must be two values using 'range' sample style. Got [640, 672, 704, 736, 768, 800]!\n",
      "Failed 000000433103.jpg: short_edge_length must be two values using 'range' sample style. Got [640, 672, 704, 736, 768, 800]!\n",
      "Failed 000000433134.jpg: short_edge_length must be two values using 'range' sample style. Got [640, 672, 704, 736, 768, 800]!\n"
     ]
    },
    {
     "name": "stderr",
     "output_type": "stream",
     "text": [
      "Extracting features:  75%|██████████████████████████████████████████▌              | 3737/5000 [01:44<00:37, 34.07it/s]"
     ]
    },
    {
     "name": "stdout",
     "output_type": "stream",
     "text": [
      "Failed 000000433192.jpg: short_edge_length must be two values using 'range' sample style. Got [640, 672, 704, 736, 768, 800]!\n",
      "Failed 000000433204.jpg: short_edge_length must be two values using 'range' sample style. Got [640, 672, 704, 736, 768, 800]!\n",
      "Failed 000000433243.jpg: short_edge_length must be two values using 'range' sample style. Got [640, 672, 704, 736, 768, 800]!\n",
      "Failed 000000433374.jpg: short_edge_length must be two values using 'range' sample style. Got [640, 672, 704, 736, 768, 800]!\n",
      "Failed 000000433515.jpg: short_edge_length must be two values using 'range' sample style. Got [640, 672, 704, 736, 768, 800]!\n",
      "Failed 000000433774.jpg: short_edge_length must be two values using 'range' sample style. Got [640, 672, 704, 736, 768, 800]!\n",
      "Failed 000000433915.jpg: short_edge_length must be two values using 'range' sample style. Got [640, 672, 704, 736, 768, 800]!\n"
     ]
    },
    {
     "name": "stderr",
     "output_type": "stream",
     "text": [
      "Extracting features:  75%|██████████████████████████████████████████▋              | 3745/5000 [01:44<00:37, 33.50it/s]"
     ]
    },
    {
     "name": "stdout",
     "output_type": "stream",
     "text": [
      "Failed 000000433980.jpg: short_edge_length must be two values using 'range' sample style. Got [640, 672, 704, 736, 768, 800]!\n",
      "Failed 000000434204.jpg: short_edge_length must be two values using 'range' sample style. Got [640, 672, 704, 736, 768, 800]!\n",
      "Failed 000000434230.jpg: short_edge_length must be two values using 'range' sample style. Got [640, 672, 704, 736, 768, 800]!\n",
      "Failed 000000434247.jpg: short_edge_length must be two values using 'range' sample style. Got [640, 672, 704, 736, 768, 800]!\n",
      "Failed 000000434297.jpg: short_edge_length must be two values using 'range' sample style. Got [640, 672, 704, 736, 768, 800]!\n",
      "Failed 000000434459.jpg: short_edge_length must be two values using 'range' sample style. Got [640, 672, 704, 736, 768, 800]!\n",
      "Failed 000000434479.jpg: short_edge_length must be two values using 'range' sample style. Got [640, 672, 704, 736, 768, 800]!\n"
     ]
    },
    {
     "name": "stderr",
     "output_type": "stream",
     "text": [
      "Extracting features:  75%|██████████████████████████████████████████▊              | 3753/5000 [01:44<00:36, 34.11it/s]"
     ]
    },
    {
     "name": "stdout",
     "output_type": "stream",
     "text": [
      "Failed 000000434548.jpg: short_edge_length must be two values using 'range' sample style. Got [640, 672, 704, 736, 768, 800]!\n",
      "Failed 000000434996.jpg: short_edge_length must be two values using 'range' sample style. Got [640, 672, 704, 736, 768, 800]!\n",
      "Failed 000000435003.jpg: short_edge_length must be two values using 'range' sample style. Got [640, 672, 704, 736, 768, 800]!\n",
      "Failed 000000435081.jpg: short_edge_length must be two values using 'range' sample style. Got [640, 672, 704, 736, 768, 800]!\n",
      "Failed 000000435205.jpg: short_edge_length must be two values using 'range' sample style. Got [640, 672, 704, 736, 768, 800]!\n",
      "Failed 000000435206.jpg: short_edge_length must be two values using 'range' sample style. Got [640, 672, 704, 736, 768, 800]!\n",
      "Failed 000000435208.jpg: short_edge_length must be two values using 'range' sample style. Got [640, 672, 704, 736, 768, 800]!\n",
      "Failed 000000435299.jpg: short_edge_length must be two values using 'range' sample style. Got [640, 672, 704, 736, 768, 800]!\n"
     ]
    },
    {
     "name": "stderr",
     "output_type": "stream",
     "text": [
      "\r",
      "Extracting features:  75%|██████████████████████████████████████████▊              | 3757/5000 [01:44<00:37, 32.71it/s]"
     ]
    },
    {
     "name": "stdout",
     "output_type": "stream",
     "text": [
      "Failed 000000435880.jpg: short_edge_length must be two values using 'range' sample style. Got [640, 672, 704, 736, 768, 800]!\n",
      "Failed 000000436315.jpg: short_edge_length must be two values using 'range' sample style. Got [640, 672, 704, 736, 768, 800]!\n",
      "Failed 000000436551.jpg: short_edge_length must be two values using 'range' sample style. Got [640, 672, 704, 736, 768, 800]!\n",
      "Failed 000000436617.jpg: short_edge_length must be two values using 'range' sample style. Got [640, 672, 704, 736, 768, 800]!\n",
      "Failed 000000436738.jpg: short_edge_length must be two values using 'range' sample style. Got [640, 672, 704, 736, 768, 800]!\n",
      "Failed 000000436883.jpg: short_edge_length must be two values using 'range' sample style. Got [640, 672, 704, 736, 768, 800]!\n"
     ]
    },
    {
     "name": "stderr",
     "output_type": "stream",
     "text": [
      "Extracting features:  75%|██████████████████████████████████████████▉              | 3765/5000 [01:45<00:38, 32.37it/s]"
     ]
    },
    {
     "name": "stdout",
     "output_type": "stream",
     "text": [
      "Failed 000000437110.jpg: short_edge_length must be two values using 'range' sample style. Got [640, 672, 704, 736, 768, 800]!\n",
      "Failed 000000437205.jpg: short_edge_length must be two values using 'range' sample style. Got [640, 672, 704, 736, 768, 800]!\n",
      "Failed 000000437239.jpg: short_edge_length must be two values using 'range' sample style. Got [640, 672, 704, 736, 768, 800]!\n",
      "Failed 000000437331.jpg: short_edge_length must be two values using 'range' sample style. Got [640, 672, 704, 736, 768, 800]!\n",
      "Failed 000000437351.jpg: short_edge_length must be two values using 'range' sample style. Got [640, 672, 704, 736, 768, 800]!\n",
      "Failed 000000437392.jpg: short_edge_length must be two values using 'range' sample style. Got [640, 672, 704, 736, 768, 800]!\n",
      "Failed 000000437514.jpg: short_edge_length must be two values using 'range' sample style. Got [640, 672, 704, 736, 768, 800]!\n"
     ]
    },
    {
     "name": "stderr",
     "output_type": "stream",
     "text": [
      "Extracting features:  75%|███████████████████████████████████████████              | 3773/5000 [01:45<00:38, 32.02it/s]"
     ]
    },
    {
     "name": "stdout",
     "output_type": "stream",
     "text": [
      "Failed 000000437898.jpg: short_edge_length must be two values using 'range' sample style. Got [640, 672, 704, 736, 768, 800]!\n",
      "Failed 000000438017.jpg: short_edge_length must be two values using 'range' sample style. Got [640, 672, 704, 736, 768, 800]!\n",
      "Failed 000000438226.jpg: short_edge_length must be two values using 'range' sample style. Got [640, 672, 704, 736, 768, 800]!\n",
      "Failed 000000438269.jpg: short_edge_length must be two values using 'range' sample style. Got [640, 672, 704, 736, 768, 800]!\n",
      "Failed 000000438304.jpg: short_edge_length must be two values using 'range' sample style. Got [640, 672, 704, 736, 768, 800]!\n",
      "Failed 000000438774.jpg: short_edge_length must be two values using 'range' sample style. Got [640, 672, 704, 736, 768, 800]!\n",
      "Failed 000000438862.jpg: short_edge_length must be two values using 'range' sample style. Got [640, 672, 704, 736, 768, 800]!\n"
     ]
    },
    {
     "name": "stderr",
     "output_type": "stream",
     "text": [
      "\r",
      "Extracting features:  76%|███████████████████████████████████████████              | 3777/5000 [01:45<00:36, 33.81it/s]"
     ]
    },
    {
     "name": "stdout",
     "output_type": "stream",
     "text": [
      "Failed 000000438876.jpg: short_edge_length must be two values using 'range' sample style. Got [640, 672, 704, 736, 768, 800]!\n",
      "Failed 000000438907.jpg: short_edge_length must be two values using 'range' sample style. Got [640, 672, 704, 736, 768, 800]!\n",
      "Failed 000000438955.jpg: short_edge_length must be two values using 'range' sample style. Got [640, 672, 704, 736, 768, 800]!\n",
      "Failed 000000439180.jpg: short_edge_length must be two values using 'range' sample style. Got [640, 672, 704, 736, 768, 800]!\n",
      "Failed 000000439290.jpg: short_edge_length must be two values using 'range' sample style. Got [640, 672, 704, 736, 768, 800]!\n",
      "Failed 000000439426.jpg: short_edge_length must be two values using 'range' sample style. Got [640, 672, 704, 736, 768, 800]!\n",
      "Failed 000000439522.jpg: short_edge_length must be two values using 'range' sample style. Got [640, 672, 704, 736, 768, 800]!\n"
     ]
    },
    {
     "name": "stderr",
     "output_type": "stream",
     "text": [
      "Extracting features:  76%|███████████████████████████████████████████▏             | 3785/5000 [01:45<00:37, 32.60it/s]"
     ]
    },
    {
     "name": "stdout",
     "output_type": "stream",
     "text": [
      "Failed 000000439525.jpg: short_edge_length must be two values using 'range' sample style. Got [640, 672, 704, 736, 768, 800]!\n",
      "Failed 000000439593.jpg: short_edge_length must be two values using 'range' sample style. Got [640, 672, 704, 736, 768, 800]!\n",
      "Failed 000000439623.jpg: short_edge_length must be two values using 'range' sample style. Got [640, 672, 704, 736, 768, 800]!\n",
      "Failed 000000439715.jpg: short_edge_length must be two values using 'range' sample style. Got [640, 672, 704, 736, 768, 800]!\n",
      "Failed 000000439773.jpg: short_edge_length must be two values using 'range' sample style. Got [640, 672, 704, 736, 768, 800]!\n",
      "Failed 000000439854.jpg: short_edge_length must be two values using 'range' sample style. Got [640, 672, 704, 736, 768, 800]!\n",
      "Failed 000000439994.jpg: short_edge_length must be two values using 'range' sample style. Got [640, 672, 704, 736, 768, 800]!\n",
      "Failed 000000440171.jpg: short_edge_length must be two values using 'range' sample style. Got [640, 672, 704, 736, 768, 800]!\n"
     ]
    },
    {
     "name": "stderr",
     "output_type": "stream",
     "text": [
      "Extracting features:  76%|███████████████████████████████████████████▏             | 3793/5000 [01:45<00:34, 35.30it/s]"
     ]
    },
    {
     "name": "stdout",
     "output_type": "stream",
     "text": [
      "Failed 000000440184.jpg: short_edge_length must be two values using 'range' sample style. Got [640, 672, 704, 736, 768, 800]!\n",
      "Failed 000000440336.jpg: short_edge_length must be two values using 'range' sample style. Got [640, 672, 704, 736, 768, 800]!\n",
      "Failed 000000440475.jpg: short_edge_length must be two values using 'range' sample style. Got [640, 672, 704, 736, 768, 800]!\n",
      "Failed 000000440507.jpg: short_edge_length must be two values using 'range' sample style. Got [640, 672, 704, 736, 768, 800]!\n",
      "Failed 000000440508.jpg: short_edge_length must be two values using 'range' sample style. Got [640, 672, 704, 736, 768, 800]!\n",
      "Failed 000000440617.jpg: short_edge_length must be two values using 'range' sample style. Got [640, 672, 704, 736, 768, 800]!\n",
      "Failed 000000441247.jpg: short_edge_length must be two values using 'range' sample style. Got [640, 672, 704, 736, 768, 800]!\n",
      "Failed 000000441286.jpg: short_edge_length must be two values using 'range' sample style. Got [640, 672, 704, 736, 768, 800]!\n"
     ]
    },
    {
     "name": "stderr",
     "output_type": "stream",
     "text": [
      "Extracting features:  76%|███████████████████████████████████████████▎             | 3801/5000 [01:46<00:33, 36.24it/s]"
     ]
    },
    {
     "name": "stdout",
     "output_type": "stream",
     "text": [
      "Failed 000000441442.jpg: short_edge_length must be two values using 'range' sample style. Got [640, 672, 704, 736, 768, 800]!\n",
      "Failed 000000441468.jpg: short_edge_length must be two values using 'range' sample style. Got [640, 672, 704, 736, 768, 800]!\n",
      "Failed 000000441491.jpg: short_edge_length must be two values using 'range' sample style. Got [640, 672, 704, 736, 768, 800]!\n",
      "Failed 000000441543.jpg: short_edge_length must be two values using 'range' sample style. Got [640, 672, 704, 736, 768, 800]!\n",
      "Failed 000000441553.jpg: short_edge_length must be two values using 'range' sample style. Got [640, 672, 704, 736, 768, 800]!\n",
      "Failed 000000441586.jpg: short_edge_length must be two values using 'range' sample style. Got [640, 672, 704, 736, 768, 800]!\n",
      "Failed 000000442009.jpg: short_edge_length must be two values using 'range' sample style. Got [640, 672, 704, 736, 768, 800]!\n",
      "Failed 000000442161.jpg: short_edge_length must be two values using 'range' sample style. Got [640, 672, 704, 736, 768, 800]!\n"
     ]
    },
    {
     "name": "stderr",
     "output_type": "stream",
     "text": [
      "Extracting features:  76%|███████████████████████████████████████████▍             | 3810/5000 [01:46<00:33, 35.32it/s]"
     ]
    },
    {
     "name": "stdout",
     "output_type": "stream",
     "text": [
      "Failed 000000442306.jpg: short_edge_length must be two values using 'range' sample style. Got [640, 672, 704, 736, 768, 800]!\n",
      "Failed 000000442323.jpg: short_edge_length must be two values using 'range' sample style. Got [640, 672, 704, 736, 768, 800]!\n",
      "Failed 000000442456.jpg: short_edge_length must be two values using 'range' sample style. Got [640, 672, 704, 736, 768, 800]!\n",
      "Failed 000000442463.jpg: short_edge_length must be two values using 'range' sample style. Got [640, 672, 704, 736, 768, 800]!\n",
      "Failed 000000442480.jpg: short_edge_length must be two values using 'range' sample style. Got [640, 672, 704, 736, 768, 800]!\n",
      "Failed 000000442661.jpg: short_edge_length must be two values using 'range' sample style. Got [640, 672, 704, 736, 768, 800]!\n",
      "Failed 000000442746.jpg: short_edge_length must be two values using 'range' sample style. Got [640, 672, 704, 736, 768, 800]!\n",
      "Failed 000000442822.jpg: short_edge_length must be two values using 'range' sample style. Got [640, 672, 704, 736, 768, 800]!\n"
     ]
    },
    {
     "name": "stderr",
     "output_type": "stream",
     "text": [
      "Extracting features:  76%|███████████████████████████████████████████▌             | 3818/5000 [01:46<00:33, 35.34it/s]"
     ]
    },
    {
     "name": "stdout",
     "output_type": "stream",
     "text": [
      "Failed 000000442836.jpg: short_edge_length must be two values using 'range' sample style. Got [640, 672, 704, 736, 768, 800]!\n",
      "Failed 000000442993.jpg: short_edge_length must be two values using 'range' sample style. Got [640, 672, 704, 736, 768, 800]!\n",
      "Failed 000000443303.jpg: short_edge_length must be two values using 'range' sample style. Got [640, 672, 704, 736, 768, 800]!\n",
      "Failed 000000443426.jpg: short_edge_length must be two values using 'range' sample style. Got [640, 672, 704, 736, 768, 800]!\n",
      "Failed 000000443498.jpg: short_edge_length must be two values using 'range' sample style. Got [640, 672, 704, 736, 768, 800]!\n",
      "Failed 000000443844.jpg: short_edge_length must be two values using 'range' sample style. Got [640, 672, 704, 736, 768, 800]!\n",
      "Failed 000000443969.jpg: short_edge_length must be two values using 'range' sample style. Got [640, 672, 704, 736, 768, 800]!\n",
      "Failed 000000444142.jpg: short_edge_length must be two values using 'range' sample style. Got [640, 672, 704, 736, 768, 800]!\n"
     ]
    },
    {
     "name": "stderr",
     "output_type": "stream",
     "text": [
      "Extracting features:  77%|███████████████████████████████████████████▌             | 3826/5000 [01:46<00:32, 36.18it/s]"
     ]
    },
    {
     "name": "stdout",
     "output_type": "stream",
     "text": [
      "Failed 000000444275.jpg: short_edge_length must be two values using 'range' sample style. Got [640, 672, 704, 736, 768, 800]!\n",
      "Failed 000000444879.jpg: short_edge_length must be two values using 'range' sample style. Got [640, 672, 704, 736, 768, 800]!\n",
      "Failed 000000445248.jpg: short_edge_length must be two values using 'range' sample style. Got [640, 672, 704, 736, 768, 800]!\n",
      "Failed 000000445365.jpg: short_edge_length must be two values using 'range' sample style. Got [640, 672, 704, 736, 768, 800]!\n",
      "Failed 000000445439.jpg: short_edge_length must be two values using 'range' sample style. Got [640, 672, 704, 736, 768, 800]!\n",
      "Failed 000000445602.jpg: short_edge_length must be two values using 'range' sample style. Got [640, 672, 704, 736, 768, 800]!\n",
      "Failed 000000445658.jpg: short_edge_length must be two values using 'range' sample style. Got [640, 672, 704, 736, 768, 800]!\n",
      "Failed 000000445675.jpg: short_edge_length must be two values using 'range' sample style. Got [640, 672, 704, 736, 768, 800]!\n"
     ]
    },
    {
     "name": "stderr",
     "output_type": "stream",
     "text": [
      "Extracting features:  77%|███████████████████████████████████████████▋             | 3835/5000 [01:47<00:30, 37.71it/s]"
     ]
    },
    {
     "name": "stdout",
     "output_type": "stream",
     "text": [
      "Failed 000000445722.jpg: short_edge_length must be two values using 'range' sample style. Got [640, 672, 704, 736, 768, 800]!\n",
      "Failed 000000445792.jpg: short_edge_length must be two values using 'range' sample style. Got [640, 672, 704, 736, 768, 800]!\n",
      "Failed 000000445834.jpg: short_edge_length must be two values using 'range' sample style. Got [640, 672, 704, 736, 768, 800]!\n",
      "Failed 000000445846.jpg: short_edge_length must be two values using 'range' sample style. Got [640, 672, 704, 736, 768, 800]!\n",
      "Failed 000000445999.jpg: short_edge_length must be two values using 'range' sample style. Got [640, 672, 704, 736, 768, 800]!\n",
      "Failed 000000446005.jpg: short_edge_length must be two values using 'range' sample style. Got [640, 672, 704, 736, 768, 800]!\n",
      "Failed 000000446117.jpg: short_edge_length must be two values using 'range' sample style. Got [640, 672, 704, 736, 768, 800]!\n",
      "Failed 000000446206.jpg: short_edge_length must be two values using 'range' sample style. Got [640, 672, 704, 736, 768, 800]!\n",
      "Failed 000000446207.jpg: short_edge_length must be two values using 'range' sample style. Got [640, 672, 704, 736, 768, 800]!\n"
     ]
    },
    {
     "name": "stderr",
     "output_type": "stream",
     "text": [
      "Extracting features:  77%|███████████████████████████████████████████▊             | 3843/5000 [01:47<00:30, 37.62it/s]"
     ]
    },
    {
     "name": "stdout",
     "output_type": "stream",
     "text": [
      "Failed 000000446522.jpg: short_edge_length must be two values using 'range' sample style. Got [640, 672, 704, 736, 768, 800]!\n",
      "Failed 000000446574.jpg: short_edge_length must be two values using 'range' sample style. Got [640, 672, 704, 736, 768, 800]!\n",
      "Failed 000000446651.jpg: short_edge_length must be two values using 'range' sample style. Got [640, 672, 704, 736, 768, 800]!\n",
      "Failed 000000446703.jpg: short_edge_length must be two values using 'range' sample style. Got [640, 672, 704, 736, 768, 800]!\n",
      "Failed 000000447088.jpg: short_edge_length must be two values using 'range' sample style. Got [640, 672, 704, 736, 768, 800]!\n",
      "Failed 000000447169.jpg: short_edge_length must be two values using 'range' sample style. Got [640, 672, 704, 736, 768, 800]!\n",
      "Failed 000000447187.jpg: short_edge_length must be two values using 'range' sample style. Got [640, 672, 704, 736, 768, 800]!\n",
      "Failed 000000447200.jpg: short_edge_length must be two values using 'range' sample style. Got [640, 672, 704, 736, 768, 800]!\n"
     ]
    },
    {
     "name": "stderr",
     "output_type": "stream",
     "text": [
      "Extracting features:  77%|███████████████████████████████████████████▉             | 3851/5000 [01:47<00:32, 35.80it/s]"
     ]
    },
    {
     "name": "stdout",
     "output_type": "stream",
     "text": [
      "Failed 000000447313.jpg: short_edge_length must be two values using 'range' sample style. Got [640, 672, 704, 736, 768, 800]!\n",
      "Failed 000000447314.jpg: short_edge_length must be two values using 'range' sample style. Got [640, 672, 704, 736, 768, 800]!\n",
      "Failed 000000447342.jpg: short_edge_length must be two values using 'range' sample style. Got [640, 672, 704, 736, 768, 800]!\n",
      "Failed 000000447465.jpg: short_edge_length must be two values using 'range' sample style. Got [640, 672, 704, 736, 768, 800]!\n",
      "Failed 000000447522.jpg: short_edge_length must be two values using 'range' sample style. Got [640, 672, 704, 736, 768, 800]!\n",
      "Failed 000000447611.jpg: short_edge_length must be two values using 'range' sample style. Got [640, 672, 704, 736, 768, 800]!\n",
      "Failed 000000447789.jpg: short_edge_length must be two values using 'range' sample style. Got [640, 672, 704, 736, 768, 800]!\n",
      "Failed 000000447917.jpg: short_edge_length must be two values using 'range' sample style. Got [640, 672, 704, 736, 768, 800]!\n"
     ]
    },
    {
     "name": "stderr",
     "output_type": "stream",
     "text": [
      "Extracting features:  77%|███████████████████████████████████████████▉             | 3859/5000 [01:47<00:31, 35.72it/s]"
     ]
    },
    {
     "name": "stdout",
     "output_type": "stream",
     "text": [
      "Failed 000000448076.jpg: short_edge_length must be two values using 'range' sample style. Got [640, 672, 704, 736, 768, 800]!\n",
      "Failed 000000448256.jpg: short_edge_length must be two values using 'range' sample style. Got [640, 672, 704, 736, 768, 800]!\n",
      "Failed 000000448263.jpg: short_edge_length must be two values using 'range' sample style. Got [640, 672, 704, 736, 768, 800]!\n",
      "Failed 000000448365.jpg: short_edge_length must be two values using 'range' sample style. Got [640, 672, 704, 736, 768, 800]!\n",
      "Failed 000000448410.jpg: short_edge_length must be two values using 'range' sample style. Got [640, 672, 704, 736, 768, 800]!\n",
      "Failed 000000448448.jpg: short_edge_length must be two values using 'range' sample style. Got [640, 672, 704, 736, 768, 800]!\n",
      "Failed 000000448810.jpg: short_edge_length must be two values using 'range' sample style. Got [640, 672, 704, 736, 768, 800]!\n"
     ]
    },
    {
     "name": "stderr",
     "output_type": "stream",
     "text": [
      "Extracting features:  77%|████████████████████████████████████████████             | 3867/5000 [01:48<00:31, 35.79it/s]"
     ]
    },
    {
     "name": "stdout",
     "output_type": "stream",
     "text": [
      "Failed 000000449190.jpg: short_edge_length must be two values using 'range' sample style. Got [640, 672, 704, 736, 768, 800]!\n",
      "Failed 000000449198.jpg: short_edge_length must be two values using 'range' sample style. Got [640, 672, 704, 736, 768, 800]!\n",
      "Failed 000000449312.jpg: short_edge_length must be two values using 'range' sample style. Got [640, 672, 704, 736, 768, 800]!\n",
      "Failed 000000449406.jpg: short_edge_length must be two values using 'range' sample style. Got [640, 672, 704, 736, 768, 800]!\n",
      "Failed 000000449432.jpg: short_edge_length must be two values using 'range' sample style. Got [640, 672, 704, 736, 768, 800]!\n",
      "Failed 000000449579.jpg: short_edge_length must be two values using 'range' sample style. Got [640, 672, 704, 736, 768, 800]!\n",
      "Failed 000000449603.jpg: short_edge_length must be two values using 'range' sample style. Got [640, 672, 704, 736, 768, 800]!\n",
      "Failed 000000449661.jpg: short_edge_length must be two values using 'range' sample style. Got [640, 672, 704, 736, 768, 800]!\n"
     ]
    },
    {
     "name": "stderr",
     "output_type": "stream",
     "text": [
      "Extracting features:  78%|████████████████████████████████████████████▏            | 3875/5000 [01:48<00:31, 35.98it/s]"
     ]
    },
    {
     "name": "stdout",
     "output_type": "stream",
     "text": [
      "Failed 000000449909.jpg: short_edge_length must be two values using 'range' sample style. Got [640, 672, 704, 736, 768, 800]!\n",
      "Failed 000000449996.jpg: short_edge_length must be two values using 'range' sample style. Got [640, 672, 704, 736, 768, 800]!\n",
      "Failed 000000450075.jpg: short_edge_length must be two values using 'range' sample style. Got [640, 672, 704, 736, 768, 800]!\n",
      "Failed 000000450100.jpg: short_edge_length must be two values using 'range' sample style. Got [640, 672, 704, 736, 768, 800]!\n",
      "Failed 000000450202.jpg: short_edge_length must be two values using 'range' sample style. Got [640, 672, 704, 736, 768, 800]!\n",
      "Failed 000000450303.jpg: short_edge_length must be two values using 'range' sample style. Got [640, 672, 704, 736, 768, 800]!\n",
      "Failed 000000450399.jpg: short_edge_length must be two values using 'range' sample style. Got [640, 672, 704, 736, 768, 800]!\n",
      "Failed 000000450439.jpg: short_edge_length must be two values using 'range' sample style. Got [640, 672, 704, 736, 768, 800]!\n"
     ]
    },
    {
     "name": "stderr",
     "output_type": "stream",
     "text": [
      "\r",
      "Extracting features:  78%|████████████████████████████████████████████▏            | 3880/5000 [01:48<00:30, 37.01it/s]"
     ]
    },
    {
     "name": "stdout",
     "output_type": "stream",
     "text": [
      "Failed 000000450488.jpg: short_edge_length must be two values using 'range' sample style. Got [640, 672, 704, 736, 768, 800]!\n",
      "Failed 000000450559.jpg: short_edge_length must be two values using 'range' sample style. Got [640, 672, 704, 736, 768, 800]!\n",
      "Failed 000000450686.jpg: short_edge_length must be two values using 'range' sample style. Got [640, 672, 704, 736, 768, 800]!\n",
      "Failed 000000450758.jpg: short_edge_length must be two values using 'range' sample style. Got [640, 672, 704, 736, 768, 800]!\n",
      "Failed 000000451043.jpg: short_edge_length must be two values using 'range' sample style. Got [640, 672, 704, 736, 768, 800]!\n",
      "Failed 000000451084.jpg: short_edge_length must be two values using 'range' sample style. Got [640, 672, 704, 736, 768, 800]!\n",
      "Failed 000000451090.jpg: short_edge_length must be two values using 'range' sample style. Got [640, 672, 704, 736, 768, 800]!\n"
     ]
    },
    {
     "name": "stderr",
     "output_type": "stream",
     "text": [
      "Extracting features:  78%|████████████████████████████████████████████▎            | 3888/5000 [01:48<00:32, 33.92it/s]"
     ]
    },
    {
     "name": "stdout",
     "output_type": "stream",
     "text": [
      "Failed 000000451144.jpg: short_edge_length must be two values using 'range' sample style. Got [640, 672, 704, 736, 768, 800]!\n",
      "Failed 000000451150.jpg: short_edge_length must be two values using 'range' sample style. Got [640, 672, 704, 736, 768, 800]!\n",
      "Failed 000000451155.jpg: short_edge_length must be two values using 'range' sample style. Got [640, 672, 704, 736, 768, 800]!\n",
      "Failed 000000451308.jpg: short_edge_length must be two values using 'range' sample style. Got [640, 672, 704, 736, 768, 800]!\n",
      "Failed 000000451435.jpg: short_edge_length must be two values using 'range' sample style. Got [640, 672, 704, 736, 768, 800]!\n",
      "Failed 000000451571.jpg: short_edge_length must be two values using 'range' sample style. Got [640, 672, 704, 736, 768, 800]!\n",
      "Failed 000000451693.jpg: short_edge_length must be two values using 'range' sample style. Got [640, 672, 704, 736, 768, 800]!\n"
     ]
    },
    {
     "name": "stderr",
     "output_type": "stream",
     "text": [
      "Extracting features:  78%|████████████████████████████████████████████▍            | 3896/5000 [01:48<00:34, 32.03it/s]"
     ]
    },
    {
     "name": "stdout",
     "output_type": "stream",
     "text": [
      "Failed 000000451714.jpg: short_edge_length must be two values using 'range' sample style. Got [640, 672, 704, 736, 768, 800]!\n",
      "Failed 000000451879.jpg: short_edge_length must be two values using 'range' sample style. Got [640, 672, 704, 736, 768, 800]!\n",
      "Failed 000000452084.jpg: short_edge_length must be two values using 'range' sample style. Got [640, 672, 704, 736, 768, 800]!\n",
      "Failed 000000452122.jpg: short_edge_length must be two values using 'range' sample style. Got [640, 672, 704, 736, 768, 800]!\n",
      "Failed 000000452321.jpg: short_edge_length must be two values using 'range' sample style. Got [640, 672, 704, 736, 768, 800]!\n",
      "Failed 000000452515.jpg: short_edge_length must be two values using 'range' sample style. Got [640, 672, 704, 736, 768, 800]!\n",
      "Failed 000000452784.jpg: short_edge_length must be two values using 'range' sample style. Got [640, 672, 704, 736, 768, 800]!\n"
     ]
    },
    {
     "name": "stderr",
     "output_type": "stream",
     "text": [
      "\r",
      "Extracting features:  78%|████████████████████████████████████████████▍            | 3900/5000 [01:49<00:33, 33.13it/s]"
     ]
    },
    {
     "name": "stdout",
     "output_type": "stream",
     "text": [
      "Failed 000000452793.jpg: short_edge_length must be two values using 'range' sample style. Got [640, 672, 704, 736, 768, 800]!\n",
      "Failed 000000452891.jpg: short_edge_length must be two values using 'range' sample style. Got [640, 672, 704, 736, 768, 800]!\n",
      "Failed 000000453001.jpg: short_edge_length must be two values using 'range' sample style. Got [640, 672, 704, 736, 768, 800]!\n",
      "Failed 000000453040.jpg: short_edge_length must be two values using 'range' sample style. Got [640, 672, 704, 736, 768, 800]!\n",
      "Failed 000000453166.jpg: short_edge_length must be two values using 'range' sample style. Got [640, 672, 704, 736, 768, 800]!\n",
      "Failed 000000453302.jpg: short_edge_length must be two values using 'range' sample style. Got [640, 672, 704, 736, 768, 800]!\n",
      "Failed 000000453341.jpg: short_edge_length must be two values using 'range' sample style. Got [640, 672, 704, 736, 768, 800]!\n"
     ]
    },
    {
     "name": "stderr",
     "output_type": "stream",
     "text": [
      "Extracting features:  78%|████████████████████████████████████████████▌            | 3909/5000 [01:49<00:31, 34.57it/s]"
     ]
    },
    {
     "name": "stdout",
     "output_type": "stream",
     "text": [
      "Failed 000000453584.jpg: short_edge_length must be two values using 'range' sample style. Got [640, 672, 704, 736, 768, 800]!\n",
      "Failed 000000453634.jpg: short_edge_length must be two values using 'range' sample style. Got [640, 672, 704, 736, 768, 800]!\n",
      "Failed 000000453708.jpg: short_edge_length must be two values using 'range' sample style. Got [640, 672, 704, 736, 768, 800]!\n",
      "Failed 000000453722.jpg: short_edge_length must be two values using 'range' sample style. Got [640, 672, 704, 736, 768, 800]!\n",
      "Failed 000000453841.jpg: short_edge_length must be two values using 'range' sample style. Got [640, 672, 704, 736, 768, 800]!\n",
      "Failed 000000453860.jpg: short_edge_length must be two values using 'range' sample style. Got [640, 672, 704, 736, 768, 800]!\n",
      "Failed 000000453981.jpg: short_edge_length must be two values using 'range' sample style. Got [640, 672, 704, 736, 768, 800]!\n",
      "Failed 000000454067.jpg: short_edge_length must be two values using 'range' sample style. Got [640, 672, 704, 736, 768, 800]!\n",
      "Failed 000000454404.jpg: short_edge_length must be two values using 'range' sample style. Got [640, 672, 704, 736, 768, 800]!\n"
     ]
    },
    {
     "name": "stderr",
     "output_type": "stream",
     "text": [
      "Extracting features:  78%|████████████████████████████████████████████▋            | 3917/5000 [01:49<00:30, 35.71it/s]"
     ]
    },
    {
     "name": "stdout",
     "output_type": "stream",
     "text": [
      "Failed 000000454661.jpg: short_edge_length must be two values using 'range' sample style. Got [640, 672, 704, 736, 768, 800]!\n",
      "Failed 000000454750.jpg: short_edge_length must be two values using 'range' sample style. Got [640, 672, 704, 736, 768, 800]!\n",
      "Failed 000000454798.jpg: short_edge_length must be two values using 'range' sample style. Got [640, 672, 704, 736, 768, 800]!\n",
      "Failed 000000454978.jpg: short_edge_length must be two values using 'range' sample style. Got [640, 672, 704, 736, 768, 800]!\n",
      "Failed 000000455085.jpg: short_edge_length must be two values using 'range' sample style. Got [640, 672, 704, 736, 768, 800]!\n",
      "Failed 000000455157.jpg: short_edge_length must be two values using 'range' sample style. Got [640, 672, 704, 736, 768, 800]!\n"
     ]
    },
    {
     "name": "stderr",
     "output_type": "stream",
     "text": [
      "Extracting features:  78%|████████████████████████████████████████████▋            | 3925/5000 [01:49<00:31, 33.91it/s]"
     ]
    },
    {
     "name": "stdout",
     "output_type": "stream",
     "text": [
      "Failed 000000455219.jpg: short_edge_length must be two values using 'range' sample style. Got [640, 672, 704, 736, 768, 800]!\n",
      "Failed 000000455267.jpg: short_edge_length must be two values using 'range' sample style. Got [640, 672, 704, 736, 768, 800]!\n",
      "Failed 000000455301.jpg: short_edge_length must be two values using 'range' sample style. Got [640, 672, 704, 736, 768, 800]!\n",
      "Failed 000000455352.jpg: short_edge_length must be two values using 'range' sample style. Got [640, 672, 704, 736, 768, 800]!\n",
      "Failed 000000455448.jpg: short_edge_length must be two values using 'range' sample style. Got [640, 672, 704, 736, 768, 800]!\n",
      "Failed 000000455555.jpg: short_edge_length must be two values using 'range' sample style. Got [640, 672, 704, 736, 768, 800]!\n",
      "Failed 000000455597.jpg: short_edge_length must be two values using 'range' sample style. Got [640, 672, 704, 736, 768, 800]!\n"
     ]
    },
    {
     "name": "stderr",
     "output_type": "stream",
     "text": [
      "Extracting features:  79%|████████████████████████████████████████████▊            | 3933/5000 [01:49<00:32, 32.90it/s]"
     ]
    },
    {
     "name": "stdout",
     "output_type": "stream",
     "text": [
      "Failed 000000455624.jpg: short_edge_length must be two values using 'range' sample style. Got [640, 672, 704, 736, 768, 800]!\n",
      "Failed 000000455716.jpg: short_edge_length must be two values using 'range' sample style. Got [640, 672, 704, 736, 768, 800]!\n",
      "Failed 000000455872.jpg: short_edge_length must be two values using 'range' sample style. Got [640, 672, 704, 736, 768, 800]!\n",
      "Failed 000000455937.jpg: short_edge_length must be two values using 'range' sample style. Got [640, 672, 704, 736, 768, 800]!\n",
      "Failed 000000455981.jpg: short_edge_length must be two values using 'range' sample style. Got [640, 672, 704, 736, 768, 800]!\n",
      "Failed 000000456015.jpg: short_edge_length must be two values using 'range' sample style. Got [640, 672, 704, 736, 768, 800]!\n",
      "Failed 000000456143.jpg: short_edge_length must be two values using 'range' sample style. Got [640, 672, 704, 736, 768, 800]!\n"
     ]
    },
    {
     "name": "stderr",
     "output_type": "stream",
     "text": [
      "\r",
      "Extracting features:  79%|████████████████████████████████████████████▉            | 3937/5000 [01:50<00:30, 34.41it/s]"
     ]
    },
    {
     "name": "stdout",
     "output_type": "stream",
     "text": [
      "Failed 000000456292.jpg: short_edge_length must be two values using 'range' sample style. Got [640, 672, 704, 736, 768, 800]!\n",
      "Failed 000000456303.jpg: short_edge_length must be two values using 'range' sample style. Got [640, 672, 704, 736, 768, 800]!\n",
      "Failed 000000456394.jpg: short_edge_length must be two values using 'range' sample style. Got [640, 672, 704, 736, 768, 800]!\n",
      "Failed 000000456496.jpg: short_edge_length must be two values using 'range' sample style. Got [640, 672, 704, 736, 768, 800]!\n",
      "Failed 000000456559.jpg: short_edge_length must be two values using 'range' sample style. Got [640, 672, 704, 736, 768, 800]!\n",
      "Failed 000000456662.jpg: short_edge_length must be two values using 'range' sample style. Got [640, 672, 704, 736, 768, 800]!\n",
      "Failed 000000456865.jpg: short_edge_length must be two values using 'range' sample style. Got [640, 672, 704, 736, 768, 800]!\n"
     ]
    },
    {
     "name": "stderr",
     "output_type": "stream",
     "text": [
      "Extracting features:  79%|████████████████████████████████████████████▉            | 3945/5000 [01:50<00:30, 34.24it/s]"
     ]
    },
    {
     "name": "stdout",
     "output_type": "stream",
     "text": [
      "Failed 000000457078.jpg: short_edge_length must be two values using 'range' sample style. Got [640, 672, 704, 736, 768, 800]!\n",
      "Failed 000000457262.jpg: short_edge_length must be two values using 'range' sample style. Got [640, 672, 704, 736, 768, 800]!\n",
      "Failed 000000457559.jpg: short_edge_length must be two values using 'range' sample style. Got [640, 672, 704, 736, 768, 800]!\n",
      "Failed 000000457848.jpg: short_edge_length must be two values using 'range' sample style. Got [640, 672, 704, 736, 768, 800]!\n",
      "Failed 000000457884.jpg: short_edge_length must be two values using 'range' sample style. Got [640, 672, 704, 736, 768, 800]!\n",
      "Failed 000000458045.jpg: short_edge_length must be two values using 'range' sample style. Got [640, 672, 704, 736, 768, 800]!\n",
      "Failed 000000458054.jpg: short_edge_length must be two values using 'range' sample style. Got [640, 672, 704, 736, 768, 800]!\n",
      "Failed 000000458109.jpg: short_edge_length must be two values using 'range' sample style. Got [640, 672, 704, 736, 768, 800]!\n"
     ]
    },
    {
     "name": "stderr",
     "output_type": "stream",
     "text": [
      "Extracting features:  79%|█████████████████████████████████████████████            | 3953/5000 [01:50<00:32, 32.47it/s]"
     ]
    },
    {
     "name": "stdout",
     "output_type": "stream",
     "text": [
      "Failed 000000458223.jpg: short_edge_length must be two values using 'range' sample style. Got [640, 672, 704, 736, 768, 800]!\n",
      "Failed 000000458255.jpg: short_edge_length must be two values using 'range' sample style. Got [640, 672, 704, 736, 768, 800]!\n",
      "Failed 000000458325.jpg: short_edge_length must be two values using 'range' sample style. Got [640, 672, 704, 736, 768, 800]!\n",
      "Failed 000000458410.jpg: short_edge_length must be two values using 'range' sample style. Got [640, 672, 704, 736, 768, 800]!\n",
      "Failed 000000458663.jpg: short_edge_length must be two values using 'range' sample style. Got [640, 672, 704, 736, 768, 800]!\n",
      "Failed 000000458702.jpg: short_edge_length must be two values using 'range' sample style. Got [640, 672, 704, 736, 768, 800]!\n",
      "Failed 000000458755.jpg: short_edge_length must be two values using 'range' sample style. Got [640, 672, 704, 736, 768, 800]!\n"
     ]
    },
    {
     "name": "stderr",
     "output_type": "stream",
     "text": [
      "Extracting features:  79%|█████████████████████████████████████████████▏           | 3961/5000 [01:50<00:30, 34.29it/s]"
     ]
    },
    {
     "name": "stdout",
     "output_type": "stream",
     "text": [
      "Failed 000000458768.jpg: short_edge_length must be two values using 'range' sample style. Got [640, 672, 704, 736, 768, 800]!\n",
      "Failed 000000458790.jpg: short_edge_length must be two values using 'range' sample style. Got [640, 672, 704, 736, 768, 800]!\n",
      "Failed 000000458992.jpg: short_edge_length must be two values using 'range' sample style. Got [640, 672, 704, 736, 768, 800]!\n",
      "Failed 000000459153.jpg: short_edge_length must be two values using 'range' sample style. Got [640, 672, 704, 736, 768, 800]!\n",
      "Failed 000000459195.jpg: short_edge_length must be two values using 'range' sample style. Got [640, 672, 704, 736, 768, 800]!\n",
      "Failed 000000459272.jpg: short_edge_length must be two values using 'range' sample style. Got [640, 672, 704, 736, 768, 800]!\n",
      "Failed 000000459396.jpg: short_edge_length must be two values using 'range' sample style. Got [640, 672, 704, 736, 768, 800]!\n",
      "Failed 000000459437.jpg: short_edge_length must be two values using 'range' sample style. Got [640, 672, 704, 736, 768, 800]!\n"
     ]
    },
    {
     "name": "stderr",
     "output_type": "stream",
     "text": [
      "Extracting features:  79%|█████████████████████████████████████████████▏           | 3969/5000 [01:51<00:30, 34.34it/s]"
     ]
    },
    {
     "name": "stdout",
     "output_type": "stream",
     "text": [
      "Failed 000000459467.jpg: short_edge_length must be two values using 'range' sample style. Got [640, 672, 704, 736, 768, 800]!\n",
      "Failed 000000459500.jpg: short_edge_length must be two values using 'range' sample style. Got [640, 672, 704, 736, 768, 800]!\n",
      "Failed 000000459634.jpg: short_edge_length must be two values using 'range' sample style. Got [640, 672, 704, 736, 768, 800]!\n",
      "Failed 000000459662.jpg: short_edge_length must be two values using 'range' sample style. Got [640, 672, 704, 736, 768, 800]!\n",
      "Failed 000000459757.jpg: short_edge_length must be two values using 'range' sample style. Got [640, 672, 704, 736, 768, 800]!\n",
      "Failed 000000459809.jpg: short_edge_length must be two values using 'range' sample style. Got [640, 672, 704, 736, 768, 800]!\n",
      "Failed 000000459887.jpg: short_edge_length must be two values using 'range' sample style. Got [640, 672, 704, 736, 768, 800]!\n",
      "Failed 000000459954.jpg: short_edge_length must be two values using 'range' sample style. Got [640, 672, 704, 736, 768, 800]!\n"
     ]
    },
    {
     "name": "stderr",
     "output_type": "stream",
     "text": [
      "Extracting features:  80%|█████████████████████████████████████████████▎           | 3977/5000 [01:51<00:29, 34.68it/s]"
     ]
    },
    {
     "name": "stdout",
     "output_type": "stream",
     "text": [
      "Failed 000000460147.jpg: short_edge_length must be two values using 'range' sample style. Got [640, 672, 704, 736, 768, 800]!\n",
      "Failed 000000460160.jpg: short_edge_length must be two values using 'range' sample style. Got [640, 672, 704, 736, 768, 800]!\n",
      "Failed 000000460229.jpg: short_edge_length must be two values using 'range' sample style. Got [640, 672, 704, 736, 768, 800]!\n",
      "Failed 000000460333.jpg: short_edge_length must be two values using 'range' sample style. Got [640, 672, 704, 736, 768, 800]!\n",
      "Failed 000000460347.jpg: short_edge_length must be two values using 'range' sample style. Got [640, 672, 704, 736, 768, 800]!\n",
      "Failed 000000460379.jpg: short_edge_length must be two values using 'range' sample style. Got [640, 672, 704, 736, 768, 800]!\n",
      "Failed 000000460494.jpg: short_edge_length must be two values using 'range' sample style. Got [640, 672, 704, 736, 768, 800]!\n",
      "Failed 000000460682.jpg: short_edge_length must be two values using 'range' sample style. Got [640, 672, 704, 736, 768, 800]!\n"
     ]
    },
    {
     "name": "stderr",
     "output_type": "stream",
     "text": [
      "Extracting features:  80%|█████████████████████████████████████████████▍           | 3985/5000 [01:51<00:30, 32.86it/s]"
     ]
    },
    {
     "name": "stdout",
     "output_type": "stream",
     "text": [
      "Failed 000000460683.jpg: short_edge_length must be two values using 'range' sample style. Got [640, 672, 704, 736, 768, 800]!\n",
      "Failed 000000460841.jpg: short_edge_length must be two values using 'range' sample style. Got [640, 672, 704, 736, 768, 800]!\n",
      "Failed 000000460927.jpg: short_edge_length must be two values using 'range' sample style. Got [640, 672, 704, 736, 768, 800]!\n",
      "Failed 000000460929.jpg: short_edge_length must be two values using 'range' sample style. Got [640, 672, 704, 736, 768, 800]!\n",
      "Failed 000000460967.jpg: short_edge_length must be two values using 'range' sample style. Got [640, 672, 704, 736, 768, 800]!\n",
      "Failed 000000461009.jpg: short_edge_length must be two values using 'range' sample style. Got [640, 672, 704, 736, 768, 800]!\n",
      "Failed 000000461036.jpg: short_edge_length must be two values using 'range' sample style. Got [640, 672, 704, 736, 768, 800]!\n"
     ]
    },
    {
     "name": "stderr",
     "output_type": "stream",
     "text": [
      "Extracting features:  80%|█████████████████████████████████████████████▌           | 3993/5000 [01:51<00:29, 34.31it/s]"
     ]
    },
    {
     "name": "stdout",
     "output_type": "stream",
     "text": [
      "Failed 000000461275.jpg: short_edge_length must be two values using 'range' sample style. Got [640, 672, 704, 736, 768, 800]!\n",
      "Failed 000000461405.jpg: short_edge_length must be two values using 'range' sample style. Got [640, 672, 704, 736, 768, 800]!\n",
      "Failed 000000461573.jpg: short_edge_length must be two values using 'range' sample style. Got [640, 672, 704, 736, 768, 800]!\n",
      "Failed 000000461751.jpg: short_edge_length must be two values using 'range' sample style. Got [640, 672, 704, 736, 768, 800]!\n",
      "Failed 000000462031.jpg: short_edge_length must be two values using 'range' sample style. Got [640, 672, 704, 736, 768, 800]!\n",
      "Failed 000000462371.jpg: short_edge_length must be two values using 'range' sample style. Got [640, 672, 704, 736, 768, 800]!\n",
      "Failed 000000462576.jpg: short_edge_length must be two values using 'range' sample style. Got [640, 672, 704, 736, 768, 800]!\n"
     ]
    },
    {
     "name": "stderr",
     "output_type": "stream",
     "text": [
      "Extracting features:  80%|█████████████████████████████████████████████▌           | 4001/5000 [01:51<00:28, 35.60it/s]"
     ]
    },
    {
     "name": "stdout",
     "output_type": "stream",
     "text": [
      "Failed 000000462614.jpg: short_edge_length must be two values using 'range' sample style. Got [640, 672, 704, 736, 768, 800]!\n",
      "Failed 000000462629.jpg: short_edge_length must be two values using 'range' sample style. Got [640, 672, 704, 736, 768, 800]!\n",
      "Failed 000000462643.jpg: short_edge_length must be two values using 'range' sample style. Got [640, 672, 704, 736, 768, 800]!\n",
      "Failed 000000462728.jpg: short_edge_length must be two values using 'range' sample style. Got [640, 672, 704, 736, 768, 800]!\n",
      "Failed 000000462756.jpg: short_edge_length must be two values using 'range' sample style. Got [640, 672, 704, 736, 768, 800]!\n",
      "Failed 000000462904.jpg: short_edge_length must be two values using 'range' sample style. Got [640, 672, 704, 736, 768, 800]!\n",
      "Failed 000000463037.jpg: short_edge_length must be two values using 'range' sample style. Got [640, 672, 704, 736, 768, 800]!\n",
      "Failed 000000463174.jpg: short_edge_length must be two values using 'range' sample style. Got [640, 672, 704, 736, 768, 800]!\n"
     ]
    },
    {
     "name": "stderr",
     "output_type": "stream",
     "text": [
      "\r",
      "Extracting features:  80%|█████████████████████████████████████████████▋           | 4005/5000 [01:52<00:28, 34.73it/s]"
     ]
    },
    {
     "name": "stdout",
     "output_type": "stream",
     "text": [
      "Failed 000000463199.jpg: short_edge_length must be two values using 'range' sample style. Got [640, 672, 704, 736, 768, 800]!\n",
      "Failed 000000463283.jpg: short_edge_length must be two values using 'range' sample style. Got [640, 672, 704, 736, 768, 800]!\n",
      "Failed 000000463522.jpg: short_edge_length must be two values using 'range' sample style. Got [640, 672, 704, 736, 768, 800]!\n",
      "Failed 000000463527.jpg: short_edge_length must be two values using 'range' sample style. Got [640, 672, 704, 736, 768, 800]!\n",
      "Failed 000000463542.jpg: short_edge_length must be two values using 'range' sample style. Got [640, 672, 704, 736, 768, 800]!\n",
      "Failed 000000463618.jpg: short_edge_length must be two values using 'range' sample style. Got [640, 672, 704, 736, 768, 800]!\n",
      "Failed 000000463647.jpg: short_edge_length must be two values using 'range' sample style. Got [640, 672, 704, 736, 768, 800]!\n"
     ]
    },
    {
     "name": "stderr",
     "output_type": "stream",
     "text": [
      "Extracting features:  80%|█████████████████████████████████████████████▋           | 4013/5000 [01:52<00:29, 33.98it/s]"
     ]
    },
    {
     "name": "stdout",
     "output_type": "stream",
     "text": [
      "Failed 000000463690.jpg: short_edge_length must be two values using 'range' sample style. Got [640, 672, 704, 736, 768, 800]!\n",
      "Failed 000000463730.jpg: short_edge_length must be two values using 'range' sample style. Got [640, 672, 704, 736, 768, 800]!\n",
      "Failed 000000463802.jpg: short_edge_length must be two values using 'range' sample style. Got [640, 672, 704, 736, 768, 800]!\n",
      "Failed 000000463842.jpg: short_edge_length must be two values using 'range' sample style. Got [640, 672, 704, 736, 768, 800]!\n",
      "Failed 000000463849.jpg: short_edge_length must be two values using 'range' sample style. Got [640, 672, 704, 736, 768, 800]!\n",
      "Failed 000000463918.jpg: short_edge_length must be two values using 'range' sample style. Got [640, 672, 704, 736, 768, 800]!\n",
      "Failed 000000464089.jpg: short_edge_length must be two values using 'range' sample style. Got [640, 672, 704, 736, 768, 800]!\n"
     ]
    },
    {
     "name": "stderr",
     "output_type": "stream",
     "text": [
      "Extracting features:  80%|█████████████████████████████████████████████▊           | 4021/5000 [01:52<00:28, 34.47it/s]"
     ]
    },
    {
     "name": "stdout",
     "output_type": "stream",
     "text": [
      "Failed 000000464144.jpg: short_edge_length must be two values using 'range' sample style. Got [640, 672, 704, 736, 768, 800]!\n",
      "Failed 000000464251.jpg: short_edge_length must be two values using 'range' sample style. Got [640, 672, 704, 736, 768, 800]!\n",
      "Failed 000000464358.jpg: short_edge_length must be two values using 'range' sample style. Got [640, 672, 704, 736, 768, 800]!\n",
      "Failed 000000464476.jpg: short_edge_length must be two values using 'range' sample style. Got [640, 672, 704, 736, 768, 800]!\n",
      "Failed 000000464522.jpg: short_edge_length must be two values using 'range' sample style. Got [640, 672, 704, 736, 768, 800]!\n",
      "Failed 000000464689.jpg: short_edge_length must be two values using 'range' sample style. Got [640, 672, 704, 736, 768, 800]!\n",
      "Failed 000000464786.jpg: short_edge_length must be two values using 'range' sample style. Got [640, 672, 704, 736, 768, 800]!\n",
      "Failed 000000464824.jpg: short_edge_length must be two values using 'range' sample style. Got [640, 672, 704, 736, 768, 800]!\n"
     ]
    },
    {
     "name": "stderr",
     "output_type": "stream",
     "text": [
      "Extracting features:  81%|█████████████████████████████████████████████▉           | 4029/5000 [01:52<00:28, 34.36it/s]"
     ]
    },
    {
     "name": "stdout",
     "output_type": "stream",
     "text": [
      "Failed 000000464872.jpg: short_edge_length must be two values using 'range' sample style. Got [640, 672, 704, 736, 768, 800]!\n",
      "Failed 000000465129.jpg: short_edge_length must be two values using 'range' sample style. Got [640, 672, 704, 736, 768, 800]!\n",
      "Failed 000000465179.jpg: short_edge_length must be two values using 'range' sample style. Got [640, 672, 704, 736, 768, 800]!\n",
      "Failed 000000465180.jpg: short_edge_length must be two values using 'range' sample style. Got [640, 672, 704, 736, 768, 800]!\n",
      "Failed 000000465430.jpg: short_edge_length must be two values using 'range' sample style. Got [640, 672, 704, 736, 768, 800]!\n",
      "Failed 000000465549.jpg: short_edge_length must be two values using 'range' sample style. Got [640, 672, 704, 736, 768, 800]!\n",
      "Failed 000000465585.jpg: short_edge_length must be two values using 'range' sample style. Got [640, 672, 704, 736, 768, 800]!\n"
     ]
    },
    {
     "name": "stderr",
     "output_type": "stream",
     "text": [
      "\r",
      "Extracting features:  81%|█████████████████████████████████████████████▉           | 4033/5000 [01:52<00:29, 32.82it/s]"
     ]
    },
    {
     "name": "stdout",
     "output_type": "stream",
     "text": [
      "Failed 000000465675.jpg: short_edge_length must be two values using 'range' sample style. Got [640, 672, 704, 736, 768, 800]!\n",
      "Failed 000000465718.jpg: short_edge_length must be two values using 'range' sample style. Got [640, 672, 704, 736, 768, 800]!\n",
      "Failed 000000465806.jpg: short_edge_length must be two values using 'range' sample style. Got [640, 672, 704, 736, 768, 800]!\n",
      "Failed 000000465822.jpg: short_edge_length must be two values using 'range' sample style. Got [640, 672, 704, 736, 768, 800]!\n",
      "Failed 000000465836.jpg: short_edge_length must be two values using 'range' sample style. Got [640, 672, 704, 736, 768, 800]!\n",
      "Failed 000000466085.jpg: short_edge_length must be two values using 'range' sample style. Got [640, 672, 704, 736, 768, 800]!\n",
      "Failed 000000466125.jpg: short_edge_length must be two values using 'range' sample style. Got [640, 672, 704, 736, 768, 800]!\n"
     ]
    },
    {
     "name": "stderr",
     "output_type": "stream",
     "text": [
      "Extracting features:  81%|██████████████████████████████████████████████           | 4041/5000 [01:53<00:29, 32.65it/s]"
     ]
    },
    {
     "name": "stdout",
     "output_type": "stream",
     "text": [
      "Failed 000000466156.jpg: short_edge_length must be two values using 'range' sample style. Got [640, 672, 704, 736, 768, 800]!\n",
      "Failed 000000466256.jpg: short_edge_length must be two values using 'range' sample style. Got [640, 672, 704, 736, 768, 800]!\n",
      "Failed 000000466339.jpg: short_edge_length must be two values using 'range' sample style. Got [640, 672, 704, 736, 768, 800]!\n",
      "Failed 000000466416.jpg: short_edge_length must be two values using 'range' sample style. Got [640, 672, 704, 736, 768, 800]!\n",
      "Failed 000000466567.jpg: short_edge_length must be two values using 'range' sample style. Got [640, 672, 704, 736, 768, 800]!\n",
      "Failed 000000466602.jpg: short_edge_length must be two values using 'range' sample style. Got [640, 672, 704, 736, 768, 800]!\n"
     ]
    },
    {
     "name": "stderr",
     "output_type": "stream",
     "text": [
      "Extracting features:  81%|██████████████████████████████████████████████▏          | 4049/5000 [01:53<00:27, 33.97it/s]"
     ]
    },
    {
     "name": "stdout",
     "output_type": "stream",
     "text": [
      "Failed 000000466835.jpg: short_edge_length must be two values using 'range' sample style. Got [640, 672, 704, 736, 768, 800]!\n",
      "Failed 000000466986.jpg: short_edge_length must be two values using 'range' sample style. Got [640, 672, 704, 736, 768, 800]!\n",
      "Failed 000000467176.jpg: short_edge_length must be two values using 'range' sample style. Got [640, 672, 704, 736, 768, 800]!\n",
      "Failed 000000467315.jpg: short_edge_length must be two values using 'range' sample style. Got [640, 672, 704, 736, 768, 800]!\n",
      "Failed 000000467511.jpg: short_edge_length must be two values using 'range' sample style. Got [640, 672, 704, 736, 768, 800]!\n",
      "Failed 000000467776.jpg: short_edge_length must be two values using 'range' sample style. Got [640, 672, 704, 736, 768, 800]!\n",
      "Failed 000000467848.jpg: short_edge_length must be two values using 'range' sample style. Got [640, 672, 704, 736, 768, 800]!\n"
     ]
    },
    {
     "name": "stderr",
     "output_type": "stream",
     "text": [
      "Extracting features:  81%|██████████████████████████████████████████████▎          | 4058/5000 [01:53<00:26, 35.34it/s]"
     ]
    },
    {
     "name": "stdout",
     "output_type": "stream",
     "text": [
      "Failed 000000468124.jpg: short_edge_length must be two values using 'range' sample style. Got [640, 672, 704, 736, 768, 800]!\n",
      "Failed 000000468233.jpg: short_edge_length must be two values using 'range' sample style. Got [640, 672, 704, 736, 768, 800]!\n",
      "Failed 000000468245.jpg: short_edge_length must be two values using 'range' sample style. Got [640, 672, 704, 736, 768, 800]!\n",
      "Failed 000000468332.jpg: short_edge_length must be two values using 'range' sample style. Got [640, 672, 704, 736, 768, 800]!\n",
      "Failed 000000468501.jpg: short_edge_length must be two values using 'range' sample style. Got [640, 672, 704, 736, 768, 800]!\n",
      "Failed 000000468505.jpg: short_edge_length must be two values using 'range' sample style. Got [640, 672, 704, 736, 768, 800]!\n",
      "Failed 000000468577.jpg: short_edge_length must be two values using 'range' sample style. Got [640, 672, 704, 736, 768, 800]!\n",
      "Failed 000000468632.jpg: short_edge_length must be two values using 'range' sample style. Got [640, 672, 704, 736, 768, 800]!\n"
     ]
    },
    {
     "name": "stderr",
     "output_type": "stream",
     "text": [
      "\r",
      "Extracting features:  81%|██████████████████████████████████████████████▎          | 4062/5000 [01:53<00:26, 34.83it/s]"
     ]
    },
    {
     "name": "stdout",
     "output_type": "stream",
     "text": [
      "Failed 000000468925.jpg: short_edge_length must be two values using 'range' sample style. Got [640, 672, 704, 736, 768, 800]!\n",
      "Failed 000000468954.jpg: short_edge_length must be two values using 'range' sample style. Got [640, 672, 704, 736, 768, 800]!\n",
      "Failed 000000468965.jpg: short_edge_length must be two values using 'range' sample style. Got [640, 672, 704, 736, 768, 800]!\n",
      "Failed 000000469067.jpg: short_edge_length must be two values using 'range' sample style. Got [640, 672, 704, 736, 768, 800]!\n",
      "Failed 000000469174.jpg: short_edge_length must be two values using 'range' sample style. Got [640, 672, 704, 736, 768, 800]!\n",
      "Failed 000000469192.jpg: short_edge_length must be two values using 'range' sample style. Got [640, 672, 704, 736, 768, 800]!\n",
      "Failed 000000469246.jpg: short_edge_length must be two values using 'range' sample style. Got [640, 672, 704, 736, 768, 800]!\n"
     ]
    },
    {
     "name": "stderr",
     "output_type": "stream",
     "text": [
      "Extracting features:  81%|██████████████████████████████████████████████▍          | 4070/5000 [01:53<00:27, 34.40it/s]"
     ]
    },
    {
     "name": "stdout",
     "output_type": "stream",
     "text": [
      "Failed 000000469652.jpg: short_edge_length must be two values using 'range' sample style. Got [640, 672, 704, 736, 768, 800]!\n",
      "Failed 000000469828.jpg: short_edge_length must be two values using 'range' sample style. Got [640, 672, 704, 736, 768, 800]!\n",
      "Failed 000000470121.jpg: short_edge_length must be two values using 'range' sample style. Got [640, 672, 704, 736, 768, 800]!\n",
      "Failed 000000470173.jpg: short_edge_length must be two values using 'range' sample style. Got [640, 672, 704, 736, 768, 800]!\n",
      "Failed 000000470773.jpg: short_edge_length must be two values using 'range' sample style. Got [640, 672, 704, 736, 768, 800]!\n",
      "Failed 000000470779.jpg: short_edge_length must be two values using 'range' sample style. Got [640, 672, 704, 736, 768, 800]!\n",
      "Failed 000000470924.jpg: short_edge_length must be two values using 'range' sample style. Got [640, 672, 704, 736, 768, 800]!\n"
     ]
    },
    {
     "name": "stderr",
     "output_type": "stream",
     "text": [
      "Extracting features:  82%|██████████████████████████████████████████████▍          | 4078/5000 [01:54<00:27, 33.87it/s]"
     ]
    },
    {
     "name": "stdout",
     "output_type": "stream",
     "text": [
      "Failed 000000470952.jpg: short_edge_length must be two values using 'range' sample style. Got [640, 672, 704, 736, 768, 800]!\n",
      "Failed 000000471023.jpg: short_edge_length must be two values using 'range' sample style. Got [640, 672, 704, 736, 768, 800]!\n",
      "Failed 000000471087.jpg: short_edge_length must be two values using 'range' sample style. Got [640, 672, 704, 736, 768, 800]!\n",
      "Failed 000000471450.jpg: short_edge_length must be two values using 'range' sample style. Got [640, 672, 704, 736, 768, 800]!\n",
      "Failed 000000471567.jpg: short_edge_length must be two values using 'range' sample style. Got [640, 672, 704, 736, 768, 800]!\n",
      "Failed 000000471756.jpg: short_edge_length must be two values using 'range' sample style. Got [640, 672, 704, 736, 768, 800]!\n",
      "Failed 000000471789.jpg: short_edge_length must be two values using 'range' sample style. Got [640, 672, 704, 736, 768, 800]!\n",
      "Failed 000000471869.jpg: short_edge_length must be two values using 'range' sample style. Got [640, 672, 704, 736, 768, 800]!\n"
     ]
    },
    {
     "name": "stderr",
     "output_type": "stream",
     "text": [
      "Extracting features:  82%|██████████████████████████████████████████████▌          | 4086/5000 [01:54<00:26, 34.61it/s]"
     ]
    },
    {
     "name": "stdout",
     "output_type": "stream",
     "text": [
      "Failed 000000471893.jpg: short_edge_length must be two values using 'range' sample style. Got [640, 672, 704, 736, 768, 800]!\n",
      "Failed 000000471991.jpg: short_edge_length must be two values using 'range' sample style. Got [640, 672, 704, 736, 768, 800]!\n",
      "Failed 000000472030.jpg: short_edge_length must be two values using 'range' sample style. Got [640, 672, 704, 736, 768, 800]!\n",
      "Failed 000000472046.jpg: short_edge_length must be two values using 'range' sample style. Got [640, 672, 704, 736, 768, 800]!\n",
      "Failed 000000472298.jpg: short_edge_length must be two values using 'range' sample style. Got [640, 672, 704, 736, 768, 800]!\n",
      "Failed 000000472375.jpg: short_edge_length must be two values using 'range' sample style. Got [640, 672, 704, 736, 768, 800]!\n",
      "Failed 000000472623.jpg: short_edge_length must be two values using 'range' sample style. Got [640, 672, 704, 736, 768, 800]!\n",
      "Failed 000000472678.jpg: short_edge_length must be two values using 'range' sample style. Got [640, 672, 704, 736, 768, 800]!\n"
     ]
    },
    {
     "name": "stderr",
     "output_type": "stream",
     "text": [
      "Extracting features:  82%|██████████████████████████████████████████████▋          | 4094/5000 [01:54<00:25, 35.45it/s]"
     ]
    },
    {
     "name": "stdout",
     "output_type": "stream",
     "text": [
      "Failed 000000473015.jpg: short_edge_length must be two values using 'range' sample style. Got [640, 672, 704, 736, 768, 800]!\n",
      "Failed 000000473118.jpg: short_edge_length must be two values using 'range' sample style. Got [640, 672, 704, 736, 768, 800]!\n",
      "Failed 000000473121.jpg: short_edge_length must be two values using 'range' sample style. Got [640, 672, 704, 736, 768, 800]!\n",
      "Failed 000000473219.jpg: short_edge_length must be two values using 'range' sample style. Got [640, 672, 704, 736, 768, 800]!\n",
      "Failed 000000473237.jpg: short_edge_length must be two values using 'range' sample style. Got [640, 672, 704, 736, 768, 800]!\n",
      "Failed 000000473406.jpg: short_edge_length must be two values using 'range' sample style. Got [640, 672, 704, 736, 768, 800]!\n",
      "Failed 000000473821.jpg: short_edge_length must be two values using 'range' sample style. Got [640, 672, 704, 736, 768, 800]!\n",
      "Failed 000000473869.jpg: short_edge_length must be two values using 'range' sample style. Got [640, 672, 704, 736, 768, 800]!\n"
     ]
    },
    {
     "name": "stderr",
     "output_type": "stream",
     "text": [
      "Extracting features:  82%|██████████████████████████████████████████████▊          | 4103/5000 [01:54<00:24, 36.29it/s]"
     ]
    },
    {
     "name": "stdout",
     "output_type": "stream",
     "text": [
      "Failed 000000473974.jpg: short_edge_length must be two values using 'range' sample style. Got [640, 672, 704, 736, 768, 800]!\n",
      "Failed 000000474021.jpg: short_edge_length must be two values using 'range' sample style. Got [640, 672, 704, 736, 768, 800]!\n",
      "Failed 000000474028.jpg: short_edge_length must be two values using 'range' sample style. Got [640, 672, 704, 736, 768, 800]!\n",
      "Failed 000000474039.jpg: short_edge_length must be two values using 'range' sample style. Got [640, 672, 704, 736, 768, 800]!\n",
      "Failed 000000474078.jpg: short_edge_length must be two values using 'range' sample style. Got [640, 672, 704, 736, 768, 800]!\n",
      "Failed 000000474095.jpg: short_edge_length must be two values using 'range' sample style. Got [640, 672, 704, 736, 768, 800]!\n",
      "Failed 000000474164.jpg: short_edge_length must be two values using 'range' sample style. Got [640, 672, 704, 736, 768, 800]!\n",
      "Failed 000000474167.jpg: short_edge_length must be two values using 'range' sample style. Got [640, 672, 704, 736, 768, 800]!\n"
     ]
    },
    {
     "name": "stderr",
     "output_type": "stream",
     "text": [
      "Extracting features:  82%|██████████████████████████████████████████████▉          | 4112/5000 [01:55<00:23, 37.52it/s]"
     ]
    },
    {
     "name": "stdout",
     "output_type": "stream",
     "text": [
      "Failed 000000474170.jpg: short_edge_length must be two values using 'range' sample style. Got [640, 672, 704, 736, 768, 800]!\n",
      "Failed 000000474293.jpg: short_edge_length must be two values using 'range' sample style. Got [640, 672, 704, 736, 768, 800]!\n",
      "Failed 000000474344.jpg: short_edge_length must be two values using 'range' sample style. Got [640, 672, 704, 736, 768, 800]!\n",
      "Failed 000000474452.jpg: short_edge_length must be two values using 'range' sample style. Got [640, 672, 704, 736, 768, 800]!\n",
      "Failed 000000474786.jpg: short_edge_length must be two values using 'range' sample style. Got [640, 672, 704, 736, 768, 800]!\n",
      "Failed 000000474854.jpg: short_edge_length must be two values using 'range' sample style. Got [640, 672, 704, 736, 768, 800]!\n",
      "Failed 000000474881.jpg: short_edge_length must be two values using 'range' sample style. Got [640, 672, 704, 736, 768, 800]!\n",
      "Failed 000000475064.jpg: short_edge_length must be two values using 'range' sample style. Got [640, 672, 704, 736, 768, 800]!\n"
     ]
    },
    {
     "name": "stderr",
     "output_type": "stream",
     "text": [
      "\r",
      "Extracting features:  82%|██████████████████████████████████████████████▉          | 4116/5000 [01:55<00:24, 36.76it/s]"
     ]
    },
    {
     "name": "stdout",
     "output_type": "stream",
     "text": [
      "Failed 000000475150.jpg: short_edge_length must be two values using 'range' sample style. Got [640, 672, 704, 736, 768, 800]!\n",
      "Failed 000000475191.jpg: short_edge_length must be two values using 'range' sample style. Got [640, 672, 704, 736, 768, 800]!\n",
      "Failed 000000475223.jpg: short_edge_length must be two values using 'range' sample style. Got [640, 672, 704, 736, 768, 800]!\n",
      "Failed 000000475365.jpg: short_edge_length must be two values using 'range' sample style. Got [640, 672, 704, 736, 768, 800]!\n",
      "Failed 000000475387.jpg: short_edge_length must be two values using 'range' sample style. Got [640, 672, 704, 736, 768, 800]!\n",
      "Failed 000000475484.jpg: short_edge_length must be two values using 'range' sample style. Got [640, 672, 704, 736, 768, 800]!\n",
      "Failed 000000475572.jpg: short_edge_length must be two values using 'range' sample style. Got [640, 672, 704, 736, 768, 800]!\n"
     ]
    },
    {
     "name": "stderr",
     "output_type": "stream",
     "text": [
      "Extracting features:  82%|███████████████████████████████████████████████          | 4124/5000 [01:55<00:23, 36.66it/s]"
     ]
    },
    {
     "name": "stdout",
     "output_type": "stream",
     "text": [
      "Failed 000000475678.jpg: short_edge_length must be two values using 'range' sample style. Got [640, 672, 704, 736, 768, 800]!\n",
      "Failed 000000475732.jpg: short_edge_length must be two values using 'range' sample style. Got [640, 672, 704, 736, 768, 800]!\n",
      "Failed 000000475779.jpg: short_edge_length must be two values using 'range' sample style. Got [640, 672, 704, 736, 768, 800]!\n",
      "Failed 000000475904.jpg: short_edge_length must be two values using 'range' sample style. Got [640, 672, 704, 736, 768, 800]!\n",
      "Failed 000000476119.jpg: short_edge_length must be two values using 'range' sample style. Got [640, 672, 704, 736, 768, 800]!\n",
      "Failed 000000476215.jpg: short_edge_length must be two values using 'range' sample style. Got [640, 672, 704, 736, 768, 800]!\n",
      "Failed 000000476258.jpg: short_edge_length must be two values using 'range' sample style. Got [640, 672, 704, 736, 768, 800]!\n",
      "Failed 000000476415.jpg: short_edge_length must be two values using 'range' sample style. Got [640, 672, 704, 736, 768, 800]!\n"
     ]
    },
    {
     "name": "stderr",
     "output_type": "stream",
     "text": [
      "Extracting features:  83%|███████████████████████████████████████████████          | 4132/5000 [01:55<00:22, 38.06it/s]"
     ]
    },
    {
     "name": "stdout",
     "output_type": "stream",
     "text": [
      "Failed 000000476491.jpg: short_edge_length must be two values using 'range' sample style. Got [640, 672, 704, 736, 768, 800]!\n",
      "Failed 000000476514.jpg: short_edge_length must be two values using 'range' sample style. Got [640, 672, 704, 736, 768, 800]!\n",
      "Failed 000000476704.jpg: short_edge_length must be two values using 'range' sample style. Got [640, 672, 704, 736, 768, 800]!\n",
      "Failed 000000476770.jpg: short_edge_length must be two values using 'range' sample style. Got [640, 672, 704, 736, 768, 800]!\n",
      "Failed 000000476787.jpg: short_edge_length must be two values using 'range' sample style. Got [640, 672, 704, 736, 768, 800]!\n",
      "Failed 000000476810.jpg: short_edge_length must be two values using 'range' sample style. Got [640, 672, 704, 736, 768, 800]!\n",
      "Failed 000000477118.jpg: short_edge_length must be two values using 'range' sample style. Got [640, 672, 704, 736, 768, 800]!\n",
      "Failed 000000477227.jpg: short_edge_length must be two values using 'range' sample style. Got [640, 672, 704, 736, 768, 800]!\n"
     ]
    },
    {
     "name": "stderr",
     "output_type": "stream",
     "text": [
      "Extracting features:  83%|███████████████████████████████████████████████▏         | 4140/5000 [01:55<00:23, 36.49it/s]"
     ]
    },
    {
     "name": "stdout",
     "output_type": "stream",
     "text": [
      "Failed 000000477288.jpg: short_edge_length must be two values using 'range' sample style. Got [640, 672, 704, 736, 768, 800]!\n",
      "Failed 000000477441.jpg: short_edge_length must be two values using 'range' sample style. Got [640, 672, 704, 736, 768, 800]!\n",
      "Failed 000000477623.jpg: short_edge_length must be two values using 'range' sample style. Got [640, 672, 704, 736, 768, 800]!\n",
      "Failed 000000477689.jpg: short_edge_length must be two values using 'range' sample style. Got [640, 672, 704, 736, 768, 800]!\n",
      "Failed 000000477805.jpg: short_edge_length must be two values using 'range' sample style. Got [640, 672, 704, 736, 768, 800]!\n",
      "Failed 000000477955.jpg: short_edge_length must be two values using 'range' sample style. Got [640, 672, 704, 736, 768, 800]!\n",
      "Failed 000000478136.jpg: short_edge_length must be two values using 'range' sample style. Got [640, 672, 704, 736, 768, 800]!\n"
     ]
    },
    {
     "name": "stderr",
     "output_type": "stream",
     "text": [
      "Extracting features:  83%|███████████████████████████████████████████████▎         | 4148/5000 [01:56<00:24, 34.74it/s]"
     ]
    },
    {
     "name": "stdout",
     "output_type": "stream",
     "text": [
      "Failed 000000478286.jpg: short_edge_length must be two values using 'range' sample style. Got [640, 672, 704, 736, 768, 800]!\n",
      "Failed 000000478393.jpg: short_edge_length must be two values using 'range' sample style. Got [640, 672, 704, 736, 768, 800]!\n",
      "Failed 000000478420.jpg: short_edge_length must be two values using 'range' sample style. Got [640, 672, 704, 736, 768, 800]!\n",
      "Failed 000000478474.jpg: short_edge_length must be two values using 'range' sample style. Got [640, 672, 704, 736, 768, 800]!\n",
      "Failed 000000478721.jpg: short_edge_length must be two values using 'range' sample style. Got [640, 672, 704, 736, 768, 800]!\n",
      "Failed 000000478862.jpg: short_edge_length must be two values using 'range' sample style. Got [640, 672, 704, 736, 768, 800]!\n",
      "Failed 000000479030.jpg: short_edge_length must be two values using 'range' sample style. Got [640, 672, 704, 736, 768, 800]!\n"
     ]
    },
    {
     "name": "stderr",
     "output_type": "stream",
     "text": [
      "\r",
      "Extracting features:  83%|███████████████████████████████████████████████▎         | 4152/5000 [01:56<00:25, 33.01it/s]"
     ]
    },
    {
     "name": "stdout",
     "output_type": "stream",
     "text": [
      "Failed 000000479099.jpg: short_edge_length must be two values using 'range' sample style. Got [640, 672, 704, 736, 768, 800]!\n",
      "Failed 000000479126.jpg: short_edge_length must be two values using 'range' sample style. Got [640, 672, 704, 736, 768, 800]!\n",
      "Failed 000000479155.jpg: short_edge_length must be two values using 'range' sample style. Got [640, 672, 704, 736, 768, 800]!\n",
      "Failed 000000479248.jpg: short_edge_length must be two values using 'range' sample style. Got [640, 672, 704, 736, 768, 800]!\n",
      "Failed 000000479448.jpg: short_edge_length must be two values using 'range' sample style. Got [640, 672, 704, 736, 768, 800]!\n",
      "Failed 000000479596.jpg: short_edge_length must be two values using 'range' sample style. Got [640, 672, 704, 736, 768, 800]!\n",
      "Failed 000000479732.jpg: short_edge_length must be two values using 'range' sample style. Got [640, 672, 704, 736, 768, 800]!\n"
     ]
    },
    {
     "name": "stderr",
     "output_type": "stream",
     "text": [
      "Extracting features:  83%|███████████████████████████████████████████████▍         | 4160/5000 [01:56<00:25, 33.31it/s]"
     ]
    },
    {
     "name": "stdout",
     "output_type": "stream",
     "text": [
      "Failed 000000479912.jpg: short_edge_length must be two values using 'range' sample style. Got [640, 672, 704, 736, 768, 800]!\n",
      "Failed 000000479953.jpg: short_edge_length must be two values using 'range' sample style. Got [640, 672, 704, 736, 768, 800]!\n",
      "Failed 000000480021.jpg: short_edge_length must be two values using 'range' sample style. Got [640, 672, 704, 736, 768, 800]!\n",
      "Failed 000000480122.jpg: short_edge_length must be two values using 'range' sample style. Got [640, 672, 704, 736, 768, 800]!\n",
      "Failed 000000480212.jpg: short_edge_length must be two values using 'range' sample style. Got [640, 672, 704, 736, 768, 800]!\n",
      "Failed 000000480275.jpg: short_edge_length must be two values using 'range' sample style. Got [640, 672, 704, 736, 768, 800]!\n"
     ]
    },
    {
     "name": "stderr",
     "output_type": "stream",
     "text": [
      "Extracting features:  83%|███████████████████████████████████████████████▌         | 4168/5000 [01:56<00:27, 30.75it/s]"
     ]
    },
    {
     "name": "stdout",
     "output_type": "stream",
     "text": [
      "Failed 000000480842.jpg: short_edge_length must be two values using 'range' sample style. Got [640, 672, 704, 736, 768, 800]!\n",
      "Failed 000000480936.jpg: short_edge_length must be two values using 'range' sample style. Got [640, 672, 704, 736, 768, 800]!\n",
      "Failed 000000480944.jpg: short_edge_length must be two values using 'range' sample style. Got [640, 672, 704, 736, 768, 800]!\n",
      "Failed 000000480985.jpg: short_edge_length must be two values using 'range' sample style. Got [640, 672, 704, 736, 768, 800]!\n",
      "Failed 000000481159.jpg: short_edge_length must be two values using 'range' sample style. Got [640, 672, 704, 736, 768, 800]!\n",
      "Failed 000000481386.jpg: short_edge_length must be two values using 'range' sample style. Got [640, 672, 704, 736, 768, 800]!\n",
      "Failed 000000481390.jpg: short_edge_length must be two values using 'range' sample style. Got [640, 672, 704, 736, 768, 800]!\n"
     ]
    },
    {
     "name": "stderr",
     "output_type": "stream",
     "text": [
      "Extracting features:  84%|███████████████████████████████████████████████▌         | 4176/5000 [01:57<00:25, 32.53it/s]"
     ]
    },
    {
     "name": "stdout",
     "output_type": "stream",
     "text": [
      "Failed 000000481404.jpg: short_edge_length must be two values using 'range' sample style. Got [640, 672, 704, 736, 768, 800]!\n",
      "Failed 000000481413.jpg: short_edge_length must be two values using 'range' sample style. Got [640, 672, 704, 736, 768, 800]!\n",
      "Failed 000000481480.jpg: short_edge_length must be two values using 'range' sample style. Got [640, 672, 704, 736, 768, 800]!\n",
      "Failed 000000481567.jpg: short_edge_length must be two values using 'range' sample style. Got [640, 672, 704, 736, 768, 800]!\n",
      "Failed 000000481573.jpg: short_edge_length must be two values using 'range' sample style. Got [640, 672, 704, 736, 768, 800]!\n",
      "Failed 000000481582.jpg: short_edge_length must be two values using 'range' sample style. Got [640, 672, 704, 736, 768, 800]!\n",
      "Failed 000000482100.jpg: short_edge_length must be two values using 'range' sample style. Got [640, 672, 704, 736, 768, 800]!\n",
      "Failed 000000482275.jpg: short_edge_length must be two values using 'range' sample style. Got [640, 672, 704, 736, 768, 800]!\n"
     ]
    },
    {
     "name": "stderr",
     "output_type": "stream",
     "text": [
      "Extracting features:  84%|███████████████████████████████████████████████▋         | 4185/5000 [01:57<00:23, 34.22it/s]"
     ]
    },
    {
     "name": "stdout",
     "output_type": "stream",
     "text": [
      "Failed 000000482319.jpg: short_edge_length must be two values using 'range' sample style. Got [640, 672, 704, 736, 768, 800]!\n",
      "Failed 000000482436.jpg: short_edge_length must be two values using 'range' sample style. Got [640, 672, 704, 736, 768, 800]!\n",
      "Failed 000000482477.jpg: short_edge_length must be two values using 'range' sample style. Got [640, 672, 704, 736, 768, 800]!\n",
      "Failed 000000482487.jpg: short_edge_length must be two values using 'range' sample style. Got [640, 672, 704, 736, 768, 800]!\n",
      "Failed 000000482585.jpg: short_edge_length must be two values using 'range' sample style. Got [640, 672, 704, 736, 768, 800]!\n",
      "Failed 000000482719.jpg: short_edge_length must be two values using 'range' sample style. Got [640, 672, 704, 736, 768, 800]!\n",
      "Failed 000000482735.jpg: short_edge_length must be two values using 'range' sample style. Got [640, 672, 704, 736, 768, 800]!\n",
      "Failed 000000482800.jpg: short_edge_length must be two values using 'range' sample style. Got [640, 672, 704, 736, 768, 800]!\n"
     ]
    },
    {
     "name": "stderr",
     "output_type": "stream",
     "text": [
      "Extracting features:  84%|███████████████████████████████████████████████▊         | 4193/5000 [01:57<00:22, 36.46it/s]"
     ]
    },
    {
     "name": "stdout",
     "output_type": "stream",
     "text": [
      "Failed 000000482917.jpg: short_edge_length must be two values using 'range' sample style. Got [640, 672, 704, 736, 768, 800]!\n",
      "Failed 000000482970.jpg: short_edge_length must be two values using 'range' sample style. Got [640, 672, 704, 736, 768, 800]!\n",
      "Failed 000000482978.jpg: short_edge_length must be two values using 'range' sample style. Got [640, 672, 704, 736, 768, 800]!\n",
      "Failed 000000483050.jpg: short_edge_length must be two values using 'range' sample style. Got [640, 672, 704, 736, 768, 800]!\n",
      "Failed 000000483531.jpg: short_edge_length must be two values using 'range' sample style. Got [640, 672, 704, 736, 768, 800]!\n",
      "Failed 000000483667.jpg: short_edge_length must be two values using 'range' sample style. Got [640, 672, 704, 736, 768, 800]!\n",
      "Failed 000000483999.jpg: short_edge_length must be two values using 'range' sample style. Got [640, 672, 704, 736, 768, 800]!\n",
      "Failed 000000484029.jpg: short_edge_length must be two values using 'range' sample style. Got [640, 672, 704, 736, 768, 800]!\n"
     ]
    },
    {
     "name": "stderr",
     "output_type": "stream",
     "text": [
      "\r",
      "Extracting features:  84%|███████████████████████████████████████████████▊         | 4197/5000 [01:57<00:22, 35.74it/s]"
     ]
    },
    {
     "name": "stdout",
     "output_type": "stream",
     "text": [
      "Failed 000000484296.jpg: short_edge_length must be two values using 'range' sample style. Got [640, 672, 704, 736, 768, 800]!\n",
      "Failed 000000484351.jpg: short_edge_length must be two values using 'range' sample style. Got [640, 672, 704, 736, 768, 800]!\n",
      "Failed 000000484404.jpg: short_edge_length must be two values using 'range' sample style. Got [640, 672, 704, 736, 768, 800]!\n",
      "Failed 000000484415.jpg: short_edge_length must be two values using 'range' sample style. Got [640, 672, 704, 736, 768, 800]!\n",
      "Failed 000000484760.jpg: short_edge_length must be two values using 'range' sample style. Got [640, 672, 704, 736, 768, 800]!\n",
      "Failed 000000484893.jpg: short_edge_length must be two values using 'range' sample style. Got [640, 672, 704, 736, 768, 800]!\n",
      "Failed 000000484978.jpg: short_edge_length must be two values using 'range' sample style. Got [640, 672, 704, 736, 768, 800]!\n"
     ]
    },
    {
     "name": "stderr",
     "output_type": "stream",
     "text": [
      "Extracting features:  84%|███████████████████████████████████████████████▉         | 4205/5000 [01:57<00:22, 35.23it/s]"
     ]
    },
    {
     "name": "stdout",
     "output_type": "stream",
     "text": [
      "Failed 000000485027.jpg: short_edge_length must be two values using 'range' sample style. Got [640, 672, 704, 736, 768, 800]!\n",
      "Failed 000000485071.jpg: short_edge_length must be two values using 'range' sample style. Got [640, 672, 704, 736, 768, 800]!\n",
      "Failed 000000485130.jpg: short_edge_length must be two values using 'range' sample style. Got [640, 672, 704, 736, 768, 800]!\n",
      "Failed 000000485237.jpg: short_edge_length must be two values using 'range' sample style. Got [640, 672, 704, 736, 768, 800]!\n",
      "Failed 000000485424.jpg: short_edge_length must be two values using 'range' sample style. Got [640, 672, 704, 736, 768, 800]!\n",
      "Failed 000000485480.jpg: short_edge_length must be two values using 'range' sample style. Got [640, 672, 704, 736, 768, 800]!\n",
      "Failed 000000485802.jpg: short_edge_length must be two values using 'range' sample style. Got [640, 672, 704, 736, 768, 800]!\n",
      "Failed 000000485844.jpg: short_edge_length must be two values using 'range' sample style. Got [640, 672, 704, 736, 768, 800]!\n",
      "Failed 000000485895.jpg: short_edge_length must be two values using 'range' sample style. Got [640, 672, 704, 736, 768, 800]!\n"
     ]
    },
    {
     "name": "stderr",
     "output_type": "stream",
     "text": [
      "Extracting features:  84%|████████████████████████████████████████████████         | 4214/5000 [01:58<00:21, 36.25it/s]"
     ]
    },
    {
     "name": "stdout",
     "output_type": "stream",
     "text": [
      "Failed 000000485972.jpg: short_edge_length must be two values using 'range' sample style. Got [640, 672, 704, 736, 768, 800]!\n",
      "Failed 000000486040.jpg: short_edge_length must be two values using 'range' sample style. Got [640, 672, 704, 736, 768, 800]!\n",
      "Failed 000000486046.jpg: short_edge_length must be two values using 'range' sample style. Got [640, 672, 704, 736, 768, 800]!\n",
      "Failed 000000486104.jpg: short_edge_length must be two values using 'range' sample style. Got [640, 672, 704, 736, 768, 800]!\n",
      "Failed 000000486112.jpg: short_edge_length must be two values using 'range' sample style. Got [640, 672, 704, 736, 768, 800]!\n",
      "Failed 000000486438.jpg: short_edge_length must be two values using 'range' sample style. Got [640, 672, 704, 736, 768, 800]!\n",
      "Failed 000000486479.jpg: short_edge_length must be two values using 'range' sample style. Got [640, 672, 704, 736, 768, 800]!\n",
      "Failed 000000486573.jpg: short_edge_length must be two values using 'range' sample style. Got [640, 672, 704, 736, 768, 800]!\n"
     ]
    },
    {
     "name": "stderr",
     "output_type": "stream",
     "text": [
      "Extracting features:  84%|████████████████████████████████████████████████▏        | 4223/5000 [01:58<00:21, 36.46it/s]"
     ]
    },
    {
     "name": "stdout",
     "output_type": "stream",
     "text": [
      "Failed 000000487583.jpg: short_edge_length must be two values using 'range' sample style. Got [640, 672, 704, 736, 768, 800]!\n",
      "Failed 000000488075.jpg: short_edge_length must be two values using 'range' sample style. Got [640, 672, 704, 736, 768, 800]!\n",
      "Failed 000000488166.jpg: short_edge_length must be two values using 'range' sample style. Got [640, 672, 704, 736, 768, 800]!\n",
      "Failed 000000488251.jpg: short_edge_length must be two values using 'range' sample style. Got [640, 672, 704, 736, 768, 800]!\n",
      "Failed 000000488270.jpg: short_edge_length must be two values using 'range' sample style. Got [640, 672, 704, 736, 768, 800]!\n",
      "Failed 000000488385.jpg: short_edge_length must be two values using 'range' sample style. Got [640, 672, 704, 736, 768, 800]!\n",
      "Failed 000000488592.jpg: short_edge_length must be two values using 'range' sample style. Got [640, 672, 704, 736, 768, 800]!\n",
      "Failed 000000488664.jpg: short_edge_length must be two values using 'range' sample style. Got [640, 672, 704, 736, 768, 800]!\n"
     ]
    },
    {
     "name": "stderr",
     "output_type": "stream",
     "text": [
      "Extracting features:  85%|████████████████████████████████████████████████▏        | 4231/5000 [01:58<00:20, 37.23it/s]"
     ]
    },
    {
     "name": "stdout",
     "output_type": "stream",
     "text": [
      "Failed 000000488673.jpg: short_edge_length must be two values using 'range' sample style. Got [640, 672, 704, 736, 768, 800]!\n",
      "Failed 000000488710.jpg: short_edge_length must be two values using 'range' sample style. Got [640, 672, 704, 736, 768, 800]!\n",
      "Failed 000000488736.jpg: short_edge_length must be two values using 'range' sample style. Got [640, 672, 704, 736, 768, 800]!\n",
      "Failed 000000489014.jpg: short_edge_length must be two values using 'range' sample style. Got [640, 672, 704, 736, 768, 800]!\n",
      "Failed 000000489046.jpg: short_edge_length must be two values using 'range' sample style. Got [640, 672, 704, 736, 768, 800]!\n",
      "Failed 000000489091.jpg: short_edge_length must be two values using 'range' sample style. Got [640, 672, 704, 736, 768, 800]!\n",
      "Failed 000000489305.jpg: short_edge_length must be two values using 'range' sample style. Got [640, 672, 704, 736, 768, 800]!\n",
      "Failed 000000489339.jpg: short_edge_length must be two values using 'range' sample style. Got [640, 672, 704, 736, 768, 800]!\n",
      "Failed 000000489611.jpg: short_edge_length must be two values using 'range' sample style. Got [640, 672, 704, 736, 768, 800]!\n"
     ]
    },
    {
     "name": "stderr",
     "output_type": "stream",
     "text": [
      "Extracting features:  85%|████████████████████████████████████████████████▎        | 4241/5000 [01:58<00:19, 38.23it/s]"
     ]
    },
    {
     "name": "stdout",
     "output_type": "stream",
     "text": [
      "Failed 000000489764.jpg: short_edge_length must be two values using 'range' sample style. Got [640, 672, 704, 736, 768, 800]!\n",
      "Failed 000000489842.jpg: short_edge_length must be two values using 'range' sample style. Got [640, 672, 704, 736, 768, 800]!\n",
      "Failed 000000489924.jpg: short_edge_length must be two values using 'range' sample style. Got [640, 672, 704, 736, 768, 800]!\n",
      "Failed 000000490125.jpg: short_edge_length must be two values using 'range' sample style. Got [640, 672, 704, 736, 768, 800]!\n",
      "Failed 000000490171.jpg: short_edge_length must be two values using 'range' sample style. Got [640, 672, 704, 736, 768, 800]!\n",
      "Failed 000000490413.jpg: short_edge_length must be two values using 'range' sample style. Got [640, 672, 704, 736, 768, 800]!\n",
      "Failed 000000490470.jpg: short_edge_length must be two values using 'range' sample style. Got [640, 672, 704, 736, 768, 800]!\n",
      "Failed 000000490515.jpg: short_edge_length must be two values using 'range' sample style. Got [640, 672, 704, 736, 768, 800]!\n",
      "Failed 000000490936.jpg: short_edge_length must be two values using 'range' sample style. Got [640, 672, 704, 736, 768, 800]!\n"
     ]
    },
    {
     "name": "stderr",
     "output_type": "stream",
     "text": [
      "Extracting features:  85%|████████████████████████████████████████████████▍        | 4249/5000 [01:59<00:20, 36.94it/s]"
     ]
    },
    {
     "name": "stdout",
     "output_type": "stream",
     "text": [
      "Failed 000000491008.jpg: short_edge_length must be two values using 'range' sample style. Got [640, 672, 704, 736, 768, 800]!\n",
      "Failed 000000491071.jpg: short_edge_length must be two values using 'range' sample style. Got [640, 672, 704, 736, 768, 800]!\n",
      "Failed 000000491090.jpg: short_edge_length must be two values using 'range' sample style. Got [640, 672, 704, 736, 768, 800]!\n",
      "Failed 000000491130.jpg: short_edge_length must be two values using 'range' sample style. Got [640, 672, 704, 736, 768, 800]!\n",
      "Failed 000000491213.jpg: short_edge_length must be two values using 'range' sample style. Got [640, 672, 704, 736, 768, 800]!\n",
      "Failed 000000491216.jpg: short_edge_length must be two values using 'range' sample style. Got [640, 672, 704, 736, 768, 800]!\n",
      "Failed 000000491366.jpg: short_edge_length must be two values using 'range' sample style. Got [640, 672, 704, 736, 768, 800]!\n",
      "Failed 000000491464.jpg: short_edge_length must be two values using 'range' sample style. Got [640, 672, 704, 736, 768, 800]!\n"
     ]
    },
    {
     "name": "stderr",
     "output_type": "stream",
     "text": [
      "Extracting features:  85%|████████████████████████████████████████████████▌        | 4259/5000 [01:59<00:19, 37.72it/s]"
     ]
    },
    {
     "name": "stdout",
     "output_type": "stream",
     "text": [
      "Failed 000000491470.jpg: short_edge_length must be two values using 'range' sample style. Got [640, 672, 704, 736, 768, 800]!\n",
      "Failed 000000491497.jpg: short_edge_length must be two values using 'range' sample style. Got [640, 672, 704, 736, 768, 800]!\n",
      "Failed 000000491613.jpg: short_edge_length must be two values using 'range' sample style. Got [640, 672, 704, 736, 768, 800]!\n",
      "Failed 000000491683.jpg: short_edge_length must be two values using 'range' sample style. Got [640, 672, 704, 736, 768, 800]!\n",
      "Failed 000000491725.jpg: short_edge_length must be two values using 'range' sample style. Got [640, 672, 704, 736, 768, 800]!\n",
      "Failed 000000491757.jpg: short_edge_length must be two values using 'range' sample style. Got [640, 672, 704, 736, 768, 800]!\n",
      "Failed 000000491867.jpg: short_edge_length must be two values using 'range' sample style. Got [640, 672, 704, 736, 768, 800]!\n",
      "Failed 000000492077.jpg: short_edge_length must be two values using 'range' sample style. Got [640, 672, 704, 736, 768, 800]!\n"
     ]
    },
    {
     "name": "stderr",
     "output_type": "stream",
     "text": [
      "\r",
      "Extracting features:  85%|████████████████████████████████████████████████▌        | 4263/5000 [01:59<00:19, 37.76it/s]"
     ]
    },
    {
     "name": "stdout",
     "output_type": "stream",
     "text": [
      "Failed 000000492110.jpg: short_edge_length must be two values using 'range' sample style. Got [640, 672, 704, 736, 768, 800]!\n",
      "Failed 000000492282.jpg: short_edge_length must be two values using 'range' sample style. Got [640, 672, 704, 736, 768, 800]!\n",
      "Failed 000000492284.jpg: short_edge_length must be two values using 'range' sample style. Got [640, 672, 704, 736, 768, 800]!\n",
      "Failed 000000492362.jpg: short_edge_length must be two values using 'range' sample style. Got [640, 672, 704, 736, 768, 800]!\n",
      "Failed 000000492758.jpg: short_edge_length must be two values using 'range' sample style. Got [640, 672, 704, 736, 768, 800]!\n",
      "Failed 000000492878.jpg: short_edge_length must be two values using 'range' sample style. Got [640, 672, 704, 736, 768, 800]!\n",
      "Failed 000000492905.jpg: short_edge_length must be two values using 'range' sample style. Got [640, 672, 704, 736, 768, 800]!\n"
     ]
    },
    {
     "name": "stderr",
     "output_type": "stream",
     "text": [
      "Extracting features:  85%|████████████████████████████████████████████████▋        | 4271/5000 [01:59<00:19, 36.56it/s]"
     ]
    },
    {
     "name": "stdout",
     "output_type": "stream",
     "text": [
      "Failed 000000492937.jpg: short_edge_length must be two values using 'range' sample style. Got [640, 672, 704, 736, 768, 800]!\n",
      "Failed 000000492968.jpg: short_edge_length must be two values using 'range' sample style. Got [640, 672, 704, 736, 768, 800]!\n",
      "Failed 000000492992.jpg: short_edge_length must be two values using 'range' sample style. Got [640, 672, 704, 736, 768, 800]!\n",
      "Failed 000000493019.jpg: short_edge_length must be two values using 'range' sample style. Got [640, 672, 704, 736, 768, 800]!\n",
      "Failed 000000493284.jpg: short_edge_length must be two values using 'range' sample style. Got [640, 672, 704, 736, 768, 800]!\n",
      "Failed 000000493286.jpg: short_edge_length must be two values using 'range' sample style. Got [640, 672, 704, 736, 768, 800]!\n",
      "Failed 000000493334.jpg: short_edge_length must be two values using 'range' sample style. Got [640, 672, 704, 736, 768, 800]!\n",
      "Failed 000000493442.jpg: short_edge_length must be two values using 'range' sample style. Got [640, 672, 704, 736, 768, 800]!\n"
     ]
    },
    {
     "name": "stderr",
     "output_type": "stream",
     "text": [
      "Extracting features:  86%|████████████████████████████████████████████████▊        | 4279/5000 [01:59<00:21, 33.99it/s]"
     ]
    },
    {
     "name": "stdout",
     "output_type": "stream",
     "text": [
      "Failed 000000493566.jpg: short_edge_length must be two values using 'range' sample style. Got [640, 672, 704, 736, 768, 800]!\n",
      "Failed 000000493613.jpg: short_edge_length must be two values using 'range' sample style. Got [640, 672, 704, 736, 768, 800]!\n",
      "Failed 000000493772.jpg: short_edge_length must be two values using 'range' sample style. Got [640, 672, 704, 736, 768, 800]!\n",
      "Failed 000000493799.jpg: short_edge_length must be two values using 'range' sample style. Got [640, 672, 704, 736, 768, 800]!\n",
      "Failed 000000493864.jpg: short_edge_length must be two values using 'range' sample style. Got [640, 672, 704, 736, 768, 800]!\n",
      "Failed 000000493905.jpg: short_edge_length must be two values using 'range' sample style. Got [640, 672, 704, 736, 768, 800]!\n"
     ]
    },
    {
     "name": "stderr",
     "output_type": "stream",
     "text": [
      "Extracting features:  86%|████████████████████████████████████████████████▊        | 4287/5000 [02:00<00:20, 34.96it/s]"
     ]
    },
    {
     "name": "stdout",
     "output_type": "stream",
     "text": [
      "Failed 000000494188.jpg: short_edge_length must be two values using 'range' sample style. Got [640, 672, 704, 736, 768, 800]!\n",
      "Failed 000000494427.jpg: short_edge_length must be two values using 'range' sample style. Got [640, 672, 704, 736, 768, 800]!\n",
      "Failed 000000494634.jpg: short_edge_length must be two values using 'range' sample style. Got [640, 672, 704, 736, 768, 800]!\n",
      "Failed 000000494759.jpg: short_edge_length must be two values using 'range' sample style. Got [640, 672, 704, 736, 768, 800]!\n",
      "Failed 000000494863.jpg: short_edge_length must be two values using 'range' sample style. Got [640, 672, 704, 736, 768, 800]!\n",
      "Failed 000000494869.jpg: short_edge_length must be two values using 'range' sample style. Got [640, 672, 704, 736, 768, 800]!\n",
      "Failed 000000494913.jpg: short_edge_length must be two values using 'range' sample style. Got [640, 672, 704, 736, 768, 800]!\n",
      "Failed 000000495054.jpg: short_edge_length must be two values using 'range' sample style. Got [640, 672, 704, 736, 768, 800]!\n"
     ]
    },
    {
     "name": "stderr",
     "output_type": "stream",
     "text": [
      "Extracting features:  86%|████████████████████████████████████████████████▉        | 4295/5000 [02:00<00:20, 34.51it/s]"
     ]
    },
    {
     "name": "stdout",
     "output_type": "stream",
     "text": [
      "Failed 000000495146.jpg: short_edge_length must be two values using 'range' sample style. Got [640, 672, 704, 736, 768, 800]!\n",
      "Failed 000000495448.jpg: short_edge_length must be two values using 'range' sample style. Got [640, 672, 704, 736, 768, 800]!\n",
      "Failed 000000495732.jpg: short_edge_length must be two values using 'range' sample style. Got [640, 672, 704, 736, 768, 800]!\n",
      "Failed 000000496409.jpg: short_edge_length must be two values using 'range' sample style. Got [640, 672, 704, 736, 768, 800]!\n",
      "Failed 000000496571.jpg: short_edge_length must be two values using 'range' sample style. Got [640, 672, 704, 736, 768, 800]!\n",
      "Failed 000000496597.jpg: short_edge_length must be two values using 'range' sample style. Got [640, 672, 704, 736, 768, 800]!\n",
      "Failed 000000496722.jpg: short_edge_length must be two values using 'range' sample style. Got [640, 672, 704, 736, 768, 800]!\n"
     ]
    },
    {
     "name": "stderr",
     "output_type": "stream",
     "text": [
      "Extracting features:  86%|█████████████████████████████████████████████████        | 4303/5000 [02:00<00:20, 34.39it/s]"
     ]
    },
    {
     "name": "stdout",
     "output_type": "stream",
     "text": [
      "Failed 000000496854.jpg: short_edge_length must be two values using 'range' sample style. Got [640, 672, 704, 736, 768, 800]!\n",
      "Failed 000000496954.jpg: short_edge_length must be two values using 'range' sample style. Got [640, 672, 704, 736, 768, 800]!\n",
      "Failed 000000497344.jpg: short_edge_length must be two values using 'range' sample style. Got [640, 672, 704, 736, 768, 800]!\n",
      "Failed 000000497568.jpg: short_edge_length must be two values using 'range' sample style. Got [640, 672, 704, 736, 768, 800]!\n",
      "Failed 000000497599.jpg: short_edge_length must be two values using 'range' sample style. Got [640, 672, 704, 736, 768, 800]!\n",
      "Failed 000000497628.jpg: short_edge_length must be two values using 'range' sample style. Got [640, 672, 704, 736, 768, 800]!\n",
      "Failed 000000497867.jpg: short_edge_length must be two values using 'range' sample style. Got [640, 672, 704, 736, 768, 800]!\n",
      "Failed 000000498032.jpg: short_edge_length must be two values using 'range' sample style. Got [640, 672, 704, 736, 768, 800]!\n"
     ]
    },
    {
     "name": "stderr",
     "output_type": "stream",
     "text": [
      "Extracting features:  86%|█████████████████████████████████████████████████▏       | 4311/5000 [02:00<00:19, 34.78it/s]"
     ]
    },
    {
     "name": "stdout",
     "output_type": "stream",
     "text": [
      "Failed 000000498286.jpg: short_edge_length must be two values using 'range' sample style. Got [640, 672, 704, 736, 768, 800]!\n",
      "Failed 000000498463.jpg: short_edge_length must be two values using 'range' sample style. Got [640, 672, 704, 736, 768, 800]!\n",
      "Failed 000000498709.jpg: short_edge_length must be two values using 'range' sample style. Got [640, 672, 704, 736, 768, 800]!\n",
      "Failed 000000498747.jpg: short_edge_length must be two values using 'range' sample style. Got [640, 672, 704, 736, 768, 800]!\n",
      "Failed 000000498807.jpg: short_edge_length must be two values using 'range' sample style. Got [640, 672, 704, 736, 768, 800]!\n",
      "Failed 000000498857.jpg: short_edge_length must be two values using 'range' sample style. Got [640, 672, 704, 736, 768, 800]!\n",
      "Failed 000000498919.jpg: short_edge_length must be two values using 'range' sample style. Got [640, 672, 704, 736, 768, 800]!\n",
      "Failed 000000499031.jpg: short_edge_length must be two values using 'range' sample style. Got [640, 672, 704, 736, 768, 800]!\n"
     ]
    },
    {
     "name": "stderr",
     "output_type": "stream",
     "text": [
      "\r",
      "Extracting features:  86%|█████████████████████████████████████████████████▏       | 4315/5000 [02:00<00:20, 34.24it/s]"
     ]
    },
    {
     "name": "stdout",
     "output_type": "stream",
     "text": [
      "Failed 000000499109.jpg: short_edge_length must be two values using 'range' sample style. Got [640, 672, 704, 736, 768, 800]!\n",
      "Failed 000000499181.jpg: short_edge_length must be two values using 'range' sample style. Got [640, 672, 704, 736, 768, 800]!\n",
      "Failed 000000499266.jpg: short_edge_length must be two values using 'range' sample style. Got [640, 672, 704, 736, 768, 800]!\n",
      "Failed 000000499313.jpg: short_edge_length must be two values using 'range' sample style. Got [640, 672, 704, 736, 768, 800]!\n",
      "Failed 000000499622.jpg: short_edge_length must be two values using 'range' sample style. Got [640, 672, 704, 736, 768, 800]!\n",
      "Failed 000000499768.jpg: short_edge_length must be two values using 'range' sample style. Got [640, 672, 704, 736, 768, 800]!\n",
      "Failed 000000499775.jpg: short_edge_length must be two values using 'range' sample style. Got [640, 672, 704, 736, 768, 800]!\n"
     ]
    },
    {
     "name": "stderr",
     "output_type": "stream",
     "text": [
      "Extracting features:  86%|█████████████████████████████████████████████████▎       | 4323/5000 [02:01<00:19, 35.06it/s]"
     ]
    },
    {
     "name": "stdout",
     "output_type": "stream",
     "text": [
      "Failed 000000500049.jpg: short_edge_length must be two values using 'range' sample style. Got [640, 672, 704, 736, 768, 800]!\n",
      "Failed 000000500211.jpg: short_edge_length must be two values using 'range' sample style. Got [640, 672, 704, 736, 768, 800]!\n",
      "Failed 000000500257.jpg: short_edge_length must be two values using 'range' sample style. Got [640, 672, 704, 736, 768, 800]!\n",
      "Failed 000000500270.jpg: short_edge_length must be two values using 'range' sample style. Got [640, 672, 704, 736, 768, 800]!\n",
      "Failed 000000500423.jpg: short_edge_length must be two values using 'range' sample style. Got [640, 672, 704, 736, 768, 800]!\n",
      "Failed 000000500464.jpg: short_edge_length must be two values using 'range' sample style. Got [640, 672, 704, 736, 768, 800]!\n",
      "Failed 000000500477.jpg: short_edge_length must be two values using 'range' sample style. Got [640, 672, 704, 736, 768, 800]!\n"
     ]
    },
    {
     "name": "stderr",
     "output_type": "stream",
     "text": [
      "Extracting features:  87%|█████████████████████████████████████████████████▍       | 4332/5000 [02:01<00:19, 35.10it/s]"
     ]
    },
    {
     "name": "stdout",
     "output_type": "stream",
     "text": [
      "Failed 000000500478.jpg: short_edge_length must be two values using 'range' sample style. Got [640, 672, 704, 736, 768, 800]!\n",
      "Failed 000000500565.jpg: short_edge_length must be two values using 'range' sample style. Got [640, 672, 704, 736, 768, 800]!\n",
      "Failed 000000500613.jpg: short_edge_length must be two values using 'range' sample style. Got [640, 672, 704, 736, 768, 800]!\n",
      "Failed 000000500663.jpg: short_edge_length must be two values using 'range' sample style. Got [640, 672, 704, 736, 768, 800]!\n",
      "Failed 000000500716.jpg: short_edge_length must be two values using 'range' sample style. Got [640, 672, 704, 736, 768, 800]!\n",
      "Failed 000000500826.jpg: short_edge_length must be two values using 'range' sample style. Got [640, 672, 704, 736, 768, 800]!\n",
      "Failed 000000501005.jpg: short_edge_length must be two values using 'range' sample style. Got [640, 672, 704, 736, 768, 800]!\n",
      "Failed 000000501023.jpg: short_edge_length must be two values using 'range' sample style. Got [640, 672, 704, 736, 768, 800]!\n"
     ]
    },
    {
     "name": "stderr",
     "output_type": "stream",
     "text": [
      "Extracting features:  87%|█████████████████████████████████████████████████▍       | 4340/5000 [02:01<00:19, 34.40it/s]"
     ]
    },
    {
     "name": "stdout",
     "output_type": "stream",
     "text": [
      "Failed 000000501243.jpg: short_edge_length must be two values using 'range' sample style. Got [640, 672, 704, 736, 768, 800]!\n",
      "Failed 000000501368.jpg: short_edge_length must be two values using 'range' sample style. Got [640, 672, 704, 736, 768, 800]!\n",
      "Failed 000000501523.jpg: short_edge_length must be two values using 'range' sample style. Got [640, 672, 704, 736, 768, 800]!\n",
      "Failed 000000502136.jpg: short_edge_length must be two values using 'range' sample style. Got [640, 672, 704, 736, 768, 800]!\n",
      "Failed 000000502168.jpg: short_edge_length must be two values using 'range' sample style. Got [640, 672, 704, 736, 768, 800]!\n",
      "Failed 000000502229.jpg: short_edge_length must be two values using 'range' sample style. Got [640, 672, 704, 736, 768, 800]!\n",
      "Failed 000000502336.jpg: short_edge_length must be two values using 'range' sample style. Got [640, 672, 704, 736, 768, 800]!\n",
      "Failed 000000502347.jpg: short_edge_length must be two values using 'range' sample style. Got [640, 672, 704, 736, 768, 800]!\n"
     ]
    },
    {
     "name": "stderr",
     "output_type": "stream",
     "text": [
      "\r",
      "Extracting features:  87%|█████████████████████████████████████████████████▌       | 4345/5000 [02:01<00:18, 36.26it/s]"
     ]
    },
    {
     "name": "stdout",
     "output_type": "stream",
     "text": [
      "Failed 000000502599.jpg: short_edge_length must be two values using 'range' sample style. Got [640, 672, 704, 736, 768, 800]!\n",
      "Failed 000000502732.jpg: short_edge_length must be two values using 'range' sample style. Got [640, 672, 704, 736, 768, 800]!\n",
      "Failed 000000502737.jpg: short_edge_length must be two values using 'range' sample style. Got [640, 672, 704, 736, 768, 800]!\n",
      "Failed 000000502910.jpg: short_edge_length must be two values using 'range' sample style. Got [640, 672, 704, 736, 768, 800]!\n",
      "Failed 000000503755.jpg: short_edge_length must be two values using 'range' sample style. Got [640, 672, 704, 736, 768, 800]!\n",
      "Failed 000000503823.jpg: short_edge_length must be two values using 'range' sample style. Got [640, 672, 704, 736, 768, 800]!\n",
      "Failed 000000503841.jpg: short_edge_length must be two values using 'range' sample style. Got [640, 672, 704, 736, 768, 800]!\n",
      "Failed 000000503855.jpg: short_edge_length must be two values using 'range' sample style. Got [640, 672, 704, 736, 768, 800]!\n"
     ]
    },
    {
     "name": "stderr",
     "output_type": "stream",
     "text": [
      "Extracting features:  87%|█████████████████████████████████████████████████▋       | 4355/5000 [02:01<00:17, 37.37it/s]"
     ]
    },
    {
     "name": "stdout",
     "output_type": "stream",
     "text": [
      "Failed 000000504000.jpg: short_edge_length must be two values using 'range' sample style. Got [640, 672, 704, 736, 768, 800]!\n",
      "Failed 000000504074.jpg: short_edge_length must be two values using 'range' sample style. Got [640, 672, 704, 736, 768, 800]!\n",
      "Failed 000000504389.jpg: short_edge_length must be two values using 'range' sample style. Got [640, 672, 704, 736, 768, 800]!\n",
      "Failed 000000504415.jpg: short_edge_length must be two values using 'range' sample style. Got [640, 672, 704, 736, 768, 800]!\n",
      "Failed 000000504439.jpg: short_edge_length must be two values using 'range' sample style. Got [640, 672, 704, 736, 768, 800]!\n",
      "Failed 000000504580.jpg: short_edge_length must be two values using 'range' sample style. Got [640, 672, 704, 736, 768, 800]!\n",
      "Failed 000000504589.jpg: short_edge_length must be two values using 'range' sample style. Got [640, 672, 704, 736, 768, 800]!\n",
      "Failed 000000504635.jpg: short_edge_length must be two values using 'range' sample style. Got [640, 672, 704, 736, 768, 800]!\n"
     ]
    },
    {
     "name": "stderr",
     "output_type": "stream",
     "text": [
      "Extracting features:  87%|█████████████████████████████████████████████████▋       | 4363/5000 [02:02<00:17, 36.15it/s]"
     ]
    },
    {
     "name": "stdout",
     "output_type": "stream",
     "text": [
      "Failed 000000504711.jpg: short_edge_length must be two values using 'range' sample style. Got [640, 672, 704, 736, 768, 800]!\n",
      "Failed 000000505169.jpg: short_edge_length must be two values using 'range' sample style. Got [640, 672, 704, 736, 768, 800]!\n",
      "Failed 000000505451.jpg: short_edge_length must be two values using 'range' sample style. Got [640, 672, 704, 736, 768, 800]!\n",
      "Failed 000000505565.jpg: short_edge_length must be two values using 'range' sample style. Got [640, 672, 704, 736, 768, 800]!\n",
      "Failed 000000505573.jpg: short_edge_length must be two values using 'range' sample style. Got [640, 672, 704, 736, 768, 800]!\n",
      "Failed 000000505638.jpg: short_edge_length must be two values using 'range' sample style. Got [640, 672, 704, 736, 768, 800]!\n",
      "Failed 000000505789.jpg: short_edge_length must be two values using 'range' sample style. Got [640, 672, 704, 736, 768, 800]!\n"
     ]
    },
    {
     "name": "stderr",
     "output_type": "stream",
     "text": [
      "Extracting features:  87%|█████████████████████████████████████████████████▊       | 4372/5000 [02:02<00:17, 36.89it/s]"
     ]
    },
    {
     "name": "stdout",
     "output_type": "stream",
     "text": [
      "Failed 000000505942.jpg: short_edge_length must be two values using 'range' sample style. Got [640, 672, 704, 736, 768, 800]!\n",
      "Failed 000000506004.jpg: short_edge_length must be two values using 'range' sample style. Got [640, 672, 704, 736, 768, 800]!\n",
      "Failed 000000506178.jpg: short_edge_length must be two values using 'range' sample style. Got [640, 672, 704, 736, 768, 800]!\n",
      "Failed 000000506279.jpg: short_edge_length must be two values using 'range' sample style. Got [640, 672, 704, 736, 768, 800]!\n",
      "Failed 000000506310.jpg: short_edge_length must be two values using 'range' sample style. Got [640, 672, 704, 736, 768, 800]!\n",
      "Failed 000000506454.jpg: short_edge_length must be two values using 'range' sample style. Got [640, 672, 704, 736, 768, 800]!\n",
      "Failed 000000506656.jpg: short_edge_length must be two values using 'range' sample style. Got [640, 672, 704, 736, 768, 800]!\n",
      "Failed 000000506707.jpg: short_edge_length must be two values using 'range' sample style. Got [640, 672, 704, 736, 768, 800]!\n"
     ]
    },
    {
     "name": "stderr",
     "output_type": "stream",
     "text": [
      "\r",
      "Extracting features:  88%|█████████████████████████████████████████████████▉       | 4376/5000 [02:02<00:17, 36.54it/s]"
     ]
    },
    {
     "name": "stdout",
     "output_type": "stream",
     "text": [
      "Failed 000000506933.jpg: short_edge_length must be two values using 'range' sample style. Got [640, 672, 704, 736, 768, 800]!\n",
      "Failed 000000507015.jpg: short_edge_length must be two values using 'range' sample style. Got [640, 672, 704, 736, 768, 800]!\n",
      "Failed 000000507037.jpg: short_edge_length must be two values using 'range' sample style. Got [640, 672, 704, 736, 768, 800]!\n",
      "Failed 000000507042.jpg: short_edge_length must be two values using 'range' sample style. Got [640, 672, 704, 736, 768, 800]!\n",
      "Failed 000000507081.jpg: short_edge_length must be two values using 'range' sample style. Got [640, 672, 704, 736, 768, 800]!\n",
      "Failed 000000507223.jpg: short_edge_length must be two values using 'range' sample style. Got [640, 672, 704, 736, 768, 800]!\n",
      "Failed 000000507235.jpg: short_edge_length must be two values using 'range' sample style. Got [640, 672, 704, 736, 768, 800]!\n"
     ]
    },
    {
     "name": "stderr",
     "output_type": "stream",
     "text": [
      "Extracting features:  88%|█████████████████████████████████████████████████▉       | 4384/5000 [02:02<00:19, 32.21it/s]"
     ]
    },
    {
     "name": "stdout",
     "output_type": "stream",
     "text": [
      "Failed 000000507473.jpg: short_edge_length must be two values using 'range' sample style. Got [640, 672, 704, 736, 768, 800]!\n",
      "Failed 000000507575.jpg: short_edge_length must be two values using 'range' sample style. Got [640, 672, 704, 736, 768, 800]!\n",
      "Failed 000000507667.jpg: short_edge_length must be two values using 'range' sample style. Got [640, 672, 704, 736, 768, 800]!\n",
      "Failed 000000507797.jpg: short_edge_length must be two values using 'range' sample style. Got [640, 672, 704, 736, 768, 800]!\n",
      "Failed 000000507893.jpg: short_edge_length must be two values using 'range' sample style. Got [640, 672, 704, 736, 768, 800]!\n",
      "Failed 000000507975.jpg: short_edge_length must be two values using 'range' sample style. Got [640, 672, 704, 736, 768, 800]!\n"
     ]
    },
    {
     "name": "stderr",
     "output_type": "stream",
     "text": [
      "Extracting features:  88%|██████████████████████████████████████████████████       | 4392/5000 [02:03<00:18, 33.17it/s]"
     ]
    },
    {
     "name": "stdout",
     "output_type": "stream",
     "text": [
      "Failed 000000508101.jpg: short_edge_length must be two values using 'range' sample style. Got [640, 672, 704, 736, 768, 800]!\n",
      "Failed 000000508312.jpg: short_edge_length must be two values using 'range' sample style. Got [640, 672, 704, 736, 768, 800]!\n",
      "Failed 000000508370.jpg: short_edge_length must be two values using 'range' sample style. Got [640, 672, 704, 736, 768, 800]!\n",
      "Failed 000000508482.jpg: short_edge_length must be two values using 'range' sample style. Got [640, 672, 704, 736, 768, 800]!\n",
      "Failed 000000508586.jpg: short_edge_length must be two values using 'range' sample style. Got [640, 672, 704, 736, 768, 800]!\n",
      "Failed 000000508602.jpg: short_edge_length must be two values using 'range' sample style. Got [640, 672, 704, 736, 768, 800]!\n",
      "Failed 000000508639.jpg: short_edge_length must be two values using 'range' sample style. Got [640, 672, 704, 736, 768, 800]!\n"
     ]
    },
    {
     "name": "stderr",
     "output_type": "stream",
     "text": [
      "\r",
      "Extracting features:  88%|██████████████████████████████████████████████████       | 4396/5000 [02:03<00:18, 33.54it/s]"
     ]
    },
    {
     "name": "stdout",
     "output_type": "stream",
     "text": [
      "Failed 000000508730.jpg: short_edge_length must be two values using 'range' sample style. Got [640, 672, 704, 736, 768, 800]!\n",
      "Failed 000000508917.jpg: short_edge_length must be two values using 'range' sample style. Got [640, 672, 704, 736, 768, 800]!\n",
      "Failed 000000509008.jpg: short_edge_length must be two values using 'range' sample style. Got [640, 672, 704, 736, 768, 800]!\n",
      "Failed 000000509014.jpg: short_edge_length must be two values using 'range' sample style. Got [640, 672, 704, 736, 768, 800]!\n",
      "Failed 000000509131.jpg: short_edge_length must be two values using 'range' sample style. Got [640, 672, 704, 736, 768, 800]!\n",
      "Failed 000000509258.jpg: short_edge_length must be two values using 'range' sample style. Got [640, 672, 704, 736, 768, 800]!\n",
      "Failed 000000509260.jpg: short_edge_length must be two values using 'range' sample style. Got [640, 672, 704, 736, 768, 800]!\n",
      "Failed 000000509403.jpg: short_edge_length must be two values using 'range' sample style. Got [640, 672, 704, 736, 768, 800]!\n"
     ]
    },
    {
     "name": "stderr",
     "output_type": "stream",
     "text": [
      "Extracting features:  88%|██████████████████████████████████████████████████▏      | 4404/5000 [02:03<00:17, 33.89it/s]"
     ]
    },
    {
     "name": "stdout",
     "output_type": "stream",
     "text": [
      "Failed 000000509451.jpg: short_edge_length must be two values using 'range' sample style. Got [640, 672, 704, 736, 768, 800]!\n",
      "Failed 000000509656.jpg: short_edge_length must be two values using 'range' sample style. Got [640, 672, 704, 736, 768, 800]!\n",
      "Failed 000000509699.jpg: short_edge_length must be two values using 'range' sample style. Got [640, 672, 704, 736, 768, 800]!\n",
      "Failed 000000509719.jpg: short_edge_length must be two values using 'range' sample style. Got [640, 672, 704, 736, 768, 800]!\n",
      "Failed 000000509735.jpg: short_edge_length must be two values using 'range' sample style. Got [640, 672, 704, 736, 768, 800]!\n",
      "Failed 000000509824.jpg: short_edge_length must be two values using 'range' sample style. Got [640, 672, 704, 736, 768, 800]!\n"
     ]
    },
    {
     "name": "stderr",
     "output_type": "stream",
     "text": [
      "Extracting features:  88%|██████████████████████████████████████████████████▎      | 4412/5000 [02:03<00:17, 33.06it/s]"
     ]
    },
    {
     "name": "stdout",
     "output_type": "stream",
     "text": [
      "Failed 000000510095.jpg: short_edge_length must be two values using 'range' sample style. Got [640, 672, 704, 736, 768, 800]!\n",
      "Failed 000000510329.jpg: short_edge_length must be two values using 'range' sample style. Got [640, 672, 704, 736, 768, 800]!\n",
      "Failed 000000511076.jpg: short_edge_length must be two values using 'range' sample style. Got [640, 672, 704, 736, 768, 800]!\n",
      "Failed 000000511321.jpg: short_edge_length must be two values using 'range' sample style. Got [640, 672, 704, 736, 768, 800]!\n",
      "Failed 000000511384.jpg: short_edge_length must be two values using 'range' sample style. Got [640, 672, 704, 736, 768, 800]!\n",
      "Failed 000000511398.jpg: short_edge_length must be two values using 'range' sample style. Got [640, 672, 704, 736, 768, 800]!\n",
      "Failed 000000511453.jpg: short_edge_length must be two values using 'range' sample style. Got [640, 672, 704, 736, 768, 800]!\n"
     ]
    },
    {
     "name": "stderr",
     "output_type": "stream",
     "text": [
      "Extracting features:  88%|██████████████████████████████████████████████████▍      | 4420/5000 [02:03<00:17, 33.96it/s]"
     ]
    },
    {
     "name": "stdout",
     "output_type": "stream",
     "text": [
      "Failed 000000511599.jpg: short_edge_length must be two values using 'range' sample style. Got [640, 672, 704, 736, 768, 800]!\n",
      "Failed 000000511647.jpg: short_edge_length must be two values using 'range' sample style. Got [640, 672, 704, 736, 768, 800]!\n",
      "Failed 000000511760.jpg: short_edge_length must be two values using 'range' sample style. Got [640, 672, 704, 736, 768, 800]!\n",
      "Failed 000000511999.jpg: short_edge_length must be two values using 'range' sample style. Got [640, 672, 704, 736, 768, 800]!\n",
      "Failed 000000512194.jpg: short_edge_length must be two values using 'range' sample style. Got [640, 672, 704, 736, 768, 800]!\n",
      "Failed 000000512248.jpg: short_edge_length must be two values using 'range' sample style. Got [640, 672, 704, 736, 768, 800]!\n",
      "Failed 000000512330.jpg: short_edge_length must be two values using 'range' sample style. Got [640, 672, 704, 736, 768, 800]!\n",
      "Failed 000000512403.jpg: short_edge_length must be two values using 'range' sample style. Got [640, 672, 704, 736, 768, 800]!\n"
     ]
    },
    {
     "name": "stderr",
     "output_type": "stream",
     "text": [
      "Extracting features:  89%|██████████████████████████████████████████████████▍      | 4428/5000 [02:04<00:17, 32.92it/s]"
     ]
    },
    {
     "name": "stdout",
     "output_type": "stream",
     "text": [
      "Failed 000000512476.jpg: short_edge_length must be two values using 'range' sample style. Got [640, 672, 704, 736, 768, 800]!\n",
      "Failed 000000512564.jpg: short_edge_length must be two values using 'range' sample style. Got [640, 672, 704, 736, 768, 800]!\n",
      "Failed 000000512648.jpg: short_edge_length must be two values using 'range' sample style. Got [640, 672, 704, 736, 768, 800]!\n",
      "Failed 000000512657.jpg: short_edge_length must be two values using 'range' sample style. Got [640, 672, 704, 736, 768, 800]!\n",
      "Failed 000000512776.jpg: short_edge_length must be two values using 'range' sample style. Got [640, 672, 704, 736, 768, 800]!\n",
      "Failed 000000512836.jpg: short_edge_length must be two values using 'range' sample style. Got [640, 672, 704, 736, 768, 800]!\n",
      "Failed 000000512929.jpg: short_edge_length must be two values using 'range' sample style. Got [640, 672, 704, 736, 768, 800]!\n"
     ]
    },
    {
     "name": "stderr",
     "output_type": "stream",
     "text": [
      "Extracting features:  89%|██████████████████████████████████████████████████▌      | 4436/5000 [02:04<00:16, 33.21it/s]"
     ]
    },
    {
     "name": "stdout",
     "output_type": "stream",
     "text": [
      "Failed 000000512985.jpg: short_edge_length must be two values using 'range' sample style. Got [640, 672, 704, 736, 768, 800]!\n",
      "Failed 000000513041.jpg: short_edge_length must be two values using 'range' sample style. Got [640, 672, 704, 736, 768, 800]!\n",
      "Failed 000000513181.jpg: short_edge_length must be two values using 'range' sample style. Got [640, 672, 704, 736, 768, 800]!\n",
      "Failed 000000513283.jpg: short_edge_length must be two values using 'range' sample style. Got [640, 672, 704, 736, 768, 800]!\n",
      "Failed 000000513484.jpg: short_edge_length must be two values using 'range' sample style. Got [640, 672, 704, 736, 768, 800]!\n",
      "Failed 000000513524.jpg: short_edge_length must be two values using 'range' sample style. Got [640, 672, 704, 736, 768, 800]!\n",
      "Failed 000000513567.jpg: short_edge_length must be two values using 'range' sample style. Got [640, 672, 704, 736, 768, 800]!\n",
      "Failed 000000513580.jpg: short_edge_length must be two values using 'range' sample style. Got [640, 672, 704, 736, 768, 800]!\n"
     ]
    },
    {
     "name": "stderr",
     "output_type": "stream",
     "text": [
      "Extracting features:  89%|██████████████████████████████████████████████████▋      | 4444/5000 [02:04<00:16, 34.22it/s]"
     ]
    },
    {
     "name": "stdout",
     "output_type": "stream",
     "text": [
      "Failed 000000513688.jpg: short_edge_length must be two values using 'range' sample style. Got [640, 672, 704, 736, 768, 800]!\n",
      "Failed 000000514376.jpg: short_edge_length must be two values using 'range' sample style. Got [640, 672, 704, 736, 768, 800]!\n",
      "Failed 000000514508.jpg: short_edge_length must be two values using 'range' sample style. Got [640, 672, 704, 736, 768, 800]!\n",
      "Failed 000000514540.jpg: short_edge_length must be two values using 'range' sample style. Got [640, 672, 704, 736, 768, 800]!\n",
      "Failed 000000514586.jpg: short_edge_length must be two values using 'range' sample style. Got [640, 672, 704, 736, 768, 800]!\n",
      "Failed 000000514797.jpg: short_edge_length must be two values using 'range' sample style. Got [640, 672, 704, 736, 768, 800]!\n",
      "Failed 000000514914.jpg: short_edge_length must be two values using 'range' sample style. Got [640, 672, 704, 736, 768, 800]!\n",
      "Failed 000000514979.jpg: short_edge_length must be two values using 'range' sample style. Got [640, 672, 704, 736, 768, 800]!\n"
     ]
    },
    {
     "name": "stderr",
     "output_type": "stream",
     "text": [
      "\r",
      "Extracting features:  89%|██████████████████████████████████████████████████▋      | 4448/5000 [02:04<00:16, 34.47it/s]"
     ]
    },
    {
     "name": "stdout",
     "output_type": "stream",
     "text": [
      "Failed 000000515025.jpg: short_edge_length must be two values using 'range' sample style. Got [640, 672, 704, 736, 768, 800]!\n",
      "Failed 000000515077.jpg: short_edge_length must be two values using 'range' sample style. Got [640, 672, 704, 736, 768, 800]!\n",
      "Failed 000000515266.jpg: short_edge_length must be two values using 'range' sample style. Got [640, 672, 704, 736, 768, 800]!\n",
      "Failed 000000515350.jpg: short_edge_length must be two values using 'range' sample style. Got [640, 672, 704, 736, 768, 800]!\n",
      "Failed 000000515445.jpg: short_edge_length must be two values using 'range' sample style. Got [640, 672, 704, 736, 768, 800]!\n",
      "Failed 000000515577.jpg: short_edge_length must be two values using 'range' sample style. Got [640, 672, 704, 736, 768, 800]!\n",
      "Failed 000000515579.jpg: short_edge_length must be two values using 'range' sample style. Got [640, 672, 704, 736, 768, 800]!\n"
     ]
    },
    {
     "name": "stderr",
     "output_type": "stream",
     "text": [
      "Extracting features:  89%|██████████████████████████████████████████████████▊      | 4457/5000 [02:04<00:14, 36.76it/s]"
     ]
    },
    {
     "name": "stdout",
     "output_type": "stream",
     "text": [
      "Failed 000000515828.jpg: short_edge_length must be two values using 'range' sample style. Got [640, 672, 704, 736, 768, 800]!\n",
      "Failed 000000515982.jpg: short_edge_length must be two values using 'range' sample style. Got [640, 672, 704, 736, 768, 800]!\n",
      "Failed 000000516038.jpg: short_edge_length must be two values using 'range' sample style. Got [640, 672, 704, 736, 768, 800]!\n",
      "Failed 000000516143.jpg: short_edge_length must be two values using 'range' sample style. Got [640, 672, 704, 736, 768, 800]!\n",
      "Failed 000000516173.jpg: short_edge_length must be two values using 'range' sample style. Got [640, 672, 704, 736, 768, 800]!\n",
      "Failed 000000516316.jpg: short_edge_length must be two values using 'range' sample style. Got [640, 672, 704, 736, 768, 800]!\n",
      "Failed 000000516318.jpg: short_edge_length must be two values using 'range' sample style. Got [640, 672, 704, 736, 768, 800]!\n",
      "Failed 000000516601.jpg: short_edge_length must be two values using 'range' sample style. Got [640, 672, 704, 736, 768, 800]!\n"
     ]
    },
    {
     "name": "stderr",
     "output_type": "stream",
     "text": [
      "Extracting features:  89%|██████████████████████████████████████████████████▉      | 4465/5000 [02:05<00:14, 36.04it/s]"
     ]
    },
    {
     "name": "stdout",
     "output_type": "stream",
     "text": [
      "Failed 000000516677.jpg: short_edge_length must be two values using 'range' sample style. Got [640, 672, 704, 736, 768, 800]!\n",
      "Failed 000000516708.jpg: short_edge_length must be two values using 'range' sample style. Got [640, 672, 704, 736, 768, 800]!\n",
      "Failed 000000516804.jpg: short_edge_length must be two values using 'range' sample style. Got [640, 672, 704, 736, 768, 800]!\n",
      "Failed 000000516871.jpg: short_edge_length must be two values using 'range' sample style. Got [640, 672, 704, 736, 768, 800]!\n",
      "Failed 000000516916.jpg: short_edge_length must be two values using 'range' sample style. Got [640, 672, 704, 736, 768, 800]!\n",
      "Failed 000000517056.jpg: short_edge_length must be two values using 'range' sample style. Got [640, 672, 704, 736, 768, 800]!\n",
      "Failed 000000517069.jpg: short_edge_length must be two values using 'range' sample style. Got [640, 672, 704, 736, 768, 800]!\n",
      "Failed 000000517523.jpg: short_edge_length must be two values using 'range' sample style. Got [640, 672, 704, 736, 768, 800]!\n"
     ]
    },
    {
     "name": "stderr",
     "output_type": "stream",
     "text": [
      "Extracting features:  89%|██████████████████████████████████████████████████▉      | 4473/5000 [02:05<00:14, 35.52it/s]"
     ]
    },
    {
     "name": "stdout",
     "output_type": "stream",
     "text": [
      "Failed 000000517687.jpg: short_edge_length must be two values using 'range' sample style. Got [640, 672, 704, 736, 768, 800]!\n",
      "Failed 000000517832.jpg: short_edge_length must be two values using 'range' sample style. Got [640, 672, 704, 736, 768, 800]!\n",
      "Failed 000000518213.jpg: short_edge_length must be two values using 'range' sample style. Got [640, 672, 704, 736, 768, 800]!\n",
      "Failed 000000518326.jpg: short_edge_length must be two values using 'range' sample style. Got [640, 672, 704, 736, 768, 800]!\n",
      "Failed 000000518770.jpg: short_edge_length must be two values using 'range' sample style. Got [640, 672, 704, 736, 768, 800]!\n",
      "Failed 000000519039.jpg: short_edge_length must be two values using 'range' sample style. Got [640, 672, 704, 736, 768, 800]!\n",
      "Failed 000000519208.jpg: short_edge_length must be two values using 'range' sample style. Got [640, 672, 704, 736, 768, 800]!\n"
     ]
    },
    {
     "name": "stderr",
     "output_type": "stream",
     "text": [
      "Extracting features:  90%|███████████████████████████████████████████████████      | 4481/5000 [02:05<00:14, 34.95it/s]"
     ]
    },
    {
     "name": "stdout",
     "output_type": "stream",
     "text": [
      "Failed 000000519338.jpg: short_edge_length must be two values using 'range' sample style. Got [640, 672, 704, 736, 768, 800]!\n",
      "Failed 000000519491.jpg: short_edge_length must be two values using 'range' sample style. Got [640, 672, 704, 736, 768, 800]!\n",
      "Failed 000000519522.jpg: short_edge_length must be two values using 'range' sample style. Got [640, 672, 704, 736, 768, 800]!\n",
      "Failed 000000519569.jpg: short_edge_length must be two values using 'range' sample style. Got [640, 672, 704, 736, 768, 800]!\n",
      "Failed 000000519611.jpg: short_edge_length must be two values using 'range' sample style. Got [640, 672, 704, 736, 768, 800]!\n",
      "Failed 000000519688.jpg: short_edge_length must be two values using 'range' sample style. Got [640, 672, 704, 736, 768, 800]!\n",
      "Failed 000000519764.jpg: short_edge_length must be two values using 'range' sample style. Got [640, 672, 704, 736, 768, 800]!\n",
      "Failed 000000520009.jpg: short_edge_length must be two values using 'range' sample style. Got [640, 672, 704, 736, 768, 800]!\n"
     ]
    },
    {
     "name": "stderr",
     "output_type": "stream",
     "text": [
      "Extracting features:  90%|███████████████████████████████████████████████████▏     | 4489/5000 [02:05<00:14, 35.36it/s]"
     ]
    },
    {
     "name": "stdout",
     "output_type": "stream",
     "text": [
      "Failed 000000520077.jpg: short_edge_length must be two values using 'range' sample style. Got [640, 672, 704, 736, 768, 800]!\n",
      "Failed 000000520264.jpg: short_edge_length must be two values using 'range' sample style. Got [640, 672, 704, 736, 768, 800]!\n",
      "Failed 000000520301.jpg: short_edge_length must be two values using 'range' sample style. Got [640, 672, 704, 736, 768, 800]!\n",
      "Failed 000000520324.jpg: short_edge_length must be two values using 'range' sample style. Got [640, 672, 704, 736, 768, 800]!\n",
      "Failed 000000520531.jpg: short_edge_length must be two values using 'range' sample style. Got [640, 672, 704, 736, 768, 800]!\n",
      "Failed 000000520659.jpg: short_edge_length must be two values using 'range' sample style. Got [640, 672, 704, 736, 768, 800]!\n",
      "Failed 000000520707.jpg: short_edge_length must be two values using 'range' sample style. Got [640, 672, 704, 736, 768, 800]!\n",
      "Failed 000000520832.jpg: short_edge_length must be two values using 'range' sample style. Got [640, 672, 704, 736, 768, 800]!\n"
     ]
    },
    {
     "name": "stderr",
     "output_type": "stream",
     "text": [
      "Extracting features:  90%|███████████████████████████████████████████████████▎     | 4497/5000 [02:06<00:13, 36.33it/s]"
     ]
    },
    {
     "name": "stdout",
     "output_type": "stream",
     "text": [
      "Failed 000000520871.jpg: short_edge_length must be two values using 'range' sample style. Got [640, 672, 704, 736, 768, 800]!\n",
      "Failed 000000520910.jpg: short_edge_length must be two values using 'range' sample style. Got [640, 672, 704, 736, 768, 800]!\n",
      "Failed 000000521052.jpg: short_edge_length must be two values using 'range' sample style. Got [640, 672, 704, 736, 768, 800]!\n",
      "Failed 000000521141.jpg: short_edge_length must be two values using 'range' sample style. Got [640, 672, 704, 736, 768, 800]!\n",
      "Failed 000000521231.jpg: short_edge_length must be two values using 'range' sample style. Got [640, 672, 704, 736, 768, 800]!\n",
      "Failed 000000521259.jpg: short_edge_length must be two values using 'range' sample style. Got [640, 672, 704, 736, 768, 800]!\n",
      "Failed 000000521282.jpg: short_edge_length must be two values using 'range' sample style. Got [640, 672, 704, 736, 768, 800]!\n",
      "Failed 000000521405.jpg: short_edge_length must be two values using 'range' sample style. Got [640, 672, 704, 736, 768, 800]!\n",
      "Failed 000000521509.jpg: short_edge_length must be two values using 'range' sample style. Got [640, 672, 704, 736, 768, 800]!\n"
     ]
    },
    {
     "name": "stderr",
     "output_type": "stream",
     "text": [
      "Extracting features:  90%|███████████████████████████████████████████████████▎     | 4506/5000 [02:06<00:12, 38.08it/s]"
     ]
    },
    {
     "name": "stdout",
     "output_type": "stream",
     "text": [
      "Failed 000000521540.jpg: short_edge_length must be two values using 'range' sample style. Got [640, 672, 704, 736, 768, 800]!\n",
      "Failed 000000521601.jpg: short_edge_length must be two values using 'range' sample style. Got [640, 672, 704, 736, 768, 800]!\n",
      "Failed 000000521717.jpg: short_edge_length must be two values using 'range' sample style. Got [640, 672, 704, 736, 768, 800]!\n",
      "Failed 000000521719.jpg: short_edge_length must be two values using 'range' sample style. Got [640, 672, 704, 736, 768, 800]!\n",
      "Failed 000000521819.jpg: short_edge_length must be two values using 'range' sample style. Got [640, 672, 704, 736, 768, 800]!\n",
      "Failed 000000521956.jpg: short_edge_length must be two values using 'range' sample style. Got [640, 672, 704, 736, 768, 800]!\n",
      "Failed 000000522007.jpg: short_edge_length must be two values using 'range' sample style. Got [640, 672, 704, 736, 768, 800]!\n",
      "Failed 000000522156.jpg: short_edge_length must be two values using 'range' sample style. Got [640, 672, 704, 736, 768, 800]!\n"
     ]
    },
    {
     "name": "stderr",
     "output_type": "stream",
     "text": [
      "Extracting features:  90%|███████████████████████████████████████████████████▍     | 4515/5000 [02:06<00:12, 38.93it/s]"
     ]
    },
    {
     "name": "stdout",
     "output_type": "stream",
     "text": [
      "Failed 000000522393.jpg: short_edge_length must be two values using 'range' sample style. Got [640, 672, 704, 736, 768, 800]!\n",
      "Failed 000000522638.jpg: short_edge_length must be two values using 'range' sample style. Got [640, 672, 704, 736, 768, 800]!\n",
      "Failed 000000522713.jpg: short_edge_length must be two values using 'range' sample style. Got [640, 672, 704, 736, 768, 800]!\n",
      "Failed 000000522751.jpg: short_edge_length must be two values using 'range' sample style. Got [640, 672, 704, 736, 768, 800]!\n",
      "Failed 000000522889.jpg: short_edge_length must be two values using 'range' sample style. Got [640, 672, 704, 736, 768, 800]!\n",
      "Failed 000000522940.jpg: short_edge_length must be two values using 'range' sample style. Got [640, 672, 704, 736, 768, 800]!\n",
      "Failed 000000523033.jpg: short_edge_length must be two values using 'range' sample style. Got [640, 672, 704, 736, 768, 800]!\n",
      "Failed 000000523100.jpg: short_edge_length must be two values using 'range' sample style. Got [640, 672, 704, 736, 768, 800]!\n"
     ]
    },
    {
     "name": "stderr",
     "output_type": "stream",
     "text": [
      "\r",
      "Extracting features:  90%|███████████████████████████████████████████████████▌     | 4519/5000 [02:06<00:13, 35.93it/s]"
     ]
    },
    {
     "name": "stdout",
     "output_type": "stream",
     "text": [
      "Failed 000000523175.jpg: short_edge_length must be two values using 'range' sample style. Got [640, 672, 704, 736, 768, 800]!\n",
      "Failed 000000523194.jpg: short_edge_length must be two values using 'range' sample style. Got [640, 672, 704, 736, 768, 800]!\n",
      "Failed 000000523229.jpg: short_edge_length must be two values using 'range' sample style. Got [640, 672, 704, 736, 768, 800]!\n",
      "Failed 000000523241.jpg: short_edge_length must be two values using 'range' sample style. Got [640, 672, 704, 736, 768, 800]!\n",
      "Failed 000000523782.jpg: short_edge_length must be two values using 'range' sample style. Got [640, 672, 704, 736, 768, 800]!\n",
      "Failed 000000523807.jpg: short_edge_length must be two values using 'range' sample style. Got [640, 672, 704, 736, 768, 800]!\n",
      "Failed 000000523811.jpg: short_edge_length must be two values using 'range' sample style. Got [640, 672, 704, 736, 768, 800]!\n"
     ]
    },
    {
     "name": "stderr",
     "output_type": "stream",
     "text": [
      "Extracting features:  91%|███████████████████████████████████████████████████▌     | 4527/5000 [02:06<00:13, 35.06it/s]"
     ]
    },
    {
     "name": "stdout",
     "output_type": "stream",
     "text": [
      "Failed 000000523957.jpg: short_edge_length must be two values using 'range' sample style. Got [640, 672, 704, 736, 768, 800]!\n",
      "Failed 000000524108.jpg: short_edge_length must be two values using 'range' sample style. Got [640, 672, 704, 736, 768, 800]!\n",
      "Failed 000000524280.jpg: short_edge_length must be two values using 'range' sample style. Got [640, 672, 704, 736, 768, 800]!\n",
      "Failed 000000524456.jpg: short_edge_length must be two values using 'range' sample style. Got [640, 672, 704, 736, 768, 800]!\n",
      "Failed 000000524742.jpg: short_edge_length must be two values using 'range' sample style. Got [640, 672, 704, 736, 768, 800]!\n",
      "Failed 000000524850.jpg: short_edge_length must be two values using 'range' sample style. Got [640, 672, 704, 736, 768, 800]!\n",
      "Failed 000000525083.jpg: short_edge_length must be two values using 'range' sample style. Got [640, 672, 704, 736, 768, 800]!\n"
     ]
    },
    {
     "name": "stderr",
     "output_type": "stream",
     "text": [
      "Extracting features:  91%|███████████████████████████████████████████████████▋     | 4535/5000 [02:07<00:14, 32.40it/s]"
     ]
    },
    {
     "name": "stdout",
     "output_type": "stream",
     "text": [
      "Failed 000000525155.jpg: short_edge_length must be two values using 'range' sample style. Got [640, 672, 704, 736, 768, 800]!\n",
      "Failed 000000525247.jpg: short_edge_length must be two values using 'range' sample style. Got [640, 672, 704, 736, 768, 800]!\n",
      "Failed 000000525286.jpg: short_edge_length must be two values using 'range' sample style. Got [640, 672, 704, 736, 768, 800]!\n",
      "Failed 000000525322.jpg: short_edge_length must be two values using 'range' sample style. Got [640, 672, 704, 736, 768, 800]!\n",
      "Failed 000000525600.jpg: short_edge_length must be two values using 'range' sample style. Got [640, 672, 704, 736, 768, 800]!\n",
      "Failed 000000526103.jpg: short_edge_length must be two values using 'range' sample style. Got [640, 672, 704, 736, 768, 800]!\n",
      "Failed 000000526197.jpg: short_edge_length must be two values using 'range' sample style. Got [640, 672, 704, 736, 768, 800]!\n",
      "Failed 000000526256.jpg: short_edge_length must be two values using 'range' sample style. Got [640, 672, 704, 736, 768, 800]!\n"
     ]
    },
    {
     "name": "stderr",
     "output_type": "stream",
     "text": [
      "Extracting features:  91%|███████████████████████████████████████████████████▊     | 4543/5000 [02:07<00:13, 34.60it/s]"
     ]
    },
    {
     "name": "stdout",
     "output_type": "stream",
     "text": [
      "Failed 000000526392.jpg: short_edge_length must be two values using 'range' sample style. Got [640, 672, 704, 736, 768, 800]!\n",
      "Failed 000000526706.jpg: short_edge_length must be two values using 'range' sample style. Got [640, 672, 704, 736, 768, 800]!\n",
      "Failed 000000526728.jpg: short_edge_length must be two values using 'range' sample style. Got [640, 672, 704, 736, 768, 800]!\n",
      "Failed 000000526751.jpg: short_edge_length must be two values using 'range' sample style. Got [640, 672, 704, 736, 768, 800]!\n",
      "Failed 000000527029.jpg: short_edge_length must be two values using 'range' sample style. Got [640, 672, 704, 736, 768, 800]!\n",
      "Failed 000000527215.jpg: short_edge_length must be two values using 'range' sample style. Got [640, 672, 704, 736, 768, 800]!\n",
      "Failed 000000527220.jpg: short_edge_length must be two values using 'range' sample style. Got [640, 672, 704, 736, 768, 800]!\n",
      "Failed 000000527427.jpg: short_edge_length must be two values using 'range' sample style. Got [640, 672, 704, 736, 768, 800]!\n",
      "Failed 000000527528.jpg: short_edge_length must be two values using 'range' sample style. Got [640, 672, 704, 736, 768, 800]!\n"
     ]
    },
    {
     "name": "stderr",
     "output_type": "stream",
     "text": [
      "Extracting features:  91%|███████████████████████████████████████████████████▉     | 4551/5000 [02:07<00:13, 33.96it/s]"
     ]
    },
    {
     "name": "stdout",
     "output_type": "stream",
     "text": [
      "Failed 000000527616.jpg: short_edge_length must be two values using 'range' sample style. Got [640, 672, 704, 736, 768, 800]!\n",
      "Failed 000000527695.jpg: short_edge_length must be two values using 'range' sample style. Got [640, 672, 704, 736, 768, 800]!\n",
      "Failed 000000527750.jpg: short_edge_length must be two values using 'range' sample style. Got [640, 672, 704, 736, 768, 800]!\n",
      "Failed 000000527784.jpg: short_edge_length must be two values using 'range' sample style. Got [640, 672, 704, 736, 768, 800]!\n",
      "Failed 000000527960.jpg: short_edge_length must be two values using 'range' sample style. Got [640, 672, 704, 736, 768, 800]!\n",
      "Failed 000000528314.jpg: short_edge_length must be two values using 'range' sample style. Got [640, 672, 704, 736, 768, 800]!\n",
      "Failed 000000528399.jpg: short_edge_length must be two values using 'range' sample style. Got [640, 672, 704, 736, 768, 800]!\n",
      "Failed 000000528524.jpg: short_edge_length must be two values using 'range' sample style. Got [640, 672, 704, 736, 768, 800]!\n"
     ]
    },
    {
     "name": "stderr",
     "output_type": "stream",
     "text": [
      "Extracting features:  91%|███████████████████████████████████████████████████▉     | 4560/5000 [02:07<00:11, 37.20it/s]"
     ]
    },
    {
     "name": "stdout",
     "output_type": "stream",
     "text": [
      "Failed 000000528578.jpg: short_edge_length must be two values using 'range' sample style. Got [640, 672, 704, 736, 768, 800]!\n",
      "Failed 000000528705.jpg: short_edge_length must be two values using 'range' sample style. Got [640, 672, 704, 736, 768, 800]!\n",
      "Failed 000000528862.jpg: short_edge_length must be two values using 'range' sample style. Got [640, 672, 704, 736, 768, 800]!\n",
      "Failed 000000528977.jpg: short_edge_length must be two values using 'range' sample style. Got [640, 672, 704, 736, 768, 800]!\n",
      "Failed 000000528980.jpg: short_edge_length must be two values using 'range' sample style. Got [640, 672, 704, 736, 768, 800]!\n",
      "Failed 000000529105.jpg: short_edge_length must be two values using 'range' sample style. Got [640, 672, 704, 736, 768, 800]!\n",
      "Failed 000000529122.jpg: short_edge_length must be two values using 'range' sample style. Got [640, 672, 704, 736, 768, 800]!\n",
      "Failed 000000529148.jpg: short_edge_length must be two values using 'range' sample style. Got [640, 672, 704, 736, 768, 800]!\n"
     ]
    },
    {
     "name": "stderr",
     "output_type": "stream",
     "text": [
      "Extracting features:  91%|████████████████████████████████████████████████████     | 4568/5000 [02:08<00:12, 35.61it/s]"
     ]
    },
    {
     "name": "stdout",
     "output_type": "stream",
     "text": [
      "Failed 000000529528.jpg: short_edge_length must be two values using 'range' sample style. Got [640, 672, 704, 736, 768, 800]!\n",
      "Failed 000000529568.jpg: short_edge_length must be two values using 'range' sample style. Got [640, 672, 704, 736, 768, 800]!\n",
      "Failed 000000529762.jpg: short_edge_length must be two values using 'range' sample style. Got [640, 672, 704, 736, 768, 800]!\n",
      "Failed 000000529939.jpg: short_edge_length must be two values using 'range' sample style. Got [640, 672, 704, 736, 768, 800]!\n",
      "Failed 000000529966.jpg: short_edge_length must be two values using 'range' sample style. Got [640, 672, 704, 736, 768, 800]!\n",
      "Failed 000000530052.jpg: short_edge_length must be two values using 'range' sample style. Got [640, 672, 704, 736, 768, 800]!\n",
      "Failed 000000530061.jpg: short_edge_length must be two values using 'range' sample style. Got [640, 672, 704, 736, 768, 800]!\n"
     ]
    },
    {
     "name": "stderr",
     "output_type": "stream",
     "text": [
      "\r",
      "Extracting features:  91%|████████████████████████████████████████████████████     | 4572/5000 [02:08<00:12, 34.37it/s]"
     ]
    },
    {
     "name": "stdout",
     "output_type": "stream",
     "text": [
      "Failed 000000530099.jpg: short_edge_length must be two values using 'range' sample style. Got [640, 672, 704, 736, 768, 800]!\n",
      "Failed 000000530146.jpg: short_edge_length must be two values using 'range' sample style. Got [640, 672, 704, 736, 768, 800]!\n",
      "Failed 000000530162.jpg: short_edge_length must be two values using 'range' sample style. Got [640, 672, 704, 736, 768, 800]!\n",
      "Failed 000000530457.jpg: short_edge_length must be two values using 'range' sample style. Got [640, 672, 704, 736, 768, 800]!\n",
      "Failed 000000530466.jpg: short_edge_length must be two values using 'range' sample style. Got [640, 672, 704, 736, 768, 800]!\n",
      "Failed 000000530470.jpg: short_edge_length must be two values using 'range' sample style. Got [640, 672, 704, 736, 768, 800]!\n",
      "Failed 000000530624.jpg: short_edge_length must be two values using 'range' sample style. Got [640, 672, 704, 736, 768, 800]!\n"
     ]
    },
    {
     "name": "stderr",
     "output_type": "stream",
     "text": [
      "Extracting features:  92%|████████████████████████████████████████████████████▏    | 4580/5000 [02:08<00:12, 32.93it/s]"
     ]
    },
    {
     "name": "stdout",
     "output_type": "stream",
     "text": [
      "Failed 000000530820.jpg: short_edge_length must be two values using 'range' sample style. Got [640, 672, 704, 736, 768, 800]!\n",
      "Failed 000000530836.jpg: short_edge_length must be two values using 'range' sample style. Got [640, 672, 704, 736, 768, 800]!\n",
      "Failed 000000530854.jpg: short_edge_length must be two values using 'range' sample style. Got [640, 672, 704, 736, 768, 800]!\n",
      "Failed 000000530975.jpg: short_edge_length must be two values using 'range' sample style. Got [640, 672, 704, 736, 768, 800]!\n",
      "Failed 000000531036.jpg: short_edge_length must be two values using 'range' sample style. Got [640, 672, 704, 736, 768, 800]!\n",
      "Failed 000000531134.jpg: short_edge_length must be two values using 'range' sample style. Got [640, 672, 704, 736, 768, 800]!\n"
     ]
    },
    {
     "name": "stderr",
     "output_type": "stream",
     "text": [
      "Extracting features:  92%|████████████████████████████████████████████████████▎    | 4588/5000 [02:08<00:13, 31.23it/s]"
     ]
    },
    {
     "name": "stdout",
     "output_type": "stream",
     "text": [
      "Failed 000000531135.jpg: short_edge_length must be two values using 'range' sample style. Got [640, 672, 704, 736, 768, 800]!\n",
      "Failed 000000531495.jpg: short_edge_length must be two values using 'range' sample style. Got [640, 672, 704, 736, 768, 800]!\n",
      "Failed 000000531707.jpg: short_edge_length must be two values using 'range' sample style. Got [640, 672, 704, 736, 768, 800]!\n",
      "Failed 000000531771.jpg: short_edge_length must be two values using 'range' sample style. Got [640, 672, 704, 736, 768, 800]!\n",
      "Failed 000000532058.jpg: short_edge_length must be two values using 'range' sample style. Got [640, 672, 704, 736, 768, 800]!\n",
      "Failed 000000532071.jpg: short_edge_length must be two values using 'range' sample style. Got [640, 672, 704, 736, 768, 800]!\n",
      "Failed 000000532129.jpg: short_edge_length must be two values using 'range' sample style. Got [640, 672, 704, 736, 768, 800]!\n"
     ]
    },
    {
     "name": "stderr",
     "output_type": "stream",
     "text": [
      "Extracting features:  92%|████████████████████████████████████████████████████▍    | 4596/5000 [02:08<00:12, 33.11it/s]"
     ]
    },
    {
     "name": "stdout",
     "output_type": "stream",
     "text": [
      "Failed 000000532481.jpg: short_edge_length must be two values using 'range' sample style. Got [640, 672, 704, 736, 768, 800]!\n",
      "Failed 000000532493.jpg: short_edge_length must be two values using 'range' sample style. Got [640, 672, 704, 736, 768, 800]!\n",
      "Failed 000000532530.jpg: short_edge_length must be two values using 'range' sample style. Got [640, 672, 704, 736, 768, 800]!\n",
      "Failed 000000532575.jpg: short_edge_length must be two values using 'range' sample style. Got [640, 672, 704, 736, 768, 800]!\n",
      "Failed 000000532690.jpg: short_edge_length must be two values using 'range' sample style. Got [640, 672, 704, 736, 768, 800]!\n",
      "Failed 000000532761.jpg: short_edge_length must be two values using 'range' sample style. Got [640, 672, 704, 736, 768, 800]!\n",
      "Failed 000000532855.jpg: short_edge_length must be two values using 'range' sample style. Got [640, 672, 704, 736, 768, 800]!\n"
     ]
    },
    {
     "name": "stderr",
     "output_type": "stream",
     "text": [
      "Extracting features:  92%|████████████████████████████████████████████████████▍    | 4604/5000 [02:09<00:11, 34.44it/s]"
     ]
    },
    {
     "name": "stdout",
     "output_type": "stream",
     "text": [
      "Failed 000000532901.jpg: short_edge_length must be two values using 'range' sample style. Got [640, 672, 704, 736, 768, 800]!\n",
      "Failed 000000533145.jpg: short_edge_length must be two values using 'range' sample style. Got [640, 672, 704, 736, 768, 800]!\n",
      "Failed 000000533206.jpg: short_edge_length must be two values using 'range' sample style. Got [640, 672, 704, 736, 768, 800]!\n",
      "Failed 000000533493.jpg: short_edge_length must be two values using 'range' sample style. Got [640, 672, 704, 736, 768, 800]!\n",
      "Failed 000000533536.jpg: short_edge_length must be two values using 'range' sample style. Got [640, 672, 704, 736, 768, 800]!\n",
      "Failed 000000533816.jpg: short_edge_length must be two values using 'range' sample style. Got [640, 672, 704, 736, 768, 800]!\n",
      "Failed 000000533855.jpg: short_edge_length must be two values using 'range' sample style. Got [640, 672, 704, 736, 768, 800]!\n",
      "Failed 000000533958.jpg: short_edge_length must be two values using 'range' sample style. Got [640, 672, 704, 736, 768, 800]!\n"
     ]
    },
    {
     "name": "stderr",
     "output_type": "stream",
     "text": [
      "\r",
      "Extracting features:  92%|████████████████████████████████████████████████████▌    | 4609/5000 [02:09<00:10, 36.95it/s]"
     ]
    },
    {
     "name": "stdout",
     "output_type": "stream",
     "text": [
      "Failed 000000534041.jpg: short_edge_length must be two values using 'range' sample style. Got [640, 672, 704, 736, 768, 800]!\n",
      "Failed 000000534270.jpg: short_edge_length must be two values using 'range' sample style. Got [640, 672, 704, 736, 768, 800]!\n",
      "Failed 000000534394.jpg: short_edge_length must be two values using 'range' sample style. Got [640, 672, 704, 736, 768, 800]!\n",
      "Failed 000000534601.jpg: short_edge_length must be two values using 'range' sample style. Got [640, 672, 704, 736, 768, 800]!\n",
      "Failed 000000534605.jpg: short_edge_length must be two values using 'range' sample style. Got [640, 672, 704, 736, 768, 800]!\n",
      "Failed 000000534639.jpg: short_edge_length must be two values using 'range' sample style. Got [640, 672, 704, 736, 768, 800]!\n",
      "Failed 000000534664.jpg: short_edge_length must be two values using 'range' sample style. Got [640, 672, 704, 736, 768, 800]!\n",
      "Failed 000000534673.jpg: short_edge_length must be two values using 'range' sample style. Got [640, 672, 704, 736, 768, 800]!\n"
     ]
    },
    {
     "name": "stderr",
     "output_type": "stream",
     "text": [
      "Extracting features:  92%|████████████████████████████████████████████████████▋    | 4617/5000 [02:09<00:10, 34.93it/s]"
     ]
    },
    {
     "name": "stdout",
     "output_type": "stream",
     "text": [
      "Failed 000000534827.jpg: short_edge_length must be two values using 'range' sample style. Got [640, 672, 704, 736, 768, 800]!\n",
      "Failed 000000535094.jpg: short_edge_length must be two values using 'range' sample style. Got [640, 672, 704, 736, 768, 800]!\n",
      "Failed 000000535156.jpg: short_edge_length must be two values using 'range' sample style. Got [640, 672, 704, 736, 768, 800]!\n",
      "Failed 000000535253.jpg: short_edge_length must be two values using 'range' sample style. Got [640, 672, 704, 736, 768, 800]!\n",
      "Failed 000000535306.jpg: short_edge_length must be two values using 'range' sample style. Got [640, 672, 704, 736, 768, 800]!\n",
      "Failed 000000535523.jpg: short_edge_length must be two values using 'range' sample style. Got [640, 672, 704, 736, 768, 800]!\n",
      "Failed 000000535578.jpg: short_edge_length must be two values using 'range' sample style. Got [640, 672, 704, 736, 768, 800]!\n"
     ]
    },
    {
     "name": "stderr",
     "output_type": "stream",
     "text": [
      "Extracting features:  93%|████████████████████████████████████████████████████▋    | 4626/5000 [02:09<00:10, 35.54it/s]"
     ]
    },
    {
     "name": "stdout",
     "output_type": "stream",
     "text": [
      "Failed 000000535608.jpg: short_edge_length must be two values using 'range' sample style. Got [640, 672, 704, 736, 768, 800]!\n",
      "Failed 000000535858.jpg: short_edge_length must be two values using 'range' sample style. Got [640, 672, 704, 736, 768, 800]!\n",
      "Failed 000000536038.jpg: short_edge_length must be two values using 'range' sample style. Got [640, 672, 704, 736, 768, 800]!\n",
      "Failed 000000536073.jpg: short_edge_length must be two values using 'range' sample style. Got [640, 672, 704, 736, 768, 800]!\n",
      "Failed 000000536343.jpg: short_edge_length must be two values using 'range' sample style. Got [640, 672, 704, 736, 768, 800]!\n",
      "Failed 000000536947.jpg: short_edge_length must be two values using 'range' sample style. Got [640, 672, 704, 736, 768, 800]!\n",
      "Failed 000000537053.jpg: short_edge_length must be two values using 'range' sample style. Got [640, 672, 704, 736, 768, 800]!\n",
      "Failed 000000537153.jpg: short_edge_length must be two values using 'range' sample style. Got [640, 672, 704, 736, 768, 800]!\n"
     ]
    },
    {
     "name": "stderr",
     "output_type": "stream",
     "text": [
      "Extracting features:  93%|████████████████████████████████████████████████████▊    | 4635/5000 [02:10<00:09, 37.34it/s]"
     ]
    },
    {
     "name": "stdout",
     "output_type": "stream",
     "text": [
      "Failed 000000537241.jpg: short_edge_length must be two values using 'range' sample style. Got [640, 672, 704, 736, 768, 800]!\n",
      "Failed 000000537270.jpg: short_edge_length must be two values using 'range' sample style. Got [640, 672, 704, 736, 768, 800]!\n",
      "Failed 000000537355.jpg: short_edge_length must be two values using 'range' sample style. Got [640, 672, 704, 736, 768, 800]!\n",
      "Failed 000000537506.jpg: short_edge_length must be two values using 'range' sample style. Got [640, 672, 704, 736, 768, 800]!\n",
      "Failed 000000537672.jpg: short_edge_length must be two values using 'range' sample style. Got [640, 672, 704, 736, 768, 800]!\n",
      "Failed 000000537802.jpg: short_edge_length must be two values using 'range' sample style. Got [640, 672, 704, 736, 768, 800]!\n",
      "Failed 000000537812.jpg: short_edge_length must be two values using 'range' sample style. Got [640, 672, 704, 736, 768, 800]!\n",
      "Failed 000000537827.jpg: short_edge_length must be two values using 'range' sample style. Got [640, 672, 704, 736, 768, 800]!\n"
     ]
    },
    {
     "name": "stderr",
     "output_type": "stream",
     "text": [
      "\r",
      "Extracting features:  93%|████████████████████████████████████████████████████▉    | 4639/5000 [02:10<00:09, 36.97it/s]"
     ]
    },
    {
     "name": "stdout",
     "output_type": "stream",
     "text": [
      "Failed 000000537964.jpg: short_edge_length must be two values using 'range' sample style. Got [640, 672, 704, 736, 768, 800]!\n",
      "Failed 000000537991.jpg: short_edge_length must be two values using 'range' sample style. Got [640, 672, 704, 736, 768, 800]!\n",
      "Failed 000000538067.jpg: short_edge_length must be two values using 'range' sample style. Got [640, 672, 704, 736, 768, 800]!\n",
      "Failed 000000538236.jpg: short_edge_length must be two values using 'range' sample style. Got [640, 672, 704, 736, 768, 800]!\n",
      "Failed 000000538364.jpg: short_edge_length must be two values using 'range' sample style. Got [640, 672, 704, 736, 768, 800]!\n",
      "Failed 000000538458.jpg: short_edge_length must be two values using 'range' sample style. Got [640, 672, 704, 736, 768, 800]!\n",
      "Failed 000000539143.jpg: short_edge_length must be two values using 'range' sample style. Got [640, 672, 704, 736, 768, 800]!\n"
     ]
    },
    {
     "name": "stderr",
     "output_type": "stream",
     "text": [
      "Extracting features:  93%|████████████████████████████████████████████████████▉    | 4647/5000 [02:10<00:09, 35.76it/s]"
     ]
    },
    {
     "name": "stdout",
     "output_type": "stream",
     "text": [
      "Failed 000000539445.jpg: short_edge_length must be two values using 'range' sample style. Got [640, 672, 704, 736, 768, 800]!\n",
      "Failed 000000539883.jpg: short_edge_length must be two values using 'range' sample style. Got [640, 672, 704, 736, 768, 800]!\n",
      "Failed 000000539962.jpg: short_edge_length must be two values using 'range' sample style. Got [640, 672, 704, 736, 768, 800]!\n",
      "Failed 000000540280.jpg: short_edge_length must be two values using 'range' sample style. Got [640, 672, 704, 736, 768, 800]!\n",
      "Failed 000000540414.jpg: short_edge_length must be two values using 'range' sample style. Got [640, 672, 704, 736, 768, 800]!\n",
      "Failed 000000540466.jpg: short_edge_length must be two values using 'range' sample style. Got [640, 672, 704, 736, 768, 800]!\n",
      "Failed 000000540502.jpg: short_edge_length must be two values using 'range' sample style. Got [640, 672, 704, 736, 768, 800]!\n",
      "Failed 000000540928.jpg: short_edge_length must be two values using 'range' sample style. Got [640, 672, 704, 736, 768, 800]!\n"
     ]
    },
    {
     "name": "stderr",
     "output_type": "stream",
     "text": [
      "Extracting features:  93%|█████████████████████████████████████████████████████    | 4656/5000 [02:10<00:09, 37.13it/s]"
     ]
    },
    {
     "name": "stdout",
     "output_type": "stream",
     "text": [
      "Failed 000000540932.jpg: short_edge_length must be two values using 'range' sample style. Got [640, 672, 704, 736, 768, 800]!\n",
      "Failed 000000540962.jpg: short_edge_length must be two values using 'range' sample style. Got [640, 672, 704, 736, 768, 800]!\n",
      "Failed 000000541055.jpg: short_edge_length must be two values using 'range' sample style. Got [640, 672, 704, 736, 768, 800]!\n",
      "Failed 000000541123.jpg: short_edge_length must be two values using 'range' sample style. Got [640, 672, 704, 736, 768, 800]!\n",
      "Failed 000000541291.jpg: short_edge_length must be two values using 'range' sample style. Got [640, 672, 704, 736, 768, 800]!\n",
      "Failed 000000541634.jpg: short_edge_length must be two values using 'range' sample style. Got [640, 672, 704, 736, 768, 800]!\n",
      "Failed 000000541664.jpg: short_edge_length must be two values using 'range' sample style. Got [640, 672, 704, 736, 768, 800]!\n",
      "Failed 000000541773.jpg: short_edge_length must be two values using 'range' sample style. Got [640, 672, 704, 736, 768, 800]!\n"
     ]
    },
    {
     "name": "stderr",
     "output_type": "stream",
     "text": [
      "Extracting features:  93%|█████████████████████████████████████████████████████▏   | 4664/5000 [02:10<00:09, 36.31it/s]"
     ]
    },
    {
     "name": "stdout",
     "output_type": "stream",
     "text": [
      "Failed 000000541952.jpg: short_edge_length must be two values using 'range' sample style. Got [640, 672, 704, 736, 768, 800]!\n",
      "Failed 000000542073.jpg: short_edge_length must be two values using 'range' sample style. Got [640, 672, 704, 736, 768, 800]!\n",
      "Failed 000000542089.jpg: short_edge_length must be two values using 'range' sample style. Got [640, 672, 704, 736, 768, 800]!\n",
      "Failed 000000542127.jpg: short_edge_length must be two values using 'range' sample style. Got [640, 672, 704, 736, 768, 800]!\n",
      "Failed 000000542423.jpg: short_edge_length must be two values using 'range' sample style. Got [640, 672, 704, 736, 768, 800]!\n",
      "Failed 000000542625.jpg: short_edge_length must be two values using 'range' sample style. Got [640, 672, 704, 736, 768, 800]!\n",
      "Failed 000000542776.jpg: short_edge_length must be two values using 'range' sample style. Got [640, 672, 704, 736, 768, 800]!\n",
      "Failed 000000542856.jpg: short_edge_length must be two values using 'range' sample style. Got [640, 672, 704, 736, 768, 800]!\n"
     ]
    },
    {
     "name": "stderr",
     "output_type": "stream",
     "text": [
      "\r",
      "Extracting features:  93%|█████████████████████████████████████████████████████▏   | 4668/5000 [02:10<00:09, 36.83it/s]"
     ]
    },
    {
     "name": "stdout",
     "output_type": "stream",
     "text": [
      "Failed 000000543043.jpg: short_edge_length must be two values using 'range' sample style. Got [640, 672, 704, 736, 768, 800]!\n",
      "Failed 000000543047.jpg: short_edge_length must be two values using 'range' sample style. Got [640, 672, 704, 736, 768, 800]!\n",
      "Failed 000000543300.jpg: short_edge_length must be two values using 'range' sample style. Got [640, 672, 704, 736, 768, 800]!\n",
      "Failed 000000543528.jpg: short_edge_length must be two values using 'range' sample style. Got [640, 672, 704, 736, 768, 800]!\n",
      "Failed 000000543581.jpg: short_edge_length must be two values using 'range' sample style. Got [640, 672, 704, 736, 768, 800]!\n"
     ]
    },
    {
     "name": "stderr",
     "output_type": "stream",
     "text": [
      "Extracting features:  94%|█████████████████████████████████████████████████████▎   | 4676/5000 [02:11<00:10, 29.94it/s]"
     ]
    },
    {
     "name": "stdout",
     "output_type": "stream",
     "text": [
      "Failed 000000544052.jpg: short_edge_length must be two values using 'range' sample style. Got [640, 672, 704, 736, 768, 800]!\n",
      "Failed 000000544306.jpg: short_edge_length must be two values using 'range' sample style. Got [640, 672, 704, 736, 768, 800]!\n",
      "Failed 000000544444.jpg: short_edge_length must be two values using 'range' sample style. Got [640, 672, 704, 736, 768, 800]!\n",
      "Failed 000000544519.jpg: short_edge_length must be two values using 'range' sample style. Got [640, 672, 704, 736, 768, 800]!\n",
      "Failed 000000544565.jpg: short_edge_length must be two values using 'range' sample style. Got [640, 672, 704, 736, 768, 800]!\n",
      "Failed 000000544605.jpg: short_edge_length must be two values using 'range' sample style. Got [640, 672, 704, 736, 768, 800]!\n",
      "Failed 000000544811.jpg: short_edge_length must be two values using 'range' sample style. Got [640, 672, 704, 736, 768, 800]!\n"
     ]
    },
    {
     "name": "stderr",
     "output_type": "stream",
     "text": [
      "Extracting features:  94%|█████████████████████████████████████████████████████▍   | 4685/5000 [02:11<00:09, 31.54it/s]"
     ]
    },
    {
     "name": "stdout",
     "output_type": "stream",
     "text": [
      "Failed 000000545007.jpg: short_edge_length must be two values using 'range' sample style. Got [640, 672, 704, 736, 768, 800]!\n",
      "Failed 000000545100.jpg: short_edge_length must be two values using 'range' sample style. Got [640, 672, 704, 736, 768, 800]!\n",
      "Failed 000000545129.jpg: short_edge_length must be two values using 'range' sample style. Got [640, 672, 704, 736, 768, 800]!\n",
      "Failed 000000545219.jpg: short_edge_length must be two values using 'range' sample style. Got [640, 672, 704, 736, 768, 800]!\n",
      "Failed 000000545407.jpg: short_edge_length must be two values using 'range' sample style. Got [640, 672, 704, 736, 768, 800]!\n",
      "Failed 000000545594.jpg: short_edge_length must be two values using 'range' sample style. Got [640, 672, 704, 736, 768, 800]!\n",
      "Failed 000000545730.jpg: short_edge_length must be two values using 'range' sample style. Got [640, 672, 704, 736, 768, 800]!\n"
     ]
    },
    {
     "name": "stderr",
     "output_type": "stream",
     "text": [
      "\r",
      "Extracting features:  94%|█████████████████████████████████████████████████████▍   | 4689/5000 [02:11<00:09, 33.35it/s]"
     ]
    },
    {
     "name": "stdout",
     "output_type": "stream",
     "text": [
      "Failed 000000545826.jpg: short_edge_length must be two values using 'range' sample style. Got [640, 672, 704, 736, 768, 800]!\n",
      "Failed 000000545958.jpg: short_edge_length must be two values using 'range' sample style. Got [640, 672, 704, 736, 768, 800]!\n",
      "Failed 000000546011.jpg: short_edge_length must be two values using 'range' sample style. Got [640, 672, 704, 736, 768, 800]!\n",
      "Failed 000000546219.jpg: short_edge_length must be two values using 'range' sample style. Got [640, 672, 704, 736, 768, 800]!\n",
      "Failed 000000546325.jpg: short_edge_length must be two values using 'range' sample style. Got [640, 672, 704, 736, 768, 800]!\n",
      "Failed 000000546475.jpg: short_edge_length must be two values using 'range' sample style. Got [640, 672, 704, 736, 768, 800]!\n",
      "Failed 000000546556.jpg: short_edge_length must be two values using 'range' sample style. Got [640, 672, 704, 736, 768, 800]!\n",
      "Failed 000000546626.jpg: short_edge_length must be two values using 'range' sample style. Got [640, 672, 704, 736, 768, 800]!\n"
     ]
    },
    {
     "name": "stderr",
     "output_type": "stream",
     "text": [
      "Extracting features:  94%|█████████████████████████████████████████████████████▌   | 4698/5000 [02:11<00:08, 34.54it/s]"
     ]
    },
    {
     "name": "stdout",
     "output_type": "stream",
     "text": [
      "Failed 000000546659.jpg: short_edge_length must be two values using 'range' sample style. Got [640, 672, 704, 736, 768, 800]!\n",
      "Failed 000000546717.jpg: short_edge_length must be two values using 'range' sample style. Got [640, 672, 704, 736, 768, 800]!\n",
      "Failed 000000546823.jpg: short_edge_length must be two values using 'range' sample style. Got [640, 672, 704, 736, 768, 800]!\n",
      "Failed 000000546826.jpg: short_edge_length must be two values using 'range' sample style. Got [640, 672, 704, 736, 768, 800]!\n",
      "Failed 000000546829.jpg: short_edge_length must be two values using 'range' sample style. Got [640, 672, 704, 736, 768, 800]!\n",
      "Failed 000000546964.jpg: short_edge_length must be two values using 'range' sample style. Got [640, 672, 704, 736, 768, 800]!\n",
      "Failed 000000546976.jpg: short_edge_length must be two values using 'range' sample style. Got [640, 672, 704, 736, 768, 800]!\n",
      "Failed 000000547144.jpg: short_edge_length must be two values using 'range' sample style. Got [640, 672, 704, 736, 768, 800]!\n"
     ]
    },
    {
     "name": "stderr",
     "output_type": "stream",
     "text": [
      "Extracting features:  94%|█████████████████████████████████████████████████████▋   | 4706/5000 [02:12<00:09, 31.50it/s]"
     ]
    },
    {
     "name": "stdout",
     "output_type": "stream",
     "text": [
      "Failed 000000547336.jpg: short_edge_length must be two values using 'range' sample style. Got [640, 672, 704, 736, 768, 800]!\n",
      "Failed 000000547383.jpg: short_edge_length must be two values using 'range' sample style. Got [640, 672, 704, 736, 768, 800]!\n",
      "Failed 000000547502.jpg: short_edge_length must be two values using 'range' sample style. Got [640, 672, 704, 736, 768, 800]!\n",
      "Failed 000000547519.jpg: short_edge_length must be two values using 'range' sample style. Got [640, 672, 704, 736, 768, 800]!\n",
      "Failed 000000547816.jpg: short_edge_length must be two values using 'range' sample style. Got [640, 672, 704, 736, 768, 800]!\n",
      "Failed 000000547854.jpg: short_edge_length must be two values using 'range' sample style. Got [640, 672, 704, 736, 768, 800]!\n",
      "Failed 000000547886.jpg: short_edge_length must be two values using 'range' sample style. Got [640, 672, 704, 736, 768, 800]!\n"
     ]
    },
    {
     "name": "stderr",
     "output_type": "stream",
     "text": [
      "Extracting features:  94%|█████████████████████████████████████████████████████▋   | 4714/5000 [02:12<00:08, 32.48it/s]"
     ]
    },
    {
     "name": "stdout",
     "output_type": "stream",
     "text": [
      "Failed 000000548246.jpg: short_edge_length must be two values using 'range' sample style. Got [640, 672, 704, 736, 768, 800]!\n",
      "Failed 000000548267.jpg: short_edge_length must be two values using 'range' sample style. Got [640, 672, 704, 736, 768, 800]!\n",
      "Failed 000000548339.jpg: short_edge_length must be two values using 'range' sample style. Got [640, 672, 704, 736, 768, 800]!\n",
      "Failed 000000548506.jpg: short_edge_length must be two values using 'range' sample style. Got [640, 672, 704, 736, 768, 800]!\n",
      "Failed 000000548524.jpg: short_edge_length must be two values using 'range' sample style. Got [640, 672, 704, 736, 768, 800]!\n",
      "Failed 000000548555.jpg: short_edge_length must be two values using 'range' sample style. Got [640, 672, 704, 736, 768, 800]!\n",
      "Failed 000000548780.jpg: short_edge_length must be two values using 'range' sample style. Got [640, 672, 704, 736, 768, 800]!\n",
      "Failed 000000549055.jpg: short_edge_length must be two values using 'range' sample style. Got [640, 672, 704, 736, 768, 800]!\n"
     ]
    },
    {
     "name": "stderr",
     "output_type": "stream",
     "text": [
      "Extracting features:  94%|█████████████████████████████████████████████████████▊   | 4722/5000 [02:12<00:07, 35.04it/s]"
     ]
    },
    {
     "name": "stdout",
     "output_type": "stream",
     "text": [
      "Failed 000000549136.jpg: short_edge_length must be two values using 'range' sample style. Got [640, 672, 704, 736, 768, 800]!\n",
      "Failed 000000549167.jpg: short_edge_length must be two values using 'range' sample style. Got [640, 672, 704, 736, 768, 800]!\n",
      "Failed 000000549220.jpg: short_edge_length must be two values using 'range' sample style. Got [640, 672, 704, 736, 768, 800]!\n",
      "Failed 000000549390.jpg: short_edge_length must be two values using 'range' sample style. Got [640, 672, 704, 736, 768, 800]!\n",
      "Failed 000000549674.jpg: short_edge_length must be two values using 'range' sample style. Got [640, 672, 704, 736, 768, 800]!\n",
      "Failed 000000549738.jpg: short_edge_length must be two values using 'range' sample style. Got [640, 672, 704, 736, 768, 800]!\n",
      "Failed 000000549930.jpg: short_edge_length must be two values using 'range' sample style. Got [640, 672, 704, 736, 768, 800]!\n",
      "Failed 000000550084.jpg: short_edge_length must be two values using 'range' sample style. Got [640, 672, 704, 736, 768, 800]!\n"
     ]
    },
    {
     "name": "stderr",
     "output_type": "stream",
     "text": [
      "Extracting features:  95%|█████████████████████████████████████████████████████▉   | 4730/5000 [02:12<00:07, 35.39it/s]"
     ]
    },
    {
     "name": "stdout",
     "output_type": "stream",
     "text": [
      "Failed 000000550322.jpg: short_edge_length must be two values using 'range' sample style. Got [640, 672, 704, 736, 768, 800]!\n",
      "Failed 000000550349.jpg: short_edge_length must be two values using 'range' sample style. Got [640, 672, 704, 736, 768, 800]!\n",
      "Failed 000000550426.jpg: short_edge_length must be two values using 'range' sample style. Got [640, 672, 704, 736, 768, 800]!\n",
      "Failed 000000550471.jpg: short_edge_length must be two values using 'range' sample style. Got [640, 672, 704, 736, 768, 800]!\n",
      "Failed 000000550691.jpg: short_edge_length must be two values using 'range' sample style. Got [640, 672, 704, 736, 768, 800]!\n",
      "Failed 000000550714.jpg: short_edge_length must be two values using 'range' sample style. Got [640, 672, 704, 736, 768, 800]!\n",
      "Failed 000000550797.jpg: short_edge_length must be two values using 'range' sample style. Got [640, 672, 704, 736, 768, 800]!\n"
     ]
    },
    {
     "name": "stderr",
     "output_type": "stream",
     "text": [
      "Extracting features:  95%|██████████████████████████████████████████████████████   | 4738/5000 [02:13<00:07, 33.18it/s]"
     ]
    },
    {
     "name": "stdout",
     "output_type": "stream",
     "text": [
      "Failed 000000550939.jpg: short_edge_length must be two values using 'range' sample style. Got [640, 672, 704, 736, 768, 800]!\n",
      "Failed 000000551215.jpg: short_edge_length must be two values using 'range' sample style. Got [640, 672, 704, 736, 768, 800]!\n",
      "Failed 000000551304.jpg: short_edge_length must be two values using 'range' sample style. Got [640, 672, 704, 736, 768, 800]!\n",
      "Failed 000000551350.jpg: short_edge_length must be two values using 'range' sample style. Got [640, 672, 704, 736, 768, 800]!\n",
      "Failed 000000551439.jpg: short_edge_length must be two values using 'range' sample style. Got [640, 672, 704, 736, 768, 800]!\n",
      "Failed 000000551660.jpg: short_edge_length must be two values using 'range' sample style. Got [640, 672, 704, 736, 768, 800]!\n",
      "Failed 000000551780.jpg: short_edge_length must be two values using 'range' sample style. Got [640, 672, 704, 736, 768, 800]!\n"
     ]
    },
    {
     "name": "stderr",
     "output_type": "stream",
     "text": [
      "\r",
      "Extracting features:  95%|██████████████████████████████████████████████████████   | 4742/5000 [02:13<00:07, 33.91it/s]"
     ]
    },
    {
     "name": "stdout",
     "output_type": "stream",
     "text": [
      "Failed 000000551794.jpg: short_edge_length must be two values using 'range' sample style. Got [640, 672, 704, 736, 768, 800]!\n",
      "Failed 000000551804.jpg: short_edge_length must be two values using 'range' sample style. Got [640, 672, 704, 736, 768, 800]!\n",
      "Failed 000000551815.jpg: short_edge_length must be two values using 'range' sample style. Got [640, 672, 704, 736, 768, 800]!\n",
      "Failed 000000551820.jpg: short_edge_length must be two values using 'range' sample style. Got [640, 672, 704, 736, 768, 800]!\n",
      "Failed 000000551822.jpg: short_edge_length must be two values using 'range' sample style. Got [640, 672, 704, 736, 768, 800]!\n",
      "Failed 000000552371.jpg: short_edge_length must be two values using 'range' sample style. Got [640, 672, 704, 736, 768, 800]!\n"
     ]
    },
    {
     "name": "stderr",
     "output_type": "stream",
     "text": [
      "Extracting features:  95%|██████████████████████████████████████████████████████▏  | 4750/5000 [02:13<00:07, 33.93it/s]"
     ]
    },
    {
     "name": "stdout",
     "output_type": "stream",
     "text": [
      "Failed 000000552612.jpg: short_edge_length must be two values using 'range' sample style. Got [640, 672, 704, 736, 768, 800]!\n",
      "Failed 000000552775.jpg: short_edge_length must be two values using 'range' sample style. Got [640, 672, 704, 736, 768, 800]!\n",
      "Failed 000000552842.jpg: short_edge_length must be two values using 'range' sample style. Got [640, 672, 704, 736, 768, 800]!\n",
      "Failed 000000552883.jpg: short_edge_length must be two values using 'range' sample style. Got [640, 672, 704, 736, 768, 800]!\n",
      "Failed 000000552902.jpg: short_edge_length must be two values using 'range' sample style. Got [640, 672, 704, 736, 768, 800]!\n",
      "Failed 000000553094.jpg: short_edge_length must be two values using 'range' sample style. Got [640, 672, 704, 736, 768, 800]!\n",
      "Failed 000000553221.jpg: short_edge_length must be two values using 'range' sample style. Got [640, 672, 704, 736, 768, 800]!\n",
      "Failed 000000553339.jpg: short_edge_length must be two values using 'range' sample style. Got [640, 672, 704, 736, 768, 800]!\n"
     ]
    },
    {
     "name": "stderr",
     "output_type": "stream",
     "text": [
      "Extracting features:  95%|██████████████████████████████████████████████████████▏  | 4758/5000 [02:13<00:06, 35.24it/s]"
     ]
    },
    {
     "name": "stdout",
     "output_type": "stream",
     "text": [
      "Failed 000000553511.jpg: short_edge_length must be two values using 'range' sample style. Got [640, 672, 704, 736, 768, 800]!\n",
      "Failed 000000553664.jpg: short_edge_length must be two values using 'range' sample style. Got [640, 672, 704, 736, 768, 800]!\n",
      "Failed 000000553669.jpg: short_edge_length must be two values using 'range' sample style. Got [640, 672, 704, 736, 768, 800]!\n",
      "Failed 000000553731.jpg: short_edge_length must be two values using 'range' sample style. Got [640, 672, 704, 736, 768, 800]!\n",
      "Failed 000000553776.jpg: short_edge_length must be two values using 'range' sample style. Got [640, 672, 704, 736, 768, 800]!\n",
      "Failed 000000553788.jpg: short_edge_length must be two values using 'range' sample style. Got [640, 672, 704, 736, 768, 800]!\n",
      "Failed 000000553990.jpg: short_edge_length must be two values using 'range' sample style. Got [640, 672, 704, 736, 768, 800]!\n",
      "Failed 000000554002.jpg: short_edge_length must be two values using 'range' sample style. Got [640, 672, 704, 736, 768, 800]!\n",
      "Failed 000000554156.jpg: short_edge_length must be two values using 'range' sample style. Got [640, 672, 704, 736, 768, 800]!\n"
     ]
    },
    {
     "name": "stderr",
     "output_type": "stream",
     "text": [
      "Extracting features:  95%|██████████████████████████████████████████████████████▎  | 4767/5000 [02:13<00:06, 37.10it/s]"
     ]
    },
    {
     "name": "stdout",
     "output_type": "stream",
     "text": [
      "Failed 000000554266.jpg: short_edge_length must be two values using 'range' sample style. Got [640, 672, 704, 736, 768, 800]!\n",
      "Failed 000000554291.jpg: short_edge_length must be two values using 'range' sample style. Got [640, 672, 704, 736, 768, 800]!\n",
      "Failed 000000554328.jpg: short_edge_length must be two values using 'range' sample style. Got [640, 672, 704, 736, 768, 800]!\n",
      "Failed 000000554579.jpg: short_edge_length must be two values using 'range' sample style. Got [640, 672, 704, 736, 768, 800]!\n",
      "Failed 000000554595.jpg: short_edge_length must be two values using 'range' sample style. Got [640, 672, 704, 736, 768, 800]!\n",
      "Failed 000000554735.jpg: short_edge_length must be two values using 'range' sample style. Got [640, 672, 704, 736, 768, 800]!\n",
      "Failed 000000554838.jpg: short_edge_length must be two values using 'range' sample style. Got [640, 672, 704, 736, 768, 800]!\n",
      "Failed 000000555005.jpg: short_edge_length must be two values using 'range' sample style. Got [640, 672, 704, 736, 768, 800]!\n"
     ]
    },
    {
     "name": "stderr",
     "output_type": "stream",
     "text": [
      "Extracting features:  96%|██████████████████████████████████████████████████████▍  | 4775/5000 [02:14<00:06, 36.89it/s]"
     ]
    },
    {
     "name": "stdout",
     "output_type": "stream",
     "text": [
      "Failed 000000555009.jpg: short_edge_length must be two values using 'range' sample style. Got [640, 672, 704, 736, 768, 800]!\n",
      "Failed 000000555012.jpg: short_edge_length must be two values using 'range' sample style. Got [640, 672, 704, 736, 768, 800]!\n",
      "Failed 000000555050.jpg: short_edge_length must be two values using 'range' sample style. Got [640, 672, 704, 736, 768, 800]!\n",
      "Failed 000000555412.jpg: short_edge_length must be two values using 'range' sample style. Got [640, 672, 704, 736, 768, 800]!\n",
      "Failed 000000555597.jpg: short_edge_length must be two values using 'range' sample style. Got [640, 672, 704, 736, 768, 800]!\n",
      "Failed 000000555705.jpg: short_edge_length must be two values using 'range' sample style. Got [640, 672, 704, 736, 768, 800]!\n",
      "Failed 000000555972.jpg: short_edge_length must be two values using 'range' sample style. Got [640, 672, 704, 736, 768, 800]!\n",
      "Failed 000000556000.jpg: short_edge_length must be two values using 'range' sample style. Got [640, 672, 704, 736, 768, 800]!\n"
     ]
    },
    {
     "name": "stderr",
     "output_type": "stream",
     "text": [
      "Extracting features:  96%|██████████████████████████████████████████████████████▌  | 4783/5000 [02:14<00:05, 36.72it/s]"
     ]
    },
    {
     "name": "stdout",
     "output_type": "stream",
     "text": [
      "Failed 000000556158.jpg: short_edge_length must be two values using 'range' sample style. Got [640, 672, 704, 736, 768, 800]!\n",
      "Failed 000000556193.jpg: short_edge_length must be two values using 'range' sample style. Got [640, 672, 704, 736, 768, 800]!\n",
      "Failed 000000556498.jpg: short_edge_length must be two values using 'range' sample style. Got [640, 672, 704, 736, 768, 800]!\n",
      "Failed 000000556765.jpg: short_edge_length must be two values using 'range' sample style. Got [640, 672, 704, 736, 768, 800]!\n",
      "Failed 000000556873.jpg: short_edge_length must be two values using 'range' sample style. Got [640, 672, 704, 736, 768, 800]!\n",
      "Failed 000000557172.jpg: short_edge_length must be two values using 'range' sample style. Got [640, 672, 704, 736, 768, 800]!\n",
      "Failed 000000557258.jpg: short_edge_length must be two values using 'range' sample style. Got [640, 672, 704, 736, 768, 800]!\n",
      "Failed 000000557501.jpg: short_edge_length must be two values using 'range' sample style. Got [640, 672, 704, 736, 768, 800]!\n",
      "Failed 000000557672.jpg: short_edge_length must be two values using 'range' sample style. Got [640, 672, 704, 736, 768, 800]!\n"
     ]
    },
    {
     "name": "stderr",
     "output_type": "stream",
     "text": [
      "Extracting features:  96%|██████████████████████████████████████████████████████▋  | 4792/5000 [02:14<00:05, 39.02it/s]"
     ]
    },
    {
     "name": "stdout",
     "output_type": "stream",
     "text": [
      "Failed 000000557884.jpg: short_edge_length must be two values using 'range' sample style. Got [640, 672, 704, 736, 768, 800]!\n",
      "Failed 000000557916.jpg: short_edge_length must be two values using 'range' sample style. Got [640, 672, 704, 736, 768, 800]!\n",
      "Failed 000000558073.jpg: short_edge_length must be two values using 'range' sample style. Got [640, 672, 704, 736, 768, 800]!\n",
      "Failed 000000558114.jpg: short_edge_length must be two values using 'range' sample style. Got [640, 672, 704, 736, 768, 800]!\n",
      "Failed 000000558213.jpg: short_edge_length must be two values using 'range' sample style. Got [640, 672, 704, 736, 768, 800]!\n",
      "Failed 000000558421.jpg: short_edge_length must be two values using 'range' sample style. Got [640, 672, 704, 736, 768, 800]!\n",
      "Failed 000000558558.jpg: short_edge_length must be two values using 'range' sample style. Got [640, 672, 704, 736, 768, 800]!\n",
      "Failed 000000558854.jpg: short_edge_length must be two values using 'range' sample style. Got [640, 672, 704, 736, 768, 800]!\n",
      "Failed 000000559099.jpg: short_edge_length must be two values using 'range' sample style. Got [640, 672, 704, 736, 768, 800]!\n"
     ]
    },
    {
     "name": "stderr",
     "output_type": "stream",
     "text": [
      "Extracting features:  96%|██████████████████████████████████████████████████████▋  | 4800/5000 [02:14<00:05, 38.07it/s]"
     ]
    },
    {
     "name": "stdout",
     "output_type": "stream",
     "text": [
      "Failed 000000559160.jpg: short_edge_length must be two values using 'range' sample style. Got [640, 672, 704, 736, 768, 800]!\n",
      "Failed 000000559348.jpg: short_edge_length must be two values using 'range' sample style. Got [640, 672, 704, 736, 768, 800]!\n",
      "Failed 000000559513.jpg: short_edge_length must be two values using 'range' sample style. Got [640, 672, 704, 736, 768, 800]!\n",
      "Failed 000000559543.jpg: short_edge_length must be two values using 'range' sample style. Got [640, 672, 704, 736, 768, 800]!\n",
      "Failed 000000559547.jpg: short_edge_length must be two values using 'range' sample style. Got [640, 672, 704, 736, 768, 800]!\n",
      "Failed 000000559707.jpg: short_edge_length must be two values using 'range' sample style. Got [640, 672, 704, 736, 768, 800]!\n",
      "Failed 000000559842.jpg: short_edge_length must be two values using 'range' sample style. Got [640, 672, 704, 736, 768, 800]!\n",
      "Failed 000000559956.jpg: short_edge_length must be two values using 'range' sample style. Got [640, 672, 704, 736, 768, 800]!\n"
     ]
    },
    {
     "name": "stderr",
     "output_type": "stream",
     "text": [
      "Extracting features:  96%|██████████████████████████████████████████████████████▊  | 4808/5000 [02:14<00:05, 35.71it/s]"
     ]
    },
    {
     "name": "stdout",
     "output_type": "stream",
     "text": [
      "Failed 000000560011.jpg: short_edge_length must be two values using 'range' sample style. Got [640, 672, 704, 736, 768, 800]!\n",
      "Failed 000000560178.jpg: short_edge_length must be two values using 'range' sample style. Got [640, 672, 704, 736, 768, 800]!\n",
      "Failed 000000560256.jpg: short_edge_length must be two values using 'range' sample style. Got [640, 672, 704, 736, 768, 800]!\n",
      "Failed 000000560266.jpg: short_edge_length must be two values using 'range' sample style. Got [640, 672, 704, 736, 768, 800]!\n",
      "Failed 000000560279.jpg: short_edge_length must be two values using 'range' sample style. Got [640, 672, 704, 736, 768, 800]!\n",
      "Failed 000000560312.jpg: short_edge_length must be two values using 'range' sample style. Got [640, 672, 704, 736, 768, 800]!\n",
      "Failed 000000560371.jpg: short_edge_length must be two values using 'range' sample style. Got [640, 672, 704, 736, 768, 800]!\n",
      "Failed 000000560474.jpg: short_edge_length must be two values using 'range' sample style. Got [640, 672, 704, 736, 768, 800]!\n"
     ]
    },
    {
     "name": "stderr",
     "output_type": "stream",
     "text": [
      "Extracting features:  96%|██████████████████████████████████████████████████████▉  | 4816/5000 [02:15<00:05, 35.48it/s]"
     ]
    },
    {
     "name": "stdout",
     "output_type": "stream",
     "text": [
      "Failed 000000560880.jpg: short_edge_length must be two values using 'range' sample style. Got [640, 672, 704, 736, 768, 800]!\n",
      "Failed 000000560911.jpg: short_edge_length must be two values using 'range' sample style. Got [640, 672, 704, 736, 768, 800]!\n",
      "Failed 000000561009.jpg: short_edge_length must be two values using 'range' sample style. Got [640, 672, 704, 736, 768, 800]!\n",
      "Failed 000000561223.jpg: short_edge_length must be two values using 'range' sample style. Got [640, 672, 704, 736, 768, 800]!\n",
      "Failed 000000561256.jpg: short_edge_length must be two values using 'range' sample style. Got [640, 672, 704, 736, 768, 800]!\n",
      "Failed 000000561335.jpg: short_edge_length must be two values using 'range' sample style. Got [640, 672, 704, 736, 768, 800]!\n",
      "Failed 000000561366.jpg: short_edge_length must be two values using 'range' sample style. Got [640, 672, 704, 736, 768, 800]!\n"
     ]
    },
    {
     "name": "stderr",
     "output_type": "stream",
     "text": [
      "Extracting features:  96%|██████████████████████████████████████████████████████▉  | 4824/5000 [02:15<00:05, 33.42it/s]"
     ]
    },
    {
     "name": "stdout",
     "output_type": "stream",
     "text": [
      "Failed 000000561465.jpg: short_edge_length must be two values using 'range' sample style. Got [640, 672, 704, 736, 768, 800]!\n",
      "Failed 000000561679.jpg: short_edge_length must be two values using 'range' sample style. Got [640, 672, 704, 736, 768, 800]!\n",
      "Failed 000000561889.jpg: short_edge_length must be two values using 'range' sample style. Got [640, 672, 704, 736, 768, 800]!\n",
      "Failed 000000561958.jpg: short_edge_length must be two values using 'range' sample style. Got [640, 672, 704, 736, 768, 800]!\n",
      "Failed 000000562059.jpg: short_edge_length must be two values using 'range' sample style. Got [640, 672, 704, 736, 768, 800]!\n",
      "Failed 000000562121.jpg: short_edge_length must be two values using 'range' sample style. Got [640, 672, 704, 736, 768, 800]!\n",
      "Failed 000000562197.jpg: short_edge_length must be two values using 'range' sample style. Got [640, 672, 704, 736, 768, 800]!\n"
     ]
    },
    {
     "name": "stderr",
     "output_type": "stream",
     "text": [
      "Extracting features:  97%|███████████████████████████████████████████████████████  | 4832/5000 [02:15<00:05, 32.75it/s]"
     ]
    },
    {
     "name": "stdout",
     "output_type": "stream",
     "text": [
      "Failed 000000562207.jpg: short_edge_length must be two values using 'range' sample style. Got [640, 672, 704, 736, 768, 800]!\n",
      "Failed 000000562229.jpg: short_edge_length must be two values using 'range' sample style. Got [640, 672, 704, 736, 768, 800]!\n",
      "Failed 000000562243.jpg: short_edge_length must be two values using 'range' sample style. Got [640, 672, 704, 736, 768, 800]!\n",
      "Failed 000000562443.jpg: short_edge_length must be two values using 'range' sample style. Got [640, 672, 704, 736, 768, 800]!\n",
      "Failed 000000562448.jpg: short_edge_length must be two values using 'range' sample style. Got [640, 672, 704, 736, 768, 800]!\n",
      "Failed 000000562561.jpg: short_edge_length must be two values using 'range' sample style. Got [640, 672, 704, 736, 768, 800]!\n",
      "Failed 000000562581.jpg: short_edge_length must be two values using 'range' sample style. Got [640, 672, 704, 736, 768, 800]!\n"
     ]
    },
    {
     "name": "stderr",
     "output_type": "stream",
     "text": [
      "\r",
      "Extracting features:  97%|███████████████████████████████████████████████████████▏ | 4836/5000 [02:15<00:05, 32.75it/s]"
     ]
    },
    {
     "name": "stdout",
     "output_type": "stream",
     "text": [
      "Failed 000000562818.jpg: short_edge_length must be two values using 'range' sample style. Got [640, 672, 704, 736, 768, 800]!\n",
      "Failed 000000562843.jpg: short_edge_length must be two values using 'range' sample style. Got [640, 672, 704, 736, 768, 800]!\n",
      "Failed 000000563267.jpg: short_edge_length must be two values using 'range' sample style. Got [640, 672, 704, 736, 768, 800]!\n",
      "Failed 000000563281.jpg: short_edge_length must be two values using 'range' sample style. Got [640, 672, 704, 736, 768, 800]!\n",
      "Failed 000000563349.jpg: short_edge_length must be two values using 'range' sample style. Got [640, 672, 704, 736, 768, 800]!\n",
      "Failed 000000563470.jpg: short_edge_length must be two values using 'range' sample style. Got [640, 672, 704, 736, 768, 800]!\n"
     ]
    },
    {
     "name": "stderr",
     "output_type": "stream",
     "text": [
      "Extracting features:  97%|███████████████████████████████████████████████████████▏ | 4844/5000 [02:16<00:04, 33.49it/s]"
     ]
    },
    {
     "name": "stdout",
     "output_type": "stream",
     "text": [
      "Failed 000000563603.jpg: short_edge_length must be two values using 'range' sample style. Got [640, 672, 704, 736, 768, 800]!\n",
      "Failed 000000563604.jpg: short_edge_length must be two values using 'range' sample style. Got [640, 672, 704, 736, 768, 800]!\n",
      "Failed 000000563648.jpg: short_edge_length must be two values using 'range' sample style. Got [640, 672, 704, 736, 768, 800]!\n",
      "Failed 000000563653.jpg: short_edge_length must be two values using 'range' sample style. Got [640, 672, 704, 736, 768, 800]!\n",
      "Failed 000000563702.jpg: short_edge_length must be two values using 'range' sample style. Got [640, 672, 704, 736, 768, 800]!\n",
      "Failed 000000563758.jpg: short_edge_length must be two values using 'range' sample style. Got [640, 672, 704, 736, 768, 800]!\n",
      "Failed 000000563882.jpg: short_edge_length must be two values using 'range' sample style. Got [640, 672, 704, 736, 768, 800]!\n"
     ]
    },
    {
     "name": "stderr",
     "output_type": "stream",
     "text": [
      "Extracting features:  97%|███████████████████████████████████████████████████████▎ | 4852/5000 [02:16<00:04, 31.98it/s]"
     ]
    },
    {
     "name": "stdout",
     "output_type": "stream",
     "text": [
      "Failed 000000564023.jpg: short_edge_length must be two values using 'range' sample style. Got [640, 672, 704, 736, 768, 800]!\n",
      "Failed 000000564091.jpg: short_edge_length must be two values using 'range' sample style. Got [640, 672, 704, 736, 768, 800]!\n",
      "Failed 000000564127.jpg: short_edge_length must be two values using 'range' sample style. Got [640, 672, 704, 736, 768, 800]!\n",
      "Failed 000000564133.jpg: short_edge_length must be two values using 'range' sample style. Got [640, 672, 704, 736, 768, 800]!\n",
      "Failed 000000564280.jpg: short_edge_length must be two values using 'range' sample style. Got [640, 672, 704, 736, 768, 800]!\n",
      "Failed 000000564336.jpg: short_edge_length must be two values using 'range' sample style. Got [640, 672, 704, 736, 768, 800]!\n",
      "Failed 000000565012.jpg: short_edge_length must be two values using 'range' sample style. Got [640, 672, 704, 736, 768, 800]!\n"
     ]
    },
    {
     "name": "stderr",
     "output_type": "stream",
     "text": [
      "\r",
      "Extracting features:  97%|███████████████████████████████████████████████████████▎ | 4856/5000 [02:16<00:04, 32.03it/s]"
     ]
    },
    {
     "name": "stdout",
     "output_type": "stream",
     "text": [
      "Failed 000000565045.jpg: short_edge_length must be two values using 'range' sample style. Got [640, 672, 704, 736, 768, 800]!\n",
      "Failed 000000565153.jpg: short_edge_length must be two values using 'range' sample style. Got [640, 672, 704, 736, 768, 800]!\n",
      "Failed 000000565391.jpg: short_edge_length must be two values using 'range' sample style. Got [640, 672, 704, 736, 768, 800]!\n",
      "Failed 000000565469.jpg: short_edge_length must be two values using 'range' sample style. Got [640, 672, 704, 736, 768, 800]!\n",
      "Failed 000000565563.jpg: short_edge_length must be two values using 'range' sample style. Got [640, 672, 704, 736, 768, 800]!\n",
      "Failed 000000565597.jpg: short_edge_length must be two values using 'range' sample style. Got [640, 672, 704, 736, 768, 800]!\n"
     ]
    },
    {
     "name": "stderr",
     "output_type": "stream",
     "text": [
      "Extracting features:  97%|███████████████████████████████████████████████████████▍ | 4864/5000 [02:16<00:04, 32.01it/s]"
     ]
    },
    {
     "name": "stdout",
     "output_type": "stream",
     "text": [
      "Failed 000000565607.jpg: short_edge_length must be two values using 'range' sample style. Got [640, 672, 704, 736, 768, 800]!\n",
      "Failed 000000565624.jpg: short_edge_length must be two values using 'range' sample style. Got [640, 672, 704, 736, 768, 800]!\n",
      "Failed 000000565776.jpg: short_edge_length must be two values using 'range' sample style. Got [640, 672, 704, 736, 768, 800]!\n",
      "Failed 000000565778.jpg: short_edge_length must be two values using 'range' sample style. Got [640, 672, 704, 736, 768, 800]!\n",
      "Failed 000000565853.jpg: short_edge_length must be two values using 'range' sample style. Got [640, 672, 704, 736, 768, 800]!\n",
      "Failed 000000565877.jpg: short_edge_length must be two values using 'range' sample style. Got [640, 672, 704, 736, 768, 800]!\n",
      "Failed 000000565962.jpg: short_edge_length must be two values using 'range' sample style. Got [640, 672, 704, 736, 768, 800]!\n",
      "Failed 000000565989.jpg: short_edge_length must be two values using 'range' sample style. Got [640, 672, 704, 736, 768, 800]!\n"
     ]
    },
    {
     "name": "stderr",
     "output_type": "stream",
     "text": [
      "Extracting features:  97%|███████████████████████████████████████████████████████▌ | 4873/5000 [02:16<00:03, 35.78it/s]"
     ]
    },
    {
     "name": "stdout",
     "output_type": "stream",
     "text": [
      "Failed 000000566042.jpg: short_edge_length must be two values using 'range' sample style. Got [640, 672, 704, 736, 768, 800]!\n",
      "Failed 000000566282.jpg: short_edge_length must be two values using 'range' sample style. Got [640, 672, 704, 736, 768, 800]!\n",
      "Failed 000000566436.jpg: short_edge_length must be two values using 'range' sample style. Got [640, 672, 704, 736, 768, 800]!\n",
      "Failed 000000566524.jpg: short_edge_length must be two values using 'range' sample style. Got [640, 672, 704, 736, 768, 800]!\n",
      "Failed 000000566758.jpg: short_edge_length must be two values using 'range' sample style. Got [640, 672, 704, 736, 768, 800]!\n",
      "Failed 000000566923.jpg: short_edge_length must be two values using 'range' sample style. Got [640, 672, 704, 736, 768, 800]!\n",
      "Failed 000000567011.jpg: short_edge_length must be two values using 'range' sample style. Got [640, 672, 704, 736, 768, 800]!\n",
      "Failed 000000567197.jpg: short_edge_length must be two values using 'range' sample style. Got [640, 672, 704, 736, 768, 800]!\n",
      "Failed 000000567432.jpg: short_edge_length must be two values using 'range' sample style. Got [640, 672, 704, 736, 768, 800]!\n"
     ]
    },
    {
     "name": "stderr",
     "output_type": "stream",
     "text": [
      "Extracting features:  98%|███████████████████████████████████████████████████████▋ | 4882/5000 [02:17<00:03, 37.47it/s]"
     ]
    },
    {
     "name": "stdout",
     "output_type": "stream",
     "text": [
      "Failed 000000567640.jpg: short_edge_length must be two values using 'range' sample style. Got [640, 672, 704, 736, 768, 800]!\n",
      "Failed 000000567740.jpg: short_edge_length must be two values using 'range' sample style. Got [640, 672, 704, 736, 768, 800]!\n",
      "Failed 000000567825.jpg: short_edge_length must be two values using 'range' sample style. Got [640, 672, 704, 736, 768, 800]!\n",
      "Failed 000000567886.jpg: short_edge_length must be two values using 'range' sample style. Got [640, 672, 704, 736, 768, 800]!\n",
      "Failed 000000567898.jpg: short_edge_length must be two values using 'range' sample style. Got [640, 672, 704, 736, 768, 800]!\n",
      "Failed 000000568147.jpg: short_edge_length must be two values using 'range' sample style. Got [640, 672, 704, 736, 768, 800]!\n",
      "Failed 000000568195.jpg: short_edge_length must be two values using 'range' sample style. Got [640, 672, 704, 736, 768, 800]!\n",
      "Failed 000000568213.jpg: short_edge_length must be two values using 'range' sample style. Got [640, 672, 704, 736, 768, 800]!\n",
      "Failed 000000568290.jpg: short_edge_length must be two values using 'range' sample style. Got [640, 672, 704, 736, 768, 800]!\n"
     ]
    },
    {
     "name": "stderr",
     "output_type": "stream",
     "text": [
      "Extracting features:  98%|███████████████████████████████████████████████████████▋ | 4890/5000 [02:17<00:02, 37.50it/s]"
     ]
    },
    {
     "name": "stdout",
     "output_type": "stream",
     "text": [
      "Failed 000000568439.jpg: short_edge_length must be two values using 'range' sample style. Got [640, 672, 704, 736, 768, 800]!\n",
      "Failed 000000568584.jpg: short_edge_length must be two values using 'range' sample style. Got [640, 672, 704, 736, 768, 800]!\n",
      "Failed 000000568690.jpg: short_edge_length must be two values using 'range' sample style. Got [640, 672, 704, 736, 768, 800]!\n",
      "Failed 000000568710.jpg: short_edge_length must be two values using 'range' sample style. Got [640, 672, 704, 736, 768, 800]!\n",
      "Failed 000000568814.jpg: short_edge_length must be two values using 'range' sample style. Got [640, 672, 704, 736, 768, 800]!\n",
      "Failed 000000568981.jpg: short_edge_length must be two values using 'range' sample style. Got [640, 672, 704, 736, 768, 800]!\n",
      "Failed 000000569030.jpg: short_edge_length must be two values using 'range' sample style. Got [640, 672, 704, 736, 768, 800]!\n",
      "Failed 000000569059.jpg: short_edge_length must be two values using 'range' sample style. Got [640, 672, 704, 736, 768, 800]!\n",
      "Failed 000000569273.jpg: short_edge_length must be two values using 'range' sample style. Got [640, 672, 704, 736, 768, 800]!\n"
     ]
    },
    {
     "name": "stderr",
     "output_type": "stream",
     "text": [
      "Extracting features:  98%|███████████████████████████████████████████████████████▊ | 4898/5000 [02:17<00:02, 36.54it/s]"
     ]
    },
    {
     "name": "stdout",
     "output_type": "stream",
     "text": [
      "Failed 000000569565.jpg: short_edge_length must be two values using 'range' sample style. Got [640, 672, 704, 736, 768, 800]!\n",
      "Failed 000000569700.jpg: short_edge_length must be two values using 'range' sample style. Got [640, 672, 704, 736, 768, 800]!\n",
      "Failed 000000569825.jpg: short_edge_length must be two values using 'range' sample style. Got [640, 672, 704, 736, 768, 800]!\n",
      "Failed 000000569917.jpg: short_edge_length must be two values using 'range' sample style. Got [640, 672, 704, 736, 768, 800]!\n",
      "Failed 000000569972.jpg: short_edge_length must be two values using 'range' sample style. Got [640, 672, 704, 736, 768, 800]!\n",
      "Failed 000000569976.jpg: short_edge_length must be two values using 'range' sample style. Got [640, 672, 704, 736, 768, 800]!\n",
      "Failed 000000570169.jpg: short_edge_length must be two values using 'range' sample style. Got [640, 672, 704, 736, 768, 800]!\n"
     ]
    },
    {
     "name": "stderr",
     "output_type": "stream",
     "text": [
      "Extracting features:  98%|███████████████████████████████████████████████████████▉ | 4907/5000 [02:17<00:02, 38.10it/s]"
     ]
    },
    {
     "name": "stdout",
     "output_type": "stream",
     "text": [
      "Failed 000000570448.jpg: short_edge_length must be two values using 'range' sample style. Got [640, 672, 704, 736, 768, 800]!\n",
      "Failed 000000570456.jpg: short_edge_length must be two values using 'range' sample style. Got [640, 672, 704, 736, 768, 800]!\n",
      "Failed 000000570471.jpg: short_edge_length must be two values using 'range' sample style. Got [640, 672, 704, 736, 768, 800]!\n",
      "Failed 000000570539.jpg: short_edge_length must be two values using 'range' sample style. Got [640, 672, 704, 736, 768, 800]!\n",
      "Failed 000000570664.jpg: short_edge_length must be two values using 'range' sample style. Got [640, 672, 704, 736, 768, 800]!\n",
      "Failed 000000570688.jpg: short_edge_length must be two values using 'range' sample style. Got [640, 672, 704, 736, 768, 800]!\n",
      "Failed 000000570736.jpg: short_edge_length must be two values using 'range' sample style. Got [640, 672, 704, 736, 768, 800]!\n",
      "Failed 000000570756.jpg: short_edge_length must be two values using 'range' sample style. Got [640, 672, 704, 736, 768, 800]!\n",
      "Failed 000000570782.jpg: short_edge_length must be two values using 'range' sample style. Got [640, 672, 704, 736, 768, 800]!\n"
     ]
    },
    {
     "name": "stderr",
     "output_type": "stream",
     "text": [
      "Extracting features:  98%|████████████████████████████████████████████████████████ | 4915/5000 [02:18<00:02, 37.94it/s]"
     ]
    },
    {
     "name": "stdout",
     "output_type": "stream",
     "text": [
      "Failed 000000570834.jpg: short_edge_length must be two values using 'range' sample style. Got [640, 672, 704, 736, 768, 800]!\n",
      "Failed 000000571008.jpg: short_edge_length must be two values using 'range' sample style. Got [640, 672, 704, 736, 768, 800]!\n",
      "Failed 000000571264.jpg: short_edge_length must be two values using 'range' sample style. Got [640, 672, 704, 736, 768, 800]!\n",
      "Failed 000000571313.jpg: short_edge_length must be two values using 'range' sample style. Got [640, 672, 704, 736, 768, 800]!\n",
      "Failed 000000571598.jpg: short_edge_length must be two values using 'range' sample style. Got [640, 672, 704, 736, 768, 800]!\n",
      "Failed 000000571718.jpg: short_edge_length must be two values using 'range' sample style. Got [640, 672, 704, 736, 768, 800]!\n",
      "Failed 000000571804.jpg: short_edge_length must be two values using 'range' sample style. Got [640, 672, 704, 736, 768, 800]!\n",
      "Failed 000000571857.jpg: short_edge_length must be two values using 'range' sample style. Got [640, 672, 704, 736, 768, 800]!\n"
     ]
    },
    {
     "name": "stderr",
     "output_type": "stream",
     "text": [
      "Extracting features:  98%|████████████████████████████████████████████████████████ | 4923/5000 [02:18<00:02, 35.45it/s]"
     ]
    },
    {
     "name": "stdout",
     "output_type": "stream",
     "text": [
      "Failed 000000571893.jpg: short_edge_length must be two values using 'range' sample style. Got [640, 672, 704, 736, 768, 800]!\n",
      "Failed 000000571943.jpg: short_edge_length must be two values using 'range' sample style. Got [640, 672, 704, 736, 768, 800]!\n",
      "Failed 000000572303.jpg: short_edge_length must be two values using 'range' sample style. Got [640, 672, 704, 736, 768, 800]!\n",
      "Failed 000000572388.jpg: short_edge_length must be two values using 'range' sample style. Got [640, 672, 704, 736, 768, 800]!\n",
      "Failed 000000572408.jpg: short_edge_length must be two values using 'range' sample style. Got [640, 672, 704, 736, 768, 800]!\n",
      "Failed 000000572462.jpg: short_edge_length must be two values using 'range' sample style. Got [640, 672, 704, 736, 768, 800]!\n",
      "Failed 000000572517.jpg: short_edge_length must be two values using 'range' sample style. Got [640, 672, 704, 736, 768, 800]!\n"
     ]
    },
    {
     "name": "stderr",
     "output_type": "stream",
     "text": [
      "Extracting features:  99%|████████████████████████████████████████████████████████▏| 4932/5000 [02:18<00:01, 36.55it/s]"
     ]
    },
    {
     "name": "stdout",
     "output_type": "stream",
     "text": [
      "Failed 000000572555.jpg: short_edge_length must be two values using 'range' sample style. Got [640, 672, 704, 736, 768, 800]!\n",
      "Failed 000000572620.jpg: short_edge_length must be two values using 'range' sample style. Got [640, 672, 704, 736, 768, 800]!\n",
      "Failed 000000572678.jpg: short_edge_length must be two values using 'range' sample style. Got [640, 672, 704, 736, 768, 800]!\n",
      "Failed 000000572900.jpg: short_edge_length must be two values using 'range' sample style. Got [640, 672, 704, 736, 768, 800]!\n",
      "Failed 000000572956.jpg: short_edge_length must be two values using 'range' sample style. Got [640, 672, 704, 736, 768, 800]!\n",
      "Failed 000000573008.jpg: short_edge_length must be two values using 'range' sample style. Got [640, 672, 704, 736, 768, 800]!\n",
      "Failed 000000573094.jpg: short_edge_length must be two values using 'range' sample style. Got [640, 672, 704, 736, 768, 800]!\n",
      "Failed 000000573258.jpg: short_edge_length must be two values using 'range' sample style. Got [640, 672, 704, 736, 768, 800]!\n"
     ]
    },
    {
     "name": "stderr",
     "output_type": "stream",
     "text": [
      "Extracting features:  99%|████████████████████████████████████████████████████████▎| 4940/5000 [02:18<00:01, 35.44it/s]"
     ]
    },
    {
     "name": "stdout",
     "output_type": "stream",
     "text": [
      "Failed 000000573391.jpg: short_edge_length must be two values using 'range' sample style. Got [640, 672, 704, 736, 768, 800]!\n",
      "Failed 000000573626.jpg: short_edge_length must be two values using 'range' sample style. Got [640, 672, 704, 736, 768, 800]!\n",
      "Failed 000000573943.jpg: short_edge_length must be two values using 'range' sample style. Got [640, 672, 704, 736, 768, 800]!\n",
      "Failed 000000574297.jpg: short_edge_length must be two values using 'range' sample style. Got [640, 672, 704, 736, 768, 800]!\n",
      "Failed 000000574315.jpg: short_edge_length must be two values using 'range' sample style. Got [640, 672, 704, 736, 768, 800]!\n",
      "Failed 000000574425.jpg: short_edge_length must be two values using 'range' sample style. Got [640, 672, 704, 736, 768, 800]!\n",
      "Failed 000000574520.jpg: short_edge_length must be two values using 'range' sample style. Got [640, 672, 704, 736, 768, 800]!\n",
      "Failed 000000574702.jpg: short_edge_length must be two values using 'range' sample style. Got [640, 672, 704, 736, 768, 800]!\n"
     ]
    },
    {
     "name": "stderr",
     "output_type": "stream",
     "text": [
      "\r",
      "Extracting features:  99%|████████████████████████████████████████████████████████▎| 4945/5000 [02:18<00:01, 36.67it/s]"
     ]
    },
    {
     "name": "stdout",
     "output_type": "stream",
     "text": [
      "Failed 000000574810.jpg: short_edge_length must be two values using 'range' sample style. Got [640, 672, 704, 736, 768, 800]!\n",
      "Failed 000000574823.jpg: short_edge_length must be two values using 'range' sample style. Got [640, 672, 704, 736, 768, 800]!\n",
      "Failed 000000575081.jpg: short_edge_length must be two values using 'range' sample style. Got [640, 672, 704, 736, 768, 800]!\n",
      "Failed 000000575187.jpg: short_edge_length must be two values using 'range' sample style. Got [640, 672, 704, 736, 768, 800]!\n",
      "Failed 000000575205.jpg: short_edge_length must be two values using 'range' sample style. Got [640, 672, 704, 736, 768, 800]!\n",
      "Failed 000000575243.jpg: short_edge_length must be two values using 'range' sample style. Got [640, 672, 704, 736, 768, 800]!\n",
      "Failed 000000575357.jpg: short_edge_length must be two values using 'range' sample style. Got [640, 672, 704, 736, 768, 800]!\n",
      "Failed 000000575372.jpg: short_edge_length must be two values using 'range' sample style. Got [640, 672, 704, 736, 768, 800]!\n"
     ]
    },
    {
     "name": "stderr",
     "output_type": "stream",
     "text": [
      "Extracting features:  99%|████████████████████████████████████████████████████████▍| 4953/5000 [02:19<00:01, 35.76it/s]"
     ]
    },
    {
     "name": "stdout",
     "output_type": "stream",
     "text": [
      "Failed 000000575500.jpg: short_edge_length must be two values using 'range' sample style. Got [640, 672, 704, 736, 768, 800]!\n",
      "Failed 000000575815.jpg: short_edge_length must be two values using 'range' sample style. Got [640, 672, 704, 736, 768, 800]!\n",
      "Failed 000000575970.jpg: short_edge_length must be two values using 'range' sample style. Got [640, 672, 704, 736, 768, 800]!\n",
      "Failed 000000576031.jpg: short_edge_length must be two values using 'range' sample style. Got [640, 672, 704, 736, 768, 800]!\n",
      "Failed 000000576052.jpg: short_edge_length must be two values using 'range' sample style. Got [640, 672, 704, 736, 768, 800]!\n",
      "Failed 000000576566.jpg: short_edge_length must be two values using 'range' sample style. Got [640, 672, 704, 736, 768, 800]!\n",
      "Failed 000000576654.jpg: short_edge_length must be two values using 'range' sample style. Got [640, 672, 704, 736, 768, 800]!\n",
      "Failed 000000576955.jpg: short_edge_length must be two values using 'range' sample style. Got [640, 672, 704, 736, 768, 800]!\n"
     ]
    },
    {
     "name": "stderr",
     "output_type": "stream",
     "text": [
      "Extracting features:  99%|████████████████████████████████████████████████████████▌| 4961/5000 [02:19<00:01, 36.03it/s]"
     ]
    },
    {
     "name": "stdout",
     "output_type": "stream",
     "text": [
      "Failed 000000577149.jpg: short_edge_length must be two values using 'range' sample style. Got [640, 672, 704, 736, 768, 800]!\n",
      "Failed 000000577182.jpg: short_edge_length must be two values using 'range' sample style. Got [640, 672, 704, 736, 768, 800]!\n",
      "Failed 000000577539.jpg: short_edge_length must be two values using 'range' sample style. Got [640, 672, 704, 736, 768, 800]!\n",
      "Failed 000000577584.jpg: short_edge_length must be two values using 'range' sample style. Got [640, 672, 704, 736, 768, 800]!\n",
      "Failed 000000577735.jpg: short_edge_length must be two values using 'range' sample style. Got [640, 672, 704, 736, 768, 800]!\n",
      "Failed 000000577862.jpg: short_edge_length must be two values using 'range' sample style. Got [640, 672, 704, 736, 768, 800]!\n",
      "Failed 000000577864.jpg: short_edge_length must be two values using 'range' sample style. Got [640, 672, 704, 736, 768, 800]!\n"
     ]
    },
    {
     "name": "stderr",
     "output_type": "stream",
     "text": [
      "Extracting features:  99%|████████████████████████████████████████████████████████▋| 4969/5000 [02:19<00:00, 37.00it/s]"
     ]
    },
    {
     "name": "stdout",
     "output_type": "stream",
     "text": [
      "Failed 000000577932.jpg: short_edge_length must be two values using 'range' sample style. Got [640, 672, 704, 736, 768, 800]!\n",
      "Failed 000000577959.jpg: short_edge_length must be two values using 'range' sample style. Got [640, 672, 704, 736, 768, 800]!\n",
      "Failed 000000577976.jpg: short_edge_length must be two values using 'range' sample style. Got [640, 672, 704, 736, 768, 800]!\n",
      "Failed 000000578093.jpg: short_edge_length must be two values using 'range' sample style. Got [640, 672, 704, 736, 768, 800]!\n",
      "Failed 000000578236.jpg: short_edge_length must be two values using 'range' sample style. Got [640, 672, 704, 736, 768, 800]!\n",
      "Failed 000000578489.jpg: short_edge_length must be two values using 'range' sample style. Got [640, 672, 704, 736, 768, 800]!\n",
      "Failed 000000578500.jpg: short_edge_length must be two values using 'range' sample style. Got [640, 672, 704, 736, 768, 800]!\n",
      "Failed 000000578545.jpg: short_edge_length must be two values using 'range' sample style. Got [640, 672, 704, 736, 768, 800]!\n",
      "Failed 000000578792.jpg: short_edge_length must be two values using 'range' sample style. Got [640, 672, 704, 736, 768, 800]!\n"
     ]
    },
    {
     "name": "stderr",
     "output_type": "stream",
     "text": [
      "Extracting features: 100%|████████████████████████████████████████████████████████▋| 4977/5000 [02:19<00:00, 34.78it/s]"
     ]
    },
    {
     "name": "stdout",
     "output_type": "stream",
     "text": [
      "Failed 000000578871.jpg: short_edge_length must be two values using 'range' sample style. Got [640, 672, 704, 736, 768, 800]!\n",
      "Failed 000000578922.jpg: short_edge_length must be two values using 'range' sample style. Got [640, 672, 704, 736, 768, 800]!\n",
      "Failed 000000578967.jpg: short_edge_length must be two values using 'range' sample style. Got [640, 672, 704, 736, 768, 800]!\n",
      "Failed 000000579070.jpg: short_edge_length must be two values using 'range' sample style. Got [640, 672, 704, 736, 768, 800]!\n",
      "Failed 000000579091.jpg: short_edge_length must be two values using 'range' sample style. Got [640, 672, 704, 736, 768, 800]!\n",
      "Failed 000000579158.jpg: short_edge_length must be two values using 'range' sample style. Got [640, 672, 704, 736, 768, 800]!\n",
      "Failed 000000579307.jpg: short_edge_length must be two values using 'range' sample style. Got [640, 672, 704, 736, 768, 800]!\n"
     ]
    },
    {
     "name": "stderr",
     "output_type": "stream",
     "text": [
      "Extracting features: 100%|████████████████████████████████████████████████████████▊| 4985/5000 [02:20<00:00, 35.95it/s]"
     ]
    },
    {
     "name": "stdout",
     "output_type": "stream",
     "text": [
      "Failed 000000579321.jpg: short_edge_length must be two values using 'range' sample style. Got [640, 672, 704, 736, 768, 800]!\n",
      "Failed 000000579635.jpg: short_edge_length must be two values using 'range' sample style. Got [640, 672, 704, 736, 768, 800]!\n",
      "Failed 000000579655.jpg: short_edge_length must be two values using 'range' sample style. Got [640, 672, 704, 736, 768, 800]!\n",
      "Failed 000000579818.jpg: short_edge_length must be two values using 'range' sample style. Got [640, 672, 704, 736, 768, 800]!\n",
      "Failed 000000579893.jpg: short_edge_length must be two values using 'range' sample style. Got [640, 672, 704, 736, 768, 800]!\n",
      "Failed 000000579900.jpg: short_edge_length must be two values using 'range' sample style. Got [640, 672, 704, 736, 768, 800]!\n",
      "Failed 000000579902.jpg: short_edge_length must be two values using 'range' sample style. Got [640, 672, 704, 736, 768, 800]!\n",
      "Failed 000000579970.jpg: short_edge_length must be two values using 'range' sample style. Got [640, 672, 704, 736, 768, 800]!\n"
     ]
    },
    {
     "name": "stderr",
     "output_type": "stream",
     "text": [
      "Extracting features: 100%|████████████████████████████████████████████████████████▉| 4994/5000 [02:20<00:00, 37.51it/s]"
     ]
    },
    {
     "name": "stdout",
     "output_type": "stream",
     "text": [
      "Failed 000000580197.jpg: short_edge_length must be two values using 'range' sample style. Got [640, 672, 704, 736, 768, 800]!\n",
      "Failed 000000580294.jpg: short_edge_length must be two values using 'range' sample style. Got [640, 672, 704, 736, 768, 800]!\n",
      "Failed 000000580410.jpg: short_edge_length must be two values using 'range' sample style. Got [640, 672, 704, 736, 768, 800]!\n",
      "Failed 000000580418.jpg: short_edge_length must be two values using 'range' sample style. Got [640, 672, 704, 736, 768, 800]!\n",
      "Failed 000000580757.jpg: short_edge_length must be two values using 'range' sample style. Got [640, 672, 704, 736, 768, 800]!\n",
      "Failed 000000581062.jpg: short_edge_length must be two values using 'range' sample style. Got [640, 672, 704, 736, 768, 800]!\n",
      "Failed 000000581100.jpg: short_edge_length must be two values using 'range' sample style. Got [640, 672, 704, 736, 768, 800]!\n",
      "Failed 000000581206.jpg: short_edge_length must be two values using 'range' sample style. Got [640, 672, 704, 736, 768, 800]!\n"
     ]
    },
    {
     "name": "stderr",
     "output_type": "stream",
     "text": [
      "Extracting features: 100%|█████████████████████████████████████████████████████████| 5000/5000 [02:20<00:00, 35.61it/s]"
     ]
    },
    {
     "name": "stdout",
     "output_type": "stream",
     "text": [
      "Failed 000000581317.jpg: short_edge_length must be two values using 'range' sample style. Got [640, 672, 704, 736, 768, 800]!\n",
      "Failed 000000581357.jpg: short_edge_length must be two values using 'range' sample style. Got [640, 672, 704, 736, 768, 800]!\n",
      "Failed 000000581482.jpg: short_edge_length must be two values using 'range' sample style. Got [640, 672, 704, 736, 768, 800]!\n",
      "Failed 000000581615.jpg: short_edge_length must be two values using 'range' sample style. Got [640, 672, 704, 736, 768, 800]!\n",
      "Failed 000000581781.jpg: short_edge_length must be two values using 'range' sample style. Got [640, 672, 704, 736, 768, 800]!\n",
      "Saved 0 features to image_features.npy.\n"
     ]
    },
    {
     "name": "stderr",
     "output_type": "stream",
     "text": [
      "\n"
     ]
    }
   ],
   "source": [
    "import os\n",
    "import cv2\n",
    "import numpy as np\n",
    "from tqdm import tqdm\n",
    "import torch\n",
    "from detectron2.engine import DefaultPredictor\n",
    "from detectron2.config import get_cfg\n",
    "from detectron2.modeling import build_model\n",
    "from detectron2.checkpoint import DetectionCheckpointer\n",
    "from detectron2.data import MetadataCatalog\n",
    "from detectron2.structures import Instances\n",
    "from detectron2.data.transforms import ResizeShortestEdge\n",
    "from detectron2.model_zoo import get_config_file, get_checkpoint_url\n",
    "\n",
    "def setup_model():\n",
    "    cfg = get_cfg()\n",
    "    cfg.merge_from_file(get_config_file(\"COCO-Detection/faster_rcnn_R_50_FPN_3x.yaml\"))\n",
    "    cfg.MODEL.ROI_HEADS.SCORE_THRESH_TEST = 0.5\n",
    "    cfg.MODEL.WEIGHTS = get_checkpoint_url(\"COCO-Detection/faster_rcnn_R_50_FPN_3x.yaml\")\n",
    "    cfg.MODEL.DEVICE = \"cuda\" if torch.cuda.is_available() else \"cpu\"\n",
    "    model = build_model(cfg)\n",
    "    model.eval()\n",
    "    DetectionCheckpointer(model).load(cfg.MODEL.WEIGHTS)\n",
    "    return model, cfg\n",
    "\n",
    "# Hàm trích đặc trưng trung bình qua các ROI (hoặc top-1)\n",
    "@torch.no_grad()\n",
    "def extract_features(model, image_path, cfg):\n",
    "    image = cv2.imread(image_path)\n",
    "    image_rgb = cv2.cvtColor(image, cv2.COLOR_BGR2RGB)\n",
    "    height, width = image.shape[:2]\n",
    "\n",
    "    aug = ResizeShortestEdge([640, 672, 704, 736, 768, 800], 1333)\n",
    "    image = aug.get_transform(image).apply_image(image)\n",
    "    image = torch.as_tensor(image.astype(\"float32\").transpose(2, 0, 1))  # CHW\n",
    "    inputs = {\"image\": image, \"height\": height, \"width\": width}\n",
    "    \n",
    "    features = model.backbone(image.unsqueeze(0).to(cfg.MODEL.DEVICE))\n",
    "    proposal_generator = model.proposal_generator\n",
    "    proposals, _ = proposal_generator([inputs], features)\n",
    "    \n",
    "    box_features = model.roi_heads._shared_roi_transform(\n",
    "        [features[f] for f in model.roi_heads.in_features], [x.proposal_boxes for x in proposals]\n",
    "    )\n",
    "    box_pooled = box_features.mean(dim=0).cpu().numpy()\n",
    "    \n",
    "    return box_pooled\n",
    "\n",
    "# Trích đặc trưng toàn bộ folder ảnh\n",
    "def extract_all_features(img_dir, save_path=\"image_features.npy\", save_ids=\"image_ids.npy\", limit=None):\n",
    "    model, cfg = setup_model()\n",
    "    image_vectors = []\n",
    "    image_ids = []\n",
    "\n",
    "    files = sorted([f for f in os.listdir(img_dir) if f.endswith(\".jpg\")])\n",
    "    if limit:\n",
    "        files = files[:limit]\n",
    "\n",
    "    for file in tqdm(files, desc=\"Extracting features\"):\n",
    "        img_path = os.path.join(img_dir, file)\n",
    "        image_id = os.path.splitext(file)[0]\n",
    "        try:\n",
    "            vec = extract_features(model, img_path, cfg)\n",
    "            image_vectors.append(vec)\n",
    "            image_ids.append(image_id)\n",
    "        except Exception as e:\n",
    "            print(f\"Failed {file}: {e}\")\n",
    "            continue\n",
    "\n",
    "    np.save(save_path, np.array(image_vectors))\n",
    "    np.save(save_ids, np.array(image_ids))\n",
    "    print(f\"Saved {len(image_ids)} features to {save_path}.\")\n",
    "\n",
    "# Ví dụ chạy:\n",
    "if __name__ == \"__main__\":\n",
    "    extract_all_features(\n",
    "        img_dir=\"E:/Download/val2017\",  # <== chỉnh đường dẫn tại đây\n",
    "        save_path=\"image_features.npy\",\n",
    "        save_ids=\"image_ids.npy\",\n",
    "        limit=5000  # để test nhanh, bạn có thể bỏ giới hạn\n",
    "    )"
   ]
  },
  {
   "cell_type": "code",
   "execution_count": null,
   "id": "4859a626",
   "metadata": {},
   "outputs": [],
   "source": []
  }
 ],
 "metadata": {
  "kernelspec": {
   "display_name": "Python 3 (ipykernel)",
   "language": "python",
   "name": "python3"
  },
  "language_info": {
   "codemirror_mode": {
    "name": "ipython",
    "version": 3
   },
   "file_extension": ".py",
   "mimetype": "text/x-python",
   "name": "python",
   "nbconvert_exporter": "python",
   "pygments_lexer": "ipython3",
   "version": "3.8.20"
  }
 },
 "nbformat": 4,
 "nbformat_minor": 5
}
