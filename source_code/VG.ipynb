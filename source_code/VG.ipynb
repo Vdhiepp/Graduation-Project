{
 "cells": [
  {
   "cell_type": "code",
   "execution_count": 1,
   "id": "c53650af",
   "metadata": {},
   "outputs": [
    {
     "name": "stdout",
     "output_type": "stream",
     "text": [
      "🔍 Đang tải objects.json...\n",
      "📌 Đang tạo ánh xạ object_id → synset/name...\n"
     ]
    },
    {
     "name": "stderr",
     "output_type": "stream",
     "text": [
      "100%|███████████████████████████████████████████████████████████████████████| 108077/108077 [00:03<00:00, 29584.79it/s]\n"
     ]
    },
    {
     "name": "stdout",
     "output_type": "stream",
     "text": [
      "🔍 Đang tải relationships.json...\n",
      "🔄 Đang kết hợp triplet với synset từ objects.json...\n"
     ]
    },
    {
     "name": "stderr",
     "output_type": "stream",
     "text": [
      "100%|████████████████████████████████████████████████████████████████████████| 108077/108077 [00:53<00:00, 2036.38it/s]\n"
     ]
    },
    {
     "name": "stdout",
     "output_type": "stream",
     "text": [
      "💾 Ghi 1737904 triplet vào f_vg_triplets.csv...\n",
      "✅ Hoàn tất!\n"
     ]
    }
   ],
   "source": [
    "import json\n",
    "import csv\n",
    "from tqdm import tqdm\n",
    "\n",
    "# Load objects.json\n",
    "print(\"🔍 Đang tải objects.json...\")\n",
    "with open(\"E:/Download/VG/objects.json\", \"r\") as f:\n",
    "    objects_data = json.load(f)\n",
    "\n",
    "# Tạo ánh xạ: image_id + object_id → synset (nếu có)\n",
    "print(\"📌 Đang tạo ánh xạ object_id → synset/name...\")\n",
    "object_map = {}  # key = (image_id, object_id), value = synset hoặc name\n",
    "\n",
    "for item in tqdm(objects_data):\n",
    "    image_id = item[\"image_id\"]\n",
    "    for obj in item[\"objects\"]:\n",
    "        obj_id = obj[\"object_id\"]\n",
    "        names = obj[\"names\"]\n",
    "        name = names[0].strip().lower() if names else None\n",
    "        synsets = obj[\"synsets\"]\n",
    "        key = (image_id, obj_id)\n",
    "        if synsets and len(synsets) > 0:\n",
    "            object_map[key] = synsets[0]  # dùng synset đầu tiên\n",
    "        else:\n",
    "            object_map[key] = name  # fallback dùng name\n",
    "\n",
    "# Load relationships.json\n",
    "print(\"🔍 Đang tải relationships.json...\")\n",
    "with open(\"E:/Download/VG/relationships.json\", \"r\") as f:\n",
    "    relationships_data = json.load(f)\n",
    "\n",
    "triplets = []\n",
    "\n",
    "print(\"🔄 Đang kết hợp triplet với synset từ objects.json...\")\n",
    "for item in tqdm(relationships_data):\n",
    "    image_id = item[\"image_id\"]\n",
    "    for rel in item.get(\"relationships\", []):\n",
    "        try:\n",
    "            subj_id = rel[\"subject\"][\"object_id\"]\n",
    "            obj_id = rel[\"object\"][\"object_id\"]\n",
    "            predicate = rel[\"predicate\"].strip().lower()\n",
    "\n",
    "            subject = object_map.get((image_id, subj_id), rel[\"subject\"][\"name\"].strip().lower())\n",
    "            obj = object_map.get((image_id, obj_id), rel[\"object\"][\"name\"].strip().lower())\n",
    "\n",
    "            triplets.append((subject, predicate, obj, image_id))\n",
    "        except Exception as e:\n",
    "            continue  # Skip nếu thiếu thông tin\n",
    "\n",
    "# Ghi ra file CSV\n",
    "output_file = \"f_vg_triplets.csv\"\n",
    "print(f\"💾 Ghi {len(triplets)} triplet vào {output_file}...\")\n",
    "with open(output_file, \"w\", newline='', encoding=\"utf-8\") as f:\n",
    "    writer = csv.writer(f)\n",
    "    writer.writerow([\"subject\", \"predicate\", \"object\", \"image_id\"])\n",
    "    writer.writerows(triplets)\n",
    "\n",
    "print(\"✅ Hoàn tất!\")\n"
   ]
  },
  {
   "cell_type": "code",
   "execution_count": null,
   "id": "b48313d8",
   "metadata": {},
   "outputs": [],
   "source": []
  }
 ],
 "metadata": {
  "kernelspec": {
   "display_name": "Python 3 (ipykernel)",
   "language": "python",
   "name": "python3"
  },
  "language_info": {
   "codemirror_mode": {
    "name": "ipython",
    "version": 3
   },
   "file_extension": ".py",
   "mimetype": "text/x-python",
   "name": "python",
   "nbconvert_exporter": "python",
   "pygments_lexer": "ipython3",
   "version": "3.8.20"
  }
 },
 "nbformat": 4,
 "nbformat_minor": 5
}
