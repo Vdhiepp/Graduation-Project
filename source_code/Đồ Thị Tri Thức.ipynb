{
 "cells": [
  {
   "cell_type": "code",
   "execution_count": 1,
   "id": "fa3c958b",
   "metadata": {},
   "outputs": [],
   "source": [
    "from py2neo import Graph, Node, Relationship\n",
    "import csv\n",
    "import re\n",
    "from tqdm import tqdm"
   ]
  },
  {
   "cell_type": "code",
   "execution_count": 2,
   "id": "fa783318",
   "metadata": {},
   "outputs": [],
   "source": [
    "# Kết nối đến Neo4j\n",
    "graph = Graph(\"bolt://localhost:7687\", auth=(\"neo4j\", \"12345678\"))"
   ]
  },
  {
   "cell_type": "code",
   "execution_count": 7,
   "id": "83f16bdb",
   "metadata": {},
   "outputs": [
    {
     "data": {
      "text/html": [
       "(No data)"
      ],
      "text/plain": [
       "(No data)"
      ]
     },
     "execution_count": 7,
     "metadata": {},
     "output_type": "execute_result"
    }
   ],
   "source": [
    "# Optional: xóa toàn bộ dữ liệu cũ\n",
    "graph.run(\"MATCH (n) DETACH DELETE n\")"
   ]
  },
  {
   "cell_type": "code",
   "execution_count": 8,
   "id": "9207c841",
   "metadata": {},
   "outputs": [
    {
     "name": "stderr",
     "output_type": "stream",
     "text": [
      " 59%|██████████████████████████████████████████████▌                                | 971/1649 [00:17<00:10, 65.65it/s]"
     ]
    },
    {
     "name": "stdout",
     "output_type": "stream",
     "text": [
      "❌ Lỗi tại dòng 967: list index out of range\n",
      "   ↳ person -[COLOR]-> umbrella\n",
      "   ↳ Caption: A person holding a rainbow colored umbrella on a city street.\n",
      "\n"
     ]
    },
    {
     "name": "stderr",
     "output_type": "stream",
     "text": [
      " 60%|███████████████████████████████████████████████▏                               | 984/1649 [00:18<00:14, 44.61it/s]"
     ]
    },
    {
     "name": "stdout",
     "output_type": "stream",
     "text": [
      "❌ Lỗi tại dòng 974: list index out of range\n",
      "   ↳ person -[DRINK]-> bottle\n",
      "   ↳ Caption: A person with a cool tie drinks a bottle of water.\n",
      "\n"
     ]
    },
    {
     "name": "stderr",
     "output_type": "stream",
     "text": [
      " 62%|████████████████████████████████████████████████▏                             | 1018/1649 [00:18<00:13, 47.76it/s]"
     ]
    },
    {
     "name": "stdout",
     "output_type": "stream",
     "text": [
      "❌ Lỗi tại dòng 1010: list index out of range\n",
      "   ↳ person -[WIH]-> dog\n",
      "   ↳ Caption: a person in a field wih a dog with a frisbee\n",
      "\n"
     ]
    },
    {
     "name": "stderr",
     "output_type": "stream",
     "text": [
      " 67%|███████████████████████████████████████████████████▉                          | 1098/1649 [00:20<00:11, 49.38it/s]"
     ]
    },
    {
     "name": "stdout",
     "output_type": "stream",
     "text": [
      "❌ Lỗi tại dòng 1094: list index out of range\n",
      "   ↳ person -[FIX]-> skis\n",
      "   ↳ Caption: A person helping another person fix their skis. \n",
      "\n"
     ]
    },
    {
     "name": "stderr",
     "output_type": "stream",
     "text": [
      " 69%|█████████████████████████████████████████████████████▋                        | 1136/1649 [00:21<00:11, 43.74it/s]"
     ]
    },
    {
     "name": "stdout",
     "output_type": "stream",
     "text": [
      "❌ Lỗi tại dòng 1129: list index out of range\n",
      "   ↳ person -[SEE]-> dog\n",
      "   ↳ Caption: While looking in the rear view mirror this person saw their dog with his head out the window.\n",
      "\n"
     ]
    },
    {
     "name": "stderr",
     "output_type": "stream",
     "text": [
      " 73%|█████████████████████████████████████████████████████████▏                    | 1210/1649 [00:22<00:10, 41.19it/s]"
     ]
    },
    {
     "name": "stdout",
     "output_type": "stream",
     "text": [
      "❌ Lỗi tại dòng 1207: list index out of range\n",
      "   ↳ person -[PREPARE]-> horse\n",
      "   ↳ Caption: A person is preparing a horse for a show.\n",
      "\n"
     ]
    },
    {
     "name": "stderr",
     "output_type": "stream",
     "text": [
      " 78%|████████████████████████████████████████████████████████████▍                 | 1278/1649 [00:24<00:07, 49.35it/s]"
     ]
    },
    {
     "name": "stdout",
     "output_type": "stream",
     "text": [
      "❌ Lỗi tại dòng 1268: list index out of range\n",
      "   ↳ person -[PREPARE]-> sandwich\n",
      "   ↳ Caption: A knife wielding person prepares a meat and cheese sandwich.\n",
      "\n"
     ]
    },
    {
     "name": "stderr",
     "output_type": "stream",
     "text": [
      " 78%|█████████████████████████████████████████████████████████████                 | 1292/1649 [00:24<00:07, 49.19it/s]"
     ]
    },
    {
     "name": "stdout",
     "output_type": "stream",
     "text": [
      "❌ Lỗi tại dòng 1284: list index out of range\n",
      "   ↳ person -[PEEL]-> banana\n",
      "   ↳ Caption: A person wearing lots of jewelry is peeling a banana.\n",
      "\n"
     ]
    },
    {
     "name": "stderr",
     "output_type": "stream",
     "text": [
      " 80%|██████████████████████████████████████████████████████████████▋               | 1326/1649 [00:25<00:07, 45.99it/s]"
     ]
    },
    {
     "name": "stdout",
     "output_type": "stream",
     "text": [
      "❌ Lỗi tại dòng 1320: list index out of range\n",
      "   ↳ person -[PIERCE]-> apple\n",
      "   ↳ Caption: A person is piercing an apple with a small, sharp knife.\n",
      "\n",
      "❌ Lỗi tại dòng 1323: list index out of range\n",
      "   ↳ person -[PEEL]-> banana\n",
      "   ↳ Caption: A person is peeling a banana beside a glass of milk. \n",
      "\n",
      "❌ Lỗi tại dòng 1324: list index out of range\n",
      "   ↳ person -[PEEL]-> banana\n",
      "   ↳ Caption: The person is peeling their banana to eat with milk.\n",
      "\n",
      "❌ Lỗi tại dòng 1326: list index out of range\n",
      "   ↳ person -[PLACE]-> carrot\n",
      "   ↳ Caption: A person is placing a carrot next to the small snowman. \n",
      "\n"
     ]
    },
    {
     "name": "stderr",
     "output_type": "stream",
     "text": [
      " 85%|██████████████████████████████████████████████████████████████████▎           | 1403/1649 [00:26<00:04, 54.76it/s]"
     ]
    },
    {
     "name": "stdout",
     "output_type": "stream",
     "text": [
      "❌ Lỗi tại dòng 1394: list index out of range\n",
      "   ↳ person -[OLLIE]-> skateboard\n",
      "   ↳ Caption: A young person ollies his skateboard in black and white.\n",
      "\n"
     ]
    },
    {
     "name": "stderr",
     "output_type": "stream",
     "text": [
      " 91%|███████████████████████████████████████████████████████████████████████       | 1502/1649 [00:28<00:03, 42.38it/s]"
     ]
    },
    {
     "name": "stdout",
     "output_type": "stream",
     "text": [
      "❌ Lỗi tại dòng 1492: list index out of range\n",
      "   ↳ person -[RID]-> surfboard\n",
      "   ↳ Caption: A person approaching the beach ridding a surfboard on a small wave.\n",
      "\n"
     ]
    },
    {
     "name": "stderr",
     "output_type": "stream",
     "text": [
      "100%|██████████████████████████████████████████████████████████████████████████████| 1649/1649 [00:31<00:00, 53.17it/s]"
     ]
    },
    {
     "name": "stdout",
     "output_type": "stream",
     "text": [
      "✅ Hoàn tất insert từng dòng. Số lỗi: 14\n"
     ]
    },
    {
     "name": "stderr",
     "output_type": "stream",
     "text": [
      "\n"
     ]
    }
   ],
   "source": [
    "error_count = 0\n",
    "CSV_FILE = \"coco_kg_triplets.csv\"\n",
    "\n",
    "with open(CSV_FILE, \"r\", encoding=\"utf-8\") as f:\n",
    "    reader = list(csv.DictReader(f))\n",
    "\n",
    "for i, row in tqdm(enumerate(reader), total=len(reader)):\n",
    "    try:\n",
    "        subj = row[\"subject\"].strip().lower()\n",
    "        rel = row[\"relation\"].strip().lower()\n",
    "        obj = row[\"object\"].strip().lower()\n",
    "        img_id = row[\"image_id\"]\n",
    "        caption = row[\"caption\"]\n",
    "\n",
    "        rel_type = re.sub(r\"[^a-zA-Z0-9]\", \"_\", rel.upper())\n",
    "        if not rel_type or rel_type.isdigit():\n",
    "            continue\n",
    "\n",
    "        subj_node = Node(\"Entity\", name=subj)\n",
    "        obj_node = Node(\"Entity\", name=obj)\n",
    "\n",
    "        graph.merge(subj_node, \"Entity\", \"name\")\n",
    "        graph.merge(obj_node, \"Entity\", \"name\")\n",
    "\n",
    "        rel_obj = Relationship(subj_node, rel_type, obj_node)\n",
    "        rel_obj[\"image_id\"] = img_id\n",
    "        rel_obj[\"caption\"] = caption\n",
    "\n",
    "        graph.create(rel_obj)\n",
    "\n",
    "    except Exception as e:\n",
    "        error_count += 1\n",
    "        print(f\"❌ Lỗi tại dòng {i}: {e}\")\n",
    "        print(f\"   ↳ {subj} -[{rel_type}]-> {obj}\")\n",
    "        print(f\"   ↳ Caption: {caption}\\n\")\n",
    "\n",
    "print(f\"✅ Hoàn tất insert từng dòng. Số lỗi: {error_count}\")"
   ]
  },
  {
   "cell_type": "code",
   "execution_count": null,
   "id": "40414546",
   "metadata": {},
   "outputs": [],
   "source": []
  }
 ],
 "metadata": {
  "kernelspec": {
   "display_name": "Python 3 (ipykernel)",
   "language": "python",
   "name": "python3"
  },
  "language_info": {
   "codemirror_mode": {
    "name": "ipython",
    "version": 3
   },
   "file_extension": ".py",
   "mimetype": "text/x-python",
   "name": "python",
   "nbconvert_exporter": "python",
   "pygments_lexer": "ipython3",
   "version": "3.8.20"
  }
 },
 "nbformat": 4,
 "nbformat_minor": 5
}
