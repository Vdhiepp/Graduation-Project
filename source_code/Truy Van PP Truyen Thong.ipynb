{
 "cells": [
  {
   "cell_type": "code",
   "execution_count": 1,
   "id": "53806b5d",
   "metadata": {},
   "outputs": [],
   "source": [
    "import json\n",
    "import pandas as pd\n",
    "from sklearn.feature_extraction.text import TfidfVectorizer\n",
    "from sklearn.metrics.pairwise import cosine_similarity\n",
    "\n",
    "# === 1. Load dữ liệu từ file JSON ===\n",
    "with open(\"E:/Download/annotations/captions_val2017.json\", 'r') as f:\n",
    "    coco_data = json.load(f)\n",
    "\n",
    "# === 2. Tạo DataFrame từ annotations ===\n",
    "annotations = coco_data['annotations']\n",
    "df = pd.DataFrame(annotations)\n",
    "df['image_id'] = df['image_id'].astype(str)\n",
    "df['image_file'] = df['image_id'].apply(lambda x: f\"{x.zfill(12)}.jpg\")\n",
    "\n",
    "# === 3. Chọn caption đầu tiên cho mỗi ảnh (để tránh trùng) ===\n",
    "df_unique = df.groupby('image_id').first().reset_index()\n",
    "\n",
    "# === 4. TF-IDF vectorization ===\n",
    "vectorizer = TfidfVectorizer(stop_words='english')\n",
    "tfidf_matrix = vectorizer.fit_transform(df_unique['caption'])"
   ]
  },
  {
   "cell_type": "code",
   "execution_count": 2,
   "id": "0ef4d89f",
   "metadata": {},
   "outputs": [
    {
     "name": "stdout",
     "output_type": "stream",
     "text": [
      "Top kết quả truy vấn:\n",
      "- 000000382111.jpg | Caption: A man riding on the back of a brown horse. | Score: 0.8222\n",
      "- 000000023034.jpg | Caption: A man riding on the back of a brown horse. | Score: 0.8222\n",
      "- 000000183675.jpg | Caption: A man is riding a horse in an open field. | Score: 0.7352\n",
      "- 000000492282.jpg | Caption: A man who is riding a horse down a brick street. | Score: 0.6923\n",
      "- 000000454798.jpg | Caption: there is a young boy that is riding a horse | Score: 0.6335\n"
     ]
    }
   ],
   "source": [
    "# === 5. Truy vấn người dùng ===\n",
    "query = \"man riding horse\"\n",
    "query_vec = vectorizer.transform([query])\n",
    "\n",
    "# === 6. Tính độ tương đồng cosine ===\n",
    "similarities = cosine_similarity(query_vec, tfidf_matrix).flatten()\n",
    "\n",
    "# === 7. Trả về top-K ảnh phù hợp ===\n",
    "top_k = 5\n",
    "top_indices = similarities.argsort()[::-1][:top_k]\n",
    "print(\"Top kết quả truy vấn:\")\n",
    "for idx in top_indices:\n",
    "    print(f\"- {df_unique.iloc[idx]['image_file']} | Caption: {df_unique.iloc[idx]['caption']} | Score: {similarities[idx]:.4f}\")"
   ]
  },
  {
   "cell_type": "code",
   "execution_count": 4,
   "id": "3b1bf859",
   "metadata": {},
   "outputs": [
    {
     "name": "stdout",
     "output_type": "stream",
     "text": [
      "Top kết quả truy vấn:\n",
      "- 000000050380.jpg | Caption: A  man guiding a pony with a boy riding on it. | Score: 0.6792\n",
      "- 000000546823.jpg | Caption: a small pony a with two smaller ponies standing in front of it | Score: 0.4480\n",
      "- 000000546976.jpg | Caption: A man riding on the back of a motorcycle. | Score: 0.3849\n",
      "- 000000396863.jpg | Caption: The young girl wearing red and black rides atop the white pony. | Score: 0.3795\n",
      "- 000000348243.jpg | Caption: A chubby black pony in a pasture looking ahead. | Score: 0.3757\n"
     ]
    }
   ],
   "source": [
    "# === 5. Truy vấn người dùng ===\n",
    "query = \"A man is riding a pony\"\n",
    "query_vec = vectorizer.transform([query])\n",
    "\n",
    "# === 6. Tính độ tương đồng cosine ===\n",
    "similarities = cosine_similarity(query_vec, tfidf_matrix).flatten()\n",
    "\n",
    "# === 7. Trả về top-K ảnh phù hợp ===\n",
    "top_k = 5\n",
    "top_indices = similarities.argsort()[::-1][:top_k]\n",
    "print(\"Top kết quả truy vấn:\")\n",
    "for idx in top_indices:\n",
    "    print(f\"- {df_unique.iloc[idx]['image_file']} | Caption: {df_unique.iloc[idx]['caption']} | Score: {similarities[idx]:.4f}\")"
   ]
  },
  {
   "cell_type": "code",
   "execution_count": null,
   "id": "dd66e2a4",
   "metadata": {},
   "outputs": [],
   "source": []
  }
 ],
 "metadata": {
  "kernelspec": {
   "display_name": "Python 3 (ipykernel)",
   "language": "python",
   "name": "python3"
  },
  "language_info": {
   "codemirror_mode": {
    "name": "ipython",
    "version": 3
   },
   "file_extension": ".py",
   "mimetype": "text/x-python",
   "name": "python",
   "nbconvert_exporter": "python",
   "pygments_lexer": "ipython3",
   "version": "3.8.20"
  }
 },
 "nbformat": 4,
 "nbformat_minor": 5
}
