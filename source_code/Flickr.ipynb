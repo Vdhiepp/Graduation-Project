{
 "cells": [
  {
   "cell_type": "code",
   "execution_count": 1,
   "id": "4b095fa3",
   "metadata": {},
   "outputs": [
    {
     "name": "stderr",
     "output_type": "stream",
     "text": [
      "100%|████████████████████████████████████████████████████████████████████████████| 31783/31783 [36:15<00:00, 14.61it/s]"
     ]
    },
    {
     "name": "stdout",
     "output_type": "stream",
     "text": [
      "✅ Đã trích xuất 47147 triplet từ folder 'Sentences/' vào flickr_triplets.csv\n"
     ]
    },
    {
     "name": "stderr",
     "output_type": "stream",
     "text": [
      "\n"
     ]
    }
   ],
   "source": [
    "import os\n",
    "import csv\n",
    "import spacy\n",
    "from tqdm import tqdm\n",
    "\n",
    "# Khởi tạo NLP parser\n",
    "nlp = spacy.load(\"en_core_web_sm\")\n",
    "\n",
    "# Thư mục chứa caption (Sentences/)\n",
    "sentences_dir = \"E:/Download/Flickr30k/Sentences/\"\n",
    "\n",
    "# Danh sách triplet sẽ lưu\n",
    "triplets = []\n",
    "\n",
    "# Hàm đơn giản trích (subject, predicate, object)\n",
    "def extract_triplet(text):\n",
    "    doc = nlp(text)\n",
    "    for sent in doc.sents:\n",
    "        for token in sent:\n",
    "            if token.pos_ == \"VERB\":\n",
    "                subj = [w for w in token.lefts if w.dep_ in [\"nsubj\", \"nsubjpass\"]]\n",
    "                obj = [w for w in token.rights if w.dep_ in [\"dobj\", \"pobj\"]]\n",
    "                if subj and obj:\n",
    "                    return (subj[0].text.lower(), token.lemma_.lower(), obj[0].text.lower())\n",
    "    return None\n",
    "\n",
    "# Duyệt qua từng file caption\n",
    "file_names = [f for f in os.listdir(sentences_dir) if f.endswith(\".txt\")]\n",
    "\n",
    "for file_name in tqdm(file_names):\n",
    "    image_id = file_name.replace(\".jpg.txt\", \"\")  # tên ảnh\n",
    "    with open(os.path.join(sentences_dir, file_name), \"r\", encoding=\"utf-8\") as f:\n",
    "        lines = f.readlines()\n",
    "        for line in lines:\n",
    "            line = line.strip()\n",
    "            triplet = extract_triplet(line)\n",
    "            if triplet:\n",
    "                triplets.append((*triplet, image_id))\n",
    "\n",
    "# Ghi ra file CSV\n",
    "with open(\"flickr_triplets.csv\", \"w\", newline='', encoding=\"utf-8\") as f:\n",
    "    writer = csv.writer(f)\n",
    "    writer.writerow([\"subject\", \"predicate\", \"object\", \"image_id\"])\n",
    "    writer.writerows(triplets)\n",
    "\n",
    "print(f\"✅ Đã trích xuất {len(triplets)} triplet từ folder 'Sentences/' vào flickr_triplets.csv\")\n"
   ]
  },
  {
   "cell_type": "code",
   "execution_count": null,
   "id": "e556b24e",
   "metadata": {},
   "outputs": [],
   "source": []
  }
 ],
 "metadata": {
  "kernelspec": {
   "display_name": "Python 3 (ipykernel)",
   "language": "python",
   "name": "python3"
  },
  "language_info": {
   "codemirror_mode": {
    "name": "ipython",
    "version": 3
   },
   "file_extension": ".py",
   "mimetype": "text/x-python",
   "name": "python",
   "nbconvert_exporter": "python",
   "pygments_lexer": "ipython3",
   "version": "3.8.20"
  }
 },
 "nbformat": 4,
 "nbformat_minor": 5
}
